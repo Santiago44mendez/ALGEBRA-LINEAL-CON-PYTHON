{
  "nbformat": 4,
  "nbformat_minor": 0,
  "metadata": {
    "colab": {
      "name": "Álgebra lineal con Python- Operaciones con matrices.ipynb",
      "provenance": [],
      "collapsed_sections": [],
      "include_colab_link": true
    },
    "kernelspec": {
      "display_name": "Python 3",
      "name": "python3"
    }
  },
  "cells": [
    {
      "cell_type": "markdown",
      "metadata": {
        "id": "view-in-github",
        "colab_type": "text"
      },
      "source": [
        "<a href=\"https://colab.research.google.com/github/josorio398/ALGEBRA-LINEAL-CON-PYTHON/blob/master/%C3%81lgebra_lineal_con_Python_Operaciones_con_matrices.ipynb\" target=\"_parent\"><img src=\"https://colab.research.google.com/assets/colab-badge.svg\" alt=\"Open In Colab\"/></a>"
      ]
    },
    {
      "cell_type": "markdown",
      "metadata": {
        "id": "RVxHpsbcExUD"
      },
      "source": [
        "<p><img alt=\"logo.fua\" height=\"100px\" src=\"https://github.com/josorio398/ALGEBRA-LINEAL-CON-PYTHON/blob/master/im%C3%A1genes%20repositorio/Logo%20UAm%C3%A9rica%20nuevo%202021.ai_page-0005.jpg?raw=true\" align=\"left\" hspace=\"0px\" vspace=\"0px\"></p>\n",
        "\n",
        "<p><img alt=\"logo.fua\" height=\"26px\" src=\"https://mirrors.creativecommons.org/presskit/buttons/88x31/svg/by-nd.svg\" align=\"right\" hspace=\"0px\" vspace=\"11px\"></p>\n",
        "\n",
        "\n",
        "<center> <font size=\"6\"><b>CALCULO INTEGRAL CON PYTHON &nbsp; &nbsp; &nbsp;&nbsp;</b><center><I>Jhonny Osorio Gallego</I> &nbsp; &nbsp;&nbsp; &nbsp;&nbsp;&nbsp;&nbsp; &nbsp; &nbsp;&nbsp; &nbsp;<p></font></center> "
      ]
    },
    {
      "cell_type": "markdown",
      "metadata": {
        "id": "StPcFiQlYfrM"
      },
      "source": [
        "#   **PROPIEDADES DE LAS OPERACIONES CON MATRICES Y PROBLEMAS DE APLICACIÓN**\n",
        "\n",
        "##  **Instalación librería PlotLinearAlgebra**\n",
        "La librería **PlotLinearAlgebra** fue creada para la visualización bidimensional y tridimensional de objetos geométricos abordados en un curso de álgebra lineal, apoyado desde el lenguaje de programación Python, en particular con el uso de la librería de cálculo simbólico SymPy.[PlotLinearAlgebra](https://pypi.org/project/PlotLinearAlgebra/)"
      ]
    },
    {
      "cell_type": "code",
      "metadata": {
        "id": "6JRJgBgMmhtj"
      },
      "source": [
        "pip install PlotLinearAlgebra"
      ],
      "execution_count": null,
      "outputs": []
    },
    {
      "cell_type": "markdown",
      "metadata": {
        "id": "LBsUKbFnm62J"
      },
      "source": [
        "##  **Importación de los módulos de graficación plot2d y plot3d**\n",
        "\n",
        "El módulo **plot2d** permite graficar : puntos, rectas y vectores en el espacio bidimensional, contiene la función plot2D, el módulo **plot3d** permite graficar : puntos, rectas, vectores y planos en el espacio tridimensional, contiene la función plot3D.\n",
        "\n"
      ]
    },
    {
      "cell_type": "code",
      "metadata": {
        "id": "dyWsf3ZNnoa0"
      },
      "source": [
        "from PlotLinearAlgebra.plot2d import *\n",
        "from PlotLinearAlgebra.plot3d import *"
      ],
      "execution_count": null,
      "outputs": []
    },
    {
      "cell_type": "markdown",
      "metadata": {
        "id": "U515Q-sM2m9k"
      },
      "source": [
        "##  **Importamos librería simbólica SymPy**\n",
        "**SymPy** es una biblioteca de Python para matemáticas simbólicas. Su objetivo es convertirse en un sistema de álgebra computacional (CAS) con todas las funciones, manteniendo el código lo más simple posible para que sea comprensible y fácilmente extensible. SymPy está escrito completamente en Python.[sympy.org](https://www.sympy.org/en/index.html)"
      ]
    },
    {
      "cell_type": "code",
      "metadata": {
        "id": "4wHJ9dZ3405h"
      },
      "source": [
        "from sympy import *\n",
        "init_printing()\n",
        "x,y,z,w = symbols(\"x y z w \")\n",
        "a,b,c,A,B,C = symbols(\"a b c A B C \")"
      ],
      "execution_count": 5,
      "outputs": []
    },
    {
      "cell_type": "markdown",
      "metadata": {
        "id": "7W2a1nKcMwME"
      },
      "source": [
        "#  **DEFINICIÓN DE MATRICES EN PYTHON**\n",
        "\n",
        "Define la siguente matriz en el módulo **SymPy**:\n",
        "\n",
        "$$A=\\begin{bmatrix}\n",
        "5 & 4 & 6 & 7 \\\\\n",
        "3 & 5 & 8 & 9 \\\\\n",
        "1 & 5 & 1 & 3 \\\\\n",
        "\\end{bmatrix}$$"
      ]
    },
    {
      "cell_type": "markdown",
      "metadata": {
        "id": "DJ9HtXdzOPAT"
      },
      "source": [
        "###  **Forma 1:**\n",
        "\n",
        "Se pude definir usando la función **Matrix()**, ingresando como argumento  la matriz como una lista de listas, con la siguiente sintaxis: \n",
        "\n",
        "<center><font size=4><strong><strong>Matrix( [ [F1],[F2],...[Fn-1],[Fn] ] )</strong></span></center>"
      ]
    },
    {
      "cell_type": "code",
      "metadata": {
        "colab": {
          "base_uri": "https://localhost:8080/",
          "height": 78
        },
        "id": "FEniaiZiOON8",
        "outputId": "6604c72e-61b9-4dcc-b286-07aa47ab06d7"
      },
      "source": [
        "A = Matrix([[5,4,6,7],[3,5,8,9],[1,5,1,3]])\n",
        "A"
      ],
      "execution_count": null,
      "outputs": [
        {
          "output_type": "execute_result",
          "data": {
            "text/latex": "$\\displaystyle \\left[\\begin{matrix}5 & 4 & 6 & 7\\\\3 & 5 & 8 & 9\\\\1 & 5 & 1 & 3\\end{matrix}\\right]$",
            "text/plain": [
              "⎡5  4  6  7⎤\n",
              "⎢          ⎥\n",
              "⎢3  5  8  9⎥\n",
              "⎢          ⎥\n",
              "⎣1  5  1  3⎦"
            ]
          },
          "metadata": {},
          "execution_count": 8
        }
      ]
    },
    {
      "cell_type": "markdown",
      "metadata": {
        "id": "HDepGi8sOku4"
      },
      "source": [
        "###  **Forma 2:** \n",
        "\n",
        "Se pude definir con la función **Matrix()**, usando como argumento el tamaño de la matriz y una lista con  las entradas de la matriz, con la siguiente sintaxis: \n",
        "\n",
        "\n",
        "<center><font size=4><span style=\"font-size: large;\"><strong>Matrix( m, n, [a11,a12,...,amn])</strong></span></center>\n",
        "\n",
        "\n",
        "Donde **m** es el número de filas de la matriz y **n** es el número de columnas."
      ]
    },
    {
      "cell_type": "code",
      "metadata": {
        "colab": {
          "base_uri": "https://localhost:8080/",
          "height": 78
        },
        "id": "hDHRrXx1Mvn1",
        "outputId": "e8da74ea-7cdb-4815-c941-8f040b4f3b08"
      },
      "source": [
        "A = Matrix(3,4, [5,4,6,7,3,5,8,9,1,5,1,3])\n",
        "A"
      ],
      "execution_count": null,
      "outputs": [
        {
          "output_type": "execute_result",
          "data": {
            "text/latex": "$\\displaystyle \\left[\\begin{matrix}5 & 4 & 6 & 7\\\\3 & 5 & 8 & 9\\\\1 & 5 & 1 & 3\\end{matrix}\\right]$",
            "text/plain": [
              "⎡5  4  6  7⎤\n",
              "⎢          ⎥\n",
              "⎢3  5  8  9⎥\n",
              "⎢          ⎥\n",
              "⎣1  5  1  3⎦"
            ]
          },
          "metadata": {},
          "execution_count": 43
        }
      ]
    },
    {
      "cell_type": "markdown",
      "metadata": {
        "id": "jHlzvvH5PEKE"
      },
      "source": [
        "#  **TIPOS DE MATRICES**\n",
        "\n",
        "##  **Matriz rectangular:** \n",
        "Es una matriz que tiene distinto número de filas que de columnas.\n",
        "\n",
        "###  **Forma 1:** "
      ]
    },
    {
      "cell_type": "code",
      "metadata": {
        "colab": {
          "base_uri": "https://localhost:8080/",
          "height": 98
        },
        "id": "5flhY39fPphg",
        "outputId": "a112cb60-1f79-4ba0-f12c-a6833a472682"
      },
      "source": [
        "A = Matrix([[3,4,5],[5,6,7],[3,4,5], [2,3,4]])\n",
        "A"
      ],
      "execution_count": null,
      "outputs": [
        {
          "data": {
            "text/latex": "$\\displaystyle \\left[\\begin{matrix}3 & 4 & 5\\\\5 & 6 & 7\\\\3 & 4 & 5\\\\2 & 3 & 4\\end{matrix}\\right]$",
            "text/plain": [
              "⎡3  4  5⎤\n",
              "⎢       ⎥\n",
              "⎢5  6  7⎥\n",
              "⎢       ⎥\n",
              "⎢3  4  5⎥\n",
              "⎢       ⎥\n",
              "⎣2  3  4⎦"
            ]
          },
          "execution_count": 3,
          "metadata": {},
          "output_type": "execute_result"
        }
      ]
    },
    {
      "cell_type": "markdown",
      "metadata": {
        "id": "O_Bgdtu1QFUA"
      },
      "source": [
        "### **Forma 2:**  *rectangular aleatoria*\n",
        "\n",
        "\n"
      ]
    },
    {
      "cell_type": "code",
      "metadata": {
        "colab": {
          "base_uri": "https://localhost:8080/",
          "height": 57
        },
        "id": "oVYFvhogiC2e",
        "outputId": "22058cce-cb4b-4251-91a9-2b5047146999"
      },
      "source": [
        "A = randMatrix(2,3,min=-5, max=5)\n",
        "A"
      ],
      "execution_count": null,
      "outputs": [
        {
          "data": {
            "text/latex": "$\\displaystyle \\left[\\begin{matrix}-5 & -1 & -5\\\\-3 & -4 & -4\\end{matrix}\\right]$",
            "text/plain": [
              "⎡-5  -1  -5⎤\n",
              "⎢          ⎥\n",
              "⎣-3  -4  -4⎦"
            ]
          },
          "execution_count": 19,
          "metadata": {},
          "output_type": "execute_result"
        }
      ]
    },
    {
      "cell_type": "markdown",
      "metadata": {
        "id": "hEWlUHz1QL1R"
      },
      "source": [
        "##  **Matriz cuadrada:** \n",
        "Es una matriz que tiene igual número de filas que de columnas.\n",
        "\n",
        "###  **Forma 1:** "
      ]
    },
    {
      "cell_type": "code",
      "metadata": {
        "colab": {
          "base_uri": "https://localhost:8080/",
          "height": 78
        },
        "id": "ell15niJQjP5",
        "outputId": "b8e404aa-674b-4b99-8490-8bb16b00345d"
      },
      "source": [
        "A = Matrix([[3,4,4],[5,6,7],[3,4,5]])\n",
        "A"
      ],
      "execution_count": null,
      "outputs": [
        {
          "data": {
            "text/latex": "$\\displaystyle \\left[\\begin{matrix}3 & 4 & 4\\\\5 & 6 & 7\\\\3 & 4 & 5\\end{matrix}\\right]$",
            "text/plain": [
              "⎡3  4  4⎤\n",
              "⎢       ⎥\n",
              "⎢5  6  7⎥\n",
              "⎢       ⎥\n",
              "⎣3  4  5⎦"
            ]
          },
          "execution_count": 20,
          "metadata": {},
          "output_type": "execute_result"
        }
      ]
    },
    {
      "cell_type": "code",
      "metadata": {
        "colab": {
          "base_uri": "https://localhost:8080/",
          "height": 78
        },
        "id": "4VDtshIfKvOW",
        "outputId": "de550cdc-92b7-489f-aa79-25589445b3f4"
      },
      "source": [
        "A = Matrix(3,3,[3,4,4,5,6,7,3,4,5])\n",
        "A"
      ],
      "execution_count": null,
      "outputs": [
        {
          "data": {
            "text/latex": "$\\displaystyle \\left[\\begin{matrix}3 & 4 & 4\\\\5 & 6 & 7\\\\3 & 4 & 5\\end{matrix}\\right]$",
            "text/plain": [
              "⎡3  4  4⎤\n",
              "⎢       ⎥\n",
              "⎢5  6  7⎥\n",
              "⎢       ⎥\n",
              "⎣3  4  5⎦"
            ]
          },
          "execution_count": 123,
          "metadata": {},
          "output_type": "execute_result"
        }
      ]
    },
    {
      "cell_type": "markdown",
      "metadata": {
        "id": "H4gj24YQR6vQ"
      },
      "source": [
        "### **Forma 2:**  *cuadrada aleatoria*"
      ]
    },
    {
      "cell_type": "code",
      "metadata": {
        "colab": {
          "base_uri": "https://localhost:8080/",
          "height": 78
        },
        "id": "oy2ZHLaxi9Vf",
        "outputId": "ebf1eda3-69a4-40d3-df44-c6237a386ac9"
      },
      "source": [
        "A = randMatrix(3,min=-5, max=5)\n",
        "A"
      ],
      "execution_count": null,
      "outputs": [
        {
          "data": {
            "text/latex": "$\\displaystyle \\left[\\begin{matrix}-1 & 0 & 0\\\\4 & 3 & -3\\\\-5 & 4 & -3\\end{matrix}\\right]$",
            "text/plain": [
              "⎡-1  0  0 ⎤\n",
              "⎢         ⎥\n",
              "⎢4   3  -3⎥\n",
              "⎢         ⎥\n",
              "⎣-5  4  -3⎦"
            ]
          },
          "execution_count": 22,
          "metadata": {},
          "output_type": "execute_result"
        }
      ]
    },
    {
      "cell_type": "markdown",
      "metadata": {
        "id": "ZObd6LcWQL_3"
      },
      "source": [
        "##  **Matriz nula:** \n",
        "Es una matriz con todos sus entradas iguales a cero."
      ]
    },
    {
      "cell_type": "code",
      "metadata": {
        "colab": {
          "base_uri": "https://localhost:8080/",
          "height": 78
        },
        "id": "jEMD1iPtU05y",
        "outputId": "9b1b8e5d-a85c-422b-a3c7-43a0831aba9d"
      },
      "source": [
        "A = zeros(3,4)\n",
        "A"
      ],
      "execution_count": null,
      "outputs": [
        {
          "data": {
            "text/latex": "$\\displaystyle \\left[\\begin{matrix}0 & 0 & 0 & 0\\\\0 & 0 & 0 & 0\\\\0 & 0 & 0 & 0\\end{matrix}\\right]$",
            "text/plain": [
              "⎡0  0  0  0⎤\n",
              "⎢          ⎥\n",
              "⎢0  0  0  0⎥\n",
              "⎢          ⎥\n",
              "⎣0  0  0  0⎦"
            ]
          },
          "execution_count": 23,
          "metadata": {},
          "output_type": "execute_result"
        }
      ]
    },
    {
      "cell_type": "code",
      "metadata": {
        "colab": {
          "base_uri": "https://localhost:8080/",
          "height": 98
        },
        "id": "pWFkZ6QDT-xJ",
        "outputId": "696a7e47-7b9c-40a6-cd36-0b748eb4c672"
      },
      "source": [
        "A = zeros(4)\n",
        "A"
      ],
      "execution_count": null,
      "outputs": [
        {
          "data": {
            "text/latex": "$\\displaystyle \\left[\\begin{matrix}0 & 0 & 0 & 0\\\\0 & 0 & 0 & 0\\\\0 & 0 & 0 & 0\\\\0 & 0 & 0 & 0\\end{matrix}\\right]$",
            "text/plain": [
              "⎡0  0  0  0⎤\n",
              "⎢          ⎥\n",
              "⎢0  0  0  0⎥\n",
              "⎢          ⎥\n",
              "⎢0  0  0  0⎥\n",
              "⎢          ⎥\n",
              "⎣0  0  0  0⎦"
            ]
          },
          "execution_count": 24,
          "metadata": {},
          "output_type": "execute_result"
        }
      ]
    },
    {
      "cell_type": "markdown",
      "metadata": {
        "id": "pL77o-QrVAgO"
      },
      "source": [
        "##  **Matriz identidad:** \n",
        "Es una matriz cuadrada que cumple la propiedad de ser el elemento neutro del producto de matrices, su diagonal principal tiene entrada uno y las demas entradas cero."
      ]
    },
    {
      "cell_type": "code",
      "metadata": {
        "colab": {
          "base_uri": "https://localhost:8080/",
          "height": 98
        },
        "id": "ZUKA6df8VpQ1",
        "outputId": "95256bbb-bf41-47d8-acbf-6f52f356254c"
      },
      "source": [
        "A= eye(4)\n",
        "A"
      ],
      "execution_count": null,
      "outputs": [
        {
          "data": {
            "text/latex": "$\\displaystyle \\left[\\begin{matrix}1 & 0 & 0 & 0\\\\0 & 1 & 0 & 0\\\\0 & 0 & 1 & 0\\\\0 & 0 & 0 & 1\\end{matrix}\\right]$",
            "text/plain": [
              "⎡1  0  0  0⎤\n",
              "⎢          ⎥\n",
              "⎢0  1  0  0⎥\n",
              "⎢          ⎥\n",
              "⎢0  0  1  0⎥\n",
              "⎢          ⎥\n",
              "⎣0  0  0  1⎦"
            ]
          },
          "execution_count": 25,
          "metadata": {},
          "output_type": "execute_result"
        }
      ]
    },
    {
      "cell_type": "markdown",
      "metadata": {
        "id": "SrcTMCw0WDQv"
      },
      "source": [
        "##  **Matriz de unos:** \n",
        "Es una matriz cuyas entradas son todas unos.\n",
        "\n",
        "\n",
        "\n"
      ]
    },
    {
      "cell_type": "code",
      "metadata": {
        "colab": {
          "base_uri": "https://localhost:8080/",
          "height": 78
        },
        "id": "2u6A0apCYg6D",
        "outputId": "84ac98e2-6d3b-4b05-9b1c-930e101589ab"
      },
      "source": [
        "A = ones(3,4)\n",
        "A"
      ],
      "execution_count": null,
      "outputs": [
        {
          "data": {
            "text/latex": "$\\displaystyle \\left[\\begin{matrix}1 & 1 & 1 & 1\\\\1 & 1 & 1 & 1\\\\1 & 1 & 1 & 1\\end{matrix}\\right]$",
            "text/plain": [
              "⎡1  1  1  1⎤\n",
              "⎢          ⎥\n",
              "⎢1  1  1  1⎥\n",
              "⎢          ⎥\n",
              "⎣1  1  1  1⎦"
            ]
          },
          "execution_count": 26,
          "metadata": {},
          "output_type": "execute_result"
        }
      ]
    },
    {
      "cell_type": "code",
      "metadata": {
        "colab": {
          "base_uri": "https://localhost:8080/",
          "height": 78
        },
        "id": "zVO4Lfnkkm_P",
        "outputId": "b6489a19-a55d-47bc-9381-72cd7f6fe94a"
      },
      "source": [
        "A  = ones(3)\n",
        "A"
      ],
      "execution_count": null,
      "outputs": [
        {
          "data": {
            "text/latex": "$\\displaystyle \\left[\\begin{matrix}1 & 1 & 1\\\\1 & 1 & 1\\\\1 & 1 & 1\\end{matrix}\\right]$",
            "text/plain": [
              "⎡1  1  1⎤\n",
              "⎢       ⎥\n",
              "⎢1  1  1⎥\n",
              "⎢       ⎥\n",
              "⎣1  1  1⎦"
            ]
          },
          "execution_count": 27,
          "metadata": {},
          "output_type": "execute_result"
        }
      ]
    },
    {
      "cell_type": "markdown",
      "metadata": {
        "id": "jDuSix7DQiFw"
      },
      "source": [
        "##   **Matriz triangular superior:** \n",
        "Es una matriz cuadrada cuyas entradas por debajo de la diagonal principal son cero."
      ]
    },
    {
      "cell_type": "code",
      "metadata": {
        "colab": {
          "base_uri": "https://localhost:8080/",
          "height": 78
        },
        "id": "YItCbgJEQe2g",
        "outputId": "2663b249-f9e8-49dc-ae03-3b101662ad70"
      },
      "source": [
        "A = Matrix([[3,1,4],[0,6,7],[0,0,5]])\n",
        "A"
      ],
      "execution_count": null,
      "outputs": [
        {
          "data": {
            "text/latex": "$\\displaystyle \\left[\\begin{matrix}3 & 1 & 4\\\\0 & 6 & 7\\\\0 & 0 & 5\\end{matrix}\\right]$",
            "text/plain": [
              "⎡3  1  4⎤\n",
              "⎢       ⎥\n",
              "⎢0  6  7⎥\n",
              "⎢       ⎥\n",
              "⎣0  0  5⎦"
            ]
          },
          "execution_count": 28,
          "metadata": {},
          "output_type": "execute_result"
        }
      ]
    },
    {
      "cell_type": "markdown",
      "metadata": {
        "id": "Tz2alzRMTLmF"
      },
      "source": [
        "##  **Matriz triangular inferior:** \n",
        "Es una matriz cuadrada cuyas entradas por encima de la diagonal principal son cero."
      ]
    },
    {
      "cell_type": "code",
      "metadata": {
        "colab": {
          "base_uri": "https://localhost:8080/",
          "height": 98
        },
        "id": "swzpOMieTX6N",
        "outputId": "648d50a5-ae0a-4a15-b772-2af7e0634097"
      },
      "source": [
        "A = Matrix([[3,0,0,0],[5,6,0,0],[1,2,5,0], [7,-4,1,6]])\n",
        "A"
      ],
      "execution_count": null,
      "outputs": [
        {
          "data": {
            "text/latex": "$\\displaystyle \\left[\\begin{matrix}3 & 0 & 0 & 0\\\\5 & 6 & 0 & 0\\\\1 & 2 & 5 & 0\\\\7 & -4 & 1 & 6\\end{matrix}\\right]$",
            "text/plain": [
              "⎡3  0   0  0⎤\n",
              "⎢           ⎥\n",
              "⎢5  6   0  0⎥\n",
              "⎢           ⎥\n",
              "⎢1  2   5  0⎥\n",
              "⎢           ⎥\n",
              "⎣7  -4  1  6⎦"
            ]
          },
          "execution_count": 29,
          "metadata": {},
          "output_type": "execute_result"
        }
      ]
    },
    {
      "cell_type": "markdown",
      "metadata": {
        "id": "VXgUbUfjaagO"
      },
      "source": [
        "##  **Matriz diagonal:** \n",
        "Es una matriz cuadrada cuyas entradas son todas nulas excepto las de la diagonal principal.\n",
        "\n",
        "### **Forma 1:**\n"
      ]
    },
    {
      "cell_type": "code",
      "metadata": {
        "colab": {
          "base_uri": "https://localhost:8080/",
          "height": 98
        },
        "id": "zOvas8_PbdDo",
        "outputId": "3abf85d1-426d-4151-df45-a75f6bc1bd35"
      },
      "source": [
        "A = Matrix([[3,0,0,0],[0,6,0,0],[0,0,5,0], [0,0,0,4]])\n",
        "A"
      ],
      "execution_count": null,
      "outputs": [
        {
          "data": {
            "text/latex": "$\\displaystyle \\left[\\begin{matrix}3 & 0 & 0 & 0\\\\0 & 6 & 0 & 0\\\\0 & 0 & 5 & 0\\\\0 & 0 & 0 & 4\\end{matrix}\\right]$",
            "text/plain": [
              "⎡3  0  0  0⎤\n",
              "⎢          ⎥\n",
              "⎢0  6  0  0⎥\n",
              "⎢          ⎥\n",
              "⎢0  0  5  0⎥\n",
              "⎢          ⎥\n",
              "⎣0  0  0  4⎦"
            ]
          },
          "execution_count": 30,
          "metadata": {},
          "output_type": "execute_result"
        }
      ]
    },
    {
      "cell_type": "markdown",
      "metadata": {
        "id": "hHRLavtkULhg"
      },
      "source": [
        "###  **Forma 2:** "
      ]
    },
    {
      "cell_type": "code",
      "metadata": {
        "colab": {
          "base_uri": "https://localhost:8080/",
          "height": 98
        },
        "id": "9VsmokOiUOpX",
        "outputId": "9cfe3e80-284f-4f40-ba70-0bbdb5fc106d"
      },
      "source": [
        "A = diag(3,6,5,4)\n",
        "A"
      ],
      "execution_count": null,
      "outputs": [
        {
          "data": {
            "text/latex": "$\\displaystyle \\left[\\begin{matrix}3 & 0 & 0 & 0\\\\0 & 6 & 0 & 0\\\\0 & 0 & 5 & 0\\\\0 & 0 & 0 & 4\\end{matrix}\\right]$",
            "text/plain": [
              "⎡3  0  0  0⎤\n",
              "⎢          ⎥\n",
              "⎢0  6  0  0⎥\n",
              "⎢          ⎥\n",
              "⎢0  0  5  0⎥\n",
              "⎢          ⎥\n",
              "⎣0  0  0  4⎦"
            ]
          },
          "execution_count": 31,
          "metadata": {},
          "output_type": "execute_result"
        }
      ]
    },
    {
      "cell_type": "markdown",
      "metadata": {
        "id": "szI1VZnPXl-G"
      },
      "source": [
        "#  **FUNCIONES Y MÉTODOS SOBRE MATRICES**\n",
        "\n",
        "##  **Tamaño de una matriz**\n",
        "\n",
        "Determina el **tamaño** de la matriz $A$  donde:\n",
        "\n",
        "$$A=\\begin{bmatrix}\n",
        "5 & 4 & 6 & 7 \\\\\n",
        "1 & 5 & 8 & 9 \\\\\n",
        "1 & 5 & 1 & 3 \\\\\n",
        "\\end{bmatrix}$$\n",
        "\n"
      ]
    },
    {
      "cell_type": "code",
      "metadata": {
        "colab": {
          "base_uri": "https://localhost:8080/",
          "height": 78
        },
        "id": "dhGuUrczX1H8",
        "outputId": "2dfdc775-7d7f-474a-aa32-f11988bd50ff"
      },
      "source": [
        "A = Matrix([[5,4,6,7],[1,5,8,9],[1,5,1,3]])\n",
        "A.shape\n",
        "A"
      ],
      "execution_count": null,
      "outputs": [
        {
          "data": {
            "text/latex": "$\\displaystyle \\left[\\begin{matrix}5 & 4 & 6 & 7\\\\1 & 5 & 8 & 9\\\\1 & 5 & 1 & 3\\end{matrix}\\right]$",
            "text/plain": [
              "⎡5  4  6  7⎤\n",
              "⎢          ⎥\n",
              "⎢1  5  8  9⎥\n",
              "⎢          ⎥\n",
              "⎣1  5  1  3⎦"
            ]
          },
          "execution_count": 46,
          "metadata": {},
          "output_type": "execute_result"
        }
      ]
    },
    {
      "cell_type": "markdown",
      "metadata": {
        "id": "dpLV94aZX11g"
      },
      "source": [
        "##  **Indexación de una entrada de la matriz**\n",
        "Extrae la entrada que se encuentra en la **fila 2** y **columna 4** de la matriz $A$  :\n",
        "\n",
        "$$A=\\begin{bmatrix}\n",
        "5 & 4 & 6 & 7 \\\\\n",
        "1 & 5 & 8 & 9 \\\\\n",
        "1 & 5 & 1 & 3 \\\\\n",
        "\\end{bmatrix}$$\n",
        "\n",
        "###  **Forma 1:** "
      ]
    },
    {
      "cell_type": "code",
      "metadata": {
        "colab": {
          "base_uri": "https://localhost:8080/",
          "height": 37
        },
        "id": "45jL-T-7X4dw",
        "outputId": "b20b13d6-0433-48a0-eb2f-3249d7d14b9c"
      },
      "source": [
        "A = Matrix([[5,4,6,7],[1,5,8,9],[1,5,1,3]])\n",
        "A[2,1]"
      ],
      "execution_count": null,
      "outputs": [
        {
          "data": {
            "image/png": "[encoded data removed]",
            "text/latex": "$\\displaystyle 5$",
            "text/plain": [
              "5"
            ]
          },
          "execution_count": 35,
          "metadata": {},
          "output_type": "execute_result"
        }
      ]
    },
    {
      "cell_type": "markdown",
      "metadata": {
        "id": "m55rzn-L7Aj8"
      },
      "source": [
        "###  **Forma 2:** "
      ]
    },
    {
      "cell_type": "code",
      "metadata": {
        "colab": {
          "base_uri": "https://localhost:8080/",
          "height": 37
        },
        "id": "ruGKm5Ut3vep",
        "outputId": "865957ae-d121-4924-cd56-69d163226010"
      },
      "source": [
        "A = Matrix([[5,4,6,7],[1,5,8,9],[1,5,1,3]])\n",
        "A[6]"
      ],
      "execution_count": null,
      "outputs": [
        {
          "data": {
            "image/png": "[encoded data removed]",
            "text/latex": "$\\displaystyle 8$",
            "text/plain": [
              "8"
            ]
          },
          "execution_count": 38,
          "metadata": {},
          "output_type": "execute_result"
        }
      ]
    },
    {
      "cell_type": "markdown",
      "metadata": {
        "id": "_nvHV7_IVcR4"
      },
      "source": [
        "###  **Forma 3:** "
      ]
    },
    {
      "cell_type": "code",
      "metadata": {
        "colab": {
          "base_uri": "https://localhost:8080/",
          "height": 37
        },
        "id": "MWEgg3koVcSX",
        "outputId": "ff56ce62-2164-4989-9011-55fd166192e4"
      },
      "source": [
        "A = Matrix([[5,4,6,7],[1,5,8,9],[1,5,1,3]])\n",
        "A[-7]"
      ],
      "execution_count": null,
      "outputs": [
        {
          "data": {
            "image/png": "[encoded data removed]",
            "text/latex": "$\\displaystyle 5$",
            "text/plain": [
              "5"
            ]
          },
          "execution_count": 41,
          "metadata": {},
          "output_type": "execute_result"
        }
      ]
    },
    {
      "cell_type": "markdown",
      "metadata": {
        "id": "nE7H3W8zYGSF"
      },
      "source": [
        "##  **Indexación de una columna de la matriz**\n",
        "Extrae la **columna 2** de la matriz $A$  donde:\n",
        "\n",
        "$$A=\\begin{bmatrix}\n",
        "5 & 4 & 6 & 7 \\\\\n",
        "1 & 5 & 8 & 9 \\\\\n",
        "1 & 5 & 1 & 3 \\\\\n",
        "\\end{bmatrix}$$"
      ]
    },
    {
      "cell_type": "code",
      "metadata": {
        "colab": {
          "base_uri": "https://localhost:8080/",
          "height": 78
        },
        "id": "lu8Co_y8YNVk",
        "outputId": "34cec771-45b4-4a10-e9e5-f2eb44f3faed"
      },
      "source": [
        "A = Matrix([[5,4,6,7],[1,5,8,9],[1,5,1,3]])\n",
        "A.col(1)"
      ],
      "execution_count": null,
      "outputs": [
        {
          "data": {
            "text/latex": "$\\displaystyle \\left[\\begin{matrix}4\\\\5\\\\5\\end{matrix}\\right]$",
            "text/plain": [
              "⎡4⎤\n",
              "⎢ ⎥\n",
              "⎢5⎥\n",
              "⎢ ⎥\n",
              "⎣5⎦"
            ]
          },
          "execution_count": 45,
          "metadata": {},
          "output_type": "execute_result"
        }
      ]
    },
    {
      "cell_type": "markdown",
      "metadata": {
        "id": "EHk2OZ_gYOJG"
      },
      "source": [
        "##  **Indexación de una fila de la matriz**\n",
        "\n",
        "Extrae la **fila 3** de la matriz $A$  donde:\n",
        "\n",
        "$$A=\\begin{bmatrix}\n",
        "5 & 4 & 6 & 7 \\\\\n",
        "1 & 5 & 8 & 9 \\\\\n",
        "1 & 5 & 1 & 3 \\\\\n",
        "\\end{bmatrix}$$"
      ]
    },
    {
      "cell_type": "code",
      "metadata": {
        "colab": {
          "base_uri": "https://localhost:8080/",
          "height": 78
        },
        "id": "C7jbDEl8Yfsb",
        "outputId": "bb787a46-f472-4a34-9899-236e27f13159"
      },
      "source": [
        "A = Matrix([[5,4,6,7],[1,5,8,9],[1,5,1,3]])\n",
        "A.row(2)"
      ],
      "execution_count": null,
      "outputs": [
        {
          "data": {
            "text/latex": "$\\displaystyle \\left[\\begin{matrix}5 & 4 & 6 & 7\\\\1 & 5 & 8 & 9\\\\1 & 5 & 1 & 3\\end{matrix}\\right]$",
            "text/plain": [
              "⎡5  4  6  7⎤\n",
              "⎢          ⎥\n",
              "⎢1  5  8  9⎥\n",
              "⎢          ⎥\n",
              "⎣1  5  1  3⎦"
            ]
          },
          "execution_count": 49,
          "metadata": {},
          "output_type": "execute_result"
        }
      ]
    },
    {
      "cell_type": "markdown",
      "metadata": {
        "id": "x3hrYLqJYhx2"
      },
      "source": [
        "##  **Eliminación de una columna de la matriz**\n",
        "Elimina la **columna 1** de la matriz $A$  donde:\n",
        "\n",
        "$$A=\\begin{bmatrix}\n",
        "5 & 4 & 6 & 7 \\\\\n",
        "1 & 5 & 8 & 9 \\\\\n",
        "1 & 5 & 1 & 3 \\\\\n",
        "\\end{bmatrix}$$"
      ]
    },
    {
      "cell_type": "code",
      "metadata": {
        "colab": {
          "base_uri": "https://localhost:8080/",
          "height": 78
        },
        "id": "GROzW2L7Ygu5",
        "outputId": "ef5d2429-8ba6-4313-e909-0f99a0ec40b1"
      },
      "source": [
        "A = Matrix([[5,4,6,7],[1,5,8,9],[1,5,1,3]])\n",
        "A.col_del(0)\n",
        "A"
      ],
      "execution_count": null,
      "outputs": [
        {
          "data": {
            "text/latex": "$\\displaystyle \\left[\\begin{matrix}4 & 6 & 7\\\\5 & 8 & 9\\\\5 & 1 & 3\\end{matrix}\\right]$",
            "text/plain": [
              "⎡4  6  7⎤\n",
              "⎢       ⎥\n",
              "⎢5  8  9⎥\n",
              "⎢       ⎥\n",
              "⎣5  1  3⎦"
            ]
          },
          "execution_count": 53,
          "metadata": {},
          "output_type": "execute_result"
        }
      ]
    },
    {
      "cell_type": "markdown",
      "metadata": {
        "id": "bxQzacJMYtve"
      },
      "source": [
        "##  **Eliminación de una fila de la matriz**\n",
        "\n",
        "Elimina la **fila 3** de la matriz $A$  donde:\n",
        "\n",
        "$$A=\\begin{bmatrix}\n",
        "5 & 4 & 6 & 7 \\\\\n",
        "1 & 5 & 8 & 9 \\\\\n",
        "1 & 5 & 1 & 3 \\\\\n",
        "\\end{bmatrix}$$"
      ]
    },
    {
      "cell_type": "code",
      "metadata": {
        "colab": {
          "base_uri": "https://localhost:8080/",
          "height": 57
        },
        "id": "hAYCv8VcZyR3",
        "outputId": "f6d951ff-23fb-466a-c004-77d94c6371cc"
      },
      "source": [
        "A = Matrix([[5,4,6,7],[1,5,8,9],[1,5,1,3]])\n",
        "A.row_del(2)\n",
        "A"
      ],
      "execution_count": null,
      "outputs": [
        {
          "output_type": "execute_result",
          "data": {
            "text/latex": "$\\displaystyle \\left[\\begin{matrix}5 & 4 & 6 & 7\\\\1 & 5 & 8 & 9\\end{matrix}\\right]$",
            "text/plain": [
              "⎡5  4  6  7⎤\n",
              "⎢          ⎥\n",
              "⎣1  5  8  9⎦"
            ]
          },
          "metadata": {},
          "execution_count": 23
        }
      ]
    },
    {
      "cell_type": "markdown",
      "metadata": {
        "id": "wt6j2YgsZ0FN"
      },
      "source": [
        "##  **Inserción de una columna a una matriz**\n",
        "\n",
        "Inserte la matriz columna $C$ como la **columna 2** de la matriz $A$, siendo:\n",
        "\n",
        "$$C=\\begin{bmatrix}\n",
        "1   \\\\\n",
        "2   \\\\\n",
        "3  \\\\\n",
        "\\end{bmatrix}\n",
        "\\hspace{5mm}\n",
        "\\text{y}\n",
        "\\hspace{5mm}\n",
        "A=\\begin{bmatrix}\n",
        "5 & 4 & 6 & 7 \\\\\n",
        "1 & 5 & 8 & 9 \\\\\n",
        "1 & 5 & 1 & 3 \\\\\n",
        "\\end{bmatrix}$$ "
      ]
    },
    {
      "cell_type": "code",
      "metadata": {
        "colab": {
          "base_uri": "https://localhost:8080/",
          "height": 78
        },
        "id": "SmgB7JIpdqrX",
        "outputId": "de278ef7-05c6-40e5-fce5-93f7713564cf"
      },
      "source": [
        "A = Matrix([[5,4,6,7],[1,5,8,9],[1,5,1,3]])\n",
        "C = Matrix(3,1,[1,2,3])\n",
        "A.col_insert(1,C)\n"
      ],
      "execution_count": null,
      "outputs": [
        {
          "output_type": "execute_result",
          "data": {
            "text/latex": "$\\displaystyle \\left[\\begin{matrix}5 & 1 & 4 & 6 & 7\\\\1 & 2 & 5 & 8 & 9\\\\1 & 3 & 5 & 1 & 3\\end{matrix}\\right]$",
            "text/plain": [
              "⎡5  1  4  6  7⎤\n",
              "⎢             ⎥\n",
              "⎢1  2  5  8  9⎥\n",
              "⎢             ⎥\n",
              "⎣1  3  5  1  3⎦"
            ]
          },
          "metadata": {},
          "execution_count": 21
        }
      ]
    },
    {
      "cell_type": "markdown",
      "metadata": {
        "id": "Iu7ce-Lndgi6"
      },
      "source": [
        "##  **Inserción de una fila a una matriz**\n",
        "\n",
        "\n",
        "Inserte la matriz fila $F$ como  la **fila 3** de la matriz $A$, siendo:\n",
        "\n",
        "$$F=\\begin{bmatrix}\n",
        "1 & 2 & 3 & 4 \\\\\n",
        "\\end{bmatrix}\n",
        "\\hspace{5mm}\n",
        "\\text{y}\n",
        "\\hspace{5mm}\n",
        "A=\\begin{bmatrix}\n",
        "5 & 4 & 6 & 7 \\\\\n",
        "1 & 5 & 8 & 9 \\\\\n",
        "1 & 5 & 1 & 3 \\\\\n",
        "\\end{bmatrix}$$ "
      ]
    },
    {
      "cell_type": "code",
      "metadata": {
        "colab": {
          "base_uri": "https://localhost:8080/",
          "height": 78
        },
        "id": "KhZtorzJYs22",
        "outputId": "984464d5-321c-4c9c-d8ec-4c63168c800d"
      },
      "source": [
        "A = Matrix([[5,4,6,7],[1,5,8,9],[1,5,1,3]])\n",
        "F = Matrix([[1,2,3,4]])\n",
        "A.row_insert(2, F)"
      ],
      "execution_count": null,
      "outputs": [
        {
          "output_type": "execute_result",
          "data": {
            "text/latex": "$\\displaystyle \\left[\\begin{matrix}5 & 4 & 6 & 7\\\\1 & 5 & 8 & 9\\\\1 & 5 & 1 & 3\\end{matrix}\\right]$",
            "text/plain": [
              "⎡5  4  6  7⎤\n",
              "⎢          ⎥\n",
              "⎢1  5  8  9⎥\n",
              "⎢          ⎥\n",
              "⎣1  5  1  3⎦"
            ]
          },
          "metadata": {},
          "execution_count": 20
        }
      ]
    },
    {
      "cell_type": "markdown",
      "metadata": {
        "id": "AufX04OnZ60f"
      },
      "source": [
        "##  **Extracción de una submatriz**\n",
        "\n",
        "Extrae la submatriz $B$  de la matriz $A$, siendo:\n",
        "\n",
        "$$B=\\begin{bmatrix}\n",
        "4 & 6 \\\\\n",
        "5 & 8 \\\\\n",
        "\\end{bmatrix}\n",
        "\\hspace{5mm}\n",
        "\\text{y}\n",
        "\\hspace{5mm}\n",
        "A=\\begin{bmatrix}\n",
        "5 & 4 & 6 & 7 \\\\\n",
        "1 & 5 & 8 & 9 \\\\\n",
        "1 & 5 & 1 & 3 \\\\\n",
        "\\end{bmatrix}$$ "
      ]
    },
    {
      "cell_type": "code",
      "metadata": {
        "colab": {
          "base_uri": "https://localhost:8080/",
          "height": 78
        },
        "id": "6vuBw0pPaGuR",
        "outputId": "a06b08a4-4624-451a-b5be-ce7def88cc8b"
      },
      "source": [
        "A = Matrix([[5,4,6,7],[1,5,8,9],[1,5,1,3]])\n",
        "A[:,1]"
      ],
      "execution_count": null,
      "outputs": [
        {
          "output_type": "execute_result",
          "data": {
            "text/latex": "$\\displaystyle \\left[\\begin{matrix}4\\\\5\\\\5\\end{matrix}\\right]$",
            "text/plain": [
              "⎡4⎤\n",
              "⎢ ⎥\n",
              "⎢5⎥\n",
              "⎢ ⎥\n",
              "⎣5⎦"
            ]
          },
          "metadata": {},
          "execution_count": 33
        }
      ]
    },
    {
      "cell_type": "markdown",
      "metadata": {
        "id": "l3BJWndAaHER"
      },
      "source": [
        "##  **Union de matrices horizontalmente**\n",
        "\n",
        "Une horizontamente la matriz $A$ y la matriz $B$, siendo:\n",
        "\n",
        "$$A=\\begin{bmatrix}\n",
        "4 & 6 \\\\\n",
        "5 & 8 \\\\\n",
        "5 & 9 \\\\\n",
        "\\end{bmatrix}\n",
        "\\hspace{5mm}\n",
        "\\text{y}\n",
        "\\hspace{5mm}\n",
        "B=\\begin{bmatrix}\n",
        "5 & 4 & 6 & 7 \\\\\n",
        "1 & 5 & 8 & 9 \\\\\n",
        "1 & 5 & 1 & 3 \\\\\n",
        "\\end{bmatrix}$$ \n",
        "\n",
        "\n",
        "### **Forma 1:** "
      ]
    },
    {
      "cell_type": "code",
      "metadata": {
        "colab": {
          "base_uri": "https://localhost:8080/",
          "height": 78
        },
        "id": "6p9eKdBfacQz",
        "outputId": "946b6cd0-e896-4c71-d74b-3dda302ac09b"
      },
      "source": [
        "A = Matrix([[4,6],[5,8],[5,9]])\n",
        "B = Matrix([[5,4,6,7],[1,5,8,9],[1,5,1,3]])\n",
        "A.row_join(B)\n"
      ],
      "execution_count": null,
      "outputs": [
        {
          "data": {
            "text/latex": "$\\displaystyle \\left[\\begin{matrix}4 & 6 & 5 & 4 & 6 & 7\\\\5 & 8 & 1 & 5 & 8 & 9\\\\5 & 9 & 1 & 5 & 1 & 3\\end{matrix}\\right]$",
            "text/plain": [
              "⎡4  6  5  4  6  7⎤\n",
              "⎢                ⎥\n",
              "⎢5  8  1  5  8  9⎥\n",
              "⎢                ⎥\n",
              "⎣5  9  1  5  1  3⎦"
            ]
          },
          "execution_count": 75,
          "metadata": {},
          "output_type": "execute_result"
        }
      ]
    },
    {
      "cell_type": "markdown",
      "metadata": {
        "id": "x-wOvFojHXj-"
      },
      "source": [
        "\n",
        "### **Forma 2:** "
      ]
    },
    {
      "cell_type": "code",
      "metadata": {
        "colab": {
          "base_uri": "https://localhost:8080/",
          "height": 78
        },
        "id": "Wr5EDfIml1RN",
        "outputId": "e1c5d566-784f-477a-e965-07cbaef76ee6"
      },
      "source": [
        "A = Matrix([[4,6],[5,8],[5,9]])\n",
        "B = Matrix([[5,4,6,7],[1,5,8,9],[1,5,1,3]])\n",
        "C = Matrix.hstack(A, B)\n",
        "C"
      ],
      "execution_count": null,
      "outputs": [
        {
          "data": {
            "text/latex": "$\\displaystyle \\left[\\begin{matrix}4 & 6 & 5 & 4 & 6 & 7\\\\5 & 8 & 1 & 5 & 8 & 9\\\\5 & 9 & 1 & 5 & 1 & 3\\end{matrix}\\right]$",
            "text/plain": [
              "⎡4  6  5  4  6  7⎤\n",
              "⎢                ⎥\n",
              "⎢5  8  1  5  8  9⎥\n",
              "⎢                ⎥\n",
              "⎣5  9  1  5  1  3⎦"
            ]
          },
          "execution_count": 76,
          "metadata": {},
          "output_type": "execute_result"
        }
      ]
    },
    {
      "cell_type": "markdown",
      "metadata": {
        "id": "UPbGt5DKmSks"
      },
      "source": [
        "##  **Union de matrices verticalmente**\n",
        "\n",
        "Une horizontamente la matriz $A$ y la matriz $B$, siendo:\n",
        "\n",
        "$$A=\\begin{bmatrix}\n",
        "1 & 2 & 3 & 4\\\\\n",
        "5 & 1 & 9 & 3 \\\\\n",
        "\\end{bmatrix}\n",
        "\\hspace{5mm}\n",
        "\\text{y}\n",
        "\\hspace{5mm}\n",
        "B=\\begin{bmatrix}\n",
        "5 & 4 & 6 & 7 \\\\\n",
        "1 & 5 & 8 & 9 \\\\\n",
        "1 & 5 & 1 & 3 \\\\\n",
        "\\end{bmatrix}$$ \n",
        "\n",
        "\n",
        "### **Forma 1:** "
      ]
    },
    {
      "cell_type": "code",
      "metadata": {
        "colab": {
          "base_uri": "https://localhost:8080/",
          "height": 119
        },
        "id": "9V3ERCyOlYVs",
        "outputId": "23c31189-ce85-4c35-b897-e38f18daa3dc"
      },
      "source": [
        "A = Matrix([[1,2,3,4],[5,1,9,3]])\n",
        "B = Matrix([[5,4,6,7],[1,5,8,9],[1,5,1,3]])\n",
        "A.col_join(B)"
      ],
      "execution_count": null,
      "outputs": [
        {
          "data": {
            "text/latex": "$\\displaystyle \\left[\\begin{matrix}1 & 2 & 3 & 4\\\\5 & 1 & 9 & 3\\\\5 & 4 & 6 & 7\\\\1 & 5 & 8 & 9\\\\1 & 5 & 1 & 3\\end{matrix}\\right]$",
            "text/plain": [
              "⎡1  2  3  4⎤\n",
              "⎢          ⎥\n",
              "⎢5  1  9  3⎥\n",
              "⎢          ⎥\n",
              "⎢5  4  6  7⎥\n",
              "⎢          ⎥\n",
              "⎢1  5  8  9⎥\n",
              "⎢          ⎥\n",
              "⎣1  5  1  3⎦"
            ]
          },
          "execution_count": 77,
          "metadata": {},
          "output_type": "execute_result"
        }
      ]
    },
    {
      "cell_type": "markdown",
      "metadata": {
        "id": "0uTSQTPjIFrY"
      },
      "source": [
        "###  **Forma 2:** "
      ]
    },
    {
      "cell_type": "code",
      "metadata": {
        "colab": {
          "base_uri": "https://localhost:8080/",
          "height": 119
        },
        "id": "LJI5U2AxmGPl",
        "outputId": "8e0c8166-74e3-4576-d80e-71bd002de1a1"
      },
      "source": [
        "A = Matrix([[1,2,3,4],[5,1,9,3]])\n",
        "B = Matrix([[5,4,6,7],[1,5,8,9],[1,5,1,3]])\n",
        "Matrix.vstack(A, B)\n",
        "\n"
      ],
      "execution_count": null,
      "outputs": [
        {
          "data": {
            "text/latex": "$\\displaystyle \\left[\\begin{matrix}1 & 2 & 3 & 4\\\\5 & 1 & 9 & 3\\\\5 & 4 & 6 & 7\\\\1 & 5 & 8 & 9\\\\1 & 5 & 1 & 3\\end{matrix}\\right]$",
            "text/plain": [
              "⎡1  2  3  4⎤\n",
              "⎢          ⎥\n",
              "⎢5  1  9  3⎥\n",
              "⎢          ⎥\n",
              "⎢5  4  6  7⎥\n",
              "⎢          ⎥\n",
              "⎢1  5  8  9⎥\n",
              "⎢          ⎥\n",
              "⎣1  5  1  3⎦"
            ]
          },
          "execution_count": 78,
          "metadata": {},
          "output_type": "execute_result"
        }
      ]
    },
    {
      "cell_type": "markdown",
      "metadata": {
        "id": "gpLaY9JmZXqQ"
      },
      "source": [
        "#  **OPERACIONES CON MATRICES**\n",
        "\n",
        "#  **Adición de matrices**\n",
        "\n",
        "Sean ${\\displaystyle A,B\\in {\\mathcal {M}}_{m\\times n}(\\mathbb {R} )}$ si:\n",
        "\n",
        "<center> <h4> $A = \\left[  a_{ij} \\right]_{m \\times n}$  y $B = \\left[  b_{ij} \\right]_{m \\times n}$ &nbsp; &nbsp; entonces &nbsp; &nbsp;$A+B = \\left[  a_{ij} +b_{ij} \\right]_{m \\times n} $</h4>\n"
      ]
    },
    {
      "cell_type": "markdown",
      "metadata": {
        "id": "jWI1TjL7mwy6"
      },
      "source": [
        "###  **Ejemplo: adición de matrices**\n",
        "Encuentra la matriz $A + B $  donde :\n",
        "\n",
        "$$A=\\begin{bmatrix}\n",
        "5 & 4 & -5 \\\\\n",
        "3 & 6 & -7 \\\\\n",
        "\\end{bmatrix}\n",
        "\\hspace{1cm}\n",
        "B=\\begin{bmatrix}\n",
        "2 & -4 & 0 \\\\\n",
        "0 & -6 & 7 \\\\\n",
        "\\end{bmatrix}$$"
      ]
    },
    {
      "cell_type": "code",
      "metadata": {
        "colab": {
          "base_uri": "https://localhost:8080/",
          "height": 57
        },
        "id": "_lvMxcxc7n6Y",
        "outputId": "aa463f28-b33f-41da-fae0-852ef9ccf2ea"
      },
      "source": [
        "A = Matrix([[5,4,-5],[3,6,-7]])\n",
        "B = Matrix([[2,-4,0],[0,-6,7]])\n",
        "A + B"
      ],
      "execution_count": null,
      "outputs": [
        {
          "output_type": "execute_result",
          "data": {
            "text/latex": "$\\displaystyle \\left[\\begin{matrix}7 & 0 & -5\\\\3 & 0 & 0\\end{matrix}\\right]$",
            "text/plain": [
              "⎡7  0  -5⎤\n",
              "⎢        ⎥\n",
              "⎣3  0  0 ⎦"
            ]
          },
          "metadata": {},
          "execution_count": 2
        }
      ]
    },
    {
      "cell_type": "markdown",
      "metadata": {
        "id": "9nQBZDNwyjgE"
      },
      "source": [
        "#  **Propiedades adición de matrices**\n",
        "\n",
        "Sean ${\\displaystyle A,B,C\\in {\\mathcal {M}}_{m\\times n}(\\mathbb {R} )}$,  se cumplen las siguientes propiedades:\n",
        "\n",
        "|            PROPIEDAD           |       EXPLICACIÓN                      |\n",
        "|:------------------------------:|:--------------------------------------:|\n",
        "| Clausurativa                   |$$A + B \\in \\mathcal{M}_{m\\times n}(\\mathbb{R})$$|\n",
        "| Conmutativa                     |   $$A + B = B + A$$                      |\n",
        "| Asociativa                      |      $$(A +B) + C = A + ( B+C)$$         | \n",
        "| Existencia de elemento neutro   |             $$A + 0 = A$$                           |\n",
        "| Existencia de inverso aditivo  |     $$A + (-A) = 0 $$                                  |"
      ]
    },
    {
      "cell_type": "markdown",
      "metadata": {
        "id": "LTiEZ_x_L5Eb"
      },
      "source": [
        "##  **Verificación de las propiedades de la adición de matrices**"
      ]
    },
    {
      "cell_type": "markdown",
      "metadata": {
        "id": "6a3_8QRuJS3c"
      },
      "source": [
        "###  **Propiedad conmutativa** \n",
        "\n",
        "<h4>$$A + B = B + A$$  "
      ]
    },
    {
      "cell_type": "code",
      "metadata": {
        "id": "CnnmFWKbJZBD"
      },
      "source": [
        ""
      ],
      "execution_count": null,
      "outputs": []
    },
    {
      "cell_type": "markdown",
      "metadata": {
        "id": "Va3GHC3iJczc"
      },
      "source": [
        "###  **propiedad asociativa**\n",
        "\n",
        "<h4>$$(A +B) + C = A + ( B+C)$$   "
      ]
    },
    {
      "cell_type": "code",
      "metadata": {
        "id": "t7eyMH6OTz7r"
      },
      "source": [
        ""
      ],
      "execution_count": null,
      "outputs": []
    },
    {
      "cell_type": "markdown",
      "metadata": {
        "id": "fxCJR33HJyld"
      },
      "source": [
        "###  **Existencia de elemento neutro**   \n",
        "<h4>$$A + 0 = A$$                 "
      ]
    },
    {
      "cell_type": "code",
      "metadata": {
        "id": "-VkV6FblU56q"
      },
      "source": [
        ""
      ],
      "execution_count": null,
      "outputs": []
    },
    {
      "cell_type": "markdown",
      "metadata": {
        "id": "qE1YD6NfJ_fM"
      },
      "source": [
        "###  **Existencia de inverso aditivo** \n",
        "<h4>$$A + (-A) = 0 $$ "
      ]
    },
    {
      "cell_type": "code",
      "metadata": {
        "id": "zyRRI7iJJmbh"
      },
      "source": [
        ""
      ],
      "execution_count": null,
      "outputs": []
    },
    {
      "cell_type": "markdown",
      "metadata": {
        "id": "WUUeyfbhqyAC"
      },
      "source": [
        "#  **Multiplicación de matrices**\n",
        "\n",
        "Sea ${\\displaystyle A\\in {\\mathcal {M}}_{n\\times m}(\\mathbb {R} )}$ y  ${\\displaystyle B\\in {\\mathcal {M}}_{m\\times p}(\\mathbb {R} )}$ :\n",
        "\n",
        "<center> <h4> $A = \\left[  a_{ij} \\right]_{m \\times n}$  y $B = \\left[  b_{ij} \\right]_{n \\times p}$ &nbsp; &nbsp; entonces &nbsp; &nbsp; $AB = \\left[  c_{ij} \\right]_{m \\times p} $ &nbsp; &nbsp; donde &nbsp; &nbsp; $\\displaystyle   c_{ij} = \\sum_{r=1}^{n}a_{ir}b_{rj}$</h4> \n"
      ]
    },
    {
      "cell_type": "markdown",
      "metadata": {
        "id": "naEMpZh_2Wyt"
      },
      "source": [
        "##  **Ejemplo: multiplicación de matrices**\n",
        "\n",
        "Encuentra la matriz $A \\cdot B $  donde :\n",
        "\n",
        "$$A=\\begin{bmatrix}\n",
        "2  & -5 \\\\\n",
        "4  & -7 \\\\\n",
        "1  & -3  \\\\\n",
        "\\end{bmatrix}\n",
        "\\hspace{1cm}\n",
        "B=\\begin{bmatrix}\n",
        "-2 & -4 \\\\\n",
        "-5 & -6 \\\\\n",
        "\\end{bmatrix}\n",
        "$$"
      ]
    },
    {
      "cell_type": "markdown",
      "metadata": {
        "id": "_O2deAEFfIhy"
      },
      "source": [
        "###  **Forma 1:** "
      ]
    },
    {
      "cell_type": "code",
      "metadata": {
        "colab": {
          "base_uri": "https://localhost:8080/",
          "height": 78
        },
        "id": "XSxKgwUmZaMo",
        "outputId": "e43c40e3-8539-499c-9929-e3b9a798d99f"
      },
      "source": [
        "A = Matrix([[2,-5],[4,-7],[1,-3]])\n",
        "B = Matrix([[-2,-4],[-5,-6]])\n",
        "A * B"
      ],
      "execution_count": null,
      "outputs": [
        {
          "output_type": "execute_result",
          "data": {
            "text/latex": "$\\displaystyle \\left[\\begin{matrix}21 & 22\\\\27 & 26\\\\13 & 14\\end{matrix}\\right]$",
            "text/plain": [
              "⎡21  22⎤\n",
              "⎢      ⎥\n",
              "⎢27  26⎥\n",
              "⎢      ⎥\n",
              "⎣13  14⎦"
            ]
          },
          "metadata": {},
          "execution_count": 19
        }
      ]
    },
    {
      "cell_type": "markdown",
      "metadata": {
        "id": "xYuk_C0TfKwk"
      },
      "source": [
        "###  **Forma 2:** "
      ]
    },
    {
      "cell_type": "code",
      "metadata": {
        "colab": {
          "base_uri": "https://localhost:8080/",
          "height": 78
        },
        "id": "3HSjon43e1V0",
        "outputId": "3a6ed3a2-4c3e-4ce0-e4bf-b1f787595c76"
      },
      "source": [
        "A = Matrix([[2,-5],[4,-7],[1,-3]])\n",
        "B = Matrix([[-2,-4],[-5,-6]])\n",
        "A.multiply(B)\n"
      ],
      "execution_count": null,
      "outputs": [
        {
          "output_type": "execute_result",
          "data": {
            "text/latex": "$\\displaystyle \\left[\\begin{matrix}21 & 22\\\\27 & 26\\\\13 & 14\\end{matrix}\\right]$",
            "text/plain": [
              "⎡21  22⎤\n",
              "⎢      ⎥\n",
              "⎢27  26⎥\n",
              "⎢      ⎥\n",
              "⎣13  14⎦"
            ]
          },
          "metadata": {},
          "execution_count": 20
        }
      ]
    },
    {
      "cell_type": "markdown",
      "metadata": {
        "id": "4w0gLm_jT4Ck"
      },
      "source": [
        "#  **Propiedades multiplicación de matrices**\n",
        "\n",
        "Sea ${\\displaystyle A\\in {\\mathcal {M}}_{m\\times n}(\\mathbb {R} )}$,  se cumplen las siguientes propiedades:\n",
        "\n",
        "|            PROPIEDAD           |       EXPLICACIÓN                      |\n",
        "|:------------------------------:|:--------------------------------------:|\n",
        "| Clausurativa                   |$$A B \\in \\mathcal{M}_{m\\times n}(\\mathbb{R})$$|\n",
        "| No conmutativa                     |   $$A  B \\neq B A$$                      |\n",
        "| Asociativa                      |      $$(AB)  C = A ( B C)$$         | \n",
        "| Existencia de elemento neutro si ${\\displaystyle A\\in {\\mathcal {M}}_{n\\times n}(\\mathbb {R} )}$   | $$A  I_{n} = I_{n}  A = A$$|\n",
        "| Existencia de inverso multiplicativo si ${\\displaystyle A\\in {\\mathcal {M}}_{n\\times n}(\\mathbb {R} )}$    | $$A A^{-1} =A^{-1}A =I_{n}$$ |\n",
        "| Propiedad distributiva por derecha    | $$ (B +C )A  = BA + CA$$ |\n",
        "| Propiedad distributiva por izquierda    | $$A(B +C ) = AB +AC$$ |\n"
      ]
    },
    {
      "cell_type": "markdown",
      "metadata": {
        "id": "atoIr9QgNt7X"
      },
      "source": [
        "##  **Verificación de las propiedades de la multiplicación de matrices**"
      ]
    },
    {
      "cell_type": "markdown",
      "metadata": {
        "id": "JT7cuI3sNt71"
      },
      "source": [
        "###  **Propiedad conmutativa**\n",
        "\n",
        "$$A  B = B A$$"
      ]
    },
    {
      "cell_type": "code",
      "metadata": {
        "id": "2oKmW7klcwKQ"
      },
      "source": [
        ""
      ],
      "execution_count": null,
      "outputs": []
    },
    {
      "cell_type": "markdown",
      "metadata": {
        "id": "DPag3xU7Nt74"
      },
      "source": [
        "###   **propiedad asociativa**\n",
        "$$(AB)  C = A ( B C)$$ "
      ]
    },
    {
      "cell_type": "code",
      "metadata": {
        "id": "JU35Ikp5Jx8J"
      },
      "source": [
        ""
      ],
      "execution_count": null,
      "outputs": []
    },
    {
      "cell_type": "markdown",
      "metadata": {
        "id": "uOXfgPtNNt75"
      },
      "source": [
        "###   **Existencia de elemento neutro**\n",
        "\n",
        "$$A \\Box = \\Box  A = A$$ \n",
        "\n"
      ]
    },
    {
      "cell_type": "code",
      "metadata": {
        "id": "RsYfmQFfJ13j"
      },
      "source": [
        ""
      ],
      "execution_count": null,
      "outputs": []
    },
    {
      "cell_type": "markdown",
      "metadata": {
        "id": "2IgSjjqPNt77"
      },
      "source": [
        "###   **Existencia de inverso multiplicativo**\n",
        "\n",
        "$$A \\Box = \\Box A =I_{n}$$ "
      ]
    },
    {
      "cell_type": "code",
      "metadata": {
        "id": "VzPLOxhXGHH_",
        "colab": {
          "base_uri": "https://localhost:8080/",
          "height": 78
        },
        "outputId": "3de9bd64-1357-4068-ce8d-b85d969589e4"
      },
      "source": [
        "A = Matrix([[2,-5,2],[4,-7,6],[1,-3,1]])\n",
        "A"
      ],
      "execution_count": null,
      "outputs": [
        {
          "output_type": "execute_result",
          "data": {
            "text/latex": "$\\displaystyle \\left[\\begin{matrix}2 & -5 & 2\\\\4 & -7 & 6\\\\1 & -3 & 1\\end{matrix}\\right]$",
            "text/plain": [
              "⎡2  -5  2⎤\n",
              "⎢        ⎥\n",
              "⎢4  -7  6⎥\n",
              "⎢        ⎥\n",
              "⎣1  -3  1⎦"
            ]
          },
          "metadata": {},
          "execution_count": 26
        }
      ]
    },
    {
      "cell_type": "code",
      "metadata": {
        "colab": {
          "base_uri": "https://localhost:8080/",
          "height": 78
        },
        "id": "jHIuAWRXHlU6",
        "outputId": "a30f04b1-09d7-49cd-ae33-0a42777b3a38"
      },
      "source": [
        "A**(-1)"
      ],
      "execution_count": null,
      "outputs": [
        {
          "output_type": "execute_result",
          "data": {
            "text/latex": "$\\displaystyle \\left[\\begin{matrix}\\frac{11}{2} & - \\frac{1}{2} & -8\\\\1 & 0 & -2\\\\- \\frac{5}{2} & \\frac{1}{2} & 3\\end{matrix}\\right]$",
            "text/plain": [
              "⎡11/2  -1/2  -8⎤\n",
              "⎢              ⎥\n",
              "⎢ 1     0    -2⎥\n",
              "⎢              ⎥\n",
              "⎣-5/2  1/2   3 ⎦"
            ]
          },
          "metadata": {},
          "execution_count": 27
        }
      ]
    },
    {
      "cell_type": "code",
      "metadata": {
        "colab": {
          "base_uri": "https://localhost:8080/",
          "height": 78
        },
        "id": "tPkWiXxMHs97",
        "outputId": "da8b0c03-da7b-4b95-ce31-de71a37dfbb2"
      },
      "source": [
        "A * A**(-1)"
      ],
      "execution_count": null,
      "outputs": [
        {
          "output_type": "execute_result",
          "data": {
            "text/latex": "$\\displaystyle \\left[\\begin{matrix}1 & 0 & 0\\\\0 & 1 & 0\\\\0 & 0 & 1\\end{matrix}\\right]$",
            "text/plain": [
              "⎡1  0  0⎤\n",
              "⎢       ⎥\n",
              "⎢0  1  0⎥\n",
              "⎢       ⎥\n",
              "⎣0  0  1⎦"
            ]
          },
          "metadata": {},
          "execution_count": 28
        }
      ]
    },
    {
      "cell_type": "code",
      "metadata": {
        "colab": {
          "base_uri": "https://localhost:8080/",
          "height": 78
        },
        "id": "xqdguvEcH2_2",
        "outputId": "32cdc9df-1428-4003-dea6-17e408da76bf"
      },
      "source": [
        "A**(-1)*A"
      ],
      "execution_count": null,
      "outputs": [
        {
          "output_type": "execute_result",
          "data": {
            "text/latex": "$\\displaystyle \\left[\\begin{matrix}1 & 0 & 0\\\\0 & 1 & 0\\\\0 & 0 & 1\\end{matrix}\\right]$",
            "text/plain": [
              "⎡1  0  0⎤\n",
              "⎢       ⎥\n",
              "⎢0  1  0⎥\n",
              "⎢       ⎥\n",
              "⎣0  0  1⎦"
            ]
          },
          "metadata": {},
          "execution_count": 29
        }
      ]
    },
    {
      "cell_type": "markdown",
      "metadata": {
        "id": "TRodi4X7OMlJ"
      },
      "source": [
        "###   **Propiedad distributiva a derecha**  \n",
        " $$ (B +C )A  = BA + CA$$ "
      ]
    },
    {
      "cell_type": "code",
      "metadata": {
        "id": "plBH2u4zJ9WN"
      },
      "source": [
        ""
      ],
      "execution_count": null,
      "outputs": []
    },
    {
      "cell_type": "markdown",
      "metadata": {
        "id": "Z3oxyW9BOMlL"
      },
      "source": [
        "###   **Propiedad distributiva a izquierda**\n",
        "\n",
        "$$A(B +C ) = AB +AC\n",
        " $$ "
      ]
    },
    {
      "cell_type": "code",
      "metadata": {
        "id": "BCc8hOqK_V1n"
      },
      "source": [
        ""
      ],
      "execution_count": null,
      "outputs": []
    },
    {
      "cell_type": "markdown",
      "metadata": {
        "id": "pwxeVzYuxStB"
      },
      "source": [
        "#   **Multiplicación de una matriz por un escalar**\n",
        "\n",
        "\n",
        "Sean ${\\displaystyle A\\in {\\mathcal {M}}_{m\\times n}(\\mathbb {R} )}$ y $k \\in \\mathbb{R}$  si:\n",
        "\n",
        "<center> <h4> $A = \\left[  a_{ij} \\right]_{m \\times n}$  &nbsp; &nbsp; entonces &nbsp; &nbsp; $kA = \\left[  k \\ a_{ij} \\right]_{m \\times n} $</h4>"
      ]
    },
    {
      "cell_type": "markdown",
      "metadata": {
        "id": "hY855pW0I32Q"
      },
      "source": [
        "###   **Ejemplo: multiplicación de una matriz por un escalar**\n",
        "\n",
        "\n",
        "\n",
        "Encuentra la matriz $3A $  donde :\n",
        "\n",
        "$$A=\\begin{bmatrix}\n",
        "5 & 4 & -5 \\\\\n",
        "3 & 6 & -7 \\\\\n",
        "\\end{bmatrix}\n",
        "$$"
      ]
    },
    {
      "cell_type": "code",
      "metadata": {
        "colab": {
          "base_uri": "https://localhost:8080/",
          "height": 57
        },
        "id": "5Htd5whzI21x",
        "outputId": "c57d835e-eb20-4624-d1f6-6cedc0086322"
      },
      "source": [
        "A = Matrix([[5,4,-5],[3,6,-7]])\n",
        "3*A"
      ],
      "execution_count": null,
      "outputs": [
        {
          "output_type": "execute_result",
          "data": {
            "text/latex": "$\\displaystyle \\left[\\begin{matrix}15 & 12 & -15\\\\9 & 18 & -21\\end{matrix}\\right]$",
            "text/plain": [
              "⎡15  12  -15⎤\n",
              "⎢           ⎥\n",
              "⎣9   18  -21⎦"
            ]
          },
          "metadata": {},
          "execution_count": 53
        }
      ]
    },
    {
      "cell_type": "markdown",
      "metadata": {
        "id": "nfOoBaIhVkeK"
      },
      "source": [
        "#   **Propiedades de la multiplicación por un escalar**\n",
        "\n",
        "\n",
        "Sean ${\\displaystyle A,B\\in {\\mathcal {M}}_{m\\times n}(\\mathbb {R} )}$ y $ k,l \\in \\mathbb {R}$,  se cumplen las siguientes propiedades:\n",
        "\n",
        "|            PROPIEDAD           |       EXPLICACIÓN                      |\n",
        "|:------------------------------:|:--------------------------------------:|\n",
        "| Clausurativa                   |$$kA \\in \\mathcal{M}_{m\\times n}(\\mathbb{R}$$|\n",
        "| Conmutativa                   |$$kA = Ak$$|\n",
        "| Asociativa                   |$$(kl)A = k (lA)$$|\n",
        "| Existencia de elemento neutro | $$1A = A$$ |\n",
        "| Producto por el  elemento neutro de la adición en $\\mathbb {R}$| $$0A = 0$$  |\n",
        "| Distributiva respecto a la adición de matrices |$$k (A + B) = kA + kB$$ |\n",
        "| Distributiva respecto de la suma en $\\mathbb {R}$|$$( k + l ) A = kA + lA$$  |\n"
      ]
    },
    {
      "cell_type": "markdown",
      "metadata": {
        "id": "15Z3mxjeO3As"
      },
      "source": [
        "##   **Verificación de las propiedades de la multiplicación por un escalar**"
      ]
    },
    {
      "cell_type": "markdown",
      "metadata": {
        "id": "UKu-wEn1O3A3"
      },
      "source": [
        "###  **Propiedad conmutativa**\n",
        "\n",
        "$$ kA = Ak$$"
      ]
    },
    {
      "cell_type": "code",
      "metadata": {
        "id": "EtkK7lE66Hb4"
      },
      "source": [
        ""
      ],
      "execution_count": null,
      "outputs": []
    },
    {
      "cell_type": "markdown",
      "metadata": {
        "id": "_DcQ7zmIe8Uf"
      },
      "source": [
        "###   **Propiedad asociativa**\n",
        "\n",
        "$$(kl)A = k (lA)$$"
      ]
    },
    {
      "cell_type": "code",
      "metadata": {
        "id": "fCYKwa8pe8U7"
      },
      "source": [
        ""
      ],
      "execution_count": null,
      "outputs": []
    },
    {
      "cell_type": "markdown",
      "metadata": {
        "id": "9WnPOaFwO3A5"
      },
      "source": [
        "###   **Existencia de elemento neutro** \n",
        "\n",
        " $$1A \n",
        " = A$$"
      ]
    },
    {
      "cell_type": "code",
      "metadata": {
        "id": "oBUE_yDUO3A6"
      },
      "source": [
        ""
      ],
      "execution_count": null,
      "outputs": []
    },
    {
      "cell_type": "markdown",
      "metadata": {
        "id": "2ea0CGKYP94b"
      },
      "source": [
        "###   **Producto por el  elemento neutro de la adición en $\\mathbb {R}$**\n",
        " $$0A \n",
        " = 0$$    "
      ]
    },
    {
      "cell_type": "code",
      "metadata": {
        "id": "uOHhz8czP9GK"
      },
      "source": [
        ""
      ],
      "execution_count": null,
      "outputs": []
    },
    {
      "cell_type": "markdown",
      "metadata": {
        "id": "IcrFE55EO3A7"
      },
      "source": [
        "###   **Propiedad distributiva respecto a la suma de matrices**\n",
        "\n",
        " $$k (A+ B) = kA +kB$$"
      ]
    },
    {
      "cell_type": "code",
      "metadata": {
        "id": "viONbkyWO3A8"
      },
      "source": [
        ""
      ],
      "execution_count": null,
      "outputs": []
    },
    {
      "cell_type": "markdown",
      "metadata": {
        "id": "DVa4xyaOO3A9"
      },
      "source": [
        "###   **Propiedad distributiva respecto de la suma en $\\mathbb {R}$** \n",
        "\n",
        "$$(k+l)A = kA + lA$$     "
      ]
    },
    {
      "cell_type": "code",
      "metadata": {
        "id": "C59rGYF7_FzK"
      },
      "source": [
        ""
      ],
      "execution_count": null,
      "outputs": []
    },
    {
      "cell_type": "markdown",
      "metadata": {
        "id": "KrMd73gy2cbH"
      },
      "source": [
        "#  **Potenciación de matrices**\n",
        "Sean ${\\displaystyle A\\in {\\mathcal {M}}_{n\\times n}(\\mathbb {R} )}$ se define:\n",
        "\n",
        "$$A^n =   \\underbrace{A A A A ...}_{n \\ veces}$$\n",
        "\n",
        "###   **Ejemplo: potencia de una matriz**\n",
        "\n",
        "\n",
        "\n",
        "Encuentra la matriz $A^{3} $  donde :\n",
        "\n",
        "$$A=\\begin{bmatrix}\n",
        "5 & 4 & -5 \\\\\n",
        "3 & 6 & -7 \\\\\n",
        "1 & 0 & -3  \\\\\n",
        "\\end{bmatrix}\n",
        "$$"
      ]
    },
    {
      "cell_type": "code",
      "metadata": {
        "colab": {
          "base_uri": "https://localhost:8080/",
          "height": 78
        },
        "id": "4R9X2z4u4tpp",
        "outputId": "a433e568-a207-42c5-ef4c-3f691964a55b"
      },
      "source": [
        "A = Matrix([[5,4,-5],[3,6,-7],[1,0,-3]])\n",
        "A*A*A"
      ],
      "execution_count": null,
      "outputs": [
        {
          "output_type": "execute_result",
          "data": {
            "text/latex": "$\\displaystyle \\left[\\begin{matrix}254 & 392 & -354\\\\238 & 392 & -358\\\\26 & 32 & -50\\end{matrix}\\right]$",
            "text/plain": [
              "⎡254  392  -354⎤\n",
              "⎢              ⎥\n",
              "⎢238  392  -358⎥\n",
              "⎢              ⎥\n",
              "⎣26   32   -50 ⎦"
            ]
          },
          "metadata": {},
          "execution_count": 9
        }
      ]
    },
    {
      "cell_type": "code",
      "metadata": {
        "colab": {
          "base_uri": "https://localhost:8080/",
          "height": 78
        },
        "id": "2bkljG9nmLfk",
        "outputId": "c2de7918-d528-40cf-9eb0-55e0d16a8199"
      },
      "source": [
        "A**3"
      ],
      "execution_count": null,
      "outputs": [
        {
          "output_type": "execute_result",
          "data": {
            "text/latex": "$\\displaystyle \\left[\\begin{matrix}254 & 392 & -354\\\\238 & 392 & -358\\\\26 & 32 & -50\\end{matrix}\\right]$",
            "text/plain": [
              "⎡254  392  -354⎤\n",
              "⎢              ⎥\n",
              "⎢238  392  -358⎥\n",
              "⎢              ⎥\n",
              "⎣26   32   -50 ⎦"
            ]
          },
          "metadata": {},
          "execution_count": 10
        }
      ]
    },
    {
      "cell_type": "markdown",
      "metadata": {
        "id": "ijFizL1ErxwP"
      },
      "source": [
        "#   **Propiedades de la potenciación de matrices**\n",
        "\n",
        "\n",
        "Sean ${\\displaystyle A\\in {\\mathcal {M}}_{n\\times n}(\\mathbb {R} )}$ , $ k \\in \\mathbb {R}$ y $ p,q \\in \\mathbb {N}$  se cumplen las siguientes propiedades:\n",
        "\n",
        "|            PROPIEDAD           |       EXPLICACIÓN                      |\n",
        "|:------------------------------:|:--------------------------------------:|\n",
        "| Producto de potencias con igual base|$$A^p A^q = A^{p+q}$$|\n",
        "| Potencia de una potencia                 |$$(A^p)^q = A^{pq}$$|\n",
        "| Potencia de un escalar por una matriz |$$(kA)^p = k^p A^p$$|\n",
        "| Potencia con exponente cero | $$A^0 = I$$ |\n",
        "| Potencia con exponente negativo| $$A^{-p} = (A^{-1})^p$$  |\n",
        "| Potencia de la matriz identidad |$$I^p = I$$ |"
      ]
    },
    {
      "cell_type": "markdown",
      "metadata": {
        "id": "TwY2J4V31u9B"
      },
      "source": [
        "##   **Verificación de las propiedades de la potenciación de matrices**"
      ]
    },
    {
      "cell_type": "markdown",
      "metadata": {
        "id": "6zxxqqMT2CtH"
      },
      "source": [
        "###  **Producto de potencias con igual base**\n",
        "\n",
        "$$A^p A^q = A^{p+q}$$"
      ]
    },
    {
      "cell_type": "code",
      "metadata": {
        "id": "nAGsmADrz1Qx"
      },
      "source": [
        ""
      ],
      "execution_count": null,
      "outputs": []
    },
    {
      "cell_type": "markdown",
      "metadata": {
        "id": "wg5zZ6Cp3JtF"
      },
      "source": [
        "###  **Potencia de una potencia**                 \n",
        "\n",
        "$$(A^p)^q = A^{pq}$$"
      ]
    },
    {
      "cell_type": "code",
      "metadata": {
        "id": "Po91ug653bCA"
      },
      "source": [
        ""
      ],
      "execution_count": null,
      "outputs": []
    },
    {
      "cell_type": "markdown",
      "metadata": {
        "id": "rLWyKxor3eoe"
      },
      "source": [
        "###   **Potencia de un escalar por una matriz** \n",
        "\n",
        "$$(kA)^p = k^p A^p$$"
      ]
    },
    {
      "cell_type": "code",
      "metadata": {
        "id": "B2-qVlQP33Qp"
      },
      "source": [
        ""
      ],
      "execution_count": null,
      "outputs": []
    },
    {
      "cell_type": "markdown",
      "metadata": {
        "id": "dFb--eId33_c"
      },
      "source": [
        "###  **Potencia con exponente cero**\n",
        "\n",
        "$$A^0 = I$$ "
      ]
    },
    {
      "cell_type": "code",
      "metadata": {
        "id": "4L7IvUDG4IzO",
        "colab": {
          "base_uri": "https://localhost:8080/",
          "height": 78
        },
        "outputId": "288ba9a7-7da6-4bf9-e021-349b771d5504"
      },
      "source": [
        "A**0"
      ],
      "execution_count": null,
      "outputs": [
        {
          "output_type": "execute_result",
          "data": {
            "text/latex": "$\\displaystyle \\left[\\begin{matrix}1 & 0 & 0\\\\0 & 1 & 0\\\\0 & 0 & 1\\end{matrix}\\right]$",
            "text/plain": [
              "⎡1  0  0⎤\n",
              "⎢       ⎥\n",
              "⎢0  1  0⎥\n",
              "⎢       ⎥\n",
              "⎣0  0  1⎦"
            ]
          },
          "metadata": {},
          "execution_count": 16
        }
      ]
    },
    {
      "cell_type": "markdown",
      "metadata": {
        "id": "q6kMkpCM4JTd"
      },
      "source": [
        "###   **Potencia con exponente negativo** \n",
        "\n",
        "$$A^{-p} = (A^{-1})^p$$  "
      ]
    },
    {
      "cell_type": "code",
      "metadata": {
        "id": "FB8NLbWV4dTi"
      },
      "source": [
        ""
      ],
      "execution_count": null,
      "outputs": []
    },
    {
      "cell_type": "markdown",
      "metadata": {
        "id": "Z85AV3m-4dzZ"
      },
      "source": [
        "###   **Potencia de la matriz identidad** \n",
        "\n",
        "$$I^p = I$$ "
      ]
    },
    {
      "cell_type": "code",
      "metadata": {
        "id": "vVmsZX3U4p7f"
      },
      "source": [
        ""
      ],
      "execution_count": null,
      "outputs": []
    },
    {
      "cell_type": "markdown",
      "metadata": {
        "id": "7DAnDFxG44Ov"
      },
      "source": [
        "###   **Ejercicio de potenciación de matrices:** \n",
        "\n",
        "Verifica con varios ejemplos la siguiente propiedad para una matriz diagonal:\n",
        "<br> </br>\n",
        "\n",
        "$$ A = \n",
        "\\begin{pmatrix}\n",
        "a_{11} & 0 & \\cdots & 0\\\\\n",
        "0 & a_{22} & \\cdots & 0\\\\\n",
        "\\vdots & \\vdots & \\ddots & \\vdots\\\\\n",
        "0 & 0 & \\cdots & a_{nn}\n",
        "\\end{pmatrix}\n",
        "\\hspace{1cm} \\Longrightarrow \\hspace{1cm} \n",
        " A^p = \n",
        "\\begin{pmatrix}\n",
        "(a_{11})^p & 0 & \\cdots & 0\\\\\n",
        "0 & (a_{22})^p & \\cdots & 0\\\\\n",
        "\\vdots & \\vdots & \\ddots & \\vdots\\\\\n",
        "0 & 0 & \\cdots & (a_{nn})^p\n",
        "\\end{pmatrix} $$\n"
      ]
    },
    {
      "cell_type": "code",
      "metadata": {
        "id": "lvV53wwO53lm"
      },
      "source": [
        ""
      ],
      "execution_count": null,
      "outputs": []
    },
    {
      "cell_type": "markdown",
      "metadata": {
        "id": "88NTknqPTLtq"
      },
      "source": [
        "#   **MATRIZ TRASPUESTA**\n",
        "\n",
        "Sea ${\\displaystyle A\\in {\\mathcal {M}}_{m\\times n}(\\mathbb {R} )}$, existe una matriz llamada ${\\displaystyle A^{T}\\in {\\mathcal {M}}_{n\\times m}(\\mathbb {R} )}$ tal que:\n",
        "\n",
        "<center> <h4> Si &nbsp; &nbsp; $A = \\left[  a_{ij} \\right]_{m \\times n}$  &nbsp; &nbsp; entonces &nbsp; &nbsp;$A^{T} = \\left[  a_{ji}  \\right]_{n \\times m} $</h4>\n",
        "\n"
      ]
    },
    {
      "cell_type": "markdown",
      "metadata": {
        "id": "8GXIKE7JVcGv"
      },
      "source": [
        "###   **Ejemplo: matriz traspuesta**\n",
        "\n",
        "\n",
        "\n",
        "Encuentra la matriz $A^{T} $  de la matriz :\n",
        "\n",
        "$$A=\\begin{bmatrix}\n",
        "5 & 4  \\\\\n",
        "3 & 6  \\\\\n",
        "1 & 0  \\\\\n",
        "\\end{bmatrix}\n",
        "$$"
      ]
    },
    {
      "cell_type": "markdown",
      "metadata": {
        "id": "PdbaPlodXLtr"
      },
      "source": [
        "###  **Forma 1:** "
      ]
    },
    {
      "cell_type": "code",
      "metadata": {
        "colab": {
          "base_uri": "https://localhost:8080/",
          "height": 57
        },
        "id": "FX-zlny1VcHR",
        "outputId": "c759d9f5-19b2-4362-bc8a-1acaff7f356a"
      },
      "source": [
        "A = Matrix([[5,4],[3,6],[1,0]])\n",
        "A.T"
      ],
      "execution_count": null,
      "outputs": [
        {
          "output_type": "execute_result",
          "data": {
            "text/latex": "$\\displaystyle \\left[\\begin{matrix}5 & 3 & 1\\\\4 & 6 & 0\\end{matrix}\\right]$",
            "text/plain": [
              "⎡5  3  1⎤\n",
              "⎢       ⎥\n",
              "⎣4  6  0⎦"
            ]
          },
          "metadata": {},
          "execution_count": 31
        }
      ]
    },
    {
      "cell_type": "markdown",
      "metadata": {
        "id": "VjXLu3kFXPcW"
      },
      "source": [
        "###  **Forma 2:** "
      ]
    },
    {
      "cell_type": "code",
      "metadata": {
        "colab": {
          "base_uri": "https://localhost:8080/",
          "height": 57
        },
        "id": "1MFtqKD_TQ-H",
        "outputId": "dedbb7bd-9a1f-4f2a-c545-d90734ddc872"
      },
      "source": [
        "A = Matrix([[5,4],[3,6],[1,0]])\n",
        "transpose(A)"
      ],
      "execution_count": null,
      "outputs": [
        {
          "output_type": "execute_result",
          "data": {
            "text/latex": "$\\displaystyle \\left[\\begin{matrix}5 & 3 & 1\\\\4 & 6 & 0\\end{matrix}\\right]$",
            "text/plain": [
              "⎡5  3  1⎤\n",
              "⎢       ⎥\n",
              "⎣4  6  0⎦"
            ]
          },
          "metadata": {},
          "execution_count": 32
        }
      ]
    },
    {
      "cell_type": "markdown",
      "metadata": {
        "id": "enHXYmPrXjnG"
      },
      "source": [
        "###   **Forma 3:** "
      ]
    },
    {
      "cell_type": "code",
      "metadata": {
        "colab": {
          "base_uri": "https://localhost:8080/",
          "height": 57
        },
        "id": "0YnEzJ7zXjng",
        "outputId": "56dee3cb-cd64-4340-a64b-0bc5d8e274c8"
      },
      "source": [
        "A = Matrix([[5,4],[3,6],[1,0]])\n",
        "Transpose(A).doit()"
      ],
      "execution_count": null,
      "outputs": [
        {
          "output_type": "execute_result",
          "data": {
            "text/latex": "$\\displaystyle \\left[\\begin{matrix}5 & 3 & 1\\\\4 & 6 & 0\\end{matrix}\\right]$",
            "text/plain": [
              "⎡5  3  1⎤\n",
              "⎢       ⎥\n",
              "⎣4  6  0⎦"
            ]
          },
          "metadata": {},
          "execution_count": 34
        }
      ]
    },
    {
      "cell_type": "markdown",
      "metadata": {
        "id": "xPX5d_5OYVgM"
      },
      "source": [
        "#   **Propiedades matriz traspuesta**\n",
        "Sea ${\\displaystyle A,B\\in {\\mathcal {M}}_{n\\times m}(\\mathbb {R} )}$  y $ k\\in \\mathbb {R}$,  se cumplen las siguientes propiedades:\n",
        "\n",
        "|            PROPIEDAD           |       EXPLICACIÓN                      |\n",
        "|:------------------------------:|:--------------------------------------:|\n",
        "| Involutiva                 |$$(A^{T})^{T} = A$$ |\n",
        "| Distributiva                   |$$(A+B)^{T} = A^{T} + B^{T}$$|\n",
        "| Traspuesta del producto  |    $$(AB)^{T} = B^{T} A^{T}$$                                  |\n",
        "| Traspuesta de un escalar por una matriz  |     $$(kA)^{T}= {k}A^{T}$$                   |\n",
        "| Traspuesta de la inversa |     $$(A^{-1})^{T} = (A^{T})^{-1} $$  |\n",
        "\n",
        "\n"
      ]
    },
    {
      "cell_type": "markdown",
      "metadata": {
        "id": "Hpo9iirwRn6y"
      },
      "source": [
        "##  **Verificación de las propiedades de la trasposición de matrices**"
      ]
    },
    {
      "cell_type": "markdown",
      "metadata": {
        "id": "L0HoTI8ZRn69"
      },
      "source": [
        "###   **Propiedad involutiva** \n",
        "\n",
        "$$(A^{T})^{T} = A$$"
      ]
    },
    {
      "cell_type": "code",
      "metadata": {
        "id": "k9mXPurbRn67"
      },
      "source": [
        ""
      ],
      "execution_count": null,
      "outputs": []
    },
    {
      "cell_type": "markdown",
      "metadata": {
        "id": "ByPBOdpfRn66"
      },
      "source": [
        "###  **Propiedad distributiva**\n",
        "\n",
        "$$(A+B)^{T} = A^{T} + B^{T}$$"
      ]
    },
    {
      "cell_type": "code",
      "metadata": {
        "id": "MQ6Ofwr3Rn6-"
      },
      "source": [
        ""
      ],
      "execution_count": null,
      "outputs": []
    },
    {
      "cell_type": "markdown",
      "metadata": {
        "id": "tcNmRC5JRn6_"
      },
      "source": [
        "###   **Traspuesta del producto**\n",
        "\n",
        " $$(AB)^{T} = B^{T} A^{T}$$       "
      ]
    },
    {
      "cell_type": "code",
      "metadata": {
        "id": "Osc6MPX4qaiv"
      },
      "source": [
        ""
      ],
      "execution_count": null,
      "outputs": []
    },
    {
      "cell_type": "markdown",
      "metadata": {
        "id": "vr8BMb71SCaT"
      },
      "source": [
        "###  **Traspuesta de un escalar por una matriz**\n",
        "\n",
        " $$(kA)^{T}\n",
        " = {k}A^{T}$$  "
      ]
    },
    {
      "cell_type": "code",
      "metadata": {
        "id": "dr8fiAw1SCaU"
      },
      "source": [
        ""
      ],
      "execution_count": null,
      "outputs": []
    },
    {
      "cell_type": "markdown",
      "metadata": {
        "id": "pB0NVNR1SjcS"
      },
      "source": [
        "###  **Traspuesta de la inversa**\n",
        "\n",
        "$$(A^{-1})^{T}\n",
        " = (A^{T})^{-1}$$   "
      ]
    },
    {
      "cell_type": "code",
      "metadata": {
        "id": "LchtD-WOS1zd"
      },
      "source": [
        ""
      ],
      "execution_count": null,
      "outputs": []
    },
    {
      "cell_type": "markdown",
      "metadata": {
        "id": "ZZ_Cd90jdowj"
      },
      "source": [
        "#  **Definición de matriz simétrica**\n",
        "\n",
        "Sea ${\\displaystyle A,\\in {\\mathcal {M}}_{n\\times n}(\\mathbb {R} )}$ :\n",
        "\n",
        "<center> <h4> Si &nbsp; &nbsp; $A^{T} = A$ &nbsp; o &nbsp;  $A^{T}-A=0$ &nbsp; &nbsp; entonces &nbsp; &nbsp; $A$ es una matriz simétrica</h4>\n",
        "\n"
      ]
    },
    {
      "cell_type": "markdown",
      "metadata": {
        "id": "6zHfzCT_jj6W"
      },
      "source": [
        "### **Ejemplo: matriz simétrica**\n",
        "\n",
        "Pruebe si la matriz $A$ es simétrica :\n",
        "\n",
        "$$A=\\begin{bmatrix}\n",
        "-8 & 1 & 3 \\\\\n",
        "1 & 7 & 4 \\\\\n",
        "3 & 4 & 9  \\\\\n",
        "\\end{bmatrix}$$\n"
      ]
    },
    {
      "cell_type": "markdown",
      "metadata": {
        "id": "e7JwoQF5db-E"
      },
      "source": [
        "###   **Forma 1:**"
      ]
    },
    {
      "cell_type": "code",
      "metadata": {
        "colab": {
          "base_uri": "https://localhost:8080/"
        },
        "id": "nrLym4bUds0O",
        "outputId": "636b1e47-b4b5-4f2a-affb-e23e4ec35871"
      },
      "source": [
        "A = Matrix([[-8,1,3],[1,7,4],[3,4,9]])\n",
        "A.T == A"
      ],
      "execution_count": null,
      "outputs": [
        {
          "output_type": "execute_result",
          "data": {
            "text/plain": [
              "True"
            ]
          },
          "metadata": {},
          "execution_count": 35
        }
      ]
    },
    {
      "cell_type": "markdown",
      "metadata": {
        "id": "nzfS18AJdltB"
      },
      "source": [
        "###  **Forma 2:**"
      ]
    },
    {
      "cell_type": "code",
      "metadata": {
        "colab": {
          "base_uri": "https://localhost:8080/",
          "height": 78
        },
        "id": "4_mP4p8o9jof",
        "outputId": "113d0fed-6ed7-4366-83fc-ca39e2e110d3"
      },
      "source": [
        "A = Matrix([[-8,1,3],[1,7,4],[3,4,9]])\n",
        "A.T - A"
      ],
      "execution_count": null,
      "outputs": [
        {
          "output_type": "execute_result",
          "data": {
            "text/latex": "$\\displaystyle \\left[\\begin{matrix}0 & 0 & 0\\\\0 & 0 & 0\\\\0 & 0 & 0\\end{matrix}\\right]$",
            "text/plain": [
              "⎡0  0  0⎤\n",
              "⎢       ⎥\n",
              "⎢0  0  0⎥\n",
              "⎢       ⎥\n",
              "⎣0  0  0⎦"
            ]
          },
          "metadata": {},
          "execution_count": 36
        }
      ]
    },
    {
      "cell_type": "markdown",
      "metadata": {
        "id": "3pX8Ntn-lAR5"
      },
      "source": [
        "#   **Definición de matriz antisimétrica**\n",
        "\n",
        "Sea ${\\displaystyle A,\\in {\\mathcal {M}}_{n\\times n}(\\mathbb {R} )}$ :\n",
        "\n",
        "<center> <h4> Si &nbsp; &nbsp; $A^{T}= -A$ &nbsp; o &nbsp;  $A^{T}+A=0$ &nbsp; &nbsp; entonces &nbsp; &nbsp; $A$ es una matriz antisimétrica</h4>\n",
        "\n"
      ]
    },
    {
      "cell_type": "markdown",
      "metadata": {
        "id": "Rm9WiZ88lAST"
      },
      "source": [
        "###  **Ejemplo: matriz antisimétrica**\n",
        "\n",
        "Pruebe si la matriz $A$ es antisimétrica :\n",
        "\n",
        "$$A=\\begin{bmatrix}\n",
        "0 & 1 & 3 \\\\\n",
        "-1 & 0 & -4 \\\\\n",
        "-3 & 4 & 0  \\\\\n",
        "\\end{bmatrix}$$\n"
      ]
    },
    {
      "cell_type": "markdown",
      "metadata": {
        "id": "9nFpXsW9gV_x"
      },
      "source": [
        "###  **Forma 1:**"
      ]
    },
    {
      "cell_type": "code",
      "metadata": {
        "colab": {
          "base_uri": "https://localhost:8080/"
        },
        "id": "YPENPuAZlASV",
        "outputId": "65669dca-d030-4d3f-d550-d69a2ca1c27b"
      },
      "source": [
        "A = Matrix([[0,1,3],[-1,0,-4],[-3,4,0]])\n",
        "A.T == -A"
      ],
      "execution_count": null,
      "outputs": [
        {
          "output_type": "execute_result",
          "data": {
            "text/plain": [
              "True"
            ]
          },
          "metadata": {},
          "execution_count": 2
        }
      ]
    },
    {
      "cell_type": "markdown",
      "metadata": {
        "id": "nomviQZvgYkj"
      },
      "source": [
        "###  **Forma 2:**"
      ]
    },
    {
      "cell_type": "code",
      "metadata": {
        "colab": {
          "base_uri": "https://localhost:8080/",
          "height": 78
        },
        "id": "jKi26ggSgElU",
        "outputId": "67cc0f87-c8c2-4b42-db3c-41b2b920e3df"
      },
      "source": [
        "A = Matrix([[0,1,3],[-1,0,-4],[-3,4,0]])\n",
        "A.T + A"
      ],
      "execution_count": null,
      "outputs": [
        {
          "output_type": "execute_result",
          "data": {
            "text/latex": "$\\displaystyle \\left[\\begin{matrix}0 & 0 & 0\\\\0 & 0 & 0\\\\0 & 0 & 0\\end{matrix}\\right]$",
            "text/plain": [
              "⎡0  0  0⎤\n",
              "⎢       ⎥\n",
              "⎢0  0  0⎥\n",
              "⎢       ⎥\n",
              "⎣0  0  0⎦"
            ]
          },
          "metadata": {},
          "execution_count": 3
        }
      ]
    },
    {
      "cell_type": "markdown",
      "metadata": {
        "id": "ZEARI5TZzTQs"
      },
      "source": [
        "#   **INVERSA DE UNA MATRIZ**\n",
        "\n",
        "Sea ${\\displaystyle A\\in {\\mathcal {M}}_{n\\times n}(\\mathbb {R} )}$, una matriz cuadrada,  si existe una matriz ${\\displaystyle B\\in {\\mathcal {M}}_{n\\times n}(\\mathbb {R} )}$ tal que :\n",
        "\n",
        "<center> <h4> Si &nbsp; &nbsp; $AB = BA = I_{n}$  &nbsp; &nbsp; entonces &nbsp; &nbsp; $B = A^{-1} $</h4> </center>\n",
        "\n",
        "\n",
        "$B$ es la matriz inversa de  $A$ y la matriz $A$ es **invertible** o **no singular**."
      ]
    },
    {
      "cell_type": "markdown",
      "metadata": {
        "id": "oyshXoeyzguF"
      },
      "source": [
        "##   **Ejemplo 1: matriz inversa** --> *verificación rápida*\n",
        "\n",
        "Encuentra la matriz $A^{-1}$ si es posible, de la matriz:\n",
        "\n",
        "\n",
        "$$A=\\begin{bmatrix}\n",
        "5 & 4 & -5 \\\\\n",
        "3 & 6 & -7 \\\\\n",
        "1 & 0 & -3  \\\\\n",
        "\\end{bmatrix}\n",
        "$$"
      ]
    },
    {
      "cell_type": "markdown",
      "metadata": {
        "id": "aAT5-0C49wqd"
      },
      "source": [
        "###  **Forma 1:** "
      ]
    },
    {
      "cell_type": "code",
      "metadata": {
        "colab": {
          "base_uri": "https://localhost:8080/",
          "height": 78
        },
        "id": "WOs-Xdel9k0y",
        "outputId": "228ea6a2-501a-492b-a021-248b633a79a3"
      },
      "source": [
        "A = Matrix([[5,4,-5],[3,6,-7],[1,0,-3]])\n",
        "A**(-1)"
      ],
      "execution_count": null,
      "outputs": [
        {
          "output_type": "execute_result",
          "data": {
            "text/latex": "$\\displaystyle \\left[\\begin{matrix}\\frac{9}{26} & - \\frac{3}{13} & - \\frac{1}{26}\\\\- \\frac{1}{26} & \\frac{5}{26} & - \\frac{5}{13}\\\\\\frac{3}{26} & - \\frac{1}{13} & - \\frac{9}{26}\\end{matrix}\\right]$",
            "text/plain": [
              "⎡9/26   -3/13  -1/26⎤\n",
              "⎢                   ⎥\n",
              "⎢-1/26  5/26   -5/13⎥\n",
              "⎢                   ⎥\n",
              "⎣3/26   -1/13  -9/26⎦"
            ]
          },
          "metadata": {},
          "execution_count": 4
        }
      ]
    },
    {
      "cell_type": "markdown",
      "metadata": {
        "id": "Xj-gcSP194jT"
      },
      "source": [
        "###  **Forma 2:** "
      ]
    },
    {
      "cell_type": "code",
      "metadata": {
        "colab": {
          "base_uri": "https://localhost:8080/",
          "height": 78
        },
        "id": "7lz3zF1d9ZXd",
        "outputId": "2efa68f8-e916-432e-c15b-c87f7987aaf2"
      },
      "source": [
        "A = Matrix([[5,4,-5],[3,6,-7],[1,0,-3]])\n",
        "B = A.inv()\n",
        "B"
      ],
      "execution_count": null,
      "outputs": [
        {
          "output_type": "execute_result",
          "data": {
            "text/latex": "$\\displaystyle \\left[\\begin{matrix}\\frac{9}{26} & - \\frac{3}{13} & - \\frac{1}{26}\\\\- \\frac{1}{26} & \\frac{5}{26} & - \\frac{5}{13}\\\\\\frac{3}{26} & - \\frac{1}{13} & - \\frac{9}{26}\\end{matrix}\\right]$",
            "text/plain": [
              "⎡9/26   -3/13  -1/26⎤\n",
              "⎢                   ⎥\n",
              "⎢-1/26  5/26   -5/13⎥\n",
              "⎢                   ⎥\n",
              "⎣3/26   -1/13  -9/26⎦"
            ]
          },
          "metadata": {},
          "execution_count": 6
        }
      ]
    },
    {
      "cell_type": "code",
      "metadata": {
        "colab": {
          "base_uri": "https://localhost:8080/",
          "height": 78
        },
        "id": "HXgiV3CYfXhR",
        "outputId": "515afade-8e68-4836-e4ec-6d7bc5b48614"
      },
      "source": [
        "A*B"
      ],
      "execution_count": null,
      "outputs": [
        {
          "output_type": "execute_result",
          "data": {
            "text/latex": "$\\displaystyle \\left[\\begin{matrix}1 & 0 & 0\\\\0 & 1 & 0\\\\0 & 0 & 1\\end{matrix}\\right]$",
            "text/plain": [
              "⎡1  0  0⎤\n",
              "⎢       ⎥\n",
              "⎢0  1  0⎥\n",
              "⎢       ⎥\n",
              "⎣0  0  1⎦"
            ]
          },
          "metadata": {},
          "execution_count": 7
        }
      ]
    },
    {
      "cell_type": "code",
      "metadata": {
        "colab": {
          "base_uri": "https://localhost:8080/",
          "height": 78
        },
        "id": "3fFocPt9f7EL",
        "outputId": "072547a0-af0b-4a04-a909-ef2ed2d71c4a"
      },
      "source": [
        "B*A"
      ],
      "execution_count": null,
      "outputs": [
        {
          "output_type": "execute_result",
          "data": {
            "text/latex": "$\\displaystyle \\left[\\begin{matrix}1 & 0 & 0\\\\0 & 1 & 0\\\\0 & 0 & 1\\end{matrix}\\right]$",
            "text/plain": [
              "⎡1  0  0⎤\n",
              "⎢       ⎥\n",
              "⎢0  1  0⎥\n",
              "⎢       ⎥\n",
              "⎣0  0  1⎦"
            ]
          },
          "metadata": {},
          "execution_count": 8
        }
      ]
    },
    {
      "cell_type": "markdown",
      "metadata": {
        "id": "FMsu3kej_aPD"
      },
      "source": [
        "##  **Ejemplo 2: matriz singular**\n",
        "\n",
        "Encuentra la matriz $A^{-1}$ si es posible, de la matriz:\n",
        "\n",
        "\n",
        "$$A=\\begin{bmatrix}\n",
        "1 & 2 & 3 \\\\\n",
        "2 & 4 & 6 \\\\\n",
        "1 & 0 & 3  \\\\\n",
        "\\end{bmatrix}\n",
        "$$"
      ]
    },
    {
      "cell_type": "code",
      "metadata": {
        "id": "feyfbaTY_aPj"
      },
      "source": [
        "A = Matrix([[1,2,3],[2,4,6],[1,0,3]])\n",
        "A**(-1)"
      ],
      "execution_count": null,
      "outputs": []
    },
    {
      "cell_type": "markdown",
      "metadata": {
        "id": "a8DSGsswon8y"
      },
      "source": [
        "#  **MATRIZ INVERSA USANDO EL MÉTODO  DE ELIMINACIÓN DE GAUSS-JORDAN**\n",
        "\n",
        "\n",
        "#  **Operaciones elemantales sobre matrices**\n",
        "\n",
        "|             Notación utilizada                  |         Operación sobre fila         | Código |\n",
        "|:-------------------------------:|:--------------------------------------:|:--------------:|\n",
        "|     $F_i \\longleftrightarrow F_j $  | Interrarcambiar la fila<br> $F_i$ con $F_j$ | **` M.row_swap(i, j)`**   |\n",
        "|            $k F_i \\rightarrow F_i  $           |  Multiplicar la fila $F_i$ <br> por la constante $k$ |     **`M[i ,:] = k*M[ i ,:]`**   |\n",
        "| $kF_i + F_j \\rightarrow F_j  $|  Sumar $k$ veces la fila $F_i$ <br> a la fila $F_j$ |    **`M[j ,:] = k*M[ i ,:] + M[j ,:]`**    |"
      ]
    },
    {
      "cell_type": "markdown",
      "metadata": {
        "id": "1W95Jw9id6GY"
      },
      "source": [
        "##  **Ejemplo: matriz inversa** --> *paso a paso*\n",
        "\n",
        "Encuentra la matriz $A^{-1}$ paso a paso, si es posible, de la matriz:\n",
        "\n",
        "\n",
        "$$A=\\begin{bmatrix}\n",
        "5 & 4 & -5 \\\\\n",
        "3 & 6 & -7 \\\\\n",
        "1 & 0 & -3  \\\\\n",
        "\\end{bmatrix}\n",
        "$$"
      ]
    },
    {
      "cell_type": "markdown",
      "metadata": {
        "id": "WZnFIDYwfD7f"
      },
      "source": [
        "###  **Construimos la matriz $\\left[  \\hspace{1mm} A \\hspace{2mm}|\\hspace{2mm} I \\hspace{1mm} \\right]$**"
      ]
    },
    {
      "cell_type": "code",
      "metadata": {
        "colab": {
          "base_uri": "https://localhost:8080/",
          "height": 78
        },
        "id": "23lj55K4cgM2",
        "outputId": "e901d16b-650c-43f6-d39f-8a8403e979f4"
      },
      "source": [
        "A = Matrix([[5,4,-5],[3,6,-7],[1,0,-3]])\n",
        "A"
      ],
      "execution_count": null,
      "outputs": [
        {
          "output_type": "execute_result",
          "data": {
            "text/latex": "$\\displaystyle \\left[\\begin{matrix}5 & 4 & -5\\\\3 & 6 & -7\\\\1 & 0 & -3\\end{matrix}\\right]$",
            "text/plain": [
              "⎡5  4  -5⎤\n",
              "⎢        ⎥\n",
              "⎢3  6  -7⎥\n",
              "⎢        ⎥\n",
              "⎣1  0  -3⎦"
            ]
          },
          "metadata": {},
          "execution_count": 10
        }
      ]
    },
    {
      "cell_type": "code",
      "metadata": {
        "colab": {
          "base_uri": "https://localhost:8080/",
          "height": 78
        },
        "id": "OvuKbh-PxqYD",
        "outputId": "9bc0d700-dd5d-4818-b9b3-ca000de74c6c"
      },
      "source": [
        "I = eye(3)\n",
        "I"
      ],
      "execution_count": null,
      "outputs": [
        {
          "output_type": "execute_result",
          "data": {
            "text/latex": "$\\displaystyle \\left[\\begin{matrix}1 & 0 & 0\\\\0 & 1 & 0\\\\0 & 0 & 1\\end{matrix}\\right]$",
            "text/plain": [
              "⎡1  0  0⎤\n",
              "⎢       ⎥\n",
              "⎢0  1  0⎥\n",
              "⎢       ⎥\n",
              "⎣0  0  1⎦"
            ]
          },
          "metadata": {},
          "execution_count": 11
        }
      ]
    },
    {
      "cell_type": "code",
      "metadata": {
        "colab": {
          "base_uri": "https://localhost:8080/",
          "height": 78
        },
        "id": "2-7kgGulxzjk",
        "outputId": "56c08102-76a3-4426-82ab-cc9300af21a9"
      },
      "source": [
        "AI = Matrix.hstack(A,I)\n",
        "AI"
      ],
      "execution_count": null,
      "outputs": [
        {
          "output_type": "execute_result",
          "data": {
            "text/latex": "$\\displaystyle \\left[\\begin{matrix}5 & 4 & -5 & 1 & 0 & 0\\\\3 & 6 & -7 & 0 & 1 & 0\\\\1 & 0 & -3 & 0 & 0 & 1\\end{matrix}\\right]$",
            "text/plain": [
              "⎡5  4  -5  1  0  0⎤\n",
              "⎢                 ⎥\n",
              "⎢3  6  -7  0  1  0⎥\n",
              "⎢                 ⎥\n",
              "⎣1  0  -3  0  0  1⎦"
            ]
          },
          "metadata": {},
          "execution_count": 12
        }
      ]
    },
    {
      "cell_type": "markdown",
      "metadata": {
        "id": "TmsIOhu3gGM3"
      },
      "source": [
        "###  **Intercambiamos la fila 1 con la fila 2:**&nbsp;&nbsp;&nbsp;&nbsp;($ F_1 \\longleftrightarrow F_2  $ )"
      ]
    },
    {
      "cell_type": "code",
      "metadata": {
        "colab": {
          "base_uri": "https://localhost:8080/",
          "height": 78
        },
        "id": "H7-mVM-xGt6d",
        "outputId": "74d639e8-8c43-41df-806f-1567143db7e2"
      },
      "source": [
        "AI.row_swap(0,2)\n",
        "AI"
      ],
      "execution_count": null,
      "outputs": [
        {
          "output_type": "execute_result",
          "data": {
            "text/latex": "$\\displaystyle \\left[\\begin{matrix}1 & 0 & -3 & 0 & 0 & 1\\\\3 & 6 & -7 & 0 & 1 & 0\\\\5 & 4 & -5 & 1 & 0 & 0\\end{matrix}\\right]$",
            "text/plain": [
              "⎡1  0  -3  0  0  1⎤\n",
              "⎢                 ⎥\n",
              "⎢3  6  -7  0  1  0⎥\n",
              "⎢                 ⎥\n",
              "⎣5  4  -5  1  0  0⎦"
            ]
          },
          "metadata": {},
          "execution_count": 13
        }
      ]
    },
    {
      "cell_type": "markdown",
      "metadata": {
        "id": "F5CRDkg9guhP"
      },
      "source": [
        "###  **Multiplicamos por $-3$ &nbsp; la fila&nbsp; $1$ &nbsp; y se la sumamos a la fila&nbsp; $2$:**&nbsp;&nbsp;&nbsp;&nbsp;($-3F_1 + F_2 \\rightarrow F_2 $ )\n",
        "\n",
        "###  **Multiplicamos por $-5$ &nbsp; la fila&nbsp; $1$ &nbsp; y se la sumamos a la fila&nbsp; $3$:**&nbsp;&nbsp;&nbsp;&nbsp;($-5F_1 + F_3 \\rightarrow F_3 $ )"
      ]
    },
    {
      "cell_type": "code",
      "metadata": {
        "colab": {
          "base_uri": "https://localhost:8080/",
          "height": 78
        },
        "id": "_9ES6Y0rH96i",
        "outputId": "1bb88db3-b16a-4473-df7b-b0a9c3912432"
      },
      "source": [
        "AI[1,:] = -3*AI[0,:] + AI[1,:]\n",
        "AI[2,:] = -5*AI[0,:] + AI[2,:]\n",
        "AI"
      ],
      "execution_count": null,
      "outputs": [
        {
          "output_type": "execute_result",
          "data": {
            "text/latex": "$\\displaystyle \\left[\\begin{matrix}1 & 0 & -3 & 0 & 0 & 1\\\\0 & 6 & 2 & 0 & 1 & -3\\\\0 & 4 & 10 & 1 & 0 & -5\\end{matrix}\\right]$",
            "text/plain": [
              "⎡1  0  -3  0  0  1 ⎤\n",
              "⎢                  ⎥\n",
              "⎢0  6  2   0  1  -3⎥\n",
              "⎢                  ⎥\n",
              "⎣0  4  10  1  0  -5⎦"
            ]
          },
          "metadata": {},
          "execution_count": 14
        }
      ]
    },
    {
      "cell_type": "markdown",
      "metadata": {
        "id": "cnpFK3R3hQQz"
      },
      "source": [
        "###  **Multiplicamos por $\\frac{1}{6}$ la fila 2:**&nbsp;&nbsp;&nbsp;&nbsp;($\\frac{1}{6} F_1 \\rightarrow F_2  $ )"
      ]
    },
    {
      "cell_type": "code",
      "metadata": {
        "colab": {
          "base_uri": "https://localhost:8080/",
          "height": 78
        },
        "id": "KG04zuCpIffS",
        "outputId": "d2d4184d-791e-49c6-82c8-c45cbae7ec30"
      },
      "source": [
        "AI[1,:] = S(\"1/6\")*AI[1,:] \n",
        "AI"
      ],
      "execution_count": null,
      "outputs": [
        {
          "output_type": "execute_result",
          "data": {
            "text/latex": "$\\displaystyle \\left[\\begin{matrix}1 & 0 & -3 & 0 & 0 & 1\\\\0 & 1 & \\frac{1}{3} & 0 & \\frac{1}{6} & - \\frac{1}{2}\\\\0 & 4 & 10 & 1 & 0 & -5\\end{matrix}\\right]$",
            "text/plain": [
              "⎡1  0  -3   0   0    1  ⎤\n",
              "⎢                       ⎥\n",
              "⎢0  1  1/3  0  1/6  -1/2⎥\n",
              "⎢                       ⎥\n",
              "⎣0  4  10   1   0    -5 ⎦"
            ]
          },
          "metadata": {},
          "execution_count": 15
        }
      ]
    },
    {
      "cell_type": "markdown",
      "metadata": {
        "id": "WOsdJfLnhfto"
      },
      "source": [
        "###  **Multiplicamos por $-4$ &nbsp; la fila&nbsp; $2$ &nbsp; y se la sumamos a la fila&nbsp; $3$:**&nbsp;&nbsp;&nbsp;&nbsp;($-4F_2 + F_3 \\rightarrow F_3 $ )"
      ]
    },
    {
      "cell_type": "code",
      "metadata": {
        "colab": {
          "base_uri": "https://localhost:8080/",
          "height": 78
        },
        "id": "QPUxrXIJIvqa",
        "outputId": "3c70a6a8-5201-4ad7-f4b2-5cb951504ffd"
      },
      "source": [
        "AI[2,:] = -4*AI[1,:] + AI[2,:]\n",
        "AI"
      ],
      "execution_count": null,
      "outputs": [
        {
          "output_type": "execute_result",
          "data": {
            "text/latex": "$\\displaystyle \\left[\\begin{matrix}1 & 0 & -3 & 0 & 0 & 1\\\\0 & 1 & \\frac{1}{3} & 0 & \\frac{1}{6} & - \\frac{1}{2}\\\\0 & 0 & \\frac{26}{3} & 1 & - \\frac{2}{3} & -3\\end{matrix}\\right]$",
            "text/plain": [
              "⎡1  0   -3   0   0     1  ⎤\n",
              "⎢                         ⎥\n",
              "⎢0  1  1/3   0  1/6   -1/2⎥\n",
              "⎢                         ⎥\n",
              "⎣0  0  26/3  1  -2/3   -3 ⎦"
            ]
          },
          "metadata": {},
          "execution_count": 16
        }
      ]
    },
    {
      "cell_type": "markdown",
      "metadata": {
        "id": "ZjMqByJyiomd"
      },
      "source": [
        "###  **Multiplicamos por $\\frac{3}{26}$ &nbsp; la fila&nbsp; $3$:**&nbsp;&nbsp;&nbsp;&nbsp;($ \\frac{3}{26}F_3 \\rightarrow F_3 $ )"
      ]
    },
    {
      "cell_type": "code",
      "metadata": {
        "colab": {
          "base_uri": "https://localhost:8080/",
          "height": 78
        },
        "id": "8MGfjUHaI5hZ",
        "outputId": "8d78630c-a257-4f82-8b5b-6b4d8a92dd5e"
      },
      "source": [
        "AI[2,:] = S(\"3/26\")*AI[2,:] \n",
        "AI"
      ],
      "execution_count": null,
      "outputs": [
        {
          "output_type": "execute_result",
          "data": {
            "text/latex": "$\\displaystyle \\left[\\begin{matrix}1 & 0 & -3 & 0 & 0 & 1\\\\0 & 1 & \\frac{1}{3} & 0 & \\frac{1}{6} & - \\frac{1}{2}\\\\0 & 0 & 1 & \\frac{3}{26} & - \\frac{1}{13} & - \\frac{9}{26}\\end{matrix}\\right]$",
            "text/plain": [
              "⎡1  0  -3    0      0      1  ⎤\n",
              "⎢                             ⎥\n",
              "⎢0  1  1/3   0     1/6   -1/2 ⎥\n",
              "⎢                             ⎥\n",
              "⎣0  0   1   3/26  -1/13  -9/26⎦"
            ]
          },
          "metadata": {},
          "execution_count": 17
        }
      ]
    },
    {
      "cell_type": "markdown",
      "metadata": {
        "id": "OTIzDqPVjOB7"
      },
      "source": [
        "###  **Multiplicamos por $3$ &nbsp; la fila&nbsp; $3$ &nbsp; y se la sumamos a la fila&nbsp; $1$:**&nbsp;&nbsp;&nbsp;&nbsp;($3F_3 + F_1 \\rightarrow F_1 $ )\n",
        "\n",
        "###  **Multiplicamos por $-\\frac{1}{3}$ &nbsp; la fila&nbsp; $3$ &nbsp; y se la sumamos a la fila&nbsp; $2$:**&nbsp;&nbsp;&nbsp;&nbsp;($-\\frac{1}{3}F_3 + F_2 \\rightarrow F_2 $ )"
      ]
    },
    {
      "cell_type": "code",
      "metadata": {
        "colab": {
          "base_uri": "https://localhost:8080/",
          "height": 78
        },
        "id": "9vozoPB1KiTR",
        "outputId": "c5a94b5d-fdcb-445e-f745-ee8421e94e35"
      },
      "source": [
        "AI[0,:] = 3*AI[2,:] + AI[0,:]\n",
        "AI[1,:] = S(\"-1/3\")*AI[2,:] + AI[1,:]\n",
        "AI"
      ],
      "execution_count": null,
      "outputs": [
        {
          "output_type": "execute_result",
          "data": {
            "text/latex": "$\\displaystyle \\left[\\begin{matrix}1 & 0 & 0 & \\frac{9}{26} & - \\frac{3}{13} & - \\frac{1}{26}\\\\0 & 1 & 0 & - \\frac{1}{26} & \\frac{5}{26} & - \\frac{5}{13}\\\\0 & 0 & 1 & \\frac{3}{26} & - \\frac{1}{13} & - \\frac{9}{26}\\end{matrix}\\right]$",
            "text/plain": [
              "⎡1  0  0  9/26   -3/13  -1/26⎤\n",
              "⎢                            ⎥\n",
              "⎢0  1  0  -1/26  5/26   -5/13⎥\n",
              "⎢                            ⎥\n",
              "⎣0  0  1  3/26   -1/13  -9/26⎦"
            ]
          },
          "metadata": {},
          "execution_count": 18
        }
      ]
    },
    {
      "cell_type": "markdown",
      "metadata": {
        "id": "49otieSyj1S0"
      },
      "source": [
        "### **Obtenemos la matriz $\\left[  \\hspace{1mm} I \\hspace{2mm}|\\hspace{2mm} A^{-1} \\hspace{1mm} \\right]$**"
      ]
    },
    {
      "cell_type": "code",
      "metadata": {
        "colab": {
          "base_uri": "https://localhost:8080/",
          "height": 78
        },
        "id": "vzFazsQkj0Hx",
        "outputId": "64de7d1f-d458-4f94-bb57-f9c5f02dfdc7"
      },
      "source": [
        "AI"
      ],
      "execution_count": null,
      "outputs": [
        {
          "output_type": "execute_result",
          "data": {
            "text/latex": "$\\displaystyle \\left[\\begin{matrix}1 & 0 & 0 & \\frac{9}{26} & - \\frac{3}{13} & - \\frac{1}{26}\\\\0 & 1 & 0 & - \\frac{1}{26} & \\frac{5}{26} & - \\frac{5}{13}\\\\0 & 0 & 1 & \\frac{3}{26} & - \\frac{1}{13} & - \\frac{9}{26}\\end{matrix}\\right]$",
            "text/plain": [
              "⎡1  0  0  9/26   -3/13  -1/26⎤\n",
              "⎢                            ⎥\n",
              "⎢0  1  0  -1/26  5/26   -5/13⎥\n",
              "⎢                            ⎥\n",
              "⎣0  0  1  3/26   -1/13  -9/26⎦"
            ]
          },
          "metadata": {},
          "execution_count": 19
        }
      ]
    },
    {
      "cell_type": "markdown",
      "metadata": {
        "id": "U0ucpqYWkpM_"
      },
      "source": [
        "### **Extraemos la matriz inversa $ A^{-1}$:**"
      ]
    },
    {
      "cell_type": "code",
      "metadata": {
        "colab": {
          "base_uri": "https://localhost:8080/",
          "height": 78
        },
        "id": "AUxsjAm_kqJ6",
        "outputId": "76eb7f73-d18d-408f-edee-8a1cc7c8c70b"
      },
      "source": [
        "inv_A = AI[:,3:]\n",
        "inv_A "
      ],
      "execution_count": null,
      "outputs": [
        {
          "output_type": "execute_result",
          "data": {
            "text/latex": "$\\displaystyle \\left[\\begin{matrix}\\frac{9}{26} & - \\frac{3}{13} & - \\frac{1}{26}\\\\- \\frac{1}{26} & \\frac{5}{26} & - \\frac{5}{13}\\\\\\frac{3}{26} & - \\frac{1}{13} & - \\frac{9}{26}\\end{matrix}\\right]$",
            "text/plain": [
              "⎡9/26   -3/13  -1/26⎤\n",
              "⎢                   ⎥\n",
              "⎢-1/26  5/26   -5/13⎥\n",
              "⎢                   ⎥\n",
              "⎣3/26   -1/13  -9/26⎦"
            ]
          },
          "metadata": {},
          "execution_count": 20
        }
      ]
    },
    {
      "cell_type": "markdown",
      "metadata": {
        "id": "K2aTbUZaLVrf"
      },
      "source": [
        "#   **Propiedades matriz inversa**\n",
        "Sea ${\\displaystyle A,B\\in {\\mathcal {M}}_{n\\times n}(\\mathbb {R} )}$ matrices invertibles y $ k\\in \\mathbb {R}$,  se cumplen las siguientes propiedades:\n",
        "\n",
        "|            PROPIEDAD           |       EXPLICACIÓN                      |\n",
        "|:------------------------------:|:--------------------------------------:|\n",
        "| Unicidad                  |$$A^{-1} \\in \\mathcal{M}_{n\\times n}(\\mathbb{R}) \\text{  y es unica}$$ |\n",
        "| Inversa del producto                   |$$(AB)^{-1} = B^{-1}A^{-1}$$|\n",
        "| Involutiva   |  $$(A^{-1})^{-1}= A$$                                  |\n",
        "| Inversa de un escalar por una matriz  |  $$(kA)^{-1}= \\dfrac{1}{k}A^{-1}$$ |\n",
        "\n"
      ]
    },
    {
      "cell_type": "markdown",
      "metadata": {
        "id": "qayPFJW5Q1tL"
      },
      "source": [
        "##   **Verificación de las propiedades de la matriz inversa**"
      ]
    },
    {
      "cell_type": "markdown",
      "metadata": {
        "id": "qkufN_7ZQ1tT"
      },
      "source": [
        "###   **Inversa del producto**\n",
        "\n",
        "$$(AB)^{-1} = B^{-1}A^{-1}$$"
      ]
    },
    {
      "cell_type": "code",
      "metadata": {
        "id": "ZuXBpBeVQ1tV"
      },
      "source": [
        ""
      ],
      "execution_count": null,
      "outputs": []
    },
    {
      "cell_type": "markdown",
      "metadata": {
        "id": "KPVJxSWvQ1tW"
      },
      "source": [
        "###    **Propiedad involutiva**  \n",
        "$$(A^{-1})^{-1}$$"
      ]
    },
    {
      "cell_type": "code",
      "metadata": {
        "id": "HfgECaPfQ1tX"
      },
      "source": [
        ""
      ],
      "execution_count": null,
      "outputs": []
    },
    {
      "cell_type": "markdown",
      "metadata": {
        "id": "Ef7X2of8Q1tY"
      },
      "source": [
        "###   **Inversa de un escalar por una matriz**\n",
        "\n",
        " $$(kA)^{-1}\n",
        " = \\dfrac{1}{k}A^{-1}$$                      "
      ]
    },
    {
      "cell_type": "code",
      "metadata": {
        "id": "l6-TFLP5Q1tZ"
      },
      "source": [
        ""
      ],
      "execution_count": null,
      "outputs": []
    },
    {
      "cell_type": "markdown",
      "metadata": {
        "id": "zWu8-GMVMqRQ"
      },
      "source": [
        "#   **Inversa de una matriz 2 x 2**\n",
        "\n",
        "Sea ${\\displaystyle A\\in {\\mathcal {M}}_{2\\times 2}(\\mathbb {R} )}$: \n",
        "\n",
        "\n",
        "<center> <h4> Si &nbsp; &nbsp;  \n",
        "$A=\\begin{bmatrix}\n",
        "a & b  \\\\\n",
        "c & d  \\\\\n",
        "\\end{bmatrix}$ &nbsp; &nbsp; entonces &nbsp; &nbsp; \n",
        "$A^{-1}= \\dfrac{1}{ad-bc}\\begin{bmatrix}\n",
        "d & -b  \\\\\n",
        "-c & a  \\\\\n",
        "\\end{bmatrix}$ \n",
        "</h4> </center>\n",
        "\n",
        "\n",
        "donde $ad-bc \\neq 0 $ si $A$ es **invertible**.\n",
        "\n"
      ]
    },
    {
      "cell_type": "markdown",
      "metadata": {
        "id": "5nvtNqQTRYn3"
      },
      "source": [
        "###   **Ejemplo 1:** "
      ]
    },
    {
      "cell_type": "code",
      "metadata": {
        "colab": {
          "base_uri": "https://localhost:8080/",
          "height": 59
        },
        "id": "aOnEvDgeLZb_",
        "outputId": "89d5c555-f701-4542-a5d4-b5147ade67ee"
      },
      "source": [
        "a,b,c,d = symbols(\"a b c d \")\n",
        "A = Matrix([[a,b],[c,d]])\n",
        "A**(-1)"
      ],
      "execution_count": null,
      "outputs": [
        {
          "output_type": "execute_result",
          "data": {
            "text/latex": "$\\displaystyle \\left[\\begin{matrix}\\frac{d}{a d - b c} & - \\frac{b}{a d - b c}\\\\- \\frac{c}{a d - b c} & \\frac{a}{a d - b c}\\end{matrix}\\right]$",
            "text/plain": [
              "⎡    d         -b    ⎤\n",
              "⎢─────────  ─────────⎥\n",
              "⎢a⋅d - b⋅c  a⋅d - b⋅c⎥\n",
              "⎢                    ⎥\n",
              "⎢   -c          a    ⎥\n",
              "⎢─────────  ─────────⎥\n",
              "⎣a⋅d - b⋅c  a⋅d - b⋅c⎦"
            ]
          },
          "metadata": {},
          "execution_count": 39
        }
      ]
    },
    {
      "cell_type": "markdown",
      "metadata": {
        "id": "_nR-MyhNRxp9"
      },
      "source": [
        "###   **Ejemplo 2:** "
      ]
    },
    {
      "cell_type": "code",
      "metadata": {
        "colab": {
          "base_uri": "https://localhost:8080/",
          "height": 57
        },
        "id": "hK0x8j46RzH8",
        "outputId": "4143655b-9b08-4261-8ffb-0537c19d2e71"
      },
      "source": [
        "A = Matrix([[1,2],[3,4]])\n",
        "A**(-1)"
      ],
      "execution_count": null,
      "outputs": [
        {
          "output_type": "execute_result",
          "data": {
            "text/latex": "$\\displaystyle \\left[\\begin{matrix}-2 & 1\\\\\\frac{3}{2} & - \\frac{1}{2}\\end{matrix}\\right]$",
            "text/plain": [
              "⎡-2    1  ⎤\n",
              "⎢         ⎥\n",
              "⎣3/2  -1/2⎦"
            ]
          },
          "metadata": {},
          "execution_count": 40
        }
      ]
    },
    {
      "cell_type": "markdown",
      "metadata": {
        "id": "uQmMT7f9zsAM"
      },
      "source": [
        "##  **Ejercicio matriz inversa**\n",
        "Crea un código para cálcular la matriz inversa de cualquier matriz cuadrada de la forma $A=\\begin{bmatrix}\n",
        "a & b  \\\\\n",
        "c & d  \\\\\n",
        "\\end{bmatrix}$ \n",
        "usando la fórmula:\n",
        "\n",
        "$$A^{-1}= \\dfrac{1}{ad-bc}\\begin{bmatrix}\n",
        "d & -b  \\\\\n",
        "-c & a  \\\\\n",
        "\\end{bmatrix}$$\n",
        "\n",
        "Sin usar la instrucción `A**(-1)`  o el método `A.inv()`.\n",
        "\n",
        "\n",
        "\n"
      ]
    },
    {
      "cell_type": "markdown",
      "metadata": {
        "id": "4gIgU4Q1d5uA"
      },
      "source": [
        "#   **ECUACIONES MATRICIALES**"
      ]
    },
    {
      "cell_type": "markdown",
      "metadata": {
        "id": "RVUq5v8hF9RH"
      },
      "source": [
        "Dadas las matrices:\n",
        "\n",
        "\n",
        "$$A=\\begin{bmatrix}\n",
        "5 & 4 & -5 \\\\\n",
        "3 & 6 & -7 \\\\\n",
        "1 & 0 & -3  \\\\\n",
        "\\end{bmatrix}\n",
        "\\hspace{1cm}\n",
        "B=\\begin{bmatrix}\n",
        "1  & 2 & 3\\\\\n",
        "4  & 5 & 4\\\\\n",
        "1  & -3 & -5\\\\\n",
        "\\end{bmatrix}\n",
        "\\hspace{1cm}\n",
        "C=\\begin{bmatrix}\n",
        "4  & -5 & 3\\\\\n",
        "3 & -7 & 7\\\\\n",
        "1  & 2 & -5\\\\\n",
        "\\end{bmatrix}\n",
        "$$\n",
        "\n",
        "Encuentra la matriz $X$ que resuelve la ecuación:\n",
        "\n",
        "$$AX + B = C$$\n",
        "\n"
      ]
    },
    {
      "cell_type": "markdown",
      "metadata": {
        "id": "Km-hTN3AeRC6"
      },
      "source": [
        "##  **Forma 1:** ---> *verificación rápida*\n",
        "\n",
        "###  **Definimos la matrices**"
      ]
    },
    {
      "cell_type": "code",
      "metadata": {
        "colab": {
          "base_uri": "https://localhost:8080/",
          "height": 78
        },
        "id": "UuT4NiDXIe-D",
        "outputId": "3921b5df-c5b9-45d0-e9d0-f56fa336fbff"
      },
      "source": [
        "A = Matrix([[5,4,-5],[3,6,-7],[1,0,-3]])\n",
        "B = Matrix([[1,2,3],[4,5,4],[1,-3,-5]])\n",
        "C = Matrix([[4,-5,3],[3,-7,7],[1,2,-5]])\n",
        "\n",
        "A,B,C"
      ],
      "execution_count": null,
      "outputs": [
        {
          "output_type": "execute_result",
          "data": {
            "text/latex": "$\\displaystyle \\left( \\left[\\begin{matrix}5 & 4 & -5\\\\3 & 6 & -7\\\\1 & 0 & -3\\end{matrix}\\right], \\  \\left[\\begin{matrix}1 & 2 & 3\\\\4 & 5 & 4\\\\1 & -3 & -5\\end{matrix}\\right], \\  \\left[\\begin{matrix}4 & -5 & 3\\\\3 & -7 & 7\\\\1 & 2 & -5\\end{matrix}\\right]\\right)$",
            "text/plain": [
              "⎛⎡5  4  -5⎤  ⎡1  2   3 ⎤  ⎡4  -5  3 ⎤⎞\n",
              "⎜⎢        ⎥  ⎢         ⎥  ⎢         ⎥⎟\n",
              "⎜⎢3  6  -7⎥, ⎢4  5   4 ⎥, ⎢3  -7  7 ⎥⎟\n",
              "⎜⎢        ⎥  ⎢         ⎥  ⎢         ⎥⎟\n",
              "⎝⎣1  0  -3⎦  ⎣1  -3  -5⎦  ⎣1  2   -5⎦⎠"
            ]
          },
          "metadata": {},
          "execution_count": 3
        }
      ]
    },
    {
      "cell_type": "markdown",
      "metadata": {
        "id": "ejGiyYPULGp8"
      },
      "source": [
        "### **Remplazamos en la ecuación $X = A^{-1}(C-B)$**"
      ]
    },
    {
      "cell_type": "code",
      "metadata": {
        "colab": {
          "base_uri": "https://localhost:8080/",
          "height": 78
        },
        "id": "1KgGCoEBKoPt",
        "outputId": "4e4b9c7d-eba0-493a-a1ed-27ebd05269f3"
      },
      "source": [
        "X = A**(-1)*(C-B)\n",
        "X"
      ],
      "execution_count": null,
      "outputs": [
        {
          "output_type": "execute_result",
          "data": {
            "text/latex": "$\\displaystyle \\left[\\begin{matrix}\\frac{33}{26} & \\frac{2}{13} & - \\frac{9}{13}\\\\- \\frac{4}{13} & - \\frac{103}{26} & \\frac{15}{26}\\\\\\frac{11}{26} & - \\frac{21}{13} & - \\frac{3}{13}\\end{matrix}\\right]$",
            "text/plain": [
              "⎡ 33                ⎤\n",
              "⎢ ──    2/13   -9/13⎥\n",
              "⎢ 26                ⎥\n",
              "⎢                   ⎥\n",
              "⎢       -103    15  ⎥\n",
              "⎢-4/13  ─────   ──  ⎥\n",
              "⎢         26    26  ⎥\n",
              "⎢                   ⎥\n",
              "⎢ 11    -21         ⎥\n",
              "⎢ ──    ────   -3/13⎥\n",
              "⎣ 26     13         ⎦"
            ]
          },
          "metadata": {},
          "execution_count": 4
        }
      ]
    },
    {
      "cell_type": "markdown",
      "metadata": {
        "id": "Fw5RmeeDL80z"
      },
      "source": [
        "### **Verificamos que cumpla la ecuación $AX + B =C$**"
      ]
    },
    {
      "cell_type": "code",
      "metadata": {
        "colab": {
          "base_uri": "https://localhost:8080/"
        },
        "id": "t9zOfDIuVSXb",
        "outputId": "17456160-2c63-430a-83a4-9a1b35cb0d11"
      },
      "source": [
        "A*X+B == C"
      ],
      "execution_count": null,
      "outputs": [
        {
          "output_type": "execute_result",
          "data": {
            "text/plain": [
              "True"
            ]
          },
          "metadata": {},
          "execution_count": 5
        }
      ]
    },
    {
      "cell_type": "markdown",
      "metadata": {
        "id": "6y7tI3w0wblw"
      },
      "source": [
        "##  **Forma 2:** ---> *encontrando la matriz inversa paso a paso*\n",
        "\n",
        "###  **Definimos la matrices**"
      ]
    },
    {
      "cell_type": "code",
      "metadata": {
        "colab": {
          "base_uri": "https://localhost:8080/",
          "height": 78
        },
        "id": "6VFag8KjfsYd",
        "outputId": "02eaaf89-1789-4fd7-fb5b-7d6d2ca2d090"
      },
      "source": [
        "A = Matrix([[5,4,-5],[3,6,-7],[1,0,-3]])\n",
        "B = Matrix([[1,2,3],[4,5,4],[1,-3,-5]])\n",
        "C = Matrix([[4,-5,3],[3,-7,7],[1,2,-5]])\n",
        "\n",
        "A,B,C"
      ],
      "execution_count": null,
      "outputs": [
        {
          "output_type": "execute_result",
          "data": {
            "text/latex": "$\\displaystyle \\left( \\left[\\begin{matrix}5 & 4 & -5\\\\3 & 6 & -7\\\\1 & 0 & -3\\end{matrix}\\right], \\  \\left[\\begin{matrix}1 & 2 & 3\\\\4 & 5 & 4\\\\1 & -3 & -5\\end{matrix}\\right], \\  \\left[\\begin{matrix}4 & -5 & 3\\\\3 & -7 & 7\\\\1 & 2 & -5\\end{matrix}\\right]\\right)$",
            "text/plain": [
              "⎛⎡5  4  -5⎤  ⎡1  2   3 ⎤  ⎡4  -5  3 ⎤⎞\n",
              "⎜⎢        ⎥  ⎢         ⎥  ⎢         ⎥⎟\n",
              "⎜⎢3  6  -7⎥, ⎢4  5   4 ⎥, ⎢3  -7  7 ⎥⎟\n",
              "⎜⎢        ⎥  ⎢         ⎥  ⎢         ⎥⎟\n",
              "⎝⎣1  0  -3⎦  ⎣1  -3  -5⎦  ⎣1  2   -5⎦⎠"
            ]
          },
          "metadata": {},
          "execution_count": 6
        }
      ]
    },
    {
      "cell_type": "markdown",
      "metadata": {
        "id": "ZAvdc_RUf2Fa"
      },
      "source": [
        "###  **Hallamos la matriz inversa de $A^{-1}$ paso a paso**"
      ]
    },
    {
      "cell_type": "code",
      "metadata": {
        "colab": {
          "base_uri": "https://localhost:8080/",
          "height": 78
        },
        "id": "GXbUCrLk4b2t",
        "outputId": "67ac13ba-853c-4be2-a793-965ffaa21483"
      },
      "source": [
        "A = Matrix([[5,4,-5],[3,6,-7],[1,0,-3]])\n",
        "A"
      ],
      "execution_count": null,
      "outputs": [
        {
          "output_type": "execute_result",
          "data": {
            "text/latex": "$\\displaystyle \\left[\\begin{matrix}5 & 4 & -5\\\\3 & 6 & -7\\\\1 & 0 & -3\\end{matrix}\\right]$",
            "text/plain": [
              "⎡5  4  -5⎤\n",
              "⎢        ⎥\n",
              "⎢3  6  -7⎥\n",
              "⎢        ⎥\n",
              "⎣1  0  -3⎦"
            ]
          },
          "metadata": {},
          "execution_count": 7
        }
      ]
    },
    {
      "cell_type": "code",
      "metadata": {
        "colab": {
          "base_uri": "https://localhost:8080/",
          "height": 78
        },
        "id": "nkBqiTIk4g7T",
        "outputId": "f42775e8-52d2-4a58-966b-280c8f48dba7"
      },
      "source": [
        "I = eye(3)\n",
        "AI = Matrix.hstack(A, I)\n",
        "AI"
      ],
      "execution_count": null,
      "outputs": [
        {
          "output_type": "execute_result",
          "data": {
            "text/latex": "$\\displaystyle \\left[\\begin{matrix}5 & 4 & -5 & 1 & 0 & 0\\\\3 & 6 & -7 & 0 & 1 & 0\\\\1 & 0 & -3 & 0 & 0 & 1\\end{matrix}\\right]$",
            "text/plain": [
              "⎡5  4  -5  1  0  0⎤\n",
              "⎢                 ⎥\n",
              "⎢3  6  -7  0  1  0⎥\n",
              "⎢                 ⎥\n",
              "⎣1  0  -3  0  0  1⎦"
            ]
          },
          "metadata": {},
          "execution_count": 9
        }
      ]
    },
    {
      "cell_type": "code",
      "metadata": {
        "colab": {
          "base_uri": "https://localhost:8080/",
          "height": 78
        },
        "id": "4GNzsbSz5W3R",
        "outputId": "36081713-b43a-4242-8c4e-32ada70b561b"
      },
      "source": [
        "AI.row_swap(2,0)\n",
        "AI"
      ],
      "execution_count": null,
      "outputs": [
        {
          "output_type": "execute_result",
          "data": {
            "text/latex": "$\\displaystyle \\left[\\begin{matrix}1 & 0 & -3 & 0 & 0 & 1\\\\3 & 6 & -7 & 0 & 1 & 0\\\\5 & 4 & -5 & 1 & 0 & 0\\end{matrix}\\right]$",
            "text/plain": [
              "⎡1  0  -3  0  0  1⎤\n",
              "⎢                 ⎥\n",
              "⎢3  6  -7  0  1  0⎥\n",
              "⎢                 ⎥\n",
              "⎣5  4  -5  1  0  0⎦"
            ]
          },
          "metadata": {},
          "execution_count": 10
        }
      ]
    },
    {
      "cell_type": "code",
      "metadata": {
        "colab": {
          "base_uri": "https://localhost:8080/",
          "height": 78
        },
        "id": "22f0tdYz5zjd",
        "outputId": "9e40f5ea-d552-48ae-c723-296f58c4a45b"
      },
      "source": [
        "AI[1,:] = -3*AI[0,:] + AI[1,:]\n",
        "AI[2,:] = -5*AI[0,:] + AI[2,:]\n",
        "AI"
      ],
      "execution_count": null,
      "outputs": [
        {
          "output_type": "execute_result",
          "data": {
            "text/latex": "$\\displaystyle \\left[\\begin{matrix}1 & 0 & -3 & 0 & 0 & 1\\\\0 & 6 & 2 & 0 & 1 & -3\\\\0 & 4 & 10 & 1 & 0 & -5\\end{matrix}\\right]$",
            "text/plain": [
              "⎡1  0  -3  0  0  1 ⎤\n",
              "⎢                  ⎥\n",
              "⎢0  6  2   0  1  -3⎥\n",
              "⎢                  ⎥\n",
              "⎣0  4  10  1  0  -5⎦"
            ]
          },
          "metadata": {},
          "execution_count": 11
        }
      ]
    },
    {
      "cell_type": "code",
      "metadata": {
        "colab": {
          "base_uri": "https://localhost:8080/",
          "height": 78
        },
        "id": "k88CCxkkNp6n",
        "outputId": "1d1a503c-9451-4a0e-ae95-6ace49a08fa1"
      },
      "source": [
        "AI[1,:] = S(\"1/6\")*AI[1,:]\n",
        "AI"
      ],
      "execution_count": null,
      "outputs": [
        {
          "output_type": "execute_result",
          "data": {
            "text/latex": "$\\displaystyle \\left[\\begin{matrix}1 & 0 & -3 & 0 & 0 & 1\\\\0 & 1 & \\frac{1}{3} & 0 & \\frac{1}{6} & - \\frac{1}{2}\\\\0 & 4 & 10 & 1 & 0 & -5\\end{matrix}\\right]$",
            "text/plain": [
              "⎡1  0  -3   0   0    1  ⎤\n",
              "⎢                       ⎥\n",
              "⎢0  1  1/3  0  1/6  -1/2⎥\n",
              "⎢                       ⎥\n",
              "⎣0  4  10   1   0    -5 ⎦"
            ]
          },
          "metadata": {},
          "execution_count": 12
        }
      ]
    },
    {
      "cell_type": "code",
      "metadata": {
        "colab": {
          "base_uri": "https://localhost:8080/",
          "height": 78
        },
        "id": "rAs32jPn6u-O",
        "outputId": "95f28ad6-734c-44c4-a0f7-623f2c2fd9de"
      },
      "source": [
        "AI[2,:] = -4*AI[1,:] + AI[2,:]\n",
        "AI"
      ],
      "execution_count": null,
      "outputs": [
        {
          "output_type": "execute_result",
          "data": {
            "text/latex": "$\\displaystyle \\left[\\begin{matrix}1 & 0 & -3 & 0 & 0 & 1\\\\0 & 1 & \\frac{1}{3} & 0 & \\frac{1}{6} & - \\frac{1}{2}\\\\0 & 0 & \\frac{26}{3} & 1 & - \\frac{2}{3} & -3\\end{matrix}\\right]$",
            "text/plain": [
              "⎡1  0   -3   0   0     1  ⎤\n",
              "⎢                         ⎥\n",
              "⎢0  1  1/3   0  1/6   -1/2⎥\n",
              "⎢                         ⎥\n",
              "⎣0  0  26/3  1  -2/3   -3 ⎦"
            ]
          },
          "metadata": {},
          "execution_count": 13
        }
      ]
    },
    {
      "cell_type": "code",
      "metadata": {
        "colab": {
          "base_uri": "https://localhost:8080/",
          "height": 78
        },
        "id": "lpULyNMt6-HB",
        "outputId": "cd1eed90-835a-4b1e-bbe4-30726fac09a8"
      },
      "source": [
        "AI[2,:] = S(\"3/26\")*AI[2,:] \n",
        "AI"
      ],
      "execution_count": null,
      "outputs": [
        {
          "output_type": "execute_result",
          "data": {
            "text/latex": "$\\displaystyle \\left[\\begin{matrix}1 & 0 & -3 & 0 & 0 & 1\\\\0 & 1 & \\frac{1}{3} & 0 & \\frac{1}{6} & - \\frac{1}{2}\\\\0 & 0 & 1 & \\frac{3}{26} & - \\frac{1}{13} & - \\frac{9}{26}\\end{matrix}\\right]$",
            "text/plain": [
              "⎡1  0  -3    0      0      1  ⎤\n",
              "⎢                             ⎥\n",
              "⎢0  1  1/3   0     1/6   -1/2 ⎥\n",
              "⎢                             ⎥\n",
              "⎣0  0   1   3/26  -1/13  -9/26⎦"
            ]
          },
          "metadata": {},
          "execution_count": 14
        }
      ]
    },
    {
      "cell_type": "code",
      "metadata": {
        "colab": {
          "base_uri": "https://localhost:8080/",
          "height": 78
        },
        "id": "CT491Rbk7Qqx",
        "outputId": "8cfadcb0-1daf-418b-83d9-8b7712906278"
      },
      "source": [
        "AI[0,:] = 3*AI[2,:] + AI[0,:]\n",
        "AI[1,:] = S(\"-1/3\")*AI[2,:] + AI[1,:]\n",
        "AI"
      ],
      "execution_count": null,
      "outputs": [
        {
          "output_type": "execute_result",
          "data": {
            "text/latex": "$\\displaystyle \\left[\\begin{matrix}1 & 0 & 0 & \\frac{9}{26} & - \\frac{3}{13} & - \\frac{1}{26}\\\\0 & 1 & 0 & - \\frac{1}{26} & \\frac{5}{26} & - \\frac{5}{13}\\\\0 & 0 & 1 & \\frac{3}{26} & - \\frac{1}{13} & - \\frac{9}{26}\\end{matrix}\\right]$",
            "text/plain": [
              "⎡1  0  0  9/26   -3/13  -1/26⎤\n",
              "⎢                            ⎥\n",
              "⎢0  1  0  -1/26  5/26   -5/13⎥\n",
              "⎢                            ⎥\n",
              "⎣0  0  1  3/26   -1/13  -9/26⎦"
            ]
          },
          "metadata": {},
          "execution_count": 15
        }
      ]
    },
    {
      "cell_type": "code",
      "metadata": {
        "colab": {
          "base_uri": "https://localhost:8080/",
          "height": 78
        },
        "id": "okr5cpDI7iOi",
        "outputId": "1f93cd04-5a76-4464-cda5-dc453da03ba9"
      },
      "source": [
        "inv_A = AI[:,3:]\n",
        "inv_A"
      ],
      "execution_count": null,
      "outputs": [
        {
          "output_type": "execute_result",
          "data": {
            "text/latex": "$\\displaystyle \\left[\\begin{matrix}\\frac{9}{26} & - \\frac{3}{13} & - \\frac{1}{26}\\\\- \\frac{1}{26} & \\frac{5}{26} & - \\frac{5}{13}\\\\\\frac{3}{26} & - \\frac{1}{13} & - \\frac{9}{26}\\end{matrix}\\right]$",
            "text/plain": [
              "⎡9/26   -3/13  -1/26⎤\n",
              "⎢                   ⎥\n",
              "⎢-1/26  5/26   -5/13⎥\n",
              "⎢                   ⎥\n",
              "⎣3/26   -1/13  -9/26⎦"
            ]
          },
          "metadata": {},
          "execution_count": 17
        }
      ]
    },
    {
      "cell_type": "markdown",
      "metadata": {
        "id": "Q9vLsbX3OM2X"
      },
      "source": [
        "###  **Verificamos la matriz inversa**"
      ]
    },
    {
      "cell_type": "code",
      "metadata": {
        "colab": {
          "base_uri": "https://localhost:8080/",
          "height": 78
        },
        "id": "5i8MjvmL8GQK",
        "outputId": "2dbe8cc2-a8b0-4e90-db68-d495f2b201d0"
      },
      "source": [
        "A.inv()"
      ],
      "execution_count": null,
      "outputs": [
        {
          "output_type": "execute_result",
          "data": {
            "text/latex": "$\\displaystyle \\left[\\begin{matrix}\\frac{9}{26} & - \\frac{3}{13} & - \\frac{1}{26}\\\\- \\frac{1}{26} & \\frac{5}{26} & - \\frac{5}{13}\\\\\\frac{3}{26} & - \\frac{1}{13} & - \\frac{9}{26}\\end{matrix}\\right]$",
            "text/plain": [
              "⎡9/26   -3/13  -1/26⎤\n",
              "⎢                   ⎥\n",
              "⎢-1/26  5/26   -5/13⎥\n",
              "⎢                   ⎥\n",
              "⎣3/26   -1/13  -9/26⎦"
            ]
          },
          "metadata": {},
          "execution_count": 18
        }
      ]
    },
    {
      "cell_type": "markdown",
      "metadata": {
        "id": "yepvKTNkgQ3e"
      },
      "source": [
        "### **Remplazamos en la ecuación $X = A^{-1}(C-B)$**"
      ]
    },
    {
      "cell_type": "code",
      "metadata": {
        "colab": {
          "base_uri": "https://localhost:8080/",
          "height": 78
        },
        "id": "sjEevlv5gj2-",
        "outputId": "c571a7ab-e1b5-4c46-a9e9-37c77ef89698"
      },
      "source": [
        "X = inv_A*(C-B)\n",
        "X"
      ],
      "execution_count": null,
      "outputs": [
        {
          "output_type": "execute_result",
          "data": {
            "text/latex": "$\\displaystyle \\left[\\begin{matrix}\\frac{33}{26} & \\frac{2}{13} & - \\frac{9}{13}\\\\- \\frac{4}{13} & - \\frac{103}{26} & \\frac{15}{26}\\\\\\frac{11}{26} & - \\frac{21}{13} & - \\frac{3}{13}\\end{matrix}\\right]$",
            "text/plain": [
              "⎡ 33                ⎤\n",
              "⎢ ──    2/13   -9/13⎥\n",
              "⎢ 26                ⎥\n",
              "⎢                   ⎥\n",
              "⎢       -103    15  ⎥\n",
              "⎢-4/13  ─────   ──  ⎥\n",
              "⎢         26    26  ⎥\n",
              "⎢                   ⎥\n",
              "⎢ 11    -21         ⎥\n",
              "⎢ ──    ────   -3/13⎥\n",
              "⎣ 26     13         ⎦"
            ]
          },
          "metadata": {},
          "execution_count": 19
        }
      ]
    },
    {
      "cell_type": "markdown",
      "metadata": {
        "id": "q6VCwNz2hMoo"
      },
      "source": [
        "### **Verificamos el resultado**"
      ]
    },
    {
      "cell_type": "code",
      "metadata": {
        "colab": {
          "base_uri": "https://localhost:8080/"
        },
        "id": "5AbymB-W8hjt",
        "outputId": "4fb198b7-f63d-483b-b00f-f46f4b6ff42c"
      },
      "source": [
        "A*X + B == C"
      ],
      "execution_count": null,
      "outputs": [
        {
          "output_type": "execute_result",
          "data": {
            "text/plain": [
              "True"
            ]
          },
          "metadata": {},
          "execution_count": 20
        }
      ]
    },
    {
      "cell_type": "markdown",
      "metadata": {
        "id": "OdQeYNbEaz6I"
      },
      "source": [
        "# **RESOLUCIÓN DE SISTEMAS DE ECUACIONES USANDO LA MATRIZ INVERSA**\n",
        "Resuelva el  siguiente sistema utilizando la matriz inversa\n",
        "\n",
        "$$\\left\\{\n",
        "\\begin{array}{rcl}\n",
        "     x+ y-2z  & = & 14\n",
        "  \\\\ 2x-y+z & = & 0\n",
        "  \\\\ 6x+3y+4z & = & 1\n",
        "\\end{array}\n",
        "\\right.$$\n",
        "\n",
        "que se puede reescribir  como $AX = B$  donde :\n",
        "\n",
        "$$A=\\begin{bmatrix}\n",
        "1  & 1 & -2\\\\\n",
        "2  & -1 & 1\\\\\n",
        "6  & 3 & 4\\\\\n",
        "\\end{bmatrix}\n",
        "\\hspace{1cm}\n",
        "B=\\begin{bmatrix}\n",
        "14  \\\\\n",
        "0  \\\\\n",
        "1 \\\\\n",
        "\\end{bmatrix}\n",
        "\\hspace{1cm}\n",
        "X=\\begin{bmatrix}\n",
        "x  \\\\\n",
        "y  \\\\\n",
        "z \\\\\n",
        "\\end{bmatrix}$$"
      ]
    },
    {
      "cell_type": "markdown",
      "metadata": {
        "id": "fqQcEQsji7VF"
      },
      "source": [
        "##**Forma 1:** ---> *verificación rápida*"
      ]
    },
    {
      "cell_type": "code",
      "metadata": {
        "colab": {
          "base_uri": "https://localhost:8080/",
          "height": 78
        },
        "id": "G2U2as3QfKYN",
        "outputId": "f6b89798-2a09-44f9-be48-482c74c25e13"
      },
      "source": [
        "A = Matrix([[1,1,-2],[2,-1,1],[6,3,4]])\n",
        "B = Matrix(3,1,[14,0,1])\n",
        "X = A**(-1)*B \n",
        "X"
      ],
      "execution_count": null,
      "outputs": [
        {
          "output_type": "execute_result",
          "data": {
            "text/latex": "$\\displaystyle \\left[\\begin{matrix}3\\\\1\\\\-5\\end{matrix}\\right]$",
            "text/plain": [
              "⎡3 ⎤\n",
              "⎢  ⎥\n",
              "⎢1 ⎥\n",
              "⎢  ⎥\n",
              "⎣-5⎦"
            ]
          },
          "metadata": {},
          "execution_count": 21
        }
      ]
    },
    {
      "cell_type": "code",
      "metadata": {
        "colab": {
          "base_uri": "https://localhost:8080/"
        },
        "id": "vLyvqan1XReb",
        "outputId": "18ade02d-c352-424d-cb72-6fdac9557717"
      },
      "source": [
        "A*X == B"
      ],
      "execution_count": null,
      "outputs": [
        {
          "output_type": "execute_result",
          "data": {
            "text/plain": [
              "True"
            ]
          },
          "metadata": {},
          "execution_count": 22
        }
      ]
    },
    {
      "cell_type": "code",
      "metadata": {
        "colab": {
          "base_uri": "https://localhost:8080/",
          "height": 38
        },
        "id": "6GSPOfo3DrB1",
        "outputId": "6bc98019-1b7d-4661-8f8a-f585cd25492f"
      },
      "source": [
        "x,y,z = symbols(\"x y z\")\n",
        "\n",
        "solve([x+y-2*z-14,2*x-y+z,6*x+3*y+4*z-1])"
      ],
      "execution_count": null,
      "outputs": [
        {
          "output_type": "execute_result",
          "data": {
            "image/png": "[encoded data removed]",
            "text/latex": "$\\displaystyle \\left\\{ x : 3, \\  y : 1, \\  z : -5\\right\\}$",
            "text/plain": [
              "{x: 3, y: 1, z: -5}"
            ]
          },
          "metadata": {},
          "execution_count": 23
        }
      ]
    },
    {
      "cell_type": "markdown",
      "metadata": {
        "id": "JCnsrz2jjHHw"
      },
      "source": [
        "##  **Forma 2:** ---> *encontrando la matriz inversa paso a paso*\n",
        "\n",
        "###   **Definimos la matrices**"
      ]
    },
    {
      "cell_type": "code",
      "metadata": {
        "colab": {
          "base_uri": "https://localhost:8080/",
          "height": 78
        },
        "id": "m1jOhoSfjPqo",
        "outputId": "6ee24b95-1c54-4f5c-f431-1ffb8c485d40"
      },
      "source": [
        "A = Matrix([[1,1,-2],[2,-1,1],[6,3,4]])\n",
        "B = Matrix(3,1,[14,0,1])\n",
        "A,B"
      ],
      "execution_count": null,
      "outputs": [
        {
          "output_type": "execute_result",
          "data": {
            "text/latex": "$\\displaystyle \\left( \\left[\\begin{matrix}1 & 1 & -2\\\\2 & -1 & 1\\\\6 & 3 & 4\\end{matrix}\\right], \\  \\left[\\begin{matrix}14\\\\0\\\\1\\end{matrix}\\right]\\right)$",
            "text/plain": [
              "⎛⎡1  1   -2⎤  ⎡14⎤⎞\n",
              "⎜⎢         ⎥  ⎢  ⎥⎟\n",
              "⎜⎢2  -1  1 ⎥, ⎢0 ⎥⎟\n",
              "⎜⎢         ⎥  ⎢  ⎥⎟\n",
              "⎝⎣6  3   4 ⎦  ⎣1 ⎦⎠"
            ]
          },
          "metadata": {},
          "execution_count": 24
        }
      ]
    },
    {
      "cell_type": "code",
      "metadata": {
        "colab": {
          "base_uri": "https://localhost:8080/",
          "height": 78
        },
        "id": "CmtwLKhXctjB",
        "outputId": "a0429fd9-c345-4748-ce28-81414b866403"
      },
      "source": [
        "I = eye(3)\n",
        "AI = Matrix.hstack(A,I)\n",
        "AI"
      ],
      "execution_count": null,
      "outputs": [
        {
          "output_type": "execute_result",
          "data": {
            "text/latex": "$\\displaystyle \\left[\\begin{matrix}1 & 1 & -2 & 1 & 0 & 0\\\\2 & -1 & 1 & 0 & 1 & 0\\\\6 & 3 & 4 & 0 & 0 & 1\\end{matrix}\\right]$",
            "text/plain": [
              "⎡1  1   -2  1  0  0⎤\n",
              "⎢                  ⎥\n",
              "⎢2  -1  1   0  1  0⎥\n",
              "⎢                  ⎥\n",
              "⎣6  3   4   0  0  1⎦"
            ]
          },
          "metadata": {},
          "execution_count": 25
        }
      ]
    },
    {
      "cell_type": "code",
      "metadata": {
        "colab": {
          "base_uri": "https://localhost:8080/",
          "height": 78
        },
        "id": "EhXwdZb6dIXT",
        "outputId": "f33207dc-018b-44df-f028-b89dbeea2d8f"
      },
      "source": [
        "AI[1,:]=-2*AI[0,:]+ AI[1,:]\n",
        "AI[2,:]=-6*AI[0,:]+ AI[2,:]\n",
        "AI"
      ],
      "execution_count": null,
      "outputs": [
        {
          "output_type": "execute_result",
          "data": {
            "text/latex": "$\\displaystyle \\left[\\begin{matrix}1 & 1 & -2 & 1 & 0 & 0\\\\0 & -3 & 5 & -2 & 1 & 0\\\\0 & -3 & 16 & -6 & 0 & 1\\end{matrix}\\right]$",
            "text/plain": [
              "⎡1  1   -2  1   0  0⎤\n",
              "⎢                   ⎥\n",
              "⎢0  -3  5   -2  1  0⎥\n",
              "⎢                   ⎥\n",
              "⎣0  -3  16  -6  0  1⎦"
            ]
          },
          "metadata": {},
          "execution_count": 26
        }
      ]
    },
    {
      "cell_type": "code",
      "metadata": {
        "colab": {
          "base_uri": "https://localhost:8080/",
          "height": 78
        },
        "id": "KHMkm9VYd6l3",
        "outputId": "eb7d83f2-5c72-4a14-9c78-2de998a8887b"
      },
      "source": [
        "AI[1,:]=S(\"-1/3\")*AI[1,:]\n",
        "AI"
      ],
      "execution_count": null,
      "outputs": [
        {
          "output_type": "execute_result",
          "data": {
            "text/latex": "$\\displaystyle \\left[\\begin{matrix}1 & 1 & -2 & 1 & 0 & 0\\\\0 & 1 & - \\frac{5}{3} & \\frac{2}{3} & - \\frac{1}{3} & 0\\\\0 & -3 & 16 & -6 & 0 & 1\\end{matrix}\\right]$",
            "text/plain": [
              "⎡1  1    -2    1    0    0⎤\n",
              "⎢                         ⎥\n",
              "⎢0  1   -5/3  2/3  -1/3  0⎥\n",
              "⎢                         ⎥\n",
              "⎣0  -3   16   -6    0    1⎦"
            ]
          },
          "metadata": {},
          "execution_count": 27
        }
      ]
    },
    {
      "cell_type": "code",
      "metadata": {
        "colab": {
          "base_uri": "https://localhost:8080/",
          "height": 78
        },
        "id": "rednYfKbeJEP",
        "outputId": "40a9345e-506b-4479-fc91-0f1d63126db3"
      },
      "source": [
        "AI[0,:]=-1*AI[1,:]+ AI[0,:]\n",
        "AI[2,:]=3*AI[1,:]+ AI[2,:]\n",
        "AI"
      ],
      "execution_count": null,
      "outputs": [
        {
          "output_type": "execute_result",
          "data": {
            "text/latex": "$\\displaystyle \\left[\\begin{matrix}1 & 0 & - \\frac{1}{3} & \\frac{1}{3} & \\frac{1}{3} & 0\\\\0 & 1 & - \\frac{5}{3} & \\frac{2}{3} & - \\frac{1}{3} & 0\\\\0 & 0 & 11 & -4 & -1 & 1\\end{matrix}\\right]$",
            "text/plain": [
              "⎡1  0  -1/3  1/3  1/3   0⎤\n",
              "⎢                        ⎥\n",
              "⎢0  1  -5/3  2/3  -1/3  0⎥\n",
              "⎢                        ⎥\n",
              "⎣0  0   11   -4    -1   1⎦"
            ]
          },
          "metadata": {},
          "execution_count": 28
        }
      ]
    },
    {
      "cell_type": "code",
      "metadata": {
        "colab": {
          "base_uri": "https://localhost:8080/",
          "height": 78
        },
        "id": "4P0phtKFeTYL",
        "outputId": "7063a173-6ebf-402d-fcfe-d608eeb46bb4"
      },
      "source": [
        "AI[2,:]=S(\"1/11\")*AI[2,:]\n",
        "AI"
      ],
      "execution_count": null,
      "outputs": [
        {
          "output_type": "execute_result",
          "data": {
            "text/latex": "$\\displaystyle \\left[\\begin{matrix}1 & 0 & - \\frac{1}{3} & \\frac{1}{3} & \\frac{1}{3} & 0\\\\0 & 1 & - \\frac{5}{3} & \\frac{2}{3} & - \\frac{1}{3} & 0\\\\0 & 0 & 1 & - \\frac{4}{11} & - \\frac{1}{11} & \\frac{1}{11}\\end{matrix}\\right]$",
            "text/plain": [
              "⎡1  0  -1/3   1/3    1/3    0  ⎤\n",
              "⎢                              ⎥\n",
              "⎢0  1  -5/3   2/3   -1/3    0  ⎥\n",
              "⎢                              ⎥\n",
              "⎣0  0   1    -4/11  -1/11  1/11⎦"
            ]
          },
          "metadata": {},
          "execution_count": 29
        }
      ]
    },
    {
      "cell_type": "code",
      "metadata": {
        "colab": {
          "base_uri": "https://localhost:8080/",
          "height": 78
        },
        "id": "RVlITh4VecPT",
        "outputId": "57851ecc-fe85-4040-a3d2-c9fe25a3c30c"
      },
      "source": [
        "AI[1,:]=S(\"5/3\")*AI[2,:]+ AI[1,:]\n",
        "AI[0,:]=S(\"1/3\")*AI[2,:]+ AI[0,:]\n",
        "AI"
      ],
      "execution_count": null,
      "outputs": [
        {
          "output_type": "execute_result",
          "data": {
            "text/latex": "$\\displaystyle \\left[\\begin{matrix}1 & 0 & 0 & \\frac{7}{33} & \\frac{10}{33} & \\frac{1}{33}\\\\0 & 1 & 0 & \\frac{2}{33} & - \\frac{16}{33} & \\frac{5}{33}\\\\0 & 0 & 1 & - \\frac{4}{11} & - \\frac{1}{11} & \\frac{1}{11}\\end{matrix}\\right]$",
            "text/plain": [
              "⎡                 10        ⎤\n",
              "⎢1  0  0  7/33    ──    1/33⎥\n",
              "⎢                 33        ⎥\n",
              "⎢                           ⎥\n",
              "⎢                -16        ⎥\n",
              "⎢0  1  0  2/33   ────   5/33⎥\n",
              "⎢                 33        ⎥\n",
              "⎢                           ⎥\n",
              "⎣0  0  1  -4/11  -1/11  1/11⎦"
            ]
          },
          "metadata": {},
          "execution_count": 30
        }
      ]
    },
    {
      "cell_type": "code",
      "metadata": {
        "colab": {
          "base_uri": "https://localhost:8080/",
          "height": 78
        },
        "id": "EY28aFeSewMI",
        "outputId": "fccae006-c1c7-48e8-f9a5-ad8b6cf76cf7"
      },
      "source": [
        "inv_A = AI[:,3:]\n",
        "inv_A "
      ],
      "execution_count": null,
      "outputs": [
        {
          "output_type": "execute_result",
          "data": {
            "text/latex": "$\\displaystyle \\left[\\begin{matrix}\\frac{7}{33} & \\frac{10}{33} & \\frac{1}{33}\\\\\\frac{2}{33} & - \\frac{16}{33} & \\frac{5}{33}\\\\- \\frac{4}{11} & - \\frac{1}{11} & \\frac{1}{11}\\end{matrix}\\right]$",
            "text/plain": [
              "⎡        10        ⎤\n",
              "⎢7/33    ──    1/33⎥\n",
              "⎢        33        ⎥\n",
              "⎢                  ⎥\n",
              "⎢       -16        ⎥\n",
              "⎢2/33   ────   5/33⎥\n",
              "⎢        33        ⎥\n",
              "⎢                  ⎥\n",
              "⎣-4/11  -1/11  1/11⎦"
            ]
          },
          "metadata": {},
          "execution_count": 31
        }
      ]
    },
    {
      "cell_type": "markdown",
      "metadata": {
        "id": "T6rLibJ-jiaU"
      },
      "source": [
        "###   **Remplazamos en la ecuación $X = A^{-1}B$**\n",
        "\n"
      ]
    },
    {
      "cell_type": "code",
      "metadata": {
        "colab": {
          "base_uri": "https://localhost:8080/",
          "height": 78
        },
        "id": "PLnDWQJSdc3V",
        "outputId": "85cd0cba-3e72-4273-dd4e-eba8d42b9f9d"
      },
      "source": [
        "X = inv_A *B\n",
        "X"
      ],
      "execution_count": null,
      "outputs": [
        {
          "output_type": "execute_result",
          "data": {
            "text/latex": "$\\displaystyle \\left[\\begin{matrix}3\\\\1\\\\-5\\end{matrix}\\right]$",
            "text/plain": [
              "⎡3 ⎤\n",
              "⎢  ⎥\n",
              "⎢1 ⎥\n",
              "⎢  ⎥\n",
              "⎣-5⎦"
            ]
          },
          "metadata": {},
          "execution_count": 32
        }
      ]
    },
    {
      "cell_type": "markdown",
      "metadata": {
        "id": "Kwz-5QwIsj6F"
      },
      "source": [
        "###   **Verificación con la función solve**"
      ]
    },
    {
      "cell_type": "code",
      "metadata": {
        "colab": {
          "base_uri": "https://localhost:8080/",
          "height": 38
        },
        "id": "igimf4U7rXVj",
        "outputId": "9243477f-46c8-4c43-d1bb-876892faa7cb"
      },
      "source": [
        "x,y,z = symbols(\"x y z\")\n",
        "solve([ x + y -2*z -14, 2*x -y +z, 6*x +3*y + 4*z - 1], [x, y, z])"
      ],
      "execution_count": null,
      "outputs": [
        {
          "output_type": "execute_result",
          "data": {
            "image/png": "[encoded data removed]",
            "text/latex": "$\\displaystyle \\left\\{ x : 3, \\  y : 1, \\  z : -5\\right\\}$",
            "text/plain": [
              "{x: 3, y: 1, z: -5}"
            ]
          },
          "metadata": {},
          "execution_count": 33
        }
      ]
    },
    {
      "cell_type": "markdown",
      "metadata": {
        "id": "RN3pExsPPt0Y"
      },
      "source": [
        "#   **PROBLEMAS DE APLICACIÓN USANDO MATRIZ INVERSA**"
      ]
    },
    {
      "cell_type": "markdown",
      "metadata": {
        "id": "xkFJYZq5sQB9"
      },
      "source": [
        "##   **SISTEMA DE MARKOV**\n",
        "\n",
        "Un **Sistema de Markov**(o **Proceso de Markov** o **Cadena de Markov**) es un sistema que puede estar en uno de algunos estados (enumerados), y que puede pasar de un estado a otro durante cada **instante** de acuerdo a probabilidades determinadas.\n",
        "\n",
        "**Probabilidad de transición:** es una probabilidad determinada $P_{ij}$ de ir  de un estado $i$ a un estado $j$ en el proximo paso, en un sistema de Markov.\n",
        "\n",
        "<center> <img src=\"https://github.com/josorio398/ALGEBRA-LINEAL-CON-PYTHON/blob/master/im%C3%A1genes%20repositorio/markov%201.png?raw=true\" alt=\"imafinal\" border=\"0\" width =\"250\"></center>\n",
        "\n",
        "\n",
        "\n",
        "**Diagrama de transición de estados:** es la manera de ilustrar todos los estados y las probabilidades de transición de un sistema de Markov.\n",
        "\n",
        "<center> <img src=\"https://github.com/josorio398/ALGEBRA-LINEAL-CON-PYTHON/blob/master/im%C3%A1genes%20repositorio/markov.PNG?raw=true\" alt=\"imafinal\" border=\"0\" width =\"300\"></center>\n",
        "\n",
        "\n",
        "**Matriz de transición:** es una matriz $P = \\left[  P_{ij} \\right]_{n \\times n}$ donde $P_{ij}$ son las probabilidades de transición asociadas al sistema y $n$ el el numero de estados, las entradas de cada renglon de la matriz deben sumar 1.\n",
        "<br> </br>\n",
        "\n",
        "$$ P = \n",
        "\\begin{pmatrix}\n",
        "P_{11} & P_{12} & \\cdots & P_{1n}\\\\\n",
        "P_{21}  & P_{22} & \\cdots & P_{2n} \\\\\n",
        "\\vdots & \\vdots & \\ddots & \\vdots\\\\\n",
        "P_{n1} & P_{n2} & \\cdots & P_{nn} \n",
        "\\end{pmatrix}$$\n",
        "\n",
        "**Vector de distribución:** es un vector renglon con una entrada para cada estado del sistema, donde $C_i$ pueden representar el numero de individuos en cada estado $i$ del sistema.\n",
        "\n",
        "$$V = \\left[C_1,C_2,\\cdots,C_{n-1},C_n \\right]$$\n",
        "\n",
        "Si $V_0$ es un vector de distribución inicial y $P$ es una matriz de transición para el sistema de Markov, entonces el vector de distribución despues de cada uno de los pasos se define de la siguiente manera:\n",
        "\n",
        "**Vector distribución despues del paso $1$**\n",
        "\n",
        "$$V_1 = V_0P$$\n",
        "\n",
        "**Vector distribución despues del paso $2$**\n",
        "\n",
        "$$V_2 = V_1P = (V_0P)P = V_0P^2$$\n",
        "\n",
        "**Vector distribución despues del paso $3$**\n",
        "\n",
        "$$V_3 = V_2P = (V_0P^2)P = V_0P^3$$\n",
        "\n",
        "$$\\vdots$$\n",
        "\n",
        "**Vector distribución despues del paso $n$**\n",
        "\n",
        "$$V_n = V_{n-1}P = (V_0P^{n-1})P = V_0P^n$$\n"
      ]
    },
    {
      "cell_type": "markdown",
      "metadata": {
        "id": "BHC8--wExwY9"
      },
      "source": [
        "\n",
        "##  **Ejemplo: problema sobre cadenas de Markov** \n",
        "\n",
        "En una población de 10,000 habitantes, 5000 no fuman, 2500 fuman uno o menos de un paquete diario y 2500 fuman más de un paquete diario. En un mes hay un 5% de probabilidad de que un no fumador comience a fumar un paquete diario, o menos, y un 2% de que un no fumador pase a fumar más de un paquete diario. Para los que fuman un paquete, o menos, hay un 10% de probabilidad de que dejen el tabaco, y un 10% de que pasen a fumar más de un paquete diario. Entre los que fuman más de un paquete, hay un 5% de probabilidad de que dejen el tabaco y un 10% de que pasen a fumar un paquete, o menos. ¿Cuántos individuos habrá de cada clase el próximo mes y dentro de un año? "
      ]
    },
    {
      "cell_type": "markdown",
      "metadata": {
        "id": "tnwbsXdDiVg0"
      },
      "source": [
        "$$P=\\begin{bmatrix}\n",
        "0.93 & 0.05 & 0.02 \\\\\n",
        "0.1 & 0.8 & 0.1\\\\\n",
        "0.05 & 0.1 & 0.85 \\\\\n",
        "\\end{bmatrix} \\hspace{1cm}\n",
        "V = \\begin{bmatrix}\n",
        "5000 & 2500 & 2500 \\\\\n",
        "\\end{bmatrix} $$"
      ]
    },
    {
      "cell_type": "code",
      "metadata": {
        "colab": {
          "base_uri": "https://localhost:8080/",
          "height": 78
        },
        "id": "-szb46S8iUrO",
        "outputId": "ea1f3e4b-26da-4fdf-d7db-5116f88c4903"
      },
      "source": [
        "P = Matrix([[0.93,0.05,0.02],[0.1,0.8,0.1],[0.05,0.1,0.85]])\n",
        "V = Matrix(1,3,[5000,2500,2500])\n",
        "\n",
        "P,V"
      ],
      "execution_count": null,
      "outputs": [
        {
          "output_type": "execute_result",
          "data": {
            "text/latex": "$\\displaystyle \\left( \\left[\\begin{matrix}0.93 & 0.05 & 0.02\\\\0.1 & 0.8 & 0.1\\\\0.05 & 0.1 & 0.85\\end{matrix}\\right], \\  \\left[\\begin{matrix}5000 & 2500 & 2500\\end{matrix}\\right]\\right)$",
            "text/plain": [
              "⎛⎡0.93  0.05  0.02⎤                    ⎞\n",
              "⎜⎢                ⎥                    ⎟\n",
              "⎜⎢0.1   0.8   0.1 ⎥, [5000  2500  2500]⎟\n",
              "⎜⎢                ⎥                    ⎟\n",
              "⎝⎣0.05  0.1   0.85⎦                    ⎠"
            ]
          },
          "metadata": {},
          "execution_count": 2
        }
      ]
    },
    {
      "cell_type": "code",
      "metadata": {
        "colab": {
          "base_uri": "https://localhost:8080/",
          "height": 38
        },
        "id": "WiTpdxaL8pxO",
        "outputId": "acddf1c6-c771-47f1-b8d7-ce77827f9688"
      },
      "source": [
        "V*P"
      ],
      "execution_count": null,
      "outputs": [
        {
          "output_type": "execute_result",
          "data": {
            "text/latex": "$\\displaystyle \\left[\\begin{matrix}5025.0 & 2500.0 & 2475.0\\end{matrix}\\right]$",
            "text/plain": [
              "[5025.0  2500.0  2475.0]"
            ]
          },
          "metadata": {},
          "execution_count": 3
        }
      ]
    },
    {
      "cell_type": "code",
      "metadata": {
        "colab": {
          "base_uri": "https://localhost:8080/",
          "height": 38
        },
        "id": "clYH1g5B8zsn",
        "outputId": "42a423d5-2115-486d-c9ce-33fdb73857f0"
      },
      "source": [
        "V*P**12"
      ],
      "execution_count": null,
      "outputs": [
        {
          "output_type": "execute_result",
          "data": {
            "text/latex": "$\\displaystyle \\left[\\begin{matrix}5159.30467056021 & 2477.82448133018 & 2362.87084810961\\end{matrix}\\right]$",
            "text/plain": [
              "[5159.30467056021  2477.82448133018  2362.87084810961]"
            ]
          },
          "metadata": {},
          "execution_count": 4
        }
      ]
    },
    {
      "cell_type": "markdown",
      "metadata": {
        "id": "5WIDkCzrsZnx"
      },
      "source": [
        "##   **RESOLUCIÓN DE CIRCUITOS**\n",
        "\n",
        "### **Ley de Ohm**\n",
        "La ley de Ohm, se le atribuye al matemático alemán **Georg Simon Ohm**, quien  establece que la diferencia de potencial $V$ que aplicamos entre los extremos de un conductor es directamente proporcional a la intensidad de la corriente $I$ que circula por el conductor. Ohm definió a la constante de proporcionalidad como la resistencia eléctrica $R$.\n",
        "\n",
        "$$V = IR$$\n",
        "\n",
        "### **Reglas de Kirchhoff**\n",
        "\n",
        "Las reglas de Kirchhoff consisten en los dos siguientes enunciados:\n",
        "\n",
        "**Regla de Kirchhoff de los nodos:** la suma algebraica de las corrientes en cualquier **nodo** es igual a cero.\n",
        "\n",
        "$$\\sum I = 0$$\n",
        "\n",
        "**Regla de Kirchhoff de las mallas:** la suma algebraica de las diferencias de potencial en cualquier espira, incluso las asociadas con las fem y las de elementos con resistencia, debe ser igual a cero. Es decir,\n",
        "\n",
        "$$\\sum V = 0$$\n",
        "\n"
      ]
    },
    {
      "cell_type": "markdown",
      "metadata": {
        "id": "WwiF11iD2x2h"
      },
      "source": [
        "##  **Ejemplo: problema sobre circuitos** \n",
        "\n",
        "En el circuito que se ilustra, encuentre las \n",
        "corriente en cada malla si $\\varepsilon_1 = 75.0 V$, $\\varepsilon_2 = 30.0V$ y la resistencia $R =2.00\\Omega$.\n",
        "\n",
        "<center> <img src=\"https://github.com/josorio398/ALGEBRA-LINEAL-CON-PYTHON/blob/master/im%C3%A1genes%20repositorio/circuito.PNG?raw=true\" alt=\"imafinal\" border=\"0\" width =\"350\"></center>\n",
        "\n",
        "$$\\left\\{\n",
        "\\begin{array}{rcl}\n",
        "     2I_1= & 45\n",
        "  \\\\ -7I_2 +3I_3 = & 75\n",
        "  \\\\ -3I_2 +9I_3 = & 30\n",
        "\\end{array}\n",
        "\\right.$$\n",
        "\n",
        "que se puede reescribir  como $AX = B$  donde :\n",
        "\n",
        "$$A=\\begin{bmatrix}\n",
        "2  & 0 & 0\\\\\n",
        "0  & -7 & 3\\\\\n",
        "0  & -3 & 9\\\\\n",
        "\\end{bmatrix}\n",
        "\\hspace{1cm}\n",
        "B=\\begin{bmatrix}\n",
        "45  \\\\\n",
        "75  \\\\\n",
        "30 \\\\\n",
        "\\end{bmatrix}\n",
        "\\hspace{1cm}\n",
        "X=\\begin{bmatrix}\n",
        "I_1  \\\\\n",
        "I_2  \\\\\n",
        "I_3 \\\\\n",
        "\\end{bmatrix}$$\n",
        "\n",
        "Cuya solución es :\n",
        "\n",
        "$$X = A^{-1}B$$"
      ]
    },
    {
      "cell_type": "code",
      "metadata": {
        "colab": {
          "base_uri": "https://localhost:8080/",
          "height": 78
        },
        "id": "LZm7diQlGQiw",
        "outputId": "7504d233-a342-48e5-bef2-627557c1dd2e"
      },
      "source": [
        "A = Matrix([[2,0,0],[0,-7,3],[0,-3,9]])\n",
        "B = Matrix([45,75,30])\n",
        "\n",
        "A,B"
      ],
      "execution_count": null,
      "outputs": [
        {
          "output_type": "execute_result",
          "data": {
            "text/latex": "$\\displaystyle \\left( \\left[\\begin{matrix}2 & 0 & 0\\\\0 & -7 & 3\\\\0 & -3 & 9\\end{matrix}\\right], \\  \\left[\\begin{matrix}45\\\\75\\\\30\\end{matrix}\\right]\\right)$",
            "text/plain": [
              "⎛⎡2  0   0⎤  ⎡45⎤⎞\n",
              "⎜⎢        ⎥  ⎢  ⎥⎟\n",
              "⎜⎢0  -7  3⎥, ⎢75⎥⎟\n",
              "⎜⎢        ⎥  ⎢  ⎥⎟\n",
              "⎝⎣0  -3  9⎦  ⎣30⎦⎠"
            ]
          },
          "metadata": {},
          "execution_count": 13
        }
      ]
    },
    {
      "cell_type": "code",
      "metadata": {
        "colab": {
          "base_uri": "https://localhost:8080/",
          "height": 78
        },
        "id": "qhhFRoN0ewQ6",
        "outputId": "76eb81bd-e885-4b2a-d37a-aff64e07b344"
      },
      "source": [
        "I = eye(3)\n",
        "AI = Matrix.hstack(A,I)\n",
        "AI"
      ],
      "execution_count": null,
      "outputs": [
        {
          "output_type": "execute_result",
          "data": {
            "text/latex": "$\\displaystyle \\left[\\begin{matrix}2 & 0 & 0 & 1 & 0 & 0\\\\0 & -7 & 3 & 0 & 1 & 0\\\\0 & -3 & 9 & 0 & 0 & 1\\end{matrix}\\right]$",
            "text/plain": [
              "⎡2  0   0  1  0  0⎤\n",
              "⎢                 ⎥\n",
              "⎢0  -7  3  0  1  0⎥\n",
              "⎢                 ⎥\n",
              "⎣0  -3  9  0  0  1⎦"
            ]
          },
          "metadata": {},
          "execution_count": 14
        }
      ]
    },
    {
      "cell_type": "code",
      "metadata": {
        "colab": {
          "base_uri": "https://localhost:8080/",
          "height": 78
        },
        "id": "C2UUOBL2fI1s",
        "outputId": "7cd0783b-1df6-4974-bf2b-98224c957b00"
      },
      "source": [
        "AI[0,:] = S(\"1/2\")*AI[0,:]\n",
        "AI"
      ],
      "execution_count": null,
      "outputs": [
        {
          "output_type": "execute_result",
          "data": {
            "text/latex": "$\\displaystyle \\left[\\begin{matrix}1 & 0 & 0 & \\frac{1}{2} & 0 & 0\\\\0 & -7 & 3 & 0 & 1 & 0\\\\0 & -3 & 9 & 0 & 0 & 1\\end{matrix}\\right]$",
            "text/plain": [
              "⎡1  0   0  1/2  0  0⎤\n",
              "⎢                   ⎥\n",
              "⎢0  -7  3   0   1  0⎥\n",
              "⎢                   ⎥\n",
              "⎣0  -3  9   0   0  1⎦"
            ]
          },
          "metadata": {},
          "execution_count": 15
        }
      ]
    },
    {
      "cell_type": "code",
      "metadata": {
        "colab": {
          "base_uri": "https://localhost:8080/",
          "height": 78
        },
        "id": "uUCJLWoQfkbm",
        "outputId": "52321234-d21f-409f-e1e9-1ae6b55c7f5f"
      },
      "source": [
        "AI[1,:] = S(\"-1/7\")*AI[1,:]\n",
        "AI"
      ],
      "execution_count": null,
      "outputs": [
        {
          "output_type": "execute_result",
          "data": {
            "text/latex": "$\\displaystyle \\left[\\begin{matrix}1 & 0 & 0 & \\frac{1}{2} & 0 & 0\\\\0 & 1 & - \\frac{3}{7} & 0 & - \\frac{1}{7} & 0\\\\0 & -3 & 9 & 0 & 0 & 1\\end{matrix}\\right]$",
            "text/plain": [
              "⎡1  0    0    1/2   0    0⎤\n",
              "⎢                         ⎥\n",
              "⎢0  1   -3/7   0   -1/7  0⎥\n",
              "⎢                         ⎥\n",
              "⎣0  -3   9     0    0    1⎦"
            ]
          },
          "metadata": {},
          "execution_count": 16
        }
      ]
    },
    {
      "cell_type": "code",
      "metadata": {
        "colab": {
          "base_uri": "https://localhost:8080/",
          "height": 78
        },
        "id": "deU7liG6fv_W",
        "outputId": "be97f1de-433c-49ee-f6ac-104e07c13e31"
      },
      "source": [
        "AI[2,:] = 3*AI[1,:] + AI[2,:]\n",
        "AI"
      ],
      "execution_count": null,
      "outputs": [
        {
          "output_type": "execute_result",
          "data": {
            "text/latex": "$\\displaystyle \\left[\\begin{matrix}1 & 0 & 0 & \\frac{1}{2} & 0 & 0\\\\0 & 1 & - \\frac{3}{7} & 0 & - \\frac{1}{7} & 0\\\\0 & 0 & \\frac{54}{7} & 0 & - \\frac{3}{7} & 1\\end{matrix}\\right]$",
            "text/plain": [
              "⎡1  0   0    1/2   0    0⎤\n",
              "⎢                        ⎥\n",
              "⎢0  1  -3/7   0   -1/7  0⎥\n",
              "⎢                        ⎥\n",
              "⎣0  0  54/7   0   -3/7  1⎦"
            ]
          },
          "metadata": {},
          "execution_count": 17
        }
      ]
    },
    {
      "cell_type": "code",
      "metadata": {
        "colab": {
          "base_uri": "https://localhost:8080/",
          "height": 78
        },
        "id": "2fLcrLEUf8fc",
        "outputId": "d3fda501-b091-4af7-8e76-25864e823416"
      },
      "source": [
        "AI[2,:] = S(\"7/54\")*AI[2,:]\n",
        "AI"
      ],
      "execution_count": null,
      "outputs": [
        {
          "output_type": "execute_result",
          "data": {
            "text/latex": "$\\displaystyle \\left[\\begin{matrix}1 & 0 & 0 & \\frac{1}{2} & 0 & 0\\\\0 & 1 & - \\frac{3}{7} & 0 & - \\frac{1}{7} & 0\\\\0 & 0 & 1 & 0 & - \\frac{1}{18} & \\frac{7}{54}\\end{matrix}\\right]$",
            "text/plain": [
              "⎡1  0   0    1/2    0     0  ⎤\n",
              "⎢                            ⎥\n",
              "⎢0  1  -3/7   0   -1/7    0  ⎥\n",
              "⎢                            ⎥\n",
              "⎣0  0   1     0   -1/18  7/54⎦"
            ]
          },
          "metadata": {},
          "execution_count": 18
        }
      ]
    },
    {
      "cell_type": "code",
      "metadata": {
        "colab": {
          "base_uri": "https://localhost:8080/",
          "height": 78
        },
        "id": "uHJBD7cegGj1",
        "outputId": "4d82e8f3-9331-4d88-c2af-f4956fc8cbfb"
      },
      "source": [
        "AI[1,:] = S(\"3/7\")*AI[2,:] + AI[1,:]\n",
        "AI"
      ],
      "execution_count": null,
      "outputs": [
        {
          "output_type": "execute_result",
          "data": {
            "text/latex": "$\\displaystyle \\left[\\begin{matrix}1 & 0 & 0 & \\frac{1}{2} & 0 & 0\\\\0 & 1 & 0 & 0 & - \\frac{1}{6} & \\frac{1}{18}\\\\0 & 0 & 1 & 0 & - \\frac{1}{18} & \\frac{7}{54}\\end{matrix}\\right]$",
            "text/plain": [
              "⎡1  0  0  1/2    0     0  ⎤\n",
              "⎢                         ⎥\n",
              "⎢0  1  0   0   -1/6   1/18⎥\n",
              "⎢                         ⎥\n",
              "⎣0  0  1   0   -1/18  7/54⎦"
            ]
          },
          "metadata": {},
          "execution_count": 19
        }
      ]
    },
    {
      "cell_type": "code",
      "metadata": {
        "colab": {
          "base_uri": "https://localhost:8080/",
          "height": 78
        },
        "id": "n6Pc3CqXgVPX",
        "outputId": "9935810e-a7bd-48e1-c0cb-a4c9fa747f13"
      },
      "source": [
        "Inv_A = AI[:,3:]\n",
        "Inv_A"
      ],
      "execution_count": null,
      "outputs": [
        {
          "output_type": "execute_result",
          "data": {
            "text/latex": "$\\displaystyle \\left[\\begin{matrix}\\frac{1}{2} & 0 & 0\\\\0 & - \\frac{1}{6} & \\frac{1}{18}\\\\0 & - \\frac{1}{18} & \\frac{7}{54}\\end{matrix}\\right]$",
            "text/plain": [
              "⎡1/2    0     0  ⎤\n",
              "⎢                ⎥\n",
              "⎢ 0   -1/6   1/18⎥\n",
              "⎢                ⎥\n",
              "⎣ 0   -1/18  7/54⎦"
            ]
          },
          "metadata": {},
          "execution_count": 20
        }
      ]
    },
    {
      "cell_type": "code",
      "metadata": {
        "colab": {
          "base_uri": "https://localhost:8080/",
          "height": 78
        },
        "id": "w2UrYLBYglpc",
        "outputId": "785b6e32-50de-45d4-d7ca-3bc5871679e2"
      },
      "source": [
        "X = Inv_A*B\n",
        "X"
      ],
      "execution_count": null,
      "outputs": [
        {
          "output_type": "execute_result",
          "data": {
            "text/latex": "$\\displaystyle \\left[\\begin{matrix}\\frac{45}{2}\\\\- \\frac{65}{6}\\\\- \\frac{5}{18}\\end{matrix}\\right]$",
            "text/plain": [
              "⎡45/2 ⎤\n",
              "⎢     ⎥\n",
              "⎢-65/6⎥\n",
              "⎢     ⎥\n",
              "⎣-5/18⎦"
            ]
          },
          "metadata": {},
          "execution_count": 22
        }
      ]
    },
    {
      "cell_type": "code",
      "metadata": {
        "colab": {
          "base_uri": "https://localhost:8080/",
          "height": 78
        },
        "id": "0R8K11tDGQVu",
        "outputId": "1c7576eb-acfe-46fb-d0c9-bfedad15a4e0"
      },
      "source": [
        "X = A**(-1)*B\n",
        "X"
      ],
      "execution_count": null,
      "outputs": [
        {
          "output_type": "execute_result",
          "data": {
            "text/latex": "$\\displaystyle \\left[\\begin{matrix}\\frac{45}{2}\\\\- \\frac{65}{6}\\\\- \\frac{5}{18}\\end{matrix}\\right]$",
            "text/plain": [
              "⎡45/2 ⎤\n",
              "⎢     ⎥\n",
              "⎢-65/6⎥\n",
              "⎢     ⎥\n",
              "⎣-5/18⎦"
            ]
          },
          "metadata": {},
          "execution_count": 10
        }
      ]
    },
    {
      "cell_type": "code",
      "metadata": {
        "id": "VoqBED029ubm",
        "colab": {
          "base_uri": "https://localhost:8080/"
        },
        "outputId": "31227162-7065-4865-fc4c-0b4fc4dd6cec"
      },
      "source": [
        "A*X == B"
      ],
      "execution_count": null,
      "outputs": [
        {
          "output_type": "execute_result",
          "data": {
            "text/plain": [
              "True"
            ]
          },
          "metadata": {},
          "execution_count": 6
        }
      ]
    },
    {
      "cell_type": "markdown",
      "metadata": {
        "id": "4BW-ChHG6M2j"
      },
      "source": [
        "#**APROXIMACIÓN POR EL MÉTODO DE MÍNIMOS CUADRADOS**\n",
        "\n",
        "En múltiples problemas de las ciencias biológicas, físicas y sociales resulta útil describir la relación entre las variables por medio de una expresión matemática.\n",
        "\n",
        "<center> <img src=\"https://github.com/josorio398/ALGEBRA-LINEAL-CON-PYTHON/blob/master/im%C3%A1genes%20repositorio/mincuadrados.PNG?raw=true\" alt=\"imafinal\" border=\"0\" width =\"980\"></center>\n",
        "\n",
        "#**Aproximación Lineal**\n",
        "\n",
        "Dados los datos que se encuentran en la siguiente tabla:\n",
        "\n",
        "| $\\large{x}$ |  $x_{1}$  | $x_{2}$   | $\\cdots$   |$x_{n-1}$   | $x_{n}$   |\n",
        "|:-:|:-:|:-:|:-:|:-:|:-:|\n",
        "| $\\large{y}$ |  $y_{1}$  |  $y_{2}$  | $\\cdots$   | $y_{n-1}$  | $y_{n}$  |\n",
        "\n",
        "El procedimiento para encontrar los valores de $m$ y $b$ para determinar la ecuación de recta $y = mx+b$ que mejor se ajusta a los datos presentados en la tabla recibe el nombre de *aproximación por mínimos cuadrados*.\n",
        "\n",
        "\n",
        "\n",
        "<center> <img src=\"https://i.ibb.co/tpSzbMv/imafinal.png\" alt=\"imafinal\" border=\"0\" width =\"450\"></center>\n",
        "\n",
        "\n",
        "Definimos inicialmente las matrices $y$ , $A$ y $U$ de la siguiente manera:\n",
        "\n",
        "$$y=\\begin{bmatrix}\n",
        "y_{1}  \\\\\n",
        "y_{2} \\\\\n",
        "\\vdots  \\\\\n",
        "y_{n}  \\\\\n",
        "y_{n-1} \\\\\n",
        "\\end{bmatrix}\n",
        "\\hspace{1cm}\n",
        "A=\\begin{bmatrix}\n",
        "1&x_{1}  \\\\\n",
        "1&x_{2} \\\\\n",
        "\\vdots  \\\\\n",
        "1&x_{n}  \\\\\n",
        "1&x_{n-1} \\\\\n",
        "\\end{bmatrix}\n",
        "\\hspace{1cm}\n",
        "U=\\begin{bmatrix}\n",
        "b  \\\\\n",
        "m \\\\\n",
        "\\end{bmatrix}\n",
        "$$\n",
        "\n",
        "Para determinar las entradas de la matriz $U$ que permitiran encontar la ecuación de la recta $y = mx +b$ de mejor ajuste, debemos usar la siguiente fórmula matricial:\n",
        "$$U=(A^{T}A)^{-1}A^Ty$$"
      ]
    },
    {
      "cell_type": "markdown",
      "metadata": {
        "id": "mPv65dfdOVUj"
      },
      "source": [
        "## **Ejemplo 1: Experimento para encontar la constante elastica de un resorte**\n",
        "\n",
        "Usa el simulador del siguiente enlace [simulación sistema masa-resorte](https://phet.colorado.edu/sims/html/masses-and-springs/latest/masses-and-springs_es.html), para completar la siguiente tabla y aplica la **ley de Hooke** para estimar la constante elastica del resorte, (*sugerencia*: usa el valor de gravedad como $10m/s^2$).\n",
        "\n",
        "| $\\large{x} (m)$ |  $ 0.008$   | $0.016 $   | $0.041 $  |\n",
        "|:-:|:-:|:-:|:-:|\n",
        "| $\\large{F}(N)$ |  $0.5$  |  $1$ | $2.5$ |"
      ]
    },
    {
      "cell_type": "markdown",
      "metadata": {
        "id": "Q555CR_hl_nQ"
      },
      "source": [
        "###  **Ingresamos los datos**\n"
      ]
    },
    {
      "cell_type": "code",
      "metadata": {
        "colab": {
          "base_uri": "https://localhost:8080/",
          "height": 36
        },
        "id": "0Co2OJTSOVUk",
        "outputId": "39b95f43-6e99-42ae-d0b2-83f0e8566ab8"
      },
      "source": [
        "# Ingresamos como listas las componentes x y y del los puntos\n",
        "X = [0.008,0.016,0.041]\n",
        "Y = [0.5,1,2.5]\n",
        "X,Y"
      ],
      "execution_count": 6,
      "outputs": [
        {
          "output_type": "execute_result",
          "data": {
            "image/png": "[encoded data removed]",
            "text/latex": "$\\displaystyle \\left( \\left[ 0.008, \\  0.016, \\  0.041\\right], \\  \\left[ 0.5, \\  1, \\  2.5\\right]\\right)$",
            "text/plain": [
              "([0.008, 0.016, 0.041], [0.5, 1, 2.5])"
            ]
          },
          "metadata": {},
          "execution_count": 6
        }
      ]
    },
    {
      "cell_type": "markdown",
      "metadata": {
        "id": "IwNne-Xe8ziJ"
      },
      "source": [
        "###  **Construimos la matrices $A$,  $\\ y$**"
      ]
    },
    {
      "cell_type": "code",
      "metadata": {
        "colab": {
          "base_uri": "https://localhost:8080/",
          "height": 78
        },
        "id": "OFa0tw8aAmMX",
        "outputId": "cd5ea622-4399-4564-c695-c6bd80808e32"
      },
      "source": [
        "# contamos el número de puntos\n",
        "n = len(X)\n",
        "\n",
        "#Contruimos las matrices A, y\n",
        "unos = ones(n,1)\n",
        "M_x = Matrix(X)\n",
        "\n",
        "A = Matrix.hstack(unos,M_x)\n",
        "y = Matrix(Y)\n",
        "y,A"
      ],
      "execution_count": 14,
      "outputs": [
        {
          "output_type": "execute_result",
          "data": {
            "text/latex": "$\\displaystyle \\left( \\left[\\begin{matrix}0.5\\\\1\\\\2.5\\end{matrix}\\right], \\  \\left[\\begin{matrix}1 & 0.008\\\\1 & 0.016\\\\1 & 0.041\\end{matrix}\\right]\\right)$",
            "text/plain": [
              "⎛⎡0.5⎤  ⎡1  0.008⎤⎞\n",
              "⎜⎢   ⎥  ⎢        ⎥⎟\n",
              "⎜⎢ 1 ⎥, ⎢1  0.016⎥⎟\n",
              "⎜⎢   ⎥  ⎢        ⎥⎟\n",
              "⎝⎣2.5⎦  ⎣1  0.041⎦⎠"
            ]
          },
          "metadata": {},
          "execution_count": 14
        }
      ]
    },
    {
      "cell_type": "markdown",
      "metadata": {
        "id": "LCG_ULvJI01F"
      },
      "source": [
        "###   **Hallamos la matriz $U$**"
      ]
    },
    {
      "cell_type": "code",
      "metadata": {
        "colab": {
          "base_uri": "https://localhost:8080/",
          "height": 57
        },
        "id": "udmoksBoAWOd",
        "outputId": "8c512352-075b-47e2-9951-36ee6782de04"
      },
      "source": [
        "# Hallamos la matriz U\n",
        "U = (A.T*A)**(-1)*A.T*y\n",
        "U\n"
      ],
      "execution_count": 8,
      "outputs": [
        {
          "output_type": "execute_result",
          "data": {
            "text/latex": "$\\displaystyle \\left[\\begin{matrix}0.023340832395951\\\\60.4611923509562\\end{matrix}\\right]$",
            "text/plain": [
              "⎡0.023340832395951⎤\n",
              "⎢                 ⎥\n",
              "⎣60.4611923509562 ⎦"
            ]
          },
          "metadata": {},
          "execution_count": 8
        }
      ]
    },
    {
      "cell_type": "markdown",
      "metadata": {
        "id": "vCWXq3KOp_Gt"
      },
      "source": [
        "###  **Realizamos el diagrama de dispersión y la gráfica de la recta de ajuste**"
      ]
    },
    {
      "cell_type": "code",
      "metadata": {
        "colab": {
          "base_uri": "https://localhost:8080/",
          "height": 295
        },
        "id": "ODbjsqw46YDf",
        "outputId": "e136a6cb-2c2b-4254-9195-a5afec3a82c5"
      },
      "source": [
        "import matplotlib.pyplot as plt\n",
        "import numpy as np\n",
        "\n",
        "#Extraemos los parámetros b y m de la matriz U\n",
        "b= U[0]\n",
        "m= U[1]\n",
        "\n",
        "#Se realiza la grafica de la recta de ajuste.\n",
        "x = np.arange(min(X)-0.01,max(X)+0.01,0.01)\n",
        "plt.plot(x, m*x+b, label='Recta de ajuste')\n",
        "\n",
        "#Se realiza el diagrama de dispersión de los puntos\n",
        "plt.scatter(X,Y, label='Datos')\n",
        "\n",
        "# Se nombran los ejes y asigna el titulo del grafico\n",
        "plt.xlabel(\"x\")\n",
        "plt.ylabel(\"y\")\n",
        "plt.title(\"Diagrama de dispersión\")\n",
        "plt.grid()\n",
        "plt.legend()\n",
        "\n",
        "# Muestra el gráfico\n",
        "plt.show()"
      ],
      "execution_count": 12,
      "outputs": [
        {
          "output_type": "display_data",
          "data": {
            "image/png": "[encoded data removed]",
            "text/plain": [
              "<Figure size 432x288 with 1 Axes>"
            ]
          },
          "metadata": {
            "needs_background": "light"
          }
        }
      ]
    },
    {
      "cell_type": "markdown",
      "metadata": {
        "id": "N_qUR_SHEmAB"
      },
      "source": [
        "# **Aproximación cuadrática**\n",
        "\n",
        "Si se desea ajustar una curva cuadrática a $n$ puntos, debemos encontrar los  valores de $a$, $b$ y $c$ para la ecuación de la curva de la forma: $y = ax^2 +bx +c$ que mejor se ajusta a los puntos como se presenta en la siguiente imagen \n",
        "\n",
        "<center> <img src=\"https://github.com/josorio398/ALGEBRA-LINEAL-CON-PYTHON/blob/master/im%C3%A1genes%20repositorio/regresi%C3%B3n-%20cuadratica.png?raw=true\" alt=\"imafinal\" border=\"0\" width =\"420\"></center>\n",
        "\n",
        "y debemos definir inicialmente las matrices $y$ , $A$ y $U$ de la siguiente manera:\n",
        "\n",
        "$$y=\\begin{bmatrix}\n",
        "y_{1}  \\\\\n",
        "y_{2} \\\\\n",
        "\\vdots  \\\\\n",
        "y_{n}  \\\\\n",
        "y_{n-1} \\\\\n",
        "\\end{bmatrix}\n",
        "\\hspace{1cm}\n",
        "A=\\begin{bmatrix}\n",
        "1&x_{1}&x_{1}^2  \\\\\n",
        "1&x_{2}&x_{2}^2 \\\\\n",
        "\\vdots  \\\\\n",
        "1&x_{n-1}&x_{n-1}^2  \\\\\n",
        "1&x_{n}&x_{n}^2 \\\\\n",
        "\\end{bmatrix}\n",
        "\\hspace{1cm}\n",
        "U=\\begin{bmatrix}\n",
        "c  \\\\\n",
        "b \\\\\n",
        "a\n",
        "\\end{bmatrix}\n",
        "$$\n",
        "\n",
        "Para determinar las entradas de la matriz $U$ que permitiran encontar la ecuación de la parábola $y = ax^2 +bx+c$ de mejor ajuste, debemos usar la siguiente fórmula matricial:\n",
        "$$U=(A^{T}A)^{-1}A^Ty$$\n",
        "\n",
        "\n",
        "\n"
      ]
    },
    {
      "cell_type": "markdown",
      "metadata": {
        "id": "XxKQNg5ANpo4"
      },
      "source": [
        "###   **Ejemplo 2: Experimento para encontar la gravedad de la tierra**\n",
        "\n",
        "Si un objeto se lanza desde una áltura inicial, entonces su altura despues de $t$ segundos esta dada por la ecuación:\n",
        "\n",
        "$$y = \\dfrac{1}{2}gt^2 + v_0t+y_0$$\n",
        "\n",
        "si cierto objeto se deja caer desde una altura de $200 \\hspace{2mm} m$ y parte del reposo, entonces se tiene que $y_0 = 200$ y $v_0 = 0$ y el módelo teórico de su posición respecto al tiempo sería:\n",
        "\n",
        "$$y = \\dfrac{1}{2}gt^2 +200$$\n",
        "\n",
        "Si se tiene la siguiente tabla de valores experimentales, para la altura $y$ y el tiempo transcurrido $t$:\n",
        "\n",
        "\n",
        "\n",
        "| $t\\hspace{2mm}(s)$ |  0  |  1  |  2  |  4  |  6 |\n",
        "|:-----:|:---:|:---:|:---:|:---:|:--:|\n",
        "|  $y\\hspace{2mm}(m)$ | 200 | 195 | 180 | 120 | 25 |\n",
        "\n",
        "Encuetra los parámetros de una curva cuadratica que mejor se ajsute a los datos de la forma:\n",
        "\n",
        "$$y = at^2 +bt+c$$\n",
        "\n",
        "Compare este resultado con el modelo teórico mensionado anteriormente y realice una estimación de la gravedad $g$ de manera experimental.\n"
      ]
    },
    {
      "cell_type": "code",
      "metadata": {
        "id": "KLB5_e3kNoS2"
      },
      "source": [
        ""
      ],
      "execution_count": null,
      "outputs": []
    },
    {
      "cell_type": "markdown",
      "metadata": {
        "id": "_X09MTiv_haH"
      },
      "source": [
        "<p><img alt=\"logo.fua\" height=\"40px\" src=\"https://github.com/josorio398/ALGEBRA-LINEAL-CON-PYTHON/blob/master/im%C3%A1genes%20repositorio/licencia2.png?raw=true\" align=\"left\" hspace=\"0px\" vspace=\"11px\"></p>"
      ]
    }
  ]
}