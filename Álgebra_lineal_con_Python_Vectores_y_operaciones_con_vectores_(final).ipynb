{
  "nbformat": 4,
  "nbformat_minor": 0,
  "metadata": {
    "colab": {
      "name": "Álgebra lineal con Python- Vectores y operaciones con vectores (final).ipynb",
      "provenance": [],
      "collapsed_sections": [],
      "include_colab_link": true
    },
    "kernelspec": {
      "display_name": "Python 3",
      "name": "python3"
    },
    "accelerator": "TPU"
  },
  "cells": [
    {
      "cell_type": "markdown",
      "metadata": {
        "id": "view-in-github",
        "colab_type": "text"
      },
      "source": [
        "<a href=\"https://colab.research.google.com/github/josorio398/ALGEBRA-LINEAL-CON-PYTHON/blob/master/%C3%81lgebra_lineal_con_Python_Vectores_y_operaciones_con_vectores_(final).ipynb\" target=\"_parent\"><img src=\"https://colab.research.google.com/assets/colab-badge.svg\" alt=\"Open In Colab\"/></a>"
      ]
    },
    {
      "cell_type": "markdown",
      "metadata": {
        "id": "RVxHpsbcExUD"
      },
      "source": [
        "<p><img alt=\"logo.fua\" height=\"100px\" src=\"https://github.com/josorio398/ALGEBRA-LINEAL-CON-PYTHON/blob/master/im%C3%A1genes%20repositorio/Logo%20UAm%C3%A9rica%20nuevo%202021.ai_page-0005.jpg?raw=true\" align=\"left\" hspace=\"0px\" vspace=\"0px\"></p>\n",
        "\n",
        "<p><img alt=\"logo.fua\" height=\"26px\" src=\"https://mirrors.creativecommons.org/presskit/buttons/88x31/svg/by-nd.svg\" align=\"right\" hspace=\"0px\" vspace=\"11px\"></p>\n",
        "\n",
        "\n",
        "<center> <font size=\"6\"><b>ÁLGEBRA LINEAL CON PYTHON</b>&nbsp;&nbsp;&nbsp;&nbsp;<center><I>Jhonny Osorio Gallego</I> &nbsp; &nbsp;&nbsp; &nbsp;&nbsp; &nbsp;&nbsp;&nbsp;&nbsp;&nbsp;<p></font></center> "
      ]
    },
    {
      "cell_type": "markdown",
      "metadata": {
        "id": "pELON3yz_46g"
      },
      "source": [
        "# **VECTORES Y OPERACIONES CON VECTORES**\n",
        "\n"
      ]
    },
    {
      "cell_type": "markdown",
      "metadata": {
        "id": "U515Q-sM2m9k"
      },
      "source": [
        "## **LIBRERÍA SIMBÓLICA SYMPY**\n",
        "**SymPy** es una biblioteca de Python para matemáticas simbólicas. Su objetivo es convertirse en un sistema de álgebra computacional (CAS) con todas las funciones, manteniendo el código lo más simple posible para que sea comprensible y fácilmente extensible. SymPy está escrito completamente en Python.[sympy.org](https://www.sympy.org/en/index.html)"
      ]
    },
    {
      "cell_type": "code",
      "metadata": {
        "id": "4wHJ9dZ3405h"
      },
      "source": [
        "from sympy import *\n",
        "\n",
        "#Librería para escribir vectores como vectores unitarios\n",
        "from sympy.physics.vector import *\n",
        "e = ReferenceFrame('e')\n",
        "\n",
        "x,y,z,A,B,C,a = symbols(\"x y z A B C a \")"
      ],
      "execution_count": 15,
      "outputs": []
    },
    {
      "cell_type": "markdown",
      "metadata": {
        "id": "7OJc3TGM7Nou"
      },
      "source": [
        "## **MÓDULO EXTERNO PARA LA GRAFICACIÓN DE VECTORES**\n",
        "\n",
        "El siguiente módulo permite la representación gráfica de vectores en el plano y el espacio y hace uso de la librería  de graficación **Plotly** y de arreglos multidimensionales **NumPy**, se crea como herramienta para una mejor comprensión de los conceptos vectoriales desde las actividades con el lenguaje de programación Python y se nombra como **PlotLinearAlgebra**, el cual contiene el submodulo de graficación **plotvectors** la pagina oficial es : [https://pypi.org/project/PlotLinearAlgebra/](https://pypi.org/project/PlotLinearAlgebra/)."
      ]
    },
    {
      "cell_type": "markdown",
      "metadata": {
        "id": "e2miTWUw6EM5"
      },
      "source": [
        "### **Instalación del módulo en colaboratory**"
      ]
    },
    {
      "cell_type": "code",
      "metadata": {
        "id": "nBrC4QZc51gT"
      },
      "source": [
        "!pip install PlotLinearAlgebra"
      ],
      "execution_count": null,
      "outputs": []
    },
    {
      "cell_type": "markdown",
      "metadata": {
        "id": "Y4HrtR-P6VGR"
      },
      "source": [
        "### **Importación del módulo**"
      ]
    },
    {
      "cell_type": "code",
      "metadata": {
        "id": "BrezktcFFSVo"
      },
      "source": [
        "from PlotLinearAlgebra.plotvectors import *"
      ],
      "execution_count": 4,
      "outputs": []
    },
    {
      "cell_type": "code",
      "metadata": {
        "id": "u_rH94Kq586o"
      },
      "source": [
        "from PlotLinearAlgebra.plot2d import *\n",
        "from PlotLinearAlgebra.plot3d import *"
      ],
      "execution_count": 5,
      "outputs": []
    },
    {
      "cell_type": "markdown",
      "metadata": {
        "id": "VlH4jywSYh0D"
      },
      "source": [
        "# **MAGNITUD FÍSICA**\n",
        "\n",
        "Son aquellas propiedades que poseen lo cuerpos f́ísicos y fenomenos que son susceptibles a ser medidas.\n",
        "\n",
        "**Ejemplos:**  *la longitud, la masa, el tiempo, la velocidad, la fuerza y la temperatura*.\n",
        "\n",
        "# **Magnitudes físicas escalares**\n",
        "\n",
        "Son aquellas que para su definición necesitan de un número real y una unidad de  medida.\n",
        "\n",
        "**Ejemplos:**  *la longitud, la masa, el tiempo y la temperatura*.\n",
        "\n",
        "\n",
        "# **Magnitudes físicas  vectoriales**\n",
        "\n",
        "Son aquellas que para su definición no solamente necesitan de un número real y una unidad de  medida, tambien se necesita especificar su dirección y sentido, para describirlas se usan los **vectores**.\n",
        "\n",
        "**Ejemplos:**  *el desplazamiento, la velocidad, la cantidad de movimiento y la fuerza*."
      ]
    },
    {
      "cell_type": "markdown",
      "metadata": {
        "id": "aH3zHVH7agru"
      },
      "source": [
        "# **DEFINICIÓN GEOMÉTRICA DE VECTOR**\n",
        "\n",
        "Se define como un segmento de recta dirigido,  entre sus caracteristicas podemos apreciar: *punto inicial, magnitud, dirección y sentido*.\n",
        "\n",
        "\n",
        "\n",
        "*   **Magnitud :** se define como la longitud del vector.\n",
        "*   **Dirección:** es la recta soporte, recta directriz o linea de acción que contiene al vector.\n",
        "*   **Sentido:** es la la punta de la flecha.\n",
        "\n",
        "El ángulo $\\theta$ que se mide respecto a una recta en particular determina  la dirreción y el sentido del vector.\n",
        "\n",
        "\n",
        "\n",
        "\n",
        "\n",
        "\n",
        "\n",
        "<center><img src=\"https://github.com/josorio398/ALGEBRA-LINEAL-CON-PYTHON/blob/master/im%C3%A1genes%20repositorio/vector%20geom%C3%A9trico%20final.png?raw=true\"  height=\"300\" />\n",
        "\n"
      ]
    },
    {
      "cell_type": "markdown",
      "metadata": {
        "id": "5t8sQsegyCDo"
      },
      "source": [
        "# **VECTORES IGUALES O EQUIVALENTES**\n",
        "\n",
        "La relación que permite determinar si dos vectores son equivalentes se llama **relación de equipolencia**, dos vectores o mas son equipolentes si tienen la misma *magnitud, dirección y sentido*.\n",
        "\n",
        "Decimos que dos vectores tienen la misma dirección si sus rectas directrices son paralelas.\n",
        "\n",
        "\n",
        "<center><img src=\"https://github.com/josorio398/ALGEBRA-LINEAL-CON-PYTHON/blob/master/im%C3%A1genes%20repositorio/igualdad%20vectores.png?raw=true\"  height=\"300\" /> </center>\n",
        "\n",
        "¿ Cuales de los siguientes vectores tienen la misma dirección, cuales tienen el mismo sentido, cuales tienen la misma magnitud y cuales son equipolentes?\n",
        "\n",
        "\n",
        "# **Equipolencia de vectores desde la física**\n",
        "\n",
        "Dos o más vectores son equipolentes cuando las magnitudes físicas que estos vectores describen tienen el mismo valor, las mismas unidades y producen los mismos efectos.\n",
        "\n",
        "# **Equipolencia de vectores desde la  representación geometrica-sintética**\n",
        "\n",
        "Decimos que dos vectores $\\overrightarrow{AB}$ y $\\overrightarrow{CD}$ son iguales o equipolentes, si al construir los segmentos $\\overline{AC}$ y $\\overline{CD}$ el cuadrilátero $ABCD$ es un paralelogramo.\n",
        "\n",
        "<center><img src=\"https://github.com/josorio398/ALGEBRA-LINEAL-CON-PYTHON/blob/master/im%C3%A1genes%20repositorio/Equipolencia%20sint%C3%A9tica.png?raw=true\"  height=\"200\" /> </center>\n",
        "\n",
        "\n",
        "# **Equipolencia de vectores desde la  representación geométrica-cartesiana**\n",
        "\n",
        "Decimos que dos vectores en el plano $\\overrightarrow{AB}$ y $\\overrightarrow{CD}$ donde $A = (A_x,A_y)$, $B = (B_x,B_y)$, $C= (C_x,C_y)$ y  $D= (D_x,D_y)$ son iguales, si se cumple:\n",
        "\n",
        "\n",
        "<center><img src=\"https://github.com/josorio398/ALGEBRA-LINEAL-CON-PYTHON/blob/master/im%C3%A1genes%20repositorio/equipolencia-cartesiana.png?raw=true\"  height=\"300\" /> </center>\n",
        "\n",
        "\n",
        "\n"
      ]
    },
    {
      "cell_type": "markdown",
      "metadata": {
        "id": "6AOFYb3vw2w_"
      },
      "source": [
        "#**DEFINICIÓN DE UN VECTOR EN PYTHON**\n",
        "\n",
        "En la libreria **SymPy** de python un vector se define como una matriz columna, o como combinación de vectores unitarios, existen otras librerías como NumPy en donde se define como un arreglo, puede consultar en la documentación oficial [https://numpy.org/](https://numpy.org/)."
      ]
    },
    {
      "cell_type": "markdown",
      "metadata": {
        "id": "G0lUdG2VMHRd"
      },
      "source": [
        "# **Definición como una matriz columna**\n",
        "Esta sintaxis para contruir el vector se realiza la función **Matrix** de la librería **SymPy**."
      ]
    },
    {
      "cell_type": "code",
      "metadata": {
        "colab": {
          "base_uri": "https://localhost:8080/",
          "height": 57
        },
        "id": "RJF9cU2kwsca",
        "outputId": "4a1b74e8-5549-4dec-b701-f36c9809f023"
      },
      "source": [
        "from sympy import *\n",
        "A = Matrix([1,2])\n",
        "A"
      ],
      "execution_count": null,
      "outputs": [
        {
          "output_type": "execute_result",
          "data": {
            "text/latex": "$\\displaystyle \\left[\\begin{matrix}1\\\\2\\end{matrix}\\right]$",
            "text/plain": [
              "Matrix([\n",
              "[1],\n",
              "[2]])"
            ]
          },
          "metadata": {},
          "execution_count": 7
        }
      ]
    },
    {
      "cell_type": "code",
      "metadata": {
        "colab": {
          "base_uri": "https://localhost:8080/",
          "height": 78
        },
        "id": "hgFSaymv3prJ",
        "outputId": "dfb3799f-0e9c-4db1-b9fe-6dfcb6506980"
      },
      "source": [
        "A = Matrix([2,3,5])\n",
        "A"
      ],
      "execution_count": null,
      "outputs": [
        {
          "output_type": "execute_result",
          "data": {
            "text/latex": "$\\displaystyle \\left[\\begin{matrix}2\\\\3\\\\5\\end{matrix}\\right]$",
            "text/plain": [
              "Matrix([\n",
              "[2],\n",
              "[3],\n",
              "[5]])"
            ]
          },
          "metadata": {},
          "execution_count": 8
        }
      ]
    },
    {
      "cell_type": "markdown",
      "metadata": {
        "id": "4ad6SMbgMcaa"
      },
      "source": [
        "# **Definición como combinación lineal de vectores unitarios**\n",
        "\n",
        "Esta sintaxis para contruir el vector se realiza con la función **ReferenceFrame** de la librería **sympy.physics.vector**."
      ]
    },
    {
      "cell_type": "code",
      "metadata": {
        "colab": {
          "base_uri": "https://localhost:8080/",
          "height": 37
        },
        "id": "Sfsfmls5LLVe",
        "outputId": "ae5c8b0f-e720-436d-9532-e8482243d539"
      },
      "source": [
        "from sympy.physics.vector import *\n",
        "e = ReferenceFrame('e')\n",
        "\n",
        "i = e.x \n",
        "j = e.y \n",
        "k = e.z\n",
        "\n",
        "A = 2*i + 3*j +5*k\n",
        "A"
      ],
      "execution_count": null,
      "outputs": [
        {
          "output_type": "execute_result",
          "data": {
            "text/latex": "$\\displaystyle 2\\mathbf{\\hat{e}_x} + 3\\mathbf{\\hat{e}_y} + 5\\mathbf{\\hat{e}_z}$",
            "text/plain": [
              "2*e.x + 3*e.y + 5*e.z"
            ]
          },
          "metadata": {},
          "execution_count": 9
        }
      ]
    },
    {
      "cell_type": "markdown",
      "metadata": {
        "id": "2_MXZUkBPWcj"
      },
      "source": [
        "#**TIPOS DE VECTORES**\n",
        "\n",
        "#**Vector  fila**\n",
        "Un **vector fila** o **vector renglón** es una matriz formada por una fila y $n$ entradas y por lo tanto de tamaño $1 \\times n$, de la forma:\n",
        "\n",
        "$$\\vec{V} = (x_1,x_2 \\cdots,x_n)$$\n",
        "\n",
        "###**Ejemplo 1:** ----> *vector fila usando librería sympy*"
      ]
    },
    {
      "cell_type": "code",
      "metadata": {
        "colab": {
          "base_uri": "https://localhost:8080/",
          "height": 38
        },
        "id": "4ign4rsVPfQn",
        "outputId": "e1969e17-56db-44d2-dd4b-4cb161b9b20c"
      },
      "source": [
        "V = Matrix(1,3,[4,5,6])\n",
        "V"
      ],
      "execution_count": null,
      "outputs": [
        {
          "output_type": "execute_result",
          "data": {
            "text/latex": "$\\displaystyle \\left[\\begin{matrix}4 & 5 & 6\\end{matrix}\\right]$",
            "text/plain": [
              "Matrix([[4, 5, 6]])"
            ]
          },
          "metadata": {},
          "execution_count": 12
        }
      ]
    },
    {
      "cell_type": "markdown",
      "metadata": {
        "id": "LTs0f6WfV7F2"
      },
      "source": [
        "###**Ejemplo 2:** ----> *vector fila aleatorio*"
      ]
    },
    {
      "cell_type": "code",
      "metadata": {
        "colab": {
          "base_uri": "https://localhost:8080/",
          "height": 38
        },
        "id": "CpWp-QepShs7",
        "outputId": "14eec31e-7acb-478a-9229-3a5ce4d8d95b"
      },
      "source": [
        "V = randMatrix(1,4,min=-5, max=5)\n",
        "V"
      ],
      "execution_count": null,
      "outputs": [
        {
          "output_type": "execute_result",
          "data": {
            "text/latex": "$\\displaystyle \\left[\\begin{matrix}-5 & 5 & -4 & -1\\end{matrix}\\right]$",
            "text/plain": [
              "Matrix([[-5, 5, -4, -1]])"
            ]
          },
          "metadata": {},
          "execution_count": 13
        }
      ]
    },
    {
      "cell_type": "markdown",
      "metadata": {
        "id": "uSVxjyz2Wb8j"
      },
      "source": [
        "#**Vector columna**\n",
        "Un **vector columna** es una matriz formada por una columna y $n$ entradas y por lo tanto de  tamaño $n \\times 1$, de la forma:\n",
        "\n",
        "$$\\vec{V} = \\begin{pmatrix}x_1 \\\\ x_2 \\\\ \\vdots \\\\ x_n\\end{pmatrix} $$\n",
        "\n",
        "###**Ejemplo 1** ----> *vector comumna usando librería sympy*"
      ]
    },
    {
      "cell_type": "code",
      "metadata": {
        "colab": {
          "base_uri": "https://localhost:8080/",
          "height": 78
        },
        "id": "FNWOYb5AWb89",
        "outputId": "522f5737-0697-41fd-b6a1-9d4d7f08ca3a"
      },
      "source": [
        "V = Matrix([2,5,7])\n",
        "V"
      ],
      "execution_count": null,
      "outputs": [
        {
          "output_type": "execute_result",
          "data": {
            "text/latex": "$\\displaystyle \\left[\\begin{matrix}2\\\\5\\\\7\\end{matrix}\\right]$",
            "text/plain": [
              "Matrix([\n",
              "[2],\n",
              "[5],\n",
              "[7]])"
            ]
          },
          "metadata": {},
          "execution_count": 14
        }
      ]
    },
    {
      "cell_type": "markdown",
      "metadata": {
        "id": "7uOXIKJkWb9A"
      },
      "source": [
        "###**Ejemplo 2:** ----> *vector columna aleatorio*"
      ]
    },
    {
      "cell_type": "code",
      "metadata": {
        "colab": {
          "base_uri": "https://localhost:8080/",
          "height": 98
        },
        "id": "Cs6dtzGLWb9B",
        "outputId": "984a1e82-ea59-40c9-9792-96878f7d930d"
      },
      "source": [
        "V = randMatrix(4,1,min=-5, max=5)\n",
        "V"
      ],
      "execution_count": null,
      "outputs": [
        {
          "output_type": "execute_result",
          "data": {
            "text/latex": "$\\displaystyle \\left[\\begin{matrix}5\\\\4\\\\2\\\\-4\\end{matrix}\\right]$",
            "text/plain": [
              "Matrix([\n",
              "[ 5],\n",
              "[ 4],\n",
              "[ 2],\n",
              "[-4]])"
            ]
          },
          "metadata": {},
          "execution_count": 15
        }
      ]
    },
    {
      "cell_type": "markdown",
      "metadata": {
        "id": "JHtbQwaKYMSg"
      },
      "source": [
        "#**Vector nulo**\n",
        "un **vector nulo** o **vector cero** es un vector que posee módulo o mágnitud nula, se representa de la forma \n",
        "\n",
        "$$\\vec{0} = \\begin{pmatrix}0 \\\\ 0 \\\\ \\vdots \\\\ 0\\end{pmatrix} \\hspace{0.5cm} \\text{o} \\hspace{0.5cm} \\vec{0} = (0,0 \\cdots,0)$$\n",
        "\n",
        "respectivamente como **vector columna** o **vector fila**.\n",
        "\n",
        "###**Ejemplo 1** ----> *vector fila nulo*"
      ]
    },
    {
      "cell_type": "code",
      "metadata": {
        "colab": {
          "base_uri": "https://localhost:8080/",
          "height": 38
        },
        "id": "UD7qvqn6Z_ox",
        "outputId": "416c340c-243e-4a02-dbc8-a6b10853e2fb"
      },
      "source": [
        "O = zeros(1,4)\n",
        "O"
      ],
      "execution_count": null,
      "outputs": [
        {
          "output_type": "execute_result",
          "data": {
            "text/latex": "$\\displaystyle \\left[\\begin{matrix}0 & 0 & 0 & 0\\end{matrix}\\right]$",
            "text/plain": [
              "Matrix([[0, 0, 0, 0]])"
            ]
          },
          "metadata": {},
          "execution_count": 16
        }
      ]
    },
    {
      "cell_type": "markdown",
      "metadata": {
        "id": "YihUXGzXaPS2"
      },
      "source": [
        "###**Ejemplo 2** ----> *vector columna nulo*"
      ]
    },
    {
      "cell_type": "code",
      "metadata": {
        "colab": {
          "base_uri": "https://localhost:8080/",
          "height": 78
        },
        "id": "rAhMdcdQabIv",
        "outputId": "f39e1f46-64ca-4d59-b5ca-c75d74f48887"
      },
      "source": [
        "O = zeros(3,1)\n",
        "O"
      ],
      "execution_count": null,
      "outputs": [
        {
          "output_type": "execute_result",
          "data": {
            "text/latex": "$\\displaystyle \\left[\\begin{matrix}0\\\\0\\\\0\\end{matrix}\\right]$",
            "text/plain": [
              "Matrix([\n",
              "[0],\n",
              "[0],\n",
              "[0]])"
            ]
          },
          "metadata": {},
          "execution_count": 17
        }
      ]
    },
    {
      "cell_type": "markdown",
      "metadata": {
        "id": "zELOjcaTdDWx"
      },
      "source": [
        "#**FUNCIONES Y MÉTODOS SOBRE VECTORES**\n",
        "\n",
        "#**Dimensión de un vector**"
      ]
    },
    {
      "cell_type": "code",
      "metadata": {
        "colab": {
          "base_uri": "https://localhost:8080/"
        },
        "id": "8yx1bXngcUGv",
        "outputId": "295f24ef-06c4-4628-fffe-42422de4df06"
      },
      "source": [
        "V = Matrix([1,2,3,4,5])\n",
        "len(V)"
      ],
      "execution_count": null,
      "outputs": [
        {
          "output_type": "execute_result",
          "data": {
            "text/plain": [
              "5"
            ]
          },
          "metadata": {},
          "execution_count": 8
        }
      ]
    },
    {
      "cell_type": "markdown",
      "metadata": {
        "id": "B2RxylBsdUyf"
      },
      "source": [
        "#**Acceder a una coordenada del vector**"
      ]
    },
    {
      "cell_type": "code",
      "metadata": {
        "colab": {
          "base_uri": "https://localhost:8080/",
          "height": 36
        },
        "id": "ItPELPRpf5JC",
        "outputId": "b153e515-4d67-41fc-e75c-e45a0be36a4c"
      },
      "source": [
        "V = Matrix([1,2,3,4,5])\n",
        "V[3]"
      ],
      "execution_count": null,
      "outputs": [
        {
          "output_type": "execute_result",
          "data": {
            "text/latex": "$\\displaystyle 4$",
            "text/plain": [
              "4"
            ]
          },
          "metadata": {},
          "execution_count": 9
        }
      ]
    },
    {
      "cell_type": "markdown",
      "metadata": {
        "id": "0oYYaDojg_c5"
      },
      "source": [
        "# **GRAFICACIÓN DE VECTORES CON EL MÓDULO PLOTVECTOR**\n",
        "\n",
        "#**Graficación de vectores unidimensionales**\n",
        "\n",
        "###**Con punto inicial en el origen**"
      ]
    },
    {
      "cell_type": "code",
      "metadata": {
        "colab": {
          "base_uri": "https://localhost:8080/",
          "height": 497
        },
        "id": "GumYM1GQhLvk",
        "outputId": "e24d6c48-af6a-4041-b41f-69f8999e8cf1"
      },
      "source": [
        "A = Matrix([-3])\n",
        "plotvectors2D(A)"
      ],
      "execution_count": null,
      "outputs": [
        {
          "output_type": "display_data",
          "data": {
            "text/html": [
              "<html>\n",
              "<head><meta charset=\"utf-8\" /></head>\n",
              "<body>\n",
              "    <div>            <script src=\"https://cdnjs.cloudflare.com/ajax/libs/mathjax/2.7.5/MathJax.js?config=TeX-AMS-MML_SVG\"></script><script type=\"text/javascript\">if (window.MathJax) {MathJax.Hub.Config({SVG: {font: \"STIX-Web\"}});}</script>                <script type=\"text/javascript\">window.PlotlyConfig = {MathJaxConfig: 'local'};</script>\n",
              "        <script src=\"https://cdn.plot.ly/plotly-2.2.0.min.js\"></script>                <div id=\"762a1549-d88d-454e-a919-5ea4525ef08b\" class=\"plotly-graph-div\" style=\"height:480px; width:500px;\"></div>            <script type=\"text/javascript\">                                    window.PLOTLYENV=window.PLOTLYENV || {};                                    if (document.getElementById(\"762a1549-d88d-454e-a919-5ea4525ef08b\")) {                    Plotly.newPlot(                        \"762a1549-d88d-454e-a919-5ea4525ef08b\",                        [{\"marker\":{\"color\":\"rgb(111,170,238)\",\"size\":8},\"mode\":\"lines\",\"name\":\"vector 1\",\"showlegend\":true,\"type\":\"scatter\",\"x\":[0,-3.0],\"y\":[0,0]},{\"marker\":{\"color\":\"#2a3f5f\",\"size\":9},\"mode\":\"markers\",\"name\":\"origen\",\"opacity\":1,\"showlegend\":true,\"type\":\"scatter\",\"x\":[0],\"y\":[0]}],                        {\"annotations\":[{\"arrowcolor\":\"rgb(111,170,238)\",\"arrowhead\":2,\"arrowsize\":1.5,\"arrowwidth\":2.3,\"ax\":0.0,\"axref\":\"x\",\"ay\":0.0,\"ayref\":\"y\",\"showarrow\":true,\"x\":-3.0,\"xref\":\"x\",\"y\":0,\"yref\":\"y\"},{\"arrowcolor\":\"#2a3f5f\",\"arrowhead\":2,\"arrowwidth\":1.5,\"ax\":-3.54,\"axref\":\"x\",\"ay\":0,\"ayref\":\"y\",\"x\":0.5,\"xref\":\"x\",\"y\":0,\"yref\":\"y\"},{\"arrowcolor\":\"#2a3f5f\",\"arrowhead\":2,\"arrowwidth\":1.5,\"ax\":0,\"axref\":\"x\",\"ay\":-0.54,\"ayref\":\"y\",\"x\":0,\"xref\":\"x\",\"y\":0.5,\"yref\":\"y\"}],\"font\":{\"color\":\"black\",\"family\":\"latex\",\"size\":20},\"height\":480,\"legend\":{\"itemdoubleclick\":\"toggle\",\"orientation\":\"h\",\"x\":1,\"xanchor\":\"right\",\"y\":1.02,\"yanchor\":\"bottom\"},\"showlegend\":true,\"template\":{\"data\":{\"bar\":[{\"error_x\":{\"color\":\"#2a3f5f\"},\"error_y\":{\"color\":\"#2a3f5f\"},\"marker\":{\"line\":{\"color\":\"#E5ECF6\",\"width\":0.5},\"pattern\":{\"fillmode\":\"overlay\",\"size\":10,\"solidity\":0.2}},\"type\":\"bar\"}],\"barpolar\":[{\"marker\":{\"line\":{\"color\":\"#E5ECF6\",\"width\":0.5},\"pattern\":{\"fillmode\":\"overlay\",\"size\":10,\"solidity\":0.2}},\"type\":\"barpolar\"}],\"carpet\":[{\"aaxis\":{\"endlinecolor\":\"#2a3f5f\",\"gridcolor\":\"white\",\"linecolor\":\"white\",\"minorgridcolor\":\"white\",\"startlinecolor\":\"#2a3f5f\"},\"baxis\":{\"endlinecolor\":\"#2a3f5f\",\"gridcolor\":\"white\",\"linecolor\":\"white\",\"minorgridcolor\":\"white\",\"startlinecolor\":\"#2a3f5f\"},\"type\":\"carpet\"}],\"choropleth\":[{\"colorbar\":{\"outlinewidth\":0,\"ticks\":\"\"},\"type\":\"choropleth\"}],\"contour\":[{\"colorbar\":{\"outlinewidth\":0,\"ticks\":\"\"},\"colorscale\":[[0.0,\"#0d0887\"],[0.1111111111111111,\"#46039f\"],[0.2222222222222222,\"#7201a8\"],[0.3333333333333333,\"#9c179e\"],[0.4444444444444444,\"#bd3786\"],[0.5555555555555556,\"#d8576b\"],[0.6666666666666666,\"#ed7953\"],[0.7777777777777778,\"#fb9f3a\"],[0.8888888888888888,\"#fdca26\"],[1.0,\"#f0f921\"]],\"type\":\"contour\"}],\"contourcarpet\":[{\"colorbar\":{\"outlinewidth\":0,\"ticks\":\"\"},\"type\":\"contourcarpet\"}],\"heatmap\":[{\"colorbar\":{\"outlinewidth\":0,\"ticks\":\"\"},\"colorscale\":[[0.0,\"#0d0887\"],[0.1111111111111111,\"#46039f\"],[0.2222222222222222,\"#7201a8\"],[0.3333333333333333,\"#9c179e\"],[0.4444444444444444,\"#bd3786\"],[0.5555555555555556,\"#d8576b\"],[0.6666666666666666,\"#ed7953\"],[0.7777777777777778,\"#fb9f3a\"],[0.8888888888888888,\"#fdca26\"],[1.0,\"#f0f921\"]],\"type\":\"heatmap\"}],\"heatmapgl\":[{\"colorbar\":{\"outlinewidth\":0,\"ticks\":\"\"},\"colorscale\":[[0.0,\"#0d0887\"],[0.1111111111111111,\"#46039f\"],[0.2222222222222222,\"#7201a8\"],[0.3333333333333333,\"#9c179e\"],[0.4444444444444444,\"#bd3786\"],[0.5555555555555556,\"#d8576b\"],[0.6666666666666666,\"#ed7953\"],[0.7777777777777778,\"#fb9f3a\"],[0.8888888888888888,\"#fdca26\"],[1.0,\"#f0f921\"]],\"type\":\"heatmapgl\"}],\"histogram\":[{\"marker\":{\"pattern\":{\"fillmode\":\"overlay\",\"size\":10,\"solidity\":0.2}},\"type\":\"histogram\"}],\"histogram2d\":[{\"colorbar\":{\"outlinewidth\":0,\"ticks\":\"\"},\"colorscale\":[[0.0,\"#0d0887\"],[0.1111111111111111,\"#46039f\"],[0.2222222222222222,\"#7201a8\"],[0.3333333333333333,\"#9c179e\"],[0.4444444444444444,\"#bd3786\"],[0.5555555555555556,\"#d8576b\"],[0.6666666666666666,\"#ed7953\"],[0.7777777777777778,\"#fb9f3a\"],[0.8888888888888888,\"#fdca26\"],[1.0,\"#f0f921\"]],\"type\":\"histogram2d\"}],\"histogram2dcontour\":[{\"colorbar\":{\"outlinewidth\":0,\"ticks\":\"\"},\"colorscale\":[[0.0,\"#0d0887\"],[0.1111111111111111,\"#46039f\"],[0.2222222222222222,\"#7201a8\"],[0.3333333333333333,\"#9c179e\"],[0.4444444444444444,\"#bd3786\"],[0.5555555555555556,\"#d8576b\"],[0.6666666666666666,\"#ed7953\"],[0.7777777777777778,\"#fb9f3a\"],[0.8888888888888888,\"#fdca26\"],[1.0,\"#f0f921\"]],\"type\":\"histogram2dcontour\"}],\"mesh3d\":[{\"colorbar\":{\"outlinewidth\":0,\"ticks\":\"\"},\"type\":\"mesh3d\"}],\"parcoords\":[{\"line\":{\"colorbar\":{\"outlinewidth\":0,\"ticks\":\"\"}},\"type\":\"parcoords\"}],\"pie\":[{\"automargin\":true,\"type\":\"pie\"}],\"scatter\":[{\"marker\":{\"colorbar\":{\"outlinewidth\":0,\"ticks\":\"\"}},\"type\":\"scatter\"}],\"scatter3d\":[{\"line\":{\"colorbar\":{\"outlinewidth\":0,\"ticks\":\"\"}},\"marker\":{\"colorbar\":{\"outlinewidth\":0,\"ticks\":\"\"}},\"type\":\"scatter3d\"}],\"scattercarpet\":[{\"marker\":{\"colorbar\":{\"outlinewidth\":0,\"ticks\":\"\"}},\"type\":\"scattercarpet\"}],\"scattergeo\":[{\"marker\":{\"colorbar\":{\"outlinewidth\":0,\"ticks\":\"\"}},\"type\":\"scattergeo\"}],\"scattergl\":[{\"marker\":{\"colorbar\":{\"outlinewidth\":0,\"ticks\":\"\"}},\"type\":\"scattergl\"}],\"scattermapbox\":[{\"marker\":{\"colorbar\":{\"outlinewidth\":0,\"ticks\":\"\"}},\"type\":\"scattermapbox\"}],\"scatterpolar\":[{\"marker\":{\"colorbar\":{\"outlinewidth\":0,\"ticks\":\"\"}},\"type\":\"scatterpolar\"}],\"scatterpolargl\":[{\"marker\":{\"colorbar\":{\"outlinewidth\":0,\"ticks\":\"\"}},\"type\":\"scatterpolargl\"}],\"scatterternary\":[{\"marker\":{\"colorbar\":{\"outlinewidth\":0,\"ticks\":\"\"}},\"type\":\"scatterternary\"}],\"surface\":[{\"colorbar\":{\"outlinewidth\":0,\"ticks\":\"\"},\"colorscale\":[[0.0,\"#0d0887\"],[0.1111111111111111,\"#46039f\"],[0.2222222222222222,\"#7201a8\"],[0.3333333333333333,\"#9c179e\"],[0.4444444444444444,\"#bd3786\"],[0.5555555555555556,\"#d8576b\"],[0.6666666666666666,\"#ed7953\"],[0.7777777777777778,\"#fb9f3a\"],[0.8888888888888888,\"#fdca26\"],[1.0,\"#f0f921\"]],\"type\":\"surface\"}],\"table\":[{\"cells\":{\"fill\":{\"color\":\"#EBF0F8\"},\"line\":{\"color\":\"white\"}},\"header\":{\"fill\":{\"color\":\"#C8D4E3\"},\"line\":{\"color\":\"white\"}},\"type\":\"table\"}]},\"layout\":{\"annotationdefaults\":{\"arrowcolor\":\"#2a3f5f\",\"arrowhead\":0,\"arrowwidth\":1},\"autotypenumbers\":\"strict\",\"coloraxis\":{\"colorbar\":{\"outlinewidth\":0,\"ticks\":\"\"}},\"colorscale\":{\"diverging\":[[0,\"#8e0152\"],[0.1,\"#c51b7d\"],[0.2,\"#de77ae\"],[0.3,\"#f1b6da\"],[0.4,\"#fde0ef\"],[0.5,\"#f7f7f7\"],[0.6,\"#e6f5d0\"],[0.7,\"#b8e186\"],[0.8,\"#7fbc41\"],[0.9,\"#4d9221\"],[1,\"#276419\"]],\"sequential\":[[0.0,\"#0d0887\"],[0.1111111111111111,\"#46039f\"],[0.2222222222222222,\"#7201a8\"],[0.3333333333333333,\"#9c179e\"],[0.4444444444444444,\"#bd3786\"],[0.5555555555555556,\"#d8576b\"],[0.6666666666666666,\"#ed7953\"],[0.7777777777777778,\"#fb9f3a\"],[0.8888888888888888,\"#fdca26\"],[1.0,\"#f0f921\"]],\"sequentialminus\":[[0.0,\"#0d0887\"],[0.1111111111111111,\"#46039f\"],[0.2222222222222222,\"#7201a8\"],[0.3333333333333333,\"#9c179e\"],[0.4444444444444444,\"#bd3786\"],[0.5555555555555556,\"#d8576b\"],[0.6666666666666666,\"#ed7953\"],[0.7777777777777778,\"#fb9f3a\"],[0.8888888888888888,\"#fdca26\"],[1.0,\"#f0f921\"]]},\"colorway\":[\"#636efa\",\"#EF553B\",\"#00cc96\",\"#ab63fa\",\"#FFA15A\",\"#19d3f3\",\"#FF6692\",\"#B6E880\",\"#FF97FF\",\"#FECB52\"],\"font\":{\"color\":\"#2a3f5f\"},\"geo\":{\"bgcolor\":\"white\",\"lakecolor\":\"white\",\"landcolor\":\"#E5ECF6\",\"showlakes\":true,\"showland\":true,\"subunitcolor\":\"white\"},\"hoverlabel\":{\"align\":\"left\"},\"hovermode\":\"closest\",\"mapbox\":{\"style\":\"light\"},\"paper_bgcolor\":\"white\",\"plot_bgcolor\":\"#E5ECF6\",\"polar\":{\"angularaxis\":{\"gridcolor\":\"white\",\"linecolor\":\"white\",\"ticks\":\"\"},\"bgcolor\":\"#E5ECF6\",\"radialaxis\":{\"gridcolor\":\"white\",\"linecolor\":\"white\",\"ticks\":\"\"}},\"scene\":{\"xaxis\":{\"backgroundcolor\":\"#E5ECF6\",\"gridcolor\":\"white\",\"gridwidth\":2,\"linecolor\":\"white\",\"showbackground\":true,\"ticks\":\"\",\"zerolinecolor\":\"white\"},\"yaxis\":{\"backgroundcolor\":\"#E5ECF6\",\"gridcolor\":\"white\",\"gridwidth\":2,\"linecolor\":\"white\",\"showbackground\":true,\"ticks\":\"\",\"zerolinecolor\":\"white\"},\"zaxis\":{\"backgroundcolor\":\"#E5ECF6\",\"gridcolor\":\"white\",\"gridwidth\":2,\"linecolor\":\"white\",\"showbackground\":true,\"ticks\":\"\",\"zerolinecolor\":\"white\"}},\"shapedefaults\":{\"line\":{\"color\":\"#2a3f5f\"}},\"ternary\":{\"aaxis\":{\"gridcolor\":\"white\",\"linecolor\":\"white\",\"ticks\":\"\"},\"baxis\":{\"gridcolor\":\"white\",\"linecolor\":\"white\",\"ticks\":\"\"},\"bgcolor\":\"#E5ECF6\",\"caxis\":{\"gridcolor\":\"white\",\"linecolor\":\"white\",\"ticks\":\"\"}},\"title\":{\"x\":0.05},\"xaxis\":{\"automargin\":true,\"gridcolor\":\"white\",\"linecolor\":\"white\",\"ticks\":\"\",\"title\":{\"standoff\":15},\"zerolinecolor\":\"white\",\"zerolinewidth\":2},\"yaxis\":{\"automargin\":true,\"gridcolor\":\"white\",\"linecolor\":\"white\",\"ticks\":\"\",\"title\":{\"standoff\":15},\"zerolinecolor\":\"white\",\"zerolinewidth\":2}}},\"title\":{\"font\":{\"color\":\"rgb(1,21,51)\",\"size\":30}},\"width\":500,\"xaxis\":{\"range\":[-3.5,0.5],\"showgrid\":true,\"title\":{\"font\":{\"color\":\"rgb(1,21,51)\",\"family\":\"latex\",\"size\":30},\"text\":\"$\\\\large{x}$\"}},\"yaxis\":{\"range\":[-0.5,0.5],\"showgrid\":true,\"title\":{\"font\":{\"color\":\"rgb(1,21,51)\",\"family\":\"latex\",\"size\":30},\"text\":\"$\\\\large{y}$\"}}},                        {\"responsive\": true}                    ).then(function(){\n",
              "                            \n",
              "var gd = document.getElementById('762a1549-d88d-454e-a919-5ea4525ef08b');\n",
              "var x = new MutationObserver(function (mutations, observer) {{\n",
              "        var display = window.getComputedStyle(gd).display;\n",
              "        if (!display || display === 'none') {{\n",
              "            console.log([gd, 'removed!']);\n",
              "            Plotly.purge(gd);\n",
              "            observer.disconnect();\n",
              "        }}\n",
              "}});\n",
              "\n",
              "// Listen for the removal of the full notebook cells\n",
              "var notebookContainer = gd.closest('#notebook-container');\n",
              "if (notebookContainer) {{\n",
              "    x.observe(notebookContainer, {childList: true});\n",
              "}}\n",
              "\n",
              "// Listen for the clearing of the current output cell\n",
              "var outputEl = gd.closest('.output');\n",
              "if (outputEl) {{\n",
              "    x.observe(outputEl, {childList: true});\n",
              "}}\n",
              "\n",
              "                        })                };                            </script>        </div>\n",
              "</body>\n",
              "</html>"
            ]
          },
          "metadata": {}
        }
      ]
    },
    {
      "cell_type": "markdown",
      "metadata": {
        "id": "QiMy74ziiH2z"
      },
      "source": [
        "###**Con punto inicial y punto final dado**"
      ]
    },
    {
      "cell_type": "code",
      "metadata": {
        "colab": {
          "base_uri": "https://localhost:8080/",
          "height": 497
        },
        "id": "p7I_ysc-iUwe",
        "outputId": "bb0c360e-f60e-4fff-f9cc-e177cc6bfb23"
      },
      "source": [
        "A = (1,0)\n",
        "B = (3,0)\n",
        "plotvectors2D([A,B])"
      ],
      "execution_count": null,
      "outputs": [
        {
          "output_type": "display_data",
          "data": {
            "text/html": [
              "<html>\n",
              "<head><meta charset=\"utf-8\" /></head>\n",
              "<body>\n",
              "    <div>            <script src=\"https://cdnjs.cloudflare.com/ajax/libs/mathjax/2.7.5/MathJax.js?config=TeX-AMS-MML_SVG\"></script><script type=\"text/javascript\">if (window.MathJax) {MathJax.Hub.Config({SVG: {font: \"STIX-Web\"}});}</script>                <script type=\"text/javascript\">window.PlotlyConfig = {MathJaxConfig: 'local'};</script>\n",
              "        <script src=\"https://cdn.plot.ly/plotly-2.2.0.min.js\"></script>                <div id=\"01da6a5c-574a-4bd4-85fc-d88868a83f5f\" class=\"plotly-graph-div\" style=\"height:480px; width:500px;\"></div>            <script type=\"text/javascript\">                                    window.PLOTLYENV=window.PLOTLYENV || {};                                    if (document.getElementById(\"01da6a5c-574a-4bd4-85fc-d88868a83f5f\")) {                    Plotly.newPlot(                        \"01da6a5c-574a-4bd4-85fc-d88868a83f5f\",                        [{\"marker\":{\"color\":\"rgb(166,130,50)\",\"size\":8},\"mode\":\"lines\",\"name\":\"vector 1\",\"showlegend\":true,\"type\":\"scatter\",\"x\":[1,3],\"y\":[0,0]},{\"marker\":{\"color\":\"#2a3f5f\",\"size\":9},\"mode\":\"markers\",\"name\":\"origen\",\"opacity\":1,\"showlegend\":true,\"type\":\"scatter\",\"x\":[0],\"y\":[0]}],                        {\"annotations\":[{\"arrowcolor\":\"rgb(166,130,50)\",\"arrowhead\":2,\"arrowsize\":1.5,\"arrowwidth\":2.3,\"ax\":1,\"axref\":\"x\",\"ay\":0,\"ayref\":\"y\",\"showarrow\":true,\"x\":3,\"xref\":\"x\",\"y\":0,\"yref\":\"y\"},{\"arrowcolor\":\"#2a3f5f\",\"arrowhead\":2,\"arrowwidth\":1.5,\"ax\":-0.54,\"axref\":\"x\",\"ay\":0,\"ayref\":\"y\",\"x\":3.5,\"xref\":\"x\",\"y\":0,\"yref\":\"y\"},{\"arrowcolor\":\"#2a3f5f\",\"arrowhead\":2,\"arrowwidth\":1.5,\"ax\":0,\"axref\":\"x\",\"ay\":-0.54,\"ayref\":\"y\",\"x\":0,\"xref\":\"x\",\"y\":0.5,\"yref\":\"y\"}],\"font\":{\"color\":\"black\",\"family\":\"latex\",\"size\":20},\"height\":480,\"legend\":{\"itemdoubleclick\":\"toggle\",\"orientation\":\"h\",\"x\":1,\"xanchor\":\"right\",\"y\":1.02,\"yanchor\":\"bottom\"},\"showlegend\":true,\"template\":{\"data\":{\"bar\":[{\"error_x\":{\"color\":\"#2a3f5f\"},\"error_y\":{\"color\":\"#2a3f5f\"},\"marker\":{\"line\":{\"color\":\"#E5ECF6\",\"width\":0.5},\"pattern\":{\"fillmode\":\"overlay\",\"size\":10,\"solidity\":0.2}},\"type\":\"bar\"}],\"barpolar\":[{\"marker\":{\"line\":{\"color\":\"#E5ECF6\",\"width\":0.5},\"pattern\":{\"fillmode\":\"overlay\",\"size\":10,\"solidity\":0.2}},\"type\":\"barpolar\"}],\"carpet\":[{\"aaxis\":{\"endlinecolor\":\"#2a3f5f\",\"gridcolor\":\"white\",\"linecolor\":\"white\",\"minorgridcolor\":\"white\",\"startlinecolor\":\"#2a3f5f\"},\"baxis\":{\"endlinecolor\":\"#2a3f5f\",\"gridcolor\":\"white\",\"linecolor\":\"white\",\"minorgridcolor\":\"white\",\"startlinecolor\":\"#2a3f5f\"},\"type\":\"carpet\"}],\"choropleth\":[{\"colorbar\":{\"outlinewidth\":0,\"ticks\":\"\"},\"type\":\"choropleth\"}],\"contour\":[{\"colorbar\":{\"outlinewidth\":0,\"ticks\":\"\"},\"colorscale\":[[0.0,\"#0d0887\"],[0.1111111111111111,\"#46039f\"],[0.2222222222222222,\"#7201a8\"],[0.3333333333333333,\"#9c179e\"],[0.4444444444444444,\"#bd3786\"],[0.5555555555555556,\"#d8576b\"],[0.6666666666666666,\"#ed7953\"],[0.7777777777777778,\"#fb9f3a\"],[0.8888888888888888,\"#fdca26\"],[1.0,\"#f0f921\"]],\"type\":\"contour\"}],\"contourcarpet\":[{\"colorbar\":{\"outlinewidth\":0,\"ticks\":\"\"},\"type\":\"contourcarpet\"}],\"heatmap\":[{\"colorbar\":{\"outlinewidth\":0,\"ticks\":\"\"},\"colorscale\":[[0.0,\"#0d0887\"],[0.1111111111111111,\"#46039f\"],[0.2222222222222222,\"#7201a8\"],[0.3333333333333333,\"#9c179e\"],[0.4444444444444444,\"#bd3786\"],[0.5555555555555556,\"#d8576b\"],[0.6666666666666666,\"#ed7953\"],[0.7777777777777778,\"#fb9f3a\"],[0.8888888888888888,\"#fdca26\"],[1.0,\"#f0f921\"]],\"type\":\"heatmap\"}],\"heatmapgl\":[{\"colorbar\":{\"outlinewidth\":0,\"ticks\":\"\"},\"colorscale\":[[0.0,\"#0d0887\"],[0.1111111111111111,\"#46039f\"],[0.2222222222222222,\"#7201a8\"],[0.3333333333333333,\"#9c179e\"],[0.4444444444444444,\"#bd3786\"],[0.5555555555555556,\"#d8576b\"],[0.6666666666666666,\"#ed7953\"],[0.7777777777777778,\"#fb9f3a\"],[0.8888888888888888,\"#fdca26\"],[1.0,\"#f0f921\"]],\"type\":\"heatmapgl\"}],\"histogram\":[{\"marker\":{\"pattern\":{\"fillmode\":\"overlay\",\"size\":10,\"solidity\":0.2}},\"type\":\"histogram\"}],\"histogram2d\":[{\"colorbar\":{\"outlinewidth\":0,\"ticks\":\"\"},\"colorscale\":[[0.0,\"#0d0887\"],[0.1111111111111111,\"#46039f\"],[0.2222222222222222,\"#7201a8\"],[0.3333333333333333,\"#9c179e\"],[0.4444444444444444,\"#bd3786\"],[0.5555555555555556,\"#d8576b\"],[0.6666666666666666,\"#ed7953\"],[0.7777777777777778,\"#fb9f3a\"],[0.8888888888888888,\"#fdca26\"],[1.0,\"#f0f921\"]],\"type\":\"histogram2d\"}],\"histogram2dcontour\":[{\"colorbar\":{\"outlinewidth\":0,\"ticks\":\"\"},\"colorscale\":[[0.0,\"#0d0887\"],[0.1111111111111111,\"#46039f\"],[0.2222222222222222,\"#7201a8\"],[0.3333333333333333,\"#9c179e\"],[0.4444444444444444,\"#bd3786\"],[0.5555555555555556,\"#d8576b\"],[0.6666666666666666,\"#ed7953\"],[0.7777777777777778,\"#fb9f3a\"],[0.8888888888888888,\"#fdca26\"],[1.0,\"#f0f921\"]],\"type\":\"histogram2dcontour\"}],\"mesh3d\":[{\"colorbar\":{\"outlinewidth\":0,\"ticks\":\"\"},\"type\":\"mesh3d\"}],\"parcoords\":[{\"line\":{\"colorbar\":{\"outlinewidth\":0,\"ticks\":\"\"}},\"type\":\"parcoords\"}],\"pie\":[{\"automargin\":true,\"type\":\"pie\"}],\"scatter\":[{\"marker\":{\"colorbar\":{\"outlinewidth\":0,\"ticks\":\"\"}},\"type\":\"scatter\"}],\"scatter3d\":[{\"line\":{\"colorbar\":{\"outlinewidth\":0,\"ticks\":\"\"}},\"marker\":{\"colorbar\":{\"outlinewidth\":0,\"ticks\":\"\"}},\"type\":\"scatter3d\"}],\"scattercarpet\":[{\"marker\":{\"colorbar\":{\"outlinewidth\":0,\"ticks\":\"\"}},\"type\":\"scattercarpet\"}],\"scattergeo\":[{\"marker\":{\"colorbar\":{\"outlinewidth\":0,\"ticks\":\"\"}},\"type\":\"scattergeo\"}],\"scattergl\":[{\"marker\":{\"colorbar\":{\"outlinewidth\":0,\"ticks\":\"\"}},\"type\":\"scattergl\"}],\"scattermapbox\":[{\"marker\":{\"colorbar\":{\"outlinewidth\":0,\"ticks\":\"\"}},\"type\":\"scattermapbox\"}],\"scatterpolar\":[{\"marker\":{\"colorbar\":{\"outlinewidth\":0,\"ticks\":\"\"}},\"type\":\"scatterpolar\"}],\"scatterpolargl\":[{\"marker\":{\"colorbar\":{\"outlinewidth\":0,\"ticks\":\"\"}},\"type\":\"scatterpolargl\"}],\"scatterternary\":[{\"marker\":{\"colorbar\":{\"outlinewidth\":0,\"ticks\":\"\"}},\"type\":\"scatterternary\"}],\"surface\":[{\"colorbar\":{\"outlinewidth\":0,\"ticks\":\"\"},\"colorscale\":[[0.0,\"#0d0887\"],[0.1111111111111111,\"#46039f\"],[0.2222222222222222,\"#7201a8\"],[0.3333333333333333,\"#9c179e\"],[0.4444444444444444,\"#bd3786\"],[0.5555555555555556,\"#d8576b\"],[0.6666666666666666,\"#ed7953\"],[0.7777777777777778,\"#fb9f3a\"],[0.8888888888888888,\"#fdca26\"],[1.0,\"#f0f921\"]],\"type\":\"surface\"}],\"table\":[{\"cells\":{\"fill\":{\"color\":\"#EBF0F8\"},\"line\":{\"color\":\"white\"}},\"header\":{\"fill\":{\"color\":\"#C8D4E3\"},\"line\":{\"color\":\"white\"}},\"type\":\"table\"}]},\"layout\":{\"annotationdefaults\":{\"arrowcolor\":\"#2a3f5f\",\"arrowhead\":0,\"arrowwidth\":1},\"autotypenumbers\":\"strict\",\"coloraxis\":{\"colorbar\":{\"outlinewidth\":0,\"ticks\":\"\"}},\"colorscale\":{\"diverging\":[[0,\"#8e0152\"],[0.1,\"#c51b7d\"],[0.2,\"#de77ae\"],[0.3,\"#f1b6da\"],[0.4,\"#fde0ef\"],[0.5,\"#f7f7f7\"],[0.6,\"#e6f5d0\"],[0.7,\"#b8e186\"],[0.8,\"#7fbc41\"],[0.9,\"#4d9221\"],[1,\"#276419\"]],\"sequential\":[[0.0,\"#0d0887\"],[0.1111111111111111,\"#46039f\"],[0.2222222222222222,\"#7201a8\"],[0.3333333333333333,\"#9c179e\"],[0.4444444444444444,\"#bd3786\"],[0.5555555555555556,\"#d8576b\"],[0.6666666666666666,\"#ed7953\"],[0.7777777777777778,\"#fb9f3a\"],[0.8888888888888888,\"#fdca26\"],[1.0,\"#f0f921\"]],\"sequentialminus\":[[0.0,\"#0d0887\"],[0.1111111111111111,\"#46039f\"],[0.2222222222222222,\"#7201a8\"],[0.3333333333333333,\"#9c179e\"],[0.4444444444444444,\"#bd3786\"],[0.5555555555555556,\"#d8576b\"],[0.6666666666666666,\"#ed7953\"],[0.7777777777777778,\"#fb9f3a\"],[0.8888888888888888,\"#fdca26\"],[1.0,\"#f0f921\"]]},\"colorway\":[\"#636efa\",\"#EF553B\",\"#00cc96\",\"#ab63fa\",\"#FFA15A\",\"#19d3f3\",\"#FF6692\",\"#B6E880\",\"#FF97FF\",\"#FECB52\"],\"font\":{\"color\":\"#2a3f5f\"},\"geo\":{\"bgcolor\":\"white\",\"lakecolor\":\"white\",\"landcolor\":\"#E5ECF6\",\"showlakes\":true,\"showland\":true,\"subunitcolor\":\"white\"},\"hoverlabel\":{\"align\":\"left\"},\"hovermode\":\"closest\",\"mapbox\":{\"style\":\"light\"},\"paper_bgcolor\":\"white\",\"plot_bgcolor\":\"#E5ECF6\",\"polar\":{\"angularaxis\":{\"gridcolor\":\"white\",\"linecolor\":\"white\",\"ticks\":\"\"},\"bgcolor\":\"#E5ECF6\",\"radialaxis\":{\"gridcolor\":\"white\",\"linecolor\":\"white\",\"ticks\":\"\"}},\"scene\":{\"xaxis\":{\"backgroundcolor\":\"#E5ECF6\",\"gridcolor\":\"white\",\"gridwidth\":2,\"linecolor\":\"white\",\"showbackground\":true,\"ticks\":\"\",\"zerolinecolor\":\"white\"},\"yaxis\":{\"backgroundcolor\":\"#E5ECF6\",\"gridcolor\":\"white\",\"gridwidth\":2,\"linecolor\":\"white\",\"showbackground\":true,\"ticks\":\"\",\"zerolinecolor\":\"white\"},\"zaxis\":{\"backgroundcolor\":\"#E5ECF6\",\"gridcolor\":\"white\",\"gridwidth\":2,\"linecolor\":\"white\",\"showbackground\":true,\"ticks\":\"\",\"zerolinecolor\":\"white\"}},\"shapedefaults\":{\"line\":{\"color\":\"#2a3f5f\"}},\"ternary\":{\"aaxis\":{\"gridcolor\":\"white\",\"linecolor\":\"white\",\"ticks\":\"\"},\"baxis\":{\"gridcolor\":\"white\",\"linecolor\":\"white\",\"ticks\":\"\"},\"bgcolor\":\"#E5ECF6\",\"caxis\":{\"gridcolor\":\"white\",\"linecolor\":\"white\",\"ticks\":\"\"}},\"title\":{\"x\":0.05},\"xaxis\":{\"automargin\":true,\"gridcolor\":\"white\",\"linecolor\":\"white\",\"ticks\":\"\",\"title\":{\"standoff\":15},\"zerolinecolor\":\"white\",\"zerolinewidth\":2},\"yaxis\":{\"automargin\":true,\"gridcolor\":\"white\",\"linecolor\":\"white\",\"ticks\":\"\",\"title\":{\"standoff\":15},\"zerolinecolor\":\"white\",\"zerolinewidth\":2}}},\"title\":{\"font\":{\"color\":\"rgb(1,21,51)\",\"size\":30}},\"width\":500,\"xaxis\":{\"range\":[-0.5,3.5],\"showgrid\":true,\"title\":{\"font\":{\"color\":\"rgb(1,21,51)\",\"family\":\"latex\",\"size\":30},\"text\":\"$\\\\large{x}$\"}},\"yaxis\":{\"range\":[-0.5,0.5],\"showgrid\":true,\"title\":{\"font\":{\"color\":\"rgb(1,21,51)\",\"family\":\"latex\",\"size\":30},\"text\":\"$\\\\large{y}$\"}}},                        {\"responsive\": true}                    ).then(function(){\n",
              "                            \n",
              "var gd = document.getElementById('01da6a5c-574a-4bd4-85fc-d88868a83f5f');\n",
              "var x = new MutationObserver(function (mutations, observer) {{\n",
              "        var display = window.getComputedStyle(gd).display;\n",
              "        if (!display || display === 'none') {{\n",
              "            console.log([gd, 'removed!']);\n",
              "            Plotly.purge(gd);\n",
              "            observer.disconnect();\n",
              "        }}\n",
              "}});\n",
              "\n",
              "// Listen for the removal of the full notebook cells\n",
              "var notebookContainer = gd.closest('#notebook-container');\n",
              "if (notebookContainer) {{\n",
              "    x.observe(notebookContainer, {childList: true});\n",
              "}}\n",
              "\n",
              "// Listen for the clearing of the current output cell\n",
              "var outputEl = gd.closest('.output');\n",
              "if (outputEl) {{\n",
              "    x.observe(outputEl, {childList: true});\n",
              "}}\n",
              "\n",
              "                        })                };                            </script>        </div>\n",
              "</body>\n",
              "</html>"
            ]
          },
          "metadata": {}
        }
      ]
    },
    {
      "cell_type": "markdown",
      "metadata": {
        "id": "Gt4yU-7siVwI"
      },
      "source": [
        "###**Equipolente a otro vector con punto inicial dado**"
      ]
    },
    {
      "cell_type": "code",
      "metadata": {
        "colab": {
          "base_uri": "https://localhost:8080/",
          "height": 497
        },
        "id": "cQZ2RXDYi-5a",
        "outputId": "66952535-baa5-4fd2-f2f7-3dfc27c1b56f"
      },
      "source": [
        "A = Matrix([3])\n",
        "plotvectors2D(A,[(1,2),A])"
      ],
      "execution_count": null,
      "outputs": [
        {
          "output_type": "display_data",
          "data": {
            "text/html": [
              "<html>\n",
              "<head><meta charset=\"utf-8\" /></head>\n",
              "<body>\n",
              "    <div>            <script src=\"https://cdnjs.cloudflare.com/ajax/libs/mathjax/2.7.5/MathJax.js?config=TeX-AMS-MML_SVG\"></script><script type=\"text/javascript\">if (window.MathJax) {MathJax.Hub.Config({SVG: {font: \"STIX-Web\"}});}</script>                <script type=\"text/javascript\">window.PlotlyConfig = {MathJaxConfig: 'local'};</script>\n",
              "        <script src=\"https://cdn.plot.ly/plotly-2.2.0.min.js\"></script>                <div id=\"9e6130d8-3f55-4178-808f-8e0684d58efb\" class=\"plotly-graph-div\" style=\"height:480px; width:500px;\"></div>            <script type=\"text/javascript\">                                    window.PLOTLYENV=window.PLOTLYENV || {};                                    if (document.getElementById(\"9e6130d8-3f55-4178-808f-8e0684d58efb\")) {                    Plotly.newPlot(                        \"9e6130d8-3f55-4178-808f-8e0684d58efb\",                        [{\"marker\":{\"color\":\"rgb(143,50,156)\",\"size\":8},\"mode\":\"lines\",\"name\":\"vector 1\",\"showlegend\":true,\"type\":\"scatter\",\"x\":[0,3.0],\"y\":[0,0]},{\"marker\":{\"color\":\"rgb(5,23,196)\",\"size\":8},\"mode\":\"lines\",\"name\":\"vector 2\",\"showlegend\":true,\"type\":\"scatter\",\"x\":[1,4.0],\"y\":[2,2]},{\"marker\":{\"color\":\"#2a3f5f\",\"size\":9},\"mode\":\"markers\",\"name\":\"origen\",\"opacity\":1,\"showlegend\":true,\"type\":\"scatter\",\"x\":[0],\"y\":[0]}],                        {\"annotations\":[{\"arrowcolor\":\"rgb(143,50,156)\",\"arrowhead\":2,\"arrowsize\":1.5,\"arrowwidth\":2.3,\"ax\":0.0,\"axref\":\"x\",\"ay\":0.0,\"ayref\":\"y\",\"showarrow\":true,\"x\":3.0,\"xref\":\"x\",\"y\":0,\"yref\":\"y\"},{\"arrowcolor\":\"rgb(5,23,196)\",\"arrowhead\":2,\"arrowsize\":1.5,\"arrowwidth\":2.3,\"ax\":1,\"axref\":\"x\",\"ay\":2,\"ayref\":\"y\",\"showarrow\":true,\"x\":4.0,\"xref\":\"x\",\"y\":2,\"yref\":\"y\"},{\"arrowcolor\":\"#2a3f5f\",\"arrowhead\":2,\"arrowwidth\":1.5,\"ax\":-0.54,\"axref\":\"x\",\"ay\":0,\"ayref\":\"y\",\"x\":4.5,\"xref\":\"x\",\"y\":0,\"yref\":\"y\"},{\"arrowcolor\":\"#2a3f5f\",\"arrowhead\":2,\"arrowwidth\":1.5,\"ax\":0,\"axref\":\"x\",\"ay\":-0.54,\"ayref\":\"y\",\"x\":0,\"xref\":\"x\",\"y\":2.5,\"yref\":\"y\"}],\"font\":{\"color\":\"black\",\"family\":\"latex\",\"size\":20},\"height\":480,\"legend\":{\"itemdoubleclick\":\"toggle\",\"orientation\":\"h\",\"x\":1,\"xanchor\":\"right\",\"y\":1.02,\"yanchor\":\"bottom\"},\"showlegend\":true,\"template\":{\"data\":{\"bar\":[{\"error_x\":{\"color\":\"#2a3f5f\"},\"error_y\":{\"color\":\"#2a3f5f\"},\"marker\":{\"line\":{\"color\":\"#E5ECF6\",\"width\":0.5},\"pattern\":{\"fillmode\":\"overlay\",\"size\":10,\"solidity\":0.2}},\"type\":\"bar\"}],\"barpolar\":[{\"marker\":{\"line\":{\"color\":\"#E5ECF6\",\"width\":0.5},\"pattern\":{\"fillmode\":\"overlay\",\"size\":10,\"solidity\":0.2}},\"type\":\"barpolar\"}],\"carpet\":[{\"aaxis\":{\"endlinecolor\":\"#2a3f5f\",\"gridcolor\":\"white\",\"linecolor\":\"white\",\"minorgridcolor\":\"white\",\"startlinecolor\":\"#2a3f5f\"},\"baxis\":{\"endlinecolor\":\"#2a3f5f\",\"gridcolor\":\"white\",\"linecolor\":\"white\",\"minorgridcolor\":\"white\",\"startlinecolor\":\"#2a3f5f\"},\"type\":\"carpet\"}],\"choropleth\":[{\"colorbar\":{\"outlinewidth\":0,\"ticks\":\"\"},\"type\":\"choropleth\"}],\"contour\":[{\"colorbar\":{\"outlinewidth\":0,\"ticks\":\"\"},\"colorscale\":[[0.0,\"#0d0887\"],[0.1111111111111111,\"#46039f\"],[0.2222222222222222,\"#7201a8\"],[0.3333333333333333,\"#9c179e\"],[0.4444444444444444,\"#bd3786\"],[0.5555555555555556,\"#d8576b\"],[0.6666666666666666,\"#ed7953\"],[0.7777777777777778,\"#fb9f3a\"],[0.8888888888888888,\"#fdca26\"],[1.0,\"#f0f921\"]],\"type\":\"contour\"}],\"contourcarpet\":[{\"colorbar\":{\"outlinewidth\":0,\"ticks\":\"\"},\"type\":\"contourcarpet\"}],\"heatmap\":[{\"colorbar\":{\"outlinewidth\":0,\"ticks\":\"\"},\"colorscale\":[[0.0,\"#0d0887\"],[0.1111111111111111,\"#46039f\"],[0.2222222222222222,\"#7201a8\"],[0.3333333333333333,\"#9c179e\"],[0.4444444444444444,\"#bd3786\"],[0.5555555555555556,\"#d8576b\"],[0.6666666666666666,\"#ed7953\"],[0.7777777777777778,\"#fb9f3a\"],[0.8888888888888888,\"#fdca26\"],[1.0,\"#f0f921\"]],\"type\":\"heatmap\"}],\"heatmapgl\":[{\"colorbar\":{\"outlinewidth\":0,\"ticks\":\"\"},\"colorscale\":[[0.0,\"#0d0887\"],[0.1111111111111111,\"#46039f\"],[0.2222222222222222,\"#7201a8\"],[0.3333333333333333,\"#9c179e\"],[0.4444444444444444,\"#bd3786\"],[0.5555555555555556,\"#d8576b\"],[0.6666666666666666,\"#ed7953\"],[0.7777777777777778,\"#fb9f3a\"],[0.8888888888888888,\"#fdca26\"],[1.0,\"#f0f921\"]],\"type\":\"heatmapgl\"}],\"histogram\":[{\"marker\":{\"pattern\":{\"fillmode\":\"overlay\",\"size\":10,\"solidity\":0.2}},\"type\":\"histogram\"}],\"histogram2d\":[{\"colorbar\":{\"outlinewidth\":0,\"ticks\":\"\"},\"colorscale\":[[0.0,\"#0d0887\"],[0.1111111111111111,\"#46039f\"],[0.2222222222222222,\"#7201a8\"],[0.3333333333333333,\"#9c179e\"],[0.4444444444444444,\"#bd3786\"],[0.5555555555555556,\"#d8576b\"],[0.6666666666666666,\"#ed7953\"],[0.7777777777777778,\"#fb9f3a\"],[0.8888888888888888,\"#fdca26\"],[1.0,\"#f0f921\"]],\"type\":\"histogram2d\"}],\"histogram2dcontour\":[{\"colorbar\":{\"outlinewidth\":0,\"ticks\":\"\"},\"colorscale\":[[0.0,\"#0d0887\"],[0.1111111111111111,\"#46039f\"],[0.2222222222222222,\"#7201a8\"],[0.3333333333333333,\"#9c179e\"],[0.4444444444444444,\"#bd3786\"],[0.5555555555555556,\"#d8576b\"],[0.6666666666666666,\"#ed7953\"],[0.7777777777777778,\"#fb9f3a\"],[0.8888888888888888,\"#fdca26\"],[1.0,\"#f0f921\"]],\"type\":\"histogram2dcontour\"}],\"mesh3d\":[{\"colorbar\":{\"outlinewidth\":0,\"ticks\":\"\"},\"type\":\"mesh3d\"}],\"parcoords\":[{\"line\":{\"colorbar\":{\"outlinewidth\":0,\"ticks\":\"\"}},\"type\":\"parcoords\"}],\"pie\":[{\"automargin\":true,\"type\":\"pie\"}],\"scatter\":[{\"marker\":{\"colorbar\":{\"outlinewidth\":0,\"ticks\":\"\"}},\"type\":\"scatter\"}],\"scatter3d\":[{\"line\":{\"colorbar\":{\"outlinewidth\":0,\"ticks\":\"\"}},\"marker\":{\"colorbar\":{\"outlinewidth\":0,\"ticks\":\"\"}},\"type\":\"scatter3d\"}],\"scattercarpet\":[{\"marker\":{\"colorbar\":{\"outlinewidth\":0,\"ticks\":\"\"}},\"type\":\"scattercarpet\"}],\"scattergeo\":[{\"marker\":{\"colorbar\":{\"outlinewidth\":0,\"ticks\":\"\"}},\"type\":\"scattergeo\"}],\"scattergl\":[{\"marker\":{\"colorbar\":{\"outlinewidth\":0,\"ticks\":\"\"}},\"type\":\"scattergl\"}],\"scattermapbox\":[{\"marker\":{\"colorbar\":{\"outlinewidth\":0,\"ticks\":\"\"}},\"type\":\"scattermapbox\"}],\"scatterpolar\":[{\"marker\":{\"colorbar\":{\"outlinewidth\":0,\"ticks\":\"\"}},\"type\":\"scatterpolar\"}],\"scatterpolargl\":[{\"marker\":{\"colorbar\":{\"outlinewidth\":0,\"ticks\":\"\"}},\"type\":\"scatterpolargl\"}],\"scatterternary\":[{\"marker\":{\"colorbar\":{\"outlinewidth\":0,\"ticks\":\"\"}},\"type\":\"scatterternary\"}],\"surface\":[{\"colorbar\":{\"outlinewidth\":0,\"ticks\":\"\"},\"colorscale\":[[0.0,\"#0d0887\"],[0.1111111111111111,\"#46039f\"],[0.2222222222222222,\"#7201a8\"],[0.3333333333333333,\"#9c179e\"],[0.4444444444444444,\"#bd3786\"],[0.5555555555555556,\"#d8576b\"],[0.6666666666666666,\"#ed7953\"],[0.7777777777777778,\"#fb9f3a\"],[0.8888888888888888,\"#fdca26\"],[1.0,\"#f0f921\"]],\"type\":\"surface\"}],\"table\":[{\"cells\":{\"fill\":{\"color\":\"#EBF0F8\"},\"line\":{\"color\":\"white\"}},\"header\":{\"fill\":{\"color\":\"#C8D4E3\"},\"line\":{\"color\":\"white\"}},\"type\":\"table\"}]},\"layout\":{\"annotationdefaults\":{\"arrowcolor\":\"#2a3f5f\",\"arrowhead\":0,\"arrowwidth\":1},\"autotypenumbers\":\"strict\",\"coloraxis\":{\"colorbar\":{\"outlinewidth\":0,\"ticks\":\"\"}},\"colorscale\":{\"diverging\":[[0,\"#8e0152\"],[0.1,\"#c51b7d\"],[0.2,\"#de77ae\"],[0.3,\"#f1b6da\"],[0.4,\"#fde0ef\"],[0.5,\"#f7f7f7\"],[0.6,\"#e6f5d0\"],[0.7,\"#b8e186\"],[0.8,\"#7fbc41\"],[0.9,\"#4d9221\"],[1,\"#276419\"]],\"sequential\":[[0.0,\"#0d0887\"],[0.1111111111111111,\"#46039f\"],[0.2222222222222222,\"#7201a8\"],[0.3333333333333333,\"#9c179e\"],[0.4444444444444444,\"#bd3786\"],[0.5555555555555556,\"#d8576b\"],[0.6666666666666666,\"#ed7953\"],[0.7777777777777778,\"#fb9f3a\"],[0.8888888888888888,\"#fdca26\"],[1.0,\"#f0f921\"]],\"sequentialminus\":[[0.0,\"#0d0887\"],[0.1111111111111111,\"#46039f\"],[0.2222222222222222,\"#7201a8\"],[0.3333333333333333,\"#9c179e\"],[0.4444444444444444,\"#bd3786\"],[0.5555555555555556,\"#d8576b\"],[0.6666666666666666,\"#ed7953\"],[0.7777777777777778,\"#fb9f3a\"],[0.8888888888888888,\"#fdca26\"],[1.0,\"#f0f921\"]]},\"colorway\":[\"#636efa\",\"#EF553B\",\"#00cc96\",\"#ab63fa\",\"#FFA15A\",\"#19d3f3\",\"#FF6692\",\"#B6E880\",\"#FF97FF\",\"#FECB52\"],\"font\":{\"color\":\"#2a3f5f\"},\"geo\":{\"bgcolor\":\"white\",\"lakecolor\":\"white\",\"landcolor\":\"#E5ECF6\",\"showlakes\":true,\"showland\":true,\"subunitcolor\":\"white\"},\"hoverlabel\":{\"align\":\"left\"},\"hovermode\":\"closest\",\"mapbox\":{\"style\":\"light\"},\"paper_bgcolor\":\"white\",\"plot_bgcolor\":\"#E5ECF6\",\"polar\":{\"angularaxis\":{\"gridcolor\":\"white\",\"linecolor\":\"white\",\"ticks\":\"\"},\"bgcolor\":\"#E5ECF6\",\"radialaxis\":{\"gridcolor\":\"white\",\"linecolor\":\"white\",\"ticks\":\"\"}},\"scene\":{\"xaxis\":{\"backgroundcolor\":\"#E5ECF6\",\"gridcolor\":\"white\",\"gridwidth\":2,\"linecolor\":\"white\",\"showbackground\":true,\"ticks\":\"\",\"zerolinecolor\":\"white\"},\"yaxis\":{\"backgroundcolor\":\"#E5ECF6\",\"gridcolor\":\"white\",\"gridwidth\":2,\"linecolor\":\"white\",\"showbackground\":true,\"ticks\":\"\",\"zerolinecolor\":\"white\"},\"zaxis\":{\"backgroundcolor\":\"#E5ECF6\",\"gridcolor\":\"white\",\"gridwidth\":2,\"linecolor\":\"white\",\"showbackground\":true,\"ticks\":\"\",\"zerolinecolor\":\"white\"}},\"shapedefaults\":{\"line\":{\"color\":\"#2a3f5f\"}},\"ternary\":{\"aaxis\":{\"gridcolor\":\"white\",\"linecolor\":\"white\",\"ticks\":\"\"},\"baxis\":{\"gridcolor\":\"white\",\"linecolor\":\"white\",\"ticks\":\"\"},\"bgcolor\":\"#E5ECF6\",\"caxis\":{\"gridcolor\":\"white\",\"linecolor\":\"white\",\"ticks\":\"\"}},\"title\":{\"x\":0.05},\"xaxis\":{\"automargin\":true,\"gridcolor\":\"white\",\"linecolor\":\"white\",\"ticks\":\"\",\"title\":{\"standoff\":15},\"zerolinecolor\":\"white\",\"zerolinewidth\":2},\"yaxis\":{\"automargin\":true,\"gridcolor\":\"white\",\"linecolor\":\"white\",\"ticks\":\"\",\"title\":{\"standoff\":15},\"zerolinecolor\":\"white\",\"zerolinewidth\":2}}},\"title\":{\"font\":{\"color\":\"rgb(1,21,51)\",\"size\":30}},\"width\":500,\"xaxis\":{\"range\":[-0.5,4.5],\"showgrid\":true,\"title\":{\"font\":{\"color\":\"rgb(1,21,51)\",\"family\":\"latex\",\"size\":30},\"text\":\"$\\\\large{x}$\"}},\"yaxis\":{\"range\":[-0.5,2.5],\"showgrid\":true,\"title\":{\"font\":{\"color\":\"rgb(1,21,51)\",\"family\":\"latex\",\"size\":30},\"text\":\"$\\\\large{y}$\"}}},                        {\"responsive\": true}                    ).then(function(){\n",
              "                            \n",
              "var gd = document.getElementById('9e6130d8-3f55-4178-808f-8e0684d58efb');\n",
              "var x = new MutationObserver(function (mutations, observer) {{\n",
              "        var display = window.getComputedStyle(gd).display;\n",
              "        if (!display || display === 'none') {{\n",
              "            console.log([gd, 'removed!']);\n",
              "            Plotly.purge(gd);\n",
              "            observer.disconnect();\n",
              "        }}\n",
              "}});\n",
              "\n",
              "// Listen for the removal of the full notebook cells\n",
              "var notebookContainer = gd.closest('#notebook-container');\n",
              "if (notebookContainer) {{\n",
              "    x.observe(notebookContainer, {childList: true});\n",
              "}}\n",
              "\n",
              "// Listen for the clearing of the current output cell\n",
              "var outputEl = gd.closest('.output');\n",
              "if (outputEl) {{\n",
              "    x.observe(outputEl, {childList: true});\n",
              "}}\n",
              "\n",
              "                        })                };                            </script>        </div>\n",
              "</body>\n",
              "</html>"
            ]
          },
          "metadata": {}
        }
      ]
    },
    {
      "cell_type": "markdown",
      "metadata": {
        "id": "NUmeXWZFhdBL"
      },
      "source": [
        "\n",
        "#**Graficación de vectores bidimensionales**\n",
        "\n",
        "###**Con punto inicial en el origen**"
      ]
    },
    {
      "cell_type": "code",
      "metadata": {
        "colab": {
          "base_uri": "https://localhost:8080/",
          "height": 497
        },
        "id": "zdXyUipLi7U9",
        "outputId": "28295e87-df48-4afa-c3c7-7905f881a62b"
      },
      "source": [
        "A = Matrix([2,5])\n",
        "plotvectors2D(A)"
      ],
      "execution_count": null,
      "outputs": [
        {
          "output_type": "display_data",
          "data": {
            "text/html": [
              "<html>\n",
              "<head><meta charset=\"utf-8\" /></head>\n",
              "<body>\n",
              "    <div>            <script src=\"https://cdnjs.cloudflare.com/ajax/libs/mathjax/2.7.5/MathJax.js?config=TeX-AMS-MML_SVG\"></script><script type=\"text/javascript\">if (window.MathJax) {MathJax.Hub.Config({SVG: {font: \"STIX-Web\"}});}</script>                <script type=\"text/javascript\">window.PlotlyConfig = {MathJaxConfig: 'local'};</script>\n",
              "        <script src=\"https://cdn.plot.ly/plotly-2.2.0.min.js\"></script>                <div id=\"8af979f0-6c28-4510-9290-26cbbd3282e8\" class=\"plotly-graph-div\" style=\"height:480px; width:500px;\"></div>            <script type=\"text/javascript\">                                    window.PLOTLYENV=window.PLOTLYENV || {};                                    if (document.getElementById(\"8af979f0-6c28-4510-9290-26cbbd3282e8\")) {                    Plotly.newPlot(                        \"8af979f0-6c28-4510-9290-26cbbd3282e8\",                        [{\"marker\":{\"color\":\"rgb(131,3,245)\",\"size\":8},\"mode\":\"lines\",\"name\":\"vector 1\",\"showlegend\":true,\"type\":\"scatter\",\"x\":[0,2.0],\"y\":[0,5.0]},{\"marker\":{\"color\":\"#2a3f5f\",\"size\":9},\"mode\":\"markers\",\"name\":\"origen\",\"opacity\":1,\"showlegend\":true,\"type\":\"scatter\",\"x\":[0],\"y\":[0]}],                        {\"annotations\":[{\"arrowcolor\":\"rgb(131,3,245)\",\"arrowhead\":2,\"arrowsize\":1.5,\"arrowwidth\":2.3,\"ax\":0.0,\"axref\":\"x\",\"ay\":0.0,\"ayref\":\"y\",\"showarrow\":true,\"x\":2.0,\"xref\":\"x\",\"y\":5.0,\"yref\":\"y\"},{\"arrowcolor\":\"#2a3f5f\",\"arrowhead\":2,\"arrowwidth\":1.5,\"ax\":-0.54,\"axref\":\"x\",\"ay\":0,\"ayref\":\"y\",\"x\":2.5,\"xref\":\"x\",\"y\":0,\"yref\":\"y\"},{\"arrowcolor\":\"#2a3f5f\",\"arrowhead\":2,\"arrowwidth\":1.5,\"ax\":0,\"axref\":\"x\",\"ay\":-0.54,\"ayref\":\"y\",\"x\":0,\"xref\":\"x\",\"y\":5.5,\"yref\":\"y\"}],\"font\":{\"color\":\"black\",\"family\":\"latex\",\"size\":20},\"height\":480,\"legend\":{\"itemdoubleclick\":\"toggle\",\"orientation\":\"h\",\"x\":1,\"xanchor\":\"right\",\"y\":1.02,\"yanchor\":\"bottom\"},\"showlegend\":true,\"template\":{\"data\":{\"bar\":[{\"error_x\":{\"color\":\"#2a3f5f\"},\"error_y\":{\"color\":\"#2a3f5f\"},\"marker\":{\"line\":{\"color\":\"#E5ECF6\",\"width\":0.5},\"pattern\":{\"fillmode\":\"overlay\",\"size\":10,\"solidity\":0.2}},\"type\":\"bar\"}],\"barpolar\":[{\"marker\":{\"line\":{\"color\":\"#E5ECF6\",\"width\":0.5},\"pattern\":{\"fillmode\":\"overlay\",\"size\":10,\"solidity\":0.2}},\"type\":\"barpolar\"}],\"carpet\":[{\"aaxis\":{\"endlinecolor\":\"#2a3f5f\",\"gridcolor\":\"white\",\"linecolor\":\"white\",\"minorgridcolor\":\"white\",\"startlinecolor\":\"#2a3f5f\"},\"baxis\":{\"endlinecolor\":\"#2a3f5f\",\"gridcolor\":\"white\",\"linecolor\":\"white\",\"minorgridcolor\":\"white\",\"startlinecolor\":\"#2a3f5f\"},\"type\":\"carpet\"}],\"choropleth\":[{\"colorbar\":{\"outlinewidth\":0,\"ticks\":\"\"},\"type\":\"choropleth\"}],\"contour\":[{\"colorbar\":{\"outlinewidth\":0,\"ticks\":\"\"},\"colorscale\":[[0.0,\"#0d0887\"],[0.1111111111111111,\"#46039f\"],[0.2222222222222222,\"#7201a8\"],[0.3333333333333333,\"#9c179e\"],[0.4444444444444444,\"#bd3786\"],[0.5555555555555556,\"#d8576b\"],[0.6666666666666666,\"#ed7953\"],[0.7777777777777778,\"#fb9f3a\"],[0.8888888888888888,\"#fdca26\"],[1.0,\"#f0f921\"]],\"type\":\"contour\"}],\"contourcarpet\":[{\"colorbar\":{\"outlinewidth\":0,\"ticks\":\"\"},\"type\":\"contourcarpet\"}],\"heatmap\":[{\"colorbar\":{\"outlinewidth\":0,\"ticks\":\"\"},\"colorscale\":[[0.0,\"#0d0887\"],[0.1111111111111111,\"#46039f\"],[0.2222222222222222,\"#7201a8\"],[0.3333333333333333,\"#9c179e\"],[0.4444444444444444,\"#bd3786\"],[0.5555555555555556,\"#d8576b\"],[0.6666666666666666,\"#ed7953\"],[0.7777777777777778,\"#fb9f3a\"],[0.8888888888888888,\"#fdca26\"],[1.0,\"#f0f921\"]],\"type\":\"heatmap\"}],\"heatmapgl\":[{\"colorbar\":{\"outlinewidth\":0,\"ticks\":\"\"},\"colorscale\":[[0.0,\"#0d0887\"],[0.1111111111111111,\"#46039f\"],[0.2222222222222222,\"#7201a8\"],[0.3333333333333333,\"#9c179e\"],[0.4444444444444444,\"#bd3786\"],[0.5555555555555556,\"#d8576b\"],[0.6666666666666666,\"#ed7953\"],[0.7777777777777778,\"#fb9f3a\"],[0.8888888888888888,\"#fdca26\"],[1.0,\"#f0f921\"]],\"type\":\"heatmapgl\"}],\"histogram\":[{\"marker\":{\"pattern\":{\"fillmode\":\"overlay\",\"size\":10,\"solidity\":0.2}},\"type\":\"histogram\"}],\"histogram2d\":[{\"colorbar\":{\"outlinewidth\":0,\"ticks\":\"\"},\"colorscale\":[[0.0,\"#0d0887\"],[0.1111111111111111,\"#46039f\"],[0.2222222222222222,\"#7201a8\"],[0.3333333333333333,\"#9c179e\"],[0.4444444444444444,\"#bd3786\"],[0.5555555555555556,\"#d8576b\"],[0.6666666666666666,\"#ed7953\"],[0.7777777777777778,\"#fb9f3a\"],[0.8888888888888888,\"#fdca26\"],[1.0,\"#f0f921\"]],\"type\":\"histogram2d\"}],\"histogram2dcontour\":[{\"colorbar\":{\"outlinewidth\":0,\"ticks\":\"\"},\"colorscale\":[[0.0,\"#0d0887\"],[0.1111111111111111,\"#46039f\"],[0.2222222222222222,\"#7201a8\"],[0.3333333333333333,\"#9c179e\"],[0.4444444444444444,\"#bd3786\"],[0.5555555555555556,\"#d8576b\"],[0.6666666666666666,\"#ed7953\"],[0.7777777777777778,\"#fb9f3a\"],[0.8888888888888888,\"#fdca26\"],[1.0,\"#f0f921\"]],\"type\":\"histogram2dcontour\"}],\"mesh3d\":[{\"colorbar\":{\"outlinewidth\":0,\"ticks\":\"\"},\"type\":\"mesh3d\"}],\"parcoords\":[{\"line\":{\"colorbar\":{\"outlinewidth\":0,\"ticks\":\"\"}},\"type\":\"parcoords\"}],\"pie\":[{\"automargin\":true,\"type\":\"pie\"}],\"scatter\":[{\"marker\":{\"colorbar\":{\"outlinewidth\":0,\"ticks\":\"\"}},\"type\":\"scatter\"}],\"scatter3d\":[{\"line\":{\"colorbar\":{\"outlinewidth\":0,\"ticks\":\"\"}},\"marker\":{\"colorbar\":{\"outlinewidth\":0,\"ticks\":\"\"}},\"type\":\"scatter3d\"}],\"scattercarpet\":[{\"marker\":{\"colorbar\":{\"outlinewidth\":0,\"ticks\":\"\"}},\"type\":\"scattercarpet\"}],\"scattergeo\":[{\"marker\":{\"colorbar\":{\"outlinewidth\":0,\"ticks\":\"\"}},\"type\":\"scattergeo\"}],\"scattergl\":[{\"marker\":{\"colorbar\":{\"outlinewidth\":0,\"ticks\":\"\"}},\"type\":\"scattergl\"}],\"scattermapbox\":[{\"marker\":{\"colorbar\":{\"outlinewidth\":0,\"ticks\":\"\"}},\"type\":\"scattermapbox\"}],\"scatterpolar\":[{\"marker\":{\"colorbar\":{\"outlinewidth\":0,\"ticks\":\"\"}},\"type\":\"scatterpolar\"}],\"scatterpolargl\":[{\"marker\":{\"colorbar\":{\"outlinewidth\":0,\"ticks\":\"\"}},\"type\":\"scatterpolargl\"}],\"scatterternary\":[{\"marker\":{\"colorbar\":{\"outlinewidth\":0,\"ticks\":\"\"}},\"type\":\"scatterternary\"}],\"surface\":[{\"colorbar\":{\"outlinewidth\":0,\"ticks\":\"\"},\"colorscale\":[[0.0,\"#0d0887\"],[0.1111111111111111,\"#46039f\"],[0.2222222222222222,\"#7201a8\"],[0.3333333333333333,\"#9c179e\"],[0.4444444444444444,\"#bd3786\"],[0.5555555555555556,\"#d8576b\"],[0.6666666666666666,\"#ed7953\"],[0.7777777777777778,\"#fb9f3a\"],[0.8888888888888888,\"#fdca26\"],[1.0,\"#f0f921\"]],\"type\":\"surface\"}],\"table\":[{\"cells\":{\"fill\":{\"color\":\"#EBF0F8\"},\"line\":{\"color\":\"white\"}},\"header\":{\"fill\":{\"color\":\"#C8D4E3\"},\"line\":{\"color\":\"white\"}},\"type\":\"table\"}]},\"layout\":{\"annotationdefaults\":{\"arrowcolor\":\"#2a3f5f\",\"arrowhead\":0,\"arrowwidth\":1},\"autotypenumbers\":\"strict\",\"coloraxis\":{\"colorbar\":{\"outlinewidth\":0,\"ticks\":\"\"}},\"colorscale\":{\"diverging\":[[0,\"#8e0152\"],[0.1,\"#c51b7d\"],[0.2,\"#de77ae\"],[0.3,\"#f1b6da\"],[0.4,\"#fde0ef\"],[0.5,\"#f7f7f7\"],[0.6,\"#e6f5d0\"],[0.7,\"#b8e186\"],[0.8,\"#7fbc41\"],[0.9,\"#4d9221\"],[1,\"#276419\"]],\"sequential\":[[0.0,\"#0d0887\"],[0.1111111111111111,\"#46039f\"],[0.2222222222222222,\"#7201a8\"],[0.3333333333333333,\"#9c179e\"],[0.4444444444444444,\"#bd3786\"],[0.5555555555555556,\"#d8576b\"],[0.6666666666666666,\"#ed7953\"],[0.7777777777777778,\"#fb9f3a\"],[0.8888888888888888,\"#fdca26\"],[1.0,\"#f0f921\"]],\"sequentialminus\":[[0.0,\"#0d0887\"],[0.1111111111111111,\"#46039f\"],[0.2222222222222222,\"#7201a8\"],[0.3333333333333333,\"#9c179e\"],[0.4444444444444444,\"#bd3786\"],[0.5555555555555556,\"#d8576b\"],[0.6666666666666666,\"#ed7953\"],[0.7777777777777778,\"#fb9f3a\"],[0.8888888888888888,\"#fdca26\"],[1.0,\"#f0f921\"]]},\"colorway\":[\"#636efa\",\"#EF553B\",\"#00cc96\",\"#ab63fa\",\"#FFA15A\",\"#19d3f3\",\"#FF6692\",\"#B6E880\",\"#FF97FF\",\"#FECB52\"],\"font\":{\"color\":\"#2a3f5f\"},\"geo\":{\"bgcolor\":\"white\",\"lakecolor\":\"white\",\"landcolor\":\"#E5ECF6\",\"showlakes\":true,\"showland\":true,\"subunitcolor\":\"white\"},\"hoverlabel\":{\"align\":\"left\"},\"hovermode\":\"closest\",\"mapbox\":{\"style\":\"light\"},\"paper_bgcolor\":\"white\",\"plot_bgcolor\":\"#E5ECF6\",\"polar\":{\"angularaxis\":{\"gridcolor\":\"white\",\"linecolor\":\"white\",\"ticks\":\"\"},\"bgcolor\":\"#E5ECF6\",\"radialaxis\":{\"gridcolor\":\"white\",\"linecolor\":\"white\",\"ticks\":\"\"}},\"scene\":{\"xaxis\":{\"backgroundcolor\":\"#E5ECF6\",\"gridcolor\":\"white\",\"gridwidth\":2,\"linecolor\":\"white\",\"showbackground\":true,\"ticks\":\"\",\"zerolinecolor\":\"white\"},\"yaxis\":{\"backgroundcolor\":\"#E5ECF6\",\"gridcolor\":\"white\",\"gridwidth\":2,\"linecolor\":\"white\",\"showbackground\":true,\"ticks\":\"\",\"zerolinecolor\":\"white\"},\"zaxis\":{\"backgroundcolor\":\"#E5ECF6\",\"gridcolor\":\"white\",\"gridwidth\":2,\"linecolor\":\"white\",\"showbackground\":true,\"ticks\":\"\",\"zerolinecolor\":\"white\"}},\"shapedefaults\":{\"line\":{\"color\":\"#2a3f5f\"}},\"ternary\":{\"aaxis\":{\"gridcolor\":\"white\",\"linecolor\":\"white\",\"ticks\":\"\"},\"baxis\":{\"gridcolor\":\"white\",\"linecolor\":\"white\",\"ticks\":\"\"},\"bgcolor\":\"#E5ECF6\",\"caxis\":{\"gridcolor\":\"white\",\"linecolor\":\"white\",\"ticks\":\"\"}},\"title\":{\"x\":0.05},\"xaxis\":{\"automargin\":true,\"gridcolor\":\"white\",\"linecolor\":\"white\",\"ticks\":\"\",\"title\":{\"standoff\":15},\"zerolinecolor\":\"white\",\"zerolinewidth\":2},\"yaxis\":{\"automargin\":true,\"gridcolor\":\"white\",\"linecolor\":\"white\",\"ticks\":\"\",\"title\":{\"standoff\":15},\"zerolinecolor\":\"white\",\"zerolinewidth\":2}}},\"title\":{\"font\":{\"color\":\"rgb(1,21,51)\",\"size\":30}},\"width\":500,\"xaxis\":{\"range\":[-0.5,2.5],\"showgrid\":true,\"title\":{\"font\":{\"color\":\"rgb(1,21,51)\",\"family\":\"latex\",\"size\":30},\"text\":\"$\\\\large{x}$\"}},\"yaxis\":{\"range\":[-0.5,5.5],\"showgrid\":true,\"title\":{\"font\":{\"color\":\"rgb(1,21,51)\",\"family\":\"latex\",\"size\":30},\"text\":\"$\\\\large{y}$\"}}},                        {\"responsive\": true}                    ).then(function(){\n",
              "                            \n",
              "var gd = document.getElementById('8af979f0-6c28-4510-9290-26cbbd3282e8');\n",
              "var x = new MutationObserver(function (mutations, observer) {{\n",
              "        var display = window.getComputedStyle(gd).display;\n",
              "        if (!display || display === 'none') {{\n",
              "            console.log([gd, 'removed!']);\n",
              "            Plotly.purge(gd);\n",
              "            observer.disconnect();\n",
              "        }}\n",
              "}});\n",
              "\n",
              "// Listen for the removal of the full notebook cells\n",
              "var notebookContainer = gd.closest('#notebook-container');\n",
              "if (notebookContainer) {{\n",
              "    x.observe(notebookContainer, {childList: true});\n",
              "}}\n",
              "\n",
              "// Listen for the clearing of the current output cell\n",
              "var outputEl = gd.closest('.output');\n",
              "if (outputEl) {{\n",
              "    x.observe(outputEl, {childList: true});\n",
              "}}\n",
              "\n",
              "                        })                };                            </script>        </div>\n",
              "</body>\n",
              "</html>"
            ]
          },
          "metadata": {}
        }
      ]
    },
    {
      "cell_type": "markdown",
      "metadata": {
        "id": "e9ZScdgWi7U-"
      },
      "source": [
        "###**Con punto inicial y punto final dado**"
      ]
    },
    {
      "cell_type": "code",
      "metadata": {
        "colab": {
          "base_uri": "https://localhost:8080/",
          "height": 497
        },
        "id": "vMaMVAWbi7U-",
        "outputId": "57eb4ee5-bfdc-41e1-dba9-36cce262f8c3"
      },
      "source": [
        "A = (1,2)\n",
        "B = (3,5)\n",
        "v = [2,3]\n",
        "plot2D([A,B],v)"
      ],
      "execution_count": null,
      "outputs": [
        {
          "output_type": "display_data",
          "data": {
            "text/html": [
              "<html>\n",
              "<head><meta charset=\"utf-8\" /></head>\n",
              "<body>\n",
              "    <div>            <script src=\"https://cdnjs.cloudflare.com/ajax/libs/mathjax/2.7.5/MathJax.js?config=TeX-AMS-MML_SVG\"></script><script type=\"text/javascript\">if (window.MathJax) {MathJax.Hub.Config({SVG: {font: \"STIX-Web\"}});}</script>                <script type=\"text/javascript\">window.PlotlyConfig = {MathJaxConfig: 'local'};</script>\n",
              "        <script src=\"https://cdn.plot.ly/plotly-2.2.0.min.js\"></script>                <div id=\"4e7e9718-e09b-41f5-b55c-b1bb8973ef3b\" class=\"plotly-graph-div\" style=\"height:480px; width:500px;\"></div>            <script type=\"text/javascript\">                                    window.PLOTLYENV=window.PLOTLYENV || {};                                    if (document.getElementById(\"4e7e9718-e09b-41f5-b55c-b1bb8973ef3b\")) {                    Plotly.newPlot(                        \"4e7e9718-e09b-41f5-b55c-b1bb8973ef3b\",                        [{\"marker\":{\"color\":\"rgb(205,98,24)\",\"size\":8},\"mode\":\"lines\",\"name\":\"vector 1\",\"showlegend\":true,\"type\":\"scatter\",\"x\":[1,3],\"y\":[2,5]},{\"marker\":{\"color\":\"rgb(73,140,214)\",\"size\":8},\"mode\":\"lines\",\"name\":\"vector 2\",\"showlegend\":true,\"type\":\"scatter\",\"x\":[0,2],\"y\":[0,3]},{\"marker\":{\"color\":\"#2a3f5f\",\"size\":9},\"mode\":\"markers\",\"name\":\"origen\",\"opacity\":1,\"showlegend\":true,\"type\":\"scatter\",\"x\":[0],\"y\":[0]}],                        {\"annotations\":[{\"arrowcolor\":\"rgb(205,98,24)\",\"arrowhead\":2,\"arrowsize\":1.5,\"arrowwidth\":2.3,\"ax\":1,\"axref\":\"x\",\"ay\":2,\"ayref\":\"y\",\"showarrow\":true,\"x\":3,\"xref\":\"x\",\"y\":5,\"yref\":\"y\"},{\"arrowcolor\":\"rgb(73,140,214)\",\"arrowhead\":2,\"arrowsize\":1.5,\"arrowwidth\":2.3,\"ax\":0.0,\"axref\":\"x\",\"ay\":0.0,\"ayref\":\"y\",\"name\":\"Markers and Text\",\"showarrow\":true,\"x\":2,\"xref\":\"x\",\"y\":3,\"yref\":\"y\"},{\"arrowcolor\":\"#2a3f5f\",\"arrowhead\":2,\"arrowwidth\":1.5,\"ax\":-1.04,\"axref\":\"x\",\"ay\":0,\"ayref\":\"y\",\"x\":3.5,\"xref\":\"x\",\"y\":0,\"yref\":\"y\"},{\"arrowcolor\":\"#2a3f5f\",\"arrowhead\":2,\"arrowwidth\":1.5,\"ax\":0,\"axref\":\"x\",\"ay\":-1.25,\"ayref\":\"y\",\"x\":0,\"xref\":\"x\",\"y\":5.5,\"yref\":\"y\"}],\"font\":{\"color\":\"black\",\"family\":\"latex\",\"size\":20},\"height\":480,\"legend\":{\"itemdoubleclick\":\"toggle\",\"orientation\":\"h\",\"x\":1,\"xanchor\":\"right\",\"y\":1.02,\"yanchor\":\"bottom\"},\"showlegend\":true,\"template\":{\"data\":{\"bar\":[{\"error_x\":{\"color\":\"#2a3f5f\"},\"error_y\":{\"color\":\"#2a3f5f\"},\"marker\":{\"line\":{\"color\":\"#E5ECF6\",\"width\":0.5},\"pattern\":{\"fillmode\":\"overlay\",\"size\":10,\"solidity\":0.2}},\"type\":\"bar\"}],\"barpolar\":[{\"marker\":{\"line\":{\"color\":\"#E5ECF6\",\"width\":0.5},\"pattern\":{\"fillmode\":\"overlay\",\"size\":10,\"solidity\":0.2}},\"type\":\"barpolar\"}],\"carpet\":[{\"aaxis\":{\"endlinecolor\":\"#2a3f5f\",\"gridcolor\":\"white\",\"linecolor\":\"white\",\"minorgridcolor\":\"white\",\"startlinecolor\":\"#2a3f5f\"},\"baxis\":{\"endlinecolor\":\"#2a3f5f\",\"gridcolor\":\"white\",\"linecolor\":\"white\",\"minorgridcolor\":\"white\",\"startlinecolor\":\"#2a3f5f\"},\"type\":\"carpet\"}],\"choropleth\":[{\"colorbar\":{\"outlinewidth\":0,\"ticks\":\"\"},\"type\":\"choropleth\"}],\"contour\":[{\"colorbar\":{\"outlinewidth\":0,\"ticks\":\"\"},\"colorscale\":[[0.0,\"#0d0887\"],[0.1111111111111111,\"#46039f\"],[0.2222222222222222,\"#7201a8\"],[0.3333333333333333,\"#9c179e\"],[0.4444444444444444,\"#bd3786\"],[0.5555555555555556,\"#d8576b\"],[0.6666666666666666,\"#ed7953\"],[0.7777777777777778,\"#fb9f3a\"],[0.8888888888888888,\"#fdca26\"],[1.0,\"#f0f921\"]],\"type\":\"contour\"}],\"contourcarpet\":[{\"colorbar\":{\"outlinewidth\":0,\"ticks\":\"\"},\"type\":\"contourcarpet\"}],\"heatmap\":[{\"colorbar\":{\"outlinewidth\":0,\"ticks\":\"\"},\"colorscale\":[[0.0,\"#0d0887\"],[0.1111111111111111,\"#46039f\"],[0.2222222222222222,\"#7201a8\"],[0.3333333333333333,\"#9c179e\"],[0.4444444444444444,\"#bd3786\"],[0.5555555555555556,\"#d8576b\"],[0.6666666666666666,\"#ed7953\"],[0.7777777777777778,\"#fb9f3a\"],[0.8888888888888888,\"#fdca26\"],[1.0,\"#f0f921\"]],\"type\":\"heatmap\"}],\"heatmapgl\":[{\"colorbar\":{\"outlinewidth\":0,\"ticks\":\"\"},\"colorscale\":[[0.0,\"#0d0887\"],[0.1111111111111111,\"#46039f\"],[0.2222222222222222,\"#7201a8\"],[0.3333333333333333,\"#9c179e\"],[0.4444444444444444,\"#bd3786\"],[0.5555555555555556,\"#d8576b\"],[0.6666666666666666,\"#ed7953\"],[0.7777777777777778,\"#fb9f3a\"],[0.8888888888888888,\"#fdca26\"],[1.0,\"#f0f921\"]],\"type\":\"heatmapgl\"}],\"histogram\":[{\"marker\":{\"pattern\":{\"fillmode\":\"overlay\",\"size\":10,\"solidity\":0.2}},\"type\":\"histogram\"}],\"histogram2d\":[{\"colorbar\":{\"outlinewidth\":0,\"ticks\":\"\"},\"colorscale\":[[0.0,\"#0d0887\"],[0.1111111111111111,\"#46039f\"],[0.2222222222222222,\"#7201a8\"],[0.3333333333333333,\"#9c179e\"],[0.4444444444444444,\"#bd3786\"],[0.5555555555555556,\"#d8576b\"],[0.6666666666666666,\"#ed7953\"],[0.7777777777777778,\"#fb9f3a\"],[0.8888888888888888,\"#fdca26\"],[1.0,\"#f0f921\"]],\"type\":\"histogram2d\"}],\"histogram2dcontour\":[{\"colorbar\":{\"outlinewidth\":0,\"ticks\":\"\"},\"colorscale\":[[0.0,\"#0d0887\"],[0.1111111111111111,\"#46039f\"],[0.2222222222222222,\"#7201a8\"],[0.3333333333333333,\"#9c179e\"],[0.4444444444444444,\"#bd3786\"],[0.5555555555555556,\"#d8576b\"],[0.6666666666666666,\"#ed7953\"],[0.7777777777777778,\"#fb9f3a\"],[0.8888888888888888,\"#fdca26\"],[1.0,\"#f0f921\"]],\"type\":\"histogram2dcontour\"}],\"mesh3d\":[{\"colorbar\":{\"outlinewidth\":0,\"ticks\":\"\"},\"type\":\"mesh3d\"}],\"parcoords\":[{\"line\":{\"colorbar\":{\"outlinewidth\":0,\"ticks\":\"\"}},\"type\":\"parcoords\"}],\"pie\":[{\"automargin\":true,\"type\":\"pie\"}],\"scatter\":[{\"marker\":{\"colorbar\":{\"outlinewidth\":0,\"ticks\":\"\"}},\"type\":\"scatter\"}],\"scatter3d\":[{\"line\":{\"colorbar\":{\"outlinewidth\":0,\"ticks\":\"\"}},\"marker\":{\"colorbar\":{\"outlinewidth\":0,\"ticks\":\"\"}},\"type\":\"scatter3d\"}],\"scattercarpet\":[{\"marker\":{\"colorbar\":{\"outlinewidth\":0,\"ticks\":\"\"}},\"type\":\"scattercarpet\"}],\"scattergeo\":[{\"marker\":{\"colorbar\":{\"outlinewidth\":0,\"ticks\":\"\"}},\"type\":\"scattergeo\"}],\"scattergl\":[{\"marker\":{\"colorbar\":{\"outlinewidth\":0,\"ticks\":\"\"}},\"type\":\"scattergl\"}],\"scattermapbox\":[{\"marker\":{\"colorbar\":{\"outlinewidth\":0,\"ticks\":\"\"}},\"type\":\"scattermapbox\"}],\"scatterpolar\":[{\"marker\":{\"colorbar\":{\"outlinewidth\":0,\"ticks\":\"\"}},\"type\":\"scatterpolar\"}],\"scatterpolargl\":[{\"marker\":{\"colorbar\":{\"outlinewidth\":0,\"ticks\":\"\"}},\"type\":\"scatterpolargl\"}],\"scatterternary\":[{\"marker\":{\"colorbar\":{\"outlinewidth\":0,\"ticks\":\"\"}},\"type\":\"scatterternary\"}],\"surface\":[{\"colorbar\":{\"outlinewidth\":0,\"ticks\":\"\"},\"colorscale\":[[0.0,\"#0d0887\"],[0.1111111111111111,\"#46039f\"],[0.2222222222222222,\"#7201a8\"],[0.3333333333333333,\"#9c179e\"],[0.4444444444444444,\"#bd3786\"],[0.5555555555555556,\"#d8576b\"],[0.6666666666666666,\"#ed7953\"],[0.7777777777777778,\"#fb9f3a\"],[0.8888888888888888,\"#fdca26\"],[1.0,\"#f0f921\"]],\"type\":\"surface\"}],\"table\":[{\"cells\":{\"fill\":{\"color\":\"#EBF0F8\"},\"line\":{\"color\":\"white\"}},\"header\":{\"fill\":{\"color\":\"#C8D4E3\"},\"line\":{\"color\":\"white\"}},\"type\":\"table\"}]},\"layout\":{\"annotationdefaults\":{\"arrowcolor\":\"#2a3f5f\",\"arrowhead\":0,\"arrowwidth\":1},\"autotypenumbers\":\"strict\",\"coloraxis\":{\"colorbar\":{\"outlinewidth\":0,\"ticks\":\"\"}},\"colorscale\":{\"diverging\":[[0,\"#8e0152\"],[0.1,\"#c51b7d\"],[0.2,\"#de77ae\"],[0.3,\"#f1b6da\"],[0.4,\"#fde0ef\"],[0.5,\"#f7f7f7\"],[0.6,\"#e6f5d0\"],[0.7,\"#b8e186\"],[0.8,\"#7fbc41\"],[0.9,\"#4d9221\"],[1,\"#276419\"]],\"sequential\":[[0.0,\"#0d0887\"],[0.1111111111111111,\"#46039f\"],[0.2222222222222222,\"#7201a8\"],[0.3333333333333333,\"#9c179e\"],[0.4444444444444444,\"#bd3786\"],[0.5555555555555556,\"#d8576b\"],[0.6666666666666666,\"#ed7953\"],[0.7777777777777778,\"#fb9f3a\"],[0.8888888888888888,\"#fdca26\"],[1.0,\"#f0f921\"]],\"sequentialminus\":[[0.0,\"#0d0887\"],[0.1111111111111111,\"#46039f\"],[0.2222222222222222,\"#7201a8\"],[0.3333333333333333,\"#9c179e\"],[0.4444444444444444,\"#bd3786\"],[0.5555555555555556,\"#d8576b\"],[0.6666666666666666,\"#ed7953\"],[0.7777777777777778,\"#fb9f3a\"],[0.8888888888888888,\"#fdca26\"],[1.0,\"#f0f921\"]]},\"colorway\":[\"#636efa\",\"#EF553B\",\"#00cc96\",\"#ab63fa\",\"#FFA15A\",\"#19d3f3\",\"#FF6692\",\"#B6E880\",\"#FF97FF\",\"#FECB52\"],\"font\":{\"color\":\"#2a3f5f\"},\"geo\":{\"bgcolor\":\"white\",\"lakecolor\":\"white\",\"landcolor\":\"#E5ECF6\",\"showlakes\":true,\"showland\":true,\"subunitcolor\":\"white\"},\"hoverlabel\":{\"align\":\"left\"},\"hovermode\":\"closest\",\"mapbox\":{\"style\":\"light\"},\"paper_bgcolor\":\"white\",\"plot_bgcolor\":\"#E5ECF6\",\"polar\":{\"angularaxis\":{\"gridcolor\":\"white\",\"linecolor\":\"white\",\"ticks\":\"\"},\"bgcolor\":\"#E5ECF6\",\"radialaxis\":{\"gridcolor\":\"white\",\"linecolor\":\"white\",\"ticks\":\"\"}},\"scene\":{\"xaxis\":{\"backgroundcolor\":\"#E5ECF6\",\"gridcolor\":\"white\",\"gridwidth\":2,\"linecolor\":\"white\",\"showbackground\":true,\"ticks\":\"\",\"zerolinecolor\":\"white\"},\"yaxis\":{\"backgroundcolor\":\"#E5ECF6\",\"gridcolor\":\"white\",\"gridwidth\":2,\"linecolor\":\"white\",\"showbackground\":true,\"ticks\":\"\",\"zerolinecolor\":\"white\"},\"zaxis\":{\"backgroundcolor\":\"#E5ECF6\",\"gridcolor\":\"white\",\"gridwidth\":2,\"linecolor\":\"white\",\"showbackground\":true,\"ticks\":\"\",\"zerolinecolor\":\"white\"}},\"shapedefaults\":{\"line\":{\"color\":\"#2a3f5f\"}},\"ternary\":{\"aaxis\":{\"gridcolor\":\"white\",\"linecolor\":\"white\",\"ticks\":\"\"},\"baxis\":{\"gridcolor\":\"white\",\"linecolor\":\"white\",\"ticks\":\"\"},\"bgcolor\":\"#E5ECF6\",\"caxis\":{\"gridcolor\":\"white\",\"linecolor\":\"white\",\"ticks\":\"\"}},\"title\":{\"x\":0.05},\"xaxis\":{\"automargin\":true,\"gridcolor\":\"white\",\"linecolor\":\"white\",\"ticks\":\"\",\"title\":{\"standoff\":15},\"zerolinecolor\":\"white\",\"zerolinewidth\":2},\"yaxis\":{\"automargin\":true,\"gridcolor\":\"white\",\"linecolor\":\"white\",\"ticks\":\"\",\"title\":{\"standoff\":15},\"zerolinecolor\":\"white\",\"zerolinewidth\":2}}},\"title\":{\"font\":{\"color\":\"rgb(1,21,51)\",\"size\":30}},\"width\":500,\"xaxis\":{\"range\":[-1.0,3.5],\"showgrid\":true,\"title\":{\"font\":{\"color\":\"rgb(1,21,51)\",\"family\":\"latex\",\"size\":30},\"text\":\"$\\\\large{x}$\"}},\"yaxis\":{\"range\":[-1.0,5.5],\"showgrid\":true,\"title\":{\"font\":{\"color\":\"rgb(1,21,51)\",\"family\":\"latex\",\"size\":30},\"text\":\"$\\\\large{y}$\"}}},                        {\"responsive\": true}                    ).then(function(){\n",
              "                            \n",
              "var gd = document.getElementById('4e7e9718-e09b-41f5-b55c-b1bb8973ef3b');\n",
              "var x = new MutationObserver(function (mutations, observer) {{\n",
              "        var display = window.getComputedStyle(gd).display;\n",
              "        if (!display || display === 'none') {{\n",
              "            console.log([gd, 'removed!']);\n",
              "            Plotly.purge(gd);\n",
              "            observer.disconnect();\n",
              "        }}\n",
              "}});\n",
              "\n",
              "// Listen for the removal of the full notebook cells\n",
              "var notebookContainer = gd.closest('#notebook-container');\n",
              "if (notebookContainer) {{\n",
              "    x.observe(notebookContainer, {childList: true});\n",
              "}}\n",
              "\n",
              "// Listen for the clearing of the current output cell\n",
              "var outputEl = gd.closest('.output');\n",
              "if (outputEl) {{\n",
              "    x.observe(outputEl, {childList: true});\n",
              "}}\n",
              "\n",
              "                        })                };                            </script>        </div>\n",
              "</body>\n",
              "</html>"
            ]
          },
          "metadata": {}
        }
      ]
    },
    {
      "cell_type": "markdown",
      "metadata": {
        "id": "Ovf1pthxjA78"
      },
      "source": [
        "###**Equipolente a otro vector con punto inicial dado**"
      ]
    },
    {
      "cell_type": "code",
      "metadata": {
        "colab": {
          "base_uri": "https://localhost:8080/",
          "height": 497
        },
        "id": "7zB6a_DKjA79",
        "outputId": "1131dbde-b650-4502-d995-9d156d74750c"
      },
      "source": [
        "A = [2,3]\n",
        "plotvectors2D(A,[(1,3),A])"
      ],
      "execution_count": null,
      "outputs": [
        {
          "output_type": "display_data",
          "data": {
            "text/html": [
              "<html>\n",
              "<head><meta charset=\"utf-8\" /></head>\n",
              "<body>\n",
              "    <div>            <script src=\"https://cdnjs.cloudflare.com/ajax/libs/mathjax/2.7.5/MathJax.js?config=TeX-AMS-MML_SVG\"></script><script type=\"text/javascript\">if (window.MathJax) {MathJax.Hub.Config({SVG: {font: \"STIX-Web\"}});}</script>                <script type=\"text/javascript\">window.PlotlyConfig = {MathJaxConfig: 'local'};</script>\n",
              "        <script src=\"https://cdn.plot.ly/plotly-2.2.0.min.js\"></script>                <div id=\"97274f2f-9d43-40ac-8e39-556a095482c1\" class=\"plotly-graph-div\" style=\"height:480px; width:500px;\"></div>            <script type=\"text/javascript\">                                    window.PLOTLYENV=window.PLOTLYENV || {};                                    if (document.getElementById(\"97274f2f-9d43-40ac-8e39-556a095482c1\")) {                    Plotly.newPlot(                        \"97274f2f-9d43-40ac-8e39-556a095482c1\",                        [{\"marker\":{\"color\":\"rgb(75,105,129)\",\"size\":8},\"mode\":\"lines\",\"name\":\"vector 1\",\"showlegend\":true,\"type\":\"scatter\",\"x\":[0,2],\"y\":[0,3]},{\"marker\":{\"color\":\"rgb(227,133,241)\",\"size\":8},\"mode\":\"lines\",\"name\":\"vector 2\",\"showlegend\":true,\"type\":\"scatter\",\"x\":[1,3],\"y\":[3,6]},{\"marker\":{\"color\":\"#2a3f5f\",\"size\":9},\"mode\":\"markers\",\"name\":\"origen\",\"opacity\":1,\"showlegend\":true,\"type\":\"scatter\",\"x\":[0],\"y\":[0]}],                        {\"annotations\":[{\"arrowcolor\":\"rgb(75,105,129)\",\"arrowhead\":2,\"arrowsize\":1.5,\"arrowwidth\":2.3,\"ax\":0.0,\"axref\":\"x\",\"ay\":0.0,\"ayref\":\"y\",\"name\":\"Markers and Text\",\"showarrow\":true,\"x\":2,\"xref\":\"x\",\"y\":3,\"yref\":\"y\"},{\"arrowcolor\":\"rgb(227,133,241)\",\"arrowhead\":2,\"arrowsize\":1.5,\"arrowwidth\":2.3,\"ax\":1,\"axref\":\"x\",\"ay\":3,\"ayref\":\"y\",\"showarrow\":true,\"x\":3,\"xref\":\"x\",\"y\":6,\"yref\":\"y\"},{\"arrowcolor\":\"#2a3f5f\",\"arrowhead\":2,\"arrowwidth\":1.5,\"ax\":-0.54,\"axref\":\"x\",\"ay\":0,\"ayref\":\"y\",\"x\":3.5,\"xref\":\"x\",\"y\":0,\"yref\":\"y\"},{\"arrowcolor\":\"#2a3f5f\",\"arrowhead\":2,\"arrowwidth\":1.5,\"ax\":0,\"axref\":\"x\",\"ay\":-0.54,\"ayref\":\"y\",\"x\":0,\"xref\":\"x\",\"y\":6.5,\"yref\":\"y\"}],\"font\":{\"color\":\"black\",\"family\":\"latex\",\"size\":20},\"height\":480,\"legend\":{\"itemdoubleclick\":\"toggle\",\"orientation\":\"h\",\"x\":1,\"xanchor\":\"right\",\"y\":1.02,\"yanchor\":\"bottom\"},\"showlegend\":true,\"template\":{\"data\":{\"bar\":[{\"error_x\":{\"color\":\"#2a3f5f\"},\"error_y\":{\"color\":\"#2a3f5f\"},\"marker\":{\"line\":{\"color\":\"#E5ECF6\",\"width\":0.5},\"pattern\":{\"fillmode\":\"overlay\",\"size\":10,\"solidity\":0.2}},\"type\":\"bar\"}],\"barpolar\":[{\"marker\":{\"line\":{\"color\":\"#E5ECF6\",\"width\":0.5},\"pattern\":{\"fillmode\":\"overlay\",\"size\":10,\"solidity\":0.2}},\"type\":\"barpolar\"}],\"carpet\":[{\"aaxis\":{\"endlinecolor\":\"#2a3f5f\",\"gridcolor\":\"white\",\"linecolor\":\"white\",\"minorgridcolor\":\"white\",\"startlinecolor\":\"#2a3f5f\"},\"baxis\":{\"endlinecolor\":\"#2a3f5f\",\"gridcolor\":\"white\",\"linecolor\":\"white\",\"minorgridcolor\":\"white\",\"startlinecolor\":\"#2a3f5f\"},\"type\":\"carpet\"}],\"choropleth\":[{\"colorbar\":{\"outlinewidth\":0,\"ticks\":\"\"},\"type\":\"choropleth\"}],\"contour\":[{\"colorbar\":{\"outlinewidth\":0,\"ticks\":\"\"},\"colorscale\":[[0.0,\"#0d0887\"],[0.1111111111111111,\"#46039f\"],[0.2222222222222222,\"#7201a8\"],[0.3333333333333333,\"#9c179e\"],[0.4444444444444444,\"#bd3786\"],[0.5555555555555556,\"#d8576b\"],[0.6666666666666666,\"#ed7953\"],[0.7777777777777778,\"#fb9f3a\"],[0.8888888888888888,\"#fdca26\"],[1.0,\"#f0f921\"]],\"type\":\"contour\"}],\"contourcarpet\":[{\"colorbar\":{\"outlinewidth\":0,\"ticks\":\"\"},\"type\":\"contourcarpet\"}],\"heatmap\":[{\"colorbar\":{\"outlinewidth\":0,\"ticks\":\"\"},\"colorscale\":[[0.0,\"#0d0887\"],[0.1111111111111111,\"#46039f\"],[0.2222222222222222,\"#7201a8\"],[0.3333333333333333,\"#9c179e\"],[0.4444444444444444,\"#bd3786\"],[0.5555555555555556,\"#d8576b\"],[0.6666666666666666,\"#ed7953\"],[0.7777777777777778,\"#fb9f3a\"],[0.8888888888888888,\"#fdca26\"],[1.0,\"#f0f921\"]],\"type\":\"heatmap\"}],\"heatmapgl\":[{\"colorbar\":{\"outlinewidth\":0,\"ticks\":\"\"},\"colorscale\":[[0.0,\"#0d0887\"],[0.1111111111111111,\"#46039f\"],[0.2222222222222222,\"#7201a8\"],[0.3333333333333333,\"#9c179e\"],[0.4444444444444444,\"#bd3786\"],[0.5555555555555556,\"#d8576b\"],[0.6666666666666666,\"#ed7953\"],[0.7777777777777778,\"#fb9f3a\"],[0.8888888888888888,\"#fdca26\"],[1.0,\"#f0f921\"]],\"type\":\"heatmapgl\"}],\"histogram\":[{\"marker\":{\"pattern\":{\"fillmode\":\"overlay\",\"size\":10,\"solidity\":0.2}},\"type\":\"histogram\"}],\"histogram2d\":[{\"colorbar\":{\"outlinewidth\":0,\"ticks\":\"\"},\"colorscale\":[[0.0,\"#0d0887\"],[0.1111111111111111,\"#46039f\"],[0.2222222222222222,\"#7201a8\"],[0.3333333333333333,\"#9c179e\"],[0.4444444444444444,\"#bd3786\"],[0.5555555555555556,\"#d8576b\"],[0.6666666666666666,\"#ed7953\"],[0.7777777777777778,\"#fb9f3a\"],[0.8888888888888888,\"#fdca26\"],[1.0,\"#f0f921\"]],\"type\":\"histogram2d\"}],\"histogram2dcontour\":[{\"colorbar\":{\"outlinewidth\":0,\"ticks\":\"\"},\"colorscale\":[[0.0,\"#0d0887\"],[0.1111111111111111,\"#46039f\"],[0.2222222222222222,\"#7201a8\"],[0.3333333333333333,\"#9c179e\"],[0.4444444444444444,\"#bd3786\"],[0.5555555555555556,\"#d8576b\"],[0.6666666666666666,\"#ed7953\"],[0.7777777777777778,\"#fb9f3a\"],[0.8888888888888888,\"#fdca26\"],[1.0,\"#f0f921\"]],\"type\":\"histogram2dcontour\"}],\"mesh3d\":[{\"colorbar\":{\"outlinewidth\":0,\"ticks\":\"\"},\"type\":\"mesh3d\"}],\"parcoords\":[{\"line\":{\"colorbar\":{\"outlinewidth\":0,\"ticks\":\"\"}},\"type\":\"parcoords\"}],\"pie\":[{\"automargin\":true,\"type\":\"pie\"}],\"scatter\":[{\"marker\":{\"colorbar\":{\"outlinewidth\":0,\"ticks\":\"\"}},\"type\":\"scatter\"}],\"scatter3d\":[{\"line\":{\"colorbar\":{\"outlinewidth\":0,\"ticks\":\"\"}},\"marker\":{\"colorbar\":{\"outlinewidth\":0,\"ticks\":\"\"}},\"type\":\"scatter3d\"}],\"scattercarpet\":[{\"marker\":{\"colorbar\":{\"outlinewidth\":0,\"ticks\":\"\"}},\"type\":\"scattercarpet\"}],\"scattergeo\":[{\"marker\":{\"colorbar\":{\"outlinewidth\":0,\"ticks\":\"\"}},\"type\":\"scattergeo\"}],\"scattergl\":[{\"marker\":{\"colorbar\":{\"outlinewidth\":0,\"ticks\":\"\"}},\"type\":\"scattergl\"}],\"scattermapbox\":[{\"marker\":{\"colorbar\":{\"outlinewidth\":0,\"ticks\":\"\"}},\"type\":\"scattermapbox\"}],\"scatterpolar\":[{\"marker\":{\"colorbar\":{\"outlinewidth\":0,\"ticks\":\"\"}},\"type\":\"scatterpolar\"}],\"scatterpolargl\":[{\"marker\":{\"colorbar\":{\"outlinewidth\":0,\"ticks\":\"\"}},\"type\":\"scatterpolargl\"}],\"scatterternary\":[{\"marker\":{\"colorbar\":{\"outlinewidth\":0,\"ticks\":\"\"}},\"type\":\"scatterternary\"}],\"surface\":[{\"colorbar\":{\"outlinewidth\":0,\"ticks\":\"\"},\"colorscale\":[[0.0,\"#0d0887\"],[0.1111111111111111,\"#46039f\"],[0.2222222222222222,\"#7201a8\"],[0.3333333333333333,\"#9c179e\"],[0.4444444444444444,\"#bd3786\"],[0.5555555555555556,\"#d8576b\"],[0.6666666666666666,\"#ed7953\"],[0.7777777777777778,\"#fb9f3a\"],[0.8888888888888888,\"#fdca26\"],[1.0,\"#f0f921\"]],\"type\":\"surface\"}],\"table\":[{\"cells\":{\"fill\":{\"color\":\"#EBF0F8\"},\"line\":{\"color\":\"white\"}},\"header\":{\"fill\":{\"color\":\"#C8D4E3\"},\"line\":{\"color\":\"white\"}},\"type\":\"table\"}]},\"layout\":{\"annotationdefaults\":{\"arrowcolor\":\"#2a3f5f\",\"arrowhead\":0,\"arrowwidth\":1},\"autotypenumbers\":\"strict\",\"coloraxis\":{\"colorbar\":{\"outlinewidth\":0,\"ticks\":\"\"}},\"colorscale\":{\"diverging\":[[0,\"#8e0152\"],[0.1,\"#c51b7d\"],[0.2,\"#de77ae\"],[0.3,\"#f1b6da\"],[0.4,\"#fde0ef\"],[0.5,\"#f7f7f7\"],[0.6,\"#e6f5d0\"],[0.7,\"#b8e186\"],[0.8,\"#7fbc41\"],[0.9,\"#4d9221\"],[1,\"#276419\"]],\"sequential\":[[0.0,\"#0d0887\"],[0.1111111111111111,\"#46039f\"],[0.2222222222222222,\"#7201a8\"],[0.3333333333333333,\"#9c179e\"],[0.4444444444444444,\"#bd3786\"],[0.5555555555555556,\"#d8576b\"],[0.6666666666666666,\"#ed7953\"],[0.7777777777777778,\"#fb9f3a\"],[0.8888888888888888,\"#fdca26\"],[1.0,\"#f0f921\"]],\"sequentialminus\":[[0.0,\"#0d0887\"],[0.1111111111111111,\"#46039f\"],[0.2222222222222222,\"#7201a8\"],[0.3333333333333333,\"#9c179e\"],[0.4444444444444444,\"#bd3786\"],[0.5555555555555556,\"#d8576b\"],[0.6666666666666666,\"#ed7953\"],[0.7777777777777778,\"#fb9f3a\"],[0.8888888888888888,\"#fdca26\"],[1.0,\"#f0f921\"]]},\"colorway\":[\"#636efa\",\"#EF553B\",\"#00cc96\",\"#ab63fa\",\"#FFA15A\",\"#19d3f3\",\"#FF6692\",\"#B6E880\",\"#FF97FF\",\"#FECB52\"],\"font\":{\"color\":\"#2a3f5f\"},\"geo\":{\"bgcolor\":\"white\",\"lakecolor\":\"white\",\"landcolor\":\"#E5ECF6\",\"showlakes\":true,\"showland\":true,\"subunitcolor\":\"white\"},\"hoverlabel\":{\"align\":\"left\"},\"hovermode\":\"closest\",\"mapbox\":{\"style\":\"light\"},\"paper_bgcolor\":\"white\",\"plot_bgcolor\":\"#E5ECF6\",\"polar\":{\"angularaxis\":{\"gridcolor\":\"white\",\"linecolor\":\"white\",\"ticks\":\"\"},\"bgcolor\":\"#E5ECF6\",\"radialaxis\":{\"gridcolor\":\"white\",\"linecolor\":\"white\",\"ticks\":\"\"}},\"scene\":{\"xaxis\":{\"backgroundcolor\":\"#E5ECF6\",\"gridcolor\":\"white\",\"gridwidth\":2,\"linecolor\":\"white\",\"showbackground\":true,\"ticks\":\"\",\"zerolinecolor\":\"white\"},\"yaxis\":{\"backgroundcolor\":\"#E5ECF6\",\"gridcolor\":\"white\",\"gridwidth\":2,\"linecolor\":\"white\",\"showbackground\":true,\"ticks\":\"\",\"zerolinecolor\":\"white\"},\"zaxis\":{\"backgroundcolor\":\"#E5ECF6\",\"gridcolor\":\"white\",\"gridwidth\":2,\"linecolor\":\"white\",\"showbackground\":true,\"ticks\":\"\",\"zerolinecolor\":\"white\"}},\"shapedefaults\":{\"line\":{\"color\":\"#2a3f5f\"}},\"ternary\":{\"aaxis\":{\"gridcolor\":\"white\",\"linecolor\":\"white\",\"ticks\":\"\"},\"baxis\":{\"gridcolor\":\"white\",\"linecolor\":\"white\",\"ticks\":\"\"},\"bgcolor\":\"#E5ECF6\",\"caxis\":{\"gridcolor\":\"white\",\"linecolor\":\"white\",\"ticks\":\"\"}},\"title\":{\"x\":0.05},\"xaxis\":{\"automargin\":true,\"gridcolor\":\"white\",\"linecolor\":\"white\",\"ticks\":\"\",\"title\":{\"standoff\":15},\"zerolinecolor\":\"white\",\"zerolinewidth\":2},\"yaxis\":{\"automargin\":true,\"gridcolor\":\"white\",\"linecolor\":\"white\",\"ticks\":\"\",\"title\":{\"standoff\":15},\"zerolinecolor\":\"white\",\"zerolinewidth\":2}}},\"title\":{\"font\":{\"color\":\"rgb(1,21,51)\",\"size\":30}},\"width\":500,\"xaxis\":{\"range\":[-0.5,3.5],\"showgrid\":true,\"title\":{\"font\":{\"color\":\"rgb(1,21,51)\",\"family\":\"latex\",\"size\":30},\"text\":\"$\\\\large{x}$\"}},\"yaxis\":{\"range\":[-0.5,6.5],\"showgrid\":true,\"title\":{\"font\":{\"color\":\"rgb(1,21,51)\",\"family\":\"latex\",\"size\":30},\"text\":\"$\\\\large{y}$\"}}},                        {\"responsive\": true}                    ).then(function(){\n",
              "                            \n",
              "var gd = document.getElementById('97274f2f-9d43-40ac-8e39-556a095482c1');\n",
              "var x = new MutationObserver(function (mutations, observer) {{\n",
              "        var display = window.getComputedStyle(gd).display;\n",
              "        if (!display || display === 'none') {{\n",
              "            console.log([gd, 'removed!']);\n",
              "            Plotly.purge(gd);\n",
              "            observer.disconnect();\n",
              "        }}\n",
              "}});\n",
              "\n",
              "// Listen for the removal of the full notebook cells\n",
              "var notebookContainer = gd.closest('#notebook-container');\n",
              "if (notebookContainer) {{\n",
              "    x.observe(notebookContainer, {childList: true});\n",
              "}}\n",
              "\n",
              "// Listen for the clearing of the current output cell\n",
              "var outputEl = gd.closest('.output');\n",
              "if (outputEl) {{\n",
              "    x.observe(outputEl, {childList: true});\n",
              "}}\n",
              "\n",
              "                        })                };                            </script>        </div>\n",
              "</body>\n",
              "</html>"
            ]
          },
          "metadata": {}
        }
      ]
    },
    {
      "cell_type": "markdown",
      "metadata": {
        "id": "MGYOfbA3hqlY"
      },
      "source": [
        "#**Graficación de vectores trididimensionales**\n",
        "\n",
        "###**Con punto inicial en el origen**"
      ]
    },
    {
      "cell_type": "code",
      "metadata": {
        "colab": {
          "base_uri": "https://localhost:8080/",
          "height": 497
        },
        "id": "eI6TjLFBhpyp",
        "outputId": "8d6487a0-c971-4a97-907a-826b05540fd5"
      },
      "source": [
        "A = [1,2,3]\n",
        "plotvectors3D(A)"
      ],
      "execution_count": 6,
      "outputs": [
        {
          "output_type": "display_data",
          "data": {
            "text/html": [
              "<html>\n",
              "<head><meta charset=\"utf-8\" /></head>\n",
              "<body>\n",
              "    <div>            <script src=\"https://cdnjs.cloudflare.com/ajax/libs/mathjax/2.7.5/MathJax.js?config=TeX-AMS-MML_SVG\"></script><script type=\"text/javascript\">if (window.MathJax) {MathJax.Hub.Config({SVG: {font: \"STIX-Web\"}});}</script>                <script type=\"text/javascript\">window.PlotlyConfig = {MathJaxConfig: 'local'};</script>\n",
              "        <script src=\"https://cdn.plot.ly/plotly-2.2.0.min.js\"></script>                <div id=\"07522d84-1703-44e8-b833-2b66b50a0363\" class=\"plotly-graph-div\" style=\"height:480px; width:480px;\"></div>            <script type=\"text/javascript\">                                    window.PLOTLYENV=window.PLOTLYENV || {};                                    if (document.getElementById(\"07522d84-1703-44e8-b833-2b66b50a0363\")) {                    Plotly.newPlot(                        \"07522d84-1703-44e8-b833-2b66b50a0363\",                        [{\"line\":{\"color\":\"rgb(79,147,92)\",\"width\":7},\"marker\":{\"color\":\"rgb(79,147,92)\",\"size\":1},\"name\":\"vector 1\",\"type\":\"scatter3d\",\"x\":[0,1],\"y\":[0,2],\"z\":[0,3]},{\"anchor\":\"cm\",\"colorbar\":{\"thickness\":20,\"ticklen\":4},\"colorscale\":[[0,\"rgb(79,147,92)\"],[1,\"rgb(79,147,92)\"]],\"name\":\"vector 1\",\"showscale\":false,\"sizemode\":\"absolute\",\"sizeref\":0.2,\"type\":\"cone\",\"u\":[1],\"v\":[2],\"w\":[3],\"x\":[1],\"y\":[2],\"z\":[3]},{\"marker\":{\"color\":\"#2a3f5f\",\"size\":5},\"mode\":\"markers\",\"name\":\"origen\",\"showlegend\":true,\"type\":\"scatter3d\",\"x\":[0],\"y\":[0],\"z\":[0]},{\"hoverinfo\":\"skip\",\"line\":{\"color\":\"#2a3f5f\",\"width\":3},\"marker\":{\"color\":\"#2a3f5f\",\"size\":1},\"name\":\"\",\"showlegend\":false,\"type\":\"scatter3d\",\"x\":[-0.2,1.2],\"y\":[0,0],\"z\":[0,0]},{\"anchor\":\"cm\",\"colorbar\":{\"thickness\":20,\"ticklen\":4},\"colorscale\":[[0,\"#2a3f5f\"],[1,\"#2a3f5f\"]],\"hoverinfo\":\"name\",\"name\":\"Eje x-positivo\",\"showscale\":false,\"sizemode\":\"absolute\",\"sizeref\":0.12,\"type\":\"cone\",\"u\":[1.2],\"v\":[0],\"w\":[0],\"x\":[1.2],\"y\":[0],\"z\":[0]},{\"hoverinfo\":\"skip\",\"line\":{\"color\":\"#2a3f5f\",\"width\":3},\"marker\":{\"color\":\"#2a3f5f\",\"size\":1},\"name\":\"\",\"showlegend\":false,\"type\":\"scatter3d\",\"x\":[0,0],\"y\":[-0.2,2.2],\"z\":[0,0]},{\"anchor\":\"cm\",\"colorbar\":{\"thickness\":20,\"ticklen\":4},\"colorscale\":[[0,\"#2a3f5f\"],[1,\"#2a3f5f\"]],\"hoverinfo\":\"name\",\"name\":\"Eje y-positivo \",\"showscale\":false,\"sizemode\":\"absolute\",\"sizeref\":0.12,\"type\":\"cone\",\"u\":[0],\"v\":[2.2],\"w\":[0],\"x\":[0],\"y\":[2.2],\"z\":[0]},{\"hoverinfo\":\"skip\",\"line\":{\"color\":\"#2a3f5f\",\"width\":3},\"marker\":{\"color\":\"#2a3f5f\",\"size\":1},\"name\":\"eje z-positivo\",\"showlegend\":false,\"type\":\"scatter3d\",\"x\":[0,0],\"y\":[0,0],\"z\":[-0.5,3.2]},{\"anchor\":\"cm\",\"colorbar\":{\"thickness\":20,\"ticklen\":4},\"colorscale\":[[0,\"#2a3f5f\"],[1,\"#2a3f5f\"]],\"hoverinfo\":\"name\",\"name\":\"Eje z-positivo\",\"showscale\":false,\"sizemode\":\"absolute\",\"sizeref\":0.12,\"type\":\"cone\",\"u\":[0],\"v\":[0],\"w\":[3.2],\"x\":[0],\"y\":[0],\"z\":[3.2]}],                        {\"height\":480,\"legend\":{\"orientation\":\"h\",\"x\":0.03,\"y\":1.3},\"margin\":{\"b\":0,\"l\":0,\"r\":0,\"t\":0},\"showlegend\":true,\"template\":{\"data\":{\"bar\":[{\"error_x\":{\"color\":\"#2a3f5f\"},\"error_y\":{\"color\":\"#2a3f5f\"},\"marker\":{\"line\":{\"color\":\"#E5ECF6\",\"width\":0.5},\"pattern\":{\"fillmode\":\"overlay\",\"size\":10,\"solidity\":0.2}},\"type\":\"bar\"}],\"barpolar\":[{\"marker\":{\"line\":{\"color\":\"#E5ECF6\",\"width\":0.5},\"pattern\":{\"fillmode\":\"overlay\",\"size\":10,\"solidity\":0.2}},\"type\":\"barpolar\"}],\"carpet\":[{\"aaxis\":{\"endlinecolor\":\"#2a3f5f\",\"gridcolor\":\"white\",\"linecolor\":\"white\",\"minorgridcolor\":\"white\",\"startlinecolor\":\"#2a3f5f\"},\"baxis\":{\"endlinecolor\":\"#2a3f5f\",\"gridcolor\":\"white\",\"linecolor\":\"white\",\"minorgridcolor\":\"white\",\"startlinecolor\":\"#2a3f5f\"},\"type\":\"carpet\"}],\"choropleth\":[{\"colorbar\":{\"outlinewidth\":0,\"ticks\":\"\"},\"type\":\"choropleth\"}],\"contour\":[{\"colorbar\":{\"outlinewidth\":0,\"ticks\":\"\"},\"colorscale\":[[0.0,\"#0d0887\"],[0.1111111111111111,\"#46039f\"],[0.2222222222222222,\"#7201a8\"],[0.3333333333333333,\"#9c179e\"],[0.4444444444444444,\"#bd3786\"],[0.5555555555555556,\"#d8576b\"],[0.6666666666666666,\"#ed7953\"],[0.7777777777777778,\"#fb9f3a\"],[0.8888888888888888,\"#fdca26\"],[1.0,\"#f0f921\"]],\"type\":\"contour\"}],\"contourcarpet\":[{\"colorbar\":{\"outlinewidth\":0,\"ticks\":\"\"},\"type\":\"contourcarpet\"}],\"heatmap\":[{\"colorbar\":{\"outlinewidth\":0,\"ticks\":\"\"},\"colorscale\":[[0.0,\"#0d0887\"],[0.1111111111111111,\"#46039f\"],[0.2222222222222222,\"#7201a8\"],[0.3333333333333333,\"#9c179e\"],[0.4444444444444444,\"#bd3786\"],[0.5555555555555556,\"#d8576b\"],[0.6666666666666666,\"#ed7953\"],[0.7777777777777778,\"#fb9f3a\"],[0.8888888888888888,\"#fdca26\"],[1.0,\"#f0f921\"]],\"type\":\"heatmap\"}],\"heatmapgl\":[{\"colorbar\":{\"outlinewidth\":0,\"ticks\":\"\"},\"colorscale\":[[0.0,\"#0d0887\"],[0.1111111111111111,\"#46039f\"],[0.2222222222222222,\"#7201a8\"],[0.3333333333333333,\"#9c179e\"],[0.4444444444444444,\"#bd3786\"],[0.5555555555555556,\"#d8576b\"],[0.6666666666666666,\"#ed7953\"],[0.7777777777777778,\"#fb9f3a\"],[0.8888888888888888,\"#fdca26\"],[1.0,\"#f0f921\"]],\"type\":\"heatmapgl\"}],\"histogram\":[{\"marker\":{\"pattern\":{\"fillmode\":\"overlay\",\"size\":10,\"solidity\":0.2}},\"type\":\"histogram\"}],\"histogram2d\":[{\"colorbar\":{\"outlinewidth\":0,\"ticks\":\"\"},\"colorscale\":[[0.0,\"#0d0887\"],[0.1111111111111111,\"#46039f\"],[0.2222222222222222,\"#7201a8\"],[0.3333333333333333,\"#9c179e\"],[0.4444444444444444,\"#bd3786\"],[0.5555555555555556,\"#d8576b\"],[0.6666666666666666,\"#ed7953\"],[0.7777777777777778,\"#fb9f3a\"],[0.8888888888888888,\"#fdca26\"],[1.0,\"#f0f921\"]],\"type\":\"histogram2d\"}],\"histogram2dcontour\":[{\"colorbar\":{\"outlinewidth\":0,\"ticks\":\"\"},\"colorscale\":[[0.0,\"#0d0887\"],[0.1111111111111111,\"#46039f\"],[0.2222222222222222,\"#7201a8\"],[0.3333333333333333,\"#9c179e\"],[0.4444444444444444,\"#bd3786\"],[0.5555555555555556,\"#d8576b\"],[0.6666666666666666,\"#ed7953\"],[0.7777777777777778,\"#fb9f3a\"],[0.8888888888888888,\"#fdca26\"],[1.0,\"#f0f921\"]],\"type\":\"histogram2dcontour\"}],\"mesh3d\":[{\"colorbar\":{\"outlinewidth\":0,\"ticks\":\"\"},\"type\":\"mesh3d\"}],\"parcoords\":[{\"line\":{\"colorbar\":{\"outlinewidth\":0,\"ticks\":\"\"}},\"type\":\"parcoords\"}],\"pie\":[{\"automargin\":true,\"type\":\"pie\"}],\"scatter\":[{\"marker\":{\"colorbar\":{\"outlinewidth\":0,\"ticks\":\"\"}},\"type\":\"scatter\"}],\"scatter3d\":[{\"line\":{\"colorbar\":{\"outlinewidth\":0,\"ticks\":\"\"}},\"marker\":{\"colorbar\":{\"outlinewidth\":0,\"ticks\":\"\"}},\"type\":\"scatter3d\"}],\"scattercarpet\":[{\"marker\":{\"colorbar\":{\"outlinewidth\":0,\"ticks\":\"\"}},\"type\":\"scattercarpet\"}],\"scattergeo\":[{\"marker\":{\"colorbar\":{\"outlinewidth\":0,\"ticks\":\"\"}},\"type\":\"scattergeo\"}],\"scattergl\":[{\"marker\":{\"colorbar\":{\"outlinewidth\":0,\"ticks\":\"\"}},\"type\":\"scattergl\"}],\"scattermapbox\":[{\"marker\":{\"colorbar\":{\"outlinewidth\":0,\"ticks\":\"\"}},\"type\":\"scattermapbox\"}],\"scatterpolar\":[{\"marker\":{\"colorbar\":{\"outlinewidth\":0,\"ticks\":\"\"}},\"type\":\"scatterpolar\"}],\"scatterpolargl\":[{\"marker\":{\"colorbar\":{\"outlinewidth\":0,\"ticks\":\"\"}},\"type\":\"scatterpolargl\"}],\"scatterternary\":[{\"marker\":{\"colorbar\":{\"outlinewidth\":0,\"ticks\":\"\"}},\"type\":\"scatterternary\"}],\"surface\":[{\"colorbar\":{\"outlinewidth\":0,\"ticks\":\"\"},\"colorscale\":[[0.0,\"#0d0887\"],[0.1111111111111111,\"#46039f\"],[0.2222222222222222,\"#7201a8\"],[0.3333333333333333,\"#9c179e\"],[0.4444444444444444,\"#bd3786\"],[0.5555555555555556,\"#d8576b\"],[0.6666666666666666,\"#ed7953\"],[0.7777777777777778,\"#fb9f3a\"],[0.8888888888888888,\"#fdca26\"],[1.0,\"#f0f921\"]],\"type\":\"surface\"}],\"table\":[{\"cells\":{\"fill\":{\"color\":\"#EBF0F8\"},\"line\":{\"color\":\"white\"}},\"header\":{\"fill\":{\"color\":\"#C8D4E3\"},\"line\":{\"color\":\"white\"}},\"type\":\"table\"}]},\"layout\":{\"annotationdefaults\":{\"arrowcolor\":\"#2a3f5f\",\"arrowhead\":0,\"arrowwidth\":1},\"autotypenumbers\":\"strict\",\"coloraxis\":{\"colorbar\":{\"outlinewidth\":0,\"ticks\":\"\"}},\"colorscale\":{\"diverging\":[[0,\"#8e0152\"],[0.1,\"#c51b7d\"],[0.2,\"#de77ae\"],[0.3,\"#f1b6da\"],[0.4,\"#fde0ef\"],[0.5,\"#f7f7f7\"],[0.6,\"#e6f5d0\"],[0.7,\"#b8e186\"],[0.8,\"#7fbc41\"],[0.9,\"#4d9221\"],[1,\"#276419\"]],\"sequential\":[[0.0,\"#0d0887\"],[0.1111111111111111,\"#46039f\"],[0.2222222222222222,\"#7201a8\"],[0.3333333333333333,\"#9c179e\"],[0.4444444444444444,\"#bd3786\"],[0.5555555555555556,\"#d8576b\"],[0.6666666666666666,\"#ed7953\"],[0.7777777777777778,\"#fb9f3a\"],[0.8888888888888888,\"#fdca26\"],[1.0,\"#f0f921\"]],\"sequentialminus\":[[0.0,\"#0d0887\"],[0.1111111111111111,\"#46039f\"],[0.2222222222222222,\"#7201a8\"],[0.3333333333333333,\"#9c179e\"],[0.4444444444444444,\"#bd3786\"],[0.5555555555555556,\"#d8576b\"],[0.6666666666666666,\"#ed7953\"],[0.7777777777777778,\"#fb9f3a\"],[0.8888888888888888,\"#fdca26\"],[1.0,\"#f0f921\"]]},\"colorway\":[\"#636efa\",\"#EF553B\",\"#00cc96\",\"#ab63fa\",\"#FFA15A\",\"#19d3f3\",\"#FF6692\",\"#B6E880\",\"#FF97FF\",\"#FECB52\"],\"font\":{\"color\":\"#2a3f5f\"},\"geo\":{\"bgcolor\":\"white\",\"lakecolor\":\"white\",\"landcolor\":\"#E5ECF6\",\"showlakes\":true,\"showland\":true,\"subunitcolor\":\"white\"},\"hoverlabel\":{\"align\":\"left\"},\"hovermode\":\"closest\",\"mapbox\":{\"style\":\"light\"},\"paper_bgcolor\":\"white\",\"plot_bgcolor\":\"#E5ECF6\",\"polar\":{\"angularaxis\":{\"gridcolor\":\"white\",\"linecolor\":\"white\",\"ticks\":\"\"},\"bgcolor\":\"#E5ECF6\",\"radialaxis\":{\"gridcolor\":\"white\",\"linecolor\":\"white\",\"ticks\":\"\"}},\"scene\":{\"xaxis\":{\"backgroundcolor\":\"#E5ECF6\",\"gridcolor\":\"white\",\"gridwidth\":2,\"linecolor\":\"white\",\"showbackground\":true,\"ticks\":\"\",\"zerolinecolor\":\"white\"},\"yaxis\":{\"backgroundcolor\":\"#E5ECF6\",\"gridcolor\":\"white\",\"gridwidth\":2,\"linecolor\":\"white\",\"showbackground\":true,\"ticks\":\"\",\"zerolinecolor\":\"white\"},\"zaxis\":{\"backgroundcolor\":\"#E5ECF6\",\"gridcolor\":\"white\",\"gridwidth\":2,\"linecolor\":\"white\",\"showbackground\":true,\"ticks\":\"\",\"zerolinecolor\":\"white\"}},\"shapedefaults\":{\"line\":{\"color\":\"#2a3f5f\"}},\"ternary\":{\"aaxis\":{\"gridcolor\":\"white\",\"linecolor\":\"white\",\"ticks\":\"\"},\"baxis\":{\"gridcolor\":\"white\",\"linecolor\":\"white\",\"ticks\":\"\"},\"bgcolor\":\"#E5ECF6\",\"caxis\":{\"gridcolor\":\"white\",\"linecolor\":\"white\",\"ticks\":\"\"}},\"title\":{\"x\":0.05},\"xaxis\":{\"automargin\":true,\"gridcolor\":\"white\",\"linecolor\":\"white\",\"ticks\":\"\",\"title\":{\"standoff\":15},\"zerolinecolor\":\"white\",\"zerolinewidth\":2},\"yaxis\":{\"automargin\":true,\"gridcolor\":\"white\",\"linecolor\":\"white\",\"ticks\":\"\",\"title\":{\"standoff\":15},\"zerolinecolor\":\"white\",\"zerolinewidth\":2}}},\"title\":{\"font\":{\"color\":\"rgb(1,21,51)\",\"size\":50}},\"width\":480},                        {\"responsive\": true}                    ).then(function(){\n",
              "                            \n",
              "var gd = document.getElementById('07522d84-1703-44e8-b833-2b66b50a0363');\n",
              "var x = new MutationObserver(function (mutations, observer) {{\n",
              "        var display = window.getComputedStyle(gd).display;\n",
              "        if (!display || display === 'none') {{\n",
              "            console.log([gd, 'removed!']);\n",
              "            Plotly.purge(gd);\n",
              "            observer.disconnect();\n",
              "        }}\n",
              "}});\n",
              "\n",
              "// Listen for the removal of the full notebook cells\n",
              "var notebookContainer = gd.closest('#notebook-container');\n",
              "if (notebookContainer) {{\n",
              "    x.observe(notebookContainer, {childList: true});\n",
              "}}\n",
              "\n",
              "// Listen for the clearing of the current output cell\n",
              "var outputEl = gd.closest('.output');\n",
              "if (outputEl) {{\n",
              "    x.observe(outputEl, {childList: true});\n",
              "}}\n",
              "\n",
              "                        })                };                            </script>        </div>\n",
              "</body>\n",
              "</html>"
            ]
          },
          "metadata": {}
        }
      ]
    },
    {
      "cell_type": "markdown",
      "metadata": {
        "id": "X1NWviYMjNI9"
      },
      "source": [
        "###**Con punto inicial y punto final dado**"
      ]
    },
    {
      "cell_type": "code",
      "metadata": {
        "colab": {
          "base_uri": "https://localhost:8080/",
          "height": 497
        },
        "id": "UiiIhr06jNI-",
        "outputId": "0d05b229-e11b-4f1c-8446-837d10b91ffd"
      },
      "source": [
        "A = (1,2,3)\n",
        "B = (5,4,6)\n",
        "\n",
        "plotvectors3D([A,B])"
      ],
      "execution_count": 8,
      "outputs": [
        {
          "output_type": "display_data",
          "data": {
            "text/html": [
              "<html>\n",
              "<head><meta charset=\"utf-8\" /></head>\n",
              "<body>\n",
              "    <div>            <script src=\"https://cdnjs.cloudflare.com/ajax/libs/mathjax/2.7.5/MathJax.js?config=TeX-AMS-MML_SVG\"></script><script type=\"text/javascript\">if (window.MathJax) {MathJax.Hub.Config({SVG: {font: \"STIX-Web\"}});}</script>                <script type=\"text/javascript\">window.PlotlyConfig = {MathJaxConfig: 'local'};</script>\n",
              "        <script src=\"https://cdn.plot.ly/plotly-2.2.0.min.js\"></script>                <div id=\"00199179-ddf8-47bb-a726-e108e7d3fa66\" class=\"plotly-graph-div\" style=\"height:480px; width:480px;\"></div>            <script type=\"text/javascript\">                                    window.PLOTLYENV=window.PLOTLYENV || {};                                    if (document.getElementById(\"00199179-ddf8-47bb-a726-e108e7d3fa66\")) {                    Plotly.newPlot(                        \"00199179-ddf8-47bb-a726-e108e7d3fa66\",                        [{\"hoverinfo\":\"name+text\",\"hovertext\":\"Tail=(1,2,3)\\nHead=(5,4,6)\",\"line\":{\"color\":\"rgb(85,243,92)\",\"width\":7},\"marker\":{\"color\":\"rgb(85,243,92)\",\"size\":1},\"name\":\"vector 1\",\"type\":\"scatter3d\",\"x\":[1,5],\"y\":[2,4],\"z\":[3,6]},{\"anchor\":\"cm\",\"colorbar\":{\"thickness\":20,\"ticklen\":4},\"colorscale\":[[0,\"rgb(85,243,92)\"],[1,\"rgb(85,243,92)\"]],\"hoverinfo\":\"skip\",\"name\":\"vector 1\",\"showscale\":false,\"sizemode\":\"absolute\",\"sizeref\":0.5,\"type\":\"cone\",\"u\":[2.0],\"v\":[1.0],\"w\":[1.5],\"x\":[4.9748],\"y\":[3.9874],\"z\":[5.9811]},{\"marker\":{\"color\":\"#2a3f5f\",\"size\":5},\"mode\":\"markers\",\"name\":\"origen\",\"showlegend\":true,\"type\":\"scatter3d\",\"x\":[0],\"y\":[0],\"z\":[0]},{\"hoverinfo\":\"skip\",\"line\":{\"color\":\"#2a3f5f\",\"width\":3},\"marker\":{\"color\":\"#2a3f5f\",\"size\":1},\"name\":\"\",\"showlegend\":false,\"type\":\"scatter3d\",\"x\":[-0.5,5.5],\"y\":[0,0],\"z\":[0,0]},{\"anchor\":\"cm\",\"colorbar\":{\"thickness\":20,\"ticklen\":4},\"colorscale\":[[0,\"#2a3f5f\"],[1,\"#2a3f5f\"]],\"hoverinfo\":\"name\",\"name\":\"Eje x-positivo\",\"showscale\":false,\"sizemode\":\"absolute\",\"sizeref\":0.3,\"type\":\"cone\",\"u\":[5.5],\"v\":[0],\"w\":[0],\"x\":[5.5],\"y\":[0],\"z\":[0]},{\"hoverinfo\":\"skip\",\"line\":{\"color\":\"#2a3f5f\",\"width\":3},\"marker\":{\"color\":\"#2a3f5f\",\"size\":1},\"name\":\"\",\"showlegend\":false,\"type\":\"scatter3d\",\"x\":[0,0],\"y\":[-0.5,4.5],\"z\":[0,0]},{\"anchor\":\"cm\",\"colorbar\":{\"thickness\":20,\"ticklen\":4},\"colorscale\":[[0,\"#2a3f5f\"],[1,\"#2a3f5f\"]],\"hoverinfo\":\"name\",\"name\":\"Eje y-positivo \",\"showscale\":false,\"sizemode\":\"absolute\",\"sizeref\":0.3,\"type\":\"cone\",\"u\":[0],\"v\":[4.5],\"w\":[0],\"x\":[0],\"y\":[4.5],\"z\":[0]},{\"hoverinfo\":\"skip\",\"line\":{\"color\":\"#2a3f5f\",\"width\":3},\"marker\":{\"color\":\"#2a3f5f\",\"size\":1},\"name\":\"eje z-positivo\",\"showlegend\":false,\"type\":\"scatter3d\",\"x\":[0,0],\"y\":[0,0],\"z\":[-0.8,6.5]},{\"anchor\":\"cm\",\"colorbar\":{\"thickness\":20,\"ticklen\":4},\"colorscale\":[[0,\"#2a3f5f\"],[1,\"#2a3f5f\"]],\"hoverinfo\":\"name\",\"name\":\"Eje z-positivo\",\"showscale\":false,\"sizemode\":\"absolute\",\"sizeref\":0.3,\"type\":\"cone\",\"u\":[0],\"v\":[0],\"w\":[6.5],\"x\":[0],\"y\":[0],\"z\":[6.5]}],                        {\"height\":480,\"legend\":{\"orientation\":\"h\",\"x\":0.03,\"y\":1.3},\"margin\":{\"b\":0,\"l\":0,\"r\":0,\"t\":0},\"showlegend\":true,\"template\":{\"data\":{\"bar\":[{\"error_x\":{\"color\":\"#2a3f5f\"},\"error_y\":{\"color\":\"#2a3f5f\"},\"marker\":{\"line\":{\"color\":\"#E5ECF6\",\"width\":0.5},\"pattern\":{\"fillmode\":\"overlay\",\"size\":10,\"solidity\":0.2}},\"type\":\"bar\"}],\"barpolar\":[{\"marker\":{\"line\":{\"color\":\"#E5ECF6\",\"width\":0.5},\"pattern\":{\"fillmode\":\"overlay\",\"size\":10,\"solidity\":0.2}},\"type\":\"barpolar\"}],\"carpet\":[{\"aaxis\":{\"endlinecolor\":\"#2a3f5f\",\"gridcolor\":\"white\",\"linecolor\":\"white\",\"minorgridcolor\":\"white\",\"startlinecolor\":\"#2a3f5f\"},\"baxis\":{\"endlinecolor\":\"#2a3f5f\",\"gridcolor\":\"white\",\"linecolor\":\"white\",\"minorgridcolor\":\"white\",\"startlinecolor\":\"#2a3f5f\"},\"type\":\"carpet\"}],\"choropleth\":[{\"colorbar\":{\"outlinewidth\":0,\"ticks\":\"\"},\"type\":\"choropleth\"}],\"contour\":[{\"colorbar\":{\"outlinewidth\":0,\"ticks\":\"\"},\"colorscale\":[[0.0,\"#0d0887\"],[0.1111111111111111,\"#46039f\"],[0.2222222222222222,\"#7201a8\"],[0.3333333333333333,\"#9c179e\"],[0.4444444444444444,\"#bd3786\"],[0.5555555555555556,\"#d8576b\"],[0.6666666666666666,\"#ed7953\"],[0.7777777777777778,\"#fb9f3a\"],[0.8888888888888888,\"#fdca26\"],[1.0,\"#f0f921\"]],\"type\":\"contour\"}],\"contourcarpet\":[{\"colorbar\":{\"outlinewidth\":0,\"ticks\":\"\"},\"type\":\"contourcarpet\"}],\"heatmap\":[{\"colorbar\":{\"outlinewidth\":0,\"ticks\":\"\"},\"colorscale\":[[0.0,\"#0d0887\"],[0.1111111111111111,\"#46039f\"],[0.2222222222222222,\"#7201a8\"],[0.3333333333333333,\"#9c179e\"],[0.4444444444444444,\"#bd3786\"],[0.5555555555555556,\"#d8576b\"],[0.6666666666666666,\"#ed7953\"],[0.7777777777777778,\"#fb9f3a\"],[0.8888888888888888,\"#fdca26\"],[1.0,\"#f0f921\"]],\"type\":\"heatmap\"}],\"heatmapgl\":[{\"colorbar\":{\"outlinewidth\":0,\"ticks\":\"\"},\"colorscale\":[[0.0,\"#0d0887\"],[0.1111111111111111,\"#46039f\"],[0.2222222222222222,\"#7201a8\"],[0.3333333333333333,\"#9c179e\"],[0.4444444444444444,\"#bd3786\"],[0.5555555555555556,\"#d8576b\"],[0.6666666666666666,\"#ed7953\"],[0.7777777777777778,\"#fb9f3a\"],[0.8888888888888888,\"#fdca26\"],[1.0,\"#f0f921\"]],\"type\":\"heatmapgl\"}],\"histogram\":[{\"marker\":{\"pattern\":{\"fillmode\":\"overlay\",\"size\":10,\"solidity\":0.2}},\"type\":\"histogram\"}],\"histogram2d\":[{\"colorbar\":{\"outlinewidth\":0,\"ticks\":\"\"},\"colorscale\":[[0.0,\"#0d0887\"],[0.1111111111111111,\"#46039f\"],[0.2222222222222222,\"#7201a8\"],[0.3333333333333333,\"#9c179e\"],[0.4444444444444444,\"#bd3786\"],[0.5555555555555556,\"#d8576b\"],[0.6666666666666666,\"#ed7953\"],[0.7777777777777778,\"#fb9f3a\"],[0.8888888888888888,\"#fdca26\"],[1.0,\"#f0f921\"]],\"type\":\"histogram2d\"}],\"histogram2dcontour\":[{\"colorbar\":{\"outlinewidth\":0,\"ticks\":\"\"},\"colorscale\":[[0.0,\"#0d0887\"],[0.1111111111111111,\"#46039f\"],[0.2222222222222222,\"#7201a8\"],[0.3333333333333333,\"#9c179e\"],[0.4444444444444444,\"#bd3786\"],[0.5555555555555556,\"#d8576b\"],[0.6666666666666666,\"#ed7953\"],[0.7777777777777778,\"#fb9f3a\"],[0.8888888888888888,\"#fdca26\"],[1.0,\"#f0f921\"]],\"type\":\"histogram2dcontour\"}],\"mesh3d\":[{\"colorbar\":{\"outlinewidth\":0,\"ticks\":\"\"},\"type\":\"mesh3d\"}],\"parcoords\":[{\"line\":{\"colorbar\":{\"outlinewidth\":0,\"ticks\":\"\"}},\"type\":\"parcoords\"}],\"pie\":[{\"automargin\":true,\"type\":\"pie\"}],\"scatter\":[{\"marker\":{\"colorbar\":{\"outlinewidth\":0,\"ticks\":\"\"}},\"type\":\"scatter\"}],\"scatter3d\":[{\"line\":{\"colorbar\":{\"outlinewidth\":0,\"ticks\":\"\"}},\"marker\":{\"colorbar\":{\"outlinewidth\":0,\"ticks\":\"\"}},\"type\":\"scatter3d\"}],\"scattercarpet\":[{\"marker\":{\"colorbar\":{\"outlinewidth\":0,\"ticks\":\"\"}},\"type\":\"scattercarpet\"}],\"scattergeo\":[{\"marker\":{\"colorbar\":{\"outlinewidth\":0,\"ticks\":\"\"}},\"type\":\"scattergeo\"}],\"scattergl\":[{\"marker\":{\"colorbar\":{\"outlinewidth\":0,\"ticks\":\"\"}},\"type\":\"scattergl\"}],\"scattermapbox\":[{\"marker\":{\"colorbar\":{\"outlinewidth\":0,\"ticks\":\"\"}},\"type\":\"scattermapbox\"}],\"scatterpolar\":[{\"marker\":{\"colorbar\":{\"outlinewidth\":0,\"ticks\":\"\"}},\"type\":\"scatterpolar\"}],\"scatterpolargl\":[{\"marker\":{\"colorbar\":{\"outlinewidth\":0,\"ticks\":\"\"}},\"type\":\"scatterpolargl\"}],\"scatterternary\":[{\"marker\":{\"colorbar\":{\"outlinewidth\":0,\"ticks\":\"\"}},\"type\":\"scatterternary\"}],\"surface\":[{\"colorbar\":{\"outlinewidth\":0,\"ticks\":\"\"},\"colorscale\":[[0.0,\"#0d0887\"],[0.1111111111111111,\"#46039f\"],[0.2222222222222222,\"#7201a8\"],[0.3333333333333333,\"#9c179e\"],[0.4444444444444444,\"#bd3786\"],[0.5555555555555556,\"#d8576b\"],[0.6666666666666666,\"#ed7953\"],[0.7777777777777778,\"#fb9f3a\"],[0.8888888888888888,\"#fdca26\"],[1.0,\"#f0f921\"]],\"type\":\"surface\"}],\"table\":[{\"cells\":{\"fill\":{\"color\":\"#EBF0F8\"},\"line\":{\"color\":\"white\"}},\"header\":{\"fill\":{\"color\":\"#C8D4E3\"},\"line\":{\"color\":\"white\"}},\"type\":\"table\"}]},\"layout\":{\"annotationdefaults\":{\"arrowcolor\":\"#2a3f5f\",\"arrowhead\":0,\"arrowwidth\":1},\"autotypenumbers\":\"strict\",\"coloraxis\":{\"colorbar\":{\"outlinewidth\":0,\"ticks\":\"\"}},\"colorscale\":{\"diverging\":[[0,\"#8e0152\"],[0.1,\"#c51b7d\"],[0.2,\"#de77ae\"],[0.3,\"#f1b6da\"],[0.4,\"#fde0ef\"],[0.5,\"#f7f7f7\"],[0.6,\"#e6f5d0\"],[0.7,\"#b8e186\"],[0.8,\"#7fbc41\"],[0.9,\"#4d9221\"],[1,\"#276419\"]],\"sequential\":[[0.0,\"#0d0887\"],[0.1111111111111111,\"#46039f\"],[0.2222222222222222,\"#7201a8\"],[0.3333333333333333,\"#9c179e\"],[0.4444444444444444,\"#bd3786\"],[0.5555555555555556,\"#d8576b\"],[0.6666666666666666,\"#ed7953\"],[0.7777777777777778,\"#fb9f3a\"],[0.8888888888888888,\"#fdca26\"],[1.0,\"#f0f921\"]],\"sequentialminus\":[[0.0,\"#0d0887\"],[0.1111111111111111,\"#46039f\"],[0.2222222222222222,\"#7201a8\"],[0.3333333333333333,\"#9c179e\"],[0.4444444444444444,\"#bd3786\"],[0.5555555555555556,\"#d8576b\"],[0.6666666666666666,\"#ed7953\"],[0.7777777777777778,\"#fb9f3a\"],[0.8888888888888888,\"#fdca26\"],[1.0,\"#f0f921\"]]},\"colorway\":[\"#636efa\",\"#EF553B\",\"#00cc96\",\"#ab63fa\",\"#FFA15A\",\"#19d3f3\",\"#FF6692\",\"#B6E880\",\"#FF97FF\",\"#FECB52\"],\"font\":{\"color\":\"#2a3f5f\"},\"geo\":{\"bgcolor\":\"white\",\"lakecolor\":\"white\",\"landcolor\":\"#E5ECF6\",\"showlakes\":true,\"showland\":true,\"subunitcolor\":\"white\"},\"hoverlabel\":{\"align\":\"left\"},\"hovermode\":\"closest\",\"mapbox\":{\"style\":\"light\"},\"paper_bgcolor\":\"white\",\"plot_bgcolor\":\"#E5ECF6\",\"polar\":{\"angularaxis\":{\"gridcolor\":\"white\",\"linecolor\":\"white\",\"ticks\":\"\"},\"bgcolor\":\"#E5ECF6\",\"radialaxis\":{\"gridcolor\":\"white\",\"linecolor\":\"white\",\"ticks\":\"\"}},\"scene\":{\"xaxis\":{\"backgroundcolor\":\"#E5ECF6\",\"gridcolor\":\"white\",\"gridwidth\":2,\"linecolor\":\"white\",\"showbackground\":true,\"ticks\":\"\",\"zerolinecolor\":\"white\"},\"yaxis\":{\"backgroundcolor\":\"#E5ECF6\",\"gridcolor\":\"white\",\"gridwidth\":2,\"linecolor\":\"white\",\"showbackground\":true,\"ticks\":\"\",\"zerolinecolor\":\"white\"},\"zaxis\":{\"backgroundcolor\":\"#E5ECF6\",\"gridcolor\":\"white\",\"gridwidth\":2,\"linecolor\":\"white\",\"showbackground\":true,\"ticks\":\"\",\"zerolinecolor\":\"white\"}},\"shapedefaults\":{\"line\":{\"color\":\"#2a3f5f\"}},\"ternary\":{\"aaxis\":{\"gridcolor\":\"white\",\"linecolor\":\"white\",\"ticks\":\"\"},\"baxis\":{\"gridcolor\":\"white\",\"linecolor\":\"white\",\"ticks\":\"\"},\"bgcolor\":\"#E5ECF6\",\"caxis\":{\"gridcolor\":\"white\",\"linecolor\":\"white\",\"ticks\":\"\"}},\"title\":{\"x\":0.05},\"xaxis\":{\"automargin\":true,\"gridcolor\":\"white\",\"linecolor\":\"white\",\"ticks\":\"\",\"title\":{\"standoff\":15},\"zerolinecolor\":\"white\",\"zerolinewidth\":2},\"yaxis\":{\"automargin\":true,\"gridcolor\":\"white\",\"linecolor\":\"white\",\"ticks\":\"\",\"title\":{\"standoff\":15},\"zerolinecolor\":\"white\",\"zerolinewidth\":2}}},\"title\":{\"font\":{\"color\":\"rgb(1,21,51)\",\"size\":50}},\"width\":480},                        {\"responsive\": true}                    ).then(function(){\n",
              "                            \n",
              "var gd = document.getElementById('00199179-ddf8-47bb-a726-e108e7d3fa66');\n",
              "var x = new MutationObserver(function (mutations, observer) {{\n",
              "        var display = window.getComputedStyle(gd).display;\n",
              "        if (!display || display === 'none') {{\n",
              "            console.log([gd, 'removed!']);\n",
              "            Plotly.purge(gd);\n",
              "            observer.disconnect();\n",
              "        }}\n",
              "}});\n",
              "\n",
              "// Listen for the removal of the full notebook cells\n",
              "var notebookContainer = gd.closest('#notebook-container');\n",
              "if (notebookContainer) {{\n",
              "    x.observe(notebookContainer, {childList: true});\n",
              "}}\n",
              "\n",
              "// Listen for the clearing of the current output cell\n",
              "var outputEl = gd.closest('.output');\n",
              "if (outputEl) {{\n",
              "    x.observe(outputEl, {childList: true});\n",
              "}}\n",
              "\n",
              "                        })                };                            </script>        </div>\n",
              "</body>\n",
              "</html>"
            ]
          },
          "metadata": {}
        }
      ]
    },
    {
      "cell_type": "markdown",
      "metadata": {
        "id": "YkRxaa-7jNI_"
      },
      "source": [
        "###**Equipolente a otro vector con punto inicial dado**"
      ]
    },
    {
      "cell_type": "code",
      "metadata": {
        "colab": {
          "base_uri": "https://localhost:8080/",
          "height": 497
        },
        "id": "o2mV4vH_jNJA",
        "outputId": "23ea7409-95d3-4f74-d245-31a43d2e882b"
      },
      "source": [
        "A = Matrix([1,2,3])\n",
        "plotvectors3D(A,[(3,4,5),A])"
      ],
      "execution_count": 9,
      "outputs": [
        {
          "output_type": "display_data",
          "data": {
            "text/html": [
              "<html>\n",
              "<head><meta charset=\"utf-8\" /></head>\n",
              "<body>\n",
              "    <div>            <script src=\"https://cdnjs.cloudflare.com/ajax/libs/mathjax/2.7.5/MathJax.js?config=TeX-AMS-MML_SVG\"></script><script type=\"text/javascript\">if (window.MathJax) {MathJax.Hub.Config({SVG: {font: \"STIX-Web\"}});}</script>                <script type=\"text/javascript\">window.PlotlyConfig = {MathJaxConfig: 'local'};</script>\n",
              "        <script src=\"https://cdn.plot.ly/plotly-2.2.0.min.js\"></script>                <div id=\"fe0a2625-c748-450b-b68c-272235c175d5\" class=\"plotly-graph-div\" style=\"height:480px; width:480px;\"></div>            <script type=\"text/javascript\">                                    window.PLOTLYENV=window.PLOTLYENV || {};                                    if (document.getElementById(\"fe0a2625-c748-450b-b68c-272235c175d5\")) {                    Plotly.newPlot(                        \"fe0a2625-c748-450b-b68c-272235c175d5\",                        [{\"line\":{\"color\":\"rgb(246,158,235)\",\"width\":7},\"marker\":{\"color\":\"rgb(246,158,235)\",\"size\":1},\"name\":\"vector 1\",\"type\":\"scatter3d\",\"x\":[0,1.0],\"y\":[0,2.0],\"z\":[0,3.0]},{\"anchor\":\"cm\",\"colorbar\":{\"thickness\":20,\"ticklen\":4},\"colorscale\":[[0,\"rgb(246,158,235)\"],[1,\"rgb(246,158,235)\"]],\"name\":\"vector 1\",\"showscale\":false,\"sizemode\":\"absolute\",\"sizeref\":0.6,\"type\":\"cone\",\"u\":[1.0],\"v\":[2.0],\"w\":[3.0],\"x\":[1.0],\"y\":[2.0],\"z\":[3.0]},{\"hoverinfo\":\"name+text\",\"hovertext\":\"Tail=(3,4,5)\\nHead=(4.0,6.0,8.0)\",\"line\":{\"color\":\"rgb(22,92,16)\",\"width\":7},\"marker\":{\"color\":\"rgb(22,92,16)\",\"size\":1},\"name\":\"vector 2\",\"type\":\"scatter3d\",\"x\":[3,4.0],\"y\":[4,6.0],\"z\":[5,8.0]},{\"anchor\":\"cm\",\"colorbar\":{\"thickness\":20,\"ticklen\":4},\"colorscale\":[[0,\"rgb(22,92,16)\"],[1,\"rgb(22,92,16)\"]],\"hoverinfo\":\"skip\",\"name\":\"vector 2\",\"showscale\":false,\"sizemode\":\"absolute\",\"sizeref\":0.6,\"type\":\"cone\",\"u\":[0.5],\"v\":[1.0],\"w\":[1.5],\"x\":[3.937],\"y\":[5.874],\"z\":[7.811]},{\"marker\":{\"color\":\"#2a3f5f\",\"size\":5},\"mode\":\"markers\",\"name\":\"origen\",\"showlegend\":true,\"type\":\"scatter3d\",\"x\":[0],\"y\":[0],\"z\":[0]},{\"hoverinfo\":\"skip\",\"line\":{\"color\":\"#2a3f5f\",\"width\":3},\"marker\":{\"color\":\"#2a3f5f\",\"size\":1},\"name\":\"\",\"showlegend\":false,\"type\":\"scatter3d\",\"x\":[-0.6,4.6],\"y\":[0,0],\"z\":[0,0]},{\"anchor\":\"cm\",\"colorbar\":{\"thickness\":20,\"ticklen\":4},\"colorscale\":[[0,\"#2a3f5f\"],[1,\"#2a3f5f\"]],\"hoverinfo\":\"name\",\"name\":\"Eje x-positivo\",\"showscale\":false,\"sizemode\":\"absolute\",\"sizeref\":0.36,\"type\":\"cone\",\"u\":[4.6],\"v\":[0],\"w\":[0],\"x\":[4.6],\"y\":[0],\"z\":[0]},{\"hoverinfo\":\"skip\",\"line\":{\"color\":\"#2a3f5f\",\"width\":3},\"marker\":{\"color\":\"#2a3f5f\",\"size\":1},\"name\":\"\",\"showlegend\":false,\"type\":\"scatter3d\",\"x\":[0,0],\"y\":[-0.6,6.6],\"z\":[0,0]},{\"anchor\":\"cm\",\"colorbar\":{\"thickness\":20,\"ticklen\":4},\"colorscale\":[[0,\"#2a3f5f\"],[1,\"#2a3f5f\"]],\"hoverinfo\":\"name\",\"name\":\"Eje y-positivo \",\"showscale\":false,\"sizemode\":\"absolute\",\"sizeref\":0.36,\"type\":\"cone\",\"u\":[0],\"v\":[6.6],\"w\":[0],\"x\":[0],\"y\":[6.6],\"z\":[0]},{\"hoverinfo\":\"skip\",\"line\":{\"color\":\"#2a3f5f\",\"width\":3},\"marker\":{\"color\":\"#2a3f5f\",\"size\":1},\"name\":\"eje z-positivo\",\"showlegend\":false,\"type\":\"scatter3d\",\"x\":[0,0],\"y\":[0,0],\"z\":[-0.8999999999999999,8.6]},{\"anchor\":\"cm\",\"colorbar\":{\"thickness\":20,\"ticklen\":4},\"colorscale\":[[0,\"#2a3f5f\"],[1,\"#2a3f5f\"]],\"hoverinfo\":\"name\",\"name\":\"Eje z-positivo\",\"showscale\":false,\"sizemode\":\"absolute\",\"sizeref\":0.36,\"type\":\"cone\",\"u\":[0],\"v\":[0],\"w\":[8.6],\"x\":[0],\"y\":[0],\"z\":[8.6]}],                        {\"height\":480,\"legend\":{\"orientation\":\"h\",\"x\":0.03,\"y\":1.3},\"margin\":{\"b\":0,\"l\":0,\"r\":0,\"t\":0},\"showlegend\":true,\"template\":{\"data\":{\"bar\":[{\"error_x\":{\"color\":\"#2a3f5f\"},\"error_y\":{\"color\":\"#2a3f5f\"},\"marker\":{\"line\":{\"color\":\"#E5ECF6\",\"width\":0.5},\"pattern\":{\"fillmode\":\"overlay\",\"size\":10,\"solidity\":0.2}},\"type\":\"bar\"}],\"barpolar\":[{\"marker\":{\"line\":{\"color\":\"#E5ECF6\",\"width\":0.5},\"pattern\":{\"fillmode\":\"overlay\",\"size\":10,\"solidity\":0.2}},\"type\":\"barpolar\"}],\"carpet\":[{\"aaxis\":{\"endlinecolor\":\"#2a3f5f\",\"gridcolor\":\"white\",\"linecolor\":\"white\",\"minorgridcolor\":\"white\",\"startlinecolor\":\"#2a3f5f\"},\"baxis\":{\"endlinecolor\":\"#2a3f5f\",\"gridcolor\":\"white\",\"linecolor\":\"white\",\"minorgridcolor\":\"white\",\"startlinecolor\":\"#2a3f5f\"},\"type\":\"carpet\"}],\"choropleth\":[{\"colorbar\":{\"outlinewidth\":0,\"ticks\":\"\"},\"type\":\"choropleth\"}],\"contour\":[{\"colorbar\":{\"outlinewidth\":0,\"ticks\":\"\"},\"colorscale\":[[0.0,\"#0d0887\"],[0.1111111111111111,\"#46039f\"],[0.2222222222222222,\"#7201a8\"],[0.3333333333333333,\"#9c179e\"],[0.4444444444444444,\"#bd3786\"],[0.5555555555555556,\"#d8576b\"],[0.6666666666666666,\"#ed7953\"],[0.7777777777777778,\"#fb9f3a\"],[0.8888888888888888,\"#fdca26\"],[1.0,\"#f0f921\"]],\"type\":\"contour\"}],\"contourcarpet\":[{\"colorbar\":{\"outlinewidth\":0,\"ticks\":\"\"},\"type\":\"contourcarpet\"}],\"heatmap\":[{\"colorbar\":{\"outlinewidth\":0,\"ticks\":\"\"},\"colorscale\":[[0.0,\"#0d0887\"],[0.1111111111111111,\"#46039f\"],[0.2222222222222222,\"#7201a8\"],[0.3333333333333333,\"#9c179e\"],[0.4444444444444444,\"#bd3786\"],[0.5555555555555556,\"#d8576b\"],[0.6666666666666666,\"#ed7953\"],[0.7777777777777778,\"#fb9f3a\"],[0.8888888888888888,\"#fdca26\"],[1.0,\"#f0f921\"]],\"type\":\"heatmap\"}],\"heatmapgl\":[{\"colorbar\":{\"outlinewidth\":0,\"ticks\":\"\"},\"colorscale\":[[0.0,\"#0d0887\"],[0.1111111111111111,\"#46039f\"],[0.2222222222222222,\"#7201a8\"],[0.3333333333333333,\"#9c179e\"],[0.4444444444444444,\"#bd3786\"],[0.5555555555555556,\"#d8576b\"],[0.6666666666666666,\"#ed7953\"],[0.7777777777777778,\"#fb9f3a\"],[0.8888888888888888,\"#fdca26\"],[1.0,\"#f0f921\"]],\"type\":\"heatmapgl\"}],\"histogram\":[{\"marker\":{\"pattern\":{\"fillmode\":\"overlay\",\"size\":10,\"solidity\":0.2}},\"type\":\"histogram\"}],\"histogram2d\":[{\"colorbar\":{\"outlinewidth\":0,\"ticks\":\"\"},\"colorscale\":[[0.0,\"#0d0887\"],[0.1111111111111111,\"#46039f\"],[0.2222222222222222,\"#7201a8\"],[0.3333333333333333,\"#9c179e\"],[0.4444444444444444,\"#bd3786\"],[0.5555555555555556,\"#d8576b\"],[0.6666666666666666,\"#ed7953\"],[0.7777777777777778,\"#fb9f3a\"],[0.8888888888888888,\"#fdca26\"],[1.0,\"#f0f921\"]],\"type\":\"histogram2d\"}],\"histogram2dcontour\":[{\"colorbar\":{\"outlinewidth\":0,\"ticks\":\"\"},\"colorscale\":[[0.0,\"#0d0887\"],[0.1111111111111111,\"#46039f\"],[0.2222222222222222,\"#7201a8\"],[0.3333333333333333,\"#9c179e\"],[0.4444444444444444,\"#bd3786\"],[0.5555555555555556,\"#d8576b\"],[0.6666666666666666,\"#ed7953\"],[0.7777777777777778,\"#fb9f3a\"],[0.8888888888888888,\"#fdca26\"],[1.0,\"#f0f921\"]],\"type\":\"histogram2dcontour\"}],\"mesh3d\":[{\"colorbar\":{\"outlinewidth\":0,\"ticks\":\"\"},\"type\":\"mesh3d\"}],\"parcoords\":[{\"line\":{\"colorbar\":{\"outlinewidth\":0,\"ticks\":\"\"}},\"type\":\"parcoords\"}],\"pie\":[{\"automargin\":true,\"type\":\"pie\"}],\"scatter\":[{\"marker\":{\"colorbar\":{\"outlinewidth\":0,\"ticks\":\"\"}},\"type\":\"scatter\"}],\"scatter3d\":[{\"line\":{\"colorbar\":{\"outlinewidth\":0,\"ticks\":\"\"}},\"marker\":{\"colorbar\":{\"outlinewidth\":0,\"ticks\":\"\"}},\"type\":\"scatter3d\"}],\"scattercarpet\":[{\"marker\":{\"colorbar\":{\"outlinewidth\":0,\"ticks\":\"\"}},\"type\":\"scattercarpet\"}],\"scattergeo\":[{\"marker\":{\"colorbar\":{\"outlinewidth\":0,\"ticks\":\"\"}},\"type\":\"scattergeo\"}],\"scattergl\":[{\"marker\":{\"colorbar\":{\"outlinewidth\":0,\"ticks\":\"\"}},\"type\":\"scattergl\"}],\"scattermapbox\":[{\"marker\":{\"colorbar\":{\"outlinewidth\":0,\"ticks\":\"\"}},\"type\":\"scattermapbox\"}],\"scatterpolar\":[{\"marker\":{\"colorbar\":{\"outlinewidth\":0,\"ticks\":\"\"}},\"type\":\"scatterpolar\"}],\"scatterpolargl\":[{\"marker\":{\"colorbar\":{\"outlinewidth\":0,\"ticks\":\"\"}},\"type\":\"scatterpolargl\"}],\"scatterternary\":[{\"marker\":{\"colorbar\":{\"outlinewidth\":0,\"ticks\":\"\"}},\"type\":\"scatterternary\"}],\"surface\":[{\"colorbar\":{\"outlinewidth\":0,\"ticks\":\"\"},\"colorscale\":[[0.0,\"#0d0887\"],[0.1111111111111111,\"#46039f\"],[0.2222222222222222,\"#7201a8\"],[0.3333333333333333,\"#9c179e\"],[0.4444444444444444,\"#bd3786\"],[0.5555555555555556,\"#d8576b\"],[0.6666666666666666,\"#ed7953\"],[0.7777777777777778,\"#fb9f3a\"],[0.8888888888888888,\"#fdca26\"],[1.0,\"#f0f921\"]],\"type\":\"surface\"}],\"table\":[{\"cells\":{\"fill\":{\"color\":\"#EBF0F8\"},\"line\":{\"color\":\"white\"}},\"header\":{\"fill\":{\"color\":\"#C8D4E3\"},\"line\":{\"color\":\"white\"}},\"type\":\"table\"}]},\"layout\":{\"annotationdefaults\":{\"arrowcolor\":\"#2a3f5f\",\"arrowhead\":0,\"arrowwidth\":1},\"autotypenumbers\":\"strict\",\"coloraxis\":{\"colorbar\":{\"outlinewidth\":0,\"ticks\":\"\"}},\"colorscale\":{\"diverging\":[[0,\"#8e0152\"],[0.1,\"#c51b7d\"],[0.2,\"#de77ae\"],[0.3,\"#f1b6da\"],[0.4,\"#fde0ef\"],[0.5,\"#f7f7f7\"],[0.6,\"#e6f5d0\"],[0.7,\"#b8e186\"],[0.8,\"#7fbc41\"],[0.9,\"#4d9221\"],[1,\"#276419\"]],\"sequential\":[[0.0,\"#0d0887\"],[0.1111111111111111,\"#46039f\"],[0.2222222222222222,\"#7201a8\"],[0.3333333333333333,\"#9c179e\"],[0.4444444444444444,\"#bd3786\"],[0.5555555555555556,\"#d8576b\"],[0.6666666666666666,\"#ed7953\"],[0.7777777777777778,\"#fb9f3a\"],[0.8888888888888888,\"#fdca26\"],[1.0,\"#f0f921\"]],\"sequentialminus\":[[0.0,\"#0d0887\"],[0.1111111111111111,\"#46039f\"],[0.2222222222222222,\"#7201a8\"],[0.3333333333333333,\"#9c179e\"],[0.4444444444444444,\"#bd3786\"],[0.5555555555555556,\"#d8576b\"],[0.6666666666666666,\"#ed7953\"],[0.7777777777777778,\"#fb9f3a\"],[0.8888888888888888,\"#fdca26\"],[1.0,\"#f0f921\"]]},\"colorway\":[\"#636efa\",\"#EF553B\",\"#00cc96\",\"#ab63fa\",\"#FFA15A\",\"#19d3f3\",\"#FF6692\",\"#B6E880\",\"#FF97FF\",\"#FECB52\"],\"font\":{\"color\":\"#2a3f5f\"},\"geo\":{\"bgcolor\":\"white\",\"lakecolor\":\"white\",\"landcolor\":\"#E5ECF6\",\"showlakes\":true,\"showland\":true,\"subunitcolor\":\"white\"},\"hoverlabel\":{\"align\":\"left\"},\"hovermode\":\"closest\",\"mapbox\":{\"style\":\"light\"},\"paper_bgcolor\":\"white\",\"plot_bgcolor\":\"#E5ECF6\",\"polar\":{\"angularaxis\":{\"gridcolor\":\"white\",\"linecolor\":\"white\",\"ticks\":\"\"},\"bgcolor\":\"#E5ECF6\",\"radialaxis\":{\"gridcolor\":\"white\",\"linecolor\":\"white\",\"ticks\":\"\"}},\"scene\":{\"xaxis\":{\"backgroundcolor\":\"#E5ECF6\",\"gridcolor\":\"white\",\"gridwidth\":2,\"linecolor\":\"white\",\"showbackground\":true,\"ticks\":\"\",\"zerolinecolor\":\"white\"},\"yaxis\":{\"backgroundcolor\":\"#E5ECF6\",\"gridcolor\":\"white\",\"gridwidth\":2,\"linecolor\":\"white\",\"showbackground\":true,\"ticks\":\"\",\"zerolinecolor\":\"white\"},\"zaxis\":{\"backgroundcolor\":\"#E5ECF6\",\"gridcolor\":\"white\",\"gridwidth\":2,\"linecolor\":\"white\",\"showbackground\":true,\"ticks\":\"\",\"zerolinecolor\":\"white\"}},\"shapedefaults\":{\"line\":{\"color\":\"#2a3f5f\"}},\"ternary\":{\"aaxis\":{\"gridcolor\":\"white\",\"linecolor\":\"white\",\"ticks\":\"\"},\"baxis\":{\"gridcolor\":\"white\",\"linecolor\":\"white\",\"ticks\":\"\"},\"bgcolor\":\"#E5ECF6\",\"caxis\":{\"gridcolor\":\"white\",\"linecolor\":\"white\",\"ticks\":\"\"}},\"title\":{\"x\":0.05},\"xaxis\":{\"automargin\":true,\"gridcolor\":\"white\",\"linecolor\":\"white\",\"ticks\":\"\",\"title\":{\"standoff\":15},\"zerolinecolor\":\"white\",\"zerolinewidth\":2},\"yaxis\":{\"automargin\":true,\"gridcolor\":\"white\",\"linecolor\":\"white\",\"ticks\":\"\",\"title\":{\"standoff\":15},\"zerolinecolor\":\"white\",\"zerolinewidth\":2}}},\"title\":{\"font\":{\"color\":\"rgb(1,21,51)\",\"size\":50}},\"width\":480},                        {\"responsive\": true}                    ).then(function(){\n",
              "                            \n",
              "var gd = document.getElementById('fe0a2625-c748-450b-b68c-272235c175d5');\n",
              "var x = new MutationObserver(function (mutations, observer) {{\n",
              "        var display = window.getComputedStyle(gd).display;\n",
              "        if (!display || display === 'none') {{\n",
              "            console.log([gd, 'removed!']);\n",
              "            Plotly.purge(gd);\n",
              "            observer.disconnect();\n",
              "        }}\n",
              "}});\n",
              "\n",
              "// Listen for the removal of the full notebook cells\n",
              "var notebookContainer = gd.closest('#notebook-container');\n",
              "if (notebookContainer) {{\n",
              "    x.observe(notebookContainer, {childList: true});\n",
              "}}\n",
              "\n",
              "// Listen for the clearing of the current output cell\n",
              "var outputEl = gd.closest('.output');\n",
              "if (outputEl) {{\n",
              "    x.observe(outputEl, {childList: true});\n",
              "}}\n",
              "\n",
              "                        })                };                            </script>        </div>\n",
              "</body>\n",
              "</html>"
            ]
          },
          "metadata": {}
        }
      ]
    },
    {
      "cell_type": "markdown",
      "metadata": {
        "id": "j_P1C8zGSBLA"
      },
      "source": [
        "#**TRASLACIÓN DE UN VECTORES AL ORIGEN**\n",
        "\n",
        "#**Traslación en el plano**\n",
        "\n",
        "Sea $\\vec{V}$ el vector del plano que tiene como punto inicial $A = (A_x,A_y)$ y como punto final $B = (B_x,B_y) $ entonces podemos afirmar:\n",
        "\n",
        "$$\\overrightarrow{AB} = (B_x-A_x,B_y- A_y)$$\n",
        "\n",
        "\n",
        "<center><img src=\"https://github.com/josorio398/ALGEBRA-LINEAL-CON-PYTHON/blob/master/im%C3%A1genes%20repositorio/vector%20fijo%20-plano.png?raw=true\"  height=\"300\" /></center>\n",
        " \n",
        "##**Ejemplo:**\n",
        "Si $P = (4,2)$ y $Q = (7,6)$ halla las coordenadas del vector $\\overrightarrow{PQ}$.\n",
        "\n"
      ]
    },
    {
      "cell_type": "code",
      "metadata": {
        "colab": {
          "base_uri": "https://localhost:8080/",
          "height": 57
        },
        "id": "W8KkKzEhSBLB",
        "outputId": "7ca1abf6-ddd0-4bbd-9d69-1ff7d07ab404"
      },
      "source": [
        "P = (4,2)\n",
        "Q = (7,6)\n",
        "\n",
        "PQ = Matrix([Q[0]-P[0],Q[1]-P[1]])\n",
        "PQ"
      ],
      "execution_count": null,
      "outputs": [
        {
          "output_type": "execute_result",
          "data": {
            "text/latex": "$\\displaystyle \\left[\\begin{matrix}3\\\\4\\end{matrix}\\right]$",
            "text/plain": [
              "Matrix([\n",
              "[3],\n",
              "[4]])"
            ]
          },
          "metadata": {},
          "execution_count": 33
        }
      ]
    },
    {
      "cell_type": "markdown",
      "metadata": {
        "id": "Rj-9lFoRSBLD"
      },
      "source": [
        "## **Representación gráfica de la traslación en el plano** "
      ]
    },
    {
      "cell_type": "code",
      "metadata": {
        "colab": {
          "base_uri": "https://localhost:8080/",
          "height": 497
        },
        "id": "TNG5n4f4SBLE",
        "outputId": "f57a95c8-5293-466f-b04b-67c0142298e1"
      },
      "source": [
        "plotvectors2D([P,Q],PQ)"
      ],
      "execution_count": null,
      "outputs": [
        {
          "output_type": "display_data",
          "data": {
            "text/html": [
              "<html>\n",
              "<head><meta charset=\"utf-8\" /></head>\n",
              "<body>\n",
              "    <div>            <script src=\"https://cdnjs.cloudflare.com/ajax/libs/mathjax/2.7.5/MathJax.js?config=TeX-AMS-MML_SVG\"></script><script type=\"text/javascript\">if (window.MathJax) {MathJax.Hub.Config({SVG: {font: \"STIX-Web\"}});}</script>                <script type=\"text/javascript\">window.PlotlyConfig = {MathJaxConfig: 'local'};</script>\n",
              "        <script src=\"https://cdn.plot.ly/plotly-2.2.0.min.js\"></script>                <div id=\"e33d4c39-8ddc-4f10-a6b4-0fcd51a2e9e2\" class=\"plotly-graph-div\" style=\"height:480px; width:500px;\"></div>            <script type=\"text/javascript\">                                    window.PLOTLYENV=window.PLOTLYENV || {};                                    if (document.getElementById(\"e33d4c39-8ddc-4f10-a6b4-0fcd51a2e9e2\")) {                    Plotly.newPlot(                        \"e33d4c39-8ddc-4f10-a6b4-0fcd51a2e9e2\",                        [{\"marker\":{\"color\":\"rgb(248,24,207)\",\"size\":8},\"mode\":\"lines\",\"name\":\"vector 1\",\"showlegend\":true,\"type\":\"scatter\",\"x\":[4,7],\"y\":[2,6]},{\"marker\":{\"color\":\"rgb(140,197,162)\",\"size\":8},\"mode\":\"lines\",\"name\":\"vector 2\",\"showlegend\":true,\"type\":\"scatter\",\"x\":[0,3.0],\"y\":[0,4.0]},{\"marker\":{\"color\":\"#2a3f5f\",\"size\":9},\"mode\":\"markers\",\"name\":\"origen\",\"opacity\":1,\"showlegend\":true,\"type\":\"scatter\",\"x\":[0],\"y\":[0]}],                        {\"annotations\":[{\"arrowcolor\":\"rgb(248,24,207)\",\"arrowhead\":2,\"arrowsize\":1.5,\"arrowwidth\":2.3,\"ax\":4,\"axref\":\"x\",\"ay\":2,\"ayref\":\"y\",\"showarrow\":true,\"x\":7,\"xref\":\"x\",\"y\":6,\"yref\":\"y\"},{\"arrowcolor\":\"rgb(140,197,162)\",\"arrowhead\":2,\"arrowsize\":1.5,\"arrowwidth\":2.3,\"ax\":0.0,\"axref\":\"x\",\"ay\":0.0,\"ayref\":\"y\",\"showarrow\":true,\"x\":3.0,\"xref\":\"x\",\"y\":4.0,\"yref\":\"y\"},{\"arrowcolor\":\"#2a3f5f\",\"arrowhead\":2,\"arrowwidth\":1.5,\"ax\":-0.54,\"axref\":\"x\",\"ay\":0,\"ayref\":\"y\",\"x\":7.5,\"xref\":\"x\",\"y\":0,\"yref\":\"y\"},{\"arrowcolor\":\"#2a3f5f\",\"arrowhead\":2,\"arrowwidth\":1.5,\"ax\":0,\"axref\":\"x\",\"ay\":-0.54,\"ayref\":\"y\",\"x\":0,\"xref\":\"x\",\"y\":6.5,\"yref\":\"y\"}],\"font\":{\"color\":\"black\",\"family\":\"latex\",\"size\":20},\"height\":480,\"legend\":{\"itemdoubleclick\":\"toggle\",\"orientation\":\"h\",\"x\":1,\"xanchor\":\"right\",\"y\":1.02,\"yanchor\":\"bottom\"},\"showlegend\":true,\"template\":{\"data\":{\"bar\":[{\"error_x\":{\"color\":\"#2a3f5f\"},\"error_y\":{\"color\":\"#2a3f5f\"},\"marker\":{\"line\":{\"color\":\"#E5ECF6\",\"width\":0.5},\"pattern\":{\"fillmode\":\"overlay\",\"size\":10,\"solidity\":0.2}},\"type\":\"bar\"}],\"barpolar\":[{\"marker\":{\"line\":{\"color\":\"#E5ECF6\",\"width\":0.5},\"pattern\":{\"fillmode\":\"overlay\",\"size\":10,\"solidity\":0.2}},\"type\":\"barpolar\"}],\"carpet\":[{\"aaxis\":{\"endlinecolor\":\"#2a3f5f\",\"gridcolor\":\"white\",\"linecolor\":\"white\",\"minorgridcolor\":\"white\",\"startlinecolor\":\"#2a3f5f\"},\"baxis\":{\"endlinecolor\":\"#2a3f5f\",\"gridcolor\":\"white\",\"linecolor\":\"white\",\"minorgridcolor\":\"white\",\"startlinecolor\":\"#2a3f5f\"},\"type\":\"carpet\"}],\"choropleth\":[{\"colorbar\":{\"outlinewidth\":0,\"ticks\":\"\"},\"type\":\"choropleth\"}],\"contour\":[{\"colorbar\":{\"outlinewidth\":0,\"ticks\":\"\"},\"colorscale\":[[0.0,\"#0d0887\"],[0.1111111111111111,\"#46039f\"],[0.2222222222222222,\"#7201a8\"],[0.3333333333333333,\"#9c179e\"],[0.4444444444444444,\"#bd3786\"],[0.5555555555555556,\"#d8576b\"],[0.6666666666666666,\"#ed7953\"],[0.7777777777777778,\"#fb9f3a\"],[0.8888888888888888,\"#fdca26\"],[1.0,\"#f0f921\"]],\"type\":\"contour\"}],\"contourcarpet\":[{\"colorbar\":{\"outlinewidth\":0,\"ticks\":\"\"},\"type\":\"contourcarpet\"}],\"heatmap\":[{\"colorbar\":{\"outlinewidth\":0,\"ticks\":\"\"},\"colorscale\":[[0.0,\"#0d0887\"],[0.1111111111111111,\"#46039f\"],[0.2222222222222222,\"#7201a8\"],[0.3333333333333333,\"#9c179e\"],[0.4444444444444444,\"#bd3786\"],[0.5555555555555556,\"#d8576b\"],[0.6666666666666666,\"#ed7953\"],[0.7777777777777778,\"#fb9f3a\"],[0.8888888888888888,\"#fdca26\"],[1.0,\"#f0f921\"]],\"type\":\"heatmap\"}],\"heatmapgl\":[{\"colorbar\":{\"outlinewidth\":0,\"ticks\":\"\"},\"colorscale\":[[0.0,\"#0d0887\"],[0.1111111111111111,\"#46039f\"],[0.2222222222222222,\"#7201a8\"],[0.3333333333333333,\"#9c179e\"],[0.4444444444444444,\"#bd3786\"],[0.5555555555555556,\"#d8576b\"],[0.6666666666666666,\"#ed7953\"],[0.7777777777777778,\"#fb9f3a\"],[0.8888888888888888,\"#fdca26\"],[1.0,\"#f0f921\"]],\"type\":\"heatmapgl\"}],\"histogram\":[{\"marker\":{\"pattern\":{\"fillmode\":\"overlay\",\"size\":10,\"solidity\":0.2}},\"type\":\"histogram\"}],\"histogram2d\":[{\"colorbar\":{\"outlinewidth\":0,\"ticks\":\"\"},\"colorscale\":[[0.0,\"#0d0887\"],[0.1111111111111111,\"#46039f\"],[0.2222222222222222,\"#7201a8\"],[0.3333333333333333,\"#9c179e\"],[0.4444444444444444,\"#bd3786\"],[0.5555555555555556,\"#d8576b\"],[0.6666666666666666,\"#ed7953\"],[0.7777777777777778,\"#fb9f3a\"],[0.8888888888888888,\"#fdca26\"],[1.0,\"#f0f921\"]],\"type\":\"histogram2d\"}],\"histogram2dcontour\":[{\"colorbar\":{\"outlinewidth\":0,\"ticks\":\"\"},\"colorscale\":[[0.0,\"#0d0887\"],[0.1111111111111111,\"#46039f\"],[0.2222222222222222,\"#7201a8\"],[0.3333333333333333,\"#9c179e\"],[0.4444444444444444,\"#bd3786\"],[0.5555555555555556,\"#d8576b\"],[0.6666666666666666,\"#ed7953\"],[0.7777777777777778,\"#fb9f3a\"],[0.8888888888888888,\"#fdca26\"],[1.0,\"#f0f921\"]],\"type\":\"histogram2dcontour\"}],\"mesh3d\":[{\"colorbar\":{\"outlinewidth\":0,\"ticks\":\"\"},\"type\":\"mesh3d\"}],\"parcoords\":[{\"line\":{\"colorbar\":{\"outlinewidth\":0,\"ticks\":\"\"}},\"type\":\"parcoords\"}],\"pie\":[{\"automargin\":true,\"type\":\"pie\"}],\"scatter\":[{\"marker\":{\"colorbar\":{\"outlinewidth\":0,\"ticks\":\"\"}},\"type\":\"scatter\"}],\"scatter3d\":[{\"line\":{\"colorbar\":{\"outlinewidth\":0,\"ticks\":\"\"}},\"marker\":{\"colorbar\":{\"outlinewidth\":0,\"ticks\":\"\"}},\"type\":\"scatter3d\"}],\"scattercarpet\":[{\"marker\":{\"colorbar\":{\"outlinewidth\":0,\"ticks\":\"\"}},\"type\":\"scattercarpet\"}],\"scattergeo\":[{\"marker\":{\"colorbar\":{\"outlinewidth\":0,\"ticks\":\"\"}},\"type\":\"scattergeo\"}],\"scattergl\":[{\"marker\":{\"colorbar\":{\"outlinewidth\":0,\"ticks\":\"\"}},\"type\":\"scattergl\"}],\"scattermapbox\":[{\"marker\":{\"colorbar\":{\"outlinewidth\":0,\"ticks\":\"\"}},\"type\":\"scattermapbox\"}],\"scatterpolar\":[{\"marker\":{\"colorbar\":{\"outlinewidth\":0,\"ticks\":\"\"}},\"type\":\"scatterpolar\"}],\"scatterpolargl\":[{\"marker\":{\"colorbar\":{\"outlinewidth\":0,\"ticks\":\"\"}},\"type\":\"scatterpolargl\"}],\"scatterternary\":[{\"marker\":{\"colorbar\":{\"outlinewidth\":0,\"ticks\":\"\"}},\"type\":\"scatterternary\"}],\"surface\":[{\"colorbar\":{\"outlinewidth\":0,\"ticks\":\"\"},\"colorscale\":[[0.0,\"#0d0887\"],[0.1111111111111111,\"#46039f\"],[0.2222222222222222,\"#7201a8\"],[0.3333333333333333,\"#9c179e\"],[0.4444444444444444,\"#bd3786\"],[0.5555555555555556,\"#d8576b\"],[0.6666666666666666,\"#ed7953\"],[0.7777777777777778,\"#fb9f3a\"],[0.8888888888888888,\"#fdca26\"],[1.0,\"#f0f921\"]],\"type\":\"surface\"}],\"table\":[{\"cells\":{\"fill\":{\"color\":\"#EBF0F8\"},\"line\":{\"color\":\"white\"}},\"header\":{\"fill\":{\"color\":\"#C8D4E3\"},\"line\":{\"color\":\"white\"}},\"type\":\"table\"}]},\"layout\":{\"annotationdefaults\":{\"arrowcolor\":\"#2a3f5f\",\"arrowhead\":0,\"arrowwidth\":1},\"autotypenumbers\":\"strict\",\"coloraxis\":{\"colorbar\":{\"outlinewidth\":0,\"ticks\":\"\"}},\"colorscale\":{\"diverging\":[[0,\"#8e0152\"],[0.1,\"#c51b7d\"],[0.2,\"#de77ae\"],[0.3,\"#f1b6da\"],[0.4,\"#fde0ef\"],[0.5,\"#f7f7f7\"],[0.6,\"#e6f5d0\"],[0.7,\"#b8e186\"],[0.8,\"#7fbc41\"],[0.9,\"#4d9221\"],[1,\"#276419\"]],\"sequential\":[[0.0,\"#0d0887\"],[0.1111111111111111,\"#46039f\"],[0.2222222222222222,\"#7201a8\"],[0.3333333333333333,\"#9c179e\"],[0.4444444444444444,\"#bd3786\"],[0.5555555555555556,\"#d8576b\"],[0.6666666666666666,\"#ed7953\"],[0.7777777777777778,\"#fb9f3a\"],[0.8888888888888888,\"#fdca26\"],[1.0,\"#f0f921\"]],\"sequentialminus\":[[0.0,\"#0d0887\"],[0.1111111111111111,\"#46039f\"],[0.2222222222222222,\"#7201a8\"],[0.3333333333333333,\"#9c179e\"],[0.4444444444444444,\"#bd3786\"],[0.5555555555555556,\"#d8576b\"],[0.6666666666666666,\"#ed7953\"],[0.7777777777777778,\"#fb9f3a\"],[0.8888888888888888,\"#fdca26\"],[1.0,\"#f0f921\"]]},\"colorway\":[\"#636efa\",\"#EF553B\",\"#00cc96\",\"#ab63fa\",\"#FFA15A\",\"#19d3f3\",\"#FF6692\",\"#B6E880\",\"#FF97FF\",\"#FECB52\"],\"font\":{\"color\":\"#2a3f5f\"},\"geo\":{\"bgcolor\":\"white\",\"lakecolor\":\"white\",\"landcolor\":\"#E5ECF6\",\"showlakes\":true,\"showland\":true,\"subunitcolor\":\"white\"},\"hoverlabel\":{\"align\":\"left\"},\"hovermode\":\"closest\",\"mapbox\":{\"style\":\"light\"},\"paper_bgcolor\":\"white\",\"plot_bgcolor\":\"#E5ECF6\",\"polar\":{\"angularaxis\":{\"gridcolor\":\"white\",\"linecolor\":\"white\",\"ticks\":\"\"},\"bgcolor\":\"#E5ECF6\",\"radialaxis\":{\"gridcolor\":\"white\",\"linecolor\":\"white\",\"ticks\":\"\"}},\"scene\":{\"xaxis\":{\"backgroundcolor\":\"#E5ECF6\",\"gridcolor\":\"white\",\"gridwidth\":2,\"linecolor\":\"white\",\"showbackground\":true,\"ticks\":\"\",\"zerolinecolor\":\"white\"},\"yaxis\":{\"backgroundcolor\":\"#E5ECF6\",\"gridcolor\":\"white\",\"gridwidth\":2,\"linecolor\":\"white\",\"showbackground\":true,\"ticks\":\"\",\"zerolinecolor\":\"white\"},\"zaxis\":{\"backgroundcolor\":\"#E5ECF6\",\"gridcolor\":\"white\",\"gridwidth\":2,\"linecolor\":\"white\",\"showbackground\":true,\"ticks\":\"\",\"zerolinecolor\":\"white\"}},\"shapedefaults\":{\"line\":{\"color\":\"#2a3f5f\"}},\"ternary\":{\"aaxis\":{\"gridcolor\":\"white\",\"linecolor\":\"white\",\"ticks\":\"\"},\"baxis\":{\"gridcolor\":\"white\",\"linecolor\":\"white\",\"ticks\":\"\"},\"bgcolor\":\"#E5ECF6\",\"caxis\":{\"gridcolor\":\"white\",\"linecolor\":\"white\",\"ticks\":\"\"}},\"title\":{\"x\":0.05},\"xaxis\":{\"automargin\":true,\"gridcolor\":\"white\",\"linecolor\":\"white\",\"ticks\":\"\",\"title\":{\"standoff\":15},\"zerolinecolor\":\"white\",\"zerolinewidth\":2},\"yaxis\":{\"automargin\":true,\"gridcolor\":\"white\",\"linecolor\":\"white\",\"ticks\":\"\",\"title\":{\"standoff\":15},\"zerolinecolor\":\"white\",\"zerolinewidth\":2}}},\"title\":{\"font\":{\"color\":\"rgb(1,21,51)\",\"size\":30}},\"width\":500,\"xaxis\":{\"range\":[-0.5,7.5],\"showgrid\":true,\"title\":{\"font\":{\"color\":\"rgb(1,21,51)\",\"family\":\"latex\",\"size\":30},\"text\":\"$\\\\large{x}$\"}},\"yaxis\":{\"range\":[-0.5,6.5],\"showgrid\":true,\"title\":{\"font\":{\"color\":\"rgb(1,21,51)\",\"family\":\"latex\",\"size\":30},\"text\":\"$\\\\large{y}$\"}}},                        {\"responsive\": true}                    ).then(function(){\n",
              "                            \n",
              "var gd = document.getElementById('e33d4c39-8ddc-4f10-a6b4-0fcd51a2e9e2');\n",
              "var x = new MutationObserver(function (mutations, observer) {{\n",
              "        var display = window.getComputedStyle(gd).display;\n",
              "        if (!display || display === 'none') {{\n",
              "            console.log([gd, 'removed!']);\n",
              "            Plotly.purge(gd);\n",
              "            observer.disconnect();\n",
              "        }}\n",
              "}});\n",
              "\n",
              "// Listen for the removal of the full notebook cells\n",
              "var notebookContainer = gd.closest('#notebook-container');\n",
              "if (notebookContainer) {{\n",
              "    x.observe(notebookContainer, {childList: true});\n",
              "}}\n",
              "\n",
              "// Listen for the clearing of the current output cell\n",
              "var outputEl = gd.closest('.output');\n",
              "if (outputEl) {{\n",
              "    x.observe(outputEl, {childList: true});\n",
              "}}\n",
              "\n",
              "                        })                };                            </script>        </div>\n",
              "</body>\n",
              "</html>"
            ]
          },
          "metadata": {}
        }
      ]
    },
    {
      "cell_type": "markdown",
      "metadata": {
        "id": "-RzUwGB-SBLE"
      },
      "source": [
        "#**Traslación en el espacio**\n",
        "\n",
        "Sea $\\vec{V}$ el vector del plano que tiene como punto inicial $A = (A_x,A_y,A_z)$ y como punto final $B = (B_x,B_y,B_z) $ entonces podemos afirmar:\n",
        "\n",
        "$$\\overrightarrow{AB} = (B_x-A_x,B_y-A_y,B_z- A_z)$$\n",
        "\n",
        "<center><img src=\"https://github.com/josorio398/ALGEBRA-LINEAL-CON-PYTHON/blob/master/im%C3%A1genes%20repositorio/vector%20fijo%20-espacio.png?raw=true\"  height=\"300\" /></center>\n",
        " \n",
        "## **Ejemplo:**\n",
        "\n",
        "Si $P = (2,3,2)$ y $Q = (3,5,5)$ halla las coordenadas del vector $\\vec{PQ}$\n",
        "\n",
        "<center><img src=\"https://github.com/josorio398/ALGEBRA-LINEAL-CON-PYTHON/blob/master/im%C3%A1genes%20repositorio/trasla2.PNG?raw=true\"  height=\"250\" />\n"
      ]
    },
    {
      "cell_type": "code",
      "metadata": {
        "colab": {
          "base_uri": "https://localhost:8080/",
          "height": 78
        },
        "id": "CgyiEuCMSBLF",
        "outputId": "906b4578-0b3b-472b-e091-aba25e9fb3f4"
      },
      "source": [
        "P = (2,3,2)\n",
        "Q = (3,5,5)\n",
        "\n",
        "PQ = Matrix([Q[0]-P[0],Q[1]-P[1],Q[2]-P[2]])\n",
        "PQ"
      ],
      "execution_count": 11,
      "outputs": [
        {
          "output_type": "execute_result",
          "data": {
            "text/plain": [
              "Matrix([\n",
              "[1],\n",
              "[2],\n",
              "[3]])"
            ],
            "text/latex": "$\\displaystyle \\left[\\begin{matrix}1\\\\2\\\\3\\end{matrix}\\right]$"
          },
          "metadata": {},
          "execution_count": 11
        }
      ]
    },
    {
      "cell_type": "markdown",
      "metadata": {
        "id": "DnHdTVq6SBLG"
      },
      "source": [
        "## **Representación gráfica de la traslación en el espacio** "
      ]
    },
    {
      "cell_type": "code",
      "metadata": {
        "colab": {
          "base_uri": "https://localhost:8080/",
          "height": 497
        },
        "id": "0NizXmMfSBLH",
        "outputId": "55ad17c4-e6a4-4681-ae6c-ea57448ff9f6"
      },
      "source": [
        "plotvectors3D([P,Q],PQ)"
      ],
      "execution_count": 12,
      "outputs": [
        {
          "output_type": "display_data",
          "data": {
            "text/html": [
              "<html>\n",
              "<head><meta charset=\"utf-8\" /></head>\n",
              "<body>\n",
              "    <div>            <script src=\"https://cdnjs.cloudflare.com/ajax/libs/mathjax/2.7.5/MathJax.js?config=TeX-AMS-MML_SVG\"></script><script type=\"text/javascript\">if (window.MathJax) {MathJax.Hub.Config({SVG: {font: \"STIX-Web\"}});}</script>                <script type=\"text/javascript\">window.PlotlyConfig = {MathJaxConfig: 'local'};</script>\n",
              "        <script src=\"https://cdn.plot.ly/plotly-2.2.0.min.js\"></script>                <div id=\"094ac607-f304-454f-9ae0-c8f8631721bd\" class=\"plotly-graph-div\" style=\"height:480px; width:480px;\"></div>            <script type=\"text/javascript\">                                    window.PLOTLYENV=window.PLOTLYENV || {};                                    if (document.getElementById(\"094ac607-f304-454f-9ae0-c8f8631721bd\")) {                    Plotly.newPlot(                        \"094ac607-f304-454f-9ae0-c8f8631721bd\",                        [{\"hoverinfo\":\"name+text\",\"hovertext\":\"Tail=(2,3,2)\\nHead=(3,5,5)\",\"line\":{\"color\":\"rgb(122,46,234)\",\"width\":7},\"marker\":{\"color\":\"rgb(122,46,234)\",\"size\":1},\"name\":\"vector 1\",\"type\":\"scatter3d\",\"x\":[2,3],\"y\":[3,5],\"z\":[2,5]},{\"anchor\":\"cm\",\"colorbar\":{\"thickness\":20,\"ticklen\":4},\"colorscale\":[[0,\"rgb(122,46,234)\"],[1,\"rgb(122,46,234)\"]],\"hoverinfo\":\"skip\",\"name\":\"vector 1\",\"showscale\":false,\"sizemode\":\"absolute\",\"sizeref\":0.43333333333333335,\"type\":\"cone\",\"u\":[0.5],\"v\":[1.0],\"w\":[1.5],\"x\":[2.9937],\"y\":[4.9874],\"z\":[4.9811]},{\"line\":{\"color\":\"rgb(18,87,145)\",\"width\":7},\"marker\":{\"color\":\"rgb(18,87,145)\",\"size\":1},\"name\":\"vector 2\",\"type\":\"scatter3d\",\"x\":[0,1.0],\"y\":[0,2.0],\"z\":[0,3.0]},{\"anchor\":\"cm\",\"colorbar\":{\"thickness\":20,\"ticklen\":4},\"colorscale\":[[0,\"rgb(18,87,145)\"],[1,\"rgb(18,87,145)\"]],\"name\":\"vector 2\",\"showscale\":false,\"sizemode\":\"absolute\",\"sizeref\":0.43333333333333335,\"type\":\"cone\",\"u\":[1.0],\"v\":[2.0],\"w\":[3.0],\"x\":[1.0],\"y\":[2.0],\"z\":[3.0]},{\"marker\":{\"color\":\"#2a3f5f\",\"size\":5},\"mode\":\"markers\",\"name\":\"origen\",\"showlegend\":true,\"type\":\"scatter3d\",\"x\":[0],\"y\":[0],\"z\":[0]},{\"hoverinfo\":\"skip\",\"line\":{\"color\":\"#2a3f5f\",\"width\":3},\"marker\":{\"color\":\"#2a3f5f\",\"size\":1},\"name\":\"\",\"showlegend\":false,\"type\":\"scatter3d\",\"x\":[-0.43333333333333335,3.4333333333333336],\"y\":[0,0],\"z\":[0,0]},{\"anchor\":\"cm\",\"colorbar\":{\"thickness\":20,\"ticklen\":4},\"colorscale\":[[0,\"#2a3f5f\"],[1,\"#2a3f5f\"]],\"hoverinfo\":\"name\",\"name\":\"Eje x-positivo\",\"showscale\":false,\"sizemode\":\"absolute\",\"sizeref\":0.26,\"type\":\"cone\",\"u\":[3.4333333333333336],\"v\":[0],\"w\":[0],\"x\":[3.4333333333333336],\"y\":[0],\"z\":[0]},{\"hoverinfo\":\"skip\",\"line\":{\"color\":\"#2a3f5f\",\"width\":3},\"marker\":{\"color\":\"#2a3f5f\",\"size\":1},\"name\":\"\",\"showlegend\":false,\"type\":\"scatter3d\",\"x\":[0,0],\"y\":[-0.43333333333333335,5.433333333333334],\"z\":[0,0]},{\"anchor\":\"cm\",\"colorbar\":{\"thickness\":20,\"ticklen\":4},\"colorscale\":[[0,\"#2a3f5f\"],[1,\"#2a3f5f\"]],\"hoverinfo\":\"name\",\"name\":\"Eje y-positivo \",\"showscale\":false,\"sizemode\":\"absolute\",\"sizeref\":0.26,\"type\":\"cone\",\"u\":[0],\"v\":[5.433333333333334],\"w\":[0],\"x\":[0],\"y\":[5.433333333333334],\"z\":[0]},{\"hoverinfo\":\"skip\",\"line\":{\"color\":\"#2a3f5f\",\"width\":3},\"marker\":{\"color\":\"#2a3f5f\",\"size\":1},\"name\":\"eje z-positivo\",\"showlegend\":false,\"type\":\"scatter3d\",\"x\":[0,0],\"y\":[0,0],\"z\":[-0.7333333333333334,5.433333333333334]},{\"anchor\":\"cm\",\"colorbar\":{\"thickness\":20,\"ticklen\":4},\"colorscale\":[[0,\"#2a3f5f\"],[1,\"#2a3f5f\"]],\"hoverinfo\":\"name\",\"name\":\"Eje z-positivo\",\"showscale\":false,\"sizemode\":\"absolute\",\"sizeref\":0.26,\"type\":\"cone\",\"u\":[0],\"v\":[0],\"w\":[5.433333333333334],\"x\":[0],\"y\":[0],\"z\":[5.433333333333334]}],                        {\"height\":480,\"legend\":{\"orientation\":\"h\",\"x\":0.03,\"y\":1.3},\"margin\":{\"b\":0,\"l\":0,\"r\":0,\"t\":0},\"showlegend\":true,\"template\":{\"data\":{\"bar\":[{\"error_x\":{\"color\":\"#2a3f5f\"},\"error_y\":{\"color\":\"#2a3f5f\"},\"marker\":{\"line\":{\"color\":\"#E5ECF6\",\"width\":0.5},\"pattern\":{\"fillmode\":\"overlay\",\"size\":10,\"solidity\":0.2}},\"type\":\"bar\"}],\"barpolar\":[{\"marker\":{\"line\":{\"color\":\"#E5ECF6\",\"width\":0.5},\"pattern\":{\"fillmode\":\"overlay\",\"size\":10,\"solidity\":0.2}},\"type\":\"barpolar\"}],\"carpet\":[{\"aaxis\":{\"endlinecolor\":\"#2a3f5f\",\"gridcolor\":\"white\",\"linecolor\":\"white\",\"minorgridcolor\":\"white\",\"startlinecolor\":\"#2a3f5f\"},\"baxis\":{\"endlinecolor\":\"#2a3f5f\",\"gridcolor\":\"white\",\"linecolor\":\"white\",\"minorgridcolor\":\"white\",\"startlinecolor\":\"#2a3f5f\"},\"type\":\"carpet\"}],\"choropleth\":[{\"colorbar\":{\"outlinewidth\":0,\"ticks\":\"\"},\"type\":\"choropleth\"}],\"contour\":[{\"colorbar\":{\"outlinewidth\":0,\"ticks\":\"\"},\"colorscale\":[[0.0,\"#0d0887\"],[0.1111111111111111,\"#46039f\"],[0.2222222222222222,\"#7201a8\"],[0.3333333333333333,\"#9c179e\"],[0.4444444444444444,\"#bd3786\"],[0.5555555555555556,\"#d8576b\"],[0.6666666666666666,\"#ed7953\"],[0.7777777777777778,\"#fb9f3a\"],[0.8888888888888888,\"#fdca26\"],[1.0,\"#f0f921\"]],\"type\":\"contour\"}],\"contourcarpet\":[{\"colorbar\":{\"outlinewidth\":0,\"ticks\":\"\"},\"type\":\"contourcarpet\"}],\"heatmap\":[{\"colorbar\":{\"outlinewidth\":0,\"ticks\":\"\"},\"colorscale\":[[0.0,\"#0d0887\"],[0.1111111111111111,\"#46039f\"],[0.2222222222222222,\"#7201a8\"],[0.3333333333333333,\"#9c179e\"],[0.4444444444444444,\"#bd3786\"],[0.5555555555555556,\"#d8576b\"],[0.6666666666666666,\"#ed7953\"],[0.7777777777777778,\"#fb9f3a\"],[0.8888888888888888,\"#fdca26\"],[1.0,\"#f0f921\"]],\"type\":\"heatmap\"}],\"heatmapgl\":[{\"colorbar\":{\"outlinewidth\":0,\"ticks\":\"\"},\"colorscale\":[[0.0,\"#0d0887\"],[0.1111111111111111,\"#46039f\"],[0.2222222222222222,\"#7201a8\"],[0.3333333333333333,\"#9c179e\"],[0.4444444444444444,\"#bd3786\"],[0.5555555555555556,\"#d8576b\"],[0.6666666666666666,\"#ed7953\"],[0.7777777777777778,\"#fb9f3a\"],[0.8888888888888888,\"#fdca26\"],[1.0,\"#f0f921\"]],\"type\":\"heatmapgl\"}],\"histogram\":[{\"marker\":{\"pattern\":{\"fillmode\":\"overlay\",\"size\":10,\"solidity\":0.2}},\"type\":\"histogram\"}],\"histogram2d\":[{\"colorbar\":{\"outlinewidth\":0,\"ticks\":\"\"},\"colorscale\":[[0.0,\"#0d0887\"],[0.1111111111111111,\"#46039f\"],[0.2222222222222222,\"#7201a8\"],[0.3333333333333333,\"#9c179e\"],[0.4444444444444444,\"#bd3786\"],[0.5555555555555556,\"#d8576b\"],[0.6666666666666666,\"#ed7953\"],[0.7777777777777778,\"#fb9f3a\"],[0.8888888888888888,\"#fdca26\"],[1.0,\"#f0f921\"]],\"type\":\"histogram2d\"}],\"histogram2dcontour\":[{\"colorbar\":{\"outlinewidth\":0,\"ticks\":\"\"},\"colorscale\":[[0.0,\"#0d0887\"],[0.1111111111111111,\"#46039f\"],[0.2222222222222222,\"#7201a8\"],[0.3333333333333333,\"#9c179e\"],[0.4444444444444444,\"#bd3786\"],[0.5555555555555556,\"#d8576b\"],[0.6666666666666666,\"#ed7953\"],[0.7777777777777778,\"#fb9f3a\"],[0.8888888888888888,\"#fdca26\"],[1.0,\"#f0f921\"]],\"type\":\"histogram2dcontour\"}],\"mesh3d\":[{\"colorbar\":{\"outlinewidth\":0,\"ticks\":\"\"},\"type\":\"mesh3d\"}],\"parcoords\":[{\"line\":{\"colorbar\":{\"outlinewidth\":0,\"ticks\":\"\"}},\"type\":\"parcoords\"}],\"pie\":[{\"automargin\":true,\"type\":\"pie\"}],\"scatter\":[{\"marker\":{\"colorbar\":{\"outlinewidth\":0,\"ticks\":\"\"}},\"type\":\"scatter\"}],\"scatter3d\":[{\"line\":{\"colorbar\":{\"outlinewidth\":0,\"ticks\":\"\"}},\"marker\":{\"colorbar\":{\"outlinewidth\":0,\"ticks\":\"\"}},\"type\":\"scatter3d\"}],\"scattercarpet\":[{\"marker\":{\"colorbar\":{\"outlinewidth\":0,\"ticks\":\"\"}},\"type\":\"scattercarpet\"}],\"scattergeo\":[{\"marker\":{\"colorbar\":{\"outlinewidth\":0,\"ticks\":\"\"}},\"type\":\"scattergeo\"}],\"scattergl\":[{\"marker\":{\"colorbar\":{\"outlinewidth\":0,\"ticks\":\"\"}},\"type\":\"scattergl\"}],\"scattermapbox\":[{\"marker\":{\"colorbar\":{\"outlinewidth\":0,\"ticks\":\"\"}},\"type\":\"scattermapbox\"}],\"scatterpolar\":[{\"marker\":{\"colorbar\":{\"outlinewidth\":0,\"ticks\":\"\"}},\"type\":\"scatterpolar\"}],\"scatterpolargl\":[{\"marker\":{\"colorbar\":{\"outlinewidth\":0,\"ticks\":\"\"}},\"type\":\"scatterpolargl\"}],\"scatterternary\":[{\"marker\":{\"colorbar\":{\"outlinewidth\":0,\"ticks\":\"\"}},\"type\":\"scatterternary\"}],\"surface\":[{\"colorbar\":{\"outlinewidth\":0,\"ticks\":\"\"},\"colorscale\":[[0.0,\"#0d0887\"],[0.1111111111111111,\"#46039f\"],[0.2222222222222222,\"#7201a8\"],[0.3333333333333333,\"#9c179e\"],[0.4444444444444444,\"#bd3786\"],[0.5555555555555556,\"#d8576b\"],[0.6666666666666666,\"#ed7953\"],[0.7777777777777778,\"#fb9f3a\"],[0.8888888888888888,\"#fdca26\"],[1.0,\"#f0f921\"]],\"type\":\"surface\"}],\"table\":[{\"cells\":{\"fill\":{\"color\":\"#EBF0F8\"},\"line\":{\"color\":\"white\"}},\"header\":{\"fill\":{\"color\":\"#C8D4E3\"},\"line\":{\"color\":\"white\"}},\"type\":\"table\"}]},\"layout\":{\"annotationdefaults\":{\"arrowcolor\":\"#2a3f5f\",\"arrowhead\":0,\"arrowwidth\":1},\"autotypenumbers\":\"strict\",\"coloraxis\":{\"colorbar\":{\"outlinewidth\":0,\"ticks\":\"\"}},\"colorscale\":{\"diverging\":[[0,\"#8e0152\"],[0.1,\"#c51b7d\"],[0.2,\"#de77ae\"],[0.3,\"#f1b6da\"],[0.4,\"#fde0ef\"],[0.5,\"#f7f7f7\"],[0.6,\"#e6f5d0\"],[0.7,\"#b8e186\"],[0.8,\"#7fbc41\"],[0.9,\"#4d9221\"],[1,\"#276419\"]],\"sequential\":[[0.0,\"#0d0887\"],[0.1111111111111111,\"#46039f\"],[0.2222222222222222,\"#7201a8\"],[0.3333333333333333,\"#9c179e\"],[0.4444444444444444,\"#bd3786\"],[0.5555555555555556,\"#d8576b\"],[0.6666666666666666,\"#ed7953\"],[0.7777777777777778,\"#fb9f3a\"],[0.8888888888888888,\"#fdca26\"],[1.0,\"#f0f921\"]],\"sequentialminus\":[[0.0,\"#0d0887\"],[0.1111111111111111,\"#46039f\"],[0.2222222222222222,\"#7201a8\"],[0.3333333333333333,\"#9c179e\"],[0.4444444444444444,\"#bd3786\"],[0.5555555555555556,\"#d8576b\"],[0.6666666666666666,\"#ed7953\"],[0.7777777777777778,\"#fb9f3a\"],[0.8888888888888888,\"#fdca26\"],[1.0,\"#f0f921\"]]},\"colorway\":[\"#636efa\",\"#EF553B\",\"#00cc96\",\"#ab63fa\",\"#FFA15A\",\"#19d3f3\",\"#FF6692\",\"#B6E880\",\"#FF97FF\",\"#FECB52\"],\"font\":{\"color\":\"#2a3f5f\"},\"geo\":{\"bgcolor\":\"white\",\"lakecolor\":\"white\",\"landcolor\":\"#E5ECF6\",\"showlakes\":true,\"showland\":true,\"subunitcolor\":\"white\"},\"hoverlabel\":{\"align\":\"left\"},\"hovermode\":\"closest\",\"mapbox\":{\"style\":\"light\"},\"paper_bgcolor\":\"white\",\"plot_bgcolor\":\"#E5ECF6\",\"polar\":{\"angularaxis\":{\"gridcolor\":\"white\",\"linecolor\":\"white\",\"ticks\":\"\"},\"bgcolor\":\"#E5ECF6\",\"radialaxis\":{\"gridcolor\":\"white\",\"linecolor\":\"white\",\"ticks\":\"\"}},\"scene\":{\"xaxis\":{\"backgroundcolor\":\"#E5ECF6\",\"gridcolor\":\"white\",\"gridwidth\":2,\"linecolor\":\"white\",\"showbackground\":true,\"ticks\":\"\",\"zerolinecolor\":\"white\"},\"yaxis\":{\"backgroundcolor\":\"#E5ECF6\",\"gridcolor\":\"white\",\"gridwidth\":2,\"linecolor\":\"white\",\"showbackground\":true,\"ticks\":\"\",\"zerolinecolor\":\"white\"},\"zaxis\":{\"backgroundcolor\":\"#E5ECF6\",\"gridcolor\":\"white\",\"gridwidth\":2,\"linecolor\":\"white\",\"showbackground\":true,\"ticks\":\"\",\"zerolinecolor\":\"white\"}},\"shapedefaults\":{\"line\":{\"color\":\"#2a3f5f\"}},\"ternary\":{\"aaxis\":{\"gridcolor\":\"white\",\"linecolor\":\"white\",\"ticks\":\"\"},\"baxis\":{\"gridcolor\":\"white\",\"linecolor\":\"white\",\"ticks\":\"\"},\"bgcolor\":\"#E5ECF6\",\"caxis\":{\"gridcolor\":\"white\",\"linecolor\":\"white\",\"ticks\":\"\"}},\"title\":{\"x\":0.05},\"xaxis\":{\"automargin\":true,\"gridcolor\":\"white\",\"linecolor\":\"white\",\"ticks\":\"\",\"title\":{\"standoff\":15},\"zerolinecolor\":\"white\",\"zerolinewidth\":2},\"yaxis\":{\"automargin\":true,\"gridcolor\":\"white\",\"linecolor\":\"white\",\"ticks\":\"\",\"title\":{\"standoff\":15},\"zerolinecolor\":\"white\",\"zerolinewidth\":2}}},\"title\":{\"font\":{\"color\":\"rgb(1,21,51)\",\"size\":50}},\"width\":480},                        {\"responsive\": true}                    ).then(function(){\n",
              "                            \n",
              "var gd = document.getElementById('094ac607-f304-454f-9ae0-c8f8631721bd');\n",
              "var x = new MutationObserver(function (mutations, observer) {{\n",
              "        var display = window.getComputedStyle(gd).display;\n",
              "        if (!display || display === 'none') {{\n",
              "            console.log([gd, 'removed!']);\n",
              "            Plotly.purge(gd);\n",
              "            observer.disconnect();\n",
              "        }}\n",
              "}});\n",
              "\n",
              "// Listen for the removal of the full notebook cells\n",
              "var notebookContainer = gd.closest('#notebook-container');\n",
              "if (notebookContainer) {{\n",
              "    x.observe(notebookContainer, {childList: true});\n",
              "}}\n",
              "\n",
              "// Listen for the clearing of the current output cell\n",
              "var outputEl = gd.closest('.output');\n",
              "if (outputEl) {{\n",
              "    x.observe(outputEl, {childList: true});\n",
              "}}\n",
              "\n",
              "                        })                };                            </script>        </div>\n",
              "</body>\n",
              "</html>"
            ]
          },
          "metadata": {}
        }
      ]
    },
    {
      "cell_type": "markdown",
      "metadata": {
        "id": "T3qeIP9FOkfL"
      },
      "source": [
        "# **DEFINICIÓN ANALÍTICA DE VECTOR**\n",
        "Un vector con dimensión $n$, es una $n$-tupla de números reales que pertenece a $\\mathbb {R} ^{n}$ en donde cada elemento de la  $n$-tupla recibe el nómbre de componente.\n",
        "\n",
        "Definimos $V_n$ como **el espacio vectorial** de $n$-tuplas, como el conjunto de todos los vectores con dimensión $n$.\n",
        "\n",
        "De esta manera un vector $\\vec{V} \\in V_n$ se nota cómo:\n",
        "\n",
        "$$\\vec{V} = (x_1,x_2,\\cdots,x_n) = x_1\\hat{e_1} + x_2\\hat{e_2} +\\cdots+ x_n\\hat{e_n}$$\n",
        "\n",
        "Donde  $\\hat{e_i}$ son los respectivos vectores unitarios para cada una de las componentes y donde $\\hat{e_1}= \\hat{\\imath} $,  $\\hat{e_2}= \\hat{\\jmath}$, $\\hat{e_3}= \\hat{k} $\n",
        " \n",
        "\n",
        "Cuando los vectores pertenecen a $\\mathbb {R} ^{n}$ con $n=1,2 \\hspace{0.2cm} \\text{o} \\hspace{0.2cm} 3$  podemos realizar **representaciones geométricas** de los mismos respectivamente en la recta, el plano y el espacio."
      ]
    },
    {
      "cell_type": "markdown",
      "metadata": {
        "id": "7W2a1nKcMwME"
      },
      "source": [
        "#**DEFINICIÓN DE VECTORES USANDO LIBERÍA SYMPY** \n",
        "\n",
        "#**Vectores unidimensionales**\n",
        "Son vectores $\\vec{V} \\in V_1$ y poseen una sola componente, se notan como: \n",
        "\n",
        "$$\\vec{V} =  ( x ) \\hspace{0.2cm} \\text{donde}  \\hspace{0.2cm} x \\in \\mathbb {R}$$\n",
        "\n",
        "\n",
        "\n",
        "\n",
        "##**Ejemplo:** \n",
        "Define el vector  $\\vec{V} = ( 2 ) = 2 \\hat{\\imath} $ en SymPy cuya gráfica se presenta a continuación y realiza su gráfica con la función **plotvectors2D** del módulo de graficación."
      ]
    },
    {
      "cell_type": "markdown",
      "metadata": {
        "id": "Qa5Lw7N1ZAYE"
      },
      "source": [
        "### **Forma 1** ----> *como una matriz columna*"
      ]
    },
    {
      "cell_type": "code",
      "metadata": {
        "colab": {
          "base_uri": "https://localhost:8080/",
          "height": 38
        },
        "id": "-KtnbbUWD5GY",
        "outputId": "7a0e17e7-2671-48ed-8de3-3ab78562402a"
      },
      "source": [
        "V = Matrix([2])\n",
        "V"
      ],
      "execution_count": null,
      "outputs": [
        {
          "output_type": "execute_result",
          "data": {
            "text/latex": "$\\displaystyle \\left[\\begin{matrix}2\\end{matrix}\\right]$",
            "text/plain": [
              "Matrix([[2]])"
            ]
          },
          "metadata": {},
          "execution_count": 38
        }
      ]
    },
    {
      "cell_type": "markdown",
      "metadata": {
        "id": "ELVNV_OOnZO6"
      },
      "source": [
        "### **Forma 2** ----> *como combinación lineal de vectores unitarios*"
      ]
    },
    {
      "cell_type": "code",
      "metadata": {
        "colab": {
          "base_uri": "https://localhost:8080/",
          "height": 36
        },
        "id": "_TpMTgGuEVHU",
        "outputId": "522752ba-c388-4eb4-fc0b-b7692cc03016"
      },
      "source": [
        "i = e.x \n",
        "\n",
        "V = 2*i\n",
        "V"
      ],
      "execution_count": null,
      "outputs": [
        {
          "output_type": "execute_result",
          "data": {
            "text/latex": "$\\displaystyle 2\\mathbf{\\hat{e}_x}$",
            "text/plain": [
              "2*e.x"
            ]
          },
          "metadata": {},
          "execution_count": 39
        }
      ]
    },
    {
      "cell_type": "markdown",
      "metadata": {
        "id": "DIkUmQACp8s1"
      },
      "source": [
        "## **Representación gráfica en el eje de las absisas** "
      ]
    },
    {
      "cell_type": "code",
      "metadata": {
        "colab": {
          "base_uri": "https://localhost:8080/",
          "height": 497
        },
        "id": "ltnczT66RJJR",
        "outputId": "0ab8cef3-5877-4a89-9afb-4ed9b7df6ec9"
      },
      "source": [
        "plotvectors2D([2])"
      ],
      "execution_count": null,
      "outputs": [
        {
          "output_type": "display_data",
          "data": {
            "text/html": [
              "<html>\n",
              "<head><meta charset=\"utf-8\" /></head>\n",
              "<body>\n",
              "    <div>            <script src=\"https://cdnjs.cloudflare.com/ajax/libs/mathjax/2.7.5/MathJax.js?config=TeX-AMS-MML_SVG\"></script><script type=\"text/javascript\">if (window.MathJax) {MathJax.Hub.Config({SVG: {font: \"STIX-Web\"}});}</script>                <script type=\"text/javascript\">window.PlotlyConfig = {MathJaxConfig: 'local'};</script>\n",
              "        <script src=\"https://cdn.plot.ly/plotly-2.2.0.min.js\"></script>                <div id=\"a25ae5b9-064d-40dc-b246-841eb9237a02\" class=\"plotly-graph-div\" style=\"height:480px; width:500px;\"></div>            <script type=\"text/javascript\">                                    window.PLOTLYENV=window.PLOTLYENV || {};                                    if (document.getElementById(\"a25ae5b9-064d-40dc-b246-841eb9237a02\")) {                    Plotly.newPlot(                        \"a25ae5b9-064d-40dc-b246-841eb9237a02\",                        [{\"marker\":{\"color\":\"rgb(166,52,63)\",\"size\":8},\"mode\":\"lines\",\"name\":\"vector 1\",\"showlegend\":true,\"type\":\"scatter\",\"x\":[0,2],\"y\":[0,0]},{\"marker\":{\"color\":\"#2a3f5f\",\"size\":9},\"mode\":\"markers\",\"name\":\"origen\",\"opacity\":1,\"showlegend\":true,\"type\":\"scatter\",\"x\":[0],\"y\":[0]}],                        {\"annotations\":[{\"arrowcolor\":\"rgb(166,52,63)\",\"arrowhead\":2,\"arrowsize\":1.5,\"arrowwidth\":2.3,\"ax\":0.0,\"axref\":\"x\",\"ay\":0.0,\"ayref\":\"y\",\"showarrow\":true,\"x\":2,\"xref\":\"x\",\"y\":0,\"yref\":\"y\"},{\"arrowcolor\":\"#2a3f5f\",\"arrowhead\":2,\"arrowwidth\":1.5,\"ax\":-0.54,\"axref\":\"x\",\"ay\":0,\"ayref\":\"y\",\"x\":2.5,\"xref\":\"x\",\"y\":0,\"yref\":\"y\"},{\"arrowcolor\":\"#2a3f5f\",\"arrowhead\":2,\"arrowwidth\":1.5,\"ax\":0,\"axref\":\"x\",\"ay\":-0.54,\"ayref\":\"y\",\"x\":0,\"xref\":\"x\",\"y\":0.5,\"yref\":\"y\"}],\"font\":{\"color\":\"black\",\"family\":\"latex\",\"size\":20},\"height\":480,\"legend\":{\"itemdoubleclick\":\"toggle\",\"orientation\":\"h\",\"x\":1,\"xanchor\":\"right\",\"y\":1.02,\"yanchor\":\"bottom\"},\"showlegend\":true,\"template\":{\"data\":{\"bar\":[{\"error_x\":{\"color\":\"#2a3f5f\"},\"error_y\":{\"color\":\"#2a3f5f\"},\"marker\":{\"line\":{\"color\":\"#E5ECF6\",\"width\":0.5},\"pattern\":{\"fillmode\":\"overlay\",\"size\":10,\"solidity\":0.2}},\"type\":\"bar\"}],\"barpolar\":[{\"marker\":{\"line\":{\"color\":\"#E5ECF6\",\"width\":0.5},\"pattern\":{\"fillmode\":\"overlay\",\"size\":10,\"solidity\":0.2}},\"type\":\"barpolar\"}],\"carpet\":[{\"aaxis\":{\"endlinecolor\":\"#2a3f5f\",\"gridcolor\":\"white\",\"linecolor\":\"white\",\"minorgridcolor\":\"white\",\"startlinecolor\":\"#2a3f5f\"},\"baxis\":{\"endlinecolor\":\"#2a3f5f\",\"gridcolor\":\"white\",\"linecolor\":\"white\",\"minorgridcolor\":\"white\",\"startlinecolor\":\"#2a3f5f\"},\"type\":\"carpet\"}],\"choropleth\":[{\"colorbar\":{\"outlinewidth\":0,\"ticks\":\"\"},\"type\":\"choropleth\"}],\"contour\":[{\"colorbar\":{\"outlinewidth\":0,\"ticks\":\"\"},\"colorscale\":[[0.0,\"#0d0887\"],[0.1111111111111111,\"#46039f\"],[0.2222222222222222,\"#7201a8\"],[0.3333333333333333,\"#9c179e\"],[0.4444444444444444,\"#bd3786\"],[0.5555555555555556,\"#d8576b\"],[0.6666666666666666,\"#ed7953\"],[0.7777777777777778,\"#fb9f3a\"],[0.8888888888888888,\"#fdca26\"],[1.0,\"#f0f921\"]],\"type\":\"contour\"}],\"contourcarpet\":[{\"colorbar\":{\"outlinewidth\":0,\"ticks\":\"\"},\"type\":\"contourcarpet\"}],\"heatmap\":[{\"colorbar\":{\"outlinewidth\":0,\"ticks\":\"\"},\"colorscale\":[[0.0,\"#0d0887\"],[0.1111111111111111,\"#46039f\"],[0.2222222222222222,\"#7201a8\"],[0.3333333333333333,\"#9c179e\"],[0.4444444444444444,\"#bd3786\"],[0.5555555555555556,\"#d8576b\"],[0.6666666666666666,\"#ed7953\"],[0.7777777777777778,\"#fb9f3a\"],[0.8888888888888888,\"#fdca26\"],[1.0,\"#f0f921\"]],\"type\":\"heatmap\"}],\"heatmapgl\":[{\"colorbar\":{\"outlinewidth\":0,\"ticks\":\"\"},\"colorscale\":[[0.0,\"#0d0887\"],[0.1111111111111111,\"#46039f\"],[0.2222222222222222,\"#7201a8\"],[0.3333333333333333,\"#9c179e\"],[0.4444444444444444,\"#bd3786\"],[0.5555555555555556,\"#d8576b\"],[0.6666666666666666,\"#ed7953\"],[0.7777777777777778,\"#fb9f3a\"],[0.8888888888888888,\"#fdca26\"],[1.0,\"#f0f921\"]],\"type\":\"heatmapgl\"}],\"histogram\":[{\"marker\":{\"pattern\":{\"fillmode\":\"overlay\",\"size\":10,\"solidity\":0.2}},\"type\":\"histogram\"}],\"histogram2d\":[{\"colorbar\":{\"outlinewidth\":0,\"ticks\":\"\"},\"colorscale\":[[0.0,\"#0d0887\"],[0.1111111111111111,\"#46039f\"],[0.2222222222222222,\"#7201a8\"],[0.3333333333333333,\"#9c179e\"],[0.4444444444444444,\"#bd3786\"],[0.5555555555555556,\"#d8576b\"],[0.6666666666666666,\"#ed7953\"],[0.7777777777777778,\"#fb9f3a\"],[0.8888888888888888,\"#fdca26\"],[1.0,\"#f0f921\"]],\"type\":\"histogram2d\"}],\"histogram2dcontour\":[{\"colorbar\":{\"outlinewidth\":0,\"ticks\":\"\"},\"colorscale\":[[0.0,\"#0d0887\"],[0.1111111111111111,\"#46039f\"],[0.2222222222222222,\"#7201a8\"],[0.3333333333333333,\"#9c179e\"],[0.4444444444444444,\"#bd3786\"],[0.5555555555555556,\"#d8576b\"],[0.6666666666666666,\"#ed7953\"],[0.7777777777777778,\"#fb9f3a\"],[0.8888888888888888,\"#fdca26\"],[1.0,\"#f0f921\"]],\"type\":\"histogram2dcontour\"}],\"mesh3d\":[{\"colorbar\":{\"outlinewidth\":0,\"ticks\":\"\"},\"type\":\"mesh3d\"}],\"parcoords\":[{\"line\":{\"colorbar\":{\"outlinewidth\":0,\"ticks\":\"\"}},\"type\":\"parcoords\"}],\"pie\":[{\"automargin\":true,\"type\":\"pie\"}],\"scatter\":[{\"marker\":{\"colorbar\":{\"outlinewidth\":0,\"ticks\":\"\"}},\"type\":\"scatter\"}],\"scatter3d\":[{\"line\":{\"colorbar\":{\"outlinewidth\":0,\"ticks\":\"\"}},\"marker\":{\"colorbar\":{\"outlinewidth\":0,\"ticks\":\"\"}},\"type\":\"scatter3d\"}],\"scattercarpet\":[{\"marker\":{\"colorbar\":{\"outlinewidth\":0,\"ticks\":\"\"}},\"type\":\"scattercarpet\"}],\"scattergeo\":[{\"marker\":{\"colorbar\":{\"outlinewidth\":0,\"ticks\":\"\"}},\"type\":\"scattergeo\"}],\"scattergl\":[{\"marker\":{\"colorbar\":{\"outlinewidth\":0,\"ticks\":\"\"}},\"type\":\"scattergl\"}],\"scattermapbox\":[{\"marker\":{\"colorbar\":{\"outlinewidth\":0,\"ticks\":\"\"}},\"type\":\"scattermapbox\"}],\"scatterpolar\":[{\"marker\":{\"colorbar\":{\"outlinewidth\":0,\"ticks\":\"\"}},\"type\":\"scatterpolar\"}],\"scatterpolargl\":[{\"marker\":{\"colorbar\":{\"outlinewidth\":0,\"ticks\":\"\"}},\"type\":\"scatterpolargl\"}],\"scatterternary\":[{\"marker\":{\"colorbar\":{\"outlinewidth\":0,\"ticks\":\"\"}},\"type\":\"scatterternary\"}],\"surface\":[{\"colorbar\":{\"outlinewidth\":0,\"ticks\":\"\"},\"colorscale\":[[0.0,\"#0d0887\"],[0.1111111111111111,\"#46039f\"],[0.2222222222222222,\"#7201a8\"],[0.3333333333333333,\"#9c179e\"],[0.4444444444444444,\"#bd3786\"],[0.5555555555555556,\"#d8576b\"],[0.6666666666666666,\"#ed7953\"],[0.7777777777777778,\"#fb9f3a\"],[0.8888888888888888,\"#fdca26\"],[1.0,\"#f0f921\"]],\"type\":\"surface\"}],\"table\":[{\"cells\":{\"fill\":{\"color\":\"#EBF0F8\"},\"line\":{\"color\":\"white\"}},\"header\":{\"fill\":{\"color\":\"#C8D4E3\"},\"line\":{\"color\":\"white\"}},\"type\":\"table\"}]},\"layout\":{\"annotationdefaults\":{\"arrowcolor\":\"#2a3f5f\",\"arrowhead\":0,\"arrowwidth\":1},\"autotypenumbers\":\"strict\",\"coloraxis\":{\"colorbar\":{\"outlinewidth\":0,\"ticks\":\"\"}},\"colorscale\":{\"diverging\":[[0,\"#8e0152\"],[0.1,\"#c51b7d\"],[0.2,\"#de77ae\"],[0.3,\"#f1b6da\"],[0.4,\"#fde0ef\"],[0.5,\"#f7f7f7\"],[0.6,\"#e6f5d0\"],[0.7,\"#b8e186\"],[0.8,\"#7fbc41\"],[0.9,\"#4d9221\"],[1,\"#276419\"]],\"sequential\":[[0.0,\"#0d0887\"],[0.1111111111111111,\"#46039f\"],[0.2222222222222222,\"#7201a8\"],[0.3333333333333333,\"#9c179e\"],[0.4444444444444444,\"#bd3786\"],[0.5555555555555556,\"#d8576b\"],[0.6666666666666666,\"#ed7953\"],[0.7777777777777778,\"#fb9f3a\"],[0.8888888888888888,\"#fdca26\"],[1.0,\"#f0f921\"]],\"sequentialminus\":[[0.0,\"#0d0887\"],[0.1111111111111111,\"#46039f\"],[0.2222222222222222,\"#7201a8\"],[0.3333333333333333,\"#9c179e\"],[0.4444444444444444,\"#bd3786\"],[0.5555555555555556,\"#d8576b\"],[0.6666666666666666,\"#ed7953\"],[0.7777777777777778,\"#fb9f3a\"],[0.8888888888888888,\"#fdca26\"],[1.0,\"#f0f921\"]]},\"colorway\":[\"#636efa\",\"#EF553B\",\"#00cc96\",\"#ab63fa\",\"#FFA15A\",\"#19d3f3\",\"#FF6692\",\"#B6E880\",\"#FF97FF\",\"#FECB52\"],\"font\":{\"color\":\"#2a3f5f\"},\"geo\":{\"bgcolor\":\"white\",\"lakecolor\":\"white\",\"landcolor\":\"#E5ECF6\",\"showlakes\":true,\"showland\":true,\"subunitcolor\":\"white\"},\"hoverlabel\":{\"align\":\"left\"},\"hovermode\":\"closest\",\"mapbox\":{\"style\":\"light\"},\"paper_bgcolor\":\"white\",\"plot_bgcolor\":\"#E5ECF6\",\"polar\":{\"angularaxis\":{\"gridcolor\":\"white\",\"linecolor\":\"white\",\"ticks\":\"\"},\"bgcolor\":\"#E5ECF6\",\"radialaxis\":{\"gridcolor\":\"white\",\"linecolor\":\"white\",\"ticks\":\"\"}},\"scene\":{\"xaxis\":{\"backgroundcolor\":\"#E5ECF6\",\"gridcolor\":\"white\",\"gridwidth\":2,\"linecolor\":\"white\",\"showbackground\":true,\"ticks\":\"\",\"zerolinecolor\":\"white\"},\"yaxis\":{\"backgroundcolor\":\"#E5ECF6\",\"gridcolor\":\"white\",\"gridwidth\":2,\"linecolor\":\"white\",\"showbackground\":true,\"ticks\":\"\",\"zerolinecolor\":\"white\"},\"zaxis\":{\"backgroundcolor\":\"#E5ECF6\",\"gridcolor\":\"white\",\"gridwidth\":2,\"linecolor\":\"white\",\"showbackground\":true,\"ticks\":\"\",\"zerolinecolor\":\"white\"}},\"shapedefaults\":{\"line\":{\"color\":\"#2a3f5f\"}},\"ternary\":{\"aaxis\":{\"gridcolor\":\"white\",\"linecolor\":\"white\",\"ticks\":\"\"},\"baxis\":{\"gridcolor\":\"white\",\"linecolor\":\"white\",\"ticks\":\"\"},\"bgcolor\":\"#E5ECF6\",\"caxis\":{\"gridcolor\":\"white\",\"linecolor\":\"white\",\"ticks\":\"\"}},\"title\":{\"x\":0.05},\"xaxis\":{\"automargin\":true,\"gridcolor\":\"white\",\"linecolor\":\"white\",\"ticks\":\"\",\"title\":{\"standoff\":15},\"zerolinecolor\":\"white\",\"zerolinewidth\":2},\"yaxis\":{\"automargin\":true,\"gridcolor\":\"white\",\"linecolor\":\"white\",\"ticks\":\"\",\"title\":{\"standoff\":15},\"zerolinecolor\":\"white\",\"zerolinewidth\":2}}},\"title\":{\"font\":{\"color\":\"rgb(1,21,51)\",\"size\":30}},\"width\":500,\"xaxis\":{\"range\":[-0.5,2.5],\"showgrid\":true,\"title\":{\"font\":{\"color\":\"rgb(1,21,51)\",\"family\":\"latex\",\"size\":30},\"text\":\"$\\\\large{x}$\"}},\"yaxis\":{\"range\":[-0.5,0.5],\"showgrid\":true,\"title\":{\"font\":{\"color\":\"rgb(1,21,51)\",\"family\":\"latex\",\"size\":30},\"text\":\"$\\\\large{y}$\"}}},                        {\"responsive\": true}                    ).then(function(){\n",
              "                            \n",
              "var gd = document.getElementById('a25ae5b9-064d-40dc-b246-841eb9237a02');\n",
              "var x = new MutationObserver(function (mutations, observer) {{\n",
              "        var display = window.getComputedStyle(gd).display;\n",
              "        if (!display || display === 'none') {{\n",
              "            console.log([gd, 'removed!']);\n",
              "            Plotly.purge(gd);\n",
              "            observer.disconnect();\n",
              "        }}\n",
              "}});\n",
              "\n",
              "// Listen for the removal of the full notebook cells\n",
              "var notebookContainer = gd.closest('#notebook-container');\n",
              "if (notebookContainer) {{\n",
              "    x.observe(notebookContainer, {childList: true});\n",
              "}}\n",
              "\n",
              "// Listen for the clearing of the current output cell\n",
              "var outputEl = gd.closest('.output');\n",
              "if (outputEl) {{\n",
              "    x.observe(outputEl, {childList: true});\n",
              "}}\n",
              "\n",
              "                        })                };                            </script>        </div>\n",
              "</body>\n",
              "</html>"
            ]
          },
          "metadata": {}
        }
      ]
    },
    {
      "cell_type": "markdown",
      "metadata": {
        "id": "HHW4CLCGoia_"
      },
      "source": [
        "#**Vectores bidimensionales**\n",
        "Son vectores $\\vec{V} \\in \\mathbb {R^2}$ y poseen dos componentes, se notan como: \n",
        "\n",
        "$$\\vec{V} =  ( x,y )\\hspace{0.2cm} \\text{donde}    \\hspace{0.2cm} x,y \\in \\mathbb {R}$$\n",
        "\n",
        "###**Ejemplo:** \n",
        "Define el vector  $\\vec{V} = (-2,3) = -2 \\hat{\\imath} + 3 \\hat{\\jmath} $ en SymPy cuya gráfica se presenta a continuación y realiza su gráfica con la función **plotvector2D** del módulo de graficación.\n"
      ]
    },
    {
      "cell_type": "markdown",
      "metadata": {
        "id": "Q91aZzB7oibF"
      },
      "source": [
        "### **Forma 1** ----> *como una matriz columna*"
      ]
    },
    {
      "cell_type": "code",
      "metadata": {
        "colab": {
          "base_uri": "https://localhost:8080/",
          "height": 57
        },
        "id": "OAAiOBL0oibG",
        "outputId": "026192c0-4aa9-4713-f380-bb93a8e5e5e6"
      },
      "source": [
        "V = Matrix([-2,3])\n",
        "V"
      ],
      "execution_count": null,
      "outputs": [
        {
          "output_type": "execute_result",
          "data": {
            "text/latex": "$\\displaystyle \\left[\\begin{matrix}-2\\\\3\\end{matrix}\\right]$",
            "text/plain": [
              "Matrix([\n",
              "[-2],\n",
              "[ 3]])"
            ]
          },
          "metadata": {},
          "execution_count": 41
        }
      ]
    },
    {
      "cell_type": "markdown",
      "metadata": {
        "id": "5A9ZNQnPoibI"
      },
      "source": [
        "### **Forma 2**  ----> *como combinación lineal de vectores unitarios*"
      ]
    },
    {
      "cell_type": "code",
      "metadata": {
        "colab": {
          "base_uri": "https://localhost:8080/",
          "height": 37
        },
        "id": "Ag_boYxpoibJ",
        "outputId": "81960bbe-65f9-4888-a089-885750c775c3"
      },
      "source": [
        "i = e.x\n",
        "j = e.y\n",
        "\n",
        "V = -2*i +3*j\n",
        "V"
      ],
      "execution_count": null,
      "outputs": [
        {
          "output_type": "execute_result",
          "data": {
            "text/latex": "$\\displaystyle - 2\\mathbf{\\hat{e}_x} + 3\\mathbf{\\hat{e}_y}$",
            "text/plain": [
              "- 2*e.x + 3*e.y"
            ]
          },
          "metadata": {},
          "execution_count": 42
        }
      ]
    },
    {
      "cell_type": "markdown",
      "metadata": {
        "id": "9BKy-bxzq8K9"
      },
      "source": [
        "## **Representación gráfica en el plano** "
      ]
    },
    {
      "cell_type": "code",
      "metadata": {
        "colab": {
          "base_uri": "https://localhost:8080/",
          "height": 497
        },
        "id": "-F-8JgIISuZv",
        "outputId": "3e1e5cee-5a45-47cb-b0ad-ef8b9f4b3b96"
      },
      "source": [
        "plotvectors2D([-2,3])"
      ],
      "execution_count": null,
      "outputs": [
        {
          "output_type": "display_data",
          "data": {
            "text/html": [
              "<html>\n",
              "<head><meta charset=\"utf-8\" /></head>\n",
              "<body>\n",
              "    <div>            <script src=\"https://cdnjs.cloudflare.com/ajax/libs/mathjax/2.7.5/MathJax.js?config=TeX-AMS-MML_SVG\"></script><script type=\"text/javascript\">if (window.MathJax) {MathJax.Hub.Config({SVG: {font: \"STIX-Web\"}});}</script>                <script type=\"text/javascript\">window.PlotlyConfig = {MathJaxConfig: 'local'};</script>\n",
              "        <script src=\"https://cdn.plot.ly/plotly-2.2.0.min.js\"></script>                <div id=\"7bb2eb97-2bd8-4f90-a26f-d6e631586020\" class=\"plotly-graph-div\" style=\"height:480px; width:500px;\"></div>            <script type=\"text/javascript\">                                    window.PLOTLYENV=window.PLOTLYENV || {};                                    if (document.getElementById(\"7bb2eb97-2bd8-4f90-a26f-d6e631586020\")) {                    Plotly.newPlot(                        \"7bb2eb97-2bd8-4f90-a26f-d6e631586020\",                        [{\"marker\":{\"color\":\"rgb(57,245,227)\",\"size\":8},\"mode\":\"lines\",\"name\":\"vector 1\",\"showlegend\":true,\"type\":\"scatter\",\"x\":[0,-2],\"y\":[0,3]},{\"marker\":{\"color\":\"#2a3f5f\",\"size\":9},\"mode\":\"markers\",\"name\":\"origen\",\"opacity\":1,\"showlegend\":true,\"type\":\"scatter\",\"x\":[0],\"y\":[0]}],                        {\"annotations\":[{\"arrowcolor\":\"rgb(57,245,227)\",\"arrowhead\":2,\"arrowsize\":1.5,\"arrowwidth\":2.3,\"ax\":0.0,\"axref\":\"x\",\"ay\":0.0,\"ayref\":\"y\",\"name\":\"Markers and Text\",\"showarrow\":true,\"x\":-2,\"xref\":\"x\",\"y\":3,\"yref\":\"y\"},{\"arrowcolor\":\"#2a3f5f\",\"arrowhead\":2,\"arrowwidth\":1.5,\"ax\":-2.54,\"axref\":\"x\",\"ay\":0,\"ayref\":\"y\",\"x\":0.5,\"xref\":\"x\",\"y\":0,\"yref\":\"y\"},{\"arrowcolor\":\"#2a3f5f\",\"arrowhead\":2,\"arrowwidth\":1.5,\"ax\":0,\"axref\":\"x\",\"ay\":-0.54,\"ayref\":\"y\",\"x\":0,\"xref\":\"x\",\"y\":3.5,\"yref\":\"y\"}],\"font\":{\"color\":\"black\",\"family\":\"latex\",\"size\":20},\"height\":480,\"legend\":{\"itemdoubleclick\":\"toggle\",\"orientation\":\"h\",\"x\":1,\"xanchor\":\"right\",\"y\":1.02,\"yanchor\":\"bottom\"},\"showlegend\":true,\"template\":{\"data\":{\"bar\":[{\"error_x\":{\"color\":\"#2a3f5f\"},\"error_y\":{\"color\":\"#2a3f5f\"},\"marker\":{\"line\":{\"color\":\"#E5ECF6\",\"width\":0.5},\"pattern\":{\"fillmode\":\"overlay\",\"size\":10,\"solidity\":0.2}},\"type\":\"bar\"}],\"barpolar\":[{\"marker\":{\"line\":{\"color\":\"#E5ECF6\",\"width\":0.5},\"pattern\":{\"fillmode\":\"overlay\",\"size\":10,\"solidity\":0.2}},\"type\":\"barpolar\"}],\"carpet\":[{\"aaxis\":{\"endlinecolor\":\"#2a3f5f\",\"gridcolor\":\"white\",\"linecolor\":\"white\",\"minorgridcolor\":\"white\",\"startlinecolor\":\"#2a3f5f\"},\"baxis\":{\"endlinecolor\":\"#2a3f5f\",\"gridcolor\":\"white\",\"linecolor\":\"white\",\"minorgridcolor\":\"white\",\"startlinecolor\":\"#2a3f5f\"},\"type\":\"carpet\"}],\"choropleth\":[{\"colorbar\":{\"outlinewidth\":0,\"ticks\":\"\"},\"type\":\"choropleth\"}],\"contour\":[{\"colorbar\":{\"outlinewidth\":0,\"ticks\":\"\"},\"colorscale\":[[0.0,\"#0d0887\"],[0.1111111111111111,\"#46039f\"],[0.2222222222222222,\"#7201a8\"],[0.3333333333333333,\"#9c179e\"],[0.4444444444444444,\"#bd3786\"],[0.5555555555555556,\"#d8576b\"],[0.6666666666666666,\"#ed7953\"],[0.7777777777777778,\"#fb9f3a\"],[0.8888888888888888,\"#fdca26\"],[1.0,\"#f0f921\"]],\"type\":\"contour\"}],\"contourcarpet\":[{\"colorbar\":{\"outlinewidth\":0,\"ticks\":\"\"},\"type\":\"contourcarpet\"}],\"heatmap\":[{\"colorbar\":{\"outlinewidth\":0,\"ticks\":\"\"},\"colorscale\":[[0.0,\"#0d0887\"],[0.1111111111111111,\"#46039f\"],[0.2222222222222222,\"#7201a8\"],[0.3333333333333333,\"#9c179e\"],[0.4444444444444444,\"#bd3786\"],[0.5555555555555556,\"#d8576b\"],[0.6666666666666666,\"#ed7953\"],[0.7777777777777778,\"#fb9f3a\"],[0.8888888888888888,\"#fdca26\"],[1.0,\"#f0f921\"]],\"type\":\"heatmap\"}],\"heatmapgl\":[{\"colorbar\":{\"outlinewidth\":0,\"ticks\":\"\"},\"colorscale\":[[0.0,\"#0d0887\"],[0.1111111111111111,\"#46039f\"],[0.2222222222222222,\"#7201a8\"],[0.3333333333333333,\"#9c179e\"],[0.4444444444444444,\"#bd3786\"],[0.5555555555555556,\"#d8576b\"],[0.6666666666666666,\"#ed7953\"],[0.7777777777777778,\"#fb9f3a\"],[0.8888888888888888,\"#fdca26\"],[1.0,\"#f0f921\"]],\"type\":\"heatmapgl\"}],\"histogram\":[{\"marker\":{\"pattern\":{\"fillmode\":\"overlay\",\"size\":10,\"solidity\":0.2}},\"type\":\"histogram\"}],\"histogram2d\":[{\"colorbar\":{\"outlinewidth\":0,\"ticks\":\"\"},\"colorscale\":[[0.0,\"#0d0887\"],[0.1111111111111111,\"#46039f\"],[0.2222222222222222,\"#7201a8\"],[0.3333333333333333,\"#9c179e\"],[0.4444444444444444,\"#bd3786\"],[0.5555555555555556,\"#d8576b\"],[0.6666666666666666,\"#ed7953\"],[0.7777777777777778,\"#fb9f3a\"],[0.8888888888888888,\"#fdca26\"],[1.0,\"#f0f921\"]],\"type\":\"histogram2d\"}],\"histogram2dcontour\":[{\"colorbar\":{\"outlinewidth\":0,\"ticks\":\"\"},\"colorscale\":[[0.0,\"#0d0887\"],[0.1111111111111111,\"#46039f\"],[0.2222222222222222,\"#7201a8\"],[0.3333333333333333,\"#9c179e\"],[0.4444444444444444,\"#bd3786\"],[0.5555555555555556,\"#d8576b\"],[0.6666666666666666,\"#ed7953\"],[0.7777777777777778,\"#fb9f3a\"],[0.8888888888888888,\"#fdca26\"],[1.0,\"#f0f921\"]],\"type\":\"histogram2dcontour\"}],\"mesh3d\":[{\"colorbar\":{\"outlinewidth\":0,\"ticks\":\"\"},\"type\":\"mesh3d\"}],\"parcoords\":[{\"line\":{\"colorbar\":{\"outlinewidth\":0,\"ticks\":\"\"}},\"type\":\"parcoords\"}],\"pie\":[{\"automargin\":true,\"type\":\"pie\"}],\"scatter\":[{\"marker\":{\"colorbar\":{\"outlinewidth\":0,\"ticks\":\"\"}},\"type\":\"scatter\"}],\"scatter3d\":[{\"line\":{\"colorbar\":{\"outlinewidth\":0,\"ticks\":\"\"}},\"marker\":{\"colorbar\":{\"outlinewidth\":0,\"ticks\":\"\"}},\"type\":\"scatter3d\"}],\"scattercarpet\":[{\"marker\":{\"colorbar\":{\"outlinewidth\":0,\"ticks\":\"\"}},\"type\":\"scattercarpet\"}],\"scattergeo\":[{\"marker\":{\"colorbar\":{\"outlinewidth\":0,\"ticks\":\"\"}},\"type\":\"scattergeo\"}],\"scattergl\":[{\"marker\":{\"colorbar\":{\"outlinewidth\":0,\"ticks\":\"\"}},\"type\":\"scattergl\"}],\"scattermapbox\":[{\"marker\":{\"colorbar\":{\"outlinewidth\":0,\"ticks\":\"\"}},\"type\":\"scattermapbox\"}],\"scatterpolar\":[{\"marker\":{\"colorbar\":{\"outlinewidth\":0,\"ticks\":\"\"}},\"type\":\"scatterpolar\"}],\"scatterpolargl\":[{\"marker\":{\"colorbar\":{\"outlinewidth\":0,\"ticks\":\"\"}},\"type\":\"scatterpolargl\"}],\"scatterternary\":[{\"marker\":{\"colorbar\":{\"outlinewidth\":0,\"ticks\":\"\"}},\"type\":\"scatterternary\"}],\"surface\":[{\"colorbar\":{\"outlinewidth\":0,\"ticks\":\"\"},\"colorscale\":[[0.0,\"#0d0887\"],[0.1111111111111111,\"#46039f\"],[0.2222222222222222,\"#7201a8\"],[0.3333333333333333,\"#9c179e\"],[0.4444444444444444,\"#bd3786\"],[0.5555555555555556,\"#d8576b\"],[0.6666666666666666,\"#ed7953\"],[0.7777777777777778,\"#fb9f3a\"],[0.8888888888888888,\"#fdca26\"],[1.0,\"#f0f921\"]],\"type\":\"surface\"}],\"table\":[{\"cells\":{\"fill\":{\"color\":\"#EBF0F8\"},\"line\":{\"color\":\"white\"}},\"header\":{\"fill\":{\"color\":\"#C8D4E3\"},\"line\":{\"color\":\"white\"}},\"type\":\"table\"}]},\"layout\":{\"annotationdefaults\":{\"arrowcolor\":\"#2a3f5f\",\"arrowhead\":0,\"arrowwidth\":1},\"autotypenumbers\":\"strict\",\"coloraxis\":{\"colorbar\":{\"outlinewidth\":0,\"ticks\":\"\"}},\"colorscale\":{\"diverging\":[[0,\"#8e0152\"],[0.1,\"#c51b7d\"],[0.2,\"#de77ae\"],[0.3,\"#f1b6da\"],[0.4,\"#fde0ef\"],[0.5,\"#f7f7f7\"],[0.6,\"#e6f5d0\"],[0.7,\"#b8e186\"],[0.8,\"#7fbc41\"],[0.9,\"#4d9221\"],[1,\"#276419\"]],\"sequential\":[[0.0,\"#0d0887\"],[0.1111111111111111,\"#46039f\"],[0.2222222222222222,\"#7201a8\"],[0.3333333333333333,\"#9c179e\"],[0.4444444444444444,\"#bd3786\"],[0.5555555555555556,\"#d8576b\"],[0.6666666666666666,\"#ed7953\"],[0.7777777777777778,\"#fb9f3a\"],[0.8888888888888888,\"#fdca26\"],[1.0,\"#f0f921\"]],\"sequentialminus\":[[0.0,\"#0d0887\"],[0.1111111111111111,\"#46039f\"],[0.2222222222222222,\"#7201a8\"],[0.3333333333333333,\"#9c179e\"],[0.4444444444444444,\"#bd3786\"],[0.5555555555555556,\"#d8576b\"],[0.6666666666666666,\"#ed7953\"],[0.7777777777777778,\"#fb9f3a\"],[0.8888888888888888,\"#fdca26\"],[1.0,\"#f0f921\"]]},\"colorway\":[\"#636efa\",\"#EF553B\",\"#00cc96\",\"#ab63fa\",\"#FFA15A\",\"#19d3f3\",\"#FF6692\",\"#B6E880\",\"#FF97FF\",\"#FECB52\"],\"font\":{\"color\":\"#2a3f5f\"},\"geo\":{\"bgcolor\":\"white\",\"lakecolor\":\"white\",\"landcolor\":\"#E5ECF6\",\"showlakes\":true,\"showland\":true,\"subunitcolor\":\"white\"},\"hoverlabel\":{\"align\":\"left\"},\"hovermode\":\"closest\",\"mapbox\":{\"style\":\"light\"},\"paper_bgcolor\":\"white\",\"plot_bgcolor\":\"#E5ECF6\",\"polar\":{\"angularaxis\":{\"gridcolor\":\"white\",\"linecolor\":\"white\",\"ticks\":\"\"},\"bgcolor\":\"#E5ECF6\",\"radialaxis\":{\"gridcolor\":\"white\",\"linecolor\":\"white\",\"ticks\":\"\"}},\"scene\":{\"xaxis\":{\"backgroundcolor\":\"#E5ECF6\",\"gridcolor\":\"white\",\"gridwidth\":2,\"linecolor\":\"white\",\"showbackground\":true,\"ticks\":\"\",\"zerolinecolor\":\"white\"},\"yaxis\":{\"backgroundcolor\":\"#E5ECF6\",\"gridcolor\":\"white\",\"gridwidth\":2,\"linecolor\":\"white\",\"showbackground\":true,\"ticks\":\"\",\"zerolinecolor\":\"white\"},\"zaxis\":{\"backgroundcolor\":\"#E5ECF6\",\"gridcolor\":\"white\",\"gridwidth\":2,\"linecolor\":\"white\",\"showbackground\":true,\"ticks\":\"\",\"zerolinecolor\":\"white\"}},\"shapedefaults\":{\"line\":{\"color\":\"#2a3f5f\"}},\"ternary\":{\"aaxis\":{\"gridcolor\":\"white\",\"linecolor\":\"white\",\"ticks\":\"\"},\"baxis\":{\"gridcolor\":\"white\",\"linecolor\":\"white\",\"ticks\":\"\"},\"bgcolor\":\"#E5ECF6\",\"caxis\":{\"gridcolor\":\"white\",\"linecolor\":\"white\",\"ticks\":\"\"}},\"title\":{\"x\":0.05},\"xaxis\":{\"automargin\":true,\"gridcolor\":\"white\",\"linecolor\":\"white\",\"ticks\":\"\",\"title\":{\"standoff\":15},\"zerolinecolor\":\"white\",\"zerolinewidth\":2},\"yaxis\":{\"automargin\":true,\"gridcolor\":\"white\",\"linecolor\":\"white\",\"ticks\":\"\",\"title\":{\"standoff\":15},\"zerolinecolor\":\"white\",\"zerolinewidth\":2}}},\"title\":{\"font\":{\"color\":\"rgb(1,21,51)\",\"size\":30}},\"width\":500,\"xaxis\":{\"range\":[-2.5,0.5],\"showgrid\":true,\"title\":{\"font\":{\"color\":\"rgb(1,21,51)\",\"family\":\"latex\",\"size\":30},\"text\":\"$\\\\large{x}$\"}},\"yaxis\":{\"range\":[-0.5,3.5],\"showgrid\":true,\"title\":{\"font\":{\"color\":\"rgb(1,21,51)\",\"family\":\"latex\",\"size\":30},\"text\":\"$\\\\large{y}$\"}}},                        {\"responsive\": true}                    ).then(function(){\n",
              "                            \n",
              "var gd = document.getElementById('7bb2eb97-2bd8-4f90-a26f-d6e631586020');\n",
              "var x = new MutationObserver(function (mutations, observer) {{\n",
              "        var display = window.getComputedStyle(gd).display;\n",
              "        if (!display || display === 'none') {{\n",
              "            console.log([gd, 'removed!']);\n",
              "            Plotly.purge(gd);\n",
              "            observer.disconnect();\n",
              "        }}\n",
              "}});\n",
              "\n",
              "// Listen for the removal of the full notebook cells\n",
              "var notebookContainer = gd.closest('#notebook-container');\n",
              "if (notebookContainer) {{\n",
              "    x.observe(notebookContainer, {childList: true});\n",
              "}}\n",
              "\n",
              "// Listen for the clearing of the current output cell\n",
              "var outputEl = gd.closest('.output');\n",
              "if (outputEl) {{\n",
              "    x.observe(outputEl, {childList: true});\n",
              "}}\n",
              "\n",
              "                        })                };                            </script>        </div>\n",
              "</body>\n",
              "</html>"
            ]
          },
          "metadata": {}
        }
      ]
    },
    {
      "cell_type": "markdown",
      "metadata": {
        "id": "h-y1jk6LvvFW"
      },
      "source": [
        "#**Vectores tridimensionales**\n",
        "Son vectores $\\vec{V} \\in V_3$ y poseen tres componentes, se notan como: \n",
        "\n",
        "$$\\vec{V} = ( x,y,z ) \\hspace{0.2cm} \\text{donde}    \\hspace{0.2cm} x,y,z \\in \\mathbb {R}$$\n",
        "\n",
        "###**Ejemplo:** \n",
        "Define el vector  $\\vec{V} = ( 1,2,3 ) = 1 \\hat{\\imath} + 2 \\hat{\\jmath} +3\\hat{k} $ en SymPy y realiza su gráfica con la función **plotvectors3D** del módulo de graficación."
      ]
    },
    {
      "cell_type": "markdown",
      "metadata": {
        "id": "EhY6npk_vvFZ"
      },
      "source": [
        "### **Forma 1** ----> *como una matriz columna*"
      ]
    },
    {
      "cell_type": "code",
      "metadata": {
        "colab": {
          "base_uri": "https://localhost:8080/",
          "height": 78
        },
        "id": "TBRuq8IFvvFa",
        "outputId": "83880c98-0a90-4fe3-f255-93c0e9a3f3de"
      },
      "source": [
        "V = Matrix([1,2,3])\n",
        "V"
      ],
      "execution_count": null,
      "outputs": [
        {
          "output_type": "execute_result",
          "data": {
            "text/latex": "$\\displaystyle \\left[\\begin{matrix}1\\\\2\\\\3\\end{matrix}\\right]$",
            "text/plain": [
              "Matrix([\n",
              "[1],\n",
              "[2],\n",
              "[3]])"
            ]
          },
          "metadata": {},
          "execution_count": 44
        }
      ]
    },
    {
      "cell_type": "markdown",
      "metadata": {
        "id": "tRUkFYQzvvFc"
      },
      "source": [
        "### **Forma 2**  ----> *como combinación lineal de vectores unitarios*"
      ]
    },
    {
      "cell_type": "code",
      "metadata": {
        "colab": {
          "base_uri": "https://localhost:8080/",
          "height": 37
        },
        "id": "kQlJ2uw9vvFd",
        "outputId": "9b104bc1-5ce2-4f9a-809c-4acb83c2504f"
      },
      "source": [
        "i = e.x\n",
        "j = e.y\n",
        "k = e.z\n",
        "\n",
        "V = 1*i +2*j +3*k\n",
        "V"
      ],
      "execution_count": null,
      "outputs": [
        {
          "output_type": "execute_result",
          "data": {
            "text/latex": "$\\displaystyle \\mathbf{\\hat{e}_x} + 2\\mathbf{\\hat{e}_y} + 3\\mathbf{\\hat{e}_z}$",
            "text/plain": [
              "e.x + 2*e.y + 3*e.z"
            ]
          },
          "metadata": {},
          "execution_count": 45
        }
      ]
    },
    {
      "cell_type": "markdown",
      "metadata": {
        "id": "0A52PSpXH5wE"
      },
      "source": [
        "## **Representación gráfica en el espacio** "
      ]
    },
    {
      "cell_type": "code",
      "metadata": {
        "colab": {
          "base_uri": "https://localhost:8080/",
          "height": 497
        },
        "id": "pKF2-kJGH5wV",
        "outputId": "0c0afd77-a5df-42e5-fbe6-2ffebeaee4b6"
      },
      "source": [
        "plotvectors3D([1,2,3])"
      ],
      "execution_count": 13,
      "outputs": [
        {
          "output_type": "display_data",
          "data": {
            "text/html": [
              "<html>\n",
              "<head><meta charset=\"utf-8\" /></head>\n",
              "<body>\n",
              "    <div>            <script src=\"https://cdnjs.cloudflare.com/ajax/libs/mathjax/2.7.5/MathJax.js?config=TeX-AMS-MML_SVG\"></script><script type=\"text/javascript\">if (window.MathJax) {MathJax.Hub.Config({SVG: {font: \"STIX-Web\"}});}</script>                <script type=\"text/javascript\">window.PlotlyConfig = {MathJaxConfig: 'local'};</script>\n",
              "        <script src=\"https://cdn.plot.ly/plotly-2.2.0.min.js\"></script>                <div id=\"d814e173-2b28-4da5-b4d3-5bbd67a6c70e\" class=\"plotly-graph-div\" style=\"height:480px; width:480px;\"></div>            <script type=\"text/javascript\">                                    window.PLOTLYENV=window.PLOTLYENV || {};                                    if (document.getElementById(\"d814e173-2b28-4da5-b4d3-5bbd67a6c70e\")) {                    Plotly.newPlot(                        \"d814e173-2b28-4da5-b4d3-5bbd67a6c70e\",                        [{\"line\":{\"color\":\"rgb(225,92,200)\",\"width\":7},\"marker\":{\"color\":\"rgb(225,92,200)\",\"size\":1},\"name\":\"vector 1\",\"type\":\"scatter3d\",\"x\":[0,1],\"y\":[0,2],\"z\":[0,3]},{\"anchor\":\"cm\",\"colorbar\":{\"thickness\":20,\"ticklen\":4},\"colorscale\":[[0,\"rgb(225,92,200)\"],[1,\"rgb(225,92,200)\"]],\"name\":\"vector 1\",\"showscale\":false,\"sizemode\":\"absolute\",\"sizeref\":0.2,\"type\":\"cone\",\"u\":[1],\"v\":[2],\"w\":[3],\"x\":[1],\"y\":[2],\"z\":[3]},{\"marker\":{\"color\":\"#2a3f5f\",\"size\":5},\"mode\":\"markers\",\"name\":\"origen\",\"showlegend\":true,\"type\":\"scatter3d\",\"x\":[0],\"y\":[0],\"z\":[0]},{\"hoverinfo\":\"skip\",\"line\":{\"color\":\"#2a3f5f\",\"width\":3},\"marker\":{\"color\":\"#2a3f5f\",\"size\":1},\"name\":\"\",\"showlegend\":false,\"type\":\"scatter3d\",\"x\":[-0.2,1.2],\"y\":[0,0],\"z\":[0,0]},{\"anchor\":\"cm\",\"colorbar\":{\"thickness\":20,\"ticklen\":4},\"colorscale\":[[0,\"#2a3f5f\"],[1,\"#2a3f5f\"]],\"hoverinfo\":\"name\",\"name\":\"Eje x-positivo\",\"showscale\":false,\"sizemode\":\"absolute\",\"sizeref\":0.12,\"type\":\"cone\",\"u\":[1.2],\"v\":[0],\"w\":[0],\"x\":[1.2],\"y\":[0],\"z\":[0]},{\"hoverinfo\":\"skip\",\"line\":{\"color\":\"#2a3f5f\",\"width\":3},\"marker\":{\"color\":\"#2a3f5f\",\"size\":1},\"name\":\"\",\"showlegend\":false,\"type\":\"scatter3d\",\"x\":[0,0],\"y\":[-0.2,2.2],\"z\":[0,0]},{\"anchor\":\"cm\",\"colorbar\":{\"thickness\":20,\"ticklen\":4},\"colorscale\":[[0,\"#2a3f5f\"],[1,\"#2a3f5f\"]],\"hoverinfo\":\"name\",\"name\":\"Eje y-positivo \",\"showscale\":false,\"sizemode\":\"absolute\",\"sizeref\":0.12,\"type\":\"cone\",\"u\":[0],\"v\":[2.2],\"w\":[0],\"x\":[0],\"y\":[2.2],\"z\":[0]},{\"hoverinfo\":\"skip\",\"line\":{\"color\":\"#2a3f5f\",\"width\":3},\"marker\":{\"color\":\"#2a3f5f\",\"size\":1},\"name\":\"eje z-positivo\",\"showlegend\":false,\"type\":\"scatter3d\",\"x\":[0,0],\"y\":[0,0],\"z\":[-0.5,3.2]},{\"anchor\":\"cm\",\"colorbar\":{\"thickness\":20,\"ticklen\":4},\"colorscale\":[[0,\"#2a3f5f\"],[1,\"#2a3f5f\"]],\"hoverinfo\":\"name\",\"name\":\"Eje z-positivo\",\"showscale\":false,\"sizemode\":\"absolute\",\"sizeref\":0.12,\"type\":\"cone\",\"u\":[0],\"v\":[0],\"w\":[3.2],\"x\":[0],\"y\":[0],\"z\":[3.2]}],                        {\"height\":480,\"legend\":{\"orientation\":\"h\",\"x\":0.03,\"y\":1.3},\"margin\":{\"b\":0,\"l\":0,\"r\":0,\"t\":0},\"showlegend\":true,\"template\":{\"data\":{\"bar\":[{\"error_x\":{\"color\":\"#2a3f5f\"},\"error_y\":{\"color\":\"#2a3f5f\"},\"marker\":{\"line\":{\"color\":\"#E5ECF6\",\"width\":0.5},\"pattern\":{\"fillmode\":\"overlay\",\"size\":10,\"solidity\":0.2}},\"type\":\"bar\"}],\"barpolar\":[{\"marker\":{\"line\":{\"color\":\"#E5ECF6\",\"width\":0.5},\"pattern\":{\"fillmode\":\"overlay\",\"size\":10,\"solidity\":0.2}},\"type\":\"barpolar\"}],\"carpet\":[{\"aaxis\":{\"endlinecolor\":\"#2a3f5f\",\"gridcolor\":\"white\",\"linecolor\":\"white\",\"minorgridcolor\":\"white\",\"startlinecolor\":\"#2a3f5f\"},\"baxis\":{\"endlinecolor\":\"#2a3f5f\",\"gridcolor\":\"white\",\"linecolor\":\"white\",\"minorgridcolor\":\"white\",\"startlinecolor\":\"#2a3f5f\"},\"type\":\"carpet\"}],\"choropleth\":[{\"colorbar\":{\"outlinewidth\":0,\"ticks\":\"\"},\"type\":\"choropleth\"}],\"contour\":[{\"colorbar\":{\"outlinewidth\":0,\"ticks\":\"\"},\"colorscale\":[[0.0,\"#0d0887\"],[0.1111111111111111,\"#46039f\"],[0.2222222222222222,\"#7201a8\"],[0.3333333333333333,\"#9c179e\"],[0.4444444444444444,\"#bd3786\"],[0.5555555555555556,\"#d8576b\"],[0.6666666666666666,\"#ed7953\"],[0.7777777777777778,\"#fb9f3a\"],[0.8888888888888888,\"#fdca26\"],[1.0,\"#f0f921\"]],\"type\":\"contour\"}],\"contourcarpet\":[{\"colorbar\":{\"outlinewidth\":0,\"ticks\":\"\"},\"type\":\"contourcarpet\"}],\"heatmap\":[{\"colorbar\":{\"outlinewidth\":0,\"ticks\":\"\"},\"colorscale\":[[0.0,\"#0d0887\"],[0.1111111111111111,\"#46039f\"],[0.2222222222222222,\"#7201a8\"],[0.3333333333333333,\"#9c179e\"],[0.4444444444444444,\"#bd3786\"],[0.5555555555555556,\"#d8576b\"],[0.6666666666666666,\"#ed7953\"],[0.7777777777777778,\"#fb9f3a\"],[0.8888888888888888,\"#fdca26\"],[1.0,\"#f0f921\"]],\"type\":\"heatmap\"}],\"heatmapgl\":[{\"colorbar\":{\"outlinewidth\":0,\"ticks\":\"\"},\"colorscale\":[[0.0,\"#0d0887\"],[0.1111111111111111,\"#46039f\"],[0.2222222222222222,\"#7201a8\"],[0.3333333333333333,\"#9c179e\"],[0.4444444444444444,\"#bd3786\"],[0.5555555555555556,\"#d8576b\"],[0.6666666666666666,\"#ed7953\"],[0.7777777777777778,\"#fb9f3a\"],[0.8888888888888888,\"#fdca26\"],[1.0,\"#f0f921\"]],\"type\":\"heatmapgl\"}],\"histogram\":[{\"marker\":{\"pattern\":{\"fillmode\":\"overlay\",\"size\":10,\"solidity\":0.2}},\"type\":\"histogram\"}],\"histogram2d\":[{\"colorbar\":{\"outlinewidth\":0,\"ticks\":\"\"},\"colorscale\":[[0.0,\"#0d0887\"],[0.1111111111111111,\"#46039f\"],[0.2222222222222222,\"#7201a8\"],[0.3333333333333333,\"#9c179e\"],[0.4444444444444444,\"#bd3786\"],[0.5555555555555556,\"#d8576b\"],[0.6666666666666666,\"#ed7953\"],[0.7777777777777778,\"#fb9f3a\"],[0.8888888888888888,\"#fdca26\"],[1.0,\"#f0f921\"]],\"type\":\"histogram2d\"}],\"histogram2dcontour\":[{\"colorbar\":{\"outlinewidth\":0,\"ticks\":\"\"},\"colorscale\":[[0.0,\"#0d0887\"],[0.1111111111111111,\"#46039f\"],[0.2222222222222222,\"#7201a8\"],[0.3333333333333333,\"#9c179e\"],[0.4444444444444444,\"#bd3786\"],[0.5555555555555556,\"#d8576b\"],[0.6666666666666666,\"#ed7953\"],[0.7777777777777778,\"#fb9f3a\"],[0.8888888888888888,\"#fdca26\"],[1.0,\"#f0f921\"]],\"type\":\"histogram2dcontour\"}],\"mesh3d\":[{\"colorbar\":{\"outlinewidth\":0,\"ticks\":\"\"},\"type\":\"mesh3d\"}],\"parcoords\":[{\"line\":{\"colorbar\":{\"outlinewidth\":0,\"ticks\":\"\"}},\"type\":\"parcoords\"}],\"pie\":[{\"automargin\":true,\"type\":\"pie\"}],\"scatter\":[{\"marker\":{\"colorbar\":{\"outlinewidth\":0,\"ticks\":\"\"}},\"type\":\"scatter\"}],\"scatter3d\":[{\"line\":{\"colorbar\":{\"outlinewidth\":0,\"ticks\":\"\"}},\"marker\":{\"colorbar\":{\"outlinewidth\":0,\"ticks\":\"\"}},\"type\":\"scatter3d\"}],\"scattercarpet\":[{\"marker\":{\"colorbar\":{\"outlinewidth\":0,\"ticks\":\"\"}},\"type\":\"scattercarpet\"}],\"scattergeo\":[{\"marker\":{\"colorbar\":{\"outlinewidth\":0,\"ticks\":\"\"}},\"type\":\"scattergeo\"}],\"scattergl\":[{\"marker\":{\"colorbar\":{\"outlinewidth\":0,\"ticks\":\"\"}},\"type\":\"scattergl\"}],\"scattermapbox\":[{\"marker\":{\"colorbar\":{\"outlinewidth\":0,\"ticks\":\"\"}},\"type\":\"scattermapbox\"}],\"scatterpolar\":[{\"marker\":{\"colorbar\":{\"outlinewidth\":0,\"ticks\":\"\"}},\"type\":\"scatterpolar\"}],\"scatterpolargl\":[{\"marker\":{\"colorbar\":{\"outlinewidth\":0,\"ticks\":\"\"}},\"type\":\"scatterpolargl\"}],\"scatterternary\":[{\"marker\":{\"colorbar\":{\"outlinewidth\":0,\"ticks\":\"\"}},\"type\":\"scatterternary\"}],\"surface\":[{\"colorbar\":{\"outlinewidth\":0,\"ticks\":\"\"},\"colorscale\":[[0.0,\"#0d0887\"],[0.1111111111111111,\"#46039f\"],[0.2222222222222222,\"#7201a8\"],[0.3333333333333333,\"#9c179e\"],[0.4444444444444444,\"#bd3786\"],[0.5555555555555556,\"#d8576b\"],[0.6666666666666666,\"#ed7953\"],[0.7777777777777778,\"#fb9f3a\"],[0.8888888888888888,\"#fdca26\"],[1.0,\"#f0f921\"]],\"type\":\"surface\"}],\"table\":[{\"cells\":{\"fill\":{\"color\":\"#EBF0F8\"},\"line\":{\"color\":\"white\"}},\"header\":{\"fill\":{\"color\":\"#C8D4E3\"},\"line\":{\"color\":\"white\"}},\"type\":\"table\"}]},\"layout\":{\"annotationdefaults\":{\"arrowcolor\":\"#2a3f5f\",\"arrowhead\":0,\"arrowwidth\":1},\"autotypenumbers\":\"strict\",\"coloraxis\":{\"colorbar\":{\"outlinewidth\":0,\"ticks\":\"\"}},\"colorscale\":{\"diverging\":[[0,\"#8e0152\"],[0.1,\"#c51b7d\"],[0.2,\"#de77ae\"],[0.3,\"#f1b6da\"],[0.4,\"#fde0ef\"],[0.5,\"#f7f7f7\"],[0.6,\"#e6f5d0\"],[0.7,\"#b8e186\"],[0.8,\"#7fbc41\"],[0.9,\"#4d9221\"],[1,\"#276419\"]],\"sequential\":[[0.0,\"#0d0887\"],[0.1111111111111111,\"#46039f\"],[0.2222222222222222,\"#7201a8\"],[0.3333333333333333,\"#9c179e\"],[0.4444444444444444,\"#bd3786\"],[0.5555555555555556,\"#d8576b\"],[0.6666666666666666,\"#ed7953\"],[0.7777777777777778,\"#fb9f3a\"],[0.8888888888888888,\"#fdca26\"],[1.0,\"#f0f921\"]],\"sequentialminus\":[[0.0,\"#0d0887\"],[0.1111111111111111,\"#46039f\"],[0.2222222222222222,\"#7201a8\"],[0.3333333333333333,\"#9c179e\"],[0.4444444444444444,\"#bd3786\"],[0.5555555555555556,\"#d8576b\"],[0.6666666666666666,\"#ed7953\"],[0.7777777777777778,\"#fb9f3a\"],[0.8888888888888888,\"#fdca26\"],[1.0,\"#f0f921\"]]},\"colorway\":[\"#636efa\",\"#EF553B\",\"#00cc96\",\"#ab63fa\",\"#FFA15A\",\"#19d3f3\",\"#FF6692\",\"#B6E880\",\"#FF97FF\",\"#FECB52\"],\"font\":{\"color\":\"#2a3f5f\"},\"geo\":{\"bgcolor\":\"white\",\"lakecolor\":\"white\",\"landcolor\":\"#E5ECF6\",\"showlakes\":true,\"showland\":true,\"subunitcolor\":\"white\"},\"hoverlabel\":{\"align\":\"left\"},\"hovermode\":\"closest\",\"mapbox\":{\"style\":\"light\"},\"paper_bgcolor\":\"white\",\"plot_bgcolor\":\"#E5ECF6\",\"polar\":{\"angularaxis\":{\"gridcolor\":\"white\",\"linecolor\":\"white\",\"ticks\":\"\"},\"bgcolor\":\"#E5ECF6\",\"radialaxis\":{\"gridcolor\":\"white\",\"linecolor\":\"white\",\"ticks\":\"\"}},\"scene\":{\"xaxis\":{\"backgroundcolor\":\"#E5ECF6\",\"gridcolor\":\"white\",\"gridwidth\":2,\"linecolor\":\"white\",\"showbackground\":true,\"ticks\":\"\",\"zerolinecolor\":\"white\"},\"yaxis\":{\"backgroundcolor\":\"#E5ECF6\",\"gridcolor\":\"white\",\"gridwidth\":2,\"linecolor\":\"white\",\"showbackground\":true,\"ticks\":\"\",\"zerolinecolor\":\"white\"},\"zaxis\":{\"backgroundcolor\":\"#E5ECF6\",\"gridcolor\":\"white\",\"gridwidth\":2,\"linecolor\":\"white\",\"showbackground\":true,\"ticks\":\"\",\"zerolinecolor\":\"white\"}},\"shapedefaults\":{\"line\":{\"color\":\"#2a3f5f\"}},\"ternary\":{\"aaxis\":{\"gridcolor\":\"white\",\"linecolor\":\"white\",\"ticks\":\"\"},\"baxis\":{\"gridcolor\":\"white\",\"linecolor\":\"white\",\"ticks\":\"\"},\"bgcolor\":\"#E5ECF6\",\"caxis\":{\"gridcolor\":\"white\",\"linecolor\":\"white\",\"ticks\":\"\"}},\"title\":{\"x\":0.05},\"xaxis\":{\"automargin\":true,\"gridcolor\":\"white\",\"linecolor\":\"white\",\"ticks\":\"\",\"title\":{\"standoff\":15},\"zerolinecolor\":\"white\",\"zerolinewidth\":2},\"yaxis\":{\"automargin\":true,\"gridcolor\":\"white\",\"linecolor\":\"white\",\"ticks\":\"\",\"title\":{\"standoff\":15},\"zerolinecolor\":\"white\",\"zerolinewidth\":2}}},\"title\":{\"font\":{\"color\":\"rgb(1,21,51)\",\"size\":50}},\"width\":480},                        {\"responsive\": true}                    ).then(function(){\n",
              "                            \n",
              "var gd = document.getElementById('d814e173-2b28-4da5-b4d3-5bbd67a6c70e');\n",
              "var x = new MutationObserver(function (mutations, observer) {{\n",
              "        var display = window.getComputedStyle(gd).display;\n",
              "        if (!display || display === 'none') {{\n",
              "            console.log([gd, 'removed!']);\n",
              "            Plotly.purge(gd);\n",
              "            observer.disconnect();\n",
              "        }}\n",
              "}});\n",
              "\n",
              "// Listen for the removal of the full notebook cells\n",
              "var notebookContainer = gd.closest('#notebook-container');\n",
              "if (notebookContainer) {{\n",
              "    x.observe(notebookContainer, {childList: true});\n",
              "}}\n",
              "\n",
              "// Listen for the clearing of the current output cell\n",
              "var outputEl = gd.closest('.output');\n",
              "if (outputEl) {{\n",
              "    x.observe(outputEl, {childList: true});\n",
              "}}\n",
              "\n",
              "                        })                };                            </script>        </div>\n",
              "</body>\n",
              "</html>"
            ]
          },
          "metadata": {}
        }
      ]
    },
    {
      "cell_type": "markdown",
      "metadata": {
        "id": "7XkgUlQS5GgC"
      },
      "source": [
        "#**Vectores $n$ dimensionales**\n",
        "Son vectores $\\vec{V} \\in V_n$ con $n > 3$, se notan como: \n",
        "\n",
        "$$\\vec{V} =  ( x_1,x_2,\\cdots ,x_n ) \\hspace{0.2cm} \\text{donde}    \\hspace{0.2cm} x_i \\in \\mathbb {R}$$\n",
        "\n",
        "###**Ejemplo:** \n",
        "Define el vector  $\\vec{V} = ( 1,2,3,4,5) $ en SymPy."
      ]
    },
    {
      "cell_type": "markdown",
      "metadata": {
        "id": "JhmH1EpT5GgH"
      },
      "source": [
        "### **Forma 1:** ----> *como una matriz columna*"
      ]
    },
    {
      "cell_type": "code",
      "metadata": {
        "colab": {
          "base_uri": "https://localhost:8080/",
          "height": 119
        },
        "id": "IOnXruOb5GgI",
        "outputId": "38e0ebd7-9990-4643-abae-d280efc293c2"
      },
      "source": [
        "V = Matrix([1,2,3,4,5])\n",
        "V"
      ],
      "execution_count": null,
      "outputs": [
        {
          "output_type": "execute_result",
          "data": {
            "text/latex": "$\\displaystyle \\left[\\begin{matrix}1\\\\2\\\\3\\\\4\\\\5\\end{matrix}\\right]$",
            "text/plain": [
              "Matrix([\n",
              "[1],\n",
              "[2],\n",
              "[3],\n",
              "[4],\n",
              "[5]])"
            ]
          },
          "metadata": {
            "tags": []
          },
          "execution_count": 43
        }
      ]
    },
    {
      "cell_type": "markdown",
      "metadata": {
        "id": "iE-pvRZfHCOV"
      },
      "source": [
        "# **Magnitud, norma o módulo de un vector**\n",
        "\n",
        "Sea  $\\vec{V} \\in \\mathbb {R^{n}}$ de la forma $\\vec{V} = (x_1,x_2 \\cdots,x_n)$ el **módulo**, la **norma** o **magnitud** del vector se define y se nota como:\n",
        "\n",
        "$$||V||= \\sqrt{x_1^2+x_2^2+\\cdots+x_{n-1}^2+x_{n}^2}$$\n",
        "\n",
        "Cuando $n\\leq 3$ la **norma** conincide con la longitud del vector en su **representación gráfica**.\n",
        "\n",
        "##**Ejemplo 1:**\n",
        "\n",
        "Halla la **norma** del vector representado en la figura:\n",
        "\n",
        "<center><img src=\"https://github.com/josorio398/ALGEBRA-LINEAL-CON-PYTHON/blob/master/im%C3%A1genes%20repositorio/magnitud1.png?raw=true\"  height=\"120\" />\n",
        "\n",
        "\n",
        "\n"
      ]
    },
    {
      "cell_type": "markdown",
      "metadata": {
        "id": "BXzFfYnc7v0t"
      },
      "source": [
        "###**Forma 1** ----> *usando el método norm( ) de módulo sympy*"
      ]
    },
    {
      "cell_type": "code",
      "metadata": {
        "colab": {
          "base_uri": "https://localhost:8080/",
          "height": 36
        },
        "id": "Ck1-yYOgrYRb",
        "outputId": "8fe17166-4284-4bd0-9830-a332d8b3062c"
      },
      "source": [
        "V = Matrix([2])\n",
        "V.norm()"
      ],
      "execution_count": null,
      "outputs": [
        {
          "output_type": "execute_result",
          "data": {
            "text/latex": "$\\displaystyle 2$",
            "text/plain": [
              "2"
            ]
          },
          "metadata": {},
          "execution_count": 47
        }
      ]
    },
    {
      "cell_type": "markdown",
      "metadata": {
        "id": "E9C_owmi79iz"
      },
      "source": [
        "###**Forma 2** ----> *usando el método magnitude( ) del módulo sympy.physics.vector*"
      ]
    },
    {
      "cell_type": "code",
      "metadata": {
        "colab": {
          "base_uri": "https://localhost:8080/",
          "height": 37
        },
        "id": "YhyYFN-yHF2d",
        "outputId": "cfa1c09e-83e7-44b6-b84e-3ee770348c04"
      },
      "source": [
        "i = e.x\n",
        "\n",
        "V = 2*i\n",
        "V.magnitude()"
      ],
      "execution_count": 16,
      "outputs": [
        {
          "output_type": "execute_result",
          "data": {
            "text/plain": [
              "2"
            ],
            "text/latex": "$\\displaystyle 2$"
          },
          "metadata": {},
          "execution_count": 16
        }
      ]
    },
    {
      "cell_type": "markdown",
      "metadata": {
        "id": "SyPHuE7L8bD9"
      },
      "source": [
        "##**Ejemplo 2:**\n",
        "\n",
        "Halla la **norma** del vector representado en la figura:\n",
        "\n",
        "<center><img src=\"https://github.com/josorio398/ALGEBRA-LINEAL-CON-PYTHON/blob/master/im%C3%A1genes%20repositorio/magnitud2d.png?raw=true\"  height=\"250\" />"
      ]
    },
    {
      "cell_type": "markdown",
      "metadata": {
        "id": "sQdLFyj6DGV2"
      },
      "source": [
        "###**Forma 1**  ----> *usando el método norm( ) de módulo sympy*"
      ]
    },
    {
      "cell_type": "code",
      "metadata": {
        "colab": {
          "base_uri": "https://localhost:8080/",
          "height": 38
        },
        "id": "KIy_FS9WDGWU",
        "outputId": "3feb1633-aa8d-4b83-80d0-6ab3b173311f"
      },
      "source": [
        "V = Matrix([-2,3])\n",
        "V.norm()"
      ],
      "execution_count": 17,
      "outputs": [
        {
          "output_type": "execute_result",
          "data": {
            "text/plain": [
              "sqrt(13)"
            ],
            "text/latex": "$\\displaystyle \\sqrt{13}$"
          },
          "metadata": {},
          "execution_count": 17
        }
      ]
    },
    {
      "cell_type": "markdown",
      "metadata": {
        "id": "Khm_lWn-DGWZ"
      },
      "source": [
        "###**Forma 2** ----> *usando el método magnitude( ) del módulo sympy.physics.vector*"
      ]
    },
    {
      "cell_type": "code",
      "metadata": {
        "colab": {
          "base_uri": "https://localhost:8080/",
          "height": 38
        },
        "id": "VhFiySyTDGWa",
        "outputId": "123664a4-748c-4161-e2e1-c3c074b8fc56"
      },
      "source": [
        "i = e.x\n",
        "j = e.y\n",
        "\n",
        "V = -2*i+3*j\n",
        "V.magnitude()"
      ],
      "execution_count": 18,
      "outputs": [
        {
          "output_type": "execute_result",
          "data": {
            "text/plain": [
              "sqrt(13)"
            ],
            "text/latex": "$\\displaystyle \\sqrt{13}$"
          },
          "metadata": {},
          "execution_count": 18
        }
      ]
    },
    {
      "cell_type": "markdown",
      "metadata": {
        "id": "s5kPYLZKFPxN"
      },
      "source": [
        "##**Ejemplo 3:**\n",
        "\n",
        "Halla la **norma** del vector representado en la figura:\n",
        "\n",
        "<center><img src=\"https://github.com/josorio398/ALGEBRA-LINEAL-CON-PYTHON/blob/master/im%C3%A1genes%20repositorio/magnitud3d.PNG?raw=true\"  height=\"250\" />"
      ]
    },
    {
      "cell_type": "markdown",
      "metadata": {
        "id": "kmrbyEL7FPxW"
      },
      "source": [
        "###**Forma 1**  ----> *usando el método norm( ) de módulo sympy*"
      ]
    },
    {
      "cell_type": "code",
      "metadata": {
        "colab": {
          "base_uri": "https://localhost:8080/",
          "height": 38
        },
        "id": "htDFXFL-FPxY",
        "outputId": "54a85081-6588-449a-feb8-b70fa740c44a"
      },
      "source": [
        "V = Matrix([1,2,3])\n",
        "V.norm()"
      ],
      "execution_count": 19,
      "outputs": [
        {
          "output_type": "execute_result",
          "data": {
            "text/plain": [
              "sqrt(14)"
            ],
            "text/latex": "$\\displaystyle \\sqrt{14}$"
          },
          "metadata": {},
          "execution_count": 19
        }
      ]
    },
    {
      "cell_type": "markdown",
      "metadata": {
        "id": "J8NUwxubFPxa"
      },
      "source": [
        "###**Forma 2** ----> *usando el método magnitude( ) del módulo sympy.physics.vector*"
      ]
    },
    {
      "cell_type": "code",
      "metadata": {
        "colab": {
          "base_uri": "https://localhost:8080/",
          "height": 38
        },
        "id": "FzOami5BFPxb",
        "outputId": "71fcd787-88a5-4352-8974-a3812349eadd"
      },
      "source": [
        "V = 1*i+2*j+3*k\n",
        "V.magnitude()"
      ],
      "execution_count": null,
      "outputs": [
        {
          "output_type": "execute_result",
          "data": {
            "text/latex": "$\\displaystyle \\sqrt{14}$",
            "text/plain": [
              "sqrt(14)"
            ]
          },
          "metadata": {},
          "execution_count": 52
        }
      ]
    },
    {
      "cell_type": "markdown",
      "metadata": {
        "id": "B4fTX5suOFQV"
      },
      "source": [
        "##**Ejemplo 4:**\n",
        "\n",
        "Halla la **norma** del vector \n",
        "\n",
        "$$\\vec{V} = ( 2,4,5,6) $$"
      ]
    },
    {
      "cell_type": "markdown",
      "metadata": {
        "id": "EI7gZfI-OFQ2"
      },
      "source": [
        "###**Forma 1** ----> *usando el método norm( ) de módulo sympy*"
      ]
    },
    {
      "cell_type": "code",
      "metadata": {
        "colab": {
          "base_uri": "https://localhost:8080/",
          "height": 17
        },
        "id": "A3SDbm51OFQ3",
        "outputId": "d413e1e1-0b51-4075-cfc8-7da16cb32c41"
      },
      "source": [
        "V = Matrix([2,4,5,6])\n",
        "V.norm()"
      ],
      "execution_count": 21,
      "outputs": [
        {
          "output_type": "execute_result",
          "data": {
            "text/plain": [
              "9"
            ],
            "text/latex": "$\\displaystyle 9$"
          },
          "metadata": {},
          "execution_count": 21
        }
      ]
    },
    {
      "cell_type": "markdown",
      "metadata": {
        "id": "ojqsTiVYOFQ6"
      },
      "source": [
        "###**Forma 2** ----> *usando la fórmula de norma*"
      ]
    },
    {
      "cell_type": "code",
      "metadata": {
        "colab": {
          "base_uri": "https://localhost:8080/",
          "height": 36
        },
        "id": "u7uF0R3MOFQ7",
        "outputId": "348f44a9-7f24-49a0-eed3-b44c2c476ffc"
      },
      "source": [
        "V = Matrix([2,4,5,6])\n",
        "sqrt(V[0]**2 + V[1]**2 + V[2]**2 + V[3]**2)"
      ],
      "execution_count": null,
      "outputs": [
        {
          "output_type": "execute_result",
          "data": {
            "text/latex": "$\\displaystyle 9$",
            "text/plain": [
              "9"
            ]
          },
          "metadata": {},
          "execution_count": 54
        }
      ]
    },
    {
      "cell_type": "markdown",
      "metadata": {
        "id": "2f2VXN0hRx5G"
      },
      "source": [
        "#**DIRECCIÓN Y SENTIDO DE UN VECTOR**\n",
        "\n",
        "La dirección está definida por la recta soporte o linea de acción que contiene al vector y el sentido está determinado por la posición de la flecha en dicha recta, estas dos características determinan el ángulo."
      ]
    },
    {
      "cell_type": "markdown",
      "metadata": {
        "id": "_WO4xlpDHIIb"
      },
      "source": [
        "#**Ángulo director de un vector unidimensional** \n",
        "\n",
        "Si $\\vec{V}$ es un vector unidimensional **no nulo** y consideramos el ángulo que forma el vector con el eje $x$ positivo, entonces existen dos posibilidades para este ángulo en dicha dimensión.\n",
        "\n",
        "<center><img src=\"https://github.com/josorio398/ALGEBRA-LINEAL-CON-PYTHON/blob/master/im%C3%A1genes%20repositorio/direcci%C3%B3n%20unidimensional.PNG?raw=true\"  height=\"250\" />"
      ]
    },
    {
      "cell_type": "markdown",
      "metadata": {
        "id": "qjgJ1Fl2RTCd"
      },
      "source": [
        "##**Ejemplo 1:**\n",
        "\n",
        "Halla el **ángulo director** del vector representado en la figura:\n",
        "\n",
        "<center><img src=\"https://github.com/josorio398/ALGEBRA-LINEAL-CON-PYTHON/blob/master/im%C3%A1genes%20repositorio/magnitud1.png?raw=true\"  height=\"120\" />\n"
      ]
    },
    {
      "cell_type": "code",
      "metadata": {
        "colab": {
          "base_uri": "https://localhost:8080/"
        },
        "id": "s-GyfdqSQrxD",
        "outputId": "51c56918-c7ea-48c9-dd28-6982f18c37b6"
      },
      "source": [
        "A = Matrix([2])\n",
        "\n",
        "if A[0]> 0:\n",
        "    angulo = 0\n",
        "if A[0]<0:\n",
        "    angulo = 180\n",
        "angulo"
      ],
      "execution_count": 25,
      "outputs": [
        {
          "output_type": "execute_result",
          "data": {
            "text/plain": [
              "0"
            ]
          },
          "metadata": {},
          "execution_count": 25
        }
      ]
    },
    {
      "cell_type": "markdown",
      "metadata": {
        "id": "okT4M1H3SLzq"
      },
      "source": [
        "## **Representación gráfica**"
      ]
    },
    {
      "cell_type": "code",
      "metadata": {
        "colab": {
          "base_uri": "https://localhost:8080/",
          "height": 497
        },
        "id": "SdtVPghxRFbv",
        "outputId": "cb08cd64-1c86-4ff8-da9c-5c1b5792f37b"
      },
      "source": [
        "plotvectors2D(A)"
      ],
      "execution_count": 26,
      "outputs": [
        {
          "output_type": "display_data",
          "data": {
            "text/html": [
              "<html>\n",
              "<head><meta charset=\"utf-8\" /></head>\n",
              "<body>\n",
              "    <div>            <script src=\"https://cdnjs.cloudflare.com/ajax/libs/mathjax/2.7.5/MathJax.js?config=TeX-AMS-MML_SVG\"></script><script type=\"text/javascript\">if (window.MathJax) {MathJax.Hub.Config({SVG: {font: \"STIX-Web\"}});}</script>                <script type=\"text/javascript\">window.PlotlyConfig = {MathJaxConfig: 'local'};</script>\n",
              "        <script src=\"https://cdn.plot.ly/plotly-2.2.0.min.js\"></script>                <div id=\"bf0518ec-46b7-4944-be90-2c47ab5cf66d\" class=\"plotly-graph-div\" style=\"height:480px; width:500px;\"></div>            <script type=\"text/javascript\">                                    window.PLOTLYENV=window.PLOTLYENV || {};                                    if (document.getElementById(\"bf0518ec-46b7-4944-be90-2c47ab5cf66d\")) {                    Plotly.newPlot(                        \"bf0518ec-46b7-4944-be90-2c47ab5cf66d\",                        [{\"marker\":{\"color\":\"rgb(186,122,13)\",\"size\":8},\"mode\":\"lines\",\"name\":\"vector 1\",\"showlegend\":true,\"type\":\"scatter\",\"x\":[0,2.0],\"y\":[0,0]},{\"marker\":{\"color\":\"#2a3f5f\",\"size\":9},\"mode\":\"markers\",\"name\":\"origen\",\"opacity\":1,\"showlegend\":true,\"type\":\"scatter\",\"x\":[0],\"y\":[0]}],                        {\"annotations\":[{\"arrowcolor\":\"rgb(186,122,13)\",\"arrowhead\":2,\"arrowsize\":1.5,\"arrowwidth\":2.3,\"ax\":0.0,\"axref\":\"x\",\"ay\":0.0,\"ayref\":\"y\",\"showarrow\":true,\"x\":2.0,\"xref\":\"x\",\"y\":0,\"yref\":\"y\"},{\"arrowcolor\":\"#2a3f5f\",\"arrowhead\":2,\"arrowwidth\":1.5,\"ax\":-0.54,\"axref\":\"x\",\"ay\":0,\"ayref\":\"y\",\"x\":2.5,\"xref\":\"x\",\"y\":0,\"yref\":\"y\"},{\"arrowcolor\":\"#2a3f5f\",\"arrowhead\":2,\"arrowwidth\":1.5,\"ax\":0,\"axref\":\"x\",\"ay\":-0.54,\"ayref\":\"y\",\"x\":0,\"xref\":\"x\",\"y\":0.5,\"yref\":\"y\"}],\"font\":{\"color\":\"black\",\"family\":\"latex\",\"size\":20},\"height\":480,\"legend\":{\"itemdoubleclick\":\"toggle\",\"orientation\":\"h\",\"x\":1,\"xanchor\":\"right\",\"y\":1.02,\"yanchor\":\"bottom\"},\"showlegend\":true,\"template\":{\"data\":{\"bar\":[{\"error_x\":{\"color\":\"#2a3f5f\"},\"error_y\":{\"color\":\"#2a3f5f\"},\"marker\":{\"line\":{\"color\":\"#E5ECF6\",\"width\":0.5},\"pattern\":{\"fillmode\":\"overlay\",\"size\":10,\"solidity\":0.2}},\"type\":\"bar\"}],\"barpolar\":[{\"marker\":{\"line\":{\"color\":\"#E5ECF6\",\"width\":0.5},\"pattern\":{\"fillmode\":\"overlay\",\"size\":10,\"solidity\":0.2}},\"type\":\"barpolar\"}],\"carpet\":[{\"aaxis\":{\"endlinecolor\":\"#2a3f5f\",\"gridcolor\":\"white\",\"linecolor\":\"white\",\"minorgridcolor\":\"white\",\"startlinecolor\":\"#2a3f5f\"},\"baxis\":{\"endlinecolor\":\"#2a3f5f\",\"gridcolor\":\"white\",\"linecolor\":\"white\",\"minorgridcolor\":\"white\",\"startlinecolor\":\"#2a3f5f\"},\"type\":\"carpet\"}],\"choropleth\":[{\"colorbar\":{\"outlinewidth\":0,\"ticks\":\"\"},\"type\":\"choropleth\"}],\"contour\":[{\"colorbar\":{\"outlinewidth\":0,\"ticks\":\"\"},\"colorscale\":[[0.0,\"#0d0887\"],[0.1111111111111111,\"#46039f\"],[0.2222222222222222,\"#7201a8\"],[0.3333333333333333,\"#9c179e\"],[0.4444444444444444,\"#bd3786\"],[0.5555555555555556,\"#d8576b\"],[0.6666666666666666,\"#ed7953\"],[0.7777777777777778,\"#fb9f3a\"],[0.8888888888888888,\"#fdca26\"],[1.0,\"#f0f921\"]],\"type\":\"contour\"}],\"contourcarpet\":[{\"colorbar\":{\"outlinewidth\":0,\"ticks\":\"\"},\"type\":\"contourcarpet\"}],\"heatmap\":[{\"colorbar\":{\"outlinewidth\":0,\"ticks\":\"\"},\"colorscale\":[[0.0,\"#0d0887\"],[0.1111111111111111,\"#46039f\"],[0.2222222222222222,\"#7201a8\"],[0.3333333333333333,\"#9c179e\"],[0.4444444444444444,\"#bd3786\"],[0.5555555555555556,\"#d8576b\"],[0.6666666666666666,\"#ed7953\"],[0.7777777777777778,\"#fb9f3a\"],[0.8888888888888888,\"#fdca26\"],[1.0,\"#f0f921\"]],\"type\":\"heatmap\"}],\"heatmapgl\":[{\"colorbar\":{\"outlinewidth\":0,\"ticks\":\"\"},\"colorscale\":[[0.0,\"#0d0887\"],[0.1111111111111111,\"#46039f\"],[0.2222222222222222,\"#7201a8\"],[0.3333333333333333,\"#9c179e\"],[0.4444444444444444,\"#bd3786\"],[0.5555555555555556,\"#d8576b\"],[0.6666666666666666,\"#ed7953\"],[0.7777777777777778,\"#fb9f3a\"],[0.8888888888888888,\"#fdca26\"],[1.0,\"#f0f921\"]],\"type\":\"heatmapgl\"}],\"histogram\":[{\"marker\":{\"pattern\":{\"fillmode\":\"overlay\",\"size\":10,\"solidity\":0.2}},\"type\":\"histogram\"}],\"histogram2d\":[{\"colorbar\":{\"outlinewidth\":0,\"ticks\":\"\"},\"colorscale\":[[0.0,\"#0d0887\"],[0.1111111111111111,\"#46039f\"],[0.2222222222222222,\"#7201a8\"],[0.3333333333333333,\"#9c179e\"],[0.4444444444444444,\"#bd3786\"],[0.5555555555555556,\"#d8576b\"],[0.6666666666666666,\"#ed7953\"],[0.7777777777777778,\"#fb9f3a\"],[0.8888888888888888,\"#fdca26\"],[1.0,\"#f0f921\"]],\"type\":\"histogram2d\"}],\"histogram2dcontour\":[{\"colorbar\":{\"outlinewidth\":0,\"ticks\":\"\"},\"colorscale\":[[0.0,\"#0d0887\"],[0.1111111111111111,\"#46039f\"],[0.2222222222222222,\"#7201a8\"],[0.3333333333333333,\"#9c179e\"],[0.4444444444444444,\"#bd3786\"],[0.5555555555555556,\"#d8576b\"],[0.6666666666666666,\"#ed7953\"],[0.7777777777777778,\"#fb9f3a\"],[0.8888888888888888,\"#fdca26\"],[1.0,\"#f0f921\"]],\"type\":\"histogram2dcontour\"}],\"mesh3d\":[{\"colorbar\":{\"outlinewidth\":0,\"ticks\":\"\"},\"type\":\"mesh3d\"}],\"parcoords\":[{\"line\":{\"colorbar\":{\"outlinewidth\":0,\"ticks\":\"\"}},\"type\":\"parcoords\"}],\"pie\":[{\"automargin\":true,\"type\":\"pie\"}],\"scatter\":[{\"marker\":{\"colorbar\":{\"outlinewidth\":0,\"ticks\":\"\"}},\"type\":\"scatter\"}],\"scatter3d\":[{\"line\":{\"colorbar\":{\"outlinewidth\":0,\"ticks\":\"\"}},\"marker\":{\"colorbar\":{\"outlinewidth\":0,\"ticks\":\"\"}},\"type\":\"scatter3d\"}],\"scattercarpet\":[{\"marker\":{\"colorbar\":{\"outlinewidth\":0,\"ticks\":\"\"}},\"type\":\"scattercarpet\"}],\"scattergeo\":[{\"marker\":{\"colorbar\":{\"outlinewidth\":0,\"ticks\":\"\"}},\"type\":\"scattergeo\"}],\"scattergl\":[{\"marker\":{\"colorbar\":{\"outlinewidth\":0,\"ticks\":\"\"}},\"type\":\"scattergl\"}],\"scattermapbox\":[{\"marker\":{\"colorbar\":{\"outlinewidth\":0,\"ticks\":\"\"}},\"type\":\"scattermapbox\"}],\"scatterpolar\":[{\"marker\":{\"colorbar\":{\"outlinewidth\":0,\"ticks\":\"\"}},\"type\":\"scatterpolar\"}],\"scatterpolargl\":[{\"marker\":{\"colorbar\":{\"outlinewidth\":0,\"ticks\":\"\"}},\"type\":\"scatterpolargl\"}],\"scatterternary\":[{\"marker\":{\"colorbar\":{\"outlinewidth\":0,\"ticks\":\"\"}},\"type\":\"scatterternary\"}],\"surface\":[{\"colorbar\":{\"outlinewidth\":0,\"ticks\":\"\"},\"colorscale\":[[0.0,\"#0d0887\"],[0.1111111111111111,\"#46039f\"],[0.2222222222222222,\"#7201a8\"],[0.3333333333333333,\"#9c179e\"],[0.4444444444444444,\"#bd3786\"],[0.5555555555555556,\"#d8576b\"],[0.6666666666666666,\"#ed7953\"],[0.7777777777777778,\"#fb9f3a\"],[0.8888888888888888,\"#fdca26\"],[1.0,\"#f0f921\"]],\"type\":\"surface\"}],\"table\":[{\"cells\":{\"fill\":{\"color\":\"#EBF0F8\"},\"line\":{\"color\":\"white\"}},\"header\":{\"fill\":{\"color\":\"#C8D4E3\"},\"line\":{\"color\":\"white\"}},\"type\":\"table\"}]},\"layout\":{\"annotationdefaults\":{\"arrowcolor\":\"#2a3f5f\",\"arrowhead\":0,\"arrowwidth\":1},\"autotypenumbers\":\"strict\",\"coloraxis\":{\"colorbar\":{\"outlinewidth\":0,\"ticks\":\"\"}},\"colorscale\":{\"diverging\":[[0,\"#8e0152\"],[0.1,\"#c51b7d\"],[0.2,\"#de77ae\"],[0.3,\"#f1b6da\"],[0.4,\"#fde0ef\"],[0.5,\"#f7f7f7\"],[0.6,\"#e6f5d0\"],[0.7,\"#b8e186\"],[0.8,\"#7fbc41\"],[0.9,\"#4d9221\"],[1,\"#276419\"]],\"sequential\":[[0.0,\"#0d0887\"],[0.1111111111111111,\"#46039f\"],[0.2222222222222222,\"#7201a8\"],[0.3333333333333333,\"#9c179e\"],[0.4444444444444444,\"#bd3786\"],[0.5555555555555556,\"#d8576b\"],[0.6666666666666666,\"#ed7953\"],[0.7777777777777778,\"#fb9f3a\"],[0.8888888888888888,\"#fdca26\"],[1.0,\"#f0f921\"]],\"sequentialminus\":[[0.0,\"#0d0887\"],[0.1111111111111111,\"#46039f\"],[0.2222222222222222,\"#7201a8\"],[0.3333333333333333,\"#9c179e\"],[0.4444444444444444,\"#bd3786\"],[0.5555555555555556,\"#d8576b\"],[0.6666666666666666,\"#ed7953\"],[0.7777777777777778,\"#fb9f3a\"],[0.8888888888888888,\"#fdca26\"],[1.0,\"#f0f921\"]]},\"colorway\":[\"#636efa\",\"#EF553B\",\"#00cc96\",\"#ab63fa\",\"#FFA15A\",\"#19d3f3\",\"#FF6692\",\"#B6E880\",\"#FF97FF\",\"#FECB52\"],\"font\":{\"color\":\"#2a3f5f\"},\"geo\":{\"bgcolor\":\"white\",\"lakecolor\":\"white\",\"landcolor\":\"#E5ECF6\",\"showlakes\":true,\"showland\":true,\"subunitcolor\":\"white\"},\"hoverlabel\":{\"align\":\"left\"},\"hovermode\":\"closest\",\"mapbox\":{\"style\":\"light\"},\"paper_bgcolor\":\"white\",\"plot_bgcolor\":\"#E5ECF6\",\"polar\":{\"angularaxis\":{\"gridcolor\":\"white\",\"linecolor\":\"white\",\"ticks\":\"\"},\"bgcolor\":\"#E5ECF6\",\"radialaxis\":{\"gridcolor\":\"white\",\"linecolor\":\"white\",\"ticks\":\"\"}},\"scene\":{\"xaxis\":{\"backgroundcolor\":\"#E5ECF6\",\"gridcolor\":\"white\",\"gridwidth\":2,\"linecolor\":\"white\",\"showbackground\":true,\"ticks\":\"\",\"zerolinecolor\":\"white\"},\"yaxis\":{\"backgroundcolor\":\"#E5ECF6\",\"gridcolor\":\"white\",\"gridwidth\":2,\"linecolor\":\"white\",\"showbackground\":true,\"ticks\":\"\",\"zerolinecolor\":\"white\"},\"zaxis\":{\"backgroundcolor\":\"#E5ECF6\",\"gridcolor\":\"white\",\"gridwidth\":2,\"linecolor\":\"white\",\"showbackground\":true,\"ticks\":\"\",\"zerolinecolor\":\"white\"}},\"shapedefaults\":{\"line\":{\"color\":\"#2a3f5f\"}},\"ternary\":{\"aaxis\":{\"gridcolor\":\"white\",\"linecolor\":\"white\",\"ticks\":\"\"},\"baxis\":{\"gridcolor\":\"white\",\"linecolor\":\"white\",\"ticks\":\"\"},\"bgcolor\":\"#E5ECF6\",\"caxis\":{\"gridcolor\":\"white\",\"linecolor\":\"white\",\"ticks\":\"\"}},\"title\":{\"x\":0.05},\"xaxis\":{\"automargin\":true,\"gridcolor\":\"white\",\"linecolor\":\"white\",\"ticks\":\"\",\"title\":{\"standoff\":15},\"zerolinecolor\":\"white\",\"zerolinewidth\":2},\"yaxis\":{\"automargin\":true,\"gridcolor\":\"white\",\"linecolor\":\"white\",\"ticks\":\"\",\"title\":{\"standoff\":15},\"zerolinecolor\":\"white\",\"zerolinewidth\":2}}},\"title\":{\"font\":{\"color\":\"rgb(1,21,51)\",\"size\":30}},\"width\":500,\"xaxis\":{\"range\":[-0.5,2.5],\"showgrid\":true,\"title\":{\"font\":{\"color\":\"rgb(1,21,51)\",\"family\":\"latex\",\"size\":30},\"text\":\"$\\\\large{x}$\"}},\"yaxis\":{\"range\":[-0.5,0.5],\"showgrid\":true,\"title\":{\"font\":{\"color\":\"rgb(1,21,51)\",\"family\":\"latex\",\"size\":30},\"text\":\"$\\\\large{y}$\"}}},                        {\"responsive\": true}                    ).then(function(){\n",
              "                            \n",
              "var gd = document.getElementById('bf0518ec-46b7-4944-be90-2c47ab5cf66d');\n",
              "var x = new MutationObserver(function (mutations, observer) {{\n",
              "        var display = window.getComputedStyle(gd).display;\n",
              "        if (!display || display === 'none') {{\n",
              "            console.log([gd, 'removed!']);\n",
              "            Plotly.purge(gd);\n",
              "            observer.disconnect();\n",
              "        }}\n",
              "}});\n",
              "\n",
              "// Listen for the removal of the full notebook cells\n",
              "var notebookContainer = gd.closest('#notebook-container');\n",
              "if (notebookContainer) {{\n",
              "    x.observe(notebookContainer, {childList: true});\n",
              "}}\n",
              "\n",
              "// Listen for the clearing of the current output cell\n",
              "var outputEl = gd.closest('.output');\n",
              "if (outputEl) {{\n",
              "    x.observe(outputEl, {childList: true});\n",
              "}}\n",
              "\n",
              "                        })                };                            </script>        </div>\n",
              "</body>\n",
              "</html>"
            ]
          },
          "metadata": {}
        }
      ]
    },
    {
      "cell_type": "markdown",
      "metadata": {
        "id": "-2IdgyNEQdtU"
      },
      "source": [
        "#**Ángulo director de un vector bidimensional**\n",
        "\n",
        "Si $\\vec{V} = (A_x,A_y)$  es un vector bidimensional **no nulo** con $A_x \\neq 0 \\hspace{2mm} y \\hspace{2mm} A_y \\neq 0  $  el ángulo que forma el vector con el eje $x$ positivo, se puede  encontrar de acuerdo al cuadrante donde de encuentre dicho vecto fijardo en el origen y existen cuatro casos posibles descritos a continuación.\n",
        "\n",
        "<center><img src=\"https://github.com/josorio398/ALGEBRA-LINEAL-CON-PYTHON/blob/master/im%C3%A1genes%20repositorio/direcci%C3%B3n%20bidimensional.PNG?raw=true\"  height=\"230\" /> </center>\n",
        "\n",
        "#### **Caso 1**: $\\small{A_x > 0} \\hspace{2mm}y \\hspace{2mm} \\small{A_y > 0}$   &nbsp; &nbsp; &nbsp; &nbsp; &nbsp;&nbsp;&nbsp;&nbsp;**Caso 2**: $\\small{A_x < 0} \\hspace{2mm}y \\hspace{2mm} \\small{A_y > 0}$  &nbsp; &nbsp; &nbsp;&nbsp; &nbsp; &nbsp; **Caso 3**: $\\small{A_x < 0} \\hspace{2mm}y \\hspace{2mm} \\small{A_y < 0}$ &nbsp; &nbsp; &nbsp;&nbsp; &nbsp; &nbsp; **Caso 4**: $\\small{A_x > 0} \\hspace{2mm}y \\hspace{2mm} \\small{A_y < 0}$\n",
        "\n",
        "$ \\theta = arctan{\\dfrac{|A_y|}{|A_x|}} \\hspace{32mm}\\theta = 180°-arctan{\\dfrac{|A_y|}{|A_x|}} \\hspace{18mm}\\theta = 180°+arctan{\\dfrac{|A_y|}{|A_x|}}\\hspace{18mm}\\theta = 360°-arctan{\\dfrac{|A_y|}{|A_x|}}$\n",
        "<br> </br>\n",
        "Para los casos donde $A_x = 0 \\hspace{2mm} y \\hspace{2mm} A_y = 0  $ se puede determinar que el ángulo respecto al eje $x$ de la siguiente forma:\n",
        "<br> </br>\n",
        "\n",
        "<center> Si $ A_y = 0$ y $A_x  \\left\\lbrace\\begin{array}{c} > 0  \\hspace{2mm} \\text{entonces}\\hspace{2mm} \\theta = 0° \\\\ \\hspace{4mm}< 0  \\hspace{2mm} \\text{entonces}\\hspace{2mm} \\theta = 180° \\end{array}\\right.$ &nbsp; &nbsp; &nbsp;&nbsp; &nbsp; Si $ A_x = 0$ y $A_y  \\left\\lbrace\\begin{array}{c} > 0  \\hspace{2mm} \\text{entonces}\\hspace{2mm} \\theta = 90° \\\\ \\hspace{3mm}< 0  \\hspace{2mm} \\text{entonces}\\hspace{2mm} \\theta = 270° \\end{array}\\right.$ </center>\n",
        "\n",
        "##**Ejemplo:**\n",
        "\n",
        "Halla la **ángulo** en **grados** respecto al eje $x$ del vector $\\vec{v}=(-2,3)$ y realiza su gráfica\n",
        "\n",
        "\n"
      ]
    },
    {
      "cell_type": "code",
      "metadata": {
        "colab": {
          "base_uri": "https://localhost:8080/",
          "height": 37
        },
        "id": "Wz26MkgkdEh7",
        "outputId": "15a9d0e3-ebca-4be9-e8e7-750cdb713e13"
      },
      "source": [
        "A = Matrix([-2,3])\n",
        "\n",
        "angulo = 180-atan(abs(A[1]/abs(A[0])))*(180/pi)\n",
        "\n",
        "angulo.evalf(5)"
      ],
      "execution_count": 27,
      "outputs": [
        {
          "output_type": "execute_result",
          "data": {
            "text/plain": [
              "123.69"
            ],
            "text/latex": "$\\displaystyle 123.69$"
          },
          "metadata": {},
          "execution_count": 27
        }
      ]
    },
    {
      "cell_type": "code",
      "metadata": {
        "colab": {
          "base_uri": "https://localhost:8080/",
          "height": 497
        },
        "id": "Kk-GW4efdY_E",
        "outputId": "7eed44ca-4deb-420d-b98e-f18354a6a3dc"
      },
      "source": [
        "A = Matrix([-2,3])\n",
        "plotvectors2D(A)"
      ],
      "execution_count": 28,
      "outputs": [
        {
          "output_type": "display_data",
          "data": {
            "text/html": [
              "<html>\n",
              "<head><meta charset=\"utf-8\" /></head>\n",
              "<body>\n",
              "    <div>            <script src=\"https://cdnjs.cloudflare.com/ajax/libs/mathjax/2.7.5/MathJax.js?config=TeX-AMS-MML_SVG\"></script><script type=\"text/javascript\">if (window.MathJax) {MathJax.Hub.Config({SVG: {font: \"STIX-Web\"}});}</script>                <script type=\"text/javascript\">window.PlotlyConfig = {MathJaxConfig: 'local'};</script>\n",
              "        <script src=\"https://cdn.plot.ly/plotly-2.2.0.min.js\"></script>                <div id=\"0461d810-5c90-445c-b92c-0c7c3933fe2c\" class=\"plotly-graph-div\" style=\"height:480px; width:500px;\"></div>            <script type=\"text/javascript\">                                    window.PLOTLYENV=window.PLOTLYENV || {};                                    if (document.getElementById(\"0461d810-5c90-445c-b92c-0c7c3933fe2c\")) {                    Plotly.newPlot(                        \"0461d810-5c90-445c-b92c-0c7c3933fe2c\",                        [{\"marker\":{\"color\":\"rgb(43,97,141)\",\"size\":8},\"mode\":\"lines\",\"name\":\"vector 1\",\"showlegend\":true,\"type\":\"scatter\",\"x\":[0,-2.0],\"y\":[0,3.0]},{\"marker\":{\"color\":\"#2a3f5f\",\"size\":9},\"mode\":\"markers\",\"name\":\"origen\",\"opacity\":1,\"showlegend\":true,\"type\":\"scatter\",\"x\":[0],\"y\":[0]}],                        {\"annotations\":[{\"arrowcolor\":\"rgb(43,97,141)\",\"arrowhead\":2,\"arrowsize\":1.5,\"arrowwidth\":2.3,\"ax\":0.0,\"axref\":\"x\",\"ay\":0.0,\"ayref\":\"y\",\"showarrow\":true,\"x\":-2.0,\"xref\":\"x\",\"y\":3.0,\"yref\":\"y\"},{\"arrowcolor\":\"#2a3f5f\",\"arrowhead\":2,\"arrowwidth\":1.5,\"ax\":-2.54,\"axref\":\"x\",\"ay\":0,\"ayref\":\"y\",\"x\":0.5,\"xref\":\"x\",\"y\":0,\"yref\":\"y\"},{\"arrowcolor\":\"#2a3f5f\",\"arrowhead\":2,\"arrowwidth\":1.5,\"ax\":0,\"axref\":\"x\",\"ay\":-0.54,\"ayref\":\"y\",\"x\":0,\"xref\":\"x\",\"y\":3.5,\"yref\":\"y\"}],\"font\":{\"color\":\"black\",\"family\":\"latex\",\"size\":20},\"height\":480,\"legend\":{\"itemdoubleclick\":\"toggle\",\"orientation\":\"h\",\"x\":1,\"xanchor\":\"right\",\"y\":1.02,\"yanchor\":\"bottom\"},\"showlegend\":true,\"template\":{\"data\":{\"bar\":[{\"error_x\":{\"color\":\"#2a3f5f\"},\"error_y\":{\"color\":\"#2a3f5f\"},\"marker\":{\"line\":{\"color\":\"#E5ECF6\",\"width\":0.5},\"pattern\":{\"fillmode\":\"overlay\",\"size\":10,\"solidity\":0.2}},\"type\":\"bar\"}],\"barpolar\":[{\"marker\":{\"line\":{\"color\":\"#E5ECF6\",\"width\":0.5},\"pattern\":{\"fillmode\":\"overlay\",\"size\":10,\"solidity\":0.2}},\"type\":\"barpolar\"}],\"carpet\":[{\"aaxis\":{\"endlinecolor\":\"#2a3f5f\",\"gridcolor\":\"white\",\"linecolor\":\"white\",\"minorgridcolor\":\"white\",\"startlinecolor\":\"#2a3f5f\"},\"baxis\":{\"endlinecolor\":\"#2a3f5f\",\"gridcolor\":\"white\",\"linecolor\":\"white\",\"minorgridcolor\":\"white\",\"startlinecolor\":\"#2a3f5f\"},\"type\":\"carpet\"}],\"choropleth\":[{\"colorbar\":{\"outlinewidth\":0,\"ticks\":\"\"},\"type\":\"choropleth\"}],\"contour\":[{\"colorbar\":{\"outlinewidth\":0,\"ticks\":\"\"},\"colorscale\":[[0.0,\"#0d0887\"],[0.1111111111111111,\"#46039f\"],[0.2222222222222222,\"#7201a8\"],[0.3333333333333333,\"#9c179e\"],[0.4444444444444444,\"#bd3786\"],[0.5555555555555556,\"#d8576b\"],[0.6666666666666666,\"#ed7953\"],[0.7777777777777778,\"#fb9f3a\"],[0.8888888888888888,\"#fdca26\"],[1.0,\"#f0f921\"]],\"type\":\"contour\"}],\"contourcarpet\":[{\"colorbar\":{\"outlinewidth\":0,\"ticks\":\"\"},\"type\":\"contourcarpet\"}],\"heatmap\":[{\"colorbar\":{\"outlinewidth\":0,\"ticks\":\"\"},\"colorscale\":[[0.0,\"#0d0887\"],[0.1111111111111111,\"#46039f\"],[0.2222222222222222,\"#7201a8\"],[0.3333333333333333,\"#9c179e\"],[0.4444444444444444,\"#bd3786\"],[0.5555555555555556,\"#d8576b\"],[0.6666666666666666,\"#ed7953\"],[0.7777777777777778,\"#fb9f3a\"],[0.8888888888888888,\"#fdca26\"],[1.0,\"#f0f921\"]],\"type\":\"heatmap\"}],\"heatmapgl\":[{\"colorbar\":{\"outlinewidth\":0,\"ticks\":\"\"},\"colorscale\":[[0.0,\"#0d0887\"],[0.1111111111111111,\"#46039f\"],[0.2222222222222222,\"#7201a8\"],[0.3333333333333333,\"#9c179e\"],[0.4444444444444444,\"#bd3786\"],[0.5555555555555556,\"#d8576b\"],[0.6666666666666666,\"#ed7953\"],[0.7777777777777778,\"#fb9f3a\"],[0.8888888888888888,\"#fdca26\"],[1.0,\"#f0f921\"]],\"type\":\"heatmapgl\"}],\"histogram\":[{\"marker\":{\"pattern\":{\"fillmode\":\"overlay\",\"size\":10,\"solidity\":0.2}},\"type\":\"histogram\"}],\"histogram2d\":[{\"colorbar\":{\"outlinewidth\":0,\"ticks\":\"\"},\"colorscale\":[[0.0,\"#0d0887\"],[0.1111111111111111,\"#46039f\"],[0.2222222222222222,\"#7201a8\"],[0.3333333333333333,\"#9c179e\"],[0.4444444444444444,\"#bd3786\"],[0.5555555555555556,\"#d8576b\"],[0.6666666666666666,\"#ed7953\"],[0.7777777777777778,\"#fb9f3a\"],[0.8888888888888888,\"#fdca26\"],[1.0,\"#f0f921\"]],\"type\":\"histogram2d\"}],\"histogram2dcontour\":[{\"colorbar\":{\"outlinewidth\":0,\"ticks\":\"\"},\"colorscale\":[[0.0,\"#0d0887\"],[0.1111111111111111,\"#46039f\"],[0.2222222222222222,\"#7201a8\"],[0.3333333333333333,\"#9c179e\"],[0.4444444444444444,\"#bd3786\"],[0.5555555555555556,\"#d8576b\"],[0.6666666666666666,\"#ed7953\"],[0.7777777777777778,\"#fb9f3a\"],[0.8888888888888888,\"#fdca26\"],[1.0,\"#f0f921\"]],\"type\":\"histogram2dcontour\"}],\"mesh3d\":[{\"colorbar\":{\"outlinewidth\":0,\"ticks\":\"\"},\"type\":\"mesh3d\"}],\"parcoords\":[{\"line\":{\"colorbar\":{\"outlinewidth\":0,\"ticks\":\"\"}},\"type\":\"parcoords\"}],\"pie\":[{\"automargin\":true,\"type\":\"pie\"}],\"scatter\":[{\"marker\":{\"colorbar\":{\"outlinewidth\":0,\"ticks\":\"\"}},\"type\":\"scatter\"}],\"scatter3d\":[{\"line\":{\"colorbar\":{\"outlinewidth\":0,\"ticks\":\"\"}},\"marker\":{\"colorbar\":{\"outlinewidth\":0,\"ticks\":\"\"}},\"type\":\"scatter3d\"}],\"scattercarpet\":[{\"marker\":{\"colorbar\":{\"outlinewidth\":0,\"ticks\":\"\"}},\"type\":\"scattercarpet\"}],\"scattergeo\":[{\"marker\":{\"colorbar\":{\"outlinewidth\":0,\"ticks\":\"\"}},\"type\":\"scattergeo\"}],\"scattergl\":[{\"marker\":{\"colorbar\":{\"outlinewidth\":0,\"ticks\":\"\"}},\"type\":\"scattergl\"}],\"scattermapbox\":[{\"marker\":{\"colorbar\":{\"outlinewidth\":0,\"ticks\":\"\"}},\"type\":\"scattermapbox\"}],\"scatterpolar\":[{\"marker\":{\"colorbar\":{\"outlinewidth\":0,\"ticks\":\"\"}},\"type\":\"scatterpolar\"}],\"scatterpolargl\":[{\"marker\":{\"colorbar\":{\"outlinewidth\":0,\"ticks\":\"\"}},\"type\":\"scatterpolargl\"}],\"scatterternary\":[{\"marker\":{\"colorbar\":{\"outlinewidth\":0,\"ticks\":\"\"}},\"type\":\"scatterternary\"}],\"surface\":[{\"colorbar\":{\"outlinewidth\":0,\"ticks\":\"\"},\"colorscale\":[[0.0,\"#0d0887\"],[0.1111111111111111,\"#46039f\"],[0.2222222222222222,\"#7201a8\"],[0.3333333333333333,\"#9c179e\"],[0.4444444444444444,\"#bd3786\"],[0.5555555555555556,\"#d8576b\"],[0.6666666666666666,\"#ed7953\"],[0.7777777777777778,\"#fb9f3a\"],[0.8888888888888888,\"#fdca26\"],[1.0,\"#f0f921\"]],\"type\":\"surface\"}],\"table\":[{\"cells\":{\"fill\":{\"color\":\"#EBF0F8\"},\"line\":{\"color\":\"white\"}},\"header\":{\"fill\":{\"color\":\"#C8D4E3\"},\"line\":{\"color\":\"white\"}},\"type\":\"table\"}]},\"layout\":{\"annotationdefaults\":{\"arrowcolor\":\"#2a3f5f\",\"arrowhead\":0,\"arrowwidth\":1},\"autotypenumbers\":\"strict\",\"coloraxis\":{\"colorbar\":{\"outlinewidth\":0,\"ticks\":\"\"}},\"colorscale\":{\"diverging\":[[0,\"#8e0152\"],[0.1,\"#c51b7d\"],[0.2,\"#de77ae\"],[0.3,\"#f1b6da\"],[0.4,\"#fde0ef\"],[0.5,\"#f7f7f7\"],[0.6,\"#e6f5d0\"],[0.7,\"#b8e186\"],[0.8,\"#7fbc41\"],[0.9,\"#4d9221\"],[1,\"#276419\"]],\"sequential\":[[0.0,\"#0d0887\"],[0.1111111111111111,\"#46039f\"],[0.2222222222222222,\"#7201a8\"],[0.3333333333333333,\"#9c179e\"],[0.4444444444444444,\"#bd3786\"],[0.5555555555555556,\"#d8576b\"],[0.6666666666666666,\"#ed7953\"],[0.7777777777777778,\"#fb9f3a\"],[0.8888888888888888,\"#fdca26\"],[1.0,\"#f0f921\"]],\"sequentialminus\":[[0.0,\"#0d0887\"],[0.1111111111111111,\"#46039f\"],[0.2222222222222222,\"#7201a8\"],[0.3333333333333333,\"#9c179e\"],[0.4444444444444444,\"#bd3786\"],[0.5555555555555556,\"#d8576b\"],[0.6666666666666666,\"#ed7953\"],[0.7777777777777778,\"#fb9f3a\"],[0.8888888888888888,\"#fdca26\"],[1.0,\"#f0f921\"]]},\"colorway\":[\"#636efa\",\"#EF553B\",\"#00cc96\",\"#ab63fa\",\"#FFA15A\",\"#19d3f3\",\"#FF6692\",\"#B6E880\",\"#FF97FF\",\"#FECB52\"],\"font\":{\"color\":\"#2a3f5f\"},\"geo\":{\"bgcolor\":\"white\",\"lakecolor\":\"white\",\"landcolor\":\"#E5ECF6\",\"showlakes\":true,\"showland\":true,\"subunitcolor\":\"white\"},\"hoverlabel\":{\"align\":\"left\"},\"hovermode\":\"closest\",\"mapbox\":{\"style\":\"light\"},\"paper_bgcolor\":\"white\",\"plot_bgcolor\":\"#E5ECF6\",\"polar\":{\"angularaxis\":{\"gridcolor\":\"white\",\"linecolor\":\"white\",\"ticks\":\"\"},\"bgcolor\":\"#E5ECF6\",\"radialaxis\":{\"gridcolor\":\"white\",\"linecolor\":\"white\",\"ticks\":\"\"}},\"scene\":{\"xaxis\":{\"backgroundcolor\":\"#E5ECF6\",\"gridcolor\":\"white\",\"gridwidth\":2,\"linecolor\":\"white\",\"showbackground\":true,\"ticks\":\"\",\"zerolinecolor\":\"white\"},\"yaxis\":{\"backgroundcolor\":\"#E5ECF6\",\"gridcolor\":\"white\",\"gridwidth\":2,\"linecolor\":\"white\",\"showbackground\":true,\"ticks\":\"\",\"zerolinecolor\":\"white\"},\"zaxis\":{\"backgroundcolor\":\"#E5ECF6\",\"gridcolor\":\"white\",\"gridwidth\":2,\"linecolor\":\"white\",\"showbackground\":true,\"ticks\":\"\",\"zerolinecolor\":\"white\"}},\"shapedefaults\":{\"line\":{\"color\":\"#2a3f5f\"}},\"ternary\":{\"aaxis\":{\"gridcolor\":\"white\",\"linecolor\":\"white\",\"ticks\":\"\"},\"baxis\":{\"gridcolor\":\"white\",\"linecolor\":\"white\",\"ticks\":\"\"},\"bgcolor\":\"#E5ECF6\",\"caxis\":{\"gridcolor\":\"white\",\"linecolor\":\"white\",\"ticks\":\"\"}},\"title\":{\"x\":0.05},\"xaxis\":{\"automargin\":true,\"gridcolor\":\"white\",\"linecolor\":\"white\",\"ticks\":\"\",\"title\":{\"standoff\":15},\"zerolinecolor\":\"white\",\"zerolinewidth\":2},\"yaxis\":{\"automargin\":true,\"gridcolor\":\"white\",\"linecolor\":\"white\",\"ticks\":\"\",\"title\":{\"standoff\":15},\"zerolinecolor\":\"white\",\"zerolinewidth\":2}}},\"title\":{\"font\":{\"color\":\"rgb(1,21,51)\",\"size\":30}},\"width\":500,\"xaxis\":{\"range\":[-2.5,0.5],\"showgrid\":true,\"title\":{\"font\":{\"color\":\"rgb(1,21,51)\",\"family\":\"latex\",\"size\":30},\"text\":\"$\\\\large{x}$\"}},\"yaxis\":{\"range\":[-0.5,3.5],\"showgrid\":true,\"title\":{\"font\":{\"color\":\"rgb(1,21,51)\",\"family\":\"latex\",\"size\":30},\"text\":\"$\\\\large{y}$\"}}},                        {\"responsive\": true}                    ).then(function(){\n",
              "                            \n",
              "var gd = document.getElementById('0461d810-5c90-445c-b92c-0c7c3933fe2c');\n",
              "var x = new MutationObserver(function (mutations, observer) {{\n",
              "        var display = window.getComputedStyle(gd).display;\n",
              "        if (!display || display === 'none') {{\n",
              "            console.log([gd, 'removed!']);\n",
              "            Plotly.purge(gd);\n",
              "            observer.disconnect();\n",
              "        }}\n",
              "}});\n",
              "\n",
              "// Listen for the removal of the full notebook cells\n",
              "var notebookContainer = gd.closest('#notebook-container');\n",
              "if (notebookContainer) {{\n",
              "    x.observe(notebookContainer, {childList: true});\n",
              "}}\n",
              "\n",
              "// Listen for the clearing of the current output cell\n",
              "var outputEl = gd.closest('.output');\n",
              "if (outputEl) {{\n",
              "    x.observe(outputEl, {childList: true});\n",
              "}}\n",
              "\n",
              "                        })                };                            </script>        </div>\n",
              "</body>\n",
              "</html>"
            ]
          },
          "metadata": {}
        }
      ]
    },
    {
      "cell_type": "code",
      "metadata": {
        "colab": {
          "base_uri": "https://localhost:8080/",
          "height": 17
        },
        "id": "1f4-5AabgrEA",
        "outputId": "f9637b96-181c-45fc-ab05-cf9c9e05c05a"
      },
      "source": [
        "norma = v.norm()\n",
        "norma"
      ],
      "execution_count": null,
      "outputs": [
        {
          "output_type": "execute_result",
          "data": {
            "text/plain": [
              "sqrt(13)"
            ],
            "text/latex": "$\\displaystyle \\sqrt{13}$"
          },
          "metadata": {},
          "execution_count": 10
        }
      ]
    },
    {
      "cell_type": "code",
      "metadata": {
        "colab": {
          "base_uri": "https://localhost:8080/",
          "height": 17
        },
        "id": "_5GZQTB3gz18",
        "outputId": "e7953f7d-5b6f-412a-b7ab-58641e9607d6"
      },
      "source": [
        "tetha = 180-(atan(abs(v[1]/abs(v[0])))*(180/pi))\n",
        "tetha.evalf(3)"
      ],
      "execution_count": null,
      "outputs": [
        {
          "output_type": "execute_result",
          "data": {
            "text/plain": [
              "146."
            ],
            "text/latex": "$\\displaystyle 146.0$"
          },
          "metadata": {},
          "execution_count": 11
        }
      ]
    },
    {
      "cell_type": "markdown",
      "metadata": {
        "id": "b76_3I1xenic"
      },
      "source": [
        "<p><height=\"45px\" src=\"<a href=\"https://ibb.co/pZYMC0T\"><img src=\"https://i.ibb.co/ZL1WsdZ/poll.png\" align=\"left\" alt=\"\" width=\"4%\" height=\"5%\"></a><p> <H1><strong>&nbsp;Actividad de práctica</strong>\n",
        "\n",
        "Completa el código para hallar el ángulo respecto al eje $x$ de un vector bidimensional no nulo en el plano , fijado en el origen."
      ]
    },
    {
      "cell_type": "code",
      "metadata": {
        "id": "ICVOfVmsQc69"
      },
      "source": [
        "A = Matrix([-30,-20])\n",
        "\n",
        "if A[0]> 0 and A[1]> 0 :\n",
        "    angulo = atan(abs(A[0])/abs(A[1]))*(180/pi)\n",
        "\n",
        "if A[0]< 0 and A[1]> 0:\n",
        "    angulo =\n",
        "\n",
        "if A[0]< 0 and A[1]< 0:\n",
        "    angulo = \n",
        "\n",
        "if A[0]> 0 and A[1]< 0:\n",
        "    angulo = \n",
        "\n",
        "angulo.evalf(5)\n"
      ],
      "execution_count": null,
      "outputs": []
    },
    {
      "cell_type": "markdown",
      "metadata": {
        "id": "tHQZ5dL7LHEu"
      },
      "source": [
        "#**Ángulos directores de un vector tridimensional**\n",
        "\n",
        "Si $\\vec{V}$ es un vector tridimensional fijado en el origen y **no nulo** los ángulos directores de $\\vec{V} = (A_x,A_y,A_z)$ son: $\\alpha$,  $\\beta$  y $\\gamma$ los cuales son los ángulos que determina el vector respectivamente con el eje $x$ positivo, el eje $y$ positivo y el el eje $z$ positivo.\n",
        "\n",
        "<center><img src=\"https://github.com/josorio398/ALGEBRA-LINEAL-CON-PYTHON/blob/master/im%C3%A1genes%20repositorio/direcci%C3%B3n%20espacio%20final.png?raw=true\"  height=\"250\" /> </center>\n",
        "\n",
        "Para encontrar dichos ángulos tenemos las siguientes ecuaciones:\n",
        "<br> </br>\n",
        "$$\\alpha = arccos{\\left(\\dfrac{A_x}{\\,|\\vert \\vec{A} \\,|\\vert}\\right)},\\hspace{5mm} \\beta = arccos{\\left(\\dfrac{A_y}{\\,|\\vert \\vec{A} \\,|\\vert}\\right)}, \\hspace{5mm} \\gamma = arccos{\\left(\\dfrac{A_z}{\\,|\\vert \\vec{A} \\,|\\vert}\\right)} $$\n",
        "<br> </br>\n",
        "Si definimos $\\cos(\\alpha),\\cos(\\beta),\\cos(\\gamma)$ como los **cosenos directores** del vector  $\\vec{V} = (A_x,A_y,A_z)$ estos se pueden obtener de las ecuaciones anteriores de la siguiente forma:\n",
        "<br> </br>\n",
        "$$\\cos{\\alpha} = \\dfrac{A_x}{\\,|\\vert \\vec{A} \\,|\\vert},\\hspace{5mm} \\cos{\\beta} = \\dfrac{A_y}{\\,|\\vert \\vec{A} \\,|\\vert}, \\hspace{5mm} \\cos{\\gamma} =\\dfrac{A_z}{\\,|\\vert \\vec{A} \\,|\\vert}$$\n",
        "<br> </br>\n",
        "El vector $(\\cos{\\alpha},\\cos{\\beta},\\cos{\\gamma})$ cuyas componentes son los **cosenos directores** se define como el **vector director** del vector $\\vec{V}$.\n",
        "\n",
        "##**Ejemplo:**\n",
        "\n",
        "Dado el vector $\\vec{V} = (1,-2,-3)$ encuentra los **ángulos directores** del vector $\\vec{V}$ en grados, encuentra el **vector director** de $V$ y realiza la gráfica del vector $V$ y su vector director en el mismo espacio.\n",
        "\n",
        "\n"
      ]
    },
    {
      "cell_type": "markdown",
      "metadata": {
        "id": "Ov-RCMA6Kn5v"
      },
      "source": [
        "###**Ángulos directores**"
      ]
    },
    {
      "cell_type": "code",
      "metadata": {
        "colab": {
          "base_uri": "https://localhost:8080/"
        },
        "id": "4O99lI5ZgP5C",
        "outputId": "74c67c58-5c4a-4b4d-e70c-8944ef798f89"
      },
      "source": [
        "V = Matrix([-3,5,2])\n",
        "\n",
        "norm = A.norm().evalf(3)\n",
        "\n",
        "\n",
        "alfa_rad  = acos(V[0]/norm)\n",
        "beta_rad  = acos(V[1]/norm)\n",
        "gamma_rad = acos(V[2]/norm)\n",
        "\n",
        "alfa  = alfa_rad*(180/pi).evalf(5)\n",
        "beta  = beta_rad*(180/pi).evalf(5)\n",
        "gamma = gamma_rad*(180/pi).evalf(5)\n",
        "\n",
        "alfa,beta,gamma\n"
      ],
      "execution_count": 30,
      "outputs": [
        {
          "output_type": "execute_result",
          "data": {
            "text/plain": [
              "(146.32, 48.889*I, 56.310)"
            ]
          },
          "metadata": {},
          "execution_count": 30
        }
      ]
    },
    {
      "cell_type": "markdown",
      "metadata": {
        "id": "1ratc54_IXxZ"
      },
      "source": [
        "###**Vector director $V_d$**"
      ]
    },
    {
      "cell_type": "code",
      "metadata": {
        "colab": {
          "base_uri": "https://localhost:8080/",
          "height": 78
        },
        "id": "ulFU4DP0B9ug",
        "outputId": "537c914e-c02a-4152-a516-8db759a22d23"
      },
      "source": [
        "V_d = Matrix([cos(alfa_rad),cos(beta_rad),cos(gamma_rad)])\n",
        "V_d "
      ],
      "execution_count": 31,
      "outputs": [
        {
          "output_type": "execute_result",
          "data": {
            "text/plain": [
              "Matrix([\n",
              "[-0.832],\n",
              "[  1.39],\n",
              "[ 0.555]])"
            ],
            "text/latex": "$\\displaystyle \\left[\\begin{matrix}-0.832\\\\1.39\\\\0.555\\end{matrix}\\right]$"
          },
          "metadata": {},
          "execution_count": 31
        }
      ]
    },
    {
      "cell_type": "markdown",
      "metadata": {
        "id": "brNlHT05JNQM"
      },
      "source": [
        "###**Gráfica de $V$ y su vector director $V_d$**"
      ]
    },
    {
      "cell_type": "code",
      "metadata": {
        "colab": {
          "base_uri": "https://localhost:8080/",
          "height": 497
        },
        "id": "k2Zf30Gvux-d",
        "outputId": "4e36567a-4f9b-4b9e-98ec-0ff8b82720fe"
      },
      "source": [
        "plotvectors3D(V,V_d)"
      ],
      "execution_count": 32,
      "outputs": [
        {
          "output_type": "display_data",
          "data": {
            "text/html": [
              "<html>\n",
              "<head><meta charset=\"utf-8\" /></head>\n",
              "<body>\n",
              "    <div>            <script src=\"https://cdnjs.cloudflare.com/ajax/libs/mathjax/2.7.5/MathJax.js?config=TeX-AMS-MML_SVG\"></script><script type=\"text/javascript\">if (window.MathJax) {MathJax.Hub.Config({SVG: {font: \"STIX-Web\"}});}</script>                <script type=\"text/javascript\">window.PlotlyConfig = {MathJaxConfig: 'local'};</script>\n",
              "        <script src=\"https://cdn.plot.ly/plotly-2.2.0.min.js\"></script>                <div id=\"89694d43-472c-4c53-884a-e38eb38bcfc0\" class=\"plotly-graph-div\" style=\"height:480px; width:480px;\"></div>            <script type=\"text/javascript\">                                    window.PLOTLYENV=window.PLOTLYENV || {};                                    if (document.getElementById(\"89694d43-472c-4c53-884a-e38eb38bcfc0\")) {                    Plotly.newPlot(                        \"89694d43-472c-4c53-884a-e38eb38bcfc0\",                        [{\"line\":{\"color\":\"rgb(137,191,109)\",\"width\":7},\"marker\":{\"color\":\"rgb(137,191,109)\",\"size\":1},\"name\":\"vector 1\",\"type\":\"scatter3d\",\"x\":[0,-3.0],\"y\":[0,5.0],\"z\":[0,2.0]},{\"anchor\":\"cm\",\"colorbar\":{\"thickness\":20,\"ticklen\":4},\"colorscale\":[[0,\"rgb(137,191,109)\"],[1,\"rgb(137,191,109)\"]],\"name\":\"vector 1\",\"showscale\":false,\"sizemode\":\"absolute\",\"sizeref\":0.23333333333333334,\"type\":\"cone\",\"u\":[-3.0],\"v\":[5.0],\"w\":[2.0],\"x\":[-3.0],\"y\":[5.0],\"z\":[2.0]},{\"line\":{\"color\":\"rgb(200,123,41)\",\"width\":7},\"marker\":{\"color\":\"rgb(200,123,41)\",\"size\":1},\"name\":\"vector 2\",\"type\":\"scatter3d\",\"x\":[0,-0.8321533203125],\"y\":[0,1.38671875],\"z\":[0,0.5546875]},{\"anchor\":\"cm\",\"colorbar\":{\"thickness\":20,\"ticklen\":4},\"colorscale\":[[0,\"rgb(200,123,41)\"],[1,\"rgb(200,123,41)\"]],\"name\":\"vector 2\",\"showscale\":false,\"sizemode\":\"absolute\",\"sizeref\":0.23333333333333334,\"type\":\"cone\",\"u\":[-0.8321533203125],\"v\":[1.38671875],\"w\":[0.5546875],\"x\":[-0.8321533203125],\"y\":[1.38671875],\"z\":[0.5546875]},{\"marker\":{\"color\":\"#2a3f5f\",\"size\":5},\"mode\":\"markers\",\"name\":\"origen\",\"showlegend\":true,\"type\":\"scatter3d\",\"x\":[0],\"y\":[0],\"z\":[0]},{\"hoverinfo\":\"skip\",\"line\":{\"color\":\"#2a3f5f\",\"width\":3},\"marker\":{\"color\":\"#2a3f5f\",\"size\":1},\"name\":\"\",\"showlegend\":false,\"type\":\"scatter3d\",\"x\":[-3.2333333333333334,0.23333333333333334],\"y\":[0,0],\"z\":[0,0]},{\"anchor\":\"cm\",\"colorbar\":{\"thickness\":20,\"ticklen\":4},\"colorscale\":[[0,\"#2a3f5f\"],[1,\"#2a3f5f\"]],\"hoverinfo\":\"name\",\"name\":\"Eje x-positivo\",\"showscale\":false,\"sizemode\":\"absolute\",\"sizeref\":0.13999999999999999,\"type\":\"cone\",\"u\":[0.23333333333333334],\"v\":[0],\"w\":[0],\"x\":[0.23333333333333334],\"y\":[0],\"z\":[0]},{\"hoverinfo\":\"skip\",\"line\":{\"color\":\"#2a3f5f\",\"width\":3},\"marker\":{\"color\":\"#2a3f5f\",\"size\":1},\"name\":\"\",\"showlegend\":false,\"type\":\"scatter3d\",\"x\":[0,0],\"y\":[-0.23333333333333334,5.233333333333333],\"z\":[0,0]},{\"anchor\":\"cm\",\"colorbar\":{\"thickness\":20,\"ticklen\":4},\"colorscale\":[[0,\"#2a3f5f\"],[1,\"#2a3f5f\"]],\"hoverinfo\":\"name\",\"name\":\"Eje y-positivo \",\"showscale\":false,\"sizemode\":\"absolute\",\"sizeref\":0.13999999999999999,\"type\":\"cone\",\"u\":[0],\"v\":[5.233333333333333],\"w\":[0],\"x\":[0],\"y\":[5.233333333333333],\"z\":[0]},{\"hoverinfo\":\"skip\",\"line\":{\"color\":\"#2a3f5f\",\"width\":3},\"marker\":{\"color\":\"#2a3f5f\",\"size\":1},\"name\":\"eje z-positivo\",\"showlegend\":false,\"type\":\"scatter3d\",\"x\":[0,0],\"y\":[0,0],\"z\":[-0.5333333333333333,2.2333333333333334]},{\"anchor\":\"cm\",\"colorbar\":{\"thickness\":20,\"ticklen\":4},\"colorscale\":[[0,\"#2a3f5f\"],[1,\"#2a3f5f\"]],\"hoverinfo\":\"name\",\"name\":\"Eje z-positivo\",\"showscale\":false,\"sizemode\":\"absolute\",\"sizeref\":0.13999999999999999,\"type\":\"cone\",\"u\":[0],\"v\":[0],\"w\":[2.2333333333333334],\"x\":[0],\"y\":[0],\"z\":[2.2333333333333334]}],                        {\"height\":480,\"legend\":{\"orientation\":\"h\",\"x\":0.03,\"y\":1.3},\"margin\":{\"b\":0,\"l\":0,\"r\":0,\"t\":0},\"showlegend\":true,\"template\":{\"data\":{\"bar\":[{\"error_x\":{\"color\":\"#2a3f5f\"},\"error_y\":{\"color\":\"#2a3f5f\"},\"marker\":{\"line\":{\"color\":\"#E5ECF6\",\"width\":0.5},\"pattern\":{\"fillmode\":\"overlay\",\"size\":10,\"solidity\":0.2}},\"type\":\"bar\"}],\"barpolar\":[{\"marker\":{\"line\":{\"color\":\"#E5ECF6\",\"width\":0.5},\"pattern\":{\"fillmode\":\"overlay\",\"size\":10,\"solidity\":0.2}},\"type\":\"barpolar\"}],\"carpet\":[{\"aaxis\":{\"endlinecolor\":\"#2a3f5f\",\"gridcolor\":\"white\",\"linecolor\":\"white\",\"minorgridcolor\":\"white\",\"startlinecolor\":\"#2a3f5f\"},\"baxis\":{\"endlinecolor\":\"#2a3f5f\",\"gridcolor\":\"white\",\"linecolor\":\"white\",\"minorgridcolor\":\"white\",\"startlinecolor\":\"#2a3f5f\"},\"type\":\"carpet\"}],\"choropleth\":[{\"colorbar\":{\"outlinewidth\":0,\"ticks\":\"\"},\"type\":\"choropleth\"}],\"contour\":[{\"colorbar\":{\"outlinewidth\":0,\"ticks\":\"\"},\"colorscale\":[[0.0,\"#0d0887\"],[0.1111111111111111,\"#46039f\"],[0.2222222222222222,\"#7201a8\"],[0.3333333333333333,\"#9c179e\"],[0.4444444444444444,\"#bd3786\"],[0.5555555555555556,\"#d8576b\"],[0.6666666666666666,\"#ed7953\"],[0.7777777777777778,\"#fb9f3a\"],[0.8888888888888888,\"#fdca26\"],[1.0,\"#f0f921\"]],\"type\":\"contour\"}],\"contourcarpet\":[{\"colorbar\":{\"outlinewidth\":0,\"ticks\":\"\"},\"type\":\"contourcarpet\"}],\"heatmap\":[{\"colorbar\":{\"outlinewidth\":0,\"ticks\":\"\"},\"colorscale\":[[0.0,\"#0d0887\"],[0.1111111111111111,\"#46039f\"],[0.2222222222222222,\"#7201a8\"],[0.3333333333333333,\"#9c179e\"],[0.4444444444444444,\"#bd3786\"],[0.5555555555555556,\"#d8576b\"],[0.6666666666666666,\"#ed7953\"],[0.7777777777777778,\"#fb9f3a\"],[0.8888888888888888,\"#fdca26\"],[1.0,\"#f0f921\"]],\"type\":\"heatmap\"}],\"heatmapgl\":[{\"colorbar\":{\"outlinewidth\":0,\"ticks\":\"\"},\"colorscale\":[[0.0,\"#0d0887\"],[0.1111111111111111,\"#46039f\"],[0.2222222222222222,\"#7201a8\"],[0.3333333333333333,\"#9c179e\"],[0.4444444444444444,\"#bd3786\"],[0.5555555555555556,\"#d8576b\"],[0.6666666666666666,\"#ed7953\"],[0.7777777777777778,\"#fb9f3a\"],[0.8888888888888888,\"#fdca26\"],[1.0,\"#f0f921\"]],\"type\":\"heatmapgl\"}],\"histogram\":[{\"marker\":{\"pattern\":{\"fillmode\":\"overlay\",\"size\":10,\"solidity\":0.2}},\"type\":\"histogram\"}],\"histogram2d\":[{\"colorbar\":{\"outlinewidth\":0,\"ticks\":\"\"},\"colorscale\":[[0.0,\"#0d0887\"],[0.1111111111111111,\"#46039f\"],[0.2222222222222222,\"#7201a8\"],[0.3333333333333333,\"#9c179e\"],[0.4444444444444444,\"#bd3786\"],[0.5555555555555556,\"#d8576b\"],[0.6666666666666666,\"#ed7953\"],[0.7777777777777778,\"#fb9f3a\"],[0.8888888888888888,\"#fdca26\"],[1.0,\"#f0f921\"]],\"type\":\"histogram2d\"}],\"histogram2dcontour\":[{\"colorbar\":{\"outlinewidth\":0,\"ticks\":\"\"},\"colorscale\":[[0.0,\"#0d0887\"],[0.1111111111111111,\"#46039f\"],[0.2222222222222222,\"#7201a8\"],[0.3333333333333333,\"#9c179e\"],[0.4444444444444444,\"#bd3786\"],[0.5555555555555556,\"#d8576b\"],[0.6666666666666666,\"#ed7953\"],[0.7777777777777778,\"#fb9f3a\"],[0.8888888888888888,\"#fdca26\"],[1.0,\"#f0f921\"]],\"type\":\"histogram2dcontour\"}],\"mesh3d\":[{\"colorbar\":{\"outlinewidth\":0,\"ticks\":\"\"},\"type\":\"mesh3d\"}],\"parcoords\":[{\"line\":{\"colorbar\":{\"outlinewidth\":0,\"ticks\":\"\"}},\"type\":\"parcoords\"}],\"pie\":[{\"automargin\":true,\"type\":\"pie\"}],\"scatter\":[{\"marker\":{\"colorbar\":{\"outlinewidth\":0,\"ticks\":\"\"}},\"type\":\"scatter\"}],\"scatter3d\":[{\"line\":{\"colorbar\":{\"outlinewidth\":0,\"ticks\":\"\"}},\"marker\":{\"colorbar\":{\"outlinewidth\":0,\"ticks\":\"\"}},\"type\":\"scatter3d\"}],\"scattercarpet\":[{\"marker\":{\"colorbar\":{\"outlinewidth\":0,\"ticks\":\"\"}},\"type\":\"scattercarpet\"}],\"scattergeo\":[{\"marker\":{\"colorbar\":{\"outlinewidth\":0,\"ticks\":\"\"}},\"type\":\"scattergeo\"}],\"scattergl\":[{\"marker\":{\"colorbar\":{\"outlinewidth\":0,\"ticks\":\"\"}},\"type\":\"scattergl\"}],\"scattermapbox\":[{\"marker\":{\"colorbar\":{\"outlinewidth\":0,\"ticks\":\"\"}},\"type\":\"scattermapbox\"}],\"scatterpolar\":[{\"marker\":{\"colorbar\":{\"outlinewidth\":0,\"ticks\":\"\"}},\"type\":\"scatterpolar\"}],\"scatterpolargl\":[{\"marker\":{\"colorbar\":{\"outlinewidth\":0,\"ticks\":\"\"}},\"type\":\"scatterpolargl\"}],\"scatterternary\":[{\"marker\":{\"colorbar\":{\"outlinewidth\":0,\"ticks\":\"\"}},\"type\":\"scatterternary\"}],\"surface\":[{\"colorbar\":{\"outlinewidth\":0,\"ticks\":\"\"},\"colorscale\":[[0.0,\"#0d0887\"],[0.1111111111111111,\"#46039f\"],[0.2222222222222222,\"#7201a8\"],[0.3333333333333333,\"#9c179e\"],[0.4444444444444444,\"#bd3786\"],[0.5555555555555556,\"#d8576b\"],[0.6666666666666666,\"#ed7953\"],[0.7777777777777778,\"#fb9f3a\"],[0.8888888888888888,\"#fdca26\"],[1.0,\"#f0f921\"]],\"type\":\"surface\"}],\"table\":[{\"cells\":{\"fill\":{\"color\":\"#EBF0F8\"},\"line\":{\"color\":\"white\"}},\"header\":{\"fill\":{\"color\":\"#C8D4E3\"},\"line\":{\"color\":\"white\"}},\"type\":\"table\"}]},\"layout\":{\"annotationdefaults\":{\"arrowcolor\":\"#2a3f5f\",\"arrowhead\":0,\"arrowwidth\":1},\"autotypenumbers\":\"strict\",\"coloraxis\":{\"colorbar\":{\"outlinewidth\":0,\"ticks\":\"\"}},\"colorscale\":{\"diverging\":[[0,\"#8e0152\"],[0.1,\"#c51b7d\"],[0.2,\"#de77ae\"],[0.3,\"#f1b6da\"],[0.4,\"#fde0ef\"],[0.5,\"#f7f7f7\"],[0.6,\"#e6f5d0\"],[0.7,\"#b8e186\"],[0.8,\"#7fbc41\"],[0.9,\"#4d9221\"],[1,\"#276419\"]],\"sequential\":[[0.0,\"#0d0887\"],[0.1111111111111111,\"#46039f\"],[0.2222222222222222,\"#7201a8\"],[0.3333333333333333,\"#9c179e\"],[0.4444444444444444,\"#bd3786\"],[0.5555555555555556,\"#d8576b\"],[0.6666666666666666,\"#ed7953\"],[0.7777777777777778,\"#fb9f3a\"],[0.8888888888888888,\"#fdca26\"],[1.0,\"#f0f921\"]],\"sequentialminus\":[[0.0,\"#0d0887\"],[0.1111111111111111,\"#46039f\"],[0.2222222222222222,\"#7201a8\"],[0.3333333333333333,\"#9c179e\"],[0.4444444444444444,\"#bd3786\"],[0.5555555555555556,\"#d8576b\"],[0.6666666666666666,\"#ed7953\"],[0.7777777777777778,\"#fb9f3a\"],[0.8888888888888888,\"#fdca26\"],[1.0,\"#f0f921\"]]},\"colorway\":[\"#636efa\",\"#EF553B\",\"#00cc96\",\"#ab63fa\",\"#FFA15A\",\"#19d3f3\",\"#FF6692\",\"#B6E880\",\"#FF97FF\",\"#FECB52\"],\"font\":{\"color\":\"#2a3f5f\"},\"geo\":{\"bgcolor\":\"white\",\"lakecolor\":\"white\",\"landcolor\":\"#E5ECF6\",\"showlakes\":true,\"showland\":true,\"subunitcolor\":\"white\"},\"hoverlabel\":{\"align\":\"left\"},\"hovermode\":\"closest\",\"mapbox\":{\"style\":\"light\"},\"paper_bgcolor\":\"white\",\"plot_bgcolor\":\"#E5ECF6\",\"polar\":{\"angularaxis\":{\"gridcolor\":\"white\",\"linecolor\":\"white\",\"ticks\":\"\"},\"bgcolor\":\"#E5ECF6\",\"radialaxis\":{\"gridcolor\":\"white\",\"linecolor\":\"white\",\"ticks\":\"\"}},\"scene\":{\"xaxis\":{\"backgroundcolor\":\"#E5ECF6\",\"gridcolor\":\"white\",\"gridwidth\":2,\"linecolor\":\"white\",\"showbackground\":true,\"ticks\":\"\",\"zerolinecolor\":\"white\"},\"yaxis\":{\"backgroundcolor\":\"#E5ECF6\",\"gridcolor\":\"white\",\"gridwidth\":2,\"linecolor\":\"white\",\"showbackground\":true,\"ticks\":\"\",\"zerolinecolor\":\"white\"},\"zaxis\":{\"backgroundcolor\":\"#E5ECF6\",\"gridcolor\":\"white\",\"gridwidth\":2,\"linecolor\":\"white\",\"showbackground\":true,\"ticks\":\"\",\"zerolinecolor\":\"white\"}},\"shapedefaults\":{\"line\":{\"color\":\"#2a3f5f\"}},\"ternary\":{\"aaxis\":{\"gridcolor\":\"white\",\"linecolor\":\"white\",\"ticks\":\"\"},\"baxis\":{\"gridcolor\":\"white\",\"linecolor\":\"white\",\"ticks\":\"\"},\"bgcolor\":\"#E5ECF6\",\"caxis\":{\"gridcolor\":\"white\",\"linecolor\":\"white\",\"ticks\":\"\"}},\"title\":{\"x\":0.05},\"xaxis\":{\"automargin\":true,\"gridcolor\":\"white\",\"linecolor\":\"white\",\"ticks\":\"\",\"title\":{\"standoff\":15},\"zerolinecolor\":\"white\",\"zerolinewidth\":2},\"yaxis\":{\"automargin\":true,\"gridcolor\":\"white\",\"linecolor\":\"white\",\"ticks\":\"\",\"title\":{\"standoff\":15},\"zerolinecolor\":\"white\",\"zerolinewidth\":2}}},\"title\":{\"font\":{\"color\":\"rgb(1,21,51)\",\"size\":50}},\"width\":480},                        {\"responsive\": true}                    ).then(function(){\n",
              "                            \n",
              "var gd = document.getElementById('89694d43-472c-4c53-884a-e38eb38bcfc0');\n",
              "var x = new MutationObserver(function (mutations, observer) {{\n",
              "        var display = window.getComputedStyle(gd).display;\n",
              "        if (!display || display === 'none') {{\n",
              "            console.log([gd, 'removed!']);\n",
              "            Plotly.purge(gd);\n",
              "            observer.disconnect();\n",
              "        }}\n",
              "}});\n",
              "\n",
              "// Listen for the removal of the full notebook cells\n",
              "var notebookContainer = gd.closest('#notebook-container');\n",
              "if (notebookContainer) {{\n",
              "    x.observe(notebookContainer, {childList: true});\n",
              "}}\n",
              "\n",
              "// Listen for the clearing of the current output cell\n",
              "var outputEl = gd.closest('.output');\n",
              "if (outputEl) {{\n",
              "    x.observe(outputEl, {childList: true});\n",
              "}}\n",
              "\n",
              "                        })                };                            </script>        </div>\n",
              "</body>\n",
              "</html>"
            ]
          },
          "metadata": {}
        }
      ]
    },
    {
      "cell_type": "markdown",
      "metadata": {
        "id": "bsZa_kCNFxvJ"
      },
      "source": [
        "<p><height=\"45px\" src=\"<a href=\"https://ibb.co/pZYMC0T\"><img src=\"https://i.ibb.co/ZL1WsdZ/poll.png\" align=\"left\" alt=\"\" width=\"4%\" height=\"5%\"></a><p> <H1><strong>&nbsp;Actividad de práctica</strong>\n",
        "\n",
        "Dado el vector $\\vec{v} = (-2,3,4)$ tridimensional, encuentra:\n",
        "\n",
        "*   la magnitud o norma del vector $\\vec{v}$.\n",
        "*   los **ángulos directores** del vector $\\vec{v}$.\n",
        "*   el **vector director** asociado a  $\\vec{v}$.\n",
        "*   la magnitud o norma del  **vector director** hallado anteriormente.\n",
        "*   realiza la grafica de los vectores $\\vec{v}$ y el **vector director** en el mismo espacio.\n",
        "* ¿ Qué conclusión puedes decir de la grafica realizada anteriormente?"
      ]
    },
    {
      "cell_type": "code",
      "metadata": {
        "id": "qlXkOnexFxvT"
      },
      "source": [
        ""
      ],
      "execution_count": null,
      "outputs": []
    },
    {
      "cell_type": "markdown",
      "metadata": {
        "id": "z-PeVDFYRNAP"
      },
      "source": [
        "#**COMPONENTES DE UN VECTOR**\n",
        "#**Componentes de un vector bidimensional**\n",
        "Dada la magnitud o norma de un vector bidimensional y el ángulo que forma con el eje $x$ positivo, es posible obtener sus componentes de la siguinte forma:\n",
        "\n",
        "<center><img src=\"https://github.com/josorio398/ALGEBRA-LINEAL-CON-PYTHON/blob/master/im%C3%A1genes%20repositorio/componentes%20bidimensional.png?raw=true\"  height=\"250\" /> </center>\n",
        "\n",
        "Sea $\\vec{A}=(A_x,A_y)$ un vector bidimensional con magnitud $\\,|\\vert \\vec{A} \\,|\\vert$ y $\\theta$  el ángulo que determina con el eje $x$ positivo, sus componentes se pueden calcular con las siguientes ecuaciones:\n",
        "\n",
        "$$A_x = \\,|\\vert \\vec{A} \\,|\\vert \\cos(\\theta) \\hspace{8mm}  A_y = \\,|\\vert \\vec{A} \\,|\\vert \\sin(\\theta) $$\n",
        "\n",
        "##**Ejemplo:**\n",
        "\n",
        "Halla las componentes de un vector bidimensional $\\vec{V}$ siendo $ \\,|\\vert \\vec{V} \\,|\\vert = 5$ y la medida del ángulo respecto al eje $x$ positivo es $210°$, realiza la gráfica del vector usando la función **plotvector2D** y **plotpolarvectors** para verificar que son iguales."
      ]
    },
    {
      "cell_type": "code",
      "metadata": {
        "colab": {
          "base_uri": "https://localhost:8080/",
          "height": 57
        },
        "id": "dy9nabJTLZFu",
        "outputId": "b13b8c8d-b9ac-4151-9705-9d6f5ffd3e7c"
      },
      "source": [
        "norm = 10\n",
        "angulo_rad = 240*(pi/180)\n",
        "\n",
        "V_x = norm*cos(angulo_rad).evalf(3)\n",
        "V_y = norm*sin(angulo_rad).evalf(3)\n",
        "\n",
        "V = Matrix([V_x,V_y])\n",
        "V"
      ],
      "execution_count": null,
      "outputs": [
        {
          "output_type": "execute_result",
          "data": {
            "text/latex": "$\\displaystyle \\left[\\begin{matrix}-5.0\\\\-8.66\\end{matrix}\\right]$",
            "text/plain": [
              "Matrix([\n",
              "[ -5.0],\n",
              "[-8.66]])"
            ]
          },
          "metadata": {},
          "execution_count": 22
        }
      ]
    },
    {
      "cell_type": "code",
      "metadata": {
        "colab": {
          "base_uri": "https://localhost:8080/",
          "height": 497
        },
        "id": "wsuY38JeOENu",
        "outputId": "026e7117-3b2d-44c9-d066-5a998accbe6a"
      },
      "source": [
        "plotvectors2D([10,\"240\"])"
      ],
      "execution_count": null,
      "outputs": [
        {
          "output_type": "display_data",
          "data": {
            "text/html": [
              "<html>\n",
              "<head><meta charset=\"utf-8\" /></head>\n",
              "<body>\n",
              "    <div>            <script src=\"https://cdnjs.cloudflare.com/ajax/libs/mathjax/2.7.5/MathJax.js?config=TeX-AMS-MML_SVG\"></script><script type=\"text/javascript\">if (window.MathJax) {MathJax.Hub.Config({SVG: {font: \"STIX-Web\"}});}</script>                <script type=\"text/javascript\">window.PlotlyConfig = {MathJaxConfig: 'local'};</script>\n",
              "        <script src=\"https://cdn.plot.ly/plotly-2.2.0.min.js\"></script>                <div id=\"3554eed1-e352-4a78-989e-f58b64bbac1b\" class=\"plotly-graph-div\" style=\"height:480px; width:500px;\"></div>            <script type=\"text/javascript\">                                    window.PLOTLYENV=window.PLOTLYENV || {};                                    if (document.getElementById(\"3554eed1-e352-4a78-989e-f58b64bbac1b\")) {                    Plotly.newPlot(                        \"3554eed1-e352-4a78-989e-f58b64bbac1b\",                        [{\"marker\":{\"color\":\"rgb(113,4,97)\",\"size\":8},\"mode\":\"lines\",\"name\":\"vector 1\",\"showlegend\":true,\"type\":\"scatter\",\"x\":[0,-5.0],\"y\":[0,-8.66]},{\"marker\":{\"color\":\"#2a3f5f\",\"size\":9},\"mode\":\"markers\",\"name\":\"origen\",\"opacity\":1,\"showlegend\":true,\"type\":\"scatter\",\"x\":[0],\"y\":[0]}],                        {\"annotations\":[{\"arrowcolor\":\"rgb(113,4,97)\",\"arrowhead\":2,\"arrowsize\":1.5,\"arrowwidth\":2.3,\"ax\":0.0,\"axref\":\"x\",\"ay\":0.0,\"ayref\":\"y\",\"showarrow\":true,\"x\":-5.0,\"xref\":\"x\",\"y\":-8.66,\"yref\":\"y\"},{\"arrowcolor\":\"#2a3f5f\",\"arrowhead\":2,\"arrowwidth\":1.5,\"ax\":-5.54,\"axref\":\"x\",\"ay\":0,\"ayref\":\"y\",\"x\":0.5,\"xref\":\"x\",\"y\":0,\"yref\":\"y\"},{\"arrowcolor\":\"#2a3f5f\",\"arrowhead\":2,\"arrowwidth\":1.5,\"ax\":0,\"axref\":\"x\",\"ay\":-9.2,\"ayref\":\"y\",\"x\":0,\"xref\":\"x\",\"y\":0.5,\"yref\":\"y\"}],\"font\":{\"color\":\"black\",\"family\":\"latex\",\"size\":20},\"height\":480,\"legend\":{\"itemdoubleclick\":\"toggle\",\"orientation\":\"h\",\"x\":1,\"xanchor\":\"right\",\"y\":1.02,\"yanchor\":\"bottom\"},\"showlegend\":true,\"template\":{\"data\":{\"bar\":[{\"error_x\":{\"color\":\"#2a3f5f\"},\"error_y\":{\"color\":\"#2a3f5f\"},\"marker\":{\"line\":{\"color\":\"#E5ECF6\",\"width\":0.5},\"pattern\":{\"fillmode\":\"overlay\",\"size\":10,\"solidity\":0.2}},\"type\":\"bar\"}],\"barpolar\":[{\"marker\":{\"line\":{\"color\":\"#E5ECF6\",\"width\":0.5},\"pattern\":{\"fillmode\":\"overlay\",\"size\":10,\"solidity\":0.2}},\"type\":\"barpolar\"}],\"carpet\":[{\"aaxis\":{\"endlinecolor\":\"#2a3f5f\",\"gridcolor\":\"white\",\"linecolor\":\"white\",\"minorgridcolor\":\"white\",\"startlinecolor\":\"#2a3f5f\"},\"baxis\":{\"endlinecolor\":\"#2a3f5f\",\"gridcolor\":\"white\",\"linecolor\":\"white\",\"minorgridcolor\":\"white\",\"startlinecolor\":\"#2a3f5f\"},\"type\":\"carpet\"}],\"choropleth\":[{\"colorbar\":{\"outlinewidth\":0,\"ticks\":\"\"},\"type\":\"choropleth\"}],\"contour\":[{\"colorbar\":{\"outlinewidth\":0,\"ticks\":\"\"},\"colorscale\":[[0.0,\"#0d0887\"],[0.1111111111111111,\"#46039f\"],[0.2222222222222222,\"#7201a8\"],[0.3333333333333333,\"#9c179e\"],[0.4444444444444444,\"#bd3786\"],[0.5555555555555556,\"#d8576b\"],[0.6666666666666666,\"#ed7953\"],[0.7777777777777778,\"#fb9f3a\"],[0.8888888888888888,\"#fdca26\"],[1.0,\"#f0f921\"]],\"type\":\"contour\"}],\"contourcarpet\":[{\"colorbar\":{\"outlinewidth\":0,\"ticks\":\"\"},\"type\":\"contourcarpet\"}],\"heatmap\":[{\"colorbar\":{\"outlinewidth\":0,\"ticks\":\"\"},\"colorscale\":[[0.0,\"#0d0887\"],[0.1111111111111111,\"#46039f\"],[0.2222222222222222,\"#7201a8\"],[0.3333333333333333,\"#9c179e\"],[0.4444444444444444,\"#bd3786\"],[0.5555555555555556,\"#d8576b\"],[0.6666666666666666,\"#ed7953\"],[0.7777777777777778,\"#fb9f3a\"],[0.8888888888888888,\"#fdca26\"],[1.0,\"#f0f921\"]],\"type\":\"heatmap\"}],\"heatmapgl\":[{\"colorbar\":{\"outlinewidth\":0,\"ticks\":\"\"},\"colorscale\":[[0.0,\"#0d0887\"],[0.1111111111111111,\"#46039f\"],[0.2222222222222222,\"#7201a8\"],[0.3333333333333333,\"#9c179e\"],[0.4444444444444444,\"#bd3786\"],[0.5555555555555556,\"#d8576b\"],[0.6666666666666666,\"#ed7953\"],[0.7777777777777778,\"#fb9f3a\"],[0.8888888888888888,\"#fdca26\"],[1.0,\"#f0f921\"]],\"type\":\"heatmapgl\"}],\"histogram\":[{\"marker\":{\"pattern\":{\"fillmode\":\"overlay\",\"size\":10,\"solidity\":0.2}},\"type\":\"histogram\"}],\"histogram2d\":[{\"colorbar\":{\"outlinewidth\":0,\"ticks\":\"\"},\"colorscale\":[[0.0,\"#0d0887\"],[0.1111111111111111,\"#46039f\"],[0.2222222222222222,\"#7201a8\"],[0.3333333333333333,\"#9c179e\"],[0.4444444444444444,\"#bd3786\"],[0.5555555555555556,\"#d8576b\"],[0.6666666666666666,\"#ed7953\"],[0.7777777777777778,\"#fb9f3a\"],[0.8888888888888888,\"#fdca26\"],[1.0,\"#f0f921\"]],\"type\":\"histogram2d\"}],\"histogram2dcontour\":[{\"colorbar\":{\"outlinewidth\":0,\"ticks\":\"\"},\"colorscale\":[[0.0,\"#0d0887\"],[0.1111111111111111,\"#46039f\"],[0.2222222222222222,\"#7201a8\"],[0.3333333333333333,\"#9c179e\"],[0.4444444444444444,\"#bd3786\"],[0.5555555555555556,\"#d8576b\"],[0.6666666666666666,\"#ed7953\"],[0.7777777777777778,\"#fb9f3a\"],[0.8888888888888888,\"#fdca26\"],[1.0,\"#f0f921\"]],\"type\":\"histogram2dcontour\"}],\"mesh3d\":[{\"colorbar\":{\"outlinewidth\":0,\"ticks\":\"\"},\"type\":\"mesh3d\"}],\"parcoords\":[{\"line\":{\"colorbar\":{\"outlinewidth\":0,\"ticks\":\"\"}},\"type\":\"parcoords\"}],\"pie\":[{\"automargin\":true,\"type\":\"pie\"}],\"scatter\":[{\"marker\":{\"colorbar\":{\"outlinewidth\":0,\"ticks\":\"\"}},\"type\":\"scatter\"}],\"scatter3d\":[{\"line\":{\"colorbar\":{\"outlinewidth\":0,\"ticks\":\"\"}},\"marker\":{\"colorbar\":{\"outlinewidth\":0,\"ticks\":\"\"}},\"type\":\"scatter3d\"}],\"scattercarpet\":[{\"marker\":{\"colorbar\":{\"outlinewidth\":0,\"ticks\":\"\"}},\"type\":\"scattercarpet\"}],\"scattergeo\":[{\"marker\":{\"colorbar\":{\"outlinewidth\":0,\"ticks\":\"\"}},\"type\":\"scattergeo\"}],\"scattergl\":[{\"marker\":{\"colorbar\":{\"outlinewidth\":0,\"ticks\":\"\"}},\"type\":\"scattergl\"}],\"scattermapbox\":[{\"marker\":{\"colorbar\":{\"outlinewidth\":0,\"ticks\":\"\"}},\"type\":\"scattermapbox\"}],\"scatterpolar\":[{\"marker\":{\"colorbar\":{\"outlinewidth\":0,\"ticks\":\"\"}},\"type\":\"scatterpolar\"}],\"scatterpolargl\":[{\"marker\":{\"colorbar\":{\"outlinewidth\":0,\"ticks\":\"\"}},\"type\":\"scatterpolargl\"}],\"scatterternary\":[{\"marker\":{\"colorbar\":{\"outlinewidth\":0,\"ticks\":\"\"}},\"type\":\"scatterternary\"}],\"surface\":[{\"colorbar\":{\"outlinewidth\":0,\"ticks\":\"\"},\"colorscale\":[[0.0,\"#0d0887\"],[0.1111111111111111,\"#46039f\"],[0.2222222222222222,\"#7201a8\"],[0.3333333333333333,\"#9c179e\"],[0.4444444444444444,\"#bd3786\"],[0.5555555555555556,\"#d8576b\"],[0.6666666666666666,\"#ed7953\"],[0.7777777777777778,\"#fb9f3a\"],[0.8888888888888888,\"#fdca26\"],[1.0,\"#f0f921\"]],\"type\":\"surface\"}],\"table\":[{\"cells\":{\"fill\":{\"color\":\"#EBF0F8\"},\"line\":{\"color\":\"white\"}},\"header\":{\"fill\":{\"color\":\"#C8D4E3\"},\"line\":{\"color\":\"white\"}},\"type\":\"table\"}]},\"layout\":{\"annotationdefaults\":{\"arrowcolor\":\"#2a3f5f\",\"arrowhead\":0,\"arrowwidth\":1},\"autotypenumbers\":\"strict\",\"coloraxis\":{\"colorbar\":{\"outlinewidth\":0,\"ticks\":\"\"}},\"colorscale\":{\"diverging\":[[0,\"#8e0152\"],[0.1,\"#c51b7d\"],[0.2,\"#de77ae\"],[0.3,\"#f1b6da\"],[0.4,\"#fde0ef\"],[0.5,\"#f7f7f7\"],[0.6,\"#e6f5d0\"],[0.7,\"#b8e186\"],[0.8,\"#7fbc41\"],[0.9,\"#4d9221\"],[1,\"#276419\"]],\"sequential\":[[0.0,\"#0d0887\"],[0.1111111111111111,\"#46039f\"],[0.2222222222222222,\"#7201a8\"],[0.3333333333333333,\"#9c179e\"],[0.4444444444444444,\"#bd3786\"],[0.5555555555555556,\"#d8576b\"],[0.6666666666666666,\"#ed7953\"],[0.7777777777777778,\"#fb9f3a\"],[0.8888888888888888,\"#fdca26\"],[1.0,\"#f0f921\"]],\"sequentialminus\":[[0.0,\"#0d0887\"],[0.1111111111111111,\"#46039f\"],[0.2222222222222222,\"#7201a8\"],[0.3333333333333333,\"#9c179e\"],[0.4444444444444444,\"#bd3786\"],[0.5555555555555556,\"#d8576b\"],[0.6666666666666666,\"#ed7953\"],[0.7777777777777778,\"#fb9f3a\"],[0.8888888888888888,\"#fdca26\"],[1.0,\"#f0f921\"]]},\"colorway\":[\"#636efa\",\"#EF553B\",\"#00cc96\",\"#ab63fa\",\"#FFA15A\",\"#19d3f3\",\"#FF6692\",\"#B6E880\",\"#FF97FF\",\"#FECB52\"],\"font\":{\"color\":\"#2a3f5f\"},\"geo\":{\"bgcolor\":\"white\",\"lakecolor\":\"white\",\"landcolor\":\"#E5ECF6\",\"showlakes\":true,\"showland\":true,\"subunitcolor\":\"white\"},\"hoverlabel\":{\"align\":\"left\"},\"hovermode\":\"closest\",\"mapbox\":{\"style\":\"light\"},\"paper_bgcolor\":\"white\",\"plot_bgcolor\":\"#E5ECF6\",\"polar\":{\"angularaxis\":{\"gridcolor\":\"white\",\"linecolor\":\"white\",\"ticks\":\"\"},\"bgcolor\":\"#E5ECF6\",\"radialaxis\":{\"gridcolor\":\"white\",\"linecolor\":\"white\",\"ticks\":\"\"}},\"scene\":{\"xaxis\":{\"backgroundcolor\":\"#E5ECF6\",\"gridcolor\":\"white\",\"gridwidth\":2,\"linecolor\":\"white\",\"showbackground\":true,\"ticks\":\"\",\"zerolinecolor\":\"white\"},\"yaxis\":{\"backgroundcolor\":\"#E5ECF6\",\"gridcolor\":\"white\",\"gridwidth\":2,\"linecolor\":\"white\",\"showbackground\":true,\"ticks\":\"\",\"zerolinecolor\":\"white\"},\"zaxis\":{\"backgroundcolor\":\"#E5ECF6\",\"gridcolor\":\"white\",\"gridwidth\":2,\"linecolor\":\"white\",\"showbackground\":true,\"ticks\":\"\",\"zerolinecolor\":\"white\"}},\"shapedefaults\":{\"line\":{\"color\":\"#2a3f5f\"}},\"ternary\":{\"aaxis\":{\"gridcolor\":\"white\",\"linecolor\":\"white\",\"ticks\":\"\"},\"baxis\":{\"gridcolor\":\"white\",\"linecolor\":\"white\",\"ticks\":\"\"},\"bgcolor\":\"#E5ECF6\",\"caxis\":{\"gridcolor\":\"white\",\"linecolor\":\"white\",\"ticks\":\"\"}},\"title\":{\"x\":0.05},\"xaxis\":{\"automargin\":true,\"gridcolor\":\"white\",\"linecolor\":\"white\",\"ticks\":\"\",\"title\":{\"standoff\":15},\"zerolinecolor\":\"white\",\"zerolinewidth\":2},\"yaxis\":{\"automargin\":true,\"gridcolor\":\"white\",\"linecolor\":\"white\",\"ticks\":\"\",\"title\":{\"standoff\":15},\"zerolinecolor\":\"white\",\"zerolinewidth\":2}}},\"title\":{\"font\":{\"color\":\"rgb(1,21,51)\",\"size\":30}},\"width\":500,\"xaxis\":{\"range\":[-5.5,0.5],\"showgrid\":true,\"title\":{\"font\":{\"color\":\"rgb(1,21,51)\",\"family\":\"latex\",\"size\":30},\"text\":\"$\\\\large{x}$\"}},\"yaxis\":{\"range\":[-9.16,0.5],\"showgrid\":true,\"title\":{\"font\":{\"color\":\"rgb(1,21,51)\",\"family\":\"latex\",\"size\":30},\"text\":\"$\\\\large{y}$\"}}},                        {\"responsive\": true}                    ).then(function(){\n",
              "                            \n",
              "var gd = document.getElementById('3554eed1-e352-4a78-989e-f58b64bbac1b');\n",
              "var x = new MutationObserver(function (mutations, observer) {{\n",
              "        var display = window.getComputedStyle(gd).display;\n",
              "        if (!display || display === 'none') {{\n",
              "            console.log([gd, 'removed!']);\n",
              "            Plotly.purge(gd);\n",
              "            observer.disconnect();\n",
              "        }}\n",
              "}});\n",
              "\n",
              "// Listen for the removal of the full notebook cells\n",
              "var notebookContainer = gd.closest('#notebook-container');\n",
              "if (notebookContainer) {{\n",
              "    x.observe(notebookContainer, {childList: true});\n",
              "}}\n",
              "\n",
              "// Listen for the clearing of the current output cell\n",
              "var outputEl = gd.closest('.output');\n",
              "if (outputEl) {{\n",
              "    x.observe(outputEl, {childList: true});\n",
              "}}\n",
              "\n",
              "                        })                };                            </script>        </div>\n",
              "</body>\n",
              "</html>"
            ]
          },
          "metadata": {}
        }
      ]
    },
    {
      "cell_type": "markdown",
      "metadata": {
        "id": "Tv6xhAbgSjQz"
      },
      "source": [
        "#**Componentes de un vector tridimensional**\n",
        "\n",
        "Dada la magnitud o norma de un vector tridimensional y el ángulos directores $\\alpha$, $\\beta$ y $\\gamma$ que forma con el ejes positivos $x$, $y$, $z$, es posible obtener sus componentes de la siguinte forma:\n",
        "\n",
        "<center><img src=\"https://github.com/josorio398/ALGEBRA-LINEAL-CON-PYTHON/blob/master/im%C3%A1genes%20repositorio/componentes%20tridimensional.png?raw=true\"  height=\"250\" /> </center>\n",
        "\n",
        "Sea $\\vec{A}=(A_x,A_y,A_z)$ un vector tridimensional con magnitud $\\,|\\vert \\vec{A} \\,|\\vert$ y ángulos directores son $\\alpha$, $\\beta$ y $\\gamma$, sus componentes se pueden calcular con las siguientes ecuaciones:\n",
        "\n",
        "$$A_x = \\,|\\vert \\vec{A} \\,|\\vert \\cos(\\alpha) \\hspace{8mm}  A_y = \\,|\\vert \\vec{A} \\,|\\vert \\cos(\\beta) \\hspace{8mm}  A_z = \\,|\\vert \\vec{A} \\,|\\vert \\cos(\\gamma) $$\n",
        "\n",
        "##**Ejemplo:**\n",
        "\n",
        "Halla las componentes de un vector tridimensional $\\vec{V}$ siendo $\\,|\\vert \\vec{V} \\,|\\vert = 8$ y la medida de los ángulos directores: $\\alpha= 120°$, $\\beta= 100°$ y  $\\gamma= 30°$ y realiza la gráfica del vector usando la función **plotvectors3D**."
      ]
    },
    {
      "cell_type": "code",
      "metadata": {
        "colab": {
          "base_uri": "https://localhost:8080/",
          "height": 78
        },
        "id": "CvcFjS7Lax8L",
        "outputId": "a200c3fc-0f0e-45c0-9541-c9bcbc358217"
      },
      "source": [
        "norm = 8\n",
        "\n",
        "alfa_rad = 120 * (pi/180)\n",
        "beta_rad = 100 * (pi/180)\n",
        "gamma_rad = 30 * (pi/180)\n",
        "\n",
        "V_x = 8* cos(alfa_rad).evalf(3)\n",
        "V_y = 8* cos(beta_rad).evalf(3)\n",
        "V_z = 8* cos(gamma_rad).evalf(3)\n",
        "\n",
        "V =Matrix([V_x,V_y,V_z])\n",
        "V\n"
      ],
      "execution_count": 33,
      "outputs": [
        {
          "output_type": "execute_result",
          "data": {
            "text/plain": [
              "Matrix([\n",
              "[ -4.0],\n",
              "[-1.39],\n",
              "[ 6.93]])"
            ],
            "text/latex": "$\\displaystyle \\left[\\begin{matrix}-4.0\\\\-1.39\\\\6.93\\end{matrix}\\right]$"
          },
          "metadata": {},
          "execution_count": 33
        }
      ]
    },
    {
      "cell_type": "code",
      "metadata": {
        "colab": {
          "base_uri": "https://localhost:8080/",
          "height": 497
        },
        "id": "bboL_KSpcL4N",
        "outputId": "65346cdf-f766-4fa9-dacd-4bfb7e7b5f67"
      },
      "source": [
        "plotvectors3D(V)"
      ],
      "execution_count": 34,
      "outputs": [
        {
          "output_type": "display_data",
          "data": {
            "text/html": [
              "<html>\n",
              "<head><meta charset=\"utf-8\" /></head>\n",
              "<body>\n",
              "    <div>            <script src=\"https://cdnjs.cloudflare.com/ajax/libs/mathjax/2.7.5/MathJax.js?config=TeX-AMS-MML_SVG\"></script><script type=\"text/javascript\">if (window.MathJax) {MathJax.Hub.Config({SVG: {font: \"STIX-Web\"}});}</script>                <script type=\"text/javascript\">window.PlotlyConfig = {MathJaxConfig: 'local'};</script>\n",
              "        <script src=\"https://cdn.plot.ly/plotly-2.2.0.min.js\"></script>                <div id=\"745698c0-f0b4-4f45-9db6-12b3c79d314f\" class=\"plotly-graph-div\" style=\"height:480px; width:480px;\"></div>            <script type=\"text/javascript\">                                    window.PLOTLYENV=window.PLOTLYENV || {};                                    if (document.getElementById(\"745698c0-f0b4-4f45-9db6-12b3c79d314f\")) {                    Plotly.newPlot(                        \"745698c0-f0b4-4f45-9db6-12b3c79d314f\",                        [{\"line\":{\"color\":\"rgb(77,188,94)\",\"width\":7},\"marker\":{\"color\":\"rgb(77,188,94)\",\"size\":1},\"name\":\"vector 1\",\"type\":\"scatter3d\",\"x\":[0,-4.0],\"y\":[0,-1.38916015625],\"z\":[0,6.927734375]},{\"anchor\":\"cm\",\"colorbar\":{\"thickness\":20,\"ticklen\":4},\"colorscale\":[[0,\"rgb(77,188,94)\"],[1,\"rgb(77,188,94)\"]],\"name\":\"vector 1\",\"showscale\":false,\"sizemode\":\"absolute\",\"sizeref\":0.23092447916666667,\"type\":\"cone\",\"u\":[-4.0],\"v\":[-1.38916015625],\"w\":[6.927734375],\"x\":[-4.0],\"y\":[-1.38916015625],\"z\":[6.927734375]},{\"marker\":{\"color\":\"#2a3f5f\",\"size\":5},\"mode\":\"markers\",\"name\":\"origen\",\"showlegend\":true,\"type\":\"scatter3d\",\"x\":[0],\"y\":[0],\"z\":[0]},{\"hoverinfo\":\"skip\",\"line\":{\"color\":\"#2a3f5f\",\"width\":3},\"marker\":{\"color\":\"#2a3f5f\",\"size\":1},\"name\":\"\",\"showlegend\":false,\"type\":\"scatter3d\",\"x\":[-4.230924479166666,0.23092447916666667],\"y\":[0,0],\"z\":[0,0]},{\"anchor\":\"cm\",\"colorbar\":{\"thickness\":20,\"ticklen\":4},\"colorscale\":[[0,\"#2a3f5f\"],[1,\"#2a3f5f\"]],\"hoverinfo\":\"name\",\"name\":\"Eje x-positivo\",\"showscale\":false,\"sizemode\":\"absolute\",\"sizeref\":0.1385546875,\"type\":\"cone\",\"u\":[0.23092447916666667],\"v\":[0],\"w\":[0],\"x\":[0.23092447916666667],\"y\":[0],\"z\":[0]},{\"hoverinfo\":\"skip\",\"line\":{\"color\":\"#2a3f5f\",\"width\":3},\"marker\":{\"color\":\"#2a3f5f\",\"size\":1},\"name\":\"\",\"showlegend\":false,\"type\":\"scatter3d\",\"x\":[0,0],\"y\":[-1.6200846354166667,0.23092447916666667],\"z\":[0,0]},{\"anchor\":\"cm\",\"colorbar\":{\"thickness\":20,\"ticklen\":4},\"colorscale\":[[0,\"#2a3f5f\"],[1,\"#2a3f5f\"]],\"hoverinfo\":\"name\",\"name\":\"Eje y-positivo \",\"showscale\":false,\"sizemode\":\"absolute\",\"sizeref\":0.1385546875,\"type\":\"cone\",\"u\":[0],\"v\":[0.23092447916666667],\"w\":[0],\"x\":[0],\"y\":[0.23092447916666667],\"z\":[0]},{\"hoverinfo\":\"skip\",\"line\":{\"color\":\"#2a3f5f\",\"width\":3},\"marker\":{\"color\":\"#2a3f5f\",\"size\":1},\"name\":\"eje z-positivo\",\"showlegend\":false,\"type\":\"scatter3d\",\"x\":[0,0],\"y\":[0,0],\"z\":[-0.5309244791666666,7.158658854166666]},{\"anchor\":\"cm\",\"colorbar\":{\"thickness\":20,\"ticklen\":4},\"colorscale\":[[0,\"#2a3f5f\"],[1,\"#2a3f5f\"]],\"hoverinfo\":\"name\",\"name\":\"Eje z-positivo\",\"showscale\":false,\"sizemode\":\"absolute\",\"sizeref\":0.1385546875,\"type\":\"cone\",\"u\":[0],\"v\":[0],\"w\":[7.158658854166666],\"x\":[0],\"y\":[0],\"z\":[7.158658854166666]}],                        {\"height\":480,\"legend\":{\"orientation\":\"h\",\"x\":0.03,\"y\":1.3},\"margin\":{\"b\":0,\"l\":0,\"r\":0,\"t\":0},\"showlegend\":true,\"template\":{\"data\":{\"bar\":[{\"error_x\":{\"color\":\"#2a3f5f\"},\"error_y\":{\"color\":\"#2a3f5f\"},\"marker\":{\"line\":{\"color\":\"#E5ECF6\",\"width\":0.5},\"pattern\":{\"fillmode\":\"overlay\",\"size\":10,\"solidity\":0.2}},\"type\":\"bar\"}],\"barpolar\":[{\"marker\":{\"line\":{\"color\":\"#E5ECF6\",\"width\":0.5},\"pattern\":{\"fillmode\":\"overlay\",\"size\":10,\"solidity\":0.2}},\"type\":\"barpolar\"}],\"carpet\":[{\"aaxis\":{\"endlinecolor\":\"#2a3f5f\",\"gridcolor\":\"white\",\"linecolor\":\"white\",\"minorgridcolor\":\"white\",\"startlinecolor\":\"#2a3f5f\"},\"baxis\":{\"endlinecolor\":\"#2a3f5f\",\"gridcolor\":\"white\",\"linecolor\":\"white\",\"minorgridcolor\":\"white\",\"startlinecolor\":\"#2a3f5f\"},\"type\":\"carpet\"}],\"choropleth\":[{\"colorbar\":{\"outlinewidth\":0,\"ticks\":\"\"},\"type\":\"choropleth\"}],\"contour\":[{\"colorbar\":{\"outlinewidth\":0,\"ticks\":\"\"},\"colorscale\":[[0.0,\"#0d0887\"],[0.1111111111111111,\"#46039f\"],[0.2222222222222222,\"#7201a8\"],[0.3333333333333333,\"#9c179e\"],[0.4444444444444444,\"#bd3786\"],[0.5555555555555556,\"#d8576b\"],[0.6666666666666666,\"#ed7953\"],[0.7777777777777778,\"#fb9f3a\"],[0.8888888888888888,\"#fdca26\"],[1.0,\"#f0f921\"]],\"type\":\"contour\"}],\"contourcarpet\":[{\"colorbar\":{\"outlinewidth\":0,\"ticks\":\"\"},\"type\":\"contourcarpet\"}],\"heatmap\":[{\"colorbar\":{\"outlinewidth\":0,\"ticks\":\"\"},\"colorscale\":[[0.0,\"#0d0887\"],[0.1111111111111111,\"#46039f\"],[0.2222222222222222,\"#7201a8\"],[0.3333333333333333,\"#9c179e\"],[0.4444444444444444,\"#bd3786\"],[0.5555555555555556,\"#d8576b\"],[0.6666666666666666,\"#ed7953\"],[0.7777777777777778,\"#fb9f3a\"],[0.8888888888888888,\"#fdca26\"],[1.0,\"#f0f921\"]],\"type\":\"heatmap\"}],\"heatmapgl\":[{\"colorbar\":{\"outlinewidth\":0,\"ticks\":\"\"},\"colorscale\":[[0.0,\"#0d0887\"],[0.1111111111111111,\"#46039f\"],[0.2222222222222222,\"#7201a8\"],[0.3333333333333333,\"#9c179e\"],[0.4444444444444444,\"#bd3786\"],[0.5555555555555556,\"#d8576b\"],[0.6666666666666666,\"#ed7953\"],[0.7777777777777778,\"#fb9f3a\"],[0.8888888888888888,\"#fdca26\"],[1.0,\"#f0f921\"]],\"type\":\"heatmapgl\"}],\"histogram\":[{\"marker\":{\"pattern\":{\"fillmode\":\"overlay\",\"size\":10,\"solidity\":0.2}},\"type\":\"histogram\"}],\"histogram2d\":[{\"colorbar\":{\"outlinewidth\":0,\"ticks\":\"\"},\"colorscale\":[[0.0,\"#0d0887\"],[0.1111111111111111,\"#46039f\"],[0.2222222222222222,\"#7201a8\"],[0.3333333333333333,\"#9c179e\"],[0.4444444444444444,\"#bd3786\"],[0.5555555555555556,\"#d8576b\"],[0.6666666666666666,\"#ed7953\"],[0.7777777777777778,\"#fb9f3a\"],[0.8888888888888888,\"#fdca26\"],[1.0,\"#f0f921\"]],\"type\":\"histogram2d\"}],\"histogram2dcontour\":[{\"colorbar\":{\"outlinewidth\":0,\"ticks\":\"\"},\"colorscale\":[[0.0,\"#0d0887\"],[0.1111111111111111,\"#46039f\"],[0.2222222222222222,\"#7201a8\"],[0.3333333333333333,\"#9c179e\"],[0.4444444444444444,\"#bd3786\"],[0.5555555555555556,\"#d8576b\"],[0.6666666666666666,\"#ed7953\"],[0.7777777777777778,\"#fb9f3a\"],[0.8888888888888888,\"#fdca26\"],[1.0,\"#f0f921\"]],\"type\":\"histogram2dcontour\"}],\"mesh3d\":[{\"colorbar\":{\"outlinewidth\":0,\"ticks\":\"\"},\"type\":\"mesh3d\"}],\"parcoords\":[{\"line\":{\"colorbar\":{\"outlinewidth\":0,\"ticks\":\"\"}},\"type\":\"parcoords\"}],\"pie\":[{\"automargin\":true,\"type\":\"pie\"}],\"scatter\":[{\"marker\":{\"colorbar\":{\"outlinewidth\":0,\"ticks\":\"\"}},\"type\":\"scatter\"}],\"scatter3d\":[{\"line\":{\"colorbar\":{\"outlinewidth\":0,\"ticks\":\"\"}},\"marker\":{\"colorbar\":{\"outlinewidth\":0,\"ticks\":\"\"}},\"type\":\"scatter3d\"}],\"scattercarpet\":[{\"marker\":{\"colorbar\":{\"outlinewidth\":0,\"ticks\":\"\"}},\"type\":\"scattercarpet\"}],\"scattergeo\":[{\"marker\":{\"colorbar\":{\"outlinewidth\":0,\"ticks\":\"\"}},\"type\":\"scattergeo\"}],\"scattergl\":[{\"marker\":{\"colorbar\":{\"outlinewidth\":0,\"ticks\":\"\"}},\"type\":\"scattergl\"}],\"scattermapbox\":[{\"marker\":{\"colorbar\":{\"outlinewidth\":0,\"ticks\":\"\"}},\"type\":\"scattermapbox\"}],\"scatterpolar\":[{\"marker\":{\"colorbar\":{\"outlinewidth\":0,\"ticks\":\"\"}},\"type\":\"scatterpolar\"}],\"scatterpolargl\":[{\"marker\":{\"colorbar\":{\"outlinewidth\":0,\"ticks\":\"\"}},\"type\":\"scatterpolargl\"}],\"scatterternary\":[{\"marker\":{\"colorbar\":{\"outlinewidth\":0,\"ticks\":\"\"}},\"type\":\"scatterternary\"}],\"surface\":[{\"colorbar\":{\"outlinewidth\":0,\"ticks\":\"\"},\"colorscale\":[[0.0,\"#0d0887\"],[0.1111111111111111,\"#46039f\"],[0.2222222222222222,\"#7201a8\"],[0.3333333333333333,\"#9c179e\"],[0.4444444444444444,\"#bd3786\"],[0.5555555555555556,\"#d8576b\"],[0.6666666666666666,\"#ed7953\"],[0.7777777777777778,\"#fb9f3a\"],[0.8888888888888888,\"#fdca26\"],[1.0,\"#f0f921\"]],\"type\":\"surface\"}],\"table\":[{\"cells\":{\"fill\":{\"color\":\"#EBF0F8\"},\"line\":{\"color\":\"white\"}},\"header\":{\"fill\":{\"color\":\"#C8D4E3\"},\"line\":{\"color\":\"white\"}},\"type\":\"table\"}]},\"layout\":{\"annotationdefaults\":{\"arrowcolor\":\"#2a3f5f\",\"arrowhead\":0,\"arrowwidth\":1},\"autotypenumbers\":\"strict\",\"coloraxis\":{\"colorbar\":{\"outlinewidth\":0,\"ticks\":\"\"}},\"colorscale\":{\"diverging\":[[0,\"#8e0152\"],[0.1,\"#c51b7d\"],[0.2,\"#de77ae\"],[0.3,\"#f1b6da\"],[0.4,\"#fde0ef\"],[0.5,\"#f7f7f7\"],[0.6,\"#e6f5d0\"],[0.7,\"#b8e186\"],[0.8,\"#7fbc41\"],[0.9,\"#4d9221\"],[1,\"#276419\"]],\"sequential\":[[0.0,\"#0d0887\"],[0.1111111111111111,\"#46039f\"],[0.2222222222222222,\"#7201a8\"],[0.3333333333333333,\"#9c179e\"],[0.4444444444444444,\"#bd3786\"],[0.5555555555555556,\"#d8576b\"],[0.6666666666666666,\"#ed7953\"],[0.7777777777777778,\"#fb9f3a\"],[0.8888888888888888,\"#fdca26\"],[1.0,\"#f0f921\"]],\"sequentialminus\":[[0.0,\"#0d0887\"],[0.1111111111111111,\"#46039f\"],[0.2222222222222222,\"#7201a8\"],[0.3333333333333333,\"#9c179e\"],[0.4444444444444444,\"#bd3786\"],[0.5555555555555556,\"#d8576b\"],[0.6666666666666666,\"#ed7953\"],[0.7777777777777778,\"#fb9f3a\"],[0.8888888888888888,\"#fdca26\"],[1.0,\"#f0f921\"]]},\"colorway\":[\"#636efa\",\"#EF553B\",\"#00cc96\",\"#ab63fa\",\"#FFA15A\",\"#19d3f3\",\"#FF6692\",\"#B6E880\",\"#FF97FF\",\"#FECB52\"],\"font\":{\"color\":\"#2a3f5f\"},\"geo\":{\"bgcolor\":\"white\",\"lakecolor\":\"white\",\"landcolor\":\"#E5ECF6\",\"showlakes\":true,\"showland\":true,\"subunitcolor\":\"white\"},\"hoverlabel\":{\"align\":\"left\"},\"hovermode\":\"closest\",\"mapbox\":{\"style\":\"light\"},\"paper_bgcolor\":\"white\",\"plot_bgcolor\":\"#E5ECF6\",\"polar\":{\"angularaxis\":{\"gridcolor\":\"white\",\"linecolor\":\"white\",\"ticks\":\"\"},\"bgcolor\":\"#E5ECF6\",\"radialaxis\":{\"gridcolor\":\"white\",\"linecolor\":\"white\",\"ticks\":\"\"}},\"scene\":{\"xaxis\":{\"backgroundcolor\":\"#E5ECF6\",\"gridcolor\":\"white\",\"gridwidth\":2,\"linecolor\":\"white\",\"showbackground\":true,\"ticks\":\"\",\"zerolinecolor\":\"white\"},\"yaxis\":{\"backgroundcolor\":\"#E5ECF6\",\"gridcolor\":\"white\",\"gridwidth\":2,\"linecolor\":\"white\",\"showbackground\":true,\"ticks\":\"\",\"zerolinecolor\":\"white\"},\"zaxis\":{\"backgroundcolor\":\"#E5ECF6\",\"gridcolor\":\"white\",\"gridwidth\":2,\"linecolor\":\"white\",\"showbackground\":true,\"ticks\":\"\",\"zerolinecolor\":\"white\"}},\"shapedefaults\":{\"line\":{\"color\":\"#2a3f5f\"}},\"ternary\":{\"aaxis\":{\"gridcolor\":\"white\",\"linecolor\":\"white\",\"ticks\":\"\"},\"baxis\":{\"gridcolor\":\"white\",\"linecolor\":\"white\",\"ticks\":\"\"},\"bgcolor\":\"#E5ECF6\",\"caxis\":{\"gridcolor\":\"white\",\"linecolor\":\"white\",\"ticks\":\"\"}},\"title\":{\"x\":0.05},\"xaxis\":{\"automargin\":true,\"gridcolor\":\"white\",\"linecolor\":\"white\",\"ticks\":\"\",\"title\":{\"standoff\":15},\"zerolinecolor\":\"white\",\"zerolinewidth\":2},\"yaxis\":{\"automargin\":true,\"gridcolor\":\"white\",\"linecolor\":\"white\",\"ticks\":\"\",\"title\":{\"standoff\":15},\"zerolinecolor\":\"white\",\"zerolinewidth\":2}}},\"title\":{\"font\":{\"color\":\"rgb(1,21,51)\",\"size\":50}},\"width\":480},                        {\"responsive\": true}                    ).then(function(){\n",
              "                            \n",
              "var gd = document.getElementById('745698c0-f0b4-4f45-9db6-12b3c79d314f');\n",
              "var x = new MutationObserver(function (mutations, observer) {{\n",
              "        var display = window.getComputedStyle(gd).display;\n",
              "        if (!display || display === 'none') {{\n",
              "            console.log([gd, 'removed!']);\n",
              "            Plotly.purge(gd);\n",
              "            observer.disconnect();\n",
              "        }}\n",
              "}});\n",
              "\n",
              "// Listen for the removal of the full notebook cells\n",
              "var notebookContainer = gd.closest('#notebook-container');\n",
              "if (notebookContainer) {{\n",
              "    x.observe(notebookContainer, {childList: true});\n",
              "}}\n",
              "\n",
              "// Listen for the clearing of the current output cell\n",
              "var outputEl = gd.closest('.output');\n",
              "if (outputEl) {{\n",
              "    x.observe(outputEl, {childList: true});\n",
              "}}\n",
              "\n",
              "                        })                };                            </script>        </div>\n",
              "</body>\n",
              "</html>"
            ]
          },
          "metadata": {}
        }
      ]
    },
    {
      "cell_type": "markdown",
      "metadata": {
        "id": "fN3sV_FCjRt-"
      },
      "source": [
        "#**OPERACIONES CON VECTORES**\n",
        "#**ADICIÓN DE VECTORES**\n",
        "\n",
        "Sean $A,B \\in V_n$ tales que $\\vec{A} = (A_1,A_2,\\cdots, A_n)$ y $\\vec{B}= (B_1,B_2,\\cdots, B_n)$ vectores en $V_n$ se define la suma analítica de vectores como :\n",
        "\n",
        "$$\\vec{A}+\\vec{B} = (A_1 + B_1,A_2+B_2,\\cdots,A_n+B_n)$$\n",
        "\n",
        "Para $n = 1,2,3$ la adición de vectores admite **representación geométrica** y obedece a la *regla del paralelogramo* o *regla del triángulo*.\n",
        "\n",
        "<center><img src=\"https://github.com/josorio398/ALGEBRA-LINEAL-CON-PYTHON/blob/master/im%C3%A1genes%20repositorio/adici%C3%B3n%20vectores.PNG?raw=true\"  height=\"300\" /> </center>\n",
        "\n",
        "\n",
        "\n",
        "##**Ejemplo 1:** -----> *adición de vectores bidimensionales*\n",
        "\n",
        "\n",
        "Dados los vectores $\\vec{A}= (2,3)$ y  $\\vec{B}= (4,2)$  encuentra el vector $A+B$ analíticamente y verifica que la suma cumple la *regla del paralelogramo* geometricamente.\n",
        "\n"
      ]
    },
    {
      "cell_type": "markdown",
      "metadata": {
        "id": "zcrJrt-ktLQr"
      },
      "source": [
        "## **Adición de los vectores analíticamente**\n",
        "\n",
        "### **Forma 1** -----> *como $n$-tuplas*"
      ]
    },
    {
      "cell_type": "code",
      "metadata": {
        "colab": {
          "base_uri": "https://localhost:8080/",
          "height": 57
        },
        "id": "YUUqK_7DiYGw",
        "outputId": "546d0ce7-a87f-4a2e-bfc6-38efc13262d4"
      },
      "source": [
        "A = Matrix([2,3])\n",
        "B = Matrix([4,2])\n",
        "\n",
        "A + B"
      ],
      "execution_count": null,
      "outputs": [
        {
          "output_type": "execute_result",
          "data": {
            "text/latex": "$\\displaystyle \\left[\\begin{matrix}6\\\\5\\end{matrix}\\right]$",
            "text/plain": [
              "Matrix([\n",
              "[6],\n",
              "[5]])"
            ]
          },
          "metadata": {
            "tags": []
          },
          "execution_count": 6
        }
      ]
    },
    {
      "cell_type": "markdown",
      "metadata": {
        "id": "kInPByCcSV_O"
      },
      "source": [
        "### **Forma 2** -----> *como combinación lineal de vectores unitarios*"
      ]
    },
    {
      "cell_type": "code",
      "metadata": {
        "colab": {
          "base_uri": "https://localhost:8080/",
          "height": 38
        },
        "id": "XA1F8JzxujkM",
        "outputId": "2719673f-7928-4230-899c-55eb0ff9467c"
      },
      "source": [
        "i = e.x\n",
        "j = e.y\n",
        "\n",
        "A = 2*i + 3*j\n",
        "B = 4*i + 2*j\n",
        "\n",
        "A + B"
      ],
      "execution_count": null,
      "outputs": [
        {
          "output_type": "execute_result",
          "data": {
            "text/latex": "$\\displaystyle 6\\mathbf{\\hat{e}_x} + 5\\mathbf{\\hat{e}_y}$",
            "text/plain": [
              "6*e.x + 5*e.y"
            ]
          },
          "metadata": {
            "tags": []
          },
          "execution_count": 8
        }
      ]
    },
    {
      "cell_type": "markdown",
      "metadata": {
        "id": "pDguuO8UtXue"
      },
      "source": [
        "## **Verificación geométrica de la regla del paralelogramo**"
      ]
    },
    {
      "cell_type": "code",
      "metadata": {
        "colab": {
          "base_uri": "https://localhost:8080/",
          "height": 497
        },
        "id": "biWrPfTkKqqI",
        "outputId": "a2ee3298-c9c1-4531-dc65-10356257066b"
      },
      "source": [
        "A = Matrix([4,1])\n",
        "B = Matrix([1,3])\n",
        "\n",
        "plotvectors2D(A,B,A+B,[(4,1),B])"
      ],
      "execution_count": null,
      "outputs": [
        {
          "output_type": "display_data",
          "data": {
            "text/html": [
              "<html>\n",
              "<head><meta charset=\"utf-8\" /></head>\n",
              "<body>\n",
              "    <div>            <script src=\"https://cdnjs.cloudflare.com/ajax/libs/mathjax/2.7.5/MathJax.js?config=TeX-AMS-MML_SVG\"></script><script type=\"text/javascript\">if (window.MathJax) {MathJax.Hub.Config({SVG: {font: \"STIX-Web\"}});}</script>                <script type=\"text/javascript\">window.PlotlyConfig = {MathJaxConfig: 'local'};</script>\n",
              "        <script src=\"https://cdn.plot.ly/plotly-2.2.0.min.js\"></script>                <div id=\"5e96aa7a-619f-4ef1-9562-00bc7d4e0c2c\" class=\"plotly-graph-div\" style=\"height:480px; width:500px;\"></div>            <script type=\"text/javascript\">                                    window.PLOTLYENV=window.PLOTLYENV || {};                                    if (document.getElementById(\"5e96aa7a-619f-4ef1-9562-00bc7d4e0c2c\")) {                    Plotly.newPlot(                        \"5e96aa7a-619f-4ef1-9562-00bc7d4e0c2c\",                        [{\"marker\":{\"color\":\"rgb(44,153,107)\",\"size\":8},\"mode\":\"lines\",\"name\":\"vector 1\",\"showlegend\":true,\"type\":\"scatter\",\"x\":[0,4.0],\"y\":[0,1.0]},{\"marker\":{\"color\":\"rgb(182,252,223)\",\"size\":8},\"mode\":\"lines\",\"name\":\"vector 2\",\"showlegend\":true,\"type\":\"scatter\",\"x\":[0,1.0],\"y\":[0,3.0]},{\"marker\":{\"color\":\"rgb(242,1,184)\",\"size\":8},\"mode\":\"lines\",\"name\":\"vector 3\",\"showlegend\":true,\"type\":\"scatter\",\"x\":[0,5.0],\"y\":[0,4.0]},{\"marker\":{\"color\":\"rgb(53,67,159)\",\"size\":8},\"mode\":\"lines\",\"name\":\"vector 4\",\"showlegend\":true,\"type\":\"scatter\",\"x\":[4,5.0],\"y\":[1,4.0]},{\"marker\":{\"color\":\"#2a3f5f\",\"size\":9},\"mode\":\"markers\",\"name\":\"origen\",\"opacity\":1,\"showlegend\":true,\"type\":\"scatter\",\"x\":[0],\"y\":[0]}],                        {\"annotations\":[{\"arrowcolor\":\"rgb(44,153,107)\",\"arrowhead\":2,\"arrowsize\":1.5,\"arrowwidth\":2.3,\"ax\":0.0,\"axref\":\"x\",\"ay\":0.0,\"ayref\":\"y\",\"showarrow\":true,\"x\":4.0,\"xref\":\"x\",\"y\":1.0,\"yref\":\"y\"},{\"arrowcolor\":\"rgb(182,252,223)\",\"arrowhead\":2,\"arrowsize\":1.5,\"arrowwidth\":2.3,\"ax\":0.0,\"axref\":\"x\",\"ay\":0.0,\"ayref\":\"y\",\"showarrow\":true,\"x\":1.0,\"xref\":\"x\",\"y\":3.0,\"yref\":\"y\"},{\"arrowcolor\":\"rgb(242,1,184)\",\"arrowhead\":2,\"arrowsize\":1.5,\"arrowwidth\":2.3,\"ax\":0.0,\"axref\":\"x\",\"ay\":0.0,\"ayref\":\"y\",\"showarrow\":true,\"x\":5.0,\"xref\":\"x\",\"y\":4.0,\"yref\":\"y\"},{\"arrowcolor\":\"rgb(53,67,159)\",\"arrowhead\":2,\"arrowsize\":1.5,\"arrowwidth\":2.3,\"ax\":4,\"axref\":\"x\",\"ay\":1,\"ayref\":\"y\",\"showarrow\":true,\"x\":5.0,\"xref\":\"x\",\"y\":4.0,\"yref\":\"y\"},{\"arrowcolor\":\"#2a3f5f\",\"arrowhead\":2,\"arrowwidth\":1.5,\"ax\":-0.54,\"axref\":\"x\",\"ay\":0,\"ayref\":\"y\",\"x\":5.5,\"xref\":\"x\",\"y\":0,\"yref\":\"y\"},{\"arrowcolor\":\"#2a3f5f\",\"arrowhead\":2,\"arrowwidth\":1.5,\"ax\":0,\"axref\":\"x\",\"ay\":-0.54,\"ayref\":\"y\",\"x\":0,\"xref\":\"x\",\"y\":4.5,\"yref\":\"y\"}],\"font\":{\"color\":\"black\",\"family\":\"latex\",\"size\":20},\"height\":480,\"legend\":{\"itemdoubleclick\":\"toggle\",\"orientation\":\"h\",\"x\":1,\"xanchor\":\"right\",\"y\":1.02,\"yanchor\":\"bottom\"},\"showlegend\":true,\"template\":{\"data\":{\"bar\":[{\"error_x\":{\"color\":\"#2a3f5f\"},\"error_y\":{\"color\":\"#2a3f5f\"},\"marker\":{\"line\":{\"color\":\"#E5ECF6\",\"width\":0.5},\"pattern\":{\"fillmode\":\"overlay\",\"size\":10,\"solidity\":0.2}},\"type\":\"bar\"}],\"barpolar\":[{\"marker\":{\"line\":{\"color\":\"#E5ECF6\",\"width\":0.5},\"pattern\":{\"fillmode\":\"overlay\",\"size\":10,\"solidity\":0.2}},\"type\":\"barpolar\"}],\"carpet\":[{\"aaxis\":{\"endlinecolor\":\"#2a3f5f\",\"gridcolor\":\"white\",\"linecolor\":\"white\",\"minorgridcolor\":\"white\",\"startlinecolor\":\"#2a3f5f\"},\"baxis\":{\"endlinecolor\":\"#2a3f5f\",\"gridcolor\":\"white\",\"linecolor\":\"white\",\"minorgridcolor\":\"white\",\"startlinecolor\":\"#2a3f5f\"},\"type\":\"carpet\"}],\"choropleth\":[{\"colorbar\":{\"outlinewidth\":0,\"ticks\":\"\"},\"type\":\"choropleth\"}],\"contour\":[{\"colorbar\":{\"outlinewidth\":0,\"ticks\":\"\"},\"colorscale\":[[0.0,\"#0d0887\"],[0.1111111111111111,\"#46039f\"],[0.2222222222222222,\"#7201a8\"],[0.3333333333333333,\"#9c179e\"],[0.4444444444444444,\"#bd3786\"],[0.5555555555555556,\"#d8576b\"],[0.6666666666666666,\"#ed7953\"],[0.7777777777777778,\"#fb9f3a\"],[0.8888888888888888,\"#fdca26\"],[1.0,\"#f0f921\"]],\"type\":\"contour\"}],\"contourcarpet\":[{\"colorbar\":{\"outlinewidth\":0,\"ticks\":\"\"},\"type\":\"contourcarpet\"}],\"heatmap\":[{\"colorbar\":{\"outlinewidth\":0,\"ticks\":\"\"},\"colorscale\":[[0.0,\"#0d0887\"],[0.1111111111111111,\"#46039f\"],[0.2222222222222222,\"#7201a8\"],[0.3333333333333333,\"#9c179e\"],[0.4444444444444444,\"#bd3786\"],[0.5555555555555556,\"#d8576b\"],[0.6666666666666666,\"#ed7953\"],[0.7777777777777778,\"#fb9f3a\"],[0.8888888888888888,\"#fdca26\"],[1.0,\"#f0f921\"]],\"type\":\"heatmap\"}],\"heatmapgl\":[{\"colorbar\":{\"outlinewidth\":0,\"ticks\":\"\"},\"colorscale\":[[0.0,\"#0d0887\"],[0.1111111111111111,\"#46039f\"],[0.2222222222222222,\"#7201a8\"],[0.3333333333333333,\"#9c179e\"],[0.4444444444444444,\"#bd3786\"],[0.5555555555555556,\"#d8576b\"],[0.6666666666666666,\"#ed7953\"],[0.7777777777777778,\"#fb9f3a\"],[0.8888888888888888,\"#fdca26\"],[1.0,\"#f0f921\"]],\"type\":\"heatmapgl\"}],\"histogram\":[{\"marker\":{\"pattern\":{\"fillmode\":\"overlay\",\"size\":10,\"solidity\":0.2}},\"type\":\"histogram\"}],\"histogram2d\":[{\"colorbar\":{\"outlinewidth\":0,\"ticks\":\"\"},\"colorscale\":[[0.0,\"#0d0887\"],[0.1111111111111111,\"#46039f\"],[0.2222222222222222,\"#7201a8\"],[0.3333333333333333,\"#9c179e\"],[0.4444444444444444,\"#bd3786\"],[0.5555555555555556,\"#d8576b\"],[0.6666666666666666,\"#ed7953\"],[0.7777777777777778,\"#fb9f3a\"],[0.8888888888888888,\"#fdca26\"],[1.0,\"#f0f921\"]],\"type\":\"histogram2d\"}],\"histogram2dcontour\":[{\"colorbar\":{\"outlinewidth\":0,\"ticks\":\"\"},\"colorscale\":[[0.0,\"#0d0887\"],[0.1111111111111111,\"#46039f\"],[0.2222222222222222,\"#7201a8\"],[0.3333333333333333,\"#9c179e\"],[0.4444444444444444,\"#bd3786\"],[0.5555555555555556,\"#d8576b\"],[0.6666666666666666,\"#ed7953\"],[0.7777777777777778,\"#fb9f3a\"],[0.8888888888888888,\"#fdca26\"],[1.0,\"#f0f921\"]],\"type\":\"histogram2dcontour\"}],\"mesh3d\":[{\"colorbar\":{\"outlinewidth\":0,\"ticks\":\"\"},\"type\":\"mesh3d\"}],\"parcoords\":[{\"line\":{\"colorbar\":{\"outlinewidth\":0,\"ticks\":\"\"}},\"type\":\"parcoords\"}],\"pie\":[{\"automargin\":true,\"type\":\"pie\"}],\"scatter\":[{\"marker\":{\"colorbar\":{\"outlinewidth\":0,\"ticks\":\"\"}},\"type\":\"scatter\"}],\"scatter3d\":[{\"line\":{\"colorbar\":{\"outlinewidth\":0,\"ticks\":\"\"}},\"marker\":{\"colorbar\":{\"outlinewidth\":0,\"ticks\":\"\"}},\"type\":\"scatter3d\"}],\"scattercarpet\":[{\"marker\":{\"colorbar\":{\"outlinewidth\":0,\"ticks\":\"\"}},\"type\":\"scattercarpet\"}],\"scattergeo\":[{\"marker\":{\"colorbar\":{\"outlinewidth\":0,\"ticks\":\"\"}},\"type\":\"scattergeo\"}],\"scattergl\":[{\"marker\":{\"colorbar\":{\"outlinewidth\":0,\"ticks\":\"\"}},\"type\":\"scattergl\"}],\"scattermapbox\":[{\"marker\":{\"colorbar\":{\"outlinewidth\":0,\"ticks\":\"\"}},\"type\":\"scattermapbox\"}],\"scatterpolar\":[{\"marker\":{\"colorbar\":{\"outlinewidth\":0,\"ticks\":\"\"}},\"type\":\"scatterpolar\"}],\"scatterpolargl\":[{\"marker\":{\"colorbar\":{\"outlinewidth\":0,\"ticks\":\"\"}},\"type\":\"scatterpolargl\"}],\"scatterternary\":[{\"marker\":{\"colorbar\":{\"outlinewidth\":0,\"ticks\":\"\"}},\"type\":\"scatterternary\"}],\"surface\":[{\"colorbar\":{\"outlinewidth\":0,\"ticks\":\"\"},\"colorscale\":[[0.0,\"#0d0887\"],[0.1111111111111111,\"#46039f\"],[0.2222222222222222,\"#7201a8\"],[0.3333333333333333,\"#9c179e\"],[0.4444444444444444,\"#bd3786\"],[0.5555555555555556,\"#d8576b\"],[0.6666666666666666,\"#ed7953\"],[0.7777777777777778,\"#fb9f3a\"],[0.8888888888888888,\"#fdca26\"],[1.0,\"#f0f921\"]],\"type\":\"surface\"}],\"table\":[{\"cells\":{\"fill\":{\"color\":\"#EBF0F8\"},\"line\":{\"color\":\"white\"}},\"header\":{\"fill\":{\"color\":\"#C8D4E3\"},\"line\":{\"color\":\"white\"}},\"type\":\"table\"}]},\"layout\":{\"annotationdefaults\":{\"arrowcolor\":\"#2a3f5f\",\"arrowhead\":0,\"arrowwidth\":1},\"autotypenumbers\":\"strict\",\"coloraxis\":{\"colorbar\":{\"outlinewidth\":0,\"ticks\":\"\"}},\"colorscale\":{\"diverging\":[[0,\"#8e0152\"],[0.1,\"#c51b7d\"],[0.2,\"#de77ae\"],[0.3,\"#f1b6da\"],[0.4,\"#fde0ef\"],[0.5,\"#f7f7f7\"],[0.6,\"#e6f5d0\"],[0.7,\"#b8e186\"],[0.8,\"#7fbc41\"],[0.9,\"#4d9221\"],[1,\"#276419\"]],\"sequential\":[[0.0,\"#0d0887\"],[0.1111111111111111,\"#46039f\"],[0.2222222222222222,\"#7201a8\"],[0.3333333333333333,\"#9c179e\"],[0.4444444444444444,\"#bd3786\"],[0.5555555555555556,\"#d8576b\"],[0.6666666666666666,\"#ed7953\"],[0.7777777777777778,\"#fb9f3a\"],[0.8888888888888888,\"#fdca26\"],[1.0,\"#f0f921\"]],\"sequentialminus\":[[0.0,\"#0d0887\"],[0.1111111111111111,\"#46039f\"],[0.2222222222222222,\"#7201a8\"],[0.3333333333333333,\"#9c179e\"],[0.4444444444444444,\"#bd3786\"],[0.5555555555555556,\"#d8576b\"],[0.6666666666666666,\"#ed7953\"],[0.7777777777777778,\"#fb9f3a\"],[0.8888888888888888,\"#fdca26\"],[1.0,\"#f0f921\"]]},\"colorway\":[\"#636efa\",\"#EF553B\",\"#00cc96\",\"#ab63fa\",\"#FFA15A\",\"#19d3f3\",\"#FF6692\",\"#B6E880\",\"#FF97FF\",\"#FECB52\"],\"font\":{\"color\":\"#2a3f5f\"},\"geo\":{\"bgcolor\":\"white\",\"lakecolor\":\"white\",\"landcolor\":\"#E5ECF6\",\"showlakes\":true,\"showland\":true,\"subunitcolor\":\"white\"},\"hoverlabel\":{\"align\":\"left\"},\"hovermode\":\"closest\",\"mapbox\":{\"style\":\"light\"},\"paper_bgcolor\":\"white\",\"plot_bgcolor\":\"#E5ECF6\",\"polar\":{\"angularaxis\":{\"gridcolor\":\"white\",\"linecolor\":\"white\",\"ticks\":\"\"},\"bgcolor\":\"#E5ECF6\",\"radialaxis\":{\"gridcolor\":\"white\",\"linecolor\":\"white\",\"ticks\":\"\"}},\"scene\":{\"xaxis\":{\"backgroundcolor\":\"#E5ECF6\",\"gridcolor\":\"white\",\"gridwidth\":2,\"linecolor\":\"white\",\"showbackground\":true,\"ticks\":\"\",\"zerolinecolor\":\"white\"},\"yaxis\":{\"backgroundcolor\":\"#E5ECF6\",\"gridcolor\":\"white\",\"gridwidth\":2,\"linecolor\":\"white\",\"showbackground\":true,\"ticks\":\"\",\"zerolinecolor\":\"white\"},\"zaxis\":{\"backgroundcolor\":\"#E5ECF6\",\"gridcolor\":\"white\",\"gridwidth\":2,\"linecolor\":\"white\",\"showbackground\":true,\"ticks\":\"\",\"zerolinecolor\":\"white\"}},\"shapedefaults\":{\"line\":{\"color\":\"#2a3f5f\"}},\"ternary\":{\"aaxis\":{\"gridcolor\":\"white\",\"linecolor\":\"white\",\"ticks\":\"\"},\"baxis\":{\"gridcolor\":\"white\",\"linecolor\":\"white\",\"ticks\":\"\"},\"bgcolor\":\"#E5ECF6\",\"caxis\":{\"gridcolor\":\"white\",\"linecolor\":\"white\",\"ticks\":\"\"}},\"title\":{\"x\":0.05},\"xaxis\":{\"automargin\":true,\"gridcolor\":\"white\",\"linecolor\":\"white\",\"ticks\":\"\",\"title\":{\"standoff\":15},\"zerolinecolor\":\"white\",\"zerolinewidth\":2},\"yaxis\":{\"automargin\":true,\"gridcolor\":\"white\",\"linecolor\":\"white\",\"ticks\":\"\",\"title\":{\"standoff\":15},\"zerolinecolor\":\"white\",\"zerolinewidth\":2}}},\"title\":{\"font\":{\"color\":\"rgb(1,21,51)\",\"size\":30}},\"width\":500,\"xaxis\":{\"range\":[-0.5,5.5],\"showgrid\":true,\"title\":{\"font\":{\"color\":\"rgb(1,21,51)\",\"family\":\"latex\",\"size\":30},\"text\":\"$\\\\large{x}$\"}},\"yaxis\":{\"range\":[-0.5,4.5],\"showgrid\":true,\"title\":{\"font\":{\"color\":\"rgb(1,21,51)\",\"family\":\"latex\",\"size\":30},\"text\":\"$\\\\large{y}$\"}}},                        {\"responsive\": true}                    ).then(function(){\n",
              "                            \n",
              "var gd = document.getElementById('5e96aa7a-619f-4ef1-9562-00bc7d4e0c2c');\n",
              "var x = new MutationObserver(function (mutations, observer) {{\n",
              "        var display = window.getComputedStyle(gd).display;\n",
              "        if (!display || display === 'none') {{\n",
              "            console.log([gd, 'removed!']);\n",
              "            Plotly.purge(gd);\n",
              "            observer.disconnect();\n",
              "        }}\n",
              "}});\n",
              "\n",
              "// Listen for the removal of the full notebook cells\n",
              "var notebookContainer = gd.closest('#notebook-container');\n",
              "if (notebookContainer) {{\n",
              "    x.observe(notebookContainer, {childList: true});\n",
              "}}\n",
              "\n",
              "// Listen for the clearing of the current output cell\n",
              "var outputEl = gd.closest('.output');\n",
              "if (outputEl) {{\n",
              "    x.observe(outputEl, {childList: true});\n",
              "}}\n",
              "\n",
              "                        })                };                            </script>        </div>\n",
              "</body>\n",
              "</html>"
            ]
          },
          "metadata": {}
        }
      ]
    },
    {
      "cell_type": "markdown",
      "metadata": {
        "id": "wu_F438kuRrH"
      },
      "source": [
        "\n",
        "##**Ejemplo 2:** ------> *adición de vectores unidimensionales*\n",
        "\n",
        "\n",
        "Dados los vectores $\\vec{A}= (5)$ y  $\\vec{B}= (-3)$  encuentra el vector $A+B$ analíticamente y verifica que la suma cumple la *regla del paralelogramo* geométricamente."
      ]
    },
    {
      "cell_type": "markdown",
      "metadata": {
        "id": "oZXzpOWWvLo5"
      },
      "source": [
        "## **Adición de los  vectores analíticamente**\n",
        "### **Forma 1** -----> *como $n$-tuplas*"
      ]
    },
    {
      "cell_type": "code",
      "metadata": {
        "colab": {
          "base_uri": "https://localhost:8080/",
          "height": 38
        },
        "id": "qdhuwmBhvLo7",
        "outputId": "4d8d0151-4e4d-48c4-d60a-9d241feca880"
      },
      "source": [
        "A = Matrix([5])\n",
        "B = Matrix([-3])\n",
        "\n",
        "A + B"
      ],
      "execution_count": null,
      "outputs": [
        {
          "output_type": "execute_result",
          "data": {
            "text/latex": "$\\displaystyle \\left[\\begin{matrix}2\\end{matrix}\\right]$",
            "text/plain": [
              "Matrix([[2]])"
            ]
          },
          "metadata": {},
          "execution_count": 48
        }
      ]
    },
    {
      "cell_type": "markdown",
      "metadata": {
        "id": "rqzSyhlxHFbk"
      },
      "source": [
        "### **Forma 2**  -----> *como combinación lineal de vectores unitarios*"
      ]
    },
    {
      "cell_type": "code",
      "metadata": {
        "id": "QeFraorMvLo9",
        "colab": {
          "base_uri": "https://localhost:8080/",
          "height": 36
        },
        "outputId": "ca588d56-6979-4425-bbab-9efc559a4004"
      },
      "source": [
        "i = e.x\n",
        "\n",
        "\n",
        "A = 5*i\n",
        "B = -3*i \n",
        "\n",
        "C = A + B\n",
        "C"
      ],
      "execution_count": null,
      "outputs": [
        {
          "output_type": "execute_result",
          "data": {
            "text/latex": "$\\displaystyle 2\\mathbf{\\hat{e}_x}$",
            "text/plain": [
              "2*e.x"
            ]
          },
          "metadata": {},
          "execution_count": 49
        }
      ]
    },
    {
      "cell_type": "markdown",
      "metadata": {
        "id": "7TCayPInvLo-"
      },
      "source": [
        "## **Verificación geométrica de la regla del paralelogramo**"
      ]
    },
    {
      "cell_type": "code",
      "metadata": {
        "colab": {
          "base_uri": "https://localhost:8080/",
          "height": 497
        },
        "id": "C79ELrscvLo_",
        "outputId": "0d3bfc44-915a-4403-92c8-c4e2791481e3"
      },
      "source": [
        "A = Matrix([5])\n",
        "B = Matrix([-3])\n",
        "\n",
        "plotvectors2D(A,B,[(5,0),B],A+B)"
      ],
      "execution_count": null,
      "outputs": [
        {
          "output_type": "display_data",
          "data": {
            "text/html": [
              "<html>\n",
              "<head><meta charset=\"utf-8\" /></head>\n",
              "<body>\n",
              "    <div>            <script src=\"https://cdnjs.cloudflare.com/ajax/libs/mathjax/2.7.5/MathJax.js?config=TeX-AMS-MML_SVG\"></script><script type=\"text/javascript\">if (window.MathJax) {MathJax.Hub.Config({SVG: {font: \"STIX-Web\"}});}</script>                <script type=\"text/javascript\">window.PlotlyConfig = {MathJaxConfig: 'local'};</script>\n",
              "        <script src=\"https://cdn.plot.ly/plotly-2.2.0.min.js\"></script>                <div id=\"f2af9755-862b-4b74-9ebb-fc9a14c18845\" class=\"plotly-graph-div\" style=\"height:480px; width:500px;\"></div>            <script type=\"text/javascript\">                                    window.PLOTLYENV=window.PLOTLYENV || {};                                    if (document.getElementById(\"f2af9755-862b-4b74-9ebb-fc9a14c18845\")) {                    Plotly.newPlot(                        \"f2af9755-862b-4b74-9ebb-fc9a14c18845\",                        [{\"marker\":{\"color\":\"rgb(142,217,1)\",\"size\":8},\"mode\":\"lines\",\"name\":\"vector 1\",\"showlegend\":true,\"type\":\"scatter\",\"x\":[0,5.0],\"y\":[0,0]},{\"marker\":{\"color\":\"rgb(172,79,98)\",\"size\":8},\"mode\":\"lines\",\"name\":\"vector 2\",\"showlegend\":true,\"type\":\"scatter\",\"x\":[0,-3.0],\"y\":[0,0]},{\"marker\":{\"color\":\"rgb(29,41,103)\",\"size\":8},\"mode\":\"lines\",\"name\":\"vector 3\",\"showlegend\":true,\"type\":\"scatter\",\"x\":[5,2.0],\"y\":[0,0]},{\"marker\":{\"color\":\"rgb(32,209,190)\",\"size\":8},\"mode\":\"lines\",\"name\":\"vector 4\",\"showlegend\":true,\"type\":\"scatter\",\"x\":[0,2.0],\"y\":[0,0]},{\"marker\":{\"color\":\"#2a3f5f\",\"size\":9},\"mode\":\"markers\",\"name\":\"origen\",\"opacity\":1,\"showlegend\":true,\"type\":\"scatter\",\"x\":[0],\"y\":[0]}],                        {\"annotations\":[{\"arrowcolor\":\"rgb(142,217,1)\",\"arrowhead\":2,\"arrowsize\":1.5,\"arrowwidth\":2.3,\"ax\":0.0,\"axref\":\"x\",\"ay\":0.0,\"ayref\":\"y\",\"showarrow\":true,\"x\":5.0,\"xref\":\"x\",\"y\":0,\"yref\":\"y\"},{\"arrowcolor\":\"rgb(172,79,98)\",\"arrowhead\":2,\"arrowsize\":1.5,\"arrowwidth\":2.3,\"ax\":0.0,\"axref\":\"x\",\"ay\":0.0,\"ayref\":\"y\",\"showarrow\":true,\"x\":-3.0,\"xref\":\"x\",\"y\":0,\"yref\":\"y\"},{\"arrowcolor\":\"rgb(29,41,103)\",\"arrowhead\":2,\"arrowsize\":1.5,\"arrowwidth\":2.3,\"ax\":5,\"axref\":\"x\",\"ay\":0,\"ayref\":\"y\",\"showarrow\":true,\"x\":2.0,\"xref\":\"x\",\"y\":0,\"yref\":\"y\"},{\"arrowcolor\":\"rgb(32,209,190)\",\"arrowhead\":2,\"arrowsize\":1.5,\"arrowwidth\":2.3,\"ax\":0.0,\"axref\":\"x\",\"ay\":0.0,\"ayref\":\"y\",\"showarrow\":true,\"x\":2.0,\"xref\":\"x\",\"y\":0,\"yref\":\"y\"},{\"arrowcolor\":\"#2a3f5f\",\"arrowhead\":2,\"arrowwidth\":1.5,\"ax\":-3.54,\"axref\":\"x\",\"ay\":0,\"ayref\":\"y\",\"x\":5.5,\"xref\":\"x\",\"y\":0,\"yref\":\"y\"},{\"arrowcolor\":\"#2a3f5f\",\"arrowhead\":2,\"arrowwidth\":1.5,\"ax\":0,\"axref\":\"x\",\"ay\":-0.54,\"ayref\":\"y\",\"x\":0,\"xref\":\"x\",\"y\":0.5,\"yref\":\"y\"}],\"font\":{\"color\":\"black\",\"family\":\"latex\",\"size\":20},\"height\":480,\"legend\":{\"itemdoubleclick\":\"toggle\",\"orientation\":\"h\",\"x\":1,\"xanchor\":\"right\",\"y\":1.02,\"yanchor\":\"bottom\"},\"showlegend\":true,\"template\":{\"data\":{\"bar\":[{\"error_x\":{\"color\":\"#2a3f5f\"},\"error_y\":{\"color\":\"#2a3f5f\"},\"marker\":{\"line\":{\"color\":\"#E5ECF6\",\"width\":0.5},\"pattern\":{\"fillmode\":\"overlay\",\"size\":10,\"solidity\":0.2}},\"type\":\"bar\"}],\"barpolar\":[{\"marker\":{\"line\":{\"color\":\"#E5ECF6\",\"width\":0.5},\"pattern\":{\"fillmode\":\"overlay\",\"size\":10,\"solidity\":0.2}},\"type\":\"barpolar\"}],\"carpet\":[{\"aaxis\":{\"endlinecolor\":\"#2a3f5f\",\"gridcolor\":\"white\",\"linecolor\":\"white\",\"minorgridcolor\":\"white\",\"startlinecolor\":\"#2a3f5f\"},\"baxis\":{\"endlinecolor\":\"#2a3f5f\",\"gridcolor\":\"white\",\"linecolor\":\"white\",\"minorgridcolor\":\"white\",\"startlinecolor\":\"#2a3f5f\"},\"type\":\"carpet\"}],\"choropleth\":[{\"colorbar\":{\"outlinewidth\":0,\"ticks\":\"\"},\"type\":\"choropleth\"}],\"contour\":[{\"colorbar\":{\"outlinewidth\":0,\"ticks\":\"\"},\"colorscale\":[[0.0,\"#0d0887\"],[0.1111111111111111,\"#46039f\"],[0.2222222222222222,\"#7201a8\"],[0.3333333333333333,\"#9c179e\"],[0.4444444444444444,\"#bd3786\"],[0.5555555555555556,\"#d8576b\"],[0.6666666666666666,\"#ed7953\"],[0.7777777777777778,\"#fb9f3a\"],[0.8888888888888888,\"#fdca26\"],[1.0,\"#f0f921\"]],\"type\":\"contour\"}],\"contourcarpet\":[{\"colorbar\":{\"outlinewidth\":0,\"ticks\":\"\"},\"type\":\"contourcarpet\"}],\"heatmap\":[{\"colorbar\":{\"outlinewidth\":0,\"ticks\":\"\"},\"colorscale\":[[0.0,\"#0d0887\"],[0.1111111111111111,\"#46039f\"],[0.2222222222222222,\"#7201a8\"],[0.3333333333333333,\"#9c179e\"],[0.4444444444444444,\"#bd3786\"],[0.5555555555555556,\"#d8576b\"],[0.6666666666666666,\"#ed7953\"],[0.7777777777777778,\"#fb9f3a\"],[0.8888888888888888,\"#fdca26\"],[1.0,\"#f0f921\"]],\"type\":\"heatmap\"}],\"heatmapgl\":[{\"colorbar\":{\"outlinewidth\":0,\"ticks\":\"\"},\"colorscale\":[[0.0,\"#0d0887\"],[0.1111111111111111,\"#46039f\"],[0.2222222222222222,\"#7201a8\"],[0.3333333333333333,\"#9c179e\"],[0.4444444444444444,\"#bd3786\"],[0.5555555555555556,\"#d8576b\"],[0.6666666666666666,\"#ed7953\"],[0.7777777777777778,\"#fb9f3a\"],[0.8888888888888888,\"#fdca26\"],[1.0,\"#f0f921\"]],\"type\":\"heatmapgl\"}],\"histogram\":[{\"marker\":{\"pattern\":{\"fillmode\":\"overlay\",\"size\":10,\"solidity\":0.2}},\"type\":\"histogram\"}],\"histogram2d\":[{\"colorbar\":{\"outlinewidth\":0,\"ticks\":\"\"},\"colorscale\":[[0.0,\"#0d0887\"],[0.1111111111111111,\"#46039f\"],[0.2222222222222222,\"#7201a8\"],[0.3333333333333333,\"#9c179e\"],[0.4444444444444444,\"#bd3786\"],[0.5555555555555556,\"#d8576b\"],[0.6666666666666666,\"#ed7953\"],[0.7777777777777778,\"#fb9f3a\"],[0.8888888888888888,\"#fdca26\"],[1.0,\"#f0f921\"]],\"type\":\"histogram2d\"}],\"histogram2dcontour\":[{\"colorbar\":{\"outlinewidth\":0,\"ticks\":\"\"},\"colorscale\":[[0.0,\"#0d0887\"],[0.1111111111111111,\"#46039f\"],[0.2222222222222222,\"#7201a8\"],[0.3333333333333333,\"#9c179e\"],[0.4444444444444444,\"#bd3786\"],[0.5555555555555556,\"#d8576b\"],[0.6666666666666666,\"#ed7953\"],[0.7777777777777778,\"#fb9f3a\"],[0.8888888888888888,\"#fdca26\"],[1.0,\"#f0f921\"]],\"type\":\"histogram2dcontour\"}],\"mesh3d\":[{\"colorbar\":{\"outlinewidth\":0,\"ticks\":\"\"},\"type\":\"mesh3d\"}],\"parcoords\":[{\"line\":{\"colorbar\":{\"outlinewidth\":0,\"ticks\":\"\"}},\"type\":\"parcoords\"}],\"pie\":[{\"automargin\":true,\"type\":\"pie\"}],\"scatter\":[{\"marker\":{\"colorbar\":{\"outlinewidth\":0,\"ticks\":\"\"}},\"type\":\"scatter\"}],\"scatter3d\":[{\"line\":{\"colorbar\":{\"outlinewidth\":0,\"ticks\":\"\"}},\"marker\":{\"colorbar\":{\"outlinewidth\":0,\"ticks\":\"\"}},\"type\":\"scatter3d\"}],\"scattercarpet\":[{\"marker\":{\"colorbar\":{\"outlinewidth\":0,\"ticks\":\"\"}},\"type\":\"scattercarpet\"}],\"scattergeo\":[{\"marker\":{\"colorbar\":{\"outlinewidth\":0,\"ticks\":\"\"}},\"type\":\"scattergeo\"}],\"scattergl\":[{\"marker\":{\"colorbar\":{\"outlinewidth\":0,\"ticks\":\"\"}},\"type\":\"scattergl\"}],\"scattermapbox\":[{\"marker\":{\"colorbar\":{\"outlinewidth\":0,\"ticks\":\"\"}},\"type\":\"scattermapbox\"}],\"scatterpolar\":[{\"marker\":{\"colorbar\":{\"outlinewidth\":0,\"ticks\":\"\"}},\"type\":\"scatterpolar\"}],\"scatterpolargl\":[{\"marker\":{\"colorbar\":{\"outlinewidth\":0,\"ticks\":\"\"}},\"type\":\"scatterpolargl\"}],\"scatterternary\":[{\"marker\":{\"colorbar\":{\"outlinewidth\":0,\"ticks\":\"\"}},\"type\":\"scatterternary\"}],\"surface\":[{\"colorbar\":{\"outlinewidth\":0,\"ticks\":\"\"},\"colorscale\":[[0.0,\"#0d0887\"],[0.1111111111111111,\"#46039f\"],[0.2222222222222222,\"#7201a8\"],[0.3333333333333333,\"#9c179e\"],[0.4444444444444444,\"#bd3786\"],[0.5555555555555556,\"#d8576b\"],[0.6666666666666666,\"#ed7953\"],[0.7777777777777778,\"#fb9f3a\"],[0.8888888888888888,\"#fdca26\"],[1.0,\"#f0f921\"]],\"type\":\"surface\"}],\"table\":[{\"cells\":{\"fill\":{\"color\":\"#EBF0F8\"},\"line\":{\"color\":\"white\"}},\"header\":{\"fill\":{\"color\":\"#C8D4E3\"},\"line\":{\"color\":\"white\"}},\"type\":\"table\"}]},\"layout\":{\"annotationdefaults\":{\"arrowcolor\":\"#2a3f5f\",\"arrowhead\":0,\"arrowwidth\":1},\"autotypenumbers\":\"strict\",\"coloraxis\":{\"colorbar\":{\"outlinewidth\":0,\"ticks\":\"\"}},\"colorscale\":{\"diverging\":[[0,\"#8e0152\"],[0.1,\"#c51b7d\"],[0.2,\"#de77ae\"],[0.3,\"#f1b6da\"],[0.4,\"#fde0ef\"],[0.5,\"#f7f7f7\"],[0.6,\"#e6f5d0\"],[0.7,\"#b8e186\"],[0.8,\"#7fbc41\"],[0.9,\"#4d9221\"],[1,\"#276419\"]],\"sequential\":[[0.0,\"#0d0887\"],[0.1111111111111111,\"#46039f\"],[0.2222222222222222,\"#7201a8\"],[0.3333333333333333,\"#9c179e\"],[0.4444444444444444,\"#bd3786\"],[0.5555555555555556,\"#d8576b\"],[0.6666666666666666,\"#ed7953\"],[0.7777777777777778,\"#fb9f3a\"],[0.8888888888888888,\"#fdca26\"],[1.0,\"#f0f921\"]],\"sequentialminus\":[[0.0,\"#0d0887\"],[0.1111111111111111,\"#46039f\"],[0.2222222222222222,\"#7201a8\"],[0.3333333333333333,\"#9c179e\"],[0.4444444444444444,\"#bd3786\"],[0.5555555555555556,\"#d8576b\"],[0.6666666666666666,\"#ed7953\"],[0.7777777777777778,\"#fb9f3a\"],[0.8888888888888888,\"#fdca26\"],[1.0,\"#f0f921\"]]},\"colorway\":[\"#636efa\",\"#EF553B\",\"#00cc96\",\"#ab63fa\",\"#FFA15A\",\"#19d3f3\",\"#FF6692\",\"#B6E880\",\"#FF97FF\",\"#FECB52\"],\"font\":{\"color\":\"#2a3f5f\"},\"geo\":{\"bgcolor\":\"white\",\"lakecolor\":\"white\",\"landcolor\":\"#E5ECF6\",\"showlakes\":true,\"showland\":true,\"subunitcolor\":\"white\"},\"hoverlabel\":{\"align\":\"left\"},\"hovermode\":\"closest\",\"mapbox\":{\"style\":\"light\"},\"paper_bgcolor\":\"white\",\"plot_bgcolor\":\"#E5ECF6\",\"polar\":{\"angularaxis\":{\"gridcolor\":\"white\",\"linecolor\":\"white\",\"ticks\":\"\"},\"bgcolor\":\"#E5ECF6\",\"radialaxis\":{\"gridcolor\":\"white\",\"linecolor\":\"white\",\"ticks\":\"\"}},\"scene\":{\"xaxis\":{\"backgroundcolor\":\"#E5ECF6\",\"gridcolor\":\"white\",\"gridwidth\":2,\"linecolor\":\"white\",\"showbackground\":true,\"ticks\":\"\",\"zerolinecolor\":\"white\"},\"yaxis\":{\"backgroundcolor\":\"#E5ECF6\",\"gridcolor\":\"white\",\"gridwidth\":2,\"linecolor\":\"white\",\"showbackground\":true,\"ticks\":\"\",\"zerolinecolor\":\"white\"},\"zaxis\":{\"backgroundcolor\":\"#E5ECF6\",\"gridcolor\":\"white\",\"gridwidth\":2,\"linecolor\":\"white\",\"showbackground\":true,\"ticks\":\"\",\"zerolinecolor\":\"white\"}},\"shapedefaults\":{\"line\":{\"color\":\"#2a3f5f\"}},\"ternary\":{\"aaxis\":{\"gridcolor\":\"white\",\"linecolor\":\"white\",\"ticks\":\"\"},\"baxis\":{\"gridcolor\":\"white\",\"linecolor\":\"white\",\"ticks\":\"\"},\"bgcolor\":\"#E5ECF6\",\"caxis\":{\"gridcolor\":\"white\",\"linecolor\":\"white\",\"ticks\":\"\"}},\"title\":{\"x\":0.05},\"xaxis\":{\"automargin\":true,\"gridcolor\":\"white\",\"linecolor\":\"white\",\"ticks\":\"\",\"title\":{\"standoff\":15},\"zerolinecolor\":\"white\",\"zerolinewidth\":2},\"yaxis\":{\"automargin\":true,\"gridcolor\":\"white\",\"linecolor\":\"white\",\"ticks\":\"\",\"title\":{\"standoff\":15},\"zerolinecolor\":\"white\",\"zerolinewidth\":2}}},\"title\":{\"font\":{\"color\":\"rgb(1,21,51)\",\"size\":30}},\"width\":500,\"xaxis\":{\"range\":[-3.5,5.5],\"showgrid\":true,\"title\":{\"font\":{\"color\":\"rgb(1,21,51)\",\"family\":\"latex\",\"size\":30},\"text\":\"$\\\\large{x}$\"}},\"yaxis\":{\"range\":[-0.5,0.5],\"showgrid\":true,\"title\":{\"font\":{\"color\":\"rgb(1,21,51)\",\"family\":\"latex\",\"size\":30},\"text\":\"$\\\\large{y}$\"}}},                        {\"responsive\": true}                    ).then(function(){\n",
              "                            \n",
              "var gd = document.getElementById('f2af9755-862b-4b74-9ebb-fc9a14c18845');\n",
              "var x = new MutationObserver(function (mutations, observer) {{\n",
              "        var display = window.getComputedStyle(gd).display;\n",
              "        if (!display || display === 'none') {{\n",
              "            console.log([gd, 'removed!']);\n",
              "            Plotly.purge(gd);\n",
              "            observer.disconnect();\n",
              "        }}\n",
              "}});\n",
              "\n",
              "// Listen for the removal of the full notebook cells\n",
              "var notebookContainer = gd.closest('#notebook-container');\n",
              "if (notebookContainer) {{\n",
              "    x.observe(notebookContainer, {childList: true});\n",
              "}}\n",
              "\n",
              "// Listen for the clearing of the current output cell\n",
              "var outputEl = gd.closest('.output');\n",
              "if (outputEl) {{\n",
              "    x.observe(outputEl, {childList: true});\n",
              "}}\n",
              "\n",
              "                        })                };                            </script>        </div>\n",
              "</body>\n",
              "</html>"
            ]
          },
          "metadata": {}
        }
      ]
    },
    {
      "cell_type": "markdown",
      "metadata": {
        "id": "1FCjmjf6vyik"
      },
      "source": [
        "\n",
        "##**Ejemplo 3:** ------> *adición de vectores tridimensionales*\n",
        "\n",
        "Dados los vectores $\\vec{A}= (1,2,3)$ y  $\\vec{B}= (5,6,3)$  encuentra el vector $A+B$ analíticamente y verifica que la suma cumple la *regla del paralelogramo* graficamente."
      ]
    },
    {
      "cell_type": "markdown",
      "metadata": {
        "id": "0If_GF8Zvyim"
      },
      "source": [
        "## **Adición de los vectores analíticamente**  \n",
        "### **Forma 1** -----> *como $n$-tuplas*"
      ]
    },
    {
      "cell_type": "code",
      "metadata": {
        "colab": {
          "base_uri": "https://localhost:8080/",
          "height": 78
        },
        "id": "2rfKhMnfvyim",
        "outputId": "88b7293f-5ed0-48af-e2ed-f5e853e62785"
      },
      "source": [
        "A = Matrix([1,2,3])\n",
        "B = Matrix([5,6,3])\n",
        "\n",
        "A + B"
      ],
      "execution_count": 35,
      "outputs": [
        {
          "output_type": "execute_result",
          "data": {
            "text/plain": [
              "Matrix([\n",
              "[6],\n",
              "[8],\n",
              "[6]])"
            ],
            "text/latex": "$\\displaystyle \\left[\\begin{matrix}6\\\\8\\\\6\\end{matrix}\\right]$"
          },
          "metadata": {},
          "execution_count": 35
        }
      ]
    },
    {
      "cell_type": "markdown",
      "metadata": {
        "id": "cFkoIX5YHmpR"
      },
      "source": [
        "### **Forma 2**  -----> *como combinación lineal de vectores unitarios*"
      ]
    },
    {
      "cell_type": "code",
      "metadata": {
        "colab": {
          "base_uri": "https://localhost:8080/",
          "height": 37
        },
        "id": "7tweHloHvyio",
        "outputId": "3f499fe9-f12e-43ad-a331-a708b06229e0"
      },
      "source": [
        "i = e.x\n",
        "j = e.y\n",
        "k = e.z\n",
        "\n",
        "\n",
        "A = 1*i + 2*j + 3*k \n",
        "B = 5*i + 6*j + 3*k \n",
        "\n",
        "A + B"
      ],
      "execution_count": 36,
      "outputs": [
        {
          "output_type": "execute_result",
          "data": {
            "text/plain": [
              "6*e.x + 8*e.y + 6*e.z"
            ],
            "text/latex": "$\\displaystyle 6\\mathbf{\\hat{e}_x} + 8\\mathbf{\\hat{e}_y} + 6\\mathbf{\\hat{e}_z}$"
          },
          "metadata": {},
          "execution_count": 36
        }
      ]
    },
    {
      "cell_type": "markdown",
      "metadata": {
        "id": "3ldT86g9vyip"
      },
      "source": [
        "## **Verificación geométrica de la regla del paralelogramo**"
      ]
    },
    {
      "cell_type": "code",
      "metadata": {
        "colab": {
          "base_uri": "https://localhost:8080/",
          "height": 497
        },
        "id": "BL-qaDsPvyir",
        "outputId": "5fb0daf8-25e2-4e41-ff55-0dc8c0d8881b"
      },
      "source": [
        "A = Matrix([1,2,3])\n",
        "B = Matrix([5,6,3])\n",
        "\n",
        "plotvectors3D(A,B,A+B,[(5,6,3),A])"
      ],
      "execution_count": 37,
      "outputs": [
        {
          "output_type": "display_data",
          "data": {
            "text/html": [
              "<html>\n",
              "<head><meta charset=\"utf-8\" /></head>\n",
              "<body>\n",
              "    <div>            <script src=\"https://cdnjs.cloudflare.com/ajax/libs/mathjax/2.7.5/MathJax.js?config=TeX-AMS-MML_SVG\"></script><script type=\"text/javascript\">if (window.MathJax) {MathJax.Hub.Config({SVG: {font: \"STIX-Web\"}});}</script>                <script type=\"text/javascript\">window.PlotlyConfig = {MathJaxConfig: 'local'};</script>\n",
              "        <script src=\"https://cdn.plot.ly/plotly-2.2.0.min.js\"></script>                <div id=\"a85f0352-bd6a-4e06-864e-10dc9ee08963\" class=\"plotly-graph-div\" style=\"height:480px; width:480px;\"></div>            <script type=\"text/javascript\">                                    window.PLOTLYENV=window.PLOTLYENV || {};                                    if (document.getElementById(\"a85f0352-bd6a-4e06-864e-10dc9ee08963\")) {                    Plotly.newPlot(                        \"a85f0352-bd6a-4e06-864e-10dc9ee08963\",                        [{\"line\":{\"color\":\"rgb(83,183,63)\",\"width\":7},\"marker\":{\"color\":\"rgb(83,183,63)\",\"size\":1},\"name\":\"vector 1\",\"type\":\"scatter3d\",\"x\":[0,1.0],\"y\":[0,2.0],\"z\":[0,3.0]},{\"anchor\":\"cm\",\"colorbar\":{\"thickness\":20,\"ticklen\":4},\"colorscale\":[[0,\"rgb(83,183,63)\"],[1,\"rgb(83,183,63)\"]],\"name\":\"vector 1\",\"showscale\":false,\"sizemode\":\"absolute\",\"sizeref\":0.6666666666666666,\"type\":\"cone\",\"u\":[1.0],\"v\":[2.0],\"w\":[3.0],\"x\":[1.0],\"y\":[2.0],\"z\":[3.0]},{\"line\":{\"color\":\"rgb(38,120,48)\",\"width\":7},\"marker\":{\"color\":\"rgb(38,120,48)\",\"size\":1},\"name\":\"vector 2\",\"type\":\"scatter3d\",\"x\":[0,5.0],\"y\":[0,6.0],\"z\":[0,3.0]},{\"anchor\":\"cm\",\"colorbar\":{\"thickness\":20,\"ticklen\":4},\"colorscale\":[[0,\"rgb(38,120,48)\"],[1,\"rgb(38,120,48)\"]],\"name\":\"vector 2\",\"showscale\":false,\"sizemode\":\"absolute\",\"sizeref\":0.6666666666666666,\"type\":\"cone\",\"u\":[5.0],\"v\":[6.0],\"w\":[3.0],\"x\":[5.0],\"y\":[6.0],\"z\":[3.0]},{\"line\":{\"color\":\"rgb(58,156,70)\",\"width\":7},\"marker\":{\"color\":\"rgb(58,156,70)\",\"size\":1},\"name\":\"vector 3\",\"type\":\"scatter3d\",\"x\":[0,6.0],\"y\":[0,8.0],\"z\":[0,6.0]},{\"anchor\":\"cm\",\"colorbar\":{\"thickness\":20,\"ticklen\":4},\"colorscale\":[[0,\"rgb(58,156,70)\"],[1,\"rgb(58,156,70)\"]],\"name\":\"vector 3\",\"showscale\":false,\"sizemode\":\"absolute\",\"sizeref\":0.6666666666666666,\"type\":\"cone\",\"u\":[6.0],\"v\":[8.0],\"w\":[6.0],\"x\":[6.0],\"y\":[8.0],\"z\":[6.0]},{\"hoverinfo\":\"name+text\",\"hovertext\":\"Tail=(5,6,3)\\nHead=(6.0,8.0,6.0)\",\"line\":{\"color\":\"rgb(200,208,51)\",\"width\":7},\"marker\":{\"color\":\"rgb(200,208,51)\",\"size\":1},\"name\":\"vector 4\",\"type\":\"scatter3d\",\"x\":[5,6.0],\"y\":[6,8.0],\"z\":[3,6.0]},{\"anchor\":\"cm\",\"colorbar\":{\"thickness\":20,\"ticklen\":4},\"colorscale\":[[0,\"rgb(200,208,51)\"],[1,\"rgb(200,208,51)\"]],\"hoverinfo\":\"skip\",\"name\":\"vector 4\",\"showscale\":false,\"sizemode\":\"absolute\",\"sizeref\":0.6666666666666666,\"type\":\"cone\",\"u\":[0.5],\"v\":[1.0],\"w\":[1.5],\"x\":[5.937],\"y\":[7.874],\"z\":[5.811]},{\"marker\":{\"color\":\"#2a3f5f\",\"size\":5},\"mode\":\"markers\",\"name\":\"origen\",\"showlegend\":true,\"type\":\"scatter3d\",\"x\":[0],\"y\":[0],\"z\":[0]},{\"hoverinfo\":\"skip\",\"line\":{\"color\":\"#2a3f5f\",\"width\":3},\"marker\":{\"color\":\"#2a3f5f\",\"size\":1},\"name\":\"\",\"showlegend\":false,\"type\":\"scatter3d\",\"x\":[-0.6666666666666666,6.666666666666667],\"y\":[0,0],\"z\":[0,0]},{\"anchor\":\"cm\",\"colorbar\":{\"thickness\":20,\"ticklen\":4},\"colorscale\":[[0,\"#2a3f5f\"],[1,\"#2a3f5f\"]],\"hoverinfo\":\"name\",\"name\":\"Eje x-positivo\",\"showscale\":false,\"sizemode\":\"absolute\",\"sizeref\":0.39999999999999997,\"type\":\"cone\",\"u\":[6.666666666666667],\"v\":[0],\"w\":[0],\"x\":[6.666666666666667],\"y\":[0],\"z\":[0]},{\"hoverinfo\":\"skip\",\"line\":{\"color\":\"#2a3f5f\",\"width\":3},\"marker\":{\"color\":\"#2a3f5f\",\"size\":1},\"name\":\"\",\"showlegend\":false,\"type\":\"scatter3d\",\"x\":[0,0],\"y\":[-0.6666666666666666,8.666666666666666],\"z\":[0,0]},{\"anchor\":\"cm\",\"colorbar\":{\"thickness\":20,\"ticklen\":4},\"colorscale\":[[0,\"#2a3f5f\"],[1,\"#2a3f5f\"]],\"hoverinfo\":\"name\",\"name\":\"Eje y-positivo \",\"showscale\":false,\"sizemode\":\"absolute\",\"sizeref\":0.39999999999999997,\"type\":\"cone\",\"u\":[0],\"v\":[8.666666666666666],\"w\":[0],\"x\":[0],\"y\":[8.666666666666666],\"z\":[0]},{\"hoverinfo\":\"skip\",\"line\":{\"color\":\"#2a3f5f\",\"width\":3},\"marker\":{\"color\":\"#2a3f5f\",\"size\":1},\"name\":\"eje z-positivo\",\"showlegend\":false,\"type\":\"scatter3d\",\"x\":[0,0],\"y\":[0,0],\"z\":[-0.9666666666666666,6.666666666666667]},{\"anchor\":\"cm\",\"colorbar\":{\"thickness\":20,\"ticklen\":4},\"colorscale\":[[0,\"#2a3f5f\"],[1,\"#2a3f5f\"]],\"hoverinfo\":\"name\",\"name\":\"Eje z-positivo\",\"showscale\":false,\"sizemode\":\"absolute\",\"sizeref\":0.39999999999999997,\"type\":\"cone\",\"u\":[0],\"v\":[0],\"w\":[6.666666666666667],\"x\":[0],\"y\":[0],\"z\":[6.666666666666667]}],                        {\"height\":480,\"legend\":{\"orientation\":\"h\",\"x\":0.03,\"y\":1.3},\"margin\":{\"b\":0,\"l\":0,\"r\":0,\"t\":0},\"showlegend\":true,\"template\":{\"data\":{\"bar\":[{\"error_x\":{\"color\":\"#2a3f5f\"},\"error_y\":{\"color\":\"#2a3f5f\"},\"marker\":{\"line\":{\"color\":\"#E5ECF6\",\"width\":0.5},\"pattern\":{\"fillmode\":\"overlay\",\"size\":10,\"solidity\":0.2}},\"type\":\"bar\"}],\"barpolar\":[{\"marker\":{\"line\":{\"color\":\"#E5ECF6\",\"width\":0.5},\"pattern\":{\"fillmode\":\"overlay\",\"size\":10,\"solidity\":0.2}},\"type\":\"barpolar\"}],\"carpet\":[{\"aaxis\":{\"endlinecolor\":\"#2a3f5f\",\"gridcolor\":\"white\",\"linecolor\":\"white\",\"minorgridcolor\":\"white\",\"startlinecolor\":\"#2a3f5f\"},\"baxis\":{\"endlinecolor\":\"#2a3f5f\",\"gridcolor\":\"white\",\"linecolor\":\"white\",\"minorgridcolor\":\"white\",\"startlinecolor\":\"#2a3f5f\"},\"type\":\"carpet\"}],\"choropleth\":[{\"colorbar\":{\"outlinewidth\":0,\"ticks\":\"\"},\"type\":\"choropleth\"}],\"contour\":[{\"colorbar\":{\"outlinewidth\":0,\"ticks\":\"\"},\"colorscale\":[[0.0,\"#0d0887\"],[0.1111111111111111,\"#46039f\"],[0.2222222222222222,\"#7201a8\"],[0.3333333333333333,\"#9c179e\"],[0.4444444444444444,\"#bd3786\"],[0.5555555555555556,\"#d8576b\"],[0.6666666666666666,\"#ed7953\"],[0.7777777777777778,\"#fb9f3a\"],[0.8888888888888888,\"#fdca26\"],[1.0,\"#f0f921\"]],\"type\":\"contour\"}],\"contourcarpet\":[{\"colorbar\":{\"outlinewidth\":0,\"ticks\":\"\"},\"type\":\"contourcarpet\"}],\"heatmap\":[{\"colorbar\":{\"outlinewidth\":0,\"ticks\":\"\"},\"colorscale\":[[0.0,\"#0d0887\"],[0.1111111111111111,\"#46039f\"],[0.2222222222222222,\"#7201a8\"],[0.3333333333333333,\"#9c179e\"],[0.4444444444444444,\"#bd3786\"],[0.5555555555555556,\"#d8576b\"],[0.6666666666666666,\"#ed7953\"],[0.7777777777777778,\"#fb9f3a\"],[0.8888888888888888,\"#fdca26\"],[1.0,\"#f0f921\"]],\"type\":\"heatmap\"}],\"heatmapgl\":[{\"colorbar\":{\"outlinewidth\":0,\"ticks\":\"\"},\"colorscale\":[[0.0,\"#0d0887\"],[0.1111111111111111,\"#46039f\"],[0.2222222222222222,\"#7201a8\"],[0.3333333333333333,\"#9c179e\"],[0.4444444444444444,\"#bd3786\"],[0.5555555555555556,\"#d8576b\"],[0.6666666666666666,\"#ed7953\"],[0.7777777777777778,\"#fb9f3a\"],[0.8888888888888888,\"#fdca26\"],[1.0,\"#f0f921\"]],\"type\":\"heatmapgl\"}],\"histogram\":[{\"marker\":{\"pattern\":{\"fillmode\":\"overlay\",\"size\":10,\"solidity\":0.2}},\"type\":\"histogram\"}],\"histogram2d\":[{\"colorbar\":{\"outlinewidth\":0,\"ticks\":\"\"},\"colorscale\":[[0.0,\"#0d0887\"],[0.1111111111111111,\"#46039f\"],[0.2222222222222222,\"#7201a8\"],[0.3333333333333333,\"#9c179e\"],[0.4444444444444444,\"#bd3786\"],[0.5555555555555556,\"#d8576b\"],[0.6666666666666666,\"#ed7953\"],[0.7777777777777778,\"#fb9f3a\"],[0.8888888888888888,\"#fdca26\"],[1.0,\"#f0f921\"]],\"type\":\"histogram2d\"}],\"histogram2dcontour\":[{\"colorbar\":{\"outlinewidth\":0,\"ticks\":\"\"},\"colorscale\":[[0.0,\"#0d0887\"],[0.1111111111111111,\"#46039f\"],[0.2222222222222222,\"#7201a8\"],[0.3333333333333333,\"#9c179e\"],[0.4444444444444444,\"#bd3786\"],[0.5555555555555556,\"#d8576b\"],[0.6666666666666666,\"#ed7953\"],[0.7777777777777778,\"#fb9f3a\"],[0.8888888888888888,\"#fdca26\"],[1.0,\"#f0f921\"]],\"type\":\"histogram2dcontour\"}],\"mesh3d\":[{\"colorbar\":{\"outlinewidth\":0,\"ticks\":\"\"},\"type\":\"mesh3d\"}],\"parcoords\":[{\"line\":{\"colorbar\":{\"outlinewidth\":0,\"ticks\":\"\"}},\"type\":\"parcoords\"}],\"pie\":[{\"automargin\":true,\"type\":\"pie\"}],\"scatter\":[{\"marker\":{\"colorbar\":{\"outlinewidth\":0,\"ticks\":\"\"}},\"type\":\"scatter\"}],\"scatter3d\":[{\"line\":{\"colorbar\":{\"outlinewidth\":0,\"ticks\":\"\"}},\"marker\":{\"colorbar\":{\"outlinewidth\":0,\"ticks\":\"\"}},\"type\":\"scatter3d\"}],\"scattercarpet\":[{\"marker\":{\"colorbar\":{\"outlinewidth\":0,\"ticks\":\"\"}},\"type\":\"scattercarpet\"}],\"scattergeo\":[{\"marker\":{\"colorbar\":{\"outlinewidth\":0,\"ticks\":\"\"}},\"type\":\"scattergeo\"}],\"scattergl\":[{\"marker\":{\"colorbar\":{\"outlinewidth\":0,\"ticks\":\"\"}},\"type\":\"scattergl\"}],\"scattermapbox\":[{\"marker\":{\"colorbar\":{\"outlinewidth\":0,\"ticks\":\"\"}},\"type\":\"scattermapbox\"}],\"scatterpolar\":[{\"marker\":{\"colorbar\":{\"outlinewidth\":0,\"ticks\":\"\"}},\"type\":\"scatterpolar\"}],\"scatterpolargl\":[{\"marker\":{\"colorbar\":{\"outlinewidth\":0,\"ticks\":\"\"}},\"type\":\"scatterpolargl\"}],\"scatterternary\":[{\"marker\":{\"colorbar\":{\"outlinewidth\":0,\"ticks\":\"\"}},\"type\":\"scatterternary\"}],\"surface\":[{\"colorbar\":{\"outlinewidth\":0,\"ticks\":\"\"},\"colorscale\":[[0.0,\"#0d0887\"],[0.1111111111111111,\"#46039f\"],[0.2222222222222222,\"#7201a8\"],[0.3333333333333333,\"#9c179e\"],[0.4444444444444444,\"#bd3786\"],[0.5555555555555556,\"#d8576b\"],[0.6666666666666666,\"#ed7953\"],[0.7777777777777778,\"#fb9f3a\"],[0.8888888888888888,\"#fdca26\"],[1.0,\"#f0f921\"]],\"type\":\"surface\"}],\"table\":[{\"cells\":{\"fill\":{\"color\":\"#EBF0F8\"},\"line\":{\"color\":\"white\"}},\"header\":{\"fill\":{\"color\":\"#C8D4E3\"},\"line\":{\"color\":\"white\"}},\"type\":\"table\"}]},\"layout\":{\"annotationdefaults\":{\"arrowcolor\":\"#2a3f5f\",\"arrowhead\":0,\"arrowwidth\":1},\"autotypenumbers\":\"strict\",\"coloraxis\":{\"colorbar\":{\"outlinewidth\":0,\"ticks\":\"\"}},\"colorscale\":{\"diverging\":[[0,\"#8e0152\"],[0.1,\"#c51b7d\"],[0.2,\"#de77ae\"],[0.3,\"#f1b6da\"],[0.4,\"#fde0ef\"],[0.5,\"#f7f7f7\"],[0.6,\"#e6f5d0\"],[0.7,\"#b8e186\"],[0.8,\"#7fbc41\"],[0.9,\"#4d9221\"],[1,\"#276419\"]],\"sequential\":[[0.0,\"#0d0887\"],[0.1111111111111111,\"#46039f\"],[0.2222222222222222,\"#7201a8\"],[0.3333333333333333,\"#9c179e\"],[0.4444444444444444,\"#bd3786\"],[0.5555555555555556,\"#d8576b\"],[0.6666666666666666,\"#ed7953\"],[0.7777777777777778,\"#fb9f3a\"],[0.8888888888888888,\"#fdca26\"],[1.0,\"#f0f921\"]],\"sequentialminus\":[[0.0,\"#0d0887\"],[0.1111111111111111,\"#46039f\"],[0.2222222222222222,\"#7201a8\"],[0.3333333333333333,\"#9c179e\"],[0.4444444444444444,\"#bd3786\"],[0.5555555555555556,\"#d8576b\"],[0.6666666666666666,\"#ed7953\"],[0.7777777777777778,\"#fb9f3a\"],[0.8888888888888888,\"#fdca26\"],[1.0,\"#f0f921\"]]},\"colorway\":[\"#636efa\",\"#EF553B\",\"#00cc96\",\"#ab63fa\",\"#FFA15A\",\"#19d3f3\",\"#FF6692\",\"#B6E880\",\"#FF97FF\",\"#FECB52\"],\"font\":{\"color\":\"#2a3f5f\"},\"geo\":{\"bgcolor\":\"white\",\"lakecolor\":\"white\",\"landcolor\":\"#E5ECF6\",\"showlakes\":true,\"showland\":true,\"subunitcolor\":\"white\"},\"hoverlabel\":{\"align\":\"left\"},\"hovermode\":\"closest\",\"mapbox\":{\"style\":\"light\"},\"paper_bgcolor\":\"white\",\"plot_bgcolor\":\"#E5ECF6\",\"polar\":{\"angularaxis\":{\"gridcolor\":\"white\",\"linecolor\":\"white\",\"ticks\":\"\"},\"bgcolor\":\"#E5ECF6\",\"radialaxis\":{\"gridcolor\":\"white\",\"linecolor\":\"white\",\"ticks\":\"\"}},\"scene\":{\"xaxis\":{\"backgroundcolor\":\"#E5ECF6\",\"gridcolor\":\"white\",\"gridwidth\":2,\"linecolor\":\"white\",\"showbackground\":true,\"ticks\":\"\",\"zerolinecolor\":\"white\"},\"yaxis\":{\"backgroundcolor\":\"#E5ECF6\",\"gridcolor\":\"white\",\"gridwidth\":2,\"linecolor\":\"white\",\"showbackground\":true,\"ticks\":\"\",\"zerolinecolor\":\"white\"},\"zaxis\":{\"backgroundcolor\":\"#E5ECF6\",\"gridcolor\":\"white\",\"gridwidth\":2,\"linecolor\":\"white\",\"showbackground\":true,\"ticks\":\"\",\"zerolinecolor\":\"white\"}},\"shapedefaults\":{\"line\":{\"color\":\"#2a3f5f\"}},\"ternary\":{\"aaxis\":{\"gridcolor\":\"white\",\"linecolor\":\"white\",\"ticks\":\"\"},\"baxis\":{\"gridcolor\":\"white\",\"linecolor\":\"white\",\"ticks\":\"\"},\"bgcolor\":\"#E5ECF6\",\"caxis\":{\"gridcolor\":\"white\",\"linecolor\":\"white\",\"ticks\":\"\"}},\"title\":{\"x\":0.05},\"xaxis\":{\"automargin\":true,\"gridcolor\":\"white\",\"linecolor\":\"white\",\"ticks\":\"\",\"title\":{\"standoff\":15},\"zerolinecolor\":\"white\",\"zerolinewidth\":2},\"yaxis\":{\"automargin\":true,\"gridcolor\":\"white\",\"linecolor\":\"white\",\"ticks\":\"\",\"title\":{\"standoff\":15},\"zerolinecolor\":\"white\",\"zerolinewidth\":2}}},\"title\":{\"font\":{\"color\":\"rgb(1,21,51)\",\"size\":50}},\"width\":480},                        {\"responsive\": true}                    ).then(function(){\n",
              "                            \n",
              "var gd = document.getElementById('a85f0352-bd6a-4e06-864e-10dc9ee08963');\n",
              "var x = new MutationObserver(function (mutations, observer) {{\n",
              "        var display = window.getComputedStyle(gd).display;\n",
              "        if (!display || display === 'none') {{\n",
              "            console.log([gd, 'removed!']);\n",
              "            Plotly.purge(gd);\n",
              "            observer.disconnect();\n",
              "        }}\n",
              "}});\n",
              "\n",
              "// Listen for the removal of the full notebook cells\n",
              "var notebookContainer = gd.closest('#notebook-container');\n",
              "if (notebookContainer) {{\n",
              "    x.observe(notebookContainer, {childList: true});\n",
              "}}\n",
              "\n",
              "// Listen for the clearing of the current output cell\n",
              "var outputEl = gd.closest('.output');\n",
              "if (outputEl) {{\n",
              "    x.observe(outputEl, {childList: true});\n",
              "}}\n",
              "\n",
              "                        })                };                            </script>        </div>\n",
              "</body>\n",
              "</html>"
            ]
          },
          "metadata": {}
        }
      ]
    },
    {
      "cell_type": "markdown",
      "metadata": {
        "id": "xqAtayLXyH9i"
      },
      "source": [
        "<p><height=\"45px\" src=\"<a href=\"https://ibb.co/pZYMC0T\"><img src=\"https://i.ibb.co/ZL1WsdZ/poll.png\" align=\"left\" alt=\"\" width=\"4%\" height=\"5%\"></a><p> <H1><strong>&nbsp;Actividad de práctica</strong>\n",
        "\n",
        "Dados los puntos  $\\vec{A} = (3,2)$,  $\\vec{B} = (-5,2)$, $\\vec{C} = (-3,-6)$, encuentra analíticamente el vector $\\vec{D}$ donde:\n",
        "\n",
        " $$ \\vec{D} = \\vec{A} + \\vec{B}+\\vec{C}$$\n",
        "\n",
        "\n",
        "Usa la función **plotvector2D** para representar graficamente en el plano los **tres vectores** $\\vec{A}$,$\\vec{B}$,$\\vec{C}$, y  en el mismo plano:\n",
        "\n",
        "\n",
        "\n",
        "*   Realiza la gráfica de un **cuarto vector** equipolente al $\\vec{B}$, trasladando al punto inicial del $\\vec{B}$ en la cabeza del $\\vec{A}$.\n",
        "*   Realiza la gráfica de un **quinto vector** equipolente al $\\vec{C}$, trasladando el punto inicial del $\\vec{C}$ en la cabeza del cuarto vector.\n",
        "*   Realiza la gráfica de un  **sexto vector** que sea el $\\vec{D}$ obtenido de realizar la adición de $\\vec{A} + \\vec{B}+\\vec{C}$.\n",
        "\n",
        "¿Qué puedes cuncluir sobre la adición de más de dos vectores de manera geométrica?"
      ]
    },
    {
      "cell_type": "code",
      "metadata": {
        "colab": {
          "base_uri": "https://localhost:8080/",
          "height": 57
        },
        "id": "pT1LdSLWXcJX",
        "outputId": "27b55eb0-d995-44c4-80d8-b63743965918"
      },
      "source": [
        "A = Matrix([3,2])\n",
        "B = Matrix([-5,2])\n",
        "C = Matrix([-3,-6])\n",
        "D = A+B+C\n",
        "D"
      ],
      "execution_count": null,
      "outputs": [
        {
          "output_type": "execute_result",
          "data": {
            "text/latex": "$\\displaystyle \\left[\\begin{matrix}-5\\\\-2\\end{matrix}\\right]$",
            "text/plain": [
              "Matrix([\n",
              "[-5],\n",
              "[-2]])"
            ]
          },
          "metadata": {
            "tags": []
          },
          "execution_count": 87
        }
      ]
    },
    {
      "cell_type": "code",
      "metadata": {
        "colab": {
          "base_uri": "https://localhost:8080/",
          "height": 497
        },
        "id": "WXk8o1zPuQuV",
        "outputId": "cef741d1-0b1f-42f8-897f-b3c8d3c043d9"
      },
      "source": [
        "plotvectors2D(A,B,C,[(3,2),B],[(-2,4),C],D)"
      ],
      "execution_count": null,
      "outputs": [
        {
          "output_type": "display_data",
          "data": {
            "text/html": [
              "<html>\n",
              "<head><meta charset=\"utf-8\" /></head>\n",
              "<body>\n",
              "    <div>\n",
              "            <script src=\"https://cdnjs.cloudflare.com/ajax/libs/mathjax/2.7.5/MathJax.js?config=TeX-AMS-MML_SVG\"></script><script type=\"text/javascript\">if (window.MathJax) {MathJax.Hub.Config({SVG: {font: \"STIX-Web\"}});}</script>\n",
              "                <script type=\"text/javascript\">window.PlotlyConfig = {MathJaxConfig: 'local'};</script>\n",
              "        <script src=\"https://cdn.plot.ly/plotly-latest.min.js\"></script>    \n",
              "            <div id=\"20c1d0df-5ba9-40d3-aa05-b0da22f14fe5\" class=\"plotly-graph-div\" style=\"height:480px; width:500px;\"></div>\n",
              "            <script type=\"text/javascript\">\n",
              "                \n",
              "                    window.PLOTLYENV=window.PLOTLYENV || {};\n",
              "                    \n",
              "                if (document.getElementById(\"20c1d0df-5ba9-40d3-aa05-b0da22f14fe5\")) {\n",
              "                    Plotly.newPlot(\n",
              "                        '20c1d0df-5ba9-40d3-aa05-b0da22f14fe5',\n",
              "                        [{\"marker\": {\"color\": \"rgb(177,99,46)\", \"size\": 8}, \"mode\": \"lines\", \"name\": \"vector 1\", \"showlegend\": true, \"type\": \"scatter\", \"x\": [0, 3.0], \"y\": [0, 2.0]}, {\"marker\": {\"color\": \"rgb(35,28,157)\", \"size\": 8}, \"mode\": \"lines\", \"name\": \"vector 2\", \"showlegend\": true, \"type\": \"scatter\", \"x\": [0, -5.0], \"y\": [0, 2.0]}, {\"marker\": {\"color\": \"rgb(224,77,103)\", \"size\": 8}, \"mode\": \"lines\", \"name\": \"vector 3\", \"showlegend\": true, \"type\": \"scatter\", \"x\": [0, -3.0], \"y\": [0, -6.0]}, {\"marker\": {\"color\": \"rgb(56,223,99)\", \"size\": 8}, \"mode\": \"lines\", \"name\": \"vector 4\", \"showlegend\": true, \"type\": \"scatter\", \"x\": [3, -2.0], \"y\": [2, 4.0]}, {\"marker\": {\"color\": \"rgb(206,100,91)\", \"size\": 8}, \"mode\": \"lines\", \"name\": \"vector 5\", \"showlegend\": true, \"type\": \"scatter\", \"x\": [-2, -5.0], \"y\": [4, -2.0]}, {\"marker\": {\"color\": \"rgb(236,50,239)\", \"size\": 8}, \"mode\": \"lines\", \"name\": \"vector 6\", \"showlegend\": true, \"type\": \"scatter\", \"x\": [0, -5.0], \"y\": [0, -2.0]}, {\"marker\": {\"color\": \"#2a3f5f\", \"size\": 9}, \"mode\": \"markers\", \"name\": \"origen\", \"opacity\": 1, \"showlegend\": true, \"type\": \"scatter\", \"x\": [0], \"y\": [0]}],\n",
              "                        {\"annotations\": [{\"arrowcolor\": \"rgb(177,99,46)\", \"arrowhead\": 2, \"arrowsize\": 1.5, \"arrowwidth\": 2.3, \"ax\": 0.0, \"axref\": \"x\", \"ay\": 0.0, \"ayref\": \"y\", \"showarrow\": true, \"x\": 3.0, \"xref\": \"x\", \"y\": 2.0, \"yref\": \"y\"}, {\"arrowcolor\": \"rgb(35,28,157)\", \"arrowhead\": 2, \"arrowsize\": 1.5, \"arrowwidth\": 2.3, \"ax\": 0.0, \"axref\": \"x\", \"ay\": 0.0, \"ayref\": \"y\", \"showarrow\": true, \"x\": -5.0, \"xref\": \"x\", \"y\": 2.0, \"yref\": \"y\"}, {\"arrowcolor\": \"rgb(224,77,103)\", \"arrowhead\": 2, \"arrowsize\": 1.5, \"arrowwidth\": 2.3, \"ax\": 0.0, \"axref\": \"x\", \"ay\": 0.0, \"ayref\": \"y\", \"showarrow\": true, \"x\": -3.0, \"xref\": \"x\", \"y\": -6.0, \"yref\": \"y\"}, {\"arrowcolor\": \"rgb(56,223,99)\", \"arrowhead\": 2, \"arrowsize\": 1.5, \"arrowwidth\": 2.3, \"ax\": 3, \"axref\": \"x\", \"ay\": 2, \"ayref\": \"y\", \"showarrow\": true, \"x\": -2.0, \"xref\": \"x\", \"y\": 4.0, \"yref\": \"y\"}, {\"arrowcolor\": \"rgb(206,100,91)\", \"arrowhead\": 2, \"arrowsize\": 1.5, \"arrowwidth\": 2.3, \"ax\": -2, \"axref\": \"x\", \"ay\": 4, \"ayref\": \"y\", \"showarrow\": true, \"x\": -5.0, \"xref\": \"x\", \"y\": -2.0, \"yref\": \"y\"}, {\"arrowcolor\": \"rgb(236,50,239)\", \"arrowhead\": 2, \"arrowsize\": 1.5, \"arrowwidth\": 2.3, \"ax\": 0.0, \"axref\": \"x\", \"ay\": 0.0, \"ayref\": \"y\", \"showarrow\": true, \"x\": -5.0, \"xref\": \"x\", \"y\": -2.0, \"yref\": \"y\"}, {\"arrowcolor\": \"#2a3f5f\", \"arrowhead\": 2, \"arrowwidth\": 1.5, \"ax\": -5.54, \"axref\": \"x\", \"ay\": 0, \"ayref\": \"y\", \"x\": 3.5, \"xref\": \"x\", \"y\": 0, \"yref\": \"y\"}, {\"arrowcolor\": \"#2a3f5f\", \"arrowhead\": 2, \"arrowwidth\": 1.5, \"ax\": 0, \"axref\": \"x\", \"ay\": -6.54, \"ayref\": \"y\", \"x\": 0, \"xref\": \"x\", \"y\": 4.5, \"yref\": \"y\"}, {\"arrowhead\": 1, \"showarrow\": false, \"text\": \"$x$\", \"x\": 3.5, \"y\": -0.2}, {\"arrowhead\": 1, \"showarrow\": false, \"text\": \"$y$\", \"x\": -0.2, \"y\": 4.5}], \"font\": {\"color\": \"black\", \"family\": \"latex\", \"size\": 20}, \"height\": 480, \"legend\": {\"itemdoubleclick\": \"toggle\", \"orientation\": \"h\", \"x\": 1, \"xanchor\": \"right\", \"y\": 1.02, \"yanchor\": \"bottom\"}, \"showlegend\": true, \"template\": {\"data\": {\"bar\": [{\"error_x\": {\"color\": \"#2a3f5f\"}, \"error_y\": {\"color\": \"#2a3f5f\"}, \"marker\": {\"line\": {\"color\": \"#E5ECF6\", \"width\": 0.5}}, \"type\": \"bar\"}], \"barpolar\": [{\"marker\": {\"line\": {\"color\": \"#E5ECF6\", \"width\": 0.5}}, \"type\": \"barpolar\"}], \"carpet\": [{\"aaxis\": {\"endlinecolor\": \"#2a3f5f\", \"gridcolor\": \"white\", \"linecolor\": \"white\", \"minorgridcolor\": \"white\", \"startlinecolor\": \"#2a3f5f\"}, \"baxis\": {\"endlinecolor\": \"#2a3f5f\", \"gridcolor\": \"white\", \"linecolor\": \"white\", \"minorgridcolor\": \"white\", \"startlinecolor\": \"#2a3f5f\"}, \"type\": \"carpet\"}], \"choropleth\": [{\"colorbar\": {\"outlinewidth\": 0, \"ticks\": \"\"}, \"type\": \"choropleth\"}], \"contour\": [{\"colorbar\": {\"outlinewidth\": 0, \"ticks\": \"\"}, \"colorscale\": [[0.0, \"#0d0887\"], [0.1111111111111111, \"#46039f\"], [0.2222222222222222, \"#7201a8\"], [0.3333333333333333, \"#9c179e\"], [0.4444444444444444, \"#bd3786\"], [0.5555555555555556, \"#d8576b\"], [0.6666666666666666, \"#ed7953\"], [0.7777777777777778, \"#fb9f3a\"], [0.8888888888888888, \"#fdca26\"], [1.0, \"#f0f921\"]], \"type\": \"contour\"}], \"contourcarpet\": [{\"colorbar\": {\"outlinewidth\": 0, \"ticks\": \"\"}, \"type\": \"contourcarpet\"}], \"heatmap\": [{\"colorbar\": {\"outlinewidth\": 0, \"ticks\": \"\"}, \"colorscale\": [[0.0, \"#0d0887\"], [0.1111111111111111, \"#46039f\"], [0.2222222222222222, \"#7201a8\"], [0.3333333333333333, \"#9c179e\"], [0.4444444444444444, \"#bd3786\"], [0.5555555555555556, \"#d8576b\"], [0.6666666666666666, \"#ed7953\"], [0.7777777777777778, \"#fb9f3a\"], [0.8888888888888888, \"#fdca26\"], [1.0, \"#f0f921\"]], \"type\": \"heatmap\"}], \"heatmapgl\": [{\"colorbar\": {\"outlinewidth\": 0, \"ticks\": \"\"}, \"colorscale\": [[0.0, \"#0d0887\"], [0.1111111111111111, \"#46039f\"], [0.2222222222222222, \"#7201a8\"], [0.3333333333333333, \"#9c179e\"], [0.4444444444444444, \"#bd3786\"], [0.5555555555555556, \"#d8576b\"], [0.6666666666666666, \"#ed7953\"], [0.7777777777777778, \"#fb9f3a\"], [0.8888888888888888, \"#fdca26\"], [1.0, \"#f0f921\"]], \"type\": \"heatmapgl\"}], \"histogram\": [{\"marker\": {\"colorbar\": {\"outlinewidth\": 0, \"ticks\": \"\"}}, \"type\": \"histogram\"}], \"histogram2d\": [{\"colorbar\": {\"outlinewidth\": 0, \"ticks\": \"\"}, \"colorscale\": [[0.0, \"#0d0887\"], [0.1111111111111111, \"#46039f\"], [0.2222222222222222, \"#7201a8\"], [0.3333333333333333, \"#9c179e\"], [0.4444444444444444, \"#bd3786\"], [0.5555555555555556, \"#d8576b\"], [0.6666666666666666, \"#ed7953\"], [0.7777777777777778, \"#fb9f3a\"], [0.8888888888888888, \"#fdca26\"], [1.0, \"#f0f921\"]], \"type\": \"histogram2d\"}], \"histogram2dcontour\": [{\"colorbar\": {\"outlinewidth\": 0, \"ticks\": \"\"}, \"colorscale\": [[0.0, \"#0d0887\"], [0.1111111111111111, \"#46039f\"], [0.2222222222222222, \"#7201a8\"], [0.3333333333333333, \"#9c179e\"], [0.4444444444444444, \"#bd3786\"], [0.5555555555555556, \"#d8576b\"], [0.6666666666666666, \"#ed7953\"], [0.7777777777777778, \"#fb9f3a\"], [0.8888888888888888, \"#fdca26\"], [1.0, \"#f0f921\"]], \"type\": \"histogram2dcontour\"}], \"mesh3d\": [{\"colorbar\": {\"outlinewidth\": 0, \"ticks\": \"\"}, \"type\": \"mesh3d\"}], \"parcoords\": [{\"line\": {\"colorbar\": {\"outlinewidth\": 0, \"ticks\": \"\"}}, \"type\": \"parcoords\"}], \"pie\": [{\"automargin\": true, \"type\": \"pie\"}], \"scatter\": [{\"marker\": {\"colorbar\": {\"outlinewidth\": 0, \"ticks\": \"\"}}, \"type\": \"scatter\"}], \"scatter3d\": [{\"line\": {\"colorbar\": {\"outlinewidth\": 0, \"ticks\": \"\"}}, \"marker\": {\"colorbar\": {\"outlinewidth\": 0, \"ticks\": \"\"}}, \"type\": \"scatter3d\"}], \"scattercarpet\": [{\"marker\": {\"colorbar\": {\"outlinewidth\": 0, \"ticks\": \"\"}}, \"type\": \"scattercarpet\"}], \"scattergeo\": [{\"marker\": {\"colorbar\": {\"outlinewidth\": 0, \"ticks\": \"\"}}, \"type\": \"scattergeo\"}], \"scattergl\": [{\"marker\": {\"colorbar\": {\"outlinewidth\": 0, \"ticks\": \"\"}}, \"type\": \"scattergl\"}], \"scattermapbox\": [{\"marker\": {\"colorbar\": {\"outlinewidth\": 0, \"ticks\": \"\"}}, \"type\": \"scattermapbox\"}], \"scatterpolar\": [{\"marker\": {\"colorbar\": {\"outlinewidth\": 0, \"ticks\": \"\"}}, \"type\": \"scatterpolar\"}], \"scatterpolargl\": [{\"marker\": {\"colorbar\": {\"outlinewidth\": 0, \"ticks\": \"\"}}, \"type\": \"scatterpolargl\"}], \"scatterternary\": [{\"marker\": {\"colorbar\": {\"outlinewidth\": 0, \"ticks\": \"\"}}, \"type\": \"scatterternary\"}], \"surface\": [{\"colorbar\": {\"outlinewidth\": 0, \"ticks\": \"\"}, \"colorscale\": [[0.0, \"#0d0887\"], [0.1111111111111111, \"#46039f\"], [0.2222222222222222, \"#7201a8\"], [0.3333333333333333, \"#9c179e\"], [0.4444444444444444, \"#bd3786\"], [0.5555555555555556, \"#d8576b\"], [0.6666666666666666, \"#ed7953\"], [0.7777777777777778, \"#fb9f3a\"], [0.8888888888888888, \"#fdca26\"], [1.0, \"#f0f921\"]], \"type\": \"surface\"}], \"table\": [{\"cells\": {\"fill\": {\"color\": \"#EBF0F8\"}, \"line\": {\"color\": \"white\"}}, \"header\": {\"fill\": {\"color\": \"#C8D4E3\"}, \"line\": {\"color\": \"white\"}}, \"type\": \"table\"}]}, \"layout\": {\"annotationdefaults\": {\"arrowcolor\": \"#2a3f5f\", \"arrowhead\": 0, \"arrowwidth\": 1}, \"coloraxis\": {\"colorbar\": {\"outlinewidth\": 0, \"ticks\": \"\"}}, \"colorscale\": {\"diverging\": [[0, \"#8e0152\"], [0.1, \"#c51b7d\"], [0.2, \"#de77ae\"], [0.3, \"#f1b6da\"], [0.4, \"#fde0ef\"], [0.5, \"#f7f7f7\"], [0.6, \"#e6f5d0\"], [0.7, \"#b8e186\"], [0.8, \"#7fbc41\"], [0.9, \"#4d9221\"], [1, \"#276419\"]], \"sequential\": [[0.0, \"#0d0887\"], [0.1111111111111111, \"#46039f\"], [0.2222222222222222, \"#7201a8\"], [0.3333333333333333, \"#9c179e\"], [0.4444444444444444, \"#bd3786\"], [0.5555555555555556, \"#d8576b\"], [0.6666666666666666, \"#ed7953\"], [0.7777777777777778, \"#fb9f3a\"], [0.8888888888888888, \"#fdca26\"], [1.0, \"#f0f921\"]], \"sequentialminus\": [[0.0, \"#0d0887\"], [0.1111111111111111, \"#46039f\"], [0.2222222222222222, \"#7201a8\"], [0.3333333333333333, \"#9c179e\"], [0.4444444444444444, \"#bd3786\"], [0.5555555555555556, \"#d8576b\"], [0.6666666666666666, \"#ed7953\"], [0.7777777777777778, \"#fb9f3a\"], [0.8888888888888888, \"#fdca26\"], [1.0, \"#f0f921\"]]}, \"colorway\": [\"#636efa\", \"#EF553B\", \"#00cc96\", \"#ab63fa\", \"#FFA15A\", \"#19d3f3\", \"#FF6692\", \"#B6E880\", \"#FF97FF\", \"#FECB52\"], \"font\": {\"color\": \"#2a3f5f\"}, \"geo\": {\"bgcolor\": \"white\", \"lakecolor\": \"white\", \"landcolor\": \"#E5ECF6\", \"showlakes\": true, \"showland\": true, \"subunitcolor\": \"white\"}, \"hoverlabel\": {\"align\": \"left\"}, \"hovermode\": \"closest\", \"mapbox\": {\"style\": \"light\"}, \"paper_bgcolor\": \"white\", \"plot_bgcolor\": \"#E5ECF6\", \"polar\": {\"angularaxis\": {\"gridcolor\": \"white\", \"linecolor\": \"white\", \"ticks\": \"\"}, \"bgcolor\": \"#E5ECF6\", \"radialaxis\": {\"gridcolor\": \"white\", \"linecolor\": \"white\", \"ticks\": \"\"}}, \"scene\": {\"xaxis\": {\"backgroundcolor\": \"#E5ECF6\", \"gridcolor\": \"white\", \"gridwidth\": 2, \"linecolor\": \"white\", \"showbackground\": true, \"ticks\": \"\", \"zerolinecolor\": \"white\"}, \"yaxis\": {\"backgroundcolor\": \"#E5ECF6\", \"gridcolor\": \"white\", \"gridwidth\": 2, \"linecolor\": \"white\", \"showbackground\": true, \"ticks\": \"\", \"zerolinecolor\": \"white\"}, \"zaxis\": {\"backgroundcolor\": \"#E5ECF6\", \"gridcolor\": \"white\", \"gridwidth\": 2, \"linecolor\": \"white\", \"showbackground\": true, \"ticks\": \"\", \"zerolinecolor\": \"white\"}}, \"shapedefaults\": {\"line\": {\"color\": \"#2a3f5f\"}}, \"ternary\": {\"aaxis\": {\"gridcolor\": \"white\", \"linecolor\": \"white\", \"ticks\": \"\"}, \"baxis\": {\"gridcolor\": \"white\", \"linecolor\": \"white\", \"ticks\": \"\"}, \"bgcolor\": \"#E5ECF6\", \"caxis\": {\"gridcolor\": \"white\", \"linecolor\": \"white\", \"ticks\": \"\"}}, \"title\": {\"x\": 0.05}, \"xaxis\": {\"automargin\": true, \"gridcolor\": \"white\", \"linecolor\": \"white\", \"ticks\": \"\", \"title\": {\"standoff\": 15}, \"zerolinecolor\": \"white\", \"zerolinewidth\": 2}, \"yaxis\": {\"automargin\": true, \"gridcolor\": \"white\", \"linecolor\": \"white\", \"ticks\": \"\", \"title\": {\"standoff\": 15}, \"zerolinecolor\": \"white\", \"zerolinewidth\": 2}}}, \"title\": {\"font\": {\"color\": \"rgb(1,21,51)\", \"size\": 30}}, \"width\": 500, \"xaxis\": {\"range\": [-5.5, 3.5], \"showgrid\": true, \"title\": {\"font\": {\"color\": \"rgb(1,21,51)\", \"family\": \"latex\", \"size\": 30}, \"text\": \"$\\\\large{x}$\"}}, \"yaxis\": {\"range\": [-6.5, 4.5], \"showgrid\": true, \"title\": {\"font\": {\"color\": \"rgb(1,21,51)\", \"family\": \"latex\", \"size\": 30}, \"text\": \"$\\\\large{y}$\"}}},\n",
              "                        {\"responsive\": true}\n",
              "                    ).then(function(){\n",
              "                            \n",
              "var gd = document.getElementById('20c1d0df-5ba9-40d3-aa05-b0da22f14fe5');\n",
              "var x = new MutationObserver(function (mutations, observer) {{\n",
              "        var display = window.getComputedStyle(gd).display;\n",
              "        if (!display || display === 'none') {{\n",
              "            console.log([gd, 'removed!']);\n",
              "            Plotly.purge(gd);\n",
              "            observer.disconnect();\n",
              "        }}\n",
              "}});\n",
              "\n",
              "// Listen for the removal of the full notebook cells\n",
              "var notebookContainer = gd.closest('#notebook-container');\n",
              "if (notebookContainer) {{\n",
              "    x.observe(notebookContainer, {childList: true});\n",
              "}}\n",
              "\n",
              "// Listen for the clearing of the current output cell\n",
              "var outputEl = gd.closest('.output');\n",
              "if (outputEl) {{\n",
              "    x.observe(outputEl, {childList: true});\n",
              "}}\n",
              "\n",
              "                        })\n",
              "                };\n",
              "                \n",
              "            </script>\n",
              "        </div>\n",
              "</body>\n",
              "</html>"
            ]
          },
          "metadata": {
            "tags": []
          }
        }
      ]
    },
    {
      "cell_type": "markdown",
      "metadata": {
        "id": "eEeD1U0e09F8"
      },
      "source": [
        "#**Propiedades adición de vectores**\n",
        "\n",
        "Sean los vectores ${\\displaystyle A,B,C\\in V_n}$,  se cumplen las siguientes propiedades:\n",
        "\n",
        "|            PROPIEDAD           |       EXPLICACIÓN                      |\n",
        "|:------------------------------:|:--------------------------------------:|\n",
        "| Clausurativa                   |$$A + B \\in V_n$$|\n",
        "| Conmutativa                     |   $$A + B = B + A$$                      |\n",
        "| Asociativa                      |      $$(A +B) + C = A + ( B+C)$$         | \n",
        "| Existencia de elemento neutro   |             $$A + 0 = A$$                           |\n",
        "| Existencia de inverso aditivo  |     $$A + (-A) = 0 $$                                  |\n",
        "\n"
      ]
    },
    {
      "cell_type": "markdown",
      "metadata": {
        "id": "LTiEZ_x_L5Eb"
      },
      "source": [
        "#**Verificación de las propiedades de la adición, analíticamente y gráficamente**"
      ]
    },
    {
      "cell_type": "markdown",
      "metadata": {
        "id": "6a3_8QRuJS3c"
      },
      "source": [
        "## **Propiedad conmutativa** \n",
        "\n",
        "<h4>$$A + B = B + A$$  \n",
        "\n",
        "#### **Verificación analíticamente** "
      ]
    },
    {
      "cell_type": "code",
      "metadata": {
        "colab": {
          "base_uri": "https://localhost:8080/",
          "height": 57
        },
        "id": "lF6swOUUILva",
        "outputId": "b049cfa4-b480-4237-cfc3-284121276782"
      },
      "source": [
        "A = randMatrix(2,1,min=-5, max=5)\n",
        "A"
      ],
      "execution_count": null,
      "outputs": [
        {
          "output_type": "execute_result",
          "data": {
            "text/latex": "$\\displaystyle \\left[\\begin{matrix}3\\\\0\\end{matrix}\\right]$",
            "text/plain": [
              "Matrix([\n",
              "[3],\n",
              "[0]])"
            ]
          },
          "metadata": {},
          "execution_count": 59
        }
      ]
    },
    {
      "cell_type": "code",
      "metadata": {
        "colab": {
          "base_uri": "https://localhost:8080/",
          "height": 57
        },
        "id": "ulmLkuHZXhtH",
        "outputId": "b1cde51f-926c-4e98-8053-c60d98d7487d"
      },
      "source": [
        "B = randMatrix(2,1,min=-5, max=5)\n",
        "B"
      ],
      "execution_count": null,
      "outputs": [
        {
          "output_type": "execute_result",
          "data": {
            "text/latex": "$\\displaystyle \\left[\\begin{matrix}-4\\\\-2\\end{matrix}\\right]$",
            "text/plain": [
              "Matrix([\n",
              "[-4],\n",
              "[-2]])"
            ]
          },
          "metadata": {},
          "execution_count": 60
        }
      ]
    },
    {
      "cell_type": "code",
      "metadata": {
        "colab": {
          "base_uri": "https://localhost:8080/",
          "height": 57
        },
        "id": "0fDkb6kwW7DC",
        "outputId": "78549630-5053-44bc-fdb3-98e5bea923e4"
      },
      "source": [
        "A + B"
      ],
      "execution_count": null,
      "outputs": [
        {
          "output_type": "execute_result",
          "data": {
            "text/latex": "$\\displaystyle \\left[\\begin{matrix}-1\\\\-2\\end{matrix}\\right]$",
            "text/plain": [
              "Matrix([\n",
              "[-1],\n",
              "[-2]])"
            ]
          },
          "metadata": {},
          "execution_count": 61
        }
      ]
    },
    {
      "cell_type": "code",
      "metadata": {
        "colab": {
          "base_uri": "https://localhost:8080/",
          "height": 57
        },
        "id": "DPwfpJc3Xo1F",
        "outputId": "6fa9c412-b192-4725-8ebe-db84cd32d574"
      },
      "source": [
        "B + A"
      ],
      "execution_count": null,
      "outputs": [
        {
          "output_type": "execute_result",
          "data": {
            "text/latex": "$\\displaystyle \\left[\\begin{matrix}-1\\\\-2\\end{matrix}\\right]$",
            "text/plain": [
              "Matrix([\n",
              "[-1],\n",
              "[-2]])"
            ]
          },
          "metadata": {},
          "execution_count": 62
        }
      ]
    },
    {
      "cell_type": "markdown",
      "metadata": {
        "id": "QsqoOUDkpxII"
      },
      "source": [
        "#### **Verificación graficamente** "
      ]
    },
    {
      "cell_type": "code",
      "metadata": {
        "colab": {
          "base_uri": "https://localhost:8080/",
          "height": 993
        },
        "id": "eApX47ahVHsS",
        "outputId": "4e5a48ac-6d31-45f3-f0f5-ecf0555219a1"
      },
      "source": [
        "plotvectors2D(A,B,A+B,[(3,0),B]),plotvectors2D(A,B,A+B,[(-4,-2),A])"
      ],
      "execution_count": null,
      "outputs": [
        {
          "output_type": "display_data",
          "data": {
            "text/html": [
              "<html>\n",
              "<head><meta charset=\"utf-8\" /></head>\n",
              "<body>\n",
              "    <div>            <script src=\"https://cdnjs.cloudflare.com/ajax/libs/mathjax/2.7.5/MathJax.js?config=TeX-AMS-MML_SVG\"></script><script type=\"text/javascript\">if (window.MathJax) {MathJax.Hub.Config({SVG: {font: \"STIX-Web\"}});}</script>                <script type=\"text/javascript\">window.PlotlyConfig = {MathJaxConfig: 'local'};</script>\n",
              "        <script src=\"https://cdn.plot.ly/plotly-2.2.0.min.js\"></script>                <div id=\"dd97d54b-f94a-421c-87e0-65bca51a1694\" class=\"plotly-graph-div\" style=\"height:480px; width:500px;\"></div>            <script type=\"text/javascript\">                                    window.PLOTLYENV=window.PLOTLYENV || {};                                    if (document.getElementById(\"dd97d54b-f94a-421c-87e0-65bca51a1694\")) {                    Plotly.newPlot(                        \"dd97d54b-f94a-421c-87e0-65bca51a1694\",                        [{\"marker\":{\"color\":\"rgb(178,15,44)\",\"size\":8},\"mode\":\"lines\",\"name\":\"vector 1\",\"showlegend\":true,\"type\":\"scatter\",\"x\":[0,3.0],\"y\":[0,0.0]},{\"marker\":{\"color\":\"rgb(111,38,247)\",\"size\":8},\"mode\":\"lines\",\"name\":\"vector 2\",\"showlegend\":true,\"type\":\"scatter\",\"x\":[0,-4.0],\"y\":[0,-2.0]},{\"marker\":{\"color\":\"rgb(133,25,245)\",\"size\":8},\"mode\":\"lines\",\"name\":\"vector 3\",\"showlegend\":true,\"type\":\"scatter\",\"x\":[0,-1.0],\"y\":[0,-2.0]},{\"marker\":{\"color\":\"rgb(82,86,184)\",\"size\":8},\"mode\":\"lines\",\"name\":\"vector 4\",\"showlegend\":true,\"type\":\"scatter\",\"x\":[3,-1.0],\"y\":[0,-2.0]},{\"marker\":{\"color\":\"#2a3f5f\",\"size\":9},\"mode\":\"markers\",\"name\":\"origen\",\"opacity\":1,\"showlegend\":true,\"type\":\"scatter\",\"x\":[0],\"y\":[0]}],                        {\"annotations\":[{\"arrowcolor\":\"rgb(178,15,44)\",\"arrowhead\":2,\"arrowsize\":1.5,\"arrowwidth\":2.3,\"ax\":0.0,\"axref\":\"x\",\"ay\":0.0,\"ayref\":\"y\",\"showarrow\":true,\"x\":3.0,\"xref\":\"x\",\"y\":0.0,\"yref\":\"y\"},{\"arrowcolor\":\"rgb(111,38,247)\",\"arrowhead\":2,\"arrowsize\":1.5,\"arrowwidth\":2.3,\"ax\":0.0,\"axref\":\"x\",\"ay\":0.0,\"ayref\":\"y\",\"showarrow\":true,\"x\":-4.0,\"xref\":\"x\",\"y\":-2.0,\"yref\":\"y\"},{\"arrowcolor\":\"rgb(133,25,245)\",\"arrowhead\":2,\"arrowsize\":1.5,\"arrowwidth\":2.3,\"ax\":0.0,\"axref\":\"x\",\"ay\":0.0,\"ayref\":\"y\",\"showarrow\":true,\"x\":-1.0,\"xref\":\"x\",\"y\":-2.0,\"yref\":\"y\"},{\"arrowcolor\":\"rgb(82,86,184)\",\"arrowhead\":2,\"arrowsize\":1.5,\"arrowwidth\":2.3,\"ax\":3,\"axref\":\"x\",\"ay\":0,\"ayref\":\"y\",\"showarrow\":true,\"x\":-1.0,\"xref\":\"x\",\"y\":-2.0,\"yref\":\"y\"},{\"arrowcolor\":\"#2a3f5f\",\"arrowhead\":2,\"arrowwidth\":1.5,\"ax\":-4.54,\"axref\":\"x\",\"ay\":0,\"ayref\":\"y\",\"x\":3.5,\"xref\":\"x\",\"y\":0,\"yref\":\"y\"},{\"arrowcolor\":\"#2a3f5f\",\"arrowhead\":2,\"arrowwidth\":1.5,\"ax\":0,\"axref\":\"x\",\"ay\":-2.54,\"ayref\":\"y\",\"x\":0,\"xref\":\"x\",\"y\":0.5,\"yref\":\"y\"}],\"font\":{\"color\":\"black\",\"family\":\"latex\",\"size\":20},\"height\":480,\"legend\":{\"itemdoubleclick\":\"toggle\",\"orientation\":\"h\",\"x\":1,\"xanchor\":\"right\",\"y\":1.02,\"yanchor\":\"bottom\"},\"showlegend\":true,\"template\":{\"data\":{\"bar\":[{\"error_x\":{\"color\":\"#2a3f5f\"},\"error_y\":{\"color\":\"#2a3f5f\"},\"marker\":{\"line\":{\"color\":\"#E5ECF6\",\"width\":0.5},\"pattern\":{\"fillmode\":\"overlay\",\"size\":10,\"solidity\":0.2}},\"type\":\"bar\"}],\"barpolar\":[{\"marker\":{\"line\":{\"color\":\"#E5ECF6\",\"width\":0.5},\"pattern\":{\"fillmode\":\"overlay\",\"size\":10,\"solidity\":0.2}},\"type\":\"barpolar\"}],\"carpet\":[{\"aaxis\":{\"endlinecolor\":\"#2a3f5f\",\"gridcolor\":\"white\",\"linecolor\":\"white\",\"minorgridcolor\":\"white\",\"startlinecolor\":\"#2a3f5f\"},\"baxis\":{\"endlinecolor\":\"#2a3f5f\",\"gridcolor\":\"white\",\"linecolor\":\"white\",\"minorgridcolor\":\"white\",\"startlinecolor\":\"#2a3f5f\"},\"type\":\"carpet\"}],\"choropleth\":[{\"colorbar\":{\"outlinewidth\":0,\"ticks\":\"\"},\"type\":\"choropleth\"}],\"contour\":[{\"colorbar\":{\"outlinewidth\":0,\"ticks\":\"\"},\"colorscale\":[[0.0,\"#0d0887\"],[0.1111111111111111,\"#46039f\"],[0.2222222222222222,\"#7201a8\"],[0.3333333333333333,\"#9c179e\"],[0.4444444444444444,\"#bd3786\"],[0.5555555555555556,\"#d8576b\"],[0.6666666666666666,\"#ed7953\"],[0.7777777777777778,\"#fb9f3a\"],[0.8888888888888888,\"#fdca26\"],[1.0,\"#f0f921\"]],\"type\":\"contour\"}],\"contourcarpet\":[{\"colorbar\":{\"outlinewidth\":0,\"ticks\":\"\"},\"type\":\"contourcarpet\"}],\"heatmap\":[{\"colorbar\":{\"outlinewidth\":0,\"ticks\":\"\"},\"colorscale\":[[0.0,\"#0d0887\"],[0.1111111111111111,\"#46039f\"],[0.2222222222222222,\"#7201a8\"],[0.3333333333333333,\"#9c179e\"],[0.4444444444444444,\"#bd3786\"],[0.5555555555555556,\"#d8576b\"],[0.6666666666666666,\"#ed7953\"],[0.7777777777777778,\"#fb9f3a\"],[0.8888888888888888,\"#fdca26\"],[1.0,\"#f0f921\"]],\"type\":\"heatmap\"}],\"heatmapgl\":[{\"colorbar\":{\"outlinewidth\":0,\"ticks\":\"\"},\"colorscale\":[[0.0,\"#0d0887\"],[0.1111111111111111,\"#46039f\"],[0.2222222222222222,\"#7201a8\"],[0.3333333333333333,\"#9c179e\"],[0.4444444444444444,\"#bd3786\"],[0.5555555555555556,\"#d8576b\"],[0.6666666666666666,\"#ed7953\"],[0.7777777777777778,\"#fb9f3a\"],[0.8888888888888888,\"#fdca26\"],[1.0,\"#f0f921\"]],\"type\":\"heatmapgl\"}],\"histogram\":[{\"marker\":{\"pattern\":{\"fillmode\":\"overlay\",\"size\":10,\"solidity\":0.2}},\"type\":\"histogram\"}],\"histogram2d\":[{\"colorbar\":{\"outlinewidth\":0,\"ticks\":\"\"},\"colorscale\":[[0.0,\"#0d0887\"],[0.1111111111111111,\"#46039f\"],[0.2222222222222222,\"#7201a8\"],[0.3333333333333333,\"#9c179e\"],[0.4444444444444444,\"#bd3786\"],[0.5555555555555556,\"#d8576b\"],[0.6666666666666666,\"#ed7953\"],[0.7777777777777778,\"#fb9f3a\"],[0.8888888888888888,\"#fdca26\"],[1.0,\"#f0f921\"]],\"type\":\"histogram2d\"}],\"histogram2dcontour\":[{\"colorbar\":{\"outlinewidth\":0,\"ticks\":\"\"},\"colorscale\":[[0.0,\"#0d0887\"],[0.1111111111111111,\"#46039f\"],[0.2222222222222222,\"#7201a8\"],[0.3333333333333333,\"#9c179e\"],[0.4444444444444444,\"#bd3786\"],[0.5555555555555556,\"#d8576b\"],[0.6666666666666666,\"#ed7953\"],[0.7777777777777778,\"#fb9f3a\"],[0.8888888888888888,\"#fdca26\"],[1.0,\"#f0f921\"]],\"type\":\"histogram2dcontour\"}],\"mesh3d\":[{\"colorbar\":{\"outlinewidth\":0,\"ticks\":\"\"},\"type\":\"mesh3d\"}],\"parcoords\":[{\"line\":{\"colorbar\":{\"outlinewidth\":0,\"ticks\":\"\"}},\"type\":\"parcoords\"}],\"pie\":[{\"automargin\":true,\"type\":\"pie\"}],\"scatter\":[{\"marker\":{\"colorbar\":{\"outlinewidth\":0,\"ticks\":\"\"}},\"type\":\"scatter\"}],\"scatter3d\":[{\"line\":{\"colorbar\":{\"outlinewidth\":0,\"ticks\":\"\"}},\"marker\":{\"colorbar\":{\"outlinewidth\":0,\"ticks\":\"\"}},\"type\":\"scatter3d\"}],\"scattercarpet\":[{\"marker\":{\"colorbar\":{\"outlinewidth\":0,\"ticks\":\"\"}},\"type\":\"scattercarpet\"}],\"scattergeo\":[{\"marker\":{\"colorbar\":{\"outlinewidth\":0,\"ticks\":\"\"}},\"type\":\"scattergeo\"}],\"scattergl\":[{\"marker\":{\"colorbar\":{\"outlinewidth\":0,\"ticks\":\"\"}},\"type\":\"scattergl\"}],\"scattermapbox\":[{\"marker\":{\"colorbar\":{\"outlinewidth\":0,\"ticks\":\"\"}},\"type\":\"scattermapbox\"}],\"scatterpolar\":[{\"marker\":{\"colorbar\":{\"outlinewidth\":0,\"ticks\":\"\"}},\"type\":\"scatterpolar\"}],\"scatterpolargl\":[{\"marker\":{\"colorbar\":{\"outlinewidth\":0,\"ticks\":\"\"}},\"type\":\"scatterpolargl\"}],\"scatterternary\":[{\"marker\":{\"colorbar\":{\"outlinewidth\":0,\"ticks\":\"\"}},\"type\":\"scatterternary\"}],\"surface\":[{\"colorbar\":{\"outlinewidth\":0,\"ticks\":\"\"},\"colorscale\":[[0.0,\"#0d0887\"],[0.1111111111111111,\"#46039f\"],[0.2222222222222222,\"#7201a8\"],[0.3333333333333333,\"#9c179e\"],[0.4444444444444444,\"#bd3786\"],[0.5555555555555556,\"#d8576b\"],[0.6666666666666666,\"#ed7953\"],[0.7777777777777778,\"#fb9f3a\"],[0.8888888888888888,\"#fdca26\"],[1.0,\"#f0f921\"]],\"type\":\"surface\"}],\"table\":[{\"cells\":{\"fill\":{\"color\":\"#EBF0F8\"},\"line\":{\"color\":\"white\"}},\"header\":{\"fill\":{\"color\":\"#C8D4E3\"},\"line\":{\"color\":\"white\"}},\"type\":\"table\"}]},\"layout\":{\"annotationdefaults\":{\"arrowcolor\":\"#2a3f5f\",\"arrowhead\":0,\"arrowwidth\":1},\"autotypenumbers\":\"strict\",\"coloraxis\":{\"colorbar\":{\"outlinewidth\":0,\"ticks\":\"\"}},\"colorscale\":{\"diverging\":[[0,\"#8e0152\"],[0.1,\"#c51b7d\"],[0.2,\"#de77ae\"],[0.3,\"#f1b6da\"],[0.4,\"#fde0ef\"],[0.5,\"#f7f7f7\"],[0.6,\"#e6f5d0\"],[0.7,\"#b8e186\"],[0.8,\"#7fbc41\"],[0.9,\"#4d9221\"],[1,\"#276419\"]],\"sequential\":[[0.0,\"#0d0887\"],[0.1111111111111111,\"#46039f\"],[0.2222222222222222,\"#7201a8\"],[0.3333333333333333,\"#9c179e\"],[0.4444444444444444,\"#bd3786\"],[0.5555555555555556,\"#d8576b\"],[0.6666666666666666,\"#ed7953\"],[0.7777777777777778,\"#fb9f3a\"],[0.8888888888888888,\"#fdca26\"],[1.0,\"#f0f921\"]],\"sequentialminus\":[[0.0,\"#0d0887\"],[0.1111111111111111,\"#46039f\"],[0.2222222222222222,\"#7201a8\"],[0.3333333333333333,\"#9c179e\"],[0.4444444444444444,\"#bd3786\"],[0.5555555555555556,\"#d8576b\"],[0.6666666666666666,\"#ed7953\"],[0.7777777777777778,\"#fb9f3a\"],[0.8888888888888888,\"#fdca26\"],[1.0,\"#f0f921\"]]},\"colorway\":[\"#636efa\",\"#EF553B\",\"#00cc96\",\"#ab63fa\",\"#FFA15A\",\"#19d3f3\",\"#FF6692\",\"#B6E880\",\"#FF97FF\",\"#FECB52\"],\"font\":{\"color\":\"#2a3f5f\"},\"geo\":{\"bgcolor\":\"white\",\"lakecolor\":\"white\",\"landcolor\":\"#E5ECF6\",\"showlakes\":true,\"showland\":true,\"subunitcolor\":\"white\"},\"hoverlabel\":{\"align\":\"left\"},\"hovermode\":\"closest\",\"mapbox\":{\"style\":\"light\"},\"paper_bgcolor\":\"white\",\"plot_bgcolor\":\"#E5ECF6\",\"polar\":{\"angularaxis\":{\"gridcolor\":\"white\",\"linecolor\":\"white\",\"ticks\":\"\"},\"bgcolor\":\"#E5ECF6\",\"radialaxis\":{\"gridcolor\":\"white\",\"linecolor\":\"white\",\"ticks\":\"\"}},\"scene\":{\"xaxis\":{\"backgroundcolor\":\"#E5ECF6\",\"gridcolor\":\"white\",\"gridwidth\":2,\"linecolor\":\"white\",\"showbackground\":true,\"ticks\":\"\",\"zerolinecolor\":\"white\"},\"yaxis\":{\"backgroundcolor\":\"#E5ECF6\",\"gridcolor\":\"white\",\"gridwidth\":2,\"linecolor\":\"white\",\"showbackground\":true,\"ticks\":\"\",\"zerolinecolor\":\"white\"},\"zaxis\":{\"backgroundcolor\":\"#E5ECF6\",\"gridcolor\":\"white\",\"gridwidth\":2,\"linecolor\":\"white\",\"showbackground\":true,\"ticks\":\"\",\"zerolinecolor\":\"white\"}},\"shapedefaults\":{\"line\":{\"color\":\"#2a3f5f\"}},\"ternary\":{\"aaxis\":{\"gridcolor\":\"white\",\"linecolor\":\"white\",\"ticks\":\"\"},\"baxis\":{\"gridcolor\":\"white\",\"linecolor\":\"white\",\"ticks\":\"\"},\"bgcolor\":\"#E5ECF6\",\"caxis\":{\"gridcolor\":\"white\",\"linecolor\":\"white\",\"ticks\":\"\"}},\"title\":{\"x\":0.05},\"xaxis\":{\"automargin\":true,\"gridcolor\":\"white\",\"linecolor\":\"white\",\"ticks\":\"\",\"title\":{\"standoff\":15},\"zerolinecolor\":\"white\",\"zerolinewidth\":2},\"yaxis\":{\"automargin\":true,\"gridcolor\":\"white\",\"linecolor\":\"white\",\"ticks\":\"\",\"title\":{\"standoff\":15},\"zerolinecolor\":\"white\",\"zerolinewidth\":2}}},\"title\":{\"font\":{\"color\":\"rgb(1,21,51)\",\"size\":30}},\"width\":500,\"xaxis\":{\"range\":[-4.5,3.5],\"showgrid\":true,\"title\":{\"font\":{\"color\":\"rgb(1,21,51)\",\"family\":\"latex\",\"size\":30},\"text\":\"$\\\\large{x}$\"}},\"yaxis\":{\"range\":[-2.5,0.5],\"showgrid\":true,\"title\":{\"font\":{\"color\":\"rgb(1,21,51)\",\"family\":\"latex\",\"size\":30},\"text\":\"$\\\\large{y}$\"}}},                        {\"responsive\": true}                    ).then(function(){\n",
              "                            \n",
              "var gd = document.getElementById('dd97d54b-f94a-421c-87e0-65bca51a1694');\n",
              "var x = new MutationObserver(function (mutations, observer) {{\n",
              "        var display = window.getComputedStyle(gd).display;\n",
              "        if (!display || display === 'none') {{\n",
              "            console.log([gd, 'removed!']);\n",
              "            Plotly.purge(gd);\n",
              "            observer.disconnect();\n",
              "        }}\n",
              "}});\n",
              "\n",
              "// Listen for the removal of the full notebook cells\n",
              "var notebookContainer = gd.closest('#notebook-container');\n",
              "if (notebookContainer) {{\n",
              "    x.observe(notebookContainer, {childList: true});\n",
              "}}\n",
              "\n",
              "// Listen for the clearing of the current output cell\n",
              "var outputEl = gd.closest('.output');\n",
              "if (outputEl) {{\n",
              "    x.observe(outputEl, {childList: true});\n",
              "}}\n",
              "\n",
              "                        })                };                            </script>        </div>\n",
              "</body>\n",
              "</html>"
            ]
          },
          "metadata": {}
        },
        {
          "output_type": "display_data",
          "data": {
            "text/html": [
              "<html>\n",
              "<head><meta charset=\"utf-8\" /></head>\n",
              "<body>\n",
              "    <div>            <script src=\"https://cdnjs.cloudflare.com/ajax/libs/mathjax/2.7.5/MathJax.js?config=TeX-AMS-MML_SVG\"></script><script type=\"text/javascript\">if (window.MathJax) {MathJax.Hub.Config({SVG: {font: \"STIX-Web\"}});}</script>                <script type=\"text/javascript\">window.PlotlyConfig = {MathJaxConfig: 'local'};</script>\n",
              "        <script src=\"https://cdn.plot.ly/plotly-2.2.0.min.js\"></script>                <div id=\"86946627-9a00-4ab8-90ab-d9868cea6cec\" class=\"plotly-graph-div\" style=\"height:480px; width:500px;\"></div>            <script type=\"text/javascript\">                                    window.PLOTLYENV=window.PLOTLYENV || {};                                    if (document.getElementById(\"86946627-9a00-4ab8-90ab-d9868cea6cec\")) {                    Plotly.newPlot(                        \"86946627-9a00-4ab8-90ab-d9868cea6cec\",                        [{\"marker\":{\"color\":\"rgb(72,87,68)\",\"size\":8},\"mode\":\"lines\",\"name\":\"vector 1\",\"showlegend\":true,\"type\":\"scatter\",\"x\":[0,3.0],\"y\":[0,0.0]},{\"marker\":{\"color\":\"rgb(26,180,6)\",\"size\":8},\"mode\":\"lines\",\"name\":\"vector 2\",\"showlegend\":true,\"type\":\"scatter\",\"x\":[0,-4.0],\"y\":[0,-2.0]},{\"marker\":{\"color\":\"rgb(170,54,198)\",\"size\":8},\"mode\":\"lines\",\"name\":\"vector 3\",\"showlegend\":true,\"type\":\"scatter\",\"x\":[0,-1.0],\"y\":[0,-2.0]},{\"marker\":{\"color\":\"rgb(113,107,105)\",\"size\":8},\"mode\":\"lines\",\"name\":\"vector 4\",\"showlegend\":true,\"type\":\"scatter\",\"x\":[-4,-1.0],\"y\":[-2,-2.0]},{\"marker\":{\"color\":\"#2a3f5f\",\"size\":9},\"mode\":\"markers\",\"name\":\"origen\",\"opacity\":1,\"showlegend\":true,\"type\":\"scatter\",\"x\":[0],\"y\":[0]}],                        {\"annotations\":[{\"arrowcolor\":\"rgb(72,87,68)\",\"arrowhead\":2,\"arrowsize\":1.5,\"arrowwidth\":2.3,\"ax\":0.0,\"axref\":\"x\",\"ay\":0.0,\"ayref\":\"y\",\"showarrow\":true,\"x\":3.0,\"xref\":\"x\",\"y\":0.0,\"yref\":\"y\"},{\"arrowcolor\":\"rgb(26,180,6)\",\"arrowhead\":2,\"arrowsize\":1.5,\"arrowwidth\":2.3,\"ax\":0.0,\"axref\":\"x\",\"ay\":0.0,\"ayref\":\"y\",\"showarrow\":true,\"x\":-4.0,\"xref\":\"x\",\"y\":-2.0,\"yref\":\"y\"},{\"arrowcolor\":\"rgb(170,54,198)\",\"arrowhead\":2,\"arrowsize\":1.5,\"arrowwidth\":2.3,\"ax\":0.0,\"axref\":\"x\",\"ay\":0.0,\"ayref\":\"y\",\"showarrow\":true,\"x\":-1.0,\"xref\":\"x\",\"y\":-2.0,\"yref\":\"y\"},{\"arrowcolor\":\"rgb(113,107,105)\",\"arrowhead\":2,\"arrowsize\":1.5,\"arrowwidth\":2.3,\"ax\":-4,\"axref\":\"x\",\"ay\":-2,\"ayref\":\"y\",\"showarrow\":true,\"x\":-1.0,\"xref\":\"x\",\"y\":-2.0,\"yref\":\"y\"},{\"arrowcolor\":\"#2a3f5f\",\"arrowhead\":2,\"arrowwidth\":1.5,\"ax\":-4.54,\"axref\":\"x\",\"ay\":0,\"ayref\":\"y\",\"x\":3.5,\"xref\":\"x\",\"y\":0,\"yref\":\"y\"},{\"arrowcolor\":\"#2a3f5f\",\"arrowhead\":2,\"arrowwidth\":1.5,\"ax\":0,\"axref\":\"x\",\"ay\":-2.54,\"ayref\":\"y\",\"x\":0,\"xref\":\"x\",\"y\":0.5,\"yref\":\"y\"}],\"font\":{\"color\":\"black\",\"family\":\"latex\",\"size\":20},\"height\":480,\"legend\":{\"itemdoubleclick\":\"toggle\",\"orientation\":\"h\",\"x\":1,\"xanchor\":\"right\",\"y\":1.02,\"yanchor\":\"bottom\"},\"showlegend\":true,\"template\":{\"data\":{\"bar\":[{\"error_x\":{\"color\":\"#2a3f5f\"},\"error_y\":{\"color\":\"#2a3f5f\"},\"marker\":{\"line\":{\"color\":\"#E5ECF6\",\"width\":0.5},\"pattern\":{\"fillmode\":\"overlay\",\"size\":10,\"solidity\":0.2}},\"type\":\"bar\"}],\"barpolar\":[{\"marker\":{\"line\":{\"color\":\"#E5ECF6\",\"width\":0.5},\"pattern\":{\"fillmode\":\"overlay\",\"size\":10,\"solidity\":0.2}},\"type\":\"barpolar\"}],\"carpet\":[{\"aaxis\":{\"endlinecolor\":\"#2a3f5f\",\"gridcolor\":\"white\",\"linecolor\":\"white\",\"minorgridcolor\":\"white\",\"startlinecolor\":\"#2a3f5f\"},\"baxis\":{\"endlinecolor\":\"#2a3f5f\",\"gridcolor\":\"white\",\"linecolor\":\"white\",\"minorgridcolor\":\"white\",\"startlinecolor\":\"#2a3f5f\"},\"type\":\"carpet\"}],\"choropleth\":[{\"colorbar\":{\"outlinewidth\":0,\"ticks\":\"\"},\"type\":\"choropleth\"}],\"contour\":[{\"colorbar\":{\"outlinewidth\":0,\"ticks\":\"\"},\"colorscale\":[[0.0,\"#0d0887\"],[0.1111111111111111,\"#46039f\"],[0.2222222222222222,\"#7201a8\"],[0.3333333333333333,\"#9c179e\"],[0.4444444444444444,\"#bd3786\"],[0.5555555555555556,\"#d8576b\"],[0.6666666666666666,\"#ed7953\"],[0.7777777777777778,\"#fb9f3a\"],[0.8888888888888888,\"#fdca26\"],[1.0,\"#f0f921\"]],\"type\":\"contour\"}],\"contourcarpet\":[{\"colorbar\":{\"outlinewidth\":0,\"ticks\":\"\"},\"type\":\"contourcarpet\"}],\"heatmap\":[{\"colorbar\":{\"outlinewidth\":0,\"ticks\":\"\"},\"colorscale\":[[0.0,\"#0d0887\"],[0.1111111111111111,\"#46039f\"],[0.2222222222222222,\"#7201a8\"],[0.3333333333333333,\"#9c179e\"],[0.4444444444444444,\"#bd3786\"],[0.5555555555555556,\"#d8576b\"],[0.6666666666666666,\"#ed7953\"],[0.7777777777777778,\"#fb9f3a\"],[0.8888888888888888,\"#fdca26\"],[1.0,\"#f0f921\"]],\"type\":\"heatmap\"}],\"heatmapgl\":[{\"colorbar\":{\"outlinewidth\":0,\"ticks\":\"\"},\"colorscale\":[[0.0,\"#0d0887\"],[0.1111111111111111,\"#46039f\"],[0.2222222222222222,\"#7201a8\"],[0.3333333333333333,\"#9c179e\"],[0.4444444444444444,\"#bd3786\"],[0.5555555555555556,\"#d8576b\"],[0.6666666666666666,\"#ed7953\"],[0.7777777777777778,\"#fb9f3a\"],[0.8888888888888888,\"#fdca26\"],[1.0,\"#f0f921\"]],\"type\":\"heatmapgl\"}],\"histogram\":[{\"marker\":{\"pattern\":{\"fillmode\":\"overlay\",\"size\":10,\"solidity\":0.2}},\"type\":\"histogram\"}],\"histogram2d\":[{\"colorbar\":{\"outlinewidth\":0,\"ticks\":\"\"},\"colorscale\":[[0.0,\"#0d0887\"],[0.1111111111111111,\"#46039f\"],[0.2222222222222222,\"#7201a8\"],[0.3333333333333333,\"#9c179e\"],[0.4444444444444444,\"#bd3786\"],[0.5555555555555556,\"#d8576b\"],[0.6666666666666666,\"#ed7953\"],[0.7777777777777778,\"#fb9f3a\"],[0.8888888888888888,\"#fdca26\"],[1.0,\"#f0f921\"]],\"type\":\"histogram2d\"}],\"histogram2dcontour\":[{\"colorbar\":{\"outlinewidth\":0,\"ticks\":\"\"},\"colorscale\":[[0.0,\"#0d0887\"],[0.1111111111111111,\"#46039f\"],[0.2222222222222222,\"#7201a8\"],[0.3333333333333333,\"#9c179e\"],[0.4444444444444444,\"#bd3786\"],[0.5555555555555556,\"#d8576b\"],[0.6666666666666666,\"#ed7953\"],[0.7777777777777778,\"#fb9f3a\"],[0.8888888888888888,\"#fdca26\"],[1.0,\"#f0f921\"]],\"type\":\"histogram2dcontour\"}],\"mesh3d\":[{\"colorbar\":{\"outlinewidth\":0,\"ticks\":\"\"},\"type\":\"mesh3d\"}],\"parcoords\":[{\"line\":{\"colorbar\":{\"outlinewidth\":0,\"ticks\":\"\"}},\"type\":\"parcoords\"}],\"pie\":[{\"automargin\":true,\"type\":\"pie\"}],\"scatter\":[{\"marker\":{\"colorbar\":{\"outlinewidth\":0,\"ticks\":\"\"}},\"type\":\"scatter\"}],\"scatter3d\":[{\"line\":{\"colorbar\":{\"outlinewidth\":0,\"ticks\":\"\"}},\"marker\":{\"colorbar\":{\"outlinewidth\":0,\"ticks\":\"\"}},\"type\":\"scatter3d\"}],\"scattercarpet\":[{\"marker\":{\"colorbar\":{\"outlinewidth\":0,\"ticks\":\"\"}},\"type\":\"scattercarpet\"}],\"scattergeo\":[{\"marker\":{\"colorbar\":{\"outlinewidth\":0,\"ticks\":\"\"}},\"type\":\"scattergeo\"}],\"scattergl\":[{\"marker\":{\"colorbar\":{\"outlinewidth\":0,\"ticks\":\"\"}},\"type\":\"scattergl\"}],\"scattermapbox\":[{\"marker\":{\"colorbar\":{\"outlinewidth\":0,\"ticks\":\"\"}},\"type\":\"scattermapbox\"}],\"scatterpolar\":[{\"marker\":{\"colorbar\":{\"outlinewidth\":0,\"ticks\":\"\"}},\"type\":\"scatterpolar\"}],\"scatterpolargl\":[{\"marker\":{\"colorbar\":{\"outlinewidth\":0,\"ticks\":\"\"}},\"type\":\"scatterpolargl\"}],\"scatterternary\":[{\"marker\":{\"colorbar\":{\"outlinewidth\":0,\"ticks\":\"\"}},\"type\":\"scatterternary\"}],\"surface\":[{\"colorbar\":{\"outlinewidth\":0,\"ticks\":\"\"},\"colorscale\":[[0.0,\"#0d0887\"],[0.1111111111111111,\"#46039f\"],[0.2222222222222222,\"#7201a8\"],[0.3333333333333333,\"#9c179e\"],[0.4444444444444444,\"#bd3786\"],[0.5555555555555556,\"#d8576b\"],[0.6666666666666666,\"#ed7953\"],[0.7777777777777778,\"#fb9f3a\"],[0.8888888888888888,\"#fdca26\"],[1.0,\"#f0f921\"]],\"type\":\"surface\"}],\"table\":[{\"cells\":{\"fill\":{\"color\":\"#EBF0F8\"},\"line\":{\"color\":\"white\"}},\"header\":{\"fill\":{\"color\":\"#C8D4E3\"},\"line\":{\"color\":\"white\"}},\"type\":\"table\"}]},\"layout\":{\"annotationdefaults\":{\"arrowcolor\":\"#2a3f5f\",\"arrowhead\":0,\"arrowwidth\":1},\"autotypenumbers\":\"strict\",\"coloraxis\":{\"colorbar\":{\"outlinewidth\":0,\"ticks\":\"\"}},\"colorscale\":{\"diverging\":[[0,\"#8e0152\"],[0.1,\"#c51b7d\"],[0.2,\"#de77ae\"],[0.3,\"#f1b6da\"],[0.4,\"#fde0ef\"],[0.5,\"#f7f7f7\"],[0.6,\"#e6f5d0\"],[0.7,\"#b8e186\"],[0.8,\"#7fbc41\"],[0.9,\"#4d9221\"],[1,\"#276419\"]],\"sequential\":[[0.0,\"#0d0887\"],[0.1111111111111111,\"#46039f\"],[0.2222222222222222,\"#7201a8\"],[0.3333333333333333,\"#9c179e\"],[0.4444444444444444,\"#bd3786\"],[0.5555555555555556,\"#d8576b\"],[0.6666666666666666,\"#ed7953\"],[0.7777777777777778,\"#fb9f3a\"],[0.8888888888888888,\"#fdca26\"],[1.0,\"#f0f921\"]],\"sequentialminus\":[[0.0,\"#0d0887\"],[0.1111111111111111,\"#46039f\"],[0.2222222222222222,\"#7201a8\"],[0.3333333333333333,\"#9c179e\"],[0.4444444444444444,\"#bd3786\"],[0.5555555555555556,\"#d8576b\"],[0.6666666666666666,\"#ed7953\"],[0.7777777777777778,\"#fb9f3a\"],[0.8888888888888888,\"#fdca26\"],[1.0,\"#f0f921\"]]},\"colorway\":[\"#636efa\",\"#EF553B\",\"#00cc96\",\"#ab63fa\",\"#FFA15A\",\"#19d3f3\",\"#FF6692\",\"#B6E880\",\"#FF97FF\",\"#FECB52\"],\"font\":{\"color\":\"#2a3f5f\"},\"geo\":{\"bgcolor\":\"white\",\"lakecolor\":\"white\",\"landcolor\":\"#E5ECF6\",\"showlakes\":true,\"showland\":true,\"subunitcolor\":\"white\"},\"hoverlabel\":{\"align\":\"left\"},\"hovermode\":\"closest\",\"mapbox\":{\"style\":\"light\"},\"paper_bgcolor\":\"white\",\"plot_bgcolor\":\"#E5ECF6\",\"polar\":{\"angularaxis\":{\"gridcolor\":\"white\",\"linecolor\":\"white\",\"ticks\":\"\"},\"bgcolor\":\"#E5ECF6\",\"radialaxis\":{\"gridcolor\":\"white\",\"linecolor\":\"white\",\"ticks\":\"\"}},\"scene\":{\"xaxis\":{\"backgroundcolor\":\"#E5ECF6\",\"gridcolor\":\"white\",\"gridwidth\":2,\"linecolor\":\"white\",\"showbackground\":true,\"ticks\":\"\",\"zerolinecolor\":\"white\"},\"yaxis\":{\"backgroundcolor\":\"#E5ECF6\",\"gridcolor\":\"white\",\"gridwidth\":2,\"linecolor\":\"white\",\"showbackground\":true,\"ticks\":\"\",\"zerolinecolor\":\"white\"},\"zaxis\":{\"backgroundcolor\":\"#E5ECF6\",\"gridcolor\":\"white\",\"gridwidth\":2,\"linecolor\":\"white\",\"showbackground\":true,\"ticks\":\"\",\"zerolinecolor\":\"white\"}},\"shapedefaults\":{\"line\":{\"color\":\"#2a3f5f\"}},\"ternary\":{\"aaxis\":{\"gridcolor\":\"white\",\"linecolor\":\"white\",\"ticks\":\"\"},\"baxis\":{\"gridcolor\":\"white\",\"linecolor\":\"white\",\"ticks\":\"\"},\"bgcolor\":\"#E5ECF6\",\"caxis\":{\"gridcolor\":\"white\",\"linecolor\":\"white\",\"ticks\":\"\"}},\"title\":{\"x\":0.05},\"xaxis\":{\"automargin\":true,\"gridcolor\":\"white\",\"linecolor\":\"white\",\"ticks\":\"\",\"title\":{\"standoff\":15},\"zerolinecolor\":\"white\",\"zerolinewidth\":2},\"yaxis\":{\"automargin\":true,\"gridcolor\":\"white\",\"linecolor\":\"white\",\"ticks\":\"\",\"title\":{\"standoff\":15},\"zerolinecolor\":\"white\",\"zerolinewidth\":2}}},\"title\":{\"font\":{\"color\":\"rgb(1,21,51)\",\"size\":30}},\"width\":500,\"xaxis\":{\"range\":[-4.5,3.5],\"showgrid\":true,\"title\":{\"font\":{\"color\":\"rgb(1,21,51)\",\"family\":\"latex\",\"size\":30},\"text\":\"$\\\\large{x}$\"}},\"yaxis\":{\"range\":[-2.5,0.5],\"showgrid\":true,\"title\":{\"font\":{\"color\":\"rgb(1,21,51)\",\"family\":\"latex\",\"size\":30},\"text\":\"$\\\\large{y}$\"}}},                        {\"responsive\": true}                    ).then(function(){\n",
              "                            \n",
              "var gd = document.getElementById('86946627-9a00-4ab8-90ab-d9868cea6cec');\n",
              "var x = new MutationObserver(function (mutations, observer) {{\n",
              "        var display = window.getComputedStyle(gd).display;\n",
              "        if (!display || display === 'none') {{\n",
              "            console.log([gd, 'removed!']);\n",
              "            Plotly.purge(gd);\n",
              "            observer.disconnect();\n",
              "        }}\n",
              "}});\n",
              "\n",
              "// Listen for the removal of the full notebook cells\n",
              "var notebookContainer = gd.closest('#notebook-container');\n",
              "if (notebookContainer) {{\n",
              "    x.observe(notebookContainer, {childList: true});\n",
              "}}\n",
              "\n",
              "// Listen for the clearing of the current output cell\n",
              "var outputEl = gd.closest('.output');\n",
              "if (outputEl) {{\n",
              "    x.observe(outputEl, {childList: true});\n",
              "}}\n",
              "\n",
              "                        })                };                            </script>        </div>\n",
              "</body>\n",
              "</html>"
            ]
          },
          "metadata": {}
        },
        {
          "output_type": "execute_result",
          "data": {
            "text/plain": [
              "(None, None)"
            ]
          },
          "metadata": {},
          "execution_count": 66
        }
      ]
    },
    {
      "cell_type": "markdown",
      "metadata": {
        "id": "Va3GHC3iJczc"
      },
      "source": [
        "##**propiedad asociativa**\n",
        "\n",
        "<h4>$$(A +B) + C = A + ( B+C)$$  \n",
        "\n",
        "#### **Verificación analíticamente** "
      ]
    },
    {
      "cell_type": "code",
      "metadata": {
        "colab": {
          "base_uri": "https://localhost:8080/",
          "height": 78
        },
        "id": "cp4BtqWYqS72",
        "outputId": "4c8745ef-e468-4dc6-8923-f913cfca681b"
      },
      "source": [
        "A = randMatrix(3,1, min=-5, max=5)\n",
        "A"
      ],
      "execution_count": 38,
      "outputs": [
        {
          "output_type": "execute_result",
          "data": {
            "text/plain": [
              "Matrix([\n",
              "[ 2],\n",
              "[-5],\n",
              "[ 4]])"
            ],
            "text/latex": "$\\displaystyle \\left[\\begin{matrix}2\\\\-5\\\\4\\end{matrix}\\right]$"
          },
          "metadata": {},
          "execution_count": 38
        }
      ]
    },
    {
      "cell_type": "code",
      "metadata": {
        "colab": {
          "base_uri": "https://localhost:8080/",
          "height": 78
        },
        "id": "_9yN3yL4kEHb",
        "outputId": "34d49b19-6af8-4917-f7e8-7b42b4cdaa34"
      },
      "source": [
        "B = randMatrix(3,1, min=-5, max=5)\n",
        "B"
      ],
      "execution_count": 39,
      "outputs": [
        {
          "output_type": "execute_result",
          "data": {
            "text/plain": [
              "Matrix([\n",
              "[3],\n",
              "[3],\n",
              "[2]])"
            ],
            "text/latex": "$\\displaystyle \\left[\\begin{matrix}3\\\\3\\\\2\\end{matrix}\\right]$"
          },
          "metadata": {},
          "execution_count": 39
        }
      ]
    },
    {
      "cell_type": "code",
      "metadata": {
        "colab": {
          "base_uri": "https://localhost:8080/",
          "height": 78
        },
        "id": "U7advWOckQep",
        "outputId": "bfc42d00-82b0-4cbc-e966-258ca14f6039"
      },
      "source": [
        "C = randMatrix(3,1, min=-5, max=5)\n",
        "C"
      ],
      "execution_count": 40,
      "outputs": [
        {
          "output_type": "execute_result",
          "data": {
            "text/plain": [
              "Matrix([\n",
              "[-2],\n",
              "[-2],\n",
              "[ 3]])"
            ],
            "text/latex": "$\\displaystyle \\left[\\begin{matrix}-2\\\\-2\\\\3\\end{matrix}\\right]$"
          },
          "metadata": {},
          "execution_count": 40
        }
      ]
    },
    {
      "cell_type": "code",
      "metadata": {
        "colab": {
          "base_uri": "https://localhost:8080/",
          "height": 78
        },
        "id": "e-5i7DC0kXT6",
        "outputId": "63176006-250a-4f4a-efa8-4c5dcbf68f35"
      },
      "source": [
        "(A + B) + C"
      ],
      "execution_count": 41,
      "outputs": [
        {
          "output_type": "execute_result",
          "data": {
            "text/plain": [
              "Matrix([\n",
              "[ 3],\n",
              "[-4],\n",
              "[ 9]])"
            ],
            "text/latex": "$\\displaystyle \\left[\\begin{matrix}3\\\\-4\\\\9\\end{matrix}\\right]$"
          },
          "metadata": {},
          "execution_count": 41
        }
      ]
    },
    {
      "cell_type": "code",
      "metadata": {
        "colab": {
          "base_uri": "https://localhost:8080/",
          "height": 78
        },
        "id": "jTArjT3MkesD",
        "outputId": "a18939e7-0a93-42a6-c89f-c254c57a6c5d"
      },
      "source": [
        "A + (B + C)"
      ],
      "execution_count": 42,
      "outputs": [
        {
          "output_type": "execute_result",
          "data": {
            "text/plain": [
              "Matrix([\n",
              "[ 3],\n",
              "[-4],\n",
              "[ 9]])"
            ],
            "text/latex": "$\\displaystyle \\left[\\begin{matrix}3\\\\-4\\\\9\\end{matrix}\\right]$"
          },
          "metadata": {},
          "execution_count": 42
        }
      ]
    },
    {
      "cell_type": "markdown",
      "metadata": {
        "id": "93exo69jrvVw"
      },
      "source": [
        "#### **Verificación graficamente** "
      ]
    },
    {
      "cell_type": "code",
      "metadata": {
        "colab": {
          "base_uri": "https://localhost:8080/",
          "height": 994
        },
        "id": "n9nDvNHarzS1",
        "outputId": "1cb1d429-d0ed-4d0f-c56c-a37f26a6da47"
      },
      "source": [
        "plotvectors3D(A,B,C,(A+B)+C,[(-1,5,0),B],[-2,0,-4],[(-2,0,-4),C]),plotvectors3D(A,B,C,A+(B+C),[(-1,-5,-4),C],[(-2,-10,1),A])"
      ],
      "execution_count": 43,
      "outputs": [
        {
          "output_type": "display_data",
          "data": {
            "text/html": [
              "<html>\n",
              "<head><meta charset=\"utf-8\" /></head>\n",
              "<body>\n",
              "    <div>            <script src=\"https://cdnjs.cloudflare.com/ajax/libs/mathjax/2.7.5/MathJax.js?config=TeX-AMS-MML_SVG\"></script><script type=\"text/javascript\">if (window.MathJax) {MathJax.Hub.Config({SVG: {font: \"STIX-Web\"}});}</script>                <script type=\"text/javascript\">window.PlotlyConfig = {MathJaxConfig: 'local'};</script>\n",
              "        <script src=\"https://cdn.plot.ly/plotly-2.2.0.min.js\"></script>                <div id=\"1f242d9a-e833-4212-a776-e46b74653178\" class=\"plotly-graph-div\" style=\"height:480px; width:480px;\"></div>            <script type=\"text/javascript\">                                    window.PLOTLYENV=window.PLOTLYENV || {};                                    if (document.getElementById(\"1f242d9a-e833-4212-a776-e46b74653178\")) {                    Plotly.newPlot(                        \"1f242d9a-e833-4212-a776-e46b74653178\",                        [{\"line\":{\"color\":\"rgb(220,80,122)\",\"width\":7},\"marker\":{\"color\":\"rgb(220,80,122)\",\"size\":1},\"name\":\"vector 1\",\"type\":\"scatter3d\",\"x\":[0,2.0],\"y\":[0,-5.0],\"z\":[0,4.0]},{\"anchor\":\"cm\",\"colorbar\":{\"thickness\":20,\"ticklen\":4},\"colorscale\":[[0,\"rgb(220,80,122)\"],[1,\"rgb(220,80,122)\"]],\"name\":\"vector 1\",\"showscale\":false,\"sizemode\":\"absolute\",\"sizeref\":0.6666666666666666,\"type\":\"cone\",\"u\":[2.0],\"v\":[-5.0],\"w\":[4.0],\"x\":[2.0],\"y\":[-5.0],\"z\":[4.0]},{\"line\":{\"color\":\"rgb(175,225,49)\",\"width\":7},\"marker\":{\"color\":\"rgb(175,225,49)\",\"size\":1},\"name\":\"vector 2\",\"type\":\"scatter3d\",\"x\":[0,3.0],\"y\":[0,3.0],\"z\":[0,2.0]},{\"anchor\":\"cm\",\"colorbar\":{\"thickness\":20,\"ticklen\":4},\"colorscale\":[[0,\"rgb(175,225,49)\"],[1,\"rgb(175,225,49)\"]],\"name\":\"vector 2\",\"showscale\":false,\"sizemode\":\"absolute\",\"sizeref\":0.6666666666666666,\"type\":\"cone\",\"u\":[3.0],\"v\":[3.0],\"w\":[2.0],\"x\":[3.0],\"y\":[3.0],\"z\":[2.0]},{\"line\":{\"color\":\"rgb(65,46,196)\",\"width\":7},\"marker\":{\"color\":\"rgb(65,46,196)\",\"size\":1},\"name\":\"vector 3\",\"type\":\"scatter3d\",\"x\":[0,-2.0],\"y\":[0,-2.0],\"z\":[0,3.0]},{\"anchor\":\"cm\",\"colorbar\":{\"thickness\":20,\"ticklen\":4},\"colorscale\":[[0,\"rgb(65,46,196)\"],[1,\"rgb(65,46,196)\"]],\"name\":\"vector 3\",\"showscale\":false,\"sizemode\":\"absolute\",\"sizeref\":0.6666666666666666,\"type\":\"cone\",\"u\":[-2.0],\"v\":[-2.0],\"w\":[3.0],\"x\":[-2.0],\"y\":[-2.0],\"z\":[3.0]},{\"line\":{\"color\":\"rgb(100,55,178)\",\"width\":7},\"marker\":{\"color\":\"rgb(100,55,178)\",\"size\":1},\"name\":\"vector 4\",\"type\":\"scatter3d\",\"x\":[0,3.0],\"y\":[0,-4.0],\"z\":[0,9.0]},{\"anchor\":\"cm\",\"colorbar\":{\"thickness\":20,\"ticklen\":4},\"colorscale\":[[0,\"rgb(100,55,178)\"],[1,\"rgb(100,55,178)\"]],\"name\":\"vector 4\",\"showscale\":false,\"sizemode\":\"absolute\",\"sizeref\":0.6666666666666666,\"type\":\"cone\",\"u\":[3.0],\"v\":[-4.0],\"w\":[9.0],\"x\":[3.0],\"y\":[-4.0],\"z\":[9.0]},{\"hoverinfo\":\"name+text\",\"hovertext\":\"Tail=(-1,5,0)\\nHead=(2.0,8.0,2.0)\",\"line\":{\"color\":\"rgb(77,109,81)\",\"width\":7},\"marker\":{\"color\":\"rgb(77,109,81)\",\"size\":1},\"name\":\"vector 5\",\"type\":\"scatter3d\",\"x\":[-1,2.0],\"y\":[5,8.0],\"z\":[0,2.0]},{\"anchor\":\"cm\",\"colorbar\":{\"thickness\":20,\"ticklen\":4},\"colorscale\":[[0,\"rgb(77,109,81)\"],[1,\"rgb(77,109,81)\"]],\"hoverinfo\":\"skip\",\"name\":\"vector 5\",\"showscale\":false,\"sizemode\":\"absolute\",\"sizeref\":0.6666666666666666,\"type\":\"cone\",\"u\":[1.5],\"v\":[1.5],\"w\":[1.0],\"x\":[1.811],\"y\":[7.811],\"z\":[1.874]},{\"line\":{\"color\":\"rgb(98,142,19)\",\"width\":7},\"marker\":{\"color\":\"rgb(98,142,19)\",\"size\":1},\"name\":\"vector 6\",\"type\":\"scatter3d\",\"x\":[0,-2],\"y\":[0,0],\"z\":[0,-4]},{\"anchor\":\"cm\",\"colorbar\":{\"thickness\":20,\"ticklen\":4},\"colorscale\":[[0,\"rgb(98,142,19)\"],[1,\"rgb(98,142,19)\"]],\"name\":\"vector 6\",\"showscale\":false,\"sizemode\":\"absolute\",\"sizeref\":0.6666666666666666,\"type\":\"cone\",\"u\":[-2],\"v\":[0],\"w\":[-4],\"x\":[-2],\"y\":[0],\"z\":[-4]},{\"hoverinfo\":\"name+text\",\"hovertext\":\"Tail=(-2,0,-4)\\nHead=(-4.0,-2.0,-1.0)\",\"line\":{\"color\":\"rgb(96,51,68)\",\"width\":7},\"marker\":{\"color\":\"rgb(96,51,68)\",\"size\":1},\"name\":\"vector 7\",\"type\":\"scatter3d\",\"x\":[-2,-4.0],\"y\":[0,-2.0],\"z\":[-4,-1.0]},{\"anchor\":\"cm\",\"colorbar\":{\"thickness\":20,\"ticklen\":4},\"colorscale\":[[0,\"rgb(96,51,68)\"],[1,\"rgb(96,51,68)\"]],\"hoverinfo\":\"skip\",\"name\":\"vector 7\",\"showscale\":false,\"sizemode\":\"absolute\",\"sizeref\":0.6666666666666666,\"type\":\"cone\",\"u\":[-1.0],\"v\":[-1.0],\"w\":[1.5],\"x\":[-3.874],\"y\":[-1.874],\"z\":[-1.189]},{\"marker\":{\"color\":\"#2a3f5f\",\"size\":5},\"mode\":\"markers\",\"name\":\"origen\",\"showlegend\":true,\"type\":\"scatter3d\",\"x\":[0],\"y\":[0],\"z\":[0]},{\"hoverinfo\":\"skip\",\"line\":{\"color\":\"#2a3f5f\",\"width\":3},\"marker\":{\"color\":\"#2a3f5f\",\"size\":1},\"name\":\"\",\"showlegend\":false,\"type\":\"scatter3d\",\"x\":[-4.666666666666667,3.6666666666666665],\"y\":[0,0],\"z\":[0,0]},{\"anchor\":\"cm\",\"colorbar\":{\"thickness\":20,\"ticklen\":4},\"colorscale\":[[0,\"#2a3f5f\"],[1,\"#2a3f5f\"]],\"hoverinfo\":\"name\",\"name\":\"Eje x-positivo\",\"showscale\":false,\"sizemode\":\"absolute\",\"sizeref\":0.39999999999999997,\"type\":\"cone\",\"u\":[3.6666666666666665],\"v\":[0],\"w\":[0],\"x\":[3.6666666666666665],\"y\":[0],\"z\":[0]},{\"hoverinfo\":\"skip\",\"line\":{\"color\":\"#2a3f5f\",\"width\":3},\"marker\":{\"color\":\"#2a3f5f\",\"size\":1},\"name\":\"\",\"showlegend\":false,\"type\":\"scatter3d\",\"x\":[0,0],\"y\":[-5.666666666666667,8.666666666666666],\"z\":[0,0]},{\"anchor\":\"cm\",\"colorbar\":{\"thickness\":20,\"ticklen\":4},\"colorscale\":[[0,\"#2a3f5f\"],[1,\"#2a3f5f\"]],\"hoverinfo\":\"name\",\"name\":\"Eje y-positivo \",\"showscale\":false,\"sizemode\":\"absolute\",\"sizeref\":0.39999999999999997,\"type\":\"cone\",\"u\":[0],\"v\":[8.666666666666666],\"w\":[0],\"x\":[0],\"y\":[8.666666666666666],\"z\":[0]},{\"hoverinfo\":\"skip\",\"line\":{\"color\":\"#2a3f5f\",\"width\":3},\"marker\":{\"color\":\"#2a3f5f\",\"size\":1},\"name\":\"eje z-positivo\",\"showlegend\":false,\"type\":\"scatter3d\",\"x\":[0,0],\"y\":[0,0],\"z\":[-4.666666666666667,9.666666666666666]},{\"anchor\":\"cm\",\"colorbar\":{\"thickness\":20,\"ticklen\":4},\"colorscale\":[[0,\"#2a3f5f\"],[1,\"#2a3f5f\"]],\"hoverinfo\":\"name\",\"name\":\"Eje z-positivo\",\"showscale\":false,\"sizemode\":\"absolute\",\"sizeref\":0.39999999999999997,\"type\":\"cone\",\"u\":[0],\"v\":[0],\"w\":[9.666666666666666],\"x\":[0],\"y\":[0],\"z\":[9.666666666666666]}],                        {\"height\":480,\"legend\":{\"orientation\":\"h\",\"x\":0.03,\"y\":1.3},\"margin\":{\"b\":0,\"l\":0,\"r\":0,\"t\":0},\"showlegend\":true,\"template\":{\"data\":{\"bar\":[{\"error_x\":{\"color\":\"#2a3f5f\"},\"error_y\":{\"color\":\"#2a3f5f\"},\"marker\":{\"line\":{\"color\":\"#E5ECF6\",\"width\":0.5},\"pattern\":{\"fillmode\":\"overlay\",\"size\":10,\"solidity\":0.2}},\"type\":\"bar\"}],\"barpolar\":[{\"marker\":{\"line\":{\"color\":\"#E5ECF6\",\"width\":0.5},\"pattern\":{\"fillmode\":\"overlay\",\"size\":10,\"solidity\":0.2}},\"type\":\"barpolar\"}],\"carpet\":[{\"aaxis\":{\"endlinecolor\":\"#2a3f5f\",\"gridcolor\":\"white\",\"linecolor\":\"white\",\"minorgridcolor\":\"white\",\"startlinecolor\":\"#2a3f5f\"},\"baxis\":{\"endlinecolor\":\"#2a3f5f\",\"gridcolor\":\"white\",\"linecolor\":\"white\",\"minorgridcolor\":\"white\",\"startlinecolor\":\"#2a3f5f\"},\"type\":\"carpet\"}],\"choropleth\":[{\"colorbar\":{\"outlinewidth\":0,\"ticks\":\"\"},\"type\":\"choropleth\"}],\"contour\":[{\"colorbar\":{\"outlinewidth\":0,\"ticks\":\"\"},\"colorscale\":[[0.0,\"#0d0887\"],[0.1111111111111111,\"#46039f\"],[0.2222222222222222,\"#7201a8\"],[0.3333333333333333,\"#9c179e\"],[0.4444444444444444,\"#bd3786\"],[0.5555555555555556,\"#d8576b\"],[0.6666666666666666,\"#ed7953\"],[0.7777777777777778,\"#fb9f3a\"],[0.8888888888888888,\"#fdca26\"],[1.0,\"#f0f921\"]],\"type\":\"contour\"}],\"contourcarpet\":[{\"colorbar\":{\"outlinewidth\":0,\"ticks\":\"\"},\"type\":\"contourcarpet\"}],\"heatmap\":[{\"colorbar\":{\"outlinewidth\":0,\"ticks\":\"\"},\"colorscale\":[[0.0,\"#0d0887\"],[0.1111111111111111,\"#46039f\"],[0.2222222222222222,\"#7201a8\"],[0.3333333333333333,\"#9c179e\"],[0.4444444444444444,\"#bd3786\"],[0.5555555555555556,\"#d8576b\"],[0.6666666666666666,\"#ed7953\"],[0.7777777777777778,\"#fb9f3a\"],[0.8888888888888888,\"#fdca26\"],[1.0,\"#f0f921\"]],\"type\":\"heatmap\"}],\"heatmapgl\":[{\"colorbar\":{\"outlinewidth\":0,\"ticks\":\"\"},\"colorscale\":[[0.0,\"#0d0887\"],[0.1111111111111111,\"#46039f\"],[0.2222222222222222,\"#7201a8\"],[0.3333333333333333,\"#9c179e\"],[0.4444444444444444,\"#bd3786\"],[0.5555555555555556,\"#d8576b\"],[0.6666666666666666,\"#ed7953\"],[0.7777777777777778,\"#fb9f3a\"],[0.8888888888888888,\"#fdca26\"],[1.0,\"#f0f921\"]],\"type\":\"heatmapgl\"}],\"histogram\":[{\"marker\":{\"pattern\":{\"fillmode\":\"overlay\",\"size\":10,\"solidity\":0.2}},\"type\":\"histogram\"}],\"histogram2d\":[{\"colorbar\":{\"outlinewidth\":0,\"ticks\":\"\"},\"colorscale\":[[0.0,\"#0d0887\"],[0.1111111111111111,\"#46039f\"],[0.2222222222222222,\"#7201a8\"],[0.3333333333333333,\"#9c179e\"],[0.4444444444444444,\"#bd3786\"],[0.5555555555555556,\"#d8576b\"],[0.6666666666666666,\"#ed7953\"],[0.7777777777777778,\"#fb9f3a\"],[0.8888888888888888,\"#fdca26\"],[1.0,\"#f0f921\"]],\"type\":\"histogram2d\"}],\"histogram2dcontour\":[{\"colorbar\":{\"outlinewidth\":0,\"ticks\":\"\"},\"colorscale\":[[0.0,\"#0d0887\"],[0.1111111111111111,\"#46039f\"],[0.2222222222222222,\"#7201a8\"],[0.3333333333333333,\"#9c179e\"],[0.4444444444444444,\"#bd3786\"],[0.5555555555555556,\"#d8576b\"],[0.6666666666666666,\"#ed7953\"],[0.7777777777777778,\"#fb9f3a\"],[0.8888888888888888,\"#fdca26\"],[1.0,\"#f0f921\"]],\"type\":\"histogram2dcontour\"}],\"mesh3d\":[{\"colorbar\":{\"outlinewidth\":0,\"ticks\":\"\"},\"type\":\"mesh3d\"}],\"parcoords\":[{\"line\":{\"colorbar\":{\"outlinewidth\":0,\"ticks\":\"\"}},\"type\":\"parcoords\"}],\"pie\":[{\"automargin\":true,\"type\":\"pie\"}],\"scatter\":[{\"marker\":{\"colorbar\":{\"outlinewidth\":0,\"ticks\":\"\"}},\"type\":\"scatter\"}],\"scatter3d\":[{\"line\":{\"colorbar\":{\"outlinewidth\":0,\"ticks\":\"\"}},\"marker\":{\"colorbar\":{\"outlinewidth\":0,\"ticks\":\"\"}},\"type\":\"scatter3d\"}],\"scattercarpet\":[{\"marker\":{\"colorbar\":{\"outlinewidth\":0,\"ticks\":\"\"}},\"type\":\"scattercarpet\"}],\"scattergeo\":[{\"marker\":{\"colorbar\":{\"outlinewidth\":0,\"ticks\":\"\"}},\"type\":\"scattergeo\"}],\"scattergl\":[{\"marker\":{\"colorbar\":{\"outlinewidth\":0,\"ticks\":\"\"}},\"type\":\"scattergl\"}],\"scattermapbox\":[{\"marker\":{\"colorbar\":{\"outlinewidth\":0,\"ticks\":\"\"}},\"type\":\"scattermapbox\"}],\"scatterpolar\":[{\"marker\":{\"colorbar\":{\"outlinewidth\":0,\"ticks\":\"\"}},\"type\":\"scatterpolar\"}],\"scatterpolargl\":[{\"marker\":{\"colorbar\":{\"outlinewidth\":0,\"ticks\":\"\"}},\"type\":\"scatterpolargl\"}],\"scatterternary\":[{\"marker\":{\"colorbar\":{\"outlinewidth\":0,\"ticks\":\"\"}},\"type\":\"scatterternary\"}],\"surface\":[{\"colorbar\":{\"outlinewidth\":0,\"ticks\":\"\"},\"colorscale\":[[0.0,\"#0d0887\"],[0.1111111111111111,\"#46039f\"],[0.2222222222222222,\"#7201a8\"],[0.3333333333333333,\"#9c179e\"],[0.4444444444444444,\"#bd3786\"],[0.5555555555555556,\"#d8576b\"],[0.6666666666666666,\"#ed7953\"],[0.7777777777777778,\"#fb9f3a\"],[0.8888888888888888,\"#fdca26\"],[1.0,\"#f0f921\"]],\"type\":\"surface\"}],\"table\":[{\"cells\":{\"fill\":{\"color\":\"#EBF0F8\"},\"line\":{\"color\":\"white\"}},\"header\":{\"fill\":{\"color\":\"#C8D4E3\"},\"line\":{\"color\":\"white\"}},\"type\":\"table\"}]},\"layout\":{\"annotationdefaults\":{\"arrowcolor\":\"#2a3f5f\",\"arrowhead\":0,\"arrowwidth\":1},\"autotypenumbers\":\"strict\",\"coloraxis\":{\"colorbar\":{\"outlinewidth\":0,\"ticks\":\"\"}},\"colorscale\":{\"diverging\":[[0,\"#8e0152\"],[0.1,\"#c51b7d\"],[0.2,\"#de77ae\"],[0.3,\"#f1b6da\"],[0.4,\"#fde0ef\"],[0.5,\"#f7f7f7\"],[0.6,\"#e6f5d0\"],[0.7,\"#b8e186\"],[0.8,\"#7fbc41\"],[0.9,\"#4d9221\"],[1,\"#276419\"]],\"sequential\":[[0.0,\"#0d0887\"],[0.1111111111111111,\"#46039f\"],[0.2222222222222222,\"#7201a8\"],[0.3333333333333333,\"#9c179e\"],[0.4444444444444444,\"#bd3786\"],[0.5555555555555556,\"#d8576b\"],[0.6666666666666666,\"#ed7953\"],[0.7777777777777778,\"#fb9f3a\"],[0.8888888888888888,\"#fdca26\"],[1.0,\"#f0f921\"]],\"sequentialminus\":[[0.0,\"#0d0887\"],[0.1111111111111111,\"#46039f\"],[0.2222222222222222,\"#7201a8\"],[0.3333333333333333,\"#9c179e\"],[0.4444444444444444,\"#bd3786\"],[0.5555555555555556,\"#d8576b\"],[0.6666666666666666,\"#ed7953\"],[0.7777777777777778,\"#fb9f3a\"],[0.8888888888888888,\"#fdca26\"],[1.0,\"#f0f921\"]]},\"colorway\":[\"#636efa\",\"#EF553B\",\"#00cc96\",\"#ab63fa\",\"#FFA15A\",\"#19d3f3\",\"#FF6692\",\"#B6E880\",\"#FF97FF\",\"#FECB52\"],\"font\":{\"color\":\"#2a3f5f\"},\"geo\":{\"bgcolor\":\"white\",\"lakecolor\":\"white\",\"landcolor\":\"#E5ECF6\",\"showlakes\":true,\"showland\":true,\"subunitcolor\":\"white\"},\"hoverlabel\":{\"align\":\"left\"},\"hovermode\":\"closest\",\"mapbox\":{\"style\":\"light\"},\"paper_bgcolor\":\"white\",\"plot_bgcolor\":\"#E5ECF6\",\"polar\":{\"angularaxis\":{\"gridcolor\":\"white\",\"linecolor\":\"white\",\"ticks\":\"\"},\"bgcolor\":\"#E5ECF6\",\"radialaxis\":{\"gridcolor\":\"white\",\"linecolor\":\"white\",\"ticks\":\"\"}},\"scene\":{\"xaxis\":{\"backgroundcolor\":\"#E5ECF6\",\"gridcolor\":\"white\",\"gridwidth\":2,\"linecolor\":\"white\",\"showbackground\":true,\"ticks\":\"\",\"zerolinecolor\":\"white\"},\"yaxis\":{\"backgroundcolor\":\"#E5ECF6\",\"gridcolor\":\"white\",\"gridwidth\":2,\"linecolor\":\"white\",\"showbackground\":true,\"ticks\":\"\",\"zerolinecolor\":\"white\"},\"zaxis\":{\"backgroundcolor\":\"#E5ECF6\",\"gridcolor\":\"white\",\"gridwidth\":2,\"linecolor\":\"white\",\"showbackground\":true,\"ticks\":\"\",\"zerolinecolor\":\"white\"}},\"shapedefaults\":{\"line\":{\"color\":\"#2a3f5f\"}},\"ternary\":{\"aaxis\":{\"gridcolor\":\"white\",\"linecolor\":\"white\",\"ticks\":\"\"},\"baxis\":{\"gridcolor\":\"white\",\"linecolor\":\"white\",\"ticks\":\"\"},\"bgcolor\":\"#E5ECF6\",\"caxis\":{\"gridcolor\":\"white\",\"linecolor\":\"white\",\"ticks\":\"\"}},\"title\":{\"x\":0.05},\"xaxis\":{\"automargin\":true,\"gridcolor\":\"white\",\"linecolor\":\"white\",\"ticks\":\"\",\"title\":{\"standoff\":15},\"zerolinecolor\":\"white\",\"zerolinewidth\":2},\"yaxis\":{\"automargin\":true,\"gridcolor\":\"white\",\"linecolor\":\"white\",\"ticks\":\"\",\"title\":{\"standoff\":15},\"zerolinecolor\":\"white\",\"zerolinewidth\":2}}},\"title\":{\"font\":{\"color\":\"rgb(1,21,51)\",\"size\":50}},\"width\":480},                        {\"responsive\": true}                    ).then(function(){\n",
              "                            \n",
              "var gd = document.getElementById('1f242d9a-e833-4212-a776-e46b74653178');\n",
              "var x = new MutationObserver(function (mutations, observer) {{\n",
              "        var display = window.getComputedStyle(gd).display;\n",
              "        if (!display || display === 'none') {{\n",
              "            console.log([gd, 'removed!']);\n",
              "            Plotly.purge(gd);\n",
              "            observer.disconnect();\n",
              "        }}\n",
              "}});\n",
              "\n",
              "// Listen for the removal of the full notebook cells\n",
              "var notebookContainer = gd.closest('#notebook-container');\n",
              "if (notebookContainer) {{\n",
              "    x.observe(notebookContainer, {childList: true});\n",
              "}}\n",
              "\n",
              "// Listen for the clearing of the current output cell\n",
              "var outputEl = gd.closest('.output');\n",
              "if (outputEl) {{\n",
              "    x.observe(outputEl, {childList: true});\n",
              "}}\n",
              "\n",
              "                        })                };                            </script>        </div>\n",
              "</body>\n",
              "</html>"
            ]
          },
          "metadata": {}
        },
        {
          "output_type": "display_data",
          "data": {
            "text/html": [
              "<html>\n",
              "<head><meta charset=\"utf-8\" /></head>\n",
              "<body>\n",
              "    <div>            <script src=\"https://cdnjs.cloudflare.com/ajax/libs/mathjax/2.7.5/MathJax.js?config=TeX-AMS-MML_SVG\"></script><script type=\"text/javascript\">if (window.MathJax) {MathJax.Hub.Config({SVG: {font: \"STIX-Web\"}});}</script>                <script type=\"text/javascript\">window.PlotlyConfig = {MathJaxConfig: 'local'};</script>\n",
              "        <script src=\"https://cdn.plot.ly/plotly-2.2.0.min.js\"></script>                <div id=\"40d83461-cadc-4ffc-8fb9-0a66509bcbb8\" class=\"plotly-graph-div\" style=\"height:480px; width:480px;\"></div>            <script type=\"text/javascript\">                                    window.PLOTLYENV=window.PLOTLYENV || {};                                    if (document.getElementById(\"40d83461-cadc-4ffc-8fb9-0a66509bcbb8\")) {                    Plotly.newPlot(                        \"40d83461-cadc-4ffc-8fb9-0a66509bcbb8\",                        [{\"line\":{\"color\":\"rgb(126,86,98)\",\"width\":7},\"marker\":{\"color\":\"rgb(126,86,98)\",\"size\":1},\"name\":\"vector 1\",\"type\":\"scatter3d\",\"x\":[0,2.0],\"y\":[0,-5.0],\"z\":[0,4.0]},{\"anchor\":\"cm\",\"colorbar\":{\"thickness\":20,\"ticklen\":4},\"colorscale\":[[0,\"rgb(126,86,98)\"],[1,\"rgb(126,86,98)\"]],\"name\":\"vector 1\",\"showscale\":false,\"sizemode\":\"absolute\",\"sizeref\":0.5,\"type\":\"cone\",\"u\":[2.0],\"v\":[-5.0],\"w\":[4.0],\"x\":[2.0],\"y\":[-5.0],\"z\":[4.0]},{\"line\":{\"color\":\"rgb(242,61,155)\",\"width\":7},\"marker\":{\"color\":\"rgb(242,61,155)\",\"size\":1},\"name\":\"vector 2\",\"type\":\"scatter3d\",\"x\":[0,3.0],\"y\":[0,3.0],\"z\":[0,2.0]},{\"anchor\":\"cm\",\"colorbar\":{\"thickness\":20,\"ticklen\":4},\"colorscale\":[[0,\"rgb(242,61,155)\"],[1,\"rgb(242,61,155)\"]],\"name\":\"vector 2\",\"showscale\":false,\"sizemode\":\"absolute\",\"sizeref\":0.5,\"type\":\"cone\",\"u\":[3.0],\"v\":[3.0],\"w\":[2.0],\"x\":[3.0],\"y\":[3.0],\"z\":[2.0]},{\"line\":{\"color\":\"rgb(139,241,45)\",\"width\":7},\"marker\":{\"color\":\"rgb(139,241,45)\",\"size\":1},\"name\":\"vector 3\",\"type\":\"scatter3d\",\"x\":[0,-2.0],\"y\":[0,-2.0],\"z\":[0,3.0]},{\"anchor\":\"cm\",\"colorbar\":{\"thickness\":20,\"ticklen\":4},\"colorscale\":[[0,\"rgb(139,241,45)\"],[1,\"rgb(139,241,45)\"]],\"name\":\"vector 3\",\"showscale\":false,\"sizemode\":\"absolute\",\"sizeref\":0.5,\"type\":\"cone\",\"u\":[-2.0],\"v\":[-2.0],\"w\":[3.0],\"x\":[-2.0],\"y\":[-2.0],\"z\":[3.0]},{\"line\":{\"color\":\"rgb(31,115,22)\",\"width\":7},\"marker\":{\"color\":\"rgb(31,115,22)\",\"size\":1},\"name\":\"vector 4\",\"type\":\"scatter3d\",\"x\":[0,3.0],\"y\":[0,-4.0],\"z\":[0,9.0]},{\"anchor\":\"cm\",\"colorbar\":{\"thickness\":20,\"ticklen\":4},\"colorscale\":[[0,\"rgb(31,115,22)\"],[1,\"rgb(31,115,22)\"]],\"name\":\"vector 4\",\"showscale\":false,\"sizemode\":\"absolute\",\"sizeref\":0.5,\"type\":\"cone\",\"u\":[3.0],\"v\":[-4.0],\"w\":[9.0],\"x\":[3.0],\"y\":[-4.0],\"z\":[9.0]},{\"hoverinfo\":\"name+text\",\"hovertext\":\"Tail=(-1,-5,-4)\\nHead=(-3.0,-7.0,-1.0)\",\"line\":{\"color\":\"rgb(12,201,180)\",\"width\":7},\"marker\":{\"color\":\"rgb(12,201,180)\",\"size\":1},\"name\":\"vector 5\",\"type\":\"scatter3d\",\"x\":[-1,-3.0],\"y\":[-5,-7.0],\"z\":[-4,-1.0]},{\"anchor\":\"cm\",\"colorbar\":{\"thickness\":20,\"ticklen\":4},\"colorscale\":[[0,\"rgb(12,201,180)\"],[1,\"rgb(12,201,180)\"]],\"hoverinfo\":\"skip\",\"name\":\"vector 5\",\"showscale\":false,\"sizemode\":\"absolute\",\"sizeref\":0.5,\"type\":\"cone\",\"u\":[-1.0],\"v\":[-1.0],\"w\":[1.5],\"x\":[-2.874],\"y\":[-6.874],\"z\":[-1.189]},{\"hoverinfo\":\"name+text\",\"hovertext\":\"Tail=(-2,-10,1)\\nHead=(0.0,-15.0,5.0)\",\"line\":{\"color\":\"rgb(238,115,170)\",\"width\":7},\"marker\":{\"color\":\"rgb(238,115,170)\",\"size\":1},\"name\":\"vector 6\",\"type\":\"scatter3d\",\"x\":[-2,0.0],\"y\":[-10,-15.0],\"z\":[1,5.0]},{\"anchor\":\"cm\",\"colorbar\":{\"thickness\":20,\"ticklen\":4},\"colorscale\":[[0,\"rgb(238,115,170)\"],[1,\"rgb(238,115,170)\"]],\"hoverinfo\":\"skip\",\"name\":\"vector 6\",\"showscale\":false,\"sizemode\":\"absolute\",\"sizeref\":0.5,\"type\":\"cone\",\"u\":[1.0],\"v\":[-2.5],\"w\":[2.0],\"x\":[-0.126],\"y\":[-14.685],\"z\":[4.748]},{\"marker\":{\"color\":\"#2a3f5f\",\"size\":5},\"mode\":\"markers\",\"name\":\"origen\",\"showlegend\":true,\"type\":\"scatter3d\",\"x\":[0],\"y\":[0],\"z\":[0]},{\"hoverinfo\":\"skip\",\"line\":{\"color\":\"#2a3f5f\",\"width\":3},\"marker\":{\"color\":\"#2a3f5f\",\"size\":1},\"name\":\"\",\"showlegend\":false,\"type\":\"scatter3d\",\"x\":[-3.5,3.5],\"y\":[0,0],\"z\":[0,0]},{\"anchor\":\"cm\",\"colorbar\":{\"thickness\":20,\"ticklen\":4},\"colorscale\":[[0,\"#2a3f5f\"],[1,\"#2a3f5f\"]],\"hoverinfo\":\"name\",\"name\":\"Eje x-positivo\",\"showscale\":false,\"sizemode\":\"absolute\",\"sizeref\":0.3,\"type\":\"cone\",\"u\":[3.5],\"v\":[0],\"w\":[0],\"x\":[3.5],\"y\":[0],\"z\":[0]},{\"hoverinfo\":\"skip\",\"line\":{\"color\":\"#2a3f5f\",\"width\":3},\"marker\":{\"color\":\"#2a3f5f\",\"size\":1},\"name\":\"\",\"showlegend\":false,\"type\":\"scatter3d\",\"x\":[0,0],\"y\":[-15.5,3.5],\"z\":[0,0]},{\"anchor\":\"cm\",\"colorbar\":{\"thickness\":20,\"ticklen\":4},\"colorscale\":[[0,\"#2a3f5f\"],[1,\"#2a3f5f\"]],\"hoverinfo\":\"name\",\"name\":\"Eje y-positivo \",\"showscale\":false,\"sizemode\":\"absolute\",\"sizeref\":0.3,\"type\":\"cone\",\"u\":[0],\"v\":[3.5],\"w\":[0],\"x\":[0],\"y\":[3.5],\"z\":[0]},{\"hoverinfo\":\"skip\",\"line\":{\"color\":\"#2a3f5f\",\"width\":3},\"marker\":{\"color\":\"#2a3f5f\",\"size\":1},\"name\":\"eje z-positivo\",\"showlegend\":false,\"type\":\"scatter3d\",\"x\":[0,0],\"y\":[0,0],\"z\":[-4.5,9.5]},{\"anchor\":\"cm\",\"colorbar\":{\"thickness\":20,\"ticklen\":4},\"colorscale\":[[0,\"#2a3f5f\"],[1,\"#2a3f5f\"]],\"hoverinfo\":\"name\",\"name\":\"Eje z-positivo\",\"showscale\":false,\"sizemode\":\"absolute\",\"sizeref\":0.3,\"type\":\"cone\",\"u\":[0],\"v\":[0],\"w\":[9.5],\"x\":[0],\"y\":[0],\"z\":[9.5]}],                        {\"height\":480,\"legend\":{\"orientation\":\"h\",\"x\":0.03,\"y\":1.3},\"margin\":{\"b\":0,\"l\":0,\"r\":0,\"t\":0},\"showlegend\":true,\"template\":{\"data\":{\"bar\":[{\"error_x\":{\"color\":\"#2a3f5f\"},\"error_y\":{\"color\":\"#2a3f5f\"},\"marker\":{\"line\":{\"color\":\"#E5ECF6\",\"width\":0.5},\"pattern\":{\"fillmode\":\"overlay\",\"size\":10,\"solidity\":0.2}},\"type\":\"bar\"}],\"barpolar\":[{\"marker\":{\"line\":{\"color\":\"#E5ECF6\",\"width\":0.5},\"pattern\":{\"fillmode\":\"overlay\",\"size\":10,\"solidity\":0.2}},\"type\":\"barpolar\"}],\"carpet\":[{\"aaxis\":{\"endlinecolor\":\"#2a3f5f\",\"gridcolor\":\"white\",\"linecolor\":\"white\",\"minorgridcolor\":\"white\",\"startlinecolor\":\"#2a3f5f\"},\"baxis\":{\"endlinecolor\":\"#2a3f5f\",\"gridcolor\":\"white\",\"linecolor\":\"white\",\"minorgridcolor\":\"white\",\"startlinecolor\":\"#2a3f5f\"},\"type\":\"carpet\"}],\"choropleth\":[{\"colorbar\":{\"outlinewidth\":0,\"ticks\":\"\"},\"type\":\"choropleth\"}],\"contour\":[{\"colorbar\":{\"outlinewidth\":0,\"ticks\":\"\"},\"colorscale\":[[0.0,\"#0d0887\"],[0.1111111111111111,\"#46039f\"],[0.2222222222222222,\"#7201a8\"],[0.3333333333333333,\"#9c179e\"],[0.4444444444444444,\"#bd3786\"],[0.5555555555555556,\"#d8576b\"],[0.6666666666666666,\"#ed7953\"],[0.7777777777777778,\"#fb9f3a\"],[0.8888888888888888,\"#fdca26\"],[1.0,\"#f0f921\"]],\"type\":\"contour\"}],\"contourcarpet\":[{\"colorbar\":{\"outlinewidth\":0,\"ticks\":\"\"},\"type\":\"contourcarpet\"}],\"heatmap\":[{\"colorbar\":{\"outlinewidth\":0,\"ticks\":\"\"},\"colorscale\":[[0.0,\"#0d0887\"],[0.1111111111111111,\"#46039f\"],[0.2222222222222222,\"#7201a8\"],[0.3333333333333333,\"#9c179e\"],[0.4444444444444444,\"#bd3786\"],[0.5555555555555556,\"#d8576b\"],[0.6666666666666666,\"#ed7953\"],[0.7777777777777778,\"#fb9f3a\"],[0.8888888888888888,\"#fdca26\"],[1.0,\"#f0f921\"]],\"type\":\"heatmap\"}],\"heatmapgl\":[{\"colorbar\":{\"outlinewidth\":0,\"ticks\":\"\"},\"colorscale\":[[0.0,\"#0d0887\"],[0.1111111111111111,\"#46039f\"],[0.2222222222222222,\"#7201a8\"],[0.3333333333333333,\"#9c179e\"],[0.4444444444444444,\"#bd3786\"],[0.5555555555555556,\"#d8576b\"],[0.6666666666666666,\"#ed7953\"],[0.7777777777777778,\"#fb9f3a\"],[0.8888888888888888,\"#fdca26\"],[1.0,\"#f0f921\"]],\"type\":\"heatmapgl\"}],\"histogram\":[{\"marker\":{\"pattern\":{\"fillmode\":\"overlay\",\"size\":10,\"solidity\":0.2}},\"type\":\"histogram\"}],\"histogram2d\":[{\"colorbar\":{\"outlinewidth\":0,\"ticks\":\"\"},\"colorscale\":[[0.0,\"#0d0887\"],[0.1111111111111111,\"#46039f\"],[0.2222222222222222,\"#7201a8\"],[0.3333333333333333,\"#9c179e\"],[0.4444444444444444,\"#bd3786\"],[0.5555555555555556,\"#d8576b\"],[0.6666666666666666,\"#ed7953\"],[0.7777777777777778,\"#fb9f3a\"],[0.8888888888888888,\"#fdca26\"],[1.0,\"#f0f921\"]],\"type\":\"histogram2d\"}],\"histogram2dcontour\":[{\"colorbar\":{\"outlinewidth\":0,\"ticks\":\"\"},\"colorscale\":[[0.0,\"#0d0887\"],[0.1111111111111111,\"#46039f\"],[0.2222222222222222,\"#7201a8\"],[0.3333333333333333,\"#9c179e\"],[0.4444444444444444,\"#bd3786\"],[0.5555555555555556,\"#d8576b\"],[0.6666666666666666,\"#ed7953\"],[0.7777777777777778,\"#fb9f3a\"],[0.8888888888888888,\"#fdca26\"],[1.0,\"#f0f921\"]],\"type\":\"histogram2dcontour\"}],\"mesh3d\":[{\"colorbar\":{\"outlinewidth\":0,\"ticks\":\"\"},\"type\":\"mesh3d\"}],\"parcoords\":[{\"line\":{\"colorbar\":{\"outlinewidth\":0,\"ticks\":\"\"}},\"type\":\"parcoords\"}],\"pie\":[{\"automargin\":true,\"type\":\"pie\"}],\"scatter\":[{\"marker\":{\"colorbar\":{\"outlinewidth\":0,\"ticks\":\"\"}},\"type\":\"scatter\"}],\"scatter3d\":[{\"line\":{\"colorbar\":{\"outlinewidth\":0,\"ticks\":\"\"}},\"marker\":{\"colorbar\":{\"outlinewidth\":0,\"ticks\":\"\"}},\"type\":\"scatter3d\"}],\"scattercarpet\":[{\"marker\":{\"colorbar\":{\"outlinewidth\":0,\"ticks\":\"\"}},\"type\":\"scattercarpet\"}],\"scattergeo\":[{\"marker\":{\"colorbar\":{\"outlinewidth\":0,\"ticks\":\"\"}},\"type\":\"scattergeo\"}],\"scattergl\":[{\"marker\":{\"colorbar\":{\"outlinewidth\":0,\"ticks\":\"\"}},\"type\":\"scattergl\"}],\"scattermapbox\":[{\"marker\":{\"colorbar\":{\"outlinewidth\":0,\"ticks\":\"\"}},\"type\":\"scattermapbox\"}],\"scatterpolar\":[{\"marker\":{\"colorbar\":{\"outlinewidth\":0,\"ticks\":\"\"}},\"type\":\"scatterpolar\"}],\"scatterpolargl\":[{\"marker\":{\"colorbar\":{\"outlinewidth\":0,\"ticks\":\"\"}},\"type\":\"scatterpolargl\"}],\"scatterternary\":[{\"marker\":{\"colorbar\":{\"outlinewidth\":0,\"ticks\":\"\"}},\"type\":\"scatterternary\"}],\"surface\":[{\"colorbar\":{\"outlinewidth\":0,\"ticks\":\"\"},\"colorscale\":[[0.0,\"#0d0887\"],[0.1111111111111111,\"#46039f\"],[0.2222222222222222,\"#7201a8\"],[0.3333333333333333,\"#9c179e\"],[0.4444444444444444,\"#bd3786\"],[0.5555555555555556,\"#d8576b\"],[0.6666666666666666,\"#ed7953\"],[0.7777777777777778,\"#fb9f3a\"],[0.8888888888888888,\"#fdca26\"],[1.0,\"#f0f921\"]],\"type\":\"surface\"}],\"table\":[{\"cells\":{\"fill\":{\"color\":\"#EBF0F8\"},\"line\":{\"color\":\"white\"}},\"header\":{\"fill\":{\"color\":\"#C8D4E3\"},\"line\":{\"color\":\"white\"}},\"type\":\"table\"}]},\"layout\":{\"annotationdefaults\":{\"arrowcolor\":\"#2a3f5f\",\"arrowhead\":0,\"arrowwidth\":1},\"autotypenumbers\":\"strict\",\"coloraxis\":{\"colorbar\":{\"outlinewidth\":0,\"ticks\":\"\"}},\"colorscale\":{\"diverging\":[[0,\"#8e0152\"],[0.1,\"#c51b7d\"],[0.2,\"#de77ae\"],[0.3,\"#f1b6da\"],[0.4,\"#fde0ef\"],[0.5,\"#f7f7f7\"],[0.6,\"#e6f5d0\"],[0.7,\"#b8e186\"],[0.8,\"#7fbc41\"],[0.9,\"#4d9221\"],[1,\"#276419\"]],\"sequential\":[[0.0,\"#0d0887\"],[0.1111111111111111,\"#46039f\"],[0.2222222222222222,\"#7201a8\"],[0.3333333333333333,\"#9c179e\"],[0.4444444444444444,\"#bd3786\"],[0.5555555555555556,\"#d8576b\"],[0.6666666666666666,\"#ed7953\"],[0.7777777777777778,\"#fb9f3a\"],[0.8888888888888888,\"#fdca26\"],[1.0,\"#f0f921\"]],\"sequentialminus\":[[0.0,\"#0d0887\"],[0.1111111111111111,\"#46039f\"],[0.2222222222222222,\"#7201a8\"],[0.3333333333333333,\"#9c179e\"],[0.4444444444444444,\"#bd3786\"],[0.5555555555555556,\"#d8576b\"],[0.6666666666666666,\"#ed7953\"],[0.7777777777777778,\"#fb9f3a\"],[0.8888888888888888,\"#fdca26\"],[1.0,\"#f0f921\"]]},\"colorway\":[\"#636efa\",\"#EF553B\",\"#00cc96\",\"#ab63fa\",\"#FFA15A\",\"#19d3f3\",\"#FF6692\",\"#B6E880\",\"#FF97FF\",\"#FECB52\"],\"font\":{\"color\":\"#2a3f5f\"},\"geo\":{\"bgcolor\":\"white\",\"lakecolor\":\"white\",\"landcolor\":\"#E5ECF6\",\"showlakes\":true,\"showland\":true,\"subunitcolor\":\"white\"},\"hoverlabel\":{\"align\":\"left\"},\"hovermode\":\"closest\",\"mapbox\":{\"style\":\"light\"},\"paper_bgcolor\":\"white\",\"plot_bgcolor\":\"#E5ECF6\",\"polar\":{\"angularaxis\":{\"gridcolor\":\"white\",\"linecolor\":\"white\",\"ticks\":\"\"},\"bgcolor\":\"#E5ECF6\",\"radialaxis\":{\"gridcolor\":\"white\",\"linecolor\":\"white\",\"ticks\":\"\"}},\"scene\":{\"xaxis\":{\"backgroundcolor\":\"#E5ECF6\",\"gridcolor\":\"white\",\"gridwidth\":2,\"linecolor\":\"white\",\"showbackground\":true,\"ticks\":\"\",\"zerolinecolor\":\"white\"},\"yaxis\":{\"backgroundcolor\":\"#E5ECF6\",\"gridcolor\":\"white\",\"gridwidth\":2,\"linecolor\":\"white\",\"showbackground\":true,\"ticks\":\"\",\"zerolinecolor\":\"white\"},\"zaxis\":{\"backgroundcolor\":\"#E5ECF6\",\"gridcolor\":\"white\",\"gridwidth\":2,\"linecolor\":\"white\",\"showbackground\":true,\"ticks\":\"\",\"zerolinecolor\":\"white\"}},\"shapedefaults\":{\"line\":{\"color\":\"#2a3f5f\"}},\"ternary\":{\"aaxis\":{\"gridcolor\":\"white\",\"linecolor\":\"white\",\"ticks\":\"\"},\"baxis\":{\"gridcolor\":\"white\",\"linecolor\":\"white\",\"ticks\":\"\"},\"bgcolor\":\"#E5ECF6\",\"caxis\":{\"gridcolor\":\"white\",\"linecolor\":\"white\",\"ticks\":\"\"}},\"title\":{\"x\":0.05},\"xaxis\":{\"automargin\":true,\"gridcolor\":\"white\",\"linecolor\":\"white\",\"ticks\":\"\",\"title\":{\"standoff\":15},\"zerolinecolor\":\"white\",\"zerolinewidth\":2},\"yaxis\":{\"automargin\":true,\"gridcolor\":\"white\",\"linecolor\":\"white\",\"ticks\":\"\",\"title\":{\"standoff\":15},\"zerolinecolor\":\"white\",\"zerolinewidth\":2}}},\"title\":{\"font\":{\"color\":\"rgb(1,21,51)\",\"size\":50}},\"width\":480},                        {\"responsive\": true}                    ).then(function(){\n",
              "                            \n",
              "var gd = document.getElementById('40d83461-cadc-4ffc-8fb9-0a66509bcbb8');\n",
              "var x = new MutationObserver(function (mutations, observer) {{\n",
              "        var display = window.getComputedStyle(gd).display;\n",
              "        if (!display || display === 'none') {{\n",
              "            console.log([gd, 'removed!']);\n",
              "            Plotly.purge(gd);\n",
              "            observer.disconnect();\n",
              "        }}\n",
              "}});\n",
              "\n",
              "// Listen for the removal of the full notebook cells\n",
              "var notebookContainer = gd.closest('#notebook-container');\n",
              "if (notebookContainer) {{\n",
              "    x.observe(notebookContainer, {childList: true});\n",
              "}}\n",
              "\n",
              "// Listen for the clearing of the current output cell\n",
              "var outputEl = gd.closest('.output');\n",
              "if (outputEl) {{\n",
              "    x.observe(outputEl, {childList: true});\n",
              "}}\n",
              "\n",
              "                        })                };                            </script>        </div>\n",
              "</body>\n",
              "</html>"
            ]
          },
          "metadata": {}
        },
        {
          "output_type": "execute_result",
          "data": {
            "text/plain": [
              "(None, None)"
            ]
          },
          "metadata": {},
          "execution_count": 43
        }
      ]
    },
    {
      "cell_type": "markdown",
      "metadata": {
        "id": "fxCJR33HJyld"
      },
      "source": [
        "## **Existencia de elemento neutro**   \n",
        "<h4>$$A + 0 = A$$ \n",
        "      \n",
        "#### **Verificación analíticamente** \n"
      ]
    },
    {
      "cell_type": "code",
      "metadata": {
        "colab": {
          "base_uri": "https://localhost:8080/"
        },
        "id": "Uf1WKoKAr5B4",
        "outputId": "75adf5b9-2193-44cd-afde-725a8a31f436"
      },
      "source": [
        "A = randMatrix(2,1, min=-5, max=5)\n",
        "O = zeros(2,1)\n",
        "\n",
        "A + O == A"
      ],
      "execution_count": 44,
      "outputs": [
        {
          "output_type": "execute_result",
          "data": {
            "text/plain": [
              "True"
            ]
          },
          "metadata": {},
          "execution_count": 44
        }
      ]
    },
    {
      "cell_type": "markdown",
      "metadata": {
        "id": "zBVyL1aetSl-"
      },
      "source": [
        "#### **Verificación graficamente** "
      ]
    },
    {
      "cell_type": "code",
      "metadata": {
        "colab": {
          "base_uri": "https://localhost:8080/",
          "height": 497
        },
        "id": "X8IA9lgEtUkJ",
        "outputId": "3f562712-319f-4387-cf45-01879e62f5b5"
      },
      "source": [
        "plotvectors2D(A,O, [(-4,1),O])"
      ],
      "execution_count": 45,
      "outputs": [
        {
          "output_type": "display_data",
          "data": {
            "text/html": [
              "<html>\n",
              "<head><meta charset=\"utf-8\" /></head>\n",
              "<body>\n",
              "    <div>            <script src=\"https://cdnjs.cloudflare.com/ajax/libs/mathjax/2.7.5/MathJax.js?config=TeX-AMS-MML_SVG\"></script><script type=\"text/javascript\">if (window.MathJax) {MathJax.Hub.Config({SVG: {font: \"STIX-Web\"}});}</script>                <script type=\"text/javascript\">window.PlotlyConfig = {MathJaxConfig: 'local'};</script>\n",
              "        <script src=\"https://cdn.plot.ly/plotly-2.2.0.min.js\"></script>                <div id=\"a39c847c-e329-40cd-a9a0-56b6ced09401\" class=\"plotly-graph-div\" style=\"height:480px; width:500px;\"></div>            <script type=\"text/javascript\">                                    window.PLOTLYENV=window.PLOTLYENV || {};                                    if (document.getElementById(\"a39c847c-e329-40cd-a9a0-56b6ced09401\")) {                    Plotly.newPlot(                        \"a39c847c-e329-40cd-a9a0-56b6ced09401\",                        [{\"marker\":{\"color\":\"rgb(237,214,199)\",\"size\":8},\"mode\":\"lines\",\"name\":\"vector 1\",\"showlegend\":true,\"type\":\"scatter\",\"x\":[0,2.0],\"y\":[0,3.0]},{\"marker\":{\"color\":\"rgb(151,229,203)\",\"size\":8},\"mode\":\"lines\",\"name\":\"vector 2\",\"showlegend\":true,\"type\":\"scatter\",\"x\":[0,0.0],\"y\":[0,0.0]},{\"marker\":{\"color\":\"rgb(212,127,129)\",\"size\":8},\"mode\":\"lines\",\"name\":\"vector 3\",\"showlegend\":true,\"type\":\"scatter\",\"x\":[-4,-4.0],\"y\":[1,1.0]},{\"marker\":{\"color\":\"#2a3f5f\",\"size\":9},\"mode\":\"markers\",\"name\":\"origen\",\"opacity\":1,\"showlegend\":true,\"type\":\"scatter\",\"x\":[0],\"y\":[0]}],                        {\"annotations\":[{\"arrowcolor\":\"rgb(237,214,199)\",\"arrowhead\":2,\"arrowsize\":1.5,\"arrowwidth\":2.3,\"ax\":0.0,\"axref\":\"x\",\"ay\":0.0,\"ayref\":\"y\",\"showarrow\":true,\"x\":2.0,\"xref\":\"x\",\"y\":3.0,\"yref\":\"y\"},{\"arrowcolor\":\"rgb(151,229,203)\",\"arrowhead\":2,\"arrowsize\":1.5,\"arrowwidth\":2.3,\"ax\":0.0,\"axref\":\"x\",\"ay\":0.0,\"ayref\":\"y\",\"showarrow\":true,\"x\":0.0,\"xref\":\"x\",\"y\":0.0,\"yref\":\"y\"},{\"arrowcolor\":\"rgb(212,127,129)\",\"arrowhead\":2,\"arrowsize\":1.5,\"arrowwidth\":2.3,\"ax\":-4,\"axref\":\"x\",\"ay\":1,\"ayref\":\"y\",\"showarrow\":true,\"x\":-4.0,\"xref\":\"x\",\"y\":1.0,\"yref\":\"y\"},{\"arrowcolor\":\"#2a3f5f\",\"arrowhead\":2,\"arrowwidth\":1.5,\"ax\":-4.54,\"axref\":\"x\",\"ay\":0,\"ayref\":\"y\",\"x\":2.5,\"xref\":\"x\",\"y\":0,\"yref\":\"y\"},{\"arrowcolor\":\"#2a3f5f\",\"arrowhead\":2,\"arrowwidth\":1.5,\"ax\":0,\"axref\":\"x\",\"ay\":-0.54,\"ayref\":\"y\",\"x\":0,\"xref\":\"x\",\"y\":3.5,\"yref\":\"y\"}],\"font\":{\"color\":\"black\",\"family\":\"latex\",\"size\":20},\"height\":480,\"legend\":{\"itemdoubleclick\":\"toggle\",\"orientation\":\"h\",\"x\":1,\"xanchor\":\"right\",\"y\":1.02,\"yanchor\":\"bottom\"},\"showlegend\":true,\"template\":{\"data\":{\"bar\":[{\"error_x\":{\"color\":\"#2a3f5f\"},\"error_y\":{\"color\":\"#2a3f5f\"},\"marker\":{\"line\":{\"color\":\"#E5ECF6\",\"width\":0.5},\"pattern\":{\"fillmode\":\"overlay\",\"size\":10,\"solidity\":0.2}},\"type\":\"bar\"}],\"barpolar\":[{\"marker\":{\"line\":{\"color\":\"#E5ECF6\",\"width\":0.5},\"pattern\":{\"fillmode\":\"overlay\",\"size\":10,\"solidity\":0.2}},\"type\":\"barpolar\"}],\"carpet\":[{\"aaxis\":{\"endlinecolor\":\"#2a3f5f\",\"gridcolor\":\"white\",\"linecolor\":\"white\",\"minorgridcolor\":\"white\",\"startlinecolor\":\"#2a3f5f\"},\"baxis\":{\"endlinecolor\":\"#2a3f5f\",\"gridcolor\":\"white\",\"linecolor\":\"white\",\"minorgridcolor\":\"white\",\"startlinecolor\":\"#2a3f5f\"},\"type\":\"carpet\"}],\"choropleth\":[{\"colorbar\":{\"outlinewidth\":0,\"ticks\":\"\"},\"type\":\"choropleth\"}],\"contour\":[{\"colorbar\":{\"outlinewidth\":0,\"ticks\":\"\"},\"colorscale\":[[0.0,\"#0d0887\"],[0.1111111111111111,\"#46039f\"],[0.2222222222222222,\"#7201a8\"],[0.3333333333333333,\"#9c179e\"],[0.4444444444444444,\"#bd3786\"],[0.5555555555555556,\"#d8576b\"],[0.6666666666666666,\"#ed7953\"],[0.7777777777777778,\"#fb9f3a\"],[0.8888888888888888,\"#fdca26\"],[1.0,\"#f0f921\"]],\"type\":\"contour\"}],\"contourcarpet\":[{\"colorbar\":{\"outlinewidth\":0,\"ticks\":\"\"},\"type\":\"contourcarpet\"}],\"heatmap\":[{\"colorbar\":{\"outlinewidth\":0,\"ticks\":\"\"},\"colorscale\":[[0.0,\"#0d0887\"],[0.1111111111111111,\"#46039f\"],[0.2222222222222222,\"#7201a8\"],[0.3333333333333333,\"#9c179e\"],[0.4444444444444444,\"#bd3786\"],[0.5555555555555556,\"#d8576b\"],[0.6666666666666666,\"#ed7953\"],[0.7777777777777778,\"#fb9f3a\"],[0.8888888888888888,\"#fdca26\"],[1.0,\"#f0f921\"]],\"type\":\"heatmap\"}],\"heatmapgl\":[{\"colorbar\":{\"outlinewidth\":0,\"ticks\":\"\"},\"colorscale\":[[0.0,\"#0d0887\"],[0.1111111111111111,\"#46039f\"],[0.2222222222222222,\"#7201a8\"],[0.3333333333333333,\"#9c179e\"],[0.4444444444444444,\"#bd3786\"],[0.5555555555555556,\"#d8576b\"],[0.6666666666666666,\"#ed7953\"],[0.7777777777777778,\"#fb9f3a\"],[0.8888888888888888,\"#fdca26\"],[1.0,\"#f0f921\"]],\"type\":\"heatmapgl\"}],\"histogram\":[{\"marker\":{\"pattern\":{\"fillmode\":\"overlay\",\"size\":10,\"solidity\":0.2}},\"type\":\"histogram\"}],\"histogram2d\":[{\"colorbar\":{\"outlinewidth\":0,\"ticks\":\"\"},\"colorscale\":[[0.0,\"#0d0887\"],[0.1111111111111111,\"#46039f\"],[0.2222222222222222,\"#7201a8\"],[0.3333333333333333,\"#9c179e\"],[0.4444444444444444,\"#bd3786\"],[0.5555555555555556,\"#d8576b\"],[0.6666666666666666,\"#ed7953\"],[0.7777777777777778,\"#fb9f3a\"],[0.8888888888888888,\"#fdca26\"],[1.0,\"#f0f921\"]],\"type\":\"histogram2d\"}],\"histogram2dcontour\":[{\"colorbar\":{\"outlinewidth\":0,\"ticks\":\"\"},\"colorscale\":[[0.0,\"#0d0887\"],[0.1111111111111111,\"#46039f\"],[0.2222222222222222,\"#7201a8\"],[0.3333333333333333,\"#9c179e\"],[0.4444444444444444,\"#bd3786\"],[0.5555555555555556,\"#d8576b\"],[0.6666666666666666,\"#ed7953\"],[0.7777777777777778,\"#fb9f3a\"],[0.8888888888888888,\"#fdca26\"],[1.0,\"#f0f921\"]],\"type\":\"histogram2dcontour\"}],\"mesh3d\":[{\"colorbar\":{\"outlinewidth\":0,\"ticks\":\"\"},\"type\":\"mesh3d\"}],\"parcoords\":[{\"line\":{\"colorbar\":{\"outlinewidth\":0,\"ticks\":\"\"}},\"type\":\"parcoords\"}],\"pie\":[{\"automargin\":true,\"type\":\"pie\"}],\"scatter\":[{\"marker\":{\"colorbar\":{\"outlinewidth\":0,\"ticks\":\"\"}},\"type\":\"scatter\"}],\"scatter3d\":[{\"line\":{\"colorbar\":{\"outlinewidth\":0,\"ticks\":\"\"}},\"marker\":{\"colorbar\":{\"outlinewidth\":0,\"ticks\":\"\"}},\"type\":\"scatter3d\"}],\"scattercarpet\":[{\"marker\":{\"colorbar\":{\"outlinewidth\":0,\"ticks\":\"\"}},\"type\":\"scattercarpet\"}],\"scattergeo\":[{\"marker\":{\"colorbar\":{\"outlinewidth\":0,\"ticks\":\"\"}},\"type\":\"scattergeo\"}],\"scattergl\":[{\"marker\":{\"colorbar\":{\"outlinewidth\":0,\"ticks\":\"\"}},\"type\":\"scattergl\"}],\"scattermapbox\":[{\"marker\":{\"colorbar\":{\"outlinewidth\":0,\"ticks\":\"\"}},\"type\":\"scattermapbox\"}],\"scatterpolar\":[{\"marker\":{\"colorbar\":{\"outlinewidth\":0,\"ticks\":\"\"}},\"type\":\"scatterpolar\"}],\"scatterpolargl\":[{\"marker\":{\"colorbar\":{\"outlinewidth\":0,\"ticks\":\"\"}},\"type\":\"scatterpolargl\"}],\"scatterternary\":[{\"marker\":{\"colorbar\":{\"outlinewidth\":0,\"ticks\":\"\"}},\"type\":\"scatterternary\"}],\"surface\":[{\"colorbar\":{\"outlinewidth\":0,\"ticks\":\"\"},\"colorscale\":[[0.0,\"#0d0887\"],[0.1111111111111111,\"#46039f\"],[0.2222222222222222,\"#7201a8\"],[0.3333333333333333,\"#9c179e\"],[0.4444444444444444,\"#bd3786\"],[0.5555555555555556,\"#d8576b\"],[0.6666666666666666,\"#ed7953\"],[0.7777777777777778,\"#fb9f3a\"],[0.8888888888888888,\"#fdca26\"],[1.0,\"#f0f921\"]],\"type\":\"surface\"}],\"table\":[{\"cells\":{\"fill\":{\"color\":\"#EBF0F8\"},\"line\":{\"color\":\"white\"}},\"header\":{\"fill\":{\"color\":\"#C8D4E3\"},\"line\":{\"color\":\"white\"}},\"type\":\"table\"}]},\"layout\":{\"annotationdefaults\":{\"arrowcolor\":\"#2a3f5f\",\"arrowhead\":0,\"arrowwidth\":1},\"autotypenumbers\":\"strict\",\"coloraxis\":{\"colorbar\":{\"outlinewidth\":0,\"ticks\":\"\"}},\"colorscale\":{\"diverging\":[[0,\"#8e0152\"],[0.1,\"#c51b7d\"],[0.2,\"#de77ae\"],[0.3,\"#f1b6da\"],[0.4,\"#fde0ef\"],[0.5,\"#f7f7f7\"],[0.6,\"#e6f5d0\"],[0.7,\"#b8e186\"],[0.8,\"#7fbc41\"],[0.9,\"#4d9221\"],[1,\"#276419\"]],\"sequential\":[[0.0,\"#0d0887\"],[0.1111111111111111,\"#46039f\"],[0.2222222222222222,\"#7201a8\"],[0.3333333333333333,\"#9c179e\"],[0.4444444444444444,\"#bd3786\"],[0.5555555555555556,\"#d8576b\"],[0.6666666666666666,\"#ed7953\"],[0.7777777777777778,\"#fb9f3a\"],[0.8888888888888888,\"#fdca26\"],[1.0,\"#f0f921\"]],\"sequentialminus\":[[0.0,\"#0d0887\"],[0.1111111111111111,\"#46039f\"],[0.2222222222222222,\"#7201a8\"],[0.3333333333333333,\"#9c179e\"],[0.4444444444444444,\"#bd3786\"],[0.5555555555555556,\"#d8576b\"],[0.6666666666666666,\"#ed7953\"],[0.7777777777777778,\"#fb9f3a\"],[0.8888888888888888,\"#fdca26\"],[1.0,\"#f0f921\"]]},\"colorway\":[\"#636efa\",\"#EF553B\",\"#00cc96\",\"#ab63fa\",\"#FFA15A\",\"#19d3f3\",\"#FF6692\",\"#B6E880\",\"#FF97FF\",\"#FECB52\"],\"font\":{\"color\":\"#2a3f5f\"},\"geo\":{\"bgcolor\":\"white\",\"lakecolor\":\"white\",\"landcolor\":\"#E5ECF6\",\"showlakes\":true,\"showland\":true,\"subunitcolor\":\"white\"},\"hoverlabel\":{\"align\":\"left\"},\"hovermode\":\"closest\",\"mapbox\":{\"style\":\"light\"},\"paper_bgcolor\":\"white\",\"plot_bgcolor\":\"#E5ECF6\",\"polar\":{\"angularaxis\":{\"gridcolor\":\"white\",\"linecolor\":\"white\",\"ticks\":\"\"},\"bgcolor\":\"#E5ECF6\",\"radialaxis\":{\"gridcolor\":\"white\",\"linecolor\":\"white\",\"ticks\":\"\"}},\"scene\":{\"xaxis\":{\"backgroundcolor\":\"#E5ECF6\",\"gridcolor\":\"white\",\"gridwidth\":2,\"linecolor\":\"white\",\"showbackground\":true,\"ticks\":\"\",\"zerolinecolor\":\"white\"},\"yaxis\":{\"backgroundcolor\":\"#E5ECF6\",\"gridcolor\":\"white\",\"gridwidth\":2,\"linecolor\":\"white\",\"showbackground\":true,\"ticks\":\"\",\"zerolinecolor\":\"white\"},\"zaxis\":{\"backgroundcolor\":\"#E5ECF6\",\"gridcolor\":\"white\",\"gridwidth\":2,\"linecolor\":\"white\",\"showbackground\":true,\"ticks\":\"\",\"zerolinecolor\":\"white\"}},\"shapedefaults\":{\"line\":{\"color\":\"#2a3f5f\"}},\"ternary\":{\"aaxis\":{\"gridcolor\":\"white\",\"linecolor\":\"white\",\"ticks\":\"\"},\"baxis\":{\"gridcolor\":\"white\",\"linecolor\":\"white\",\"ticks\":\"\"},\"bgcolor\":\"#E5ECF6\",\"caxis\":{\"gridcolor\":\"white\",\"linecolor\":\"white\",\"ticks\":\"\"}},\"title\":{\"x\":0.05},\"xaxis\":{\"automargin\":true,\"gridcolor\":\"white\",\"linecolor\":\"white\",\"ticks\":\"\",\"title\":{\"standoff\":15},\"zerolinecolor\":\"white\",\"zerolinewidth\":2},\"yaxis\":{\"automargin\":true,\"gridcolor\":\"white\",\"linecolor\":\"white\",\"ticks\":\"\",\"title\":{\"standoff\":15},\"zerolinecolor\":\"white\",\"zerolinewidth\":2}}},\"title\":{\"font\":{\"color\":\"rgb(1,21,51)\",\"size\":30}},\"width\":500,\"xaxis\":{\"range\":[-4.5,2.5],\"showgrid\":true,\"title\":{\"font\":{\"color\":\"rgb(1,21,51)\",\"family\":\"latex\",\"size\":30},\"text\":\"$\\\\large{x}$\"}},\"yaxis\":{\"range\":[-0.5,3.5],\"showgrid\":true,\"title\":{\"font\":{\"color\":\"rgb(1,21,51)\",\"family\":\"latex\",\"size\":30},\"text\":\"$\\\\large{y}$\"}}},                        {\"responsive\": true}                    ).then(function(){\n",
              "                            \n",
              "var gd = document.getElementById('a39c847c-e329-40cd-a9a0-56b6ced09401');\n",
              "var x = new MutationObserver(function (mutations, observer) {{\n",
              "        var display = window.getComputedStyle(gd).display;\n",
              "        if (!display || display === 'none') {{\n",
              "            console.log([gd, 'removed!']);\n",
              "            Plotly.purge(gd);\n",
              "            observer.disconnect();\n",
              "        }}\n",
              "}});\n",
              "\n",
              "// Listen for the removal of the full notebook cells\n",
              "var notebookContainer = gd.closest('#notebook-container');\n",
              "if (notebookContainer) {{\n",
              "    x.observe(notebookContainer, {childList: true});\n",
              "}}\n",
              "\n",
              "// Listen for the clearing of the current output cell\n",
              "var outputEl = gd.closest('.output');\n",
              "if (outputEl) {{\n",
              "    x.observe(outputEl, {childList: true});\n",
              "}}\n",
              "\n",
              "                        })                };                            </script>        </div>\n",
              "</body>\n",
              "</html>"
            ]
          },
          "metadata": {}
        }
      ]
    },
    {
      "cell_type": "markdown",
      "metadata": {
        "id": "qE1YD6NfJ_fM"
      },
      "source": [
        "## **Existencia de inverso aditivo** \n",
        "<h4>$$A + (-A) = 0 $$ \n",
        "\n",
        "#### **Verificación analíticamente** \n",
        "\n"
      ]
    },
    {
      "cell_type": "code",
      "metadata": {
        "colab": {
          "base_uri": "https://localhost:8080/",
          "height": 58
        },
        "id": "_MnMCRaAsFZC",
        "outputId": "50aa1396-1edf-4ab9-d9fe-103dd37e78d6"
      },
      "source": [
        "A  = randMatrix(2,1,min=-5, max=5)\n",
        "A"
      ],
      "execution_count": 46,
      "outputs": [
        {
          "output_type": "execute_result",
          "data": {
            "text/plain": [
              "Matrix([\n",
              "[4],\n",
              "[5]])"
            ],
            "text/latex": "$\\displaystyle \\left[\\begin{matrix}4\\\\5\\end{matrix}\\right]$"
          },
          "metadata": {},
          "execution_count": 46
        }
      ]
    },
    {
      "cell_type": "markdown",
      "metadata": {
        "id": "yakWYtlvtLAM"
      },
      "source": [
        "#### **Verificación graficamente** "
      ]
    },
    {
      "cell_type": "code",
      "metadata": {
        "colab": {
          "base_uri": "https://localhost:8080/",
          "height": 497
        },
        "id": "-uYuOrjvsFZE",
        "outputId": "b62b9018-a401-4d9e-80d3-8054f3058b09"
      },
      "source": [
        "plotvectors2D(A,-A,[(-3,4),-A])"
      ],
      "execution_count": 47,
      "outputs": [
        {
          "output_type": "display_data",
          "data": {
            "text/html": [
              "<html>\n",
              "<head><meta charset=\"utf-8\" /></head>\n",
              "<body>\n",
              "    <div>            <script src=\"https://cdnjs.cloudflare.com/ajax/libs/mathjax/2.7.5/MathJax.js?config=TeX-AMS-MML_SVG\"></script><script type=\"text/javascript\">if (window.MathJax) {MathJax.Hub.Config({SVG: {font: \"STIX-Web\"}});}</script>                <script type=\"text/javascript\">window.PlotlyConfig = {MathJaxConfig: 'local'};</script>\n",
              "        <script src=\"https://cdn.plot.ly/plotly-2.2.0.min.js\"></script>                <div id=\"560717a3-8e61-4d60-b0ca-a5fa73dff0e3\" class=\"plotly-graph-div\" style=\"height:480px; width:500px;\"></div>            <script type=\"text/javascript\">                                    window.PLOTLYENV=window.PLOTLYENV || {};                                    if (document.getElementById(\"560717a3-8e61-4d60-b0ca-a5fa73dff0e3\")) {                    Plotly.newPlot(                        \"560717a3-8e61-4d60-b0ca-a5fa73dff0e3\",                        [{\"marker\":{\"color\":\"rgb(148,42,29)\",\"size\":8},\"mode\":\"lines\",\"name\":\"vector 1\",\"showlegend\":true,\"type\":\"scatter\",\"x\":[0,4.0],\"y\":[0,5.0]},{\"marker\":{\"color\":\"rgb(156,244,47)\",\"size\":8},\"mode\":\"lines\",\"name\":\"vector 2\",\"showlegend\":true,\"type\":\"scatter\",\"x\":[0,-4.0],\"y\":[0,-5.0]},{\"marker\":{\"color\":\"rgb(117,252,63)\",\"size\":8},\"mode\":\"lines\",\"name\":\"vector 3\",\"showlegend\":true,\"type\":\"scatter\",\"x\":[-3,-7.0],\"y\":[4,-1.0]},{\"marker\":{\"color\":\"#2a3f5f\",\"size\":9},\"mode\":\"markers\",\"name\":\"origen\",\"opacity\":1,\"showlegend\":true,\"type\":\"scatter\",\"x\":[0],\"y\":[0]}],                        {\"annotations\":[{\"arrowcolor\":\"rgb(148,42,29)\",\"arrowhead\":2,\"arrowsize\":1.5,\"arrowwidth\":2.3,\"ax\":0.0,\"axref\":\"x\",\"ay\":0.0,\"ayref\":\"y\",\"showarrow\":true,\"x\":4.0,\"xref\":\"x\",\"y\":5.0,\"yref\":\"y\"},{\"arrowcolor\":\"rgb(156,244,47)\",\"arrowhead\":2,\"arrowsize\":1.5,\"arrowwidth\":2.3,\"ax\":0.0,\"axref\":\"x\",\"ay\":0.0,\"ayref\":\"y\",\"showarrow\":true,\"x\":-4.0,\"xref\":\"x\",\"y\":-5.0,\"yref\":\"y\"},{\"arrowcolor\":\"rgb(117,252,63)\",\"arrowhead\":2,\"arrowsize\":1.5,\"arrowwidth\":2.3,\"ax\":-3,\"axref\":\"x\",\"ay\":4,\"ayref\":\"y\",\"showarrow\":true,\"x\":-7.0,\"xref\":\"x\",\"y\":-1.0,\"yref\":\"y\"},{\"arrowcolor\":\"#2a3f5f\",\"arrowhead\":2,\"arrowwidth\":1.5,\"ax\":-7.54,\"axref\":\"x\",\"ay\":0,\"ayref\":\"y\",\"x\":4.5,\"xref\":\"x\",\"y\":0,\"yref\":\"y\"},{\"arrowcolor\":\"#2a3f5f\",\"arrowhead\":2,\"arrowwidth\":1.5,\"ax\":0,\"axref\":\"x\",\"ay\":-5.54,\"ayref\":\"y\",\"x\":0,\"xref\":\"x\",\"y\":5.5,\"yref\":\"y\"}],\"font\":{\"color\":\"black\",\"family\":\"latex\",\"size\":20},\"height\":480,\"legend\":{\"itemdoubleclick\":\"toggle\",\"orientation\":\"h\",\"x\":1,\"xanchor\":\"right\",\"y\":1.02,\"yanchor\":\"bottom\"},\"showlegend\":true,\"template\":{\"data\":{\"bar\":[{\"error_x\":{\"color\":\"#2a3f5f\"},\"error_y\":{\"color\":\"#2a3f5f\"},\"marker\":{\"line\":{\"color\":\"#E5ECF6\",\"width\":0.5},\"pattern\":{\"fillmode\":\"overlay\",\"size\":10,\"solidity\":0.2}},\"type\":\"bar\"}],\"barpolar\":[{\"marker\":{\"line\":{\"color\":\"#E5ECF6\",\"width\":0.5},\"pattern\":{\"fillmode\":\"overlay\",\"size\":10,\"solidity\":0.2}},\"type\":\"barpolar\"}],\"carpet\":[{\"aaxis\":{\"endlinecolor\":\"#2a3f5f\",\"gridcolor\":\"white\",\"linecolor\":\"white\",\"minorgridcolor\":\"white\",\"startlinecolor\":\"#2a3f5f\"},\"baxis\":{\"endlinecolor\":\"#2a3f5f\",\"gridcolor\":\"white\",\"linecolor\":\"white\",\"minorgridcolor\":\"white\",\"startlinecolor\":\"#2a3f5f\"},\"type\":\"carpet\"}],\"choropleth\":[{\"colorbar\":{\"outlinewidth\":0,\"ticks\":\"\"},\"type\":\"choropleth\"}],\"contour\":[{\"colorbar\":{\"outlinewidth\":0,\"ticks\":\"\"},\"colorscale\":[[0.0,\"#0d0887\"],[0.1111111111111111,\"#46039f\"],[0.2222222222222222,\"#7201a8\"],[0.3333333333333333,\"#9c179e\"],[0.4444444444444444,\"#bd3786\"],[0.5555555555555556,\"#d8576b\"],[0.6666666666666666,\"#ed7953\"],[0.7777777777777778,\"#fb9f3a\"],[0.8888888888888888,\"#fdca26\"],[1.0,\"#f0f921\"]],\"type\":\"contour\"}],\"contourcarpet\":[{\"colorbar\":{\"outlinewidth\":0,\"ticks\":\"\"},\"type\":\"contourcarpet\"}],\"heatmap\":[{\"colorbar\":{\"outlinewidth\":0,\"ticks\":\"\"},\"colorscale\":[[0.0,\"#0d0887\"],[0.1111111111111111,\"#46039f\"],[0.2222222222222222,\"#7201a8\"],[0.3333333333333333,\"#9c179e\"],[0.4444444444444444,\"#bd3786\"],[0.5555555555555556,\"#d8576b\"],[0.6666666666666666,\"#ed7953\"],[0.7777777777777778,\"#fb9f3a\"],[0.8888888888888888,\"#fdca26\"],[1.0,\"#f0f921\"]],\"type\":\"heatmap\"}],\"heatmapgl\":[{\"colorbar\":{\"outlinewidth\":0,\"ticks\":\"\"},\"colorscale\":[[0.0,\"#0d0887\"],[0.1111111111111111,\"#46039f\"],[0.2222222222222222,\"#7201a8\"],[0.3333333333333333,\"#9c179e\"],[0.4444444444444444,\"#bd3786\"],[0.5555555555555556,\"#d8576b\"],[0.6666666666666666,\"#ed7953\"],[0.7777777777777778,\"#fb9f3a\"],[0.8888888888888888,\"#fdca26\"],[1.0,\"#f0f921\"]],\"type\":\"heatmapgl\"}],\"histogram\":[{\"marker\":{\"pattern\":{\"fillmode\":\"overlay\",\"size\":10,\"solidity\":0.2}},\"type\":\"histogram\"}],\"histogram2d\":[{\"colorbar\":{\"outlinewidth\":0,\"ticks\":\"\"},\"colorscale\":[[0.0,\"#0d0887\"],[0.1111111111111111,\"#46039f\"],[0.2222222222222222,\"#7201a8\"],[0.3333333333333333,\"#9c179e\"],[0.4444444444444444,\"#bd3786\"],[0.5555555555555556,\"#d8576b\"],[0.6666666666666666,\"#ed7953\"],[0.7777777777777778,\"#fb9f3a\"],[0.8888888888888888,\"#fdca26\"],[1.0,\"#f0f921\"]],\"type\":\"histogram2d\"}],\"histogram2dcontour\":[{\"colorbar\":{\"outlinewidth\":0,\"ticks\":\"\"},\"colorscale\":[[0.0,\"#0d0887\"],[0.1111111111111111,\"#46039f\"],[0.2222222222222222,\"#7201a8\"],[0.3333333333333333,\"#9c179e\"],[0.4444444444444444,\"#bd3786\"],[0.5555555555555556,\"#d8576b\"],[0.6666666666666666,\"#ed7953\"],[0.7777777777777778,\"#fb9f3a\"],[0.8888888888888888,\"#fdca26\"],[1.0,\"#f0f921\"]],\"type\":\"histogram2dcontour\"}],\"mesh3d\":[{\"colorbar\":{\"outlinewidth\":0,\"ticks\":\"\"},\"type\":\"mesh3d\"}],\"parcoords\":[{\"line\":{\"colorbar\":{\"outlinewidth\":0,\"ticks\":\"\"}},\"type\":\"parcoords\"}],\"pie\":[{\"automargin\":true,\"type\":\"pie\"}],\"scatter\":[{\"marker\":{\"colorbar\":{\"outlinewidth\":0,\"ticks\":\"\"}},\"type\":\"scatter\"}],\"scatter3d\":[{\"line\":{\"colorbar\":{\"outlinewidth\":0,\"ticks\":\"\"}},\"marker\":{\"colorbar\":{\"outlinewidth\":0,\"ticks\":\"\"}},\"type\":\"scatter3d\"}],\"scattercarpet\":[{\"marker\":{\"colorbar\":{\"outlinewidth\":0,\"ticks\":\"\"}},\"type\":\"scattercarpet\"}],\"scattergeo\":[{\"marker\":{\"colorbar\":{\"outlinewidth\":0,\"ticks\":\"\"}},\"type\":\"scattergeo\"}],\"scattergl\":[{\"marker\":{\"colorbar\":{\"outlinewidth\":0,\"ticks\":\"\"}},\"type\":\"scattergl\"}],\"scattermapbox\":[{\"marker\":{\"colorbar\":{\"outlinewidth\":0,\"ticks\":\"\"}},\"type\":\"scattermapbox\"}],\"scatterpolar\":[{\"marker\":{\"colorbar\":{\"outlinewidth\":0,\"ticks\":\"\"}},\"type\":\"scatterpolar\"}],\"scatterpolargl\":[{\"marker\":{\"colorbar\":{\"outlinewidth\":0,\"ticks\":\"\"}},\"type\":\"scatterpolargl\"}],\"scatterternary\":[{\"marker\":{\"colorbar\":{\"outlinewidth\":0,\"ticks\":\"\"}},\"type\":\"scatterternary\"}],\"surface\":[{\"colorbar\":{\"outlinewidth\":0,\"ticks\":\"\"},\"colorscale\":[[0.0,\"#0d0887\"],[0.1111111111111111,\"#46039f\"],[0.2222222222222222,\"#7201a8\"],[0.3333333333333333,\"#9c179e\"],[0.4444444444444444,\"#bd3786\"],[0.5555555555555556,\"#d8576b\"],[0.6666666666666666,\"#ed7953\"],[0.7777777777777778,\"#fb9f3a\"],[0.8888888888888888,\"#fdca26\"],[1.0,\"#f0f921\"]],\"type\":\"surface\"}],\"table\":[{\"cells\":{\"fill\":{\"color\":\"#EBF0F8\"},\"line\":{\"color\":\"white\"}},\"header\":{\"fill\":{\"color\":\"#C8D4E3\"},\"line\":{\"color\":\"white\"}},\"type\":\"table\"}]},\"layout\":{\"annotationdefaults\":{\"arrowcolor\":\"#2a3f5f\",\"arrowhead\":0,\"arrowwidth\":1},\"autotypenumbers\":\"strict\",\"coloraxis\":{\"colorbar\":{\"outlinewidth\":0,\"ticks\":\"\"}},\"colorscale\":{\"diverging\":[[0,\"#8e0152\"],[0.1,\"#c51b7d\"],[0.2,\"#de77ae\"],[0.3,\"#f1b6da\"],[0.4,\"#fde0ef\"],[0.5,\"#f7f7f7\"],[0.6,\"#e6f5d0\"],[0.7,\"#b8e186\"],[0.8,\"#7fbc41\"],[0.9,\"#4d9221\"],[1,\"#276419\"]],\"sequential\":[[0.0,\"#0d0887\"],[0.1111111111111111,\"#46039f\"],[0.2222222222222222,\"#7201a8\"],[0.3333333333333333,\"#9c179e\"],[0.4444444444444444,\"#bd3786\"],[0.5555555555555556,\"#d8576b\"],[0.6666666666666666,\"#ed7953\"],[0.7777777777777778,\"#fb9f3a\"],[0.8888888888888888,\"#fdca26\"],[1.0,\"#f0f921\"]],\"sequentialminus\":[[0.0,\"#0d0887\"],[0.1111111111111111,\"#46039f\"],[0.2222222222222222,\"#7201a8\"],[0.3333333333333333,\"#9c179e\"],[0.4444444444444444,\"#bd3786\"],[0.5555555555555556,\"#d8576b\"],[0.6666666666666666,\"#ed7953\"],[0.7777777777777778,\"#fb9f3a\"],[0.8888888888888888,\"#fdca26\"],[1.0,\"#f0f921\"]]},\"colorway\":[\"#636efa\",\"#EF553B\",\"#00cc96\",\"#ab63fa\",\"#FFA15A\",\"#19d3f3\",\"#FF6692\",\"#B6E880\",\"#FF97FF\",\"#FECB52\"],\"font\":{\"color\":\"#2a3f5f\"},\"geo\":{\"bgcolor\":\"white\",\"lakecolor\":\"white\",\"landcolor\":\"#E5ECF6\",\"showlakes\":true,\"showland\":true,\"subunitcolor\":\"white\"},\"hoverlabel\":{\"align\":\"left\"},\"hovermode\":\"closest\",\"mapbox\":{\"style\":\"light\"},\"paper_bgcolor\":\"white\",\"plot_bgcolor\":\"#E5ECF6\",\"polar\":{\"angularaxis\":{\"gridcolor\":\"white\",\"linecolor\":\"white\",\"ticks\":\"\"},\"bgcolor\":\"#E5ECF6\",\"radialaxis\":{\"gridcolor\":\"white\",\"linecolor\":\"white\",\"ticks\":\"\"}},\"scene\":{\"xaxis\":{\"backgroundcolor\":\"#E5ECF6\",\"gridcolor\":\"white\",\"gridwidth\":2,\"linecolor\":\"white\",\"showbackground\":true,\"ticks\":\"\",\"zerolinecolor\":\"white\"},\"yaxis\":{\"backgroundcolor\":\"#E5ECF6\",\"gridcolor\":\"white\",\"gridwidth\":2,\"linecolor\":\"white\",\"showbackground\":true,\"ticks\":\"\",\"zerolinecolor\":\"white\"},\"zaxis\":{\"backgroundcolor\":\"#E5ECF6\",\"gridcolor\":\"white\",\"gridwidth\":2,\"linecolor\":\"white\",\"showbackground\":true,\"ticks\":\"\",\"zerolinecolor\":\"white\"}},\"shapedefaults\":{\"line\":{\"color\":\"#2a3f5f\"}},\"ternary\":{\"aaxis\":{\"gridcolor\":\"white\",\"linecolor\":\"white\",\"ticks\":\"\"},\"baxis\":{\"gridcolor\":\"white\",\"linecolor\":\"white\",\"ticks\":\"\"},\"bgcolor\":\"#E5ECF6\",\"caxis\":{\"gridcolor\":\"white\",\"linecolor\":\"white\",\"ticks\":\"\"}},\"title\":{\"x\":0.05},\"xaxis\":{\"automargin\":true,\"gridcolor\":\"white\",\"linecolor\":\"white\",\"ticks\":\"\",\"title\":{\"standoff\":15},\"zerolinecolor\":\"white\",\"zerolinewidth\":2},\"yaxis\":{\"automargin\":true,\"gridcolor\":\"white\",\"linecolor\":\"white\",\"ticks\":\"\",\"title\":{\"standoff\":15},\"zerolinecolor\":\"white\",\"zerolinewidth\":2}}},\"title\":{\"font\":{\"color\":\"rgb(1,21,51)\",\"size\":30}},\"width\":500,\"xaxis\":{\"range\":[-7.5,4.5],\"showgrid\":true,\"title\":{\"font\":{\"color\":\"rgb(1,21,51)\",\"family\":\"latex\",\"size\":30},\"text\":\"$\\\\large{x}$\"}},\"yaxis\":{\"range\":[-5.5,5.5],\"showgrid\":true,\"title\":{\"font\":{\"color\":\"rgb(1,21,51)\",\"family\":\"latex\",\"size\":30},\"text\":\"$\\\\large{y}$\"}}},                        {\"responsive\": true}                    ).then(function(){\n",
              "                            \n",
              "var gd = document.getElementById('560717a3-8e61-4d60-b0ca-a5fa73dff0e3');\n",
              "var x = new MutationObserver(function (mutations, observer) {{\n",
              "        var display = window.getComputedStyle(gd).display;\n",
              "        if (!display || display === 'none') {{\n",
              "            console.log([gd, 'removed!']);\n",
              "            Plotly.purge(gd);\n",
              "            observer.disconnect();\n",
              "        }}\n",
              "}});\n",
              "\n",
              "// Listen for the removal of the full notebook cells\n",
              "var notebookContainer = gd.closest('#notebook-container');\n",
              "if (notebookContainer) {{\n",
              "    x.observe(notebookContainer, {childList: true});\n",
              "}}\n",
              "\n",
              "// Listen for the clearing of the current output cell\n",
              "var outputEl = gd.closest('.output');\n",
              "if (outputEl) {{\n",
              "    x.observe(outputEl, {childList: true});\n",
              "}}\n",
              "\n",
              "                        })                };                            </script>        </div>\n",
              "</body>\n",
              "</html>"
            ]
          },
          "metadata": {}
        }
      ]
    },
    {
      "cell_type": "markdown",
      "metadata": {
        "id": "BE5jxKI0iimX"
      },
      "source": [
        "#**RESTA DE VECTORES**\n",
        "\n",
        "Sean $\\vec{A},\\vec{B} \\in V_n$ tales que $\\vec{A} = (A_1,A_2,\\cdots, A_n)$ y $\\vec{B}= (B_1,B_2,\\cdots, B_n)$ vectores en $V_n$, se define $\\vec{A}-\\vec{B} = \\vec{A}+(-\\vec{B})$, en otras palabras como la adición del vector $\\vec{A}$ con el opuesto del vector $\\vec{B}$ el cual es $-\\vec{B}= (-B_1,-B_2,\\cdots, -B_n)$, vector que posee la misma magnitud y dirección del $\\vec{B}$ pero sentido opuesto, luego tenemos que:\n",
        "\n",
        "$$\\vec{A}-\\vec{B} = (A_1 - B_1,A_2-B_2,\\cdots,A_n-B_n)$$\n",
        "\n",
        "\n",
        "Para $n = 1,2,3$ la resta de vectores admite una interpretación y **representación geométrica**.\n",
        "\n",
        "<center><img src=\"https://github.com/josorio398/ALGEBRA-LINEAL-CON-PYTHON/blob/master/im%C3%A1genes%20repositorio/resta%20vectores.PNG?raw=true\"  height=\"300\" /> </center>\n",
        "\n",
        "\n",
        "\n",
        "\n",
        "##**Ejemplo 1:** -----> *resta de vectores bidimensionales*\n",
        "\n",
        "Dados los vectores $\\vec{A}= (2,3)$ y  $\\vec{B}= (4,2)$  encuentra el vector $A-B$ analíticamente y verifica que la resta con una representación gráfica.\n",
        "\n",
        "## **Resta de los vectores analíticamente**\n",
        "\n"
      ]
    },
    {
      "cell_type": "code",
      "metadata": {
        "colab": {
          "base_uri": "https://localhost:8080/",
          "height": 57
        },
        "id": "MnDDJa8mihzr",
        "outputId": "829de2b3-e557-4a44-b959-007d7e7188d8"
      },
      "source": [
        "A = Matrix([3,1])\n",
        "B = Matrix([1,2])\n",
        "A - B\n"
      ],
      "execution_count": null,
      "outputs": [
        {
          "output_type": "execute_result",
          "data": {
            "text/latex": "$\\displaystyle \\left[\\begin{matrix}2\\\\-1\\end{matrix}\\right]$",
            "text/plain": [
              "Matrix([\n",
              "[ 2],\n",
              "[-1]])"
            ]
          },
          "metadata": {},
          "execution_count": 67
        }
      ]
    },
    {
      "cell_type": "markdown",
      "metadata": {
        "id": "00GH0YTOccfI"
      },
      "source": [
        "## **Verificación geométrica de la resta**"
      ]
    },
    {
      "cell_type": "code",
      "metadata": {
        "colab": {
          "base_uri": "https://localhost:8080/",
          "height": 497
        },
        "id": "kQ19v2UJchOJ",
        "outputId": "cd06501e-0520-4b03-b4e0-d9cd7a1b231f"
      },
      "source": [
        "plotvectors2D(A,B,A-B,[(1,2),(3,1)])"
      ],
      "execution_count": null,
      "outputs": [
        {
          "output_type": "display_data",
          "data": {
            "text/html": [
              "<html>\n",
              "<head><meta charset=\"utf-8\" /></head>\n",
              "<body>\n",
              "    <div>            <script src=\"https://cdnjs.cloudflare.com/ajax/libs/mathjax/2.7.5/MathJax.js?config=TeX-AMS-MML_SVG\"></script><script type=\"text/javascript\">if (window.MathJax) {MathJax.Hub.Config({SVG: {font: \"STIX-Web\"}});}</script>                <script type=\"text/javascript\">window.PlotlyConfig = {MathJaxConfig: 'local'};</script>\n",
              "        <script src=\"https://cdn.plot.ly/plotly-2.2.0.min.js\"></script>                <div id=\"36e88e40-4469-484f-bf4c-1b971026addb\" class=\"plotly-graph-div\" style=\"height:480px; width:500px;\"></div>            <script type=\"text/javascript\">                                    window.PLOTLYENV=window.PLOTLYENV || {};                                    if (document.getElementById(\"36e88e40-4469-484f-bf4c-1b971026addb\")) {                    Plotly.newPlot(                        \"36e88e40-4469-484f-bf4c-1b971026addb\",                        [{\"marker\":{\"color\":\"rgb(90,173,243)\",\"size\":8},\"mode\":\"lines\",\"name\":\"vector 1\",\"showlegend\":true,\"type\":\"scatter\",\"x\":[0,3.0],\"y\":[0,1.0]},{\"marker\":{\"color\":\"rgb(150,203,160)\",\"size\":8},\"mode\":\"lines\",\"name\":\"vector 2\",\"showlegend\":true,\"type\":\"scatter\",\"x\":[0,1.0],\"y\":[0,2.0]},{\"marker\":{\"color\":\"rgb(65,92,185)\",\"size\":8},\"mode\":\"lines\",\"name\":\"vector 3\",\"showlegend\":true,\"type\":\"scatter\",\"x\":[0,2.0],\"y\":[0,-1.0]},{\"marker\":{\"color\":\"rgb(132,238,28)\",\"size\":8},\"mode\":\"lines\",\"name\":\"vector 4\",\"showlegend\":true,\"type\":\"scatter\",\"x\":[1,3],\"y\":[2,1]},{\"marker\":{\"color\":\"#2a3f5f\",\"size\":9},\"mode\":\"markers\",\"name\":\"origen\",\"opacity\":1,\"showlegend\":true,\"type\":\"scatter\",\"x\":[0],\"y\":[0]}],                        {\"annotations\":[{\"arrowcolor\":\"rgb(90,173,243)\",\"arrowhead\":2,\"arrowsize\":1.5,\"arrowwidth\":2.3,\"ax\":0.0,\"axref\":\"x\",\"ay\":0.0,\"ayref\":\"y\",\"showarrow\":true,\"x\":3.0,\"xref\":\"x\",\"y\":1.0,\"yref\":\"y\"},{\"arrowcolor\":\"rgb(150,203,160)\",\"arrowhead\":2,\"arrowsize\":1.5,\"arrowwidth\":2.3,\"ax\":0.0,\"axref\":\"x\",\"ay\":0.0,\"ayref\":\"y\",\"showarrow\":true,\"x\":1.0,\"xref\":\"x\",\"y\":2.0,\"yref\":\"y\"},{\"arrowcolor\":\"rgb(65,92,185)\",\"arrowhead\":2,\"arrowsize\":1.5,\"arrowwidth\":2.3,\"ax\":0.0,\"axref\":\"x\",\"ay\":0.0,\"ayref\":\"y\",\"showarrow\":true,\"x\":2.0,\"xref\":\"x\",\"y\":-1.0,\"yref\":\"y\"},{\"arrowcolor\":\"rgb(132,238,28)\",\"arrowhead\":2,\"arrowsize\":1.5,\"arrowwidth\":2.3,\"ax\":1,\"axref\":\"x\",\"ay\":2,\"ayref\":\"y\",\"showarrow\":true,\"x\":3,\"xref\":\"x\",\"y\":1,\"yref\":\"y\"},{\"arrowcolor\":\"#2a3f5f\",\"arrowhead\":2,\"arrowwidth\":1.5,\"ax\":-0.54,\"axref\":\"x\",\"ay\":0,\"ayref\":\"y\",\"x\":3.5,\"xref\":\"x\",\"y\":0,\"yref\":\"y\"},{\"arrowcolor\":\"#2a3f5f\",\"arrowhead\":2,\"arrowwidth\":1.5,\"ax\":0,\"axref\":\"x\",\"ay\":-1.54,\"ayref\":\"y\",\"x\":0,\"xref\":\"x\",\"y\":2.5,\"yref\":\"y\"}],\"font\":{\"color\":\"black\",\"family\":\"latex\",\"size\":20},\"height\":480,\"legend\":{\"itemdoubleclick\":\"toggle\",\"orientation\":\"h\",\"x\":1,\"xanchor\":\"right\",\"y\":1.02,\"yanchor\":\"bottom\"},\"showlegend\":true,\"template\":{\"data\":{\"bar\":[{\"error_x\":{\"color\":\"#2a3f5f\"},\"error_y\":{\"color\":\"#2a3f5f\"},\"marker\":{\"line\":{\"color\":\"#E5ECF6\",\"width\":0.5},\"pattern\":{\"fillmode\":\"overlay\",\"size\":10,\"solidity\":0.2}},\"type\":\"bar\"}],\"barpolar\":[{\"marker\":{\"line\":{\"color\":\"#E5ECF6\",\"width\":0.5},\"pattern\":{\"fillmode\":\"overlay\",\"size\":10,\"solidity\":0.2}},\"type\":\"barpolar\"}],\"carpet\":[{\"aaxis\":{\"endlinecolor\":\"#2a3f5f\",\"gridcolor\":\"white\",\"linecolor\":\"white\",\"minorgridcolor\":\"white\",\"startlinecolor\":\"#2a3f5f\"},\"baxis\":{\"endlinecolor\":\"#2a3f5f\",\"gridcolor\":\"white\",\"linecolor\":\"white\",\"minorgridcolor\":\"white\",\"startlinecolor\":\"#2a3f5f\"},\"type\":\"carpet\"}],\"choropleth\":[{\"colorbar\":{\"outlinewidth\":0,\"ticks\":\"\"},\"type\":\"choropleth\"}],\"contour\":[{\"colorbar\":{\"outlinewidth\":0,\"ticks\":\"\"},\"colorscale\":[[0.0,\"#0d0887\"],[0.1111111111111111,\"#46039f\"],[0.2222222222222222,\"#7201a8\"],[0.3333333333333333,\"#9c179e\"],[0.4444444444444444,\"#bd3786\"],[0.5555555555555556,\"#d8576b\"],[0.6666666666666666,\"#ed7953\"],[0.7777777777777778,\"#fb9f3a\"],[0.8888888888888888,\"#fdca26\"],[1.0,\"#f0f921\"]],\"type\":\"contour\"}],\"contourcarpet\":[{\"colorbar\":{\"outlinewidth\":0,\"ticks\":\"\"},\"type\":\"contourcarpet\"}],\"heatmap\":[{\"colorbar\":{\"outlinewidth\":0,\"ticks\":\"\"},\"colorscale\":[[0.0,\"#0d0887\"],[0.1111111111111111,\"#46039f\"],[0.2222222222222222,\"#7201a8\"],[0.3333333333333333,\"#9c179e\"],[0.4444444444444444,\"#bd3786\"],[0.5555555555555556,\"#d8576b\"],[0.6666666666666666,\"#ed7953\"],[0.7777777777777778,\"#fb9f3a\"],[0.8888888888888888,\"#fdca26\"],[1.0,\"#f0f921\"]],\"type\":\"heatmap\"}],\"heatmapgl\":[{\"colorbar\":{\"outlinewidth\":0,\"ticks\":\"\"},\"colorscale\":[[0.0,\"#0d0887\"],[0.1111111111111111,\"#46039f\"],[0.2222222222222222,\"#7201a8\"],[0.3333333333333333,\"#9c179e\"],[0.4444444444444444,\"#bd3786\"],[0.5555555555555556,\"#d8576b\"],[0.6666666666666666,\"#ed7953\"],[0.7777777777777778,\"#fb9f3a\"],[0.8888888888888888,\"#fdca26\"],[1.0,\"#f0f921\"]],\"type\":\"heatmapgl\"}],\"histogram\":[{\"marker\":{\"pattern\":{\"fillmode\":\"overlay\",\"size\":10,\"solidity\":0.2}},\"type\":\"histogram\"}],\"histogram2d\":[{\"colorbar\":{\"outlinewidth\":0,\"ticks\":\"\"},\"colorscale\":[[0.0,\"#0d0887\"],[0.1111111111111111,\"#46039f\"],[0.2222222222222222,\"#7201a8\"],[0.3333333333333333,\"#9c179e\"],[0.4444444444444444,\"#bd3786\"],[0.5555555555555556,\"#d8576b\"],[0.6666666666666666,\"#ed7953\"],[0.7777777777777778,\"#fb9f3a\"],[0.8888888888888888,\"#fdca26\"],[1.0,\"#f0f921\"]],\"type\":\"histogram2d\"}],\"histogram2dcontour\":[{\"colorbar\":{\"outlinewidth\":0,\"ticks\":\"\"},\"colorscale\":[[0.0,\"#0d0887\"],[0.1111111111111111,\"#46039f\"],[0.2222222222222222,\"#7201a8\"],[0.3333333333333333,\"#9c179e\"],[0.4444444444444444,\"#bd3786\"],[0.5555555555555556,\"#d8576b\"],[0.6666666666666666,\"#ed7953\"],[0.7777777777777778,\"#fb9f3a\"],[0.8888888888888888,\"#fdca26\"],[1.0,\"#f0f921\"]],\"type\":\"histogram2dcontour\"}],\"mesh3d\":[{\"colorbar\":{\"outlinewidth\":0,\"ticks\":\"\"},\"type\":\"mesh3d\"}],\"parcoords\":[{\"line\":{\"colorbar\":{\"outlinewidth\":0,\"ticks\":\"\"}},\"type\":\"parcoords\"}],\"pie\":[{\"automargin\":true,\"type\":\"pie\"}],\"scatter\":[{\"marker\":{\"colorbar\":{\"outlinewidth\":0,\"ticks\":\"\"}},\"type\":\"scatter\"}],\"scatter3d\":[{\"line\":{\"colorbar\":{\"outlinewidth\":0,\"ticks\":\"\"}},\"marker\":{\"colorbar\":{\"outlinewidth\":0,\"ticks\":\"\"}},\"type\":\"scatter3d\"}],\"scattercarpet\":[{\"marker\":{\"colorbar\":{\"outlinewidth\":0,\"ticks\":\"\"}},\"type\":\"scattercarpet\"}],\"scattergeo\":[{\"marker\":{\"colorbar\":{\"outlinewidth\":0,\"ticks\":\"\"}},\"type\":\"scattergeo\"}],\"scattergl\":[{\"marker\":{\"colorbar\":{\"outlinewidth\":0,\"ticks\":\"\"}},\"type\":\"scattergl\"}],\"scattermapbox\":[{\"marker\":{\"colorbar\":{\"outlinewidth\":0,\"ticks\":\"\"}},\"type\":\"scattermapbox\"}],\"scatterpolar\":[{\"marker\":{\"colorbar\":{\"outlinewidth\":0,\"ticks\":\"\"}},\"type\":\"scatterpolar\"}],\"scatterpolargl\":[{\"marker\":{\"colorbar\":{\"outlinewidth\":0,\"ticks\":\"\"}},\"type\":\"scatterpolargl\"}],\"scatterternary\":[{\"marker\":{\"colorbar\":{\"outlinewidth\":0,\"ticks\":\"\"}},\"type\":\"scatterternary\"}],\"surface\":[{\"colorbar\":{\"outlinewidth\":0,\"ticks\":\"\"},\"colorscale\":[[0.0,\"#0d0887\"],[0.1111111111111111,\"#46039f\"],[0.2222222222222222,\"#7201a8\"],[0.3333333333333333,\"#9c179e\"],[0.4444444444444444,\"#bd3786\"],[0.5555555555555556,\"#d8576b\"],[0.6666666666666666,\"#ed7953\"],[0.7777777777777778,\"#fb9f3a\"],[0.8888888888888888,\"#fdca26\"],[1.0,\"#f0f921\"]],\"type\":\"surface\"}],\"table\":[{\"cells\":{\"fill\":{\"color\":\"#EBF0F8\"},\"line\":{\"color\":\"white\"}},\"header\":{\"fill\":{\"color\":\"#C8D4E3\"},\"line\":{\"color\":\"white\"}},\"type\":\"table\"}]},\"layout\":{\"annotationdefaults\":{\"arrowcolor\":\"#2a3f5f\",\"arrowhead\":0,\"arrowwidth\":1},\"autotypenumbers\":\"strict\",\"coloraxis\":{\"colorbar\":{\"outlinewidth\":0,\"ticks\":\"\"}},\"colorscale\":{\"diverging\":[[0,\"#8e0152\"],[0.1,\"#c51b7d\"],[0.2,\"#de77ae\"],[0.3,\"#f1b6da\"],[0.4,\"#fde0ef\"],[0.5,\"#f7f7f7\"],[0.6,\"#e6f5d0\"],[0.7,\"#b8e186\"],[0.8,\"#7fbc41\"],[0.9,\"#4d9221\"],[1,\"#276419\"]],\"sequential\":[[0.0,\"#0d0887\"],[0.1111111111111111,\"#46039f\"],[0.2222222222222222,\"#7201a8\"],[0.3333333333333333,\"#9c179e\"],[0.4444444444444444,\"#bd3786\"],[0.5555555555555556,\"#d8576b\"],[0.6666666666666666,\"#ed7953\"],[0.7777777777777778,\"#fb9f3a\"],[0.8888888888888888,\"#fdca26\"],[1.0,\"#f0f921\"]],\"sequentialminus\":[[0.0,\"#0d0887\"],[0.1111111111111111,\"#46039f\"],[0.2222222222222222,\"#7201a8\"],[0.3333333333333333,\"#9c179e\"],[0.4444444444444444,\"#bd3786\"],[0.5555555555555556,\"#d8576b\"],[0.6666666666666666,\"#ed7953\"],[0.7777777777777778,\"#fb9f3a\"],[0.8888888888888888,\"#fdca26\"],[1.0,\"#f0f921\"]]},\"colorway\":[\"#636efa\",\"#EF553B\",\"#00cc96\",\"#ab63fa\",\"#FFA15A\",\"#19d3f3\",\"#FF6692\",\"#B6E880\",\"#FF97FF\",\"#FECB52\"],\"font\":{\"color\":\"#2a3f5f\"},\"geo\":{\"bgcolor\":\"white\",\"lakecolor\":\"white\",\"landcolor\":\"#E5ECF6\",\"showlakes\":true,\"showland\":true,\"subunitcolor\":\"white\"},\"hoverlabel\":{\"align\":\"left\"},\"hovermode\":\"closest\",\"mapbox\":{\"style\":\"light\"},\"paper_bgcolor\":\"white\",\"plot_bgcolor\":\"#E5ECF6\",\"polar\":{\"angularaxis\":{\"gridcolor\":\"white\",\"linecolor\":\"white\",\"ticks\":\"\"},\"bgcolor\":\"#E5ECF6\",\"radialaxis\":{\"gridcolor\":\"white\",\"linecolor\":\"white\",\"ticks\":\"\"}},\"scene\":{\"xaxis\":{\"backgroundcolor\":\"#E5ECF6\",\"gridcolor\":\"white\",\"gridwidth\":2,\"linecolor\":\"white\",\"showbackground\":true,\"ticks\":\"\",\"zerolinecolor\":\"white\"},\"yaxis\":{\"backgroundcolor\":\"#E5ECF6\",\"gridcolor\":\"white\",\"gridwidth\":2,\"linecolor\":\"white\",\"showbackground\":true,\"ticks\":\"\",\"zerolinecolor\":\"white\"},\"zaxis\":{\"backgroundcolor\":\"#E5ECF6\",\"gridcolor\":\"white\",\"gridwidth\":2,\"linecolor\":\"white\",\"showbackground\":true,\"ticks\":\"\",\"zerolinecolor\":\"white\"}},\"shapedefaults\":{\"line\":{\"color\":\"#2a3f5f\"}},\"ternary\":{\"aaxis\":{\"gridcolor\":\"white\",\"linecolor\":\"white\",\"ticks\":\"\"},\"baxis\":{\"gridcolor\":\"white\",\"linecolor\":\"white\",\"ticks\":\"\"},\"bgcolor\":\"#E5ECF6\",\"caxis\":{\"gridcolor\":\"white\",\"linecolor\":\"white\",\"ticks\":\"\"}},\"title\":{\"x\":0.05},\"xaxis\":{\"automargin\":true,\"gridcolor\":\"white\",\"linecolor\":\"white\",\"ticks\":\"\",\"title\":{\"standoff\":15},\"zerolinecolor\":\"white\",\"zerolinewidth\":2},\"yaxis\":{\"automargin\":true,\"gridcolor\":\"white\",\"linecolor\":\"white\",\"ticks\":\"\",\"title\":{\"standoff\":15},\"zerolinecolor\":\"white\",\"zerolinewidth\":2}}},\"title\":{\"font\":{\"color\":\"rgb(1,21,51)\",\"size\":30}},\"width\":500,\"xaxis\":{\"range\":[-0.5,3.5],\"showgrid\":true,\"title\":{\"font\":{\"color\":\"rgb(1,21,51)\",\"family\":\"latex\",\"size\":30},\"text\":\"$\\\\large{x}$\"}},\"yaxis\":{\"range\":[-1.5,2.5],\"showgrid\":true,\"title\":{\"font\":{\"color\":\"rgb(1,21,51)\",\"family\":\"latex\",\"size\":30},\"text\":\"$\\\\large{y}$\"}}},                        {\"responsive\": true}                    ).then(function(){\n",
              "                            \n",
              "var gd = document.getElementById('36e88e40-4469-484f-bf4c-1b971026addb');\n",
              "var x = new MutationObserver(function (mutations, observer) {{\n",
              "        var display = window.getComputedStyle(gd).display;\n",
              "        if (!display || display === 'none') {{\n",
              "            console.log([gd, 'removed!']);\n",
              "            Plotly.purge(gd);\n",
              "            observer.disconnect();\n",
              "        }}\n",
              "}});\n",
              "\n",
              "// Listen for the removal of the full notebook cells\n",
              "var notebookContainer = gd.closest('#notebook-container');\n",
              "if (notebookContainer) {{\n",
              "    x.observe(notebookContainer, {childList: true});\n",
              "}}\n",
              "\n",
              "// Listen for the clearing of the current output cell\n",
              "var outputEl = gd.closest('.output');\n",
              "if (outputEl) {{\n",
              "    x.observe(outputEl, {childList: true});\n",
              "}}\n",
              "\n",
              "                        })                };                            </script>        </div>\n",
              "</body>\n",
              "</html>"
            ]
          },
          "metadata": {}
        }
      ]
    },
    {
      "cell_type": "markdown",
      "metadata": {
        "id": "ngEwtdviipRT"
      },
      "source": [
        "#**MULTIPLICACIÓN POR UN ESCALAR**\n",
        "\n",
        "Sean $\\vec{A}\\in V_n$ y $K \\in \\mathbb{R}$ tal que $\\vec{A} = (A_1,A_2,\\cdots, A_n)$, se define $k\\vec{A}$ cómo : \n",
        "\n",
        "$$k\\vec{A} = \\underbrace{\\vec{A}+ \\vec{A} \\cdots+ \\vec{A}}_{k \\ \\text{veces}}$$\n",
        "\n",
        "De lo cual se deduce que:\n",
        "\n",
        "$$k\\vec{A} = (kA_1,kA_2,\\cdots,kA_n)$$\n",
        "\n",
        "\n",
        "\n",
        "Para $n = 1,2,3$ la multiplicación de un vector por un escalar admite una interpretación y **representación geométrica**.\n",
        "\n",
        "<center><img src=\"https://github.com/josorio398/ALGEBRA-LINEAL-CON-PYTHON/blob/master/im%C3%A1genes%20repositorio/multiplicaci%C3%B3n%20por%20escalar.PNG?raw=true\"  height=\"300\" /> </center>\n",
        "\n",
        "\n",
        "\n",
        "##**Ejemplo 1:** -----> *multiplicación por un escalar en vectores bidimensionales*\n",
        "\n",
        "Dados los vectores $\\vec{A}= (2,4)$ encuentra el vectores $2A$, $\\frac{1}{2}A$, $-2A$, $-\\frac{1}{2}A$ analíticamente y realiza su representación gráfica en el mismo plano.¿Qué puedes concluir si $-1<k<1$ o si $k<-1$ o $1<k$?\n",
        "\n",
        "## **Multiplicación por un escalar de los vectores analíticamente**\n",
        "\n",
        "\n",
        "\n"
      ]
    },
    {
      "cell_type": "code",
      "metadata": {
        "colab": {
          "base_uri": "https://localhost:8080/",
          "height": 57
        },
        "id": "A6FmrDBOjAzM",
        "outputId": "caef7168-3f03-492a-90d9-2025c151cd11"
      },
      "source": [
        "A = Matrix([2,4])\n",
        "A"
      ],
      "execution_count": null,
      "outputs": [
        {
          "output_type": "execute_result",
          "data": {
            "text/latex": "$\\displaystyle \\left[\\begin{matrix}2\\\\4\\end{matrix}\\right]$",
            "text/plain": [
              "Matrix([\n",
              "[2],\n",
              "[4]])"
            ]
          },
          "metadata": {},
          "execution_count": 7
        }
      ]
    },
    {
      "cell_type": "code",
      "metadata": {
        "colab": {
          "base_uri": "https://localhost:8080/",
          "height": 57
        },
        "id": "YSkBiujzujbG",
        "outputId": "c67cdbf3-b825-4cde-8461-306ceba03bcf"
      },
      "source": [
        "-2*A"
      ],
      "execution_count": null,
      "outputs": [
        {
          "output_type": "execute_result",
          "data": {
            "text/latex": "$\\displaystyle \\left[\\begin{matrix}-4\\\\-8\\end{matrix}\\right]$",
            "text/plain": [
              "Matrix([\n",
              "[-4],\n",
              "[-8]])"
            ]
          },
          "metadata": {},
          "execution_count": 8
        }
      ]
    },
    {
      "cell_type": "code",
      "metadata": {
        "colab": {
          "base_uri": "https://localhost:8080/",
          "height": 57
        },
        "id": "vLWSxuRrulcy",
        "outputId": "1f563cdc-5940-4e11-e4c0-ad9c0b715a7e"
      },
      "source": [
        "(1/2)*A"
      ],
      "execution_count": null,
      "outputs": [
        {
          "output_type": "execute_result",
          "data": {
            "text/latex": "$\\displaystyle \\left[\\begin{matrix}1.0\\\\2.0\\end{matrix}\\right]$",
            "text/plain": [
              "Matrix([\n",
              "[1.0],\n",
              "[2.0]])"
            ]
          },
          "metadata": {},
          "execution_count": 9
        }
      ]
    },
    {
      "cell_type": "code",
      "metadata": {
        "colab": {
          "base_uri": "https://localhost:8080/",
          "height": 57
        },
        "id": "jqj2pok5uo6o",
        "outputId": "d6e1577a-01e6-4484-e120-d4ba6358dbc7"
      },
      "source": [
        "(-1/2)*A"
      ],
      "execution_count": null,
      "outputs": [
        {
          "output_type": "execute_result",
          "data": {
            "text/latex": "$\\displaystyle \\left[\\begin{matrix}-1.0\\\\-2.0\\end{matrix}\\right]$",
            "text/plain": [
              "Matrix([\n",
              "[-1.0],\n",
              "[-2.0]])"
            ]
          },
          "metadata": {},
          "execution_count": 10
        }
      ]
    },
    {
      "cell_type": "markdown",
      "metadata": {
        "id": "9JAPYv2hwFmX"
      },
      "source": [
        "## **Representación gráfica de los vectores en el plano**"
      ]
    },
    {
      "cell_type": "code",
      "metadata": {
        "colab": {
          "base_uri": "https://localhost:8080/",
          "height": 497
        },
        "id": "Nq-_HLpeoARn",
        "outputId": "87b71b6a-2be1-4f51-ce7b-c2d76e63347f"
      },
      "source": [
        "plotvectors2D(A,2*A,(1/2)*A,-2*A,(-1/2)*A)"
      ],
      "execution_count": null,
      "outputs": [
        {
          "output_type": "display_data",
          "data": {
            "text/html": [
              "<html>\n",
              "<head><meta charset=\"utf-8\" /></head>\n",
              "<body>\n",
              "    <div>            <script src=\"https://cdnjs.cloudflare.com/ajax/libs/mathjax/2.7.5/MathJax.js?config=TeX-AMS-MML_SVG\"></script><script type=\"text/javascript\">if (window.MathJax) {MathJax.Hub.Config({SVG: {font: \"STIX-Web\"}});}</script>                <script type=\"text/javascript\">window.PlotlyConfig = {MathJaxConfig: 'local'};</script>\n",
              "        <script src=\"https://cdn.plot.ly/plotly-2.2.0.min.js\"></script>                <div id=\"26983533-1897-4c6a-a954-9a5e3f9bbda4\" class=\"plotly-graph-div\" style=\"height:480px; width:500px;\"></div>            <script type=\"text/javascript\">                                    window.PLOTLYENV=window.PLOTLYENV || {};                                    if (document.getElementById(\"26983533-1897-4c6a-a954-9a5e3f9bbda4\")) {                    Plotly.newPlot(                        \"26983533-1897-4c6a-a954-9a5e3f9bbda4\",                        [{\"marker\":{\"color\":\"rgb(153,113,117)\",\"size\":8},\"mode\":\"lines\",\"name\":\"vector 1\",\"showlegend\":true,\"type\":\"scatter\",\"x\":[0,2.0],\"y\":[0,4.0]},{\"marker\":{\"color\":\"rgb(201,241,144)\",\"size\":8},\"mode\":\"lines\",\"name\":\"vector 2\",\"showlegend\":true,\"type\":\"scatter\",\"x\":[0,4.0],\"y\":[0,8.0]},{\"marker\":{\"color\":\"rgb(174,134,188)\",\"size\":8},\"mode\":\"lines\",\"name\":\"vector 3\",\"showlegend\":true,\"type\":\"scatter\",\"x\":[0,1.0],\"y\":[0,2.0]},{\"marker\":{\"color\":\"rgb(212,153,87)\",\"size\":8},\"mode\":\"lines\",\"name\":\"vector 4\",\"showlegend\":true,\"type\":\"scatter\",\"x\":[0,-4.0],\"y\":[0,-8.0]},{\"marker\":{\"color\":\"rgb(192,54,111)\",\"size\":8},\"mode\":\"lines\",\"name\":\"vector 5\",\"showlegend\":true,\"type\":\"scatter\",\"x\":[0,-1.0],\"y\":[0,-2.0]},{\"marker\":{\"color\":\"#2a3f5f\",\"size\":9},\"mode\":\"markers\",\"name\":\"origen\",\"opacity\":1,\"showlegend\":true,\"type\":\"scatter\",\"x\":[0],\"y\":[0]}],                        {\"annotations\":[{\"arrowcolor\":\"rgb(153,113,117)\",\"arrowhead\":2,\"arrowsize\":1.5,\"arrowwidth\":2.3,\"ax\":0.0,\"axref\":\"x\",\"ay\":0.0,\"ayref\":\"y\",\"showarrow\":true,\"x\":2.0,\"xref\":\"x\",\"y\":4.0,\"yref\":\"y\"},{\"arrowcolor\":\"rgb(201,241,144)\",\"arrowhead\":2,\"arrowsize\":1.5,\"arrowwidth\":2.3,\"ax\":0.0,\"axref\":\"x\",\"ay\":0.0,\"ayref\":\"y\",\"showarrow\":true,\"x\":4.0,\"xref\":\"x\",\"y\":8.0,\"yref\":\"y\"},{\"arrowcolor\":\"rgb(174,134,188)\",\"arrowhead\":2,\"arrowsize\":1.5,\"arrowwidth\":2.3,\"ax\":0.0,\"axref\":\"x\",\"ay\":0.0,\"ayref\":\"y\",\"showarrow\":true,\"x\":1.0,\"xref\":\"x\",\"y\":2.0,\"yref\":\"y\"},{\"arrowcolor\":\"rgb(212,153,87)\",\"arrowhead\":2,\"arrowsize\":1.5,\"arrowwidth\":2.3,\"ax\":0.0,\"axref\":\"x\",\"ay\":0.0,\"ayref\":\"y\",\"showarrow\":true,\"x\":-4.0,\"xref\":\"x\",\"y\":-8.0,\"yref\":\"y\"},{\"arrowcolor\":\"rgb(192,54,111)\",\"arrowhead\":2,\"arrowsize\":1.5,\"arrowwidth\":2.3,\"ax\":0.0,\"axref\":\"x\",\"ay\":0.0,\"ayref\":\"y\",\"showarrow\":true,\"x\":-1.0,\"xref\":\"x\",\"y\":-2.0,\"yref\":\"y\"},{\"arrowcolor\":\"#2a3f5f\",\"arrowhead\":2,\"arrowwidth\":1.5,\"ax\":-4.54,\"axref\":\"x\",\"ay\":0,\"ayref\":\"y\",\"x\":4.5,\"xref\":\"x\",\"y\":0,\"yref\":\"y\"},{\"arrowcolor\":\"#2a3f5f\",\"arrowhead\":2,\"arrowwidth\":1.5,\"ax\":0,\"axref\":\"x\",\"ay\":-8.54,\"ayref\":\"y\",\"x\":0,\"xref\":\"x\",\"y\":8.5,\"yref\":\"y\"}],\"font\":{\"color\":\"black\",\"family\":\"latex\",\"size\":20},\"height\":480,\"legend\":{\"itemdoubleclick\":\"toggle\",\"orientation\":\"h\",\"x\":1,\"xanchor\":\"right\",\"y\":1.02,\"yanchor\":\"bottom\"},\"showlegend\":true,\"template\":{\"data\":{\"bar\":[{\"error_x\":{\"color\":\"#2a3f5f\"},\"error_y\":{\"color\":\"#2a3f5f\"},\"marker\":{\"line\":{\"color\":\"#E5ECF6\",\"width\":0.5},\"pattern\":{\"fillmode\":\"overlay\",\"size\":10,\"solidity\":0.2}},\"type\":\"bar\"}],\"barpolar\":[{\"marker\":{\"line\":{\"color\":\"#E5ECF6\",\"width\":0.5},\"pattern\":{\"fillmode\":\"overlay\",\"size\":10,\"solidity\":0.2}},\"type\":\"barpolar\"}],\"carpet\":[{\"aaxis\":{\"endlinecolor\":\"#2a3f5f\",\"gridcolor\":\"white\",\"linecolor\":\"white\",\"minorgridcolor\":\"white\",\"startlinecolor\":\"#2a3f5f\"},\"baxis\":{\"endlinecolor\":\"#2a3f5f\",\"gridcolor\":\"white\",\"linecolor\":\"white\",\"minorgridcolor\":\"white\",\"startlinecolor\":\"#2a3f5f\"},\"type\":\"carpet\"}],\"choropleth\":[{\"colorbar\":{\"outlinewidth\":0,\"ticks\":\"\"},\"type\":\"choropleth\"}],\"contour\":[{\"colorbar\":{\"outlinewidth\":0,\"ticks\":\"\"},\"colorscale\":[[0.0,\"#0d0887\"],[0.1111111111111111,\"#46039f\"],[0.2222222222222222,\"#7201a8\"],[0.3333333333333333,\"#9c179e\"],[0.4444444444444444,\"#bd3786\"],[0.5555555555555556,\"#d8576b\"],[0.6666666666666666,\"#ed7953\"],[0.7777777777777778,\"#fb9f3a\"],[0.8888888888888888,\"#fdca26\"],[1.0,\"#f0f921\"]],\"type\":\"contour\"}],\"contourcarpet\":[{\"colorbar\":{\"outlinewidth\":0,\"ticks\":\"\"},\"type\":\"contourcarpet\"}],\"heatmap\":[{\"colorbar\":{\"outlinewidth\":0,\"ticks\":\"\"},\"colorscale\":[[0.0,\"#0d0887\"],[0.1111111111111111,\"#46039f\"],[0.2222222222222222,\"#7201a8\"],[0.3333333333333333,\"#9c179e\"],[0.4444444444444444,\"#bd3786\"],[0.5555555555555556,\"#d8576b\"],[0.6666666666666666,\"#ed7953\"],[0.7777777777777778,\"#fb9f3a\"],[0.8888888888888888,\"#fdca26\"],[1.0,\"#f0f921\"]],\"type\":\"heatmap\"}],\"heatmapgl\":[{\"colorbar\":{\"outlinewidth\":0,\"ticks\":\"\"},\"colorscale\":[[0.0,\"#0d0887\"],[0.1111111111111111,\"#46039f\"],[0.2222222222222222,\"#7201a8\"],[0.3333333333333333,\"#9c179e\"],[0.4444444444444444,\"#bd3786\"],[0.5555555555555556,\"#d8576b\"],[0.6666666666666666,\"#ed7953\"],[0.7777777777777778,\"#fb9f3a\"],[0.8888888888888888,\"#fdca26\"],[1.0,\"#f0f921\"]],\"type\":\"heatmapgl\"}],\"histogram\":[{\"marker\":{\"pattern\":{\"fillmode\":\"overlay\",\"size\":10,\"solidity\":0.2}},\"type\":\"histogram\"}],\"histogram2d\":[{\"colorbar\":{\"outlinewidth\":0,\"ticks\":\"\"},\"colorscale\":[[0.0,\"#0d0887\"],[0.1111111111111111,\"#46039f\"],[0.2222222222222222,\"#7201a8\"],[0.3333333333333333,\"#9c179e\"],[0.4444444444444444,\"#bd3786\"],[0.5555555555555556,\"#d8576b\"],[0.6666666666666666,\"#ed7953\"],[0.7777777777777778,\"#fb9f3a\"],[0.8888888888888888,\"#fdca26\"],[1.0,\"#f0f921\"]],\"type\":\"histogram2d\"}],\"histogram2dcontour\":[{\"colorbar\":{\"outlinewidth\":0,\"ticks\":\"\"},\"colorscale\":[[0.0,\"#0d0887\"],[0.1111111111111111,\"#46039f\"],[0.2222222222222222,\"#7201a8\"],[0.3333333333333333,\"#9c179e\"],[0.4444444444444444,\"#bd3786\"],[0.5555555555555556,\"#d8576b\"],[0.6666666666666666,\"#ed7953\"],[0.7777777777777778,\"#fb9f3a\"],[0.8888888888888888,\"#fdca26\"],[1.0,\"#f0f921\"]],\"type\":\"histogram2dcontour\"}],\"mesh3d\":[{\"colorbar\":{\"outlinewidth\":0,\"ticks\":\"\"},\"type\":\"mesh3d\"}],\"parcoords\":[{\"line\":{\"colorbar\":{\"outlinewidth\":0,\"ticks\":\"\"}},\"type\":\"parcoords\"}],\"pie\":[{\"automargin\":true,\"type\":\"pie\"}],\"scatter\":[{\"marker\":{\"colorbar\":{\"outlinewidth\":0,\"ticks\":\"\"}},\"type\":\"scatter\"}],\"scatter3d\":[{\"line\":{\"colorbar\":{\"outlinewidth\":0,\"ticks\":\"\"}},\"marker\":{\"colorbar\":{\"outlinewidth\":0,\"ticks\":\"\"}},\"type\":\"scatter3d\"}],\"scattercarpet\":[{\"marker\":{\"colorbar\":{\"outlinewidth\":0,\"ticks\":\"\"}},\"type\":\"scattercarpet\"}],\"scattergeo\":[{\"marker\":{\"colorbar\":{\"outlinewidth\":0,\"ticks\":\"\"}},\"type\":\"scattergeo\"}],\"scattergl\":[{\"marker\":{\"colorbar\":{\"outlinewidth\":0,\"ticks\":\"\"}},\"type\":\"scattergl\"}],\"scattermapbox\":[{\"marker\":{\"colorbar\":{\"outlinewidth\":0,\"ticks\":\"\"}},\"type\":\"scattermapbox\"}],\"scatterpolar\":[{\"marker\":{\"colorbar\":{\"outlinewidth\":0,\"ticks\":\"\"}},\"type\":\"scatterpolar\"}],\"scatterpolargl\":[{\"marker\":{\"colorbar\":{\"outlinewidth\":0,\"ticks\":\"\"}},\"type\":\"scatterpolargl\"}],\"scatterternary\":[{\"marker\":{\"colorbar\":{\"outlinewidth\":0,\"ticks\":\"\"}},\"type\":\"scatterternary\"}],\"surface\":[{\"colorbar\":{\"outlinewidth\":0,\"ticks\":\"\"},\"colorscale\":[[0.0,\"#0d0887\"],[0.1111111111111111,\"#46039f\"],[0.2222222222222222,\"#7201a8\"],[0.3333333333333333,\"#9c179e\"],[0.4444444444444444,\"#bd3786\"],[0.5555555555555556,\"#d8576b\"],[0.6666666666666666,\"#ed7953\"],[0.7777777777777778,\"#fb9f3a\"],[0.8888888888888888,\"#fdca26\"],[1.0,\"#f0f921\"]],\"type\":\"surface\"}],\"table\":[{\"cells\":{\"fill\":{\"color\":\"#EBF0F8\"},\"line\":{\"color\":\"white\"}},\"header\":{\"fill\":{\"color\":\"#C8D4E3\"},\"line\":{\"color\":\"white\"}},\"type\":\"table\"}]},\"layout\":{\"annotationdefaults\":{\"arrowcolor\":\"#2a3f5f\",\"arrowhead\":0,\"arrowwidth\":1},\"autotypenumbers\":\"strict\",\"coloraxis\":{\"colorbar\":{\"outlinewidth\":0,\"ticks\":\"\"}},\"colorscale\":{\"diverging\":[[0,\"#8e0152\"],[0.1,\"#c51b7d\"],[0.2,\"#de77ae\"],[0.3,\"#f1b6da\"],[0.4,\"#fde0ef\"],[0.5,\"#f7f7f7\"],[0.6,\"#e6f5d0\"],[0.7,\"#b8e186\"],[0.8,\"#7fbc41\"],[0.9,\"#4d9221\"],[1,\"#276419\"]],\"sequential\":[[0.0,\"#0d0887\"],[0.1111111111111111,\"#46039f\"],[0.2222222222222222,\"#7201a8\"],[0.3333333333333333,\"#9c179e\"],[0.4444444444444444,\"#bd3786\"],[0.5555555555555556,\"#d8576b\"],[0.6666666666666666,\"#ed7953\"],[0.7777777777777778,\"#fb9f3a\"],[0.8888888888888888,\"#fdca26\"],[1.0,\"#f0f921\"]],\"sequentialminus\":[[0.0,\"#0d0887\"],[0.1111111111111111,\"#46039f\"],[0.2222222222222222,\"#7201a8\"],[0.3333333333333333,\"#9c179e\"],[0.4444444444444444,\"#bd3786\"],[0.5555555555555556,\"#d8576b\"],[0.6666666666666666,\"#ed7953\"],[0.7777777777777778,\"#fb9f3a\"],[0.8888888888888888,\"#fdca26\"],[1.0,\"#f0f921\"]]},\"colorway\":[\"#636efa\",\"#EF553B\",\"#00cc96\",\"#ab63fa\",\"#FFA15A\",\"#19d3f3\",\"#FF6692\",\"#B6E880\",\"#FF97FF\",\"#FECB52\"],\"font\":{\"color\":\"#2a3f5f\"},\"geo\":{\"bgcolor\":\"white\",\"lakecolor\":\"white\",\"landcolor\":\"#E5ECF6\",\"showlakes\":true,\"showland\":true,\"subunitcolor\":\"white\"},\"hoverlabel\":{\"align\":\"left\"},\"hovermode\":\"closest\",\"mapbox\":{\"style\":\"light\"},\"paper_bgcolor\":\"white\",\"plot_bgcolor\":\"#E5ECF6\",\"polar\":{\"angularaxis\":{\"gridcolor\":\"white\",\"linecolor\":\"white\",\"ticks\":\"\"},\"bgcolor\":\"#E5ECF6\",\"radialaxis\":{\"gridcolor\":\"white\",\"linecolor\":\"white\",\"ticks\":\"\"}},\"scene\":{\"xaxis\":{\"backgroundcolor\":\"#E5ECF6\",\"gridcolor\":\"white\",\"gridwidth\":2,\"linecolor\":\"white\",\"showbackground\":true,\"ticks\":\"\",\"zerolinecolor\":\"white\"},\"yaxis\":{\"backgroundcolor\":\"#E5ECF6\",\"gridcolor\":\"white\",\"gridwidth\":2,\"linecolor\":\"white\",\"showbackground\":true,\"ticks\":\"\",\"zerolinecolor\":\"white\"},\"zaxis\":{\"backgroundcolor\":\"#E5ECF6\",\"gridcolor\":\"white\",\"gridwidth\":2,\"linecolor\":\"white\",\"showbackground\":true,\"ticks\":\"\",\"zerolinecolor\":\"white\"}},\"shapedefaults\":{\"line\":{\"color\":\"#2a3f5f\"}},\"ternary\":{\"aaxis\":{\"gridcolor\":\"white\",\"linecolor\":\"white\",\"ticks\":\"\"},\"baxis\":{\"gridcolor\":\"white\",\"linecolor\":\"white\",\"ticks\":\"\"},\"bgcolor\":\"#E5ECF6\",\"caxis\":{\"gridcolor\":\"white\",\"linecolor\":\"white\",\"ticks\":\"\"}},\"title\":{\"x\":0.05},\"xaxis\":{\"automargin\":true,\"gridcolor\":\"white\",\"linecolor\":\"white\",\"ticks\":\"\",\"title\":{\"standoff\":15},\"zerolinecolor\":\"white\",\"zerolinewidth\":2},\"yaxis\":{\"automargin\":true,\"gridcolor\":\"white\",\"linecolor\":\"white\",\"ticks\":\"\",\"title\":{\"standoff\":15},\"zerolinecolor\":\"white\",\"zerolinewidth\":2}}},\"title\":{\"font\":{\"color\":\"rgb(1,21,51)\",\"size\":30}},\"width\":500,\"xaxis\":{\"range\":[-4.5,4.5],\"showgrid\":true,\"title\":{\"font\":{\"color\":\"rgb(1,21,51)\",\"family\":\"latex\",\"size\":30},\"text\":\"$\\\\large{x}$\"}},\"yaxis\":{\"range\":[-8.5,8.5],\"showgrid\":true,\"title\":{\"font\":{\"color\":\"rgb(1,21,51)\",\"family\":\"latex\",\"size\":30},\"text\":\"$\\\\large{y}$\"}}},                        {\"responsive\": true}                    ).then(function(){\n",
              "                            \n",
              "var gd = document.getElementById('26983533-1897-4c6a-a954-9a5e3f9bbda4');\n",
              "var x = new MutationObserver(function (mutations, observer) {{\n",
              "        var display = window.getComputedStyle(gd).display;\n",
              "        if (!display || display === 'none') {{\n",
              "            console.log([gd, 'removed!']);\n",
              "            Plotly.purge(gd);\n",
              "            observer.disconnect();\n",
              "        }}\n",
              "}});\n",
              "\n",
              "// Listen for the removal of the full notebook cells\n",
              "var notebookContainer = gd.closest('#notebook-container');\n",
              "if (notebookContainer) {{\n",
              "    x.observe(notebookContainer, {childList: true});\n",
              "}}\n",
              "\n",
              "// Listen for the clearing of the current output cell\n",
              "var outputEl = gd.closest('.output');\n",
              "if (outputEl) {{\n",
              "    x.observe(outputEl, {childList: true});\n",
              "}}\n",
              "\n",
              "                        })                };                            </script>        </div>\n",
              "</body>\n",
              "</html>"
            ]
          },
          "metadata": {}
        }
      ]
    },
    {
      "cell_type": "markdown",
      "metadata": {
        "id": "XYKC4ndqccmJ"
      },
      "source": [
        "#**VECTOR UNITARIO Y VERSOR**\n",
        "\n",
        "Si $\\vec{V} \\in V_n$ es un vector tal que $\\,|\\vert \\vec{V} \\,|\\vert = 1$ entonces el $\\vec{V}$ recibe el nombre de **vector unitario** y se nota con acento circunflejo como $\\hat{V}$.\n",
        "\n",
        "\n",
        "El vector unitario $\\hat{V}$ o $\\vec{U}_V$ asociado al vector $\\vec{V}$ y que posee la misma dirección y sentido del vector $\\vec{V}$  se llama **versor** asociado a  $\\vec{V}$, la operación que permite encontarlo es:\n",
        "\n",
        "$$\\hat{V} = \\dfrac{1}{\\,|\\vert \\vec{V} \\,|\\vert}\\vec{V}$$\n",
        "\n",
        "##**Ejemplo 1:**\n",
        "\n",
        "Hallar el vector unitario  $\\vec{U}_V$ asociado al vector $\\vec{V}= (4,3)$ y verifica tu resultado encontrando $\\,|\\vert \\vec{U}_V \\,|\\vert$ y realizando la grafica de $\\vec{U}_V$ y  $\\vec{V}$ en el mismo plano.\n",
        "\n",
        "\n",
        "\n",
        "\n"
      ]
    },
    {
      "cell_type": "code",
      "metadata": {
        "colab": {
          "base_uri": "https://localhost:8080/",
          "height": 58
        },
        "id": "WBzyJ7yEtBq0",
        "outputId": "6a4612c8-4a44-4594-fb6a-d92698bdcd3e"
      },
      "source": [
        "V = Matrix([4,3])\n",
        "U_v = (1/(V.norm()))*V\n",
        "U_v"
      ],
      "execution_count": null,
      "outputs": [
        {
          "output_type": "execute_result",
          "data": {
            "text/latex": "$\\displaystyle \\left[\\begin{matrix}\\frac{4}{5}\\\\\\frac{3}{5}\\end{matrix}\\right]$",
            "text/plain": [
              "Matrix([\n",
              "[4/5],\n",
              "[3/5]])"
            ]
          },
          "metadata": {
            "tags": []
          },
          "execution_count": 45
        }
      ]
    },
    {
      "cell_type": "code",
      "metadata": {
        "colab": {
          "base_uri": "https://localhost:8080/",
          "height": 37
        },
        "id": "SvOUbteO-qFt",
        "outputId": "3cc7f59e-9f68-47ff-8d10-c485d9bcabc2"
      },
      "source": [
        "U_v.norm()"
      ],
      "execution_count": null,
      "outputs": [
        {
          "output_type": "execute_result",
          "data": {
            "text/latex": "$\\displaystyle 1$",
            "text/plain": [
              "1"
            ]
          },
          "metadata": {
            "tags": []
          },
          "execution_count": 47
        }
      ]
    },
    {
      "cell_type": "code",
      "metadata": {
        "colab": {
          "base_uri": "https://localhost:8080/",
          "height": 497
        },
        "id": "Npv6MtYe99PW",
        "outputId": "f1aadfbe-792e-4c3d-aa5b-7e8d29f1553f"
      },
      "source": [
        "plotvectors2D(V,U_v)"
      ],
      "execution_count": null,
      "outputs": [
        {
          "output_type": "display_data",
          "data": {
            "text/html": [
              "<html>\n",
              "<head><meta charset=\"utf-8\" /></head>\n",
              "<body>\n",
              "    <div>\n",
              "            <script src=\"https://cdnjs.cloudflare.com/ajax/libs/mathjax/2.7.5/MathJax.js?config=TeX-AMS-MML_SVG\"></script><script type=\"text/javascript\">if (window.MathJax) {MathJax.Hub.Config({SVG: {font: \"STIX-Web\"}});}</script>\n",
              "                <script type=\"text/javascript\">window.PlotlyConfig = {MathJaxConfig: 'local'};</script>\n",
              "        <script src=\"https://cdn.plot.ly/plotly-latest.min.js\"></script>    \n",
              "            <div id=\"6ceda0a1-9a6c-4f06-8729-e96671e3c660\" class=\"plotly-graph-div\" style=\"height:480px; width:500px;\"></div>\n",
              "            <script type=\"text/javascript\">\n",
              "                \n",
              "                    window.PLOTLYENV=window.PLOTLYENV || {};\n",
              "                    \n",
              "                if (document.getElementById(\"6ceda0a1-9a6c-4f06-8729-e96671e3c660\")) {\n",
              "                    Plotly.newPlot(\n",
              "                        '6ceda0a1-9a6c-4f06-8729-e96671e3c660',\n",
              "                        [{\"marker\": {\"color\": \"rgb(203,70,96)\", \"size\": 8}, \"mode\": \"lines\", \"name\": \"vector 1\", \"showlegend\": true, \"type\": \"scatter\", \"x\": [0, 4.0], \"y\": [0, 3.0]}, {\"marker\": {\"color\": \"rgb(189,136,153)\", \"size\": 8}, \"mode\": \"lines\", \"name\": \"vector 2\", \"showlegend\": true, \"type\": \"scatter\", \"x\": [0, 0.8], \"y\": [0, 0.6]}, {\"marker\": {\"color\": \"#2a3f5f\", \"size\": 9}, \"mode\": \"markers\", \"name\": \"origen\", \"opacity\": 1, \"showlegend\": true, \"type\": \"scatter\", \"x\": [0], \"y\": [0]}],\n",
              "                        {\"annotations\": [{\"arrowcolor\": \"rgb(203,70,96)\", \"arrowhead\": 2, \"arrowsize\": 1.5, \"arrowwidth\": 2.3, \"ax\": 0.0, \"axref\": \"x\", \"ay\": 0.0, \"ayref\": \"y\", \"showarrow\": true, \"x\": 4.0, \"xref\": \"x\", \"y\": 3.0, \"yref\": \"y\"}, {\"arrowcolor\": \"rgb(189,136,153)\", \"arrowhead\": 2, \"arrowsize\": 1.5, \"arrowwidth\": 2.3, \"ax\": 0.0, \"axref\": \"x\", \"ay\": 0.0, \"ayref\": \"y\", \"showarrow\": true, \"x\": 0.8, \"xref\": \"x\", \"y\": 0.6, \"yref\": \"y\"}, {\"arrowcolor\": \"#2a3f5f\", \"arrowhead\": 2, \"arrowwidth\": 1.5, \"ax\": -0.54, \"axref\": \"x\", \"ay\": 0, \"ayref\": \"y\", \"x\": 4.5, \"xref\": \"x\", \"y\": 0, \"yref\": \"y\"}, {\"arrowcolor\": \"#2a3f5f\", \"arrowhead\": 2, \"arrowwidth\": 1.5, \"ax\": 0, \"axref\": \"x\", \"ay\": -0.54, \"ayref\": \"y\", \"x\": 0, \"xref\": \"x\", \"y\": 3.5, \"yref\": \"y\"}, {\"arrowhead\": 1, \"showarrow\": false, \"text\": \"$x$\", \"x\": 4.5, \"y\": -0.2}, {\"arrowhead\": 1, \"showarrow\": false, \"text\": \"$y$\", \"x\": -0.2, \"y\": 3.5}], \"font\": {\"color\": \"black\", \"family\": \"latex\", \"size\": 20}, \"height\": 480, \"legend\": {\"itemdoubleclick\": \"toggle\", \"orientation\": \"h\", \"x\": 1, \"xanchor\": \"right\", \"y\": 1.02, \"yanchor\": \"bottom\"}, \"showlegend\": true, \"template\": {\"data\": {\"bar\": [{\"error_x\": {\"color\": \"#2a3f5f\"}, \"error_y\": {\"color\": \"#2a3f5f\"}, \"marker\": {\"line\": {\"color\": \"#E5ECF6\", \"width\": 0.5}}, \"type\": \"bar\"}], \"barpolar\": [{\"marker\": {\"line\": {\"color\": \"#E5ECF6\", \"width\": 0.5}}, \"type\": \"barpolar\"}], \"carpet\": [{\"aaxis\": {\"endlinecolor\": \"#2a3f5f\", \"gridcolor\": \"white\", \"linecolor\": \"white\", \"minorgridcolor\": \"white\", \"startlinecolor\": \"#2a3f5f\"}, \"baxis\": {\"endlinecolor\": \"#2a3f5f\", \"gridcolor\": \"white\", \"linecolor\": \"white\", \"minorgridcolor\": \"white\", \"startlinecolor\": \"#2a3f5f\"}, \"type\": \"carpet\"}], \"choropleth\": [{\"colorbar\": {\"outlinewidth\": 0, \"ticks\": \"\"}, \"type\": \"choropleth\"}], \"contour\": [{\"colorbar\": {\"outlinewidth\": 0, \"ticks\": \"\"}, \"colorscale\": [[0.0, \"#0d0887\"], [0.1111111111111111, \"#46039f\"], [0.2222222222222222, \"#7201a8\"], [0.3333333333333333, \"#9c179e\"], [0.4444444444444444, \"#bd3786\"], [0.5555555555555556, \"#d8576b\"], [0.6666666666666666, \"#ed7953\"], [0.7777777777777778, \"#fb9f3a\"], [0.8888888888888888, \"#fdca26\"], [1.0, \"#f0f921\"]], \"type\": \"contour\"}], \"contourcarpet\": [{\"colorbar\": {\"outlinewidth\": 0, \"ticks\": \"\"}, \"type\": \"contourcarpet\"}], \"heatmap\": [{\"colorbar\": {\"outlinewidth\": 0, \"ticks\": \"\"}, \"colorscale\": [[0.0, \"#0d0887\"], [0.1111111111111111, \"#46039f\"], [0.2222222222222222, \"#7201a8\"], [0.3333333333333333, \"#9c179e\"], [0.4444444444444444, \"#bd3786\"], [0.5555555555555556, \"#d8576b\"], [0.6666666666666666, \"#ed7953\"], [0.7777777777777778, \"#fb9f3a\"], [0.8888888888888888, \"#fdca26\"], [1.0, \"#f0f921\"]], \"type\": \"heatmap\"}], \"heatmapgl\": [{\"colorbar\": {\"outlinewidth\": 0, \"ticks\": \"\"}, \"colorscale\": [[0.0, \"#0d0887\"], [0.1111111111111111, \"#46039f\"], [0.2222222222222222, \"#7201a8\"], [0.3333333333333333, \"#9c179e\"], [0.4444444444444444, \"#bd3786\"], [0.5555555555555556, \"#d8576b\"], [0.6666666666666666, \"#ed7953\"], [0.7777777777777778, \"#fb9f3a\"], [0.8888888888888888, \"#fdca26\"], [1.0, \"#f0f921\"]], \"type\": \"heatmapgl\"}], \"histogram\": [{\"marker\": {\"colorbar\": {\"outlinewidth\": 0, \"ticks\": \"\"}}, \"type\": \"histogram\"}], \"histogram2d\": [{\"colorbar\": {\"outlinewidth\": 0, \"ticks\": \"\"}, \"colorscale\": [[0.0, \"#0d0887\"], [0.1111111111111111, \"#46039f\"], [0.2222222222222222, \"#7201a8\"], [0.3333333333333333, \"#9c179e\"], [0.4444444444444444, \"#bd3786\"], [0.5555555555555556, \"#d8576b\"], [0.6666666666666666, \"#ed7953\"], [0.7777777777777778, \"#fb9f3a\"], [0.8888888888888888, \"#fdca26\"], [1.0, \"#f0f921\"]], \"type\": \"histogram2d\"}], \"histogram2dcontour\": [{\"colorbar\": {\"outlinewidth\": 0, \"ticks\": \"\"}, \"colorscale\": [[0.0, \"#0d0887\"], [0.1111111111111111, \"#46039f\"], [0.2222222222222222, \"#7201a8\"], [0.3333333333333333, \"#9c179e\"], [0.4444444444444444, \"#bd3786\"], [0.5555555555555556, \"#d8576b\"], [0.6666666666666666, \"#ed7953\"], [0.7777777777777778, \"#fb9f3a\"], [0.8888888888888888, \"#fdca26\"], [1.0, \"#f0f921\"]], \"type\": \"histogram2dcontour\"}], \"mesh3d\": [{\"colorbar\": {\"outlinewidth\": 0, \"ticks\": \"\"}, \"type\": \"mesh3d\"}], \"parcoords\": [{\"line\": {\"colorbar\": {\"outlinewidth\": 0, \"ticks\": \"\"}}, \"type\": \"parcoords\"}], \"pie\": [{\"automargin\": true, \"type\": \"pie\"}], \"scatter\": [{\"marker\": {\"colorbar\": {\"outlinewidth\": 0, \"ticks\": \"\"}}, \"type\": \"scatter\"}], \"scatter3d\": [{\"line\": {\"colorbar\": {\"outlinewidth\": 0, \"ticks\": \"\"}}, \"marker\": {\"colorbar\": {\"outlinewidth\": 0, \"ticks\": \"\"}}, \"type\": \"scatter3d\"}], \"scattercarpet\": [{\"marker\": {\"colorbar\": {\"outlinewidth\": 0, \"ticks\": \"\"}}, \"type\": \"scattercarpet\"}], \"scattergeo\": [{\"marker\": {\"colorbar\": {\"outlinewidth\": 0, \"ticks\": \"\"}}, \"type\": \"scattergeo\"}], \"scattergl\": [{\"marker\": {\"colorbar\": {\"outlinewidth\": 0, \"ticks\": \"\"}}, \"type\": \"scattergl\"}], \"scattermapbox\": [{\"marker\": {\"colorbar\": {\"outlinewidth\": 0, \"ticks\": \"\"}}, \"type\": \"scattermapbox\"}], \"scatterpolar\": [{\"marker\": {\"colorbar\": {\"outlinewidth\": 0, \"ticks\": \"\"}}, \"type\": \"scatterpolar\"}], \"scatterpolargl\": [{\"marker\": {\"colorbar\": {\"outlinewidth\": 0, \"ticks\": \"\"}}, \"type\": \"scatterpolargl\"}], \"scatterternary\": [{\"marker\": {\"colorbar\": {\"outlinewidth\": 0, \"ticks\": \"\"}}, \"type\": \"scatterternary\"}], \"surface\": [{\"colorbar\": {\"outlinewidth\": 0, \"ticks\": \"\"}, \"colorscale\": [[0.0, \"#0d0887\"], [0.1111111111111111, \"#46039f\"], [0.2222222222222222, \"#7201a8\"], [0.3333333333333333, \"#9c179e\"], [0.4444444444444444, \"#bd3786\"], [0.5555555555555556, \"#d8576b\"], [0.6666666666666666, \"#ed7953\"], [0.7777777777777778, \"#fb9f3a\"], [0.8888888888888888, \"#fdca26\"], [1.0, \"#f0f921\"]], \"type\": \"surface\"}], \"table\": [{\"cells\": {\"fill\": {\"color\": \"#EBF0F8\"}, \"line\": {\"color\": \"white\"}}, \"header\": {\"fill\": {\"color\": \"#C8D4E3\"}, \"line\": {\"color\": \"white\"}}, \"type\": \"table\"}]}, \"layout\": {\"annotationdefaults\": {\"arrowcolor\": \"#2a3f5f\", \"arrowhead\": 0, \"arrowwidth\": 1}, \"coloraxis\": {\"colorbar\": {\"outlinewidth\": 0, \"ticks\": \"\"}}, \"colorscale\": {\"diverging\": [[0, \"#8e0152\"], [0.1, \"#c51b7d\"], [0.2, \"#de77ae\"], [0.3, \"#f1b6da\"], [0.4, \"#fde0ef\"], [0.5, \"#f7f7f7\"], [0.6, \"#e6f5d0\"], [0.7, \"#b8e186\"], [0.8, \"#7fbc41\"], [0.9, \"#4d9221\"], [1, \"#276419\"]], \"sequential\": [[0.0, \"#0d0887\"], [0.1111111111111111, \"#46039f\"], [0.2222222222222222, \"#7201a8\"], [0.3333333333333333, \"#9c179e\"], [0.4444444444444444, \"#bd3786\"], [0.5555555555555556, \"#d8576b\"], [0.6666666666666666, \"#ed7953\"], [0.7777777777777778, \"#fb9f3a\"], [0.8888888888888888, \"#fdca26\"], [1.0, \"#f0f921\"]], \"sequentialminus\": [[0.0, \"#0d0887\"], [0.1111111111111111, \"#46039f\"], [0.2222222222222222, \"#7201a8\"], [0.3333333333333333, \"#9c179e\"], [0.4444444444444444, \"#bd3786\"], [0.5555555555555556, \"#d8576b\"], [0.6666666666666666, \"#ed7953\"], [0.7777777777777778, \"#fb9f3a\"], [0.8888888888888888, \"#fdca26\"], [1.0, \"#f0f921\"]]}, \"colorway\": [\"#636efa\", \"#EF553B\", \"#00cc96\", \"#ab63fa\", \"#FFA15A\", \"#19d3f3\", \"#FF6692\", \"#B6E880\", \"#FF97FF\", \"#FECB52\"], \"font\": {\"color\": \"#2a3f5f\"}, \"geo\": {\"bgcolor\": \"white\", \"lakecolor\": \"white\", \"landcolor\": \"#E5ECF6\", \"showlakes\": true, \"showland\": true, \"subunitcolor\": \"white\"}, \"hoverlabel\": {\"align\": \"left\"}, \"hovermode\": \"closest\", \"mapbox\": {\"style\": \"light\"}, \"paper_bgcolor\": \"white\", \"plot_bgcolor\": \"#E5ECF6\", \"polar\": {\"angularaxis\": {\"gridcolor\": \"white\", \"linecolor\": \"white\", \"ticks\": \"\"}, \"bgcolor\": \"#E5ECF6\", \"radialaxis\": {\"gridcolor\": \"white\", \"linecolor\": \"white\", \"ticks\": \"\"}}, \"scene\": {\"xaxis\": {\"backgroundcolor\": \"#E5ECF6\", \"gridcolor\": \"white\", \"gridwidth\": 2, \"linecolor\": \"white\", \"showbackground\": true, \"ticks\": \"\", \"zerolinecolor\": \"white\"}, \"yaxis\": {\"backgroundcolor\": \"#E5ECF6\", \"gridcolor\": \"white\", \"gridwidth\": 2, \"linecolor\": \"white\", \"showbackground\": true, \"ticks\": \"\", \"zerolinecolor\": \"white\"}, \"zaxis\": {\"backgroundcolor\": \"#E5ECF6\", \"gridcolor\": \"white\", \"gridwidth\": 2, \"linecolor\": \"white\", \"showbackground\": true, \"ticks\": \"\", \"zerolinecolor\": \"white\"}}, \"shapedefaults\": {\"line\": {\"color\": \"#2a3f5f\"}}, \"ternary\": {\"aaxis\": {\"gridcolor\": \"white\", \"linecolor\": \"white\", \"ticks\": \"\"}, \"baxis\": {\"gridcolor\": \"white\", \"linecolor\": \"white\", \"ticks\": \"\"}, \"bgcolor\": \"#E5ECF6\", \"caxis\": {\"gridcolor\": \"white\", \"linecolor\": \"white\", \"ticks\": \"\"}}, \"title\": {\"x\": 0.05}, \"xaxis\": {\"automargin\": true, \"gridcolor\": \"white\", \"linecolor\": \"white\", \"ticks\": \"\", \"title\": {\"standoff\": 15}, \"zerolinecolor\": \"white\", \"zerolinewidth\": 2}, \"yaxis\": {\"automargin\": true, \"gridcolor\": \"white\", \"linecolor\": \"white\", \"ticks\": \"\", \"title\": {\"standoff\": 15}, \"zerolinecolor\": \"white\", \"zerolinewidth\": 2}}}, \"title\": {\"font\": {\"color\": \"rgb(1,21,51)\", \"size\": 30}}, \"width\": 500, \"xaxis\": {\"range\": [-0.5, 4.5], \"showgrid\": true, \"title\": {\"font\": {\"color\": \"rgb(1,21,51)\", \"family\": \"latex\", \"size\": 30}, \"text\": \"$\\\\large{x}$\"}}, \"yaxis\": {\"range\": [-0.5, 3.5], \"showgrid\": true, \"title\": {\"font\": {\"color\": \"rgb(1,21,51)\", \"family\": \"latex\", \"size\": 30}, \"text\": \"$\\\\large{y}$\"}}},\n",
              "                        {\"responsive\": true}\n",
              "                    ).then(function(){\n",
              "                            \n",
              "var gd = document.getElementById('6ceda0a1-9a6c-4f06-8729-e96671e3c660');\n",
              "var x = new MutationObserver(function (mutations, observer) {{\n",
              "        var display = window.getComputedStyle(gd).display;\n",
              "        if (!display || display === 'none') {{\n",
              "            console.log([gd, 'removed!']);\n",
              "            Plotly.purge(gd);\n",
              "            observer.disconnect();\n",
              "        }}\n",
              "}});\n",
              "\n",
              "// Listen for the removal of the full notebook cells\n",
              "var notebookContainer = gd.closest('#notebook-container');\n",
              "if (notebookContainer) {{\n",
              "    x.observe(notebookContainer, {childList: true});\n",
              "}}\n",
              "\n",
              "// Listen for the clearing of the current output cell\n",
              "var outputEl = gd.closest('.output');\n",
              "if (outputEl) {{\n",
              "    x.observe(outputEl, {childList: true});\n",
              "}}\n",
              "\n",
              "                        })\n",
              "                };\n",
              "                \n",
              "            </script>\n",
              "        </div>\n",
              "</body>\n",
              "</html>"
            ]
          },
          "metadata": {
            "tags": []
          }
        }
      ]
    },
    {
      "cell_type": "markdown",
      "metadata": {
        "id": "kRUOLYNz_Mz7"
      },
      "source": [
        "<p><height=\"45px\" src=\"<a href=\"https://ibb.co/pZYMC0T\"><img src=\"https://i.ibb.co/ZL1WsdZ/poll.png\" align=\"left\" alt=\"\" width=\"4%\" height=\"5%\"></a><p> <H1><strong>&nbsp;Actividad de práctica</strong>\n",
        "\n",
        "Encuentra un vector $\\vec{A}$ tal que $\\,|\\vert \\vec{A} \\,|\\vert = 10$   y tenga la misma dirección y sentidol vector  $\\vec{V}= (4,3)$."
      ]
    },
    {
      "cell_type": "code",
      "metadata": {
        "id": "WvWUZkVH_K6m"
      },
      "source": [
        ""
      ],
      "execution_count": null,
      "outputs": []
    },
    {
      "cell_type": "markdown",
      "metadata": {
        "id": "PkcrBu9rByXW"
      },
      "source": [
        "<p><height=\"45px\" src=\"<a href=\"https://ibb.co/pZYMC0T\"><img src=\"https://i.ibb.co/ZL1WsdZ/poll.png\" align=\"left\" alt=\"\" width=\"4%\" height=\"5%\"></a><p> <H1><strong>&nbsp;Actividad de práctica</strong>\n",
        "\n",
        "Dado los escalares $a = 4$ y $b = 3$  encuentra un vector unitario $\\hat{\\imath}$ en la dirección del eje $x$ y hacia el sentido positivo, un vector unitario $\\hat{\\jmath}$ en la dirección del eje $y$ y hacia el sentido positivo, encuentra el vector $a\\hat{\\imath}$ y $b\\hat{\\jmath}$,  luego realiza la adición $a\\hat{\\imath} + b\\hat{\\imath}$ y compara este resultado con el $\\vec{V}=(a,b)$ y  realiza la grafica de los vectores $a\\hat{e}_1$, $b\\hat{e}_2$ y  $\\vec{V}$ en el mismo plano.¿Qué puedes concluir de lo anterior?"
      ]
    },
    {
      "cell_type": "code",
      "metadata": {
        "id": "E_kEScwDFru8"
      },
      "source": [
        "a = 4\n",
        "b = 3\n",
        "\n",
        "i = \n",
        "j =\n",
        "\n",
        "V = Matrix([4,3])\n"
      ],
      "execution_count": null,
      "outputs": []
    },
    {
      "cell_type": "markdown",
      "metadata": {
        "id": "3jv5O0ahiz10"
      },
      "source": [
        "#**PRODUCTO PUNTO O PRODUCTO ESCALAR**\n",
        "\n",
        "Sean $\\vec{A},\\vec{B}\\in V_n$ tal que $\\vec{A} = (A_1,A_2,\\cdots, A_n)$ y $\\vec{B} = (B_1,B_2,\\cdots, B_n)$ se define el **producto punto o producto escalar** como la suma de los productos de las correspondientes componentes de los vectores,\n",
        "<br/><br/>\n",
        "\n",
        "$$ \\vec{A}\\cdot \\vec{B} = A_1B_1+A_2B_2+A_3B_3+ \\cdots +A_nB_n$$\n",
        "\n",
        "\n",
        "\n",
        "##**Ejemplo:**\n",
        "\n",
        "Dados el vector $\\vec{A}= (5,3,-1)$  y $\\vec{B}= (-2,-1,6)$ encuentra el producto $\\vec{A}\\cdot \\vec{B}$ ."
      ]
    },
    {
      "cell_type": "code",
      "metadata": {
        "colab": {
          "base_uri": "https://localhost:8080/",
          "height": 37
        },
        "id": "AMXib_0WizVe",
        "outputId": "4382a0b0-7b0a-42eb-e2e4-b9af7ccd9b38"
      },
      "source": [
        "A = Matrix([5,3,-1])\n",
        "B = Matrix([-2,-1,6])\n",
        "\n",
        "A.dot(B) "
      ],
      "execution_count": null,
      "outputs": [
        {
          "output_type": "execute_result",
          "data": {
            "text/latex": "$\\displaystyle -19$",
            "text/plain": [
              "-19"
            ]
          },
          "metadata": {},
          "execution_count": 5
        }
      ]
    },
    {
      "cell_type": "markdown",
      "metadata": {
        "id": "MLCINxUaEQ6b"
      },
      "source": [
        "#**Propiedades producto escalar de vectores**\n",
        "\n",
        "Sean los vectores ${\\displaystyle \\vec{A},\\vec{B},\\vec{C}\\in V_n}$ y $k \\in \\mathbb{R}$, se cumplen las siguientes propiedades relacionadas con el producto escalar:\n",
        "\n",
        "|            PROPIEDAD           |       EXPLICACIÓN                      |\n",
        "|:------------------------------:|:--------------------------------------:|\n",
        "| Producto de un vector por si mismo                   |$$ \\vec{A} \\cdot \\vec{A} =\\,|\\vert \\vec{A} \\,|\\vert^{2}$$|\n",
        "| Conmutativa                     |   $$\\vec{A} \\cdot \\vec{B} = \\vec{B} \\cdot \\vec{A}$$                      |\n",
        "| Asociativa                      |      $$k(\\vec{A} \\cdot \\vec{C}) = (k\\vec{A})\\cdot \\vec{B} =\\vec{A}\\cdot(k\\vec{B})$$         | \n",
        "| Producto con el vector nulo  |             $$\\vec{A} \\cdot \\vec{0}=0$$                           |\n",
        "| Distributiva respecto a la suma de vectores  |     $$\\vec{A} \\cdot(\\vec{B}+\\vec{C}) = \\vec{A}\\cdot \\vec{B} +\\vec{A}\\cdot \\vec{C} $$                                  |\n"
      ]
    },
    {
      "cell_type": "markdown",
      "metadata": {
        "id": "WWBUHbs9uQFr"
      },
      "source": [
        "#**APLICACIONES PRODUCTO ESCALAR**\n",
        "\n",
        "#**Angulo entre vectores**\n",
        "\n",
        "Sean ${\\displaystyle \\vec{A},\\vec{B}\\in V_n}$ tal que $n = 1,2,3$ y admiten representación geométrica, se define $θ$  como el ángulo no negativo más pequeño entre $ \\vec{A}$  y $ \\vec{B}$, la expresión para calcular  $θ$ es:\n",
        "\n",
        "$$θ = cos^{-1}{\\left(\\dfrac{\\vec{A} \\cdot\\vec{B}}{\\,|\\vert \\vec{A} \\,|\\vert\\,|\\vert \\vec{B} \\,|\\vert}\\right)}$$ \\\\\n",
        "\n",
        "Si  $\\vec{A} \\cdot\\vec{B} > 0$ entonces $θ$ es un **ángulo agudo**, Si  $\\vec{A} \\cdot\\vec{B} < 0$ entonces $θ$ es un **ángulo obtuso**\n",
        "\n",
        "<center><img src=\"https://github.com/josorio398/ALGEBRA-LINEAL-CON-PYTHON/blob/master/im%C3%A1genes%20repositorio/angulovector.PNG?raw=true\"  height=\"250\" /> </center>\n",
        "\n",
        "##**Ejemplo:**\n",
        "\n",
        "Dados el vector $\\vec{A}= (2,1,-1)$  y $\\vec{B}= (1,-1,1)$ encuentra el ángulo determinado por los vectores $\\vec{A}$  y $\\vec{B}$ y realiza la gráfica de los dos vectores en el mismo espacio."
      ]
    },
    {
      "cell_type": "code",
      "metadata": {
        "id": "ZzSgm_ZJVX1h",
        "colab": {
          "base_uri": "https://localhost:8080/",
          "height": 47
        },
        "outputId": "a5a13cde-730a-48a3-d92c-7dd32627242f"
      },
      "source": [
        "A = Matrix([2,1,-1])\n",
        "B = Matrix([1,-1,1])\n",
        "\n",
        "angulo = acos(A.dot(B)/(A.norm()*B.norm()))\n",
        "angulo"
      ],
      "execution_count": 48,
      "outputs": [
        {
          "output_type": "execute_result",
          "data": {
            "text/plain": [
              "pi/2"
            ],
            "text/latex": "$\\displaystyle \\frac{\\pi}{2}$"
          },
          "metadata": {},
          "execution_count": 48
        }
      ]
    },
    {
      "cell_type": "code",
      "metadata": {
        "colab": {
          "base_uri": "https://localhost:8080/",
          "height": 497
        },
        "id": "4C69nqrpNb63",
        "outputId": "2714fc42-8e60-4a80-ed8c-05228f10c0e0"
      },
      "source": [
        "plotvectors3D(A,B)"
      ],
      "execution_count": 49,
      "outputs": [
        {
          "output_type": "display_data",
          "data": {
            "text/html": [
              "<html>\n",
              "<head><meta charset=\"utf-8\" /></head>\n",
              "<body>\n",
              "    <div>            <script src=\"https://cdnjs.cloudflare.com/ajax/libs/mathjax/2.7.5/MathJax.js?config=TeX-AMS-MML_SVG\"></script><script type=\"text/javascript\">if (window.MathJax) {MathJax.Hub.Config({SVG: {font: \"STIX-Web\"}});}</script>                <script type=\"text/javascript\">window.PlotlyConfig = {MathJaxConfig: 'local'};</script>\n",
              "        <script src=\"https://cdn.plot.ly/plotly-2.2.0.min.js\"></script>                <div id=\"abdf2040-0374-451c-8d36-878e59be0798\" class=\"plotly-graph-div\" style=\"height:480px; width:480px;\"></div>            <script type=\"text/javascript\">                                    window.PLOTLYENV=window.PLOTLYENV || {};                                    if (document.getElementById(\"abdf2040-0374-451c-8d36-878e59be0798\")) {                    Plotly.newPlot(                        \"abdf2040-0374-451c-8d36-878e59be0798\",                        [{\"line\":{\"color\":\"rgb(50,225,14)\",\"width\":7},\"marker\":{\"color\":\"rgb(50,225,14)\",\"size\":1},\"name\":\"vector 1\",\"type\":\"scatter3d\",\"x\":[0,2.0],\"y\":[0,1.0],\"z\":[0,-1.0]},{\"anchor\":\"cm\",\"colorbar\":{\"thickness\":20,\"ticklen\":4},\"colorscale\":[[0,\"rgb(50,225,14)\"],[1,\"rgb(50,225,14)\"]],\"name\":\"vector 1\",\"showscale\":false,\"sizemode\":\"absolute\",\"sizeref\":0.13333333333333333,\"type\":\"cone\",\"u\":[2.0],\"v\":[1.0],\"w\":[-1.0],\"x\":[2.0],\"y\":[1.0],\"z\":[-1.0]},{\"line\":{\"color\":\"rgb(42,254,213)\",\"width\":7},\"marker\":{\"color\":\"rgb(42,254,213)\",\"size\":1},\"name\":\"vector 2\",\"type\":\"scatter3d\",\"x\":[0,1.0],\"y\":[0,-1.0],\"z\":[0,1.0]},{\"anchor\":\"cm\",\"colorbar\":{\"thickness\":20,\"ticklen\":4},\"colorscale\":[[0,\"rgb(42,254,213)\"],[1,\"rgb(42,254,213)\"]],\"name\":\"vector 2\",\"showscale\":false,\"sizemode\":\"absolute\",\"sizeref\":0.13333333333333333,\"type\":\"cone\",\"u\":[1.0],\"v\":[-1.0],\"w\":[1.0],\"x\":[1.0],\"y\":[-1.0],\"z\":[1.0]},{\"marker\":{\"color\":\"#2a3f5f\",\"size\":5},\"mode\":\"markers\",\"name\":\"origen\",\"showlegend\":true,\"type\":\"scatter3d\",\"x\":[0],\"y\":[0],\"z\":[0]},{\"hoverinfo\":\"skip\",\"line\":{\"color\":\"#2a3f5f\",\"width\":3},\"marker\":{\"color\":\"#2a3f5f\",\"size\":1},\"name\":\"\",\"showlegend\":false,\"type\":\"scatter3d\",\"x\":[-0.13333333333333333,2.1333333333333333],\"y\":[0,0],\"z\":[0,0]},{\"anchor\":\"cm\",\"colorbar\":{\"thickness\":20,\"ticklen\":4},\"colorscale\":[[0,\"#2a3f5f\"],[1,\"#2a3f5f\"]],\"hoverinfo\":\"name\",\"name\":\"Eje x-positivo\",\"showscale\":false,\"sizemode\":\"absolute\",\"sizeref\":0.08,\"type\":\"cone\",\"u\":[2.1333333333333333],\"v\":[0],\"w\":[0],\"x\":[2.1333333333333333],\"y\":[0],\"z\":[0]},{\"hoverinfo\":\"skip\",\"line\":{\"color\":\"#2a3f5f\",\"width\":3},\"marker\":{\"color\":\"#2a3f5f\",\"size\":1},\"name\":\"\",\"showlegend\":false,\"type\":\"scatter3d\",\"x\":[0,0],\"y\":[-1.1333333333333333,1.1333333333333333],\"z\":[0,0]},{\"anchor\":\"cm\",\"colorbar\":{\"thickness\":20,\"ticklen\":4},\"colorscale\":[[0,\"#2a3f5f\"],[1,\"#2a3f5f\"]],\"hoverinfo\":\"name\",\"name\":\"Eje y-positivo \",\"showscale\":false,\"sizemode\":\"absolute\",\"sizeref\":0.08,\"type\":\"cone\",\"u\":[0],\"v\":[1.1333333333333333],\"w\":[0],\"x\":[0],\"y\":[1.1333333333333333],\"z\":[0]},{\"hoverinfo\":\"skip\",\"line\":{\"color\":\"#2a3f5f\",\"width\":3},\"marker\":{\"color\":\"#2a3f5f\",\"size\":1},\"name\":\"eje z-positivo\",\"showlegend\":false,\"type\":\"scatter3d\",\"x\":[0,0],\"y\":[0,0],\"z\":[-1.1333333333333333,1.1333333333333333]},{\"anchor\":\"cm\",\"colorbar\":{\"thickness\":20,\"ticklen\":4},\"colorscale\":[[0,\"#2a3f5f\"],[1,\"#2a3f5f\"]],\"hoverinfo\":\"name\",\"name\":\"Eje z-positivo\",\"showscale\":false,\"sizemode\":\"absolute\",\"sizeref\":0.08,\"type\":\"cone\",\"u\":[0],\"v\":[0],\"w\":[1.1333333333333333],\"x\":[0],\"y\":[0],\"z\":[1.1333333333333333]}],                        {\"height\":480,\"legend\":{\"orientation\":\"h\",\"x\":0.03,\"y\":1.3},\"margin\":{\"b\":0,\"l\":0,\"r\":0,\"t\":0},\"showlegend\":true,\"template\":{\"data\":{\"bar\":[{\"error_x\":{\"color\":\"#2a3f5f\"},\"error_y\":{\"color\":\"#2a3f5f\"},\"marker\":{\"line\":{\"color\":\"#E5ECF6\",\"width\":0.5},\"pattern\":{\"fillmode\":\"overlay\",\"size\":10,\"solidity\":0.2}},\"type\":\"bar\"}],\"barpolar\":[{\"marker\":{\"line\":{\"color\":\"#E5ECF6\",\"width\":0.5},\"pattern\":{\"fillmode\":\"overlay\",\"size\":10,\"solidity\":0.2}},\"type\":\"barpolar\"}],\"carpet\":[{\"aaxis\":{\"endlinecolor\":\"#2a3f5f\",\"gridcolor\":\"white\",\"linecolor\":\"white\",\"minorgridcolor\":\"white\",\"startlinecolor\":\"#2a3f5f\"},\"baxis\":{\"endlinecolor\":\"#2a3f5f\",\"gridcolor\":\"white\",\"linecolor\":\"white\",\"minorgridcolor\":\"white\",\"startlinecolor\":\"#2a3f5f\"},\"type\":\"carpet\"}],\"choropleth\":[{\"colorbar\":{\"outlinewidth\":0,\"ticks\":\"\"},\"type\":\"choropleth\"}],\"contour\":[{\"colorbar\":{\"outlinewidth\":0,\"ticks\":\"\"},\"colorscale\":[[0.0,\"#0d0887\"],[0.1111111111111111,\"#46039f\"],[0.2222222222222222,\"#7201a8\"],[0.3333333333333333,\"#9c179e\"],[0.4444444444444444,\"#bd3786\"],[0.5555555555555556,\"#d8576b\"],[0.6666666666666666,\"#ed7953\"],[0.7777777777777778,\"#fb9f3a\"],[0.8888888888888888,\"#fdca26\"],[1.0,\"#f0f921\"]],\"type\":\"contour\"}],\"contourcarpet\":[{\"colorbar\":{\"outlinewidth\":0,\"ticks\":\"\"},\"type\":\"contourcarpet\"}],\"heatmap\":[{\"colorbar\":{\"outlinewidth\":0,\"ticks\":\"\"},\"colorscale\":[[0.0,\"#0d0887\"],[0.1111111111111111,\"#46039f\"],[0.2222222222222222,\"#7201a8\"],[0.3333333333333333,\"#9c179e\"],[0.4444444444444444,\"#bd3786\"],[0.5555555555555556,\"#d8576b\"],[0.6666666666666666,\"#ed7953\"],[0.7777777777777778,\"#fb9f3a\"],[0.8888888888888888,\"#fdca26\"],[1.0,\"#f0f921\"]],\"type\":\"heatmap\"}],\"heatmapgl\":[{\"colorbar\":{\"outlinewidth\":0,\"ticks\":\"\"},\"colorscale\":[[0.0,\"#0d0887\"],[0.1111111111111111,\"#46039f\"],[0.2222222222222222,\"#7201a8\"],[0.3333333333333333,\"#9c179e\"],[0.4444444444444444,\"#bd3786\"],[0.5555555555555556,\"#d8576b\"],[0.6666666666666666,\"#ed7953\"],[0.7777777777777778,\"#fb9f3a\"],[0.8888888888888888,\"#fdca26\"],[1.0,\"#f0f921\"]],\"type\":\"heatmapgl\"}],\"histogram\":[{\"marker\":{\"pattern\":{\"fillmode\":\"overlay\",\"size\":10,\"solidity\":0.2}},\"type\":\"histogram\"}],\"histogram2d\":[{\"colorbar\":{\"outlinewidth\":0,\"ticks\":\"\"},\"colorscale\":[[0.0,\"#0d0887\"],[0.1111111111111111,\"#46039f\"],[0.2222222222222222,\"#7201a8\"],[0.3333333333333333,\"#9c179e\"],[0.4444444444444444,\"#bd3786\"],[0.5555555555555556,\"#d8576b\"],[0.6666666666666666,\"#ed7953\"],[0.7777777777777778,\"#fb9f3a\"],[0.8888888888888888,\"#fdca26\"],[1.0,\"#f0f921\"]],\"type\":\"histogram2d\"}],\"histogram2dcontour\":[{\"colorbar\":{\"outlinewidth\":0,\"ticks\":\"\"},\"colorscale\":[[0.0,\"#0d0887\"],[0.1111111111111111,\"#46039f\"],[0.2222222222222222,\"#7201a8\"],[0.3333333333333333,\"#9c179e\"],[0.4444444444444444,\"#bd3786\"],[0.5555555555555556,\"#d8576b\"],[0.6666666666666666,\"#ed7953\"],[0.7777777777777778,\"#fb9f3a\"],[0.8888888888888888,\"#fdca26\"],[1.0,\"#f0f921\"]],\"type\":\"histogram2dcontour\"}],\"mesh3d\":[{\"colorbar\":{\"outlinewidth\":0,\"ticks\":\"\"},\"type\":\"mesh3d\"}],\"parcoords\":[{\"line\":{\"colorbar\":{\"outlinewidth\":0,\"ticks\":\"\"}},\"type\":\"parcoords\"}],\"pie\":[{\"automargin\":true,\"type\":\"pie\"}],\"scatter\":[{\"marker\":{\"colorbar\":{\"outlinewidth\":0,\"ticks\":\"\"}},\"type\":\"scatter\"}],\"scatter3d\":[{\"line\":{\"colorbar\":{\"outlinewidth\":0,\"ticks\":\"\"}},\"marker\":{\"colorbar\":{\"outlinewidth\":0,\"ticks\":\"\"}},\"type\":\"scatter3d\"}],\"scattercarpet\":[{\"marker\":{\"colorbar\":{\"outlinewidth\":0,\"ticks\":\"\"}},\"type\":\"scattercarpet\"}],\"scattergeo\":[{\"marker\":{\"colorbar\":{\"outlinewidth\":0,\"ticks\":\"\"}},\"type\":\"scattergeo\"}],\"scattergl\":[{\"marker\":{\"colorbar\":{\"outlinewidth\":0,\"ticks\":\"\"}},\"type\":\"scattergl\"}],\"scattermapbox\":[{\"marker\":{\"colorbar\":{\"outlinewidth\":0,\"ticks\":\"\"}},\"type\":\"scattermapbox\"}],\"scatterpolar\":[{\"marker\":{\"colorbar\":{\"outlinewidth\":0,\"ticks\":\"\"}},\"type\":\"scatterpolar\"}],\"scatterpolargl\":[{\"marker\":{\"colorbar\":{\"outlinewidth\":0,\"ticks\":\"\"}},\"type\":\"scatterpolargl\"}],\"scatterternary\":[{\"marker\":{\"colorbar\":{\"outlinewidth\":0,\"ticks\":\"\"}},\"type\":\"scatterternary\"}],\"surface\":[{\"colorbar\":{\"outlinewidth\":0,\"ticks\":\"\"},\"colorscale\":[[0.0,\"#0d0887\"],[0.1111111111111111,\"#46039f\"],[0.2222222222222222,\"#7201a8\"],[0.3333333333333333,\"#9c179e\"],[0.4444444444444444,\"#bd3786\"],[0.5555555555555556,\"#d8576b\"],[0.6666666666666666,\"#ed7953\"],[0.7777777777777778,\"#fb9f3a\"],[0.8888888888888888,\"#fdca26\"],[1.0,\"#f0f921\"]],\"type\":\"surface\"}],\"table\":[{\"cells\":{\"fill\":{\"color\":\"#EBF0F8\"},\"line\":{\"color\":\"white\"}},\"header\":{\"fill\":{\"color\":\"#C8D4E3\"},\"line\":{\"color\":\"white\"}},\"type\":\"table\"}]},\"layout\":{\"annotationdefaults\":{\"arrowcolor\":\"#2a3f5f\",\"arrowhead\":0,\"arrowwidth\":1},\"autotypenumbers\":\"strict\",\"coloraxis\":{\"colorbar\":{\"outlinewidth\":0,\"ticks\":\"\"}},\"colorscale\":{\"diverging\":[[0,\"#8e0152\"],[0.1,\"#c51b7d\"],[0.2,\"#de77ae\"],[0.3,\"#f1b6da\"],[0.4,\"#fde0ef\"],[0.5,\"#f7f7f7\"],[0.6,\"#e6f5d0\"],[0.7,\"#b8e186\"],[0.8,\"#7fbc41\"],[0.9,\"#4d9221\"],[1,\"#276419\"]],\"sequential\":[[0.0,\"#0d0887\"],[0.1111111111111111,\"#46039f\"],[0.2222222222222222,\"#7201a8\"],[0.3333333333333333,\"#9c179e\"],[0.4444444444444444,\"#bd3786\"],[0.5555555555555556,\"#d8576b\"],[0.6666666666666666,\"#ed7953\"],[0.7777777777777778,\"#fb9f3a\"],[0.8888888888888888,\"#fdca26\"],[1.0,\"#f0f921\"]],\"sequentialminus\":[[0.0,\"#0d0887\"],[0.1111111111111111,\"#46039f\"],[0.2222222222222222,\"#7201a8\"],[0.3333333333333333,\"#9c179e\"],[0.4444444444444444,\"#bd3786\"],[0.5555555555555556,\"#d8576b\"],[0.6666666666666666,\"#ed7953\"],[0.7777777777777778,\"#fb9f3a\"],[0.8888888888888888,\"#fdca26\"],[1.0,\"#f0f921\"]]},\"colorway\":[\"#636efa\",\"#EF553B\",\"#00cc96\",\"#ab63fa\",\"#FFA15A\",\"#19d3f3\",\"#FF6692\",\"#B6E880\",\"#FF97FF\",\"#FECB52\"],\"font\":{\"color\":\"#2a3f5f\"},\"geo\":{\"bgcolor\":\"white\",\"lakecolor\":\"white\",\"landcolor\":\"#E5ECF6\",\"showlakes\":true,\"showland\":true,\"subunitcolor\":\"white\"},\"hoverlabel\":{\"align\":\"left\"},\"hovermode\":\"closest\",\"mapbox\":{\"style\":\"light\"},\"paper_bgcolor\":\"white\",\"plot_bgcolor\":\"#E5ECF6\",\"polar\":{\"angularaxis\":{\"gridcolor\":\"white\",\"linecolor\":\"white\",\"ticks\":\"\"},\"bgcolor\":\"#E5ECF6\",\"radialaxis\":{\"gridcolor\":\"white\",\"linecolor\":\"white\",\"ticks\":\"\"}},\"scene\":{\"xaxis\":{\"backgroundcolor\":\"#E5ECF6\",\"gridcolor\":\"white\",\"gridwidth\":2,\"linecolor\":\"white\",\"showbackground\":true,\"ticks\":\"\",\"zerolinecolor\":\"white\"},\"yaxis\":{\"backgroundcolor\":\"#E5ECF6\",\"gridcolor\":\"white\",\"gridwidth\":2,\"linecolor\":\"white\",\"showbackground\":true,\"ticks\":\"\",\"zerolinecolor\":\"white\"},\"zaxis\":{\"backgroundcolor\":\"#E5ECF6\",\"gridcolor\":\"white\",\"gridwidth\":2,\"linecolor\":\"white\",\"showbackground\":true,\"ticks\":\"\",\"zerolinecolor\":\"white\"}},\"shapedefaults\":{\"line\":{\"color\":\"#2a3f5f\"}},\"ternary\":{\"aaxis\":{\"gridcolor\":\"white\",\"linecolor\":\"white\",\"ticks\":\"\"},\"baxis\":{\"gridcolor\":\"white\",\"linecolor\":\"white\",\"ticks\":\"\"},\"bgcolor\":\"#E5ECF6\",\"caxis\":{\"gridcolor\":\"white\",\"linecolor\":\"white\",\"ticks\":\"\"}},\"title\":{\"x\":0.05},\"xaxis\":{\"automargin\":true,\"gridcolor\":\"white\",\"linecolor\":\"white\",\"ticks\":\"\",\"title\":{\"standoff\":15},\"zerolinecolor\":\"white\",\"zerolinewidth\":2},\"yaxis\":{\"automargin\":true,\"gridcolor\":\"white\",\"linecolor\":\"white\",\"ticks\":\"\",\"title\":{\"standoff\":15},\"zerolinecolor\":\"white\",\"zerolinewidth\":2}}},\"title\":{\"font\":{\"color\":\"rgb(1,21,51)\",\"size\":50}},\"width\":480},                        {\"responsive\": true}                    ).then(function(){\n",
              "                            \n",
              "var gd = document.getElementById('abdf2040-0374-451c-8d36-878e59be0798');\n",
              "var x = new MutationObserver(function (mutations, observer) {{\n",
              "        var display = window.getComputedStyle(gd).display;\n",
              "        if (!display || display === 'none') {{\n",
              "            console.log([gd, 'removed!']);\n",
              "            Plotly.purge(gd);\n",
              "            observer.disconnect();\n",
              "        }}\n",
              "}});\n",
              "\n",
              "// Listen for the removal of the full notebook cells\n",
              "var notebookContainer = gd.closest('#notebook-container');\n",
              "if (notebookContainer) {{\n",
              "    x.observe(notebookContainer, {childList: true});\n",
              "}}\n",
              "\n",
              "// Listen for the clearing of the current output cell\n",
              "var outputEl = gd.closest('.output');\n",
              "if (outputEl) {{\n",
              "    x.observe(outputEl, {childList: true});\n",
              "}}\n",
              "\n",
              "                        })                };                            </script>        </div>\n",
              "</body>\n",
              "</html>"
            ]
          },
          "metadata": {}
        }
      ]
    },
    {
      "cell_type": "markdown",
      "metadata": {
        "id": "KM0gdgtTVesg"
      },
      "source": [
        "#**Vectores paralelos**\n",
        "\n",
        "Dos vectores ${\\displaystyle \\vec{A},\\vec{B}\\in V_n}$ donde $n =1,2 \\ \\text{o}\\ 3$ son paralelos, si tienen la misma dirección o el ángulo que forman es de 0 radianes (0 grados) o de $π$ radianes (180 grados).\n",
        "\n",
        "Dos vectores ${\\displaystyle \\vec{A},\\vec{B}\\in V_n}$ son paralelos si exite una constante $k$ tal que  $\\vec{B} =k \\vec{A} $  o  $ \\vec{A} =k \\vec{B}$.\n",
        "\n",
        "<center><img src=\"https://github.com/josorio398/ALGEBRA-LINEAL-CON-PYTHON/blob/master/im%C3%A1genes%20repositorio/vectores%20paralelos.PNG?raw=true\"  height=\"250\" /> </center>\n",
        "\n",
        "##**Ejemplo:**\n",
        "\n",
        "Dados el vector $\\vec{A}= (1,-2,3)$  y $\\vec{B}= (-2,4,-6)$ determina si los vectores son paralelos y si lo son encuentra el valor de una constante $k$ tal que $\\vec{A} =k \\vec{B}$, realiza la gráfica de los vectores en el mismo espacio."
      ]
    },
    {
      "cell_type": "code",
      "metadata": {
        "id": "MlepLkuN6VMx",
        "colab": {
          "base_uri": "https://localhost:8080/",
          "height": 39
        },
        "outputId": "1f6e7b19-1f88-43fa-83a5-141387795bdc"
      },
      "source": [
        "A = Matrix([1,-2,3])\n",
        "B = Matrix([-2,4,-6])\n",
        "\n",
        "angulo = acos(A.dot(B)/(A.norm()*B.norm()))\n",
        "angulo"
      ],
      "execution_count": 50,
      "outputs": [
        {
          "output_type": "execute_result",
          "data": {
            "text/plain": [
              "pi"
            ],
            "text/latex": "$\\displaystyle \\pi$"
          },
          "metadata": {},
          "execution_count": 50
        }
      ]
    },
    {
      "cell_type": "code",
      "metadata": {
        "colab": {
          "base_uri": "https://localhost:8080/",
          "height": 497
        },
        "id": "v84YoP_UL28H",
        "outputId": "b7962158-8a1d-4d9b-97ab-e5ffd0aefd10"
      },
      "source": [
        "plotvectors3D(A,B)"
      ],
      "execution_count": 51,
      "outputs": [
        {
          "output_type": "display_data",
          "data": {
            "text/html": [
              "<html>\n",
              "<head><meta charset=\"utf-8\" /></head>\n",
              "<body>\n",
              "    <div>            <script src=\"https://cdnjs.cloudflare.com/ajax/libs/mathjax/2.7.5/MathJax.js?config=TeX-AMS-MML_SVG\"></script><script type=\"text/javascript\">if (window.MathJax) {MathJax.Hub.Config({SVG: {font: \"STIX-Web\"}});}</script>                <script type=\"text/javascript\">window.PlotlyConfig = {MathJaxConfig: 'local'};</script>\n",
              "        <script src=\"https://cdn.plot.ly/plotly-2.2.0.min.js\"></script>                <div id=\"c46c11b5-7e9a-4e31-b0c8-b5b512faf1e0\" class=\"plotly-graph-div\" style=\"height:480px; width:480px;\"></div>            <script type=\"text/javascript\">                                    window.PLOTLYENV=window.PLOTLYENV || {};                                    if (document.getElementById(\"c46c11b5-7e9a-4e31-b0c8-b5b512faf1e0\")) {                    Plotly.newPlot(                        \"c46c11b5-7e9a-4e31-b0c8-b5b512faf1e0\",                        [{\"line\":{\"color\":\"rgb(211,182,25)\",\"width\":7},\"marker\":{\"color\":\"rgb(211,182,25)\",\"size\":1},\"name\":\"vector 1\",\"type\":\"scatter3d\",\"x\":[0,1.0],\"y\":[0,-2.0],\"z\":[0,3.0]},{\"anchor\":\"cm\",\"colorbar\":{\"thickness\":20,\"ticklen\":4},\"colorscale\":[[0,\"rgb(211,182,25)\"],[1,\"rgb(211,182,25)\"]],\"name\":\"vector 1\",\"showscale\":false,\"sizemode\":\"absolute\",\"sizeref\":0.26666666666666666,\"type\":\"cone\",\"u\":[1.0],\"v\":[-2.0],\"w\":[3.0],\"x\":[1.0],\"y\":[-2.0],\"z\":[3.0]},{\"line\":{\"color\":\"rgb(234,15,77)\",\"width\":7},\"marker\":{\"color\":\"rgb(234,15,77)\",\"size\":1},\"name\":\"vector 2\",\"type\":\"scatter3d\",\"x\":[0,-2.0],\"y\":[0,4.0],\"z\":[0,-6.0]},{\"anchor\":\"cm\",\"colorbar\":{\"thickness\":20,\"ticklen\":4},\"colorscale\":[[0,\"rgb(234,15,77)\"],[1,\"rgb(234,15,77)\"]],\"name\":\"vector 2\",\"showscale\":false,\"sizemode\":\"absolute\",\"sizeref\":0.26666666666666666,\"type\":\"cone\",\"u\":[-2.0],\"v\":[4.0],\"w\":[-6.0],\"x\":[-2.0],\"y\":[4.0],\"z\":[-6.0]},{\"marker\":{\"color\":\"#2a3f5f\",\"size\":5},\"mode\":\"markers\",\"name\":\"origen\",\"showlegend\":true,\"type\":\"scatter3d\",\"x\":[0],\"y\":[0],\"z\":[0]},{\"hoverinfo\":\"skip\",\"line\":{\"color\":\"#2a3f5f\",\"width\":3},\"marker\":{\"color\":\"#2a3f5f\",\"size\":1},\"name\":\"\",\"showlegend\":false,\"type\":\"scatter3d\",\"x\":[-2.2666666666666666,1.2666666666666666],\"y\":[0,0],\"z\":[0,0]},{\"anchor\":\"cm\",\"colorbar\":{\"thickness\":20,\"ticklen\":4},\"colorscale\":[[0,\"#2a3f5f\"],[1,\"#2a3f5f\"]],\"hoverinfo\":\"name\",\"name\":\"Eje x-positivo\",\"showscale\":false,\"sizemode\":\"absolute\",\"sizeref\":0.16,\"type\":\"cone\",\"u\":[1.2666666666666666],\"v\":[0],\"w\":[0],\"x\":[1.2666666666666666],\"y\":[0],\"z\":[0]},{\"hoverinfo\":\"skip\",\"line\":{\"color\":\"#2a3f5f\",\"width\":3},\"marker\":{\"color\":\"#2a3f5f\",\"size\":1},\"name\":\"\",\"showlegend\":false,\"type\":\"scatter3d\",\"x\":[0,0],\"y\":[-2.2666666666666666,4.266666666666667],\"z\":[0,0]},{\"anchor\":\"cm\",\"colorbar\":{\"thickness\":20,\"ticklen\":4},\"colorscale\":[[0,\"#2a3f5f\"],[1,\"#2a3f5f\"]],\"hoverinfo\":\"name\",\"name\":\"Eje y-positivo \",\"showscale\":false,\"sizemode\":\"absolute\",\"sizeref\":0.16,\"type\":\"cone\",\"u\":[0],\"v\":[4.266666666666667],\"w\":[0],\"x\":[0],\"y\":[4.266666666666667],\"z\":[0]},{\"hoverinfo\":\"skip\",\"line\":{\"color\":\"#2a3f5f\",\"width\":3},\"marker\":{\"color\":\"#2a3f5f\",\"size\":1},\"name\":\"eje z-positivo\",\"showlegend\":false,\"type\":\"scatter3d\",\"x\":[0,0],\"y\":[0,0],\"z\":[-6.266666666666667,3.2666666666666666]},{\"anchor\":\"cm\",\"colorbar\":{\"thickness\":20,\"ticklen\":4},\"colorscale\":[[0,\"#2a3f5f\"],[1,\"#2a3f5f\"]],\"hoverinfo\":\"name\",\"name\":\"Eje z-positivo\",\"showscale\":false,\"sizemode\":\"absolute\",\"sizeref\":0.16,\"type\":\"cone\",\"u\":[0],\"v\":[0],\"w\":[3.2666666666666666],\"x\":[0],\"y\":[0],\"z\":[3.2666666666666666]}],                        {\"height\":480,\"legend\":{\"orientation\":\"h\",\"x\":0.03,\"y\":1.3},\"margin\":{\"b\":0,\"l\":0,\"r\":0,\"t\":0},\"showlegend\":true,\"template\":{\"data\":{\"bar\":[{\"error_x\":{\"color\":\"#2a3f5f\"},\"error_y\":{\"color\":\"#2a3f5f\"},\"marker\":{\"line\":{\"color\":\"#E5ECF6\",\"width\":0.5},\"pattern\":{\"fillmode\":\"overlay\",\"size\":10,\"solidity\":0.2}},\"type\":\"bar\"}],\"barpolar\":[{\"marker\":{\"line\":{\"color\":\"#E5ECF6\",\"width\":0.5},\"pattern\":{\"fillmode\":\"overlay\",\"size\":10,\"solidity\":0.2}},\"type\":\"barpolar\"}],\"carpet\":[{\"aaxis\":{\"endlinecolor\":\"#2a3f5f\",\"gridcolor\":\"white\",\"linecolor\":\"white\",\"minorgridcolor\":\"white\",\"startlinecolor\":\"#2a3f5f\"},\"baxis\":{\"endlinecolor\":\"#2a3f5f\",\"gridcolor\":\"white\",\"linecolor\":\"white\",\"minorgridcolor\":\"white\",\"startlinecolor\":\"#2a3f5f\"},\"type\":\"carpet\"}],\"choropleth\":[{\"colorbar\":{\"outlinewidth\":0,\"ticks\":\"\"},\"type\":\"choropleth\"}],\"contour\":[{\"colorbar\":{\"outlinewidth\":0,\"ticks\":\"\"},\"colorscale\":[[0.0,\"#0d0887\"],[0.1111111111111111,\"#46039f\"],[0.2222222222222222,\"#7201a8\"],[0.3333333333333333,\"#9c179e\"],[0.4444444444444444,\"#bd3786\"],[0.5555555555555556,\"#d8576b\"],[0.6666666666666666,\"#ed7953\"],[0.7777777777777778,\"#fb9f3a\"],[0.8888888888888888,\"#fdca26\"],[1.0,\"#f0f921\"]],\"type\":\"contour\"}],\"contourcarpet\":[{\"colorbar\":{\"outlinewidth\":0,\"ticks\":\"\"},\"type\":\"contourcarpet\"}],\"heatmap\":[{\"colorbar\":{\"outlinewidth\":0,\"ticks\":\"\"},\"colorscale\":[[0.0,\"#0d0887\"],[0.1111111111111111,\"#46039f\"],[0.2222222222222222,\"#7201a8\"],[0.3333333333333333,\"#9c179e\"],[0.4444444444444444,\"#bd3786\"],[0.5555555555555556,\"#d8576b\"],[0.6666666666666666,\"#ed7953\"],[0.7777777777777778,\"#fb9f3a\"],[0.8888888888888888,\"#fdca26\"],[1.0,\"#f0f921\"]],\"type\":\"heatmap\"}],\"heatmapgl\":[{\"colorbar\":{\"outlinewidth\":0,\"ticks\":\"\"},\"colorscale\":[[0.0,\"#0d0887\"],[0.1111111111111111,\"#46039f\"],[0.2222222222222222,\"#7201a8\"],[0.3333333333333333,\"#9c179e\"],[0.4444444444444444,\"#bd3786\"],[0.5555555555555556,\"#d8576b\"],[0.6666666666666666,\"#ed7953\"],[0.7777777777777778,\"#fb9f3a\"],[0.8888888888888888,\"#fdca26\"],[1.0,\"#f0f921\"]],\"type\":\"heatmapgl\"}],\"histogram\":[{\"marker\":{\"pattern\":{\"fillmode\":\"overlay\",\"size\":10,\"solidity\":0.2}},\"type\":\"histogram\"}],\"histogram2d\":[{\"colorbar\":{\"outlinewidth\":0,\"ticks\":\"\"},\"colorscale\":[[0.0,\"#0d0887\"],[0.1111111111111111,\"#46039f\"],[0.2222222222222222,\"#7201a8\"],[0.3333333333333333,\"#9c179e\"],[0.4444444444444444,\"#bd3786\"],[0.5555555555555556,\"#d8576b\"],[0.6666666666666666,\"#ed7953\"],[0.7777777777777778,\"#fb9f3a\"],[0.8888888888888888,\"#fdca26\"],[1.0,\"#f0f921\"]],\"type\":\"histogram2d\"}],\"histogram2dcontour\":[{\"colorbar\":{\"outlinewidth\":0,\"ticks\":\"\"},\"colorscale\":[[0.0,\"#0d0887\"],[0.1111111111111111,\"#46039f\"],[0.2222222222222222,\"#7201a8\"],[0.3333333333333333,\"#9c179e\"],[0.4444444444444444,\"#bd3786\"],[0.5555555555555556,\"#d8576b\"],[0.6666666666666666,\"#ed7953\"],[0.7777777777777778,\"#fb9f3a\"],[0.8888888888888888,\"#fdca26\"],[1.0,\"#f0f921\"]],\"type\":\"histogram2dcontour\"}],\"mesh3d\":[{\"colorbar\":{\"outlinewidth\":0,\"ticks\":\"\"},\"type\":\"mesh3d\"}],\"parcoords\":[{\"line\":{\"colorbar\":{\"outlinewidth\":0,\"ticks\":\"\"}},\"type\":\"parcoords\"}],\"pie\":[{\"automargin\":true,\"type\":\"pie\"}],\"scatter\":[{\"marker\":{\"colorbar\":{\"outlinewidth\":0,\"ticks\":\"\"}},\"type\":\"scatter\"}],\"scatter3d\":[{\"line\":{\"colorbar\":{\"outlinewidth\":0,\"ticks\":\"\"}},\"marker\":{\"colorbar\":{\"outlinewidth\":0,\"ticks\":\"\"}},\"type\":\"scatter3d\"}],\"scattercarpet\":[{\"marker\":{\"colorbar\":{\"outlinewidth\":0,\"ticks\":\"\"}},\"type\":\"scattercarpet\"}],\"scattergeo\":[{\"marker\":{\"colorbar\":{\"outlinewidth\":0,\"ticks\":\"\"}},\"type\":\"scattergeo\"}],\"scattergl\":[{\"marker\":{\"colorbar\":{\"outlinewidth\":0,\"ticks\":\"\"}},\"type\":\"scattergl\"}],\"scattermapbox\":[{\"marker\":{\"colorbar\":{\"outlinewidth\":0,\"ticks\":\"\"}},\"type\":\"scattermapbox\"}],\"scatterpolar\":[{\"marker\":{\"colorbar\":{\"outlinewidth\":0,\"ticks\":\"\"}},\"type\":\"scatterpolar\"}],\"scatterpolargl\":[{\"marker\":{\"colorbar\":{\"outlinewidth\":0,\"ticks\":\"\"}},\"type\":\"scatterpolargl\"}],\"scatterternary\":[{\"marker\":{\"colorbar\":{\"outlinewidth\":0,\"ticks\":\"\"}},\"type\":\"scatterternary\"}],\"surface\":[{\"colorbar\":{\"outlinewidth\":0,\"ticks\":\"\"},\"colorscale\":[[0.0,\"#0d0887\"],[0.1111111111111111,\"#46039f\"],[0.2222222222222222,\"#7201a8\"],[0.3333333333333333,\"#9c179e\"],[0.4444444444444444,\"#bd3786\"],[0.5555555555555556,\"#d8576b\"],[0.6666666666666666,\"#ed7953\"],[0.7777777777777778,\"#fb9f3a\"],[0.8888888888888888,\"#fdca26\"],[1.0,\"#f0f921\"]],\"type\":\"surface\"}],\"table\":[{\"cells\":{\"fill\":{\"color\":\"#EBF0F8\"},\"line\":{\"color\":\"white\"}},\"header\":{\"fill\":{\"color\":\"#C8D4E3\"},\"line\":{\"color\":\"white\"}},\"type\":\"table\"}]},\"layout\":{\"annotationdefaults\":{\"arrowcolor\":\"#2a3f5f\",\"arrowhead\":0,\"arrowwidth\":1},\"autotypenumbers\":\"strict\",\"coloraxis\":{\"colorbar\":{\"outlinewidth\":0,\"ticks\":\"\"}},\"colorscale\":{\"diverging\":[[0,\"#8e0152\"],[0.1,\"#c51b7d\"],[0.2,\"#de77ae\"],[0.3,\"#f1b6da\"],[0.4,\"#fde0ef\"],[0.5,\"#f7f7f7\"],[0.6,\"#e6f5d0\"],[0.7,\"#b8e186\"],[0.8,\"#7fbc41\"],[0.9,\"#4d9221\"],[1,\"#276419\"]],\"sequential\":[[0.0,\"#0d0887\"],[0.1111111111111111,\"#46039f\"],[0.2222222222222222,\"#7201a8\"],[0.3333333333333333,\"#9c179e\"],[0.4444444444444444,\"#bd3786\"],[0.5555555555555556,\"#d8576b\"],[0.6666666666666666,\"#ed7953\"],[0.7777777777777778,\"#fb9f3a\"],[0.8888888888888888,\"#fdca26\"],[1.0,\"#f0f921\"]],\"sequentialminus\":[[0.0,\"#0d0887\"],[0.1111111111111111,\"#46039f\"],[0.2222222222222222,\"#7201a8\"],[0.3333333333333333,\"#9c179e\"],[0.4444444444444444,\"#bd3786\"],[0.5555555555555556,\"#d8576b\"],[0.6666666666666666,\"#ed7953\"],[0.7777777777777778,\"#fb9f3a\"],[0.8888888888888888,\"#fdca26\"],[1.0,\"#f0f921\"]]},\"colorway\":[\"#636efa\",\"#EF553B\",\"#00cc96\",\"#ab63fa\",\"#FFA15A\",\"#19d3f3\",\"#FF6692\",\"#B6E880\",\"#FF97FF\",\"#FECB52\"],\"font\":{\"color\":\"#2a3f5f\"},\"geo\":{\"bgcolor\":\"white\",\"lakecolor\":\"white\",\"landcolor\":\"#E5ECF6\",\"showlakes\":true,\"showland\":true,\"subunitcolor\":\"white\"},\"hoverlabel\":{\"align\":\"left\"},\"hovermode\":\"closest\",\"mapbox\":{\"style\":\"light\"},\"paper_bgcolor\":\"white\",\"plot_bgcolor\":\"#E5ECF6\",\"polar\":{\"angularaxis\":{\"gridcolor\":\"white\",\"linecolor\":\"white\",\"ticks\":\"\"},\"bgcolor\":\"#E5ECF6\",\"radialaxis\":{\"gridcolor\":\"white\",\"linecolor\":\"white\",\"ticks\":\"\"}},\"scene\":{\"xaxis\":{\"backgroundcolor\":\"#E5ECF6\",\"gridcolor\":\"white\",\"gridwidth\":2,\"linecolor\":\"white\",\"showbackground\":true,\"ticks\":\"\",\"zerolinecolor\":\"white\"},\"yaxis\":{\"backgroundcolor\":\"#E5ECF6\",\"gridcolor\":\"white\",\"gridwidth\":2,\"linecolor\":\"white\",\"showbackground\":true,\"ticks\":\"\",\"zerolinecolor\":\"white\"},\"zaxis\":{\"backgroundcolor\":\"#E5ECF6\",\"gridcolor\":\"white\",\"gridwidth\":2,\"linecolor\":\"white\",\"showbackground\":true,\"ticks\":\"\",\"zerolinecolor\":\"white\"}},\"shapedefaults\":{\"line\":{\"color\":\"#2a3f5f\"}},\"ternary\":{\"aaxis\":{\"gridcolor\":\"white\",\"linecolor\":\"white\",\"ticks\":\"\"},\"baxis\":{\"gridcolor\":\"white\",\"linecolor\":\"white\",\"ticks\":\"\"},\"bgcolor\":\"#E5ECF6\",\"caxis\":{\"gridcolor\":\"white\",\"linecolor\":\"white\",\"ticks\":\"\"}},\"title\":{\"x\":0.05},\"xaxis\":{\"automargin\":true,\"gridcolor\":\"white\",\"linecolor\":\"white\",\"ticks\":\"\",\"title\":{\"standoff\":15},\"zerolinecolor\":\"white\",\"zerolinewidth\":2},\"yaxis\":{\"automargin\":true,\"gridcolor\":\"white\",\"linecolor\":\"white\",\"ticks\":\"\",\"title\":{\"standoff\":15},\"zerolinecolor\":\"white\",\"zerolinewidth\":2}}},\"title\":{\"font\":{\"color\":\"rgb(1,21,51)\",\"size\":50}},\"width\":480},                        {\"responsive\": true}                    ).then(function(){\n",
              "                            \n",
              "var gd = document.getElementById('c46c11b5-7e9a-4e31-b0c8-b5b512faf1e0');\n",
              "var x = new MutationObserver(function (mutations, observer) {{\n",
              "        var display = window.getComputedStyle(gd).display;\n",
              "        if (!display || display === 'none') {{\n",
              "            console.log([gd, 'removed!']);\n",
              "            Plotly.purge(gd);\n",
              "            observer.disconnect();\n",
              "        }}\n",
              "}});\n",
              "\n",
              "// Listen for the removal of the full notebook cells\n",
              "var notebookContainer = gd.closest('#notebook-container');\n",
              "if (notebookContainer) {{\n",
              "    x.observe(notebookContainer, {childList: true});\n",
              "}}\n",
              "\n",
              "// Listen for the clearing of the current output cell\n",
              "var outputEl = gd.closest('.output');\n",
              "if (outputEl) {{\n",
              "    x.observe(outputEl, {childList: true});\n",
              "}}\n",
              "\n",
              "                        })                };                            </script>        </div>\n",
              "</body>\n",
              "</html>"
            ]
          },
          "metadata": {}
        }
      ]
    },
    {
      "cell_type": "markdown",
      "metadata": {
        "id": "y6PmjCGoVr9j"
      },
      "source": [
        "#**Vectores ortogonales**\n",
        "\n",
        "Dos vectores ${\\displaystyle \\vec{A},\\vec{B}\\in V_n}$ donde $n =1,2 \\ \\text{o}\\ 3$  son **ortogonanales o perpendiculares** cuando forman ángulo recto entre sí.\n",
        "\n",
        "Dos vectores ${\\displaystyle \\vec{A},\\vec{B}\\in V_n}$ son ortogonales si \n",
        "$\\vec{A} \\cdot \\vec{B} =0$.\n",
        "\n",
        "<center><img src=\"https://github.com/josorio398/ALGEBRA-LINEAL-CON-PYTHON/blob/master/im%C3%A1genes%20repositorio/perpendiculares.PNG?raw=true\"  height=\"250\" /> </center>\n",
        "\n",
        "##**Ejemplo:**\n",
        "\n",
        "Dados el vector $\\vec{A}= (2,1,-1)$  y $\\vec{B}= (1,-1,1)$ determina si los vectores son **ortogonales** y realiza la gáfica de los dos vectores en el mismo espacio."
      ]
    },
    {
      "cell_type": "code",
      "metadata": {
        "id": "TPE6ZCs76Smq",
        "colab": {
          "base_uri": "https://localhost:8080/",
          "height": 37
        },
        "outputId": "d085668b-06a0-4de8-e27b-3067e3f4fb73"
      },
      "source": [
        "A = Matrix([2,1,-1])\n",
        "B = Matrix([1,-1,1])\n",
        "\n",
        "A.dot(B)"
      ],
      "execution_count": 52,
      "outputs": [
        {
          "output_type": "execute_result",
          "data": {
            "text/plain": [
              "0"
            ],
            "text/latex": "$\\displaystyle 0$"
          },
          "metadata": {},
          "execution_count": 52
        }
      ]
    },
    {
      "cell_type": "code",
      "metadata": {
        "colab": {
          "base_uri": "https://localhost:8080/",
          "height": 497
        },
        "id": "em4j00K3LWy0",
        "outputId": "eeca994d-7174-401e-e0a0-51daae1e34aa"
      },
      "source": [
        "plotvectors3D(A,B)"
      ],
      "execution_count": 53,
      "outputs": [
        {
          "output_type": "display_data",
          "data": {
            "text/html": [
              "<html>\n",
              "<head><meta charset=\"utf-8\" /></head>\n",
              "<body>\n",
              "    <div>            <script src=\"https://cdnjs.cloudflare.com/ajax/libs/mathjax/2.7.5/MathJax.js?config=TeX-AMS-MML_SVG\"></script><script type=\"text/javascript\">if (window.MathJax) {MathJax.Hub.Config({SVG: {font: \"STIX-Web\"}});}</script>                <script type=\"text/javascript\">window.PlotlyConfig = {MathJaxConfig: 'local'};</script>\n",
              "        <script src=\"https://cdn.plot.ly/plotly-2.2.0.min.js\"></script>                <div id=\"b4ed6de9-7118-47fc-b485-51dd051919cc\" class=\"plotly-graph-div\" style=\"height:480px; width:480px;\"></div>            <script type=\"text/javascript\">                                    window.PLOTLYENV=window.PLOTLYENV || {};                                    if (document.getElementById(\"b4ed6de9-7118-47fc-b485-51dd051919cc\")) {                    Plotly.newPlot(                        \"b4ed6de9-7118-47fc-b485-51dd051919cc\",                        [{\"line\":{\"color\":\"rgb(180,92,77)\",\"width\":7},\"marker\":{\"color\":\"rgb(180,92,77)\",\"size\":1},\"name\":\"vector 1\",\"type\":\"scatter3d\",\"x\":[0,2.0],\"y\":[0,1.0],\"z\":[0,-1.0]},{\"anchor\":\"cm\",\"colorbar\":{\"thickness\":20,\"ticklen\":4},\"colorscale\":[[0,\"rgb(180,92,77)\"],[1,\"rgb(180,92,77)\"]],\"name\":\"vector 1\",\"showscale\":false,\"sizemode\":\"absolute\",\"sizeref\":0.13333333333333333,\"type\":\"cone\",\"u\":[2.0],\"v\":[1.0],\"w\":[-1.0],\"x\":[2.0],\"y\":[1.0],\"z\":[-1.0]},{\"line\":{\"color\":\"rgb(43,156,68)\",\"width\":7},\"marker\":{\"color\":\"rgb(43,156,68)\",\"size\":1},\"name\":\"vector 2\",\"type\":\"scatter3d\",\"x\":[0,1.0],\"y\":[0,-1.0],\"z\":[0,1.0]},{\"anchor\":\"cm\",\"colorbar\":{\"thickness\":20,\"ticklen\":4},\"colorscale\":[[0,\"rgb(43,156,68)\"],[1,\"rgb(43,156,68)\"]],\"name\":\"vector 2\",\"showscale\":false,\"sizemode\":\"absolute\",\"sizeref\":0.13333333333333333,\"type\":\"cone\",\"u\":[1.0],\"v\":[-1.0],\"w\":[1.0],\"x\":[1.0],\"y\":[-1.0],\"z\":[1.0]},{\"marker\":{\"color\":\"#2a3f5f\",\"size\":5},\"mode\":\"markers\",\"name\":\"origen\",\"showlegend\":true,\"type\":\"scatter3d\",\"x\":[0],\"y\":[0],\"z\":[0]},{\"hoverinfo\":\"skip\",\"line\":{\"color\":\"#2a3f5f\",\"width\":3},\"marker\":{\"color\":\"#2a3f5f\",\"size\":1},\"name\":\"\",\"showlegend\":false,\"type\":\"scatter3d\",\"x\":[-0.13333333333333333,2.1333333333333333],\"y\":[0,0],\"z\":[0,0]},{\"anchor\":\"cm\",\"colorbar\":{\"thickness\":20,\"ticklen\":4},\"colorscale\":[[0,\"#2a3f5f\"],[1,\"#2a3f5f\"]],\"hoverinfo\":\"name\",\"name\":\"Eje x-positivo\",\"showscale\":false,\"sizemode\":\"absolute\",\"sizeref\":0.08,\"type\":\"cone\",\"u\":[2.1333333333333333],\"v\":[0],\"w\":[0],\"x\":[2.1333333333333333],\"y\":[0],\"z\":[0]},{\"hoverinfo\":\"skip\",\"line\":{\"color\":\"#2a3f5f\",\"width\":3},\"marker\":{\"color\":\"#2a3f5f\",\"size\":1},\"name\":\"\",\"showlegend\":false,\"type\":\"scatter3d\",\"x\":[0,0],\"y\":[-1.1333333333333333,1.1333333333333333],\"z\":[0,0]},{\"anchor\":\"cm\",\"colorbar\":{\"thickness\":20,\"ticklen\":4},\"colorscale\":[[0,\"#2a3f5f\"],[1,\"#2a3f5f\"]],\"hoverinfo\":\"name\",\"name\":\"Eje y-positivo \",\"showscale\":false,\"sizemode\":\"absolute\",\"sizeref\":0.08,\"type\":\"cone\",\"u\":[0],\"v\":[1.1333333333333333],\"w\":[0],\"x\":[0],\"y\":[1.1333333333333333],\"z\":[0]},{\"hoverinfo\":\"skip\",\"line\":{\"color\":\"#2a3f5f\",\"width\":3},\"marker\":{\"color\":\"#2a3f5f\",\"size\":1},\"name\":\"eje z-positivo\",\"showlegend\":false,\"type\":\"scatter3d\",\"x\":[0,0],\"y\":[0,0],\"z\":[-1.1333333333333333,1.1333333333333333]},{\"anchor\":\"cm\",\"colorbar\":{\"thickness\":20,\"ticklen\":4},\"colorscale\":[[0,\"#2a3f5f\"],[1,\"#2a3f5f\"]],\"hoverinfo\":\"name\",\"name\":\"Eje z-positivo\",\"showscale\":false,\"sizemode\":\"absolute\",\"sizeref\":0.08,\"type\":\"cone\",\"u\":[0],\"v\":[0],\"w\":[1.1333333333333333],\"x\":[0],\"y\":[0],\"z\":[1.1333333333333333]}],                        {\"height\":480,\"legend\":{\"orientation\":\"h\",\"x\":0.03,\"y\":1.3},\"margin\":{\"b\":0,\"l\":0,\"r\":0,\"t\":0},\"showlegend\":true,\"template\":{\"data\":{\"bar\":[{\"error_x\":{\"color\":\"#2a3f5f\"},\"error_y\":{\"color\":\"#2a3f5f\"},\"marker\":{\"line\":{\"color\":\"#E5ECF6\",\"width\":0.5},\"pattern\":{\"fillmode\":\"overlay\",\"size\":10,\"solidity\":0.2}},\"type\":\"bar\"}],\"barpolar\":[{\"marker\":{\"line\":{\"color\":\"#E5ECF6\",\"width\":0.5},\"pattern\":{\"fillmode\":\"overlay\",\"size\":10,\"solidity\":0.2}},\"type\":\"barpolar\"}],\"carpet\":[{\"aaxis\":{\"endlinecolor\":\"#2a3f5f\",\"gridcolor\":\"white\",\"linecolor\":\"white\",\"minorgridcolor\":\"white\",\"startlinecolor\":\"#2a3f5f\"},\"baxis\":{\"endlinecolor\":\"#2a3f5f\",\"gridcolor\":\"white\",\"linecolor\":\"white\",\"minorgridcolor\":\"white\",\"startlinecolor\":\"#2a3f5f\"},\"type\":\"carpet\"}],\"choropleth\":[{\"colorbar\":{\"outlinewidth\":0,\"ticks\":\"\"},\"type\":\"choropleth\"}],\"contour\":[{\"colorbar\":{\"outlinewidth\":0,\"ticks\":\"\"},\"colorscale\":[[0.0,\"#0d0887\"],[0.1111111111111111,\"#46039f\"],[0.2222222222222222,\"#7201a8\"],[0.3333333333333333,\"#9c179e\"],[0.4444444444444444,\"#bd3786\"],[0.5555555555555556,\"#d8576b\"],[0.6666666666666666,\"#ed7953\"],[0.7777777777777778,\"#fb9f3a\"],[0.8888888888888888,\"#fdca26\"],[1.0,\"#f0f921\"]],\"type\":\"contour\"}],\"contourcarpet\":[{\"colorbar\":{\"outlinewidth\":0,\"ticks\":\"\"},\"type\":\"contourcarpet\"}],\"heatmap\":[{\"colorbar\":{\"outlinewidth\":0,\"ticks\":\"\"},\"colorscale\":[[0.0,\"#0d0887\"],[0.1111111111111111,\"#46039f\"],[0.2222222222222222,\"#7201a8\"],[0.3333333333333333,\"#9c179e\"],[0.4444444444444444,\"#bd3786\"],[0.5555555555555556,\"#d8576b\"],[0.6666666666666666,\"#ed7953\"],[0.7777777777777778,\"#fb9f3a\"],[0.8888888888888888,\"#fdca26\"],[1.0,\"#f0f921\"]],\"type\":\"heatmap\"}],\"heatmapgl\":[{\"colorbar\":{\"outlinewidth\":0,\"ticks\":\"\"},\"colorscale\":[[0.0,\"#0d0887\"],[0.1111111111111111,\"#46039f\"],[0.2222222222222222,\"#7201a8\"],[0.3333333333333333,\"#9c179e\"],[0.4444444444444444,\"#bd3786\"],[0.5555555555555556,\"#d8576b\"],[0.6666666666666666,\"#ed7953\"],[0.7777777777777778,\"#fb9f3a\"],[0.8888888888888888,\"#fdca26\"],[1.0,\"#f0f921\"]],\"type\":\"heatmapgl\"}],\"histogram\":[{\"marker\":{\"pattern\":{\"fillmode\":\"overlay\",\"size\":10,\"solidity\":0.2}},\"type\":\"histogram\"}],\"histogram2d\":[{\"colorbar\":{\"outlinewidth\":0,\"ticks\":\"\"},\"colorscale\":[[0.0,\"#0d0887\"],[0.1111111111111111,\"#46039f\"],[0.2222222222222222,\"#7201a8\"],[0.3333333333333333,\"#9c179e\"],[0.4444444444444444,\"#bd3786\"],[0.5555555555555556,\"#d8576b\"],[0.6666666666666666,\"#ed7953\"],[0.7777777777777778,\"#fb9f3a\"],[0.8888888888888888,\"#fdca26\"],[1.0,\"#f0f921\"]],\"type\":\"histogram2d\"}],\"histogram2dcontour\":[{\"colorbar\":{\"outlinewidth\":0,\"ticks\":\"\"},\"colorscale\":[[0.0,\"#0d0887\"],[0.1111111111111111,\"#46039f\"],[0.2222222222222222,\"#7201a8\"],[0.3333333333333333,\"#9c179e\"],[0.4444444444444444,\"#bd3786\"],[0.5555555555555556,\"#d8576b\"],[0.6666666666666666,\"#ed7953\"],[0.7777777777777778,\"#fb9f3a\"],[0.8888888888888888,\"#fdca26\"],[1.0,\"#f0f921\"]],\"type\":\"histogram2dcontour\"}],\"mesh3d\":[{\"colorbar\":{\"outlinewidth\":0,\"ticks\":\"\"},\"type\":\"mesh3d\"}],\"parcoords\":[{\"line\":{\"colorbar\":{\"outlinewidth\":0,\"ticks\":\"\"}},\"type\":\"parcoords\"}],\"pie\":[{\"automargin\":true,\"type\":\"pie\"}],\"scatter\":[{\"marker\":{\"colorbar\":{\"outlinewidth\":0,\"ticks\":\"\"}},\"type\":\"scatter\"}],\"scatter3d\":[{\"line\":{\"colorbar\":{\"outlinewidth\":0,\"ticks\":\"\"}},\"marker\":{\"colorbar\":{\"outlinewidth\":0,\"ticks\":\"\"}},\"type\":\"scatter3d\"}],\"scattercarpet\":[{\"marker\":{\"colorbar\":{\"outlinewidth\":0,\"ticks\":\"\"}},\"type\":\"scattercarpet\"}],\"scattergeo\":[{\"marker\":{\"colorbar\":{\"outlinewidth\":0,\"ticks\":\"\"}},\"type\":\"scattergeo\"}],\"scattergl\":[{\"marker\":{\"colorbar\":{\"outlinewidth\":0,\"ticks\":\"\"}},\"type\":\"scattergl\"}],\"scattermapbox\":[{\"marker\":{\"colorbar\":{\"outlinewidth\":0,\"ticks\":\"\"}},\"type\":\"scattermapbox\"}],\"scatterpolar\":[{\"marker\":{\"colorbar\":{\"outlinewidth\":0,\"ticks\":\"\"}},\"type\":\"scatterpolar\"}],\"scatterpolargl\":[{\"marker\":{\"colorbar\":{\"outlinewidth\":0,\"ticks\":\"\"}},\"type\":\"scatterpolargl\"}],\"scatterternary\":[{\"marker\":{\"colorbar\":{\"outlinewidth\":0,\"ticks\":\"\"}},\"type\":\"scatterternary\"}],\"surface\":[{\"colorbar\":{\"outlinewidth\":0,\"ticks\":\"\"},\"colorscale\":[[0.0,\"#0d0887\"],[0.1111111111111111,\"#46039f\"],[0.2222222222222222,\"#7201a8\"],[0.3333333333333333,\"#9c179e\"],[0.4444444444444444,\"#bd3786\"],[0.5555555555555556,\"#d8576b\"],[0.6666666666666666,\"#ed7953\"],[0.7777777777777778,\"#fb9f3a\"],[0.8888888888888888,\"#fdca26\"],[1.0,\"#f0f921\"]],\"type\":\"surface\"}],\"table\":[{\"cells\":{\"fill\":{\"color\":\"#EBF0F8\"},\"line\":{\"color\":\"white\"}},\"header\":{\"fill\":{\"color\":\"#C8D4E3\"},\"line\":{\"color\":\"white\"}},\"type\":\"table\"}]},\"layout\":{\"annotationdefaults\":{\"arrowcolor\":\"#2a3f5f\",\"arrowhead\":0,\"arrowwidth\":1},\"autotypenumbers\":\"strict\",\"coloraxis\":{\"colorbar\":{\"outlinewidth\":0,\"ticks\":\"\"}},\"colorscale\":{\"diverging\":[[0,\"#8e0152\"],[0.1,\"#c51b7d\"],[0.2,\"#de77ae\"],[0.3,\"#f1b6da\"],[0.4,\"#fde0ef\"],[0.5,\"#f7f7f7\"],[0.6,\"#e6f5d0\"],[0.7,\"#b8e186\"],[0.8,\"#7fbc41\"],[0.9,\"#4d9221\"],[1,\"#276419\"]],\"sequential\":[[0.0,\"#0d0887\"],[0.1111111111111111,\"#46039f\"],[0.2222222222222222,\"#7201a8\"],[0.3333333333333333,\"#9c179e\"],[0.4444444444444444,\"#bd3786\"],[0.5555555555555556,\"#d8576b\"],[0.6666666666666666,\"#ed7953\"],[0.7777777777777778,\"#fb9f3a\"],[0.8888888888888888,\"#fdca26\"],[1.0,\"#f0f921\"]],\"sequentialminus\":[[0.0,\"#0d0887\"],[0.1111111111111111,\"#46039f\"],[0.2222222222222222,\"#7201a8\"],[0.3333333333333333,\"#9c179e\"],[0.4444444444444444,\"#bd3786\"],[0.5555555555555556,\"#d8576b\"],[0.6666666666666666,\"#ed7953\"],[0.7777777777777778,\"#fb9f3a\"],[0.8888888888888888,\"#fdca26\"],[1.0,\"#f0f921\"]]},\"colorway\":[\"#636efa\",\"#EF553B\",\"#00cc96\",\"#ab63fa\",\"#FFA15A\",\"#19d3f3\",\"#FF6692\",\"#B6E880\",\"#FF97FF\",\"#FECB52\"],\"font\":{\"color\":\"#2a3f5f\"},\"geo\":{\"bgcolor\":\"white\",\"lakecolor\":\"white\",\"landcolor\":\"#E5ECF6\",\"showlakes\":true,\"showland\":true,\"subunitcolor\":\"white\"},\"hoverlabel\":{\"align\":\"left\"},\"hovermode\":\"closest\",\"mapbox\":{\"style\":\"light\"},\"paper_bgcolor\":\"white\",\"plot_bgcolor\":\"#E5ECF6\",\"polar\":{\"angularaxis\":{\"gridcolor\":\"white\",\"linecolor\":\"white\",\"ticks\":\"\"},\"bgcolor\":\"#E5ECF6\",\"radialaxis\":{\"gridcolor\":\"white\",\"linecolor\":\"white\",\"ticks\":\"\"}},\"scene\":{\"xaxis\":{\"backgroundcolor\":\"#E5ECF6\",\"gridcolor\":\"white\",\"gridwidth\":2,\"linecolor\":\"white\",\"showbackground\":true,\"ticks\":\"\",\"zerolinecolor\":\"white\"},\"yaxis\":{\"backgroundcolor\":\"#E5ECF6\",\"gridcolor\":\"white\",\"gridwidth\":2,\"linecolor\":\"white\",\"showbackground\":true,\"ticks\":\"\",\"zerolinecolor\":\"white\"},\"zaxis\":{\"backgroundcolor\":\"#E5ECF6\",\"gridcolor\":\"white\",\"gridwidth\":2,\"linecolor\":\"white\",\"showbackground\":true,\"ticks\":\"\",\"zerolinecolor\":\"white\"}},\"shapedefaults\":{\"line\":{\"color\":\"#2a3f5f\"}},\"ternary\":{\"aaxis\":{\"gridcolor\":\"white\",\"linecolor\":\"white\",\"ticks\":\"\"},\"baxis\":{\"gridcolor\":\"white\",\"linecolor\":\"white\",\"ticks\":\"\"},\"bgcolor\":\"#E5ECF6\",\"caxis\":{\"gridcolor\":\"white\",\"linecolor\":\"white\",\"ticks\":\"\"}},\"title\":{\"x\":0.05},\"xaxis\":{\"automargin\":true,\"gridcolor\":\"white\",\"linecolor\":\"white\",\"ticks\":\"\",\"title\":{\"standoff\":15},\"zerolinecolor\":\"white\",\"zerolinewidth\":2},\"yaxis\":{\"automargin\":true,\"gridcolor\":\"white\",\"linecolor\":\"white\",\"ticks\":\"\",\"title\":{\"standoff\":15},\"zerolinecolor\":\"white\",\"zerolinewidth\":2}}},\"title\":{\"font\":{\"color\":\"rgb(1,21,51)\",\"size\":50}},\"width\":480},                        {\"responsive\": true}                    ).then(function(){\n",
              "                            \n",
              "var gd = document.getElementById('b4ed6de9-7118-47fc-b485-51dd051919cc');\n",
              "var x = new MutationObserver(function (mutations, observer) {{\n",
              "        var display = window.getComputedStyle(gd).display;\n",
              "        if (!display || display === 'none') {{\n",
              "            console.log([gd, 'removed!']);\n",
              "            Plotly.purge(gd);\n",
              "            observer.disconnect();\n",
              "        }}\n",
              "}});\n",
              "\n",
              "// Listen for the removal of the full notebook cells\n",
              "var notebookContainer = gd.closest('#notebook-container');\n",
              "if (notebookContainer) {{\n",
              "    x.observe(notebookContainer, {childList: true});\n",
              "}}\n",
              "\n",
              "// Listen for the clearing of the current output cell\n",
              "var outputEl = gd.closest('.output');\n",
              "if (outputEl) {{\n",
              "    x.observe(outputEl, {childList: true});\n",
              "}}\n",
              "\n",
              "                        })                };                            </script>        </div>\n",
              "</body>\n",
              "</html>"
            ]
          },
          "metadata": {}
        }
      ]
    },
    {
      "cell_type": "markdown",
      "metadata": {
        "id": "e-RFS9MpV6h1"
      },
      "source": [
        "#**Proyección ortogonal**\n",
        "\n",
        "Sean ${\\displaystyle \\vec{U},\\vec{V}\\in V_n}$ dos vectores diferentes de cero. Entonces la proyección de $\\vec{U}$ sobre $\\vec{V}$ es un vector denotado por $\\text{proy}_\\vec{V} \\vec{U}$, que se define con la siguiente expresión:\n",
        "\n",
        "$$\\text{proy}_\\vec{V} \\vec{U} = \\left(\\dfrac{\\vec{U} \\cdot\\vec{V} }{||\\vec{V}||^2} \\right)\\vec{V}$$\\\\\n",
        "\n",
        "<center><img src=\"https://github.com/josorio398/ALGEBRA-LINEAL-CON-PYTHON/blob/master/im%C3%A1genes%20repositorio/proyecci%C3%B3n.PNG?raw=true\"  height=\"250\" /> </center>\n",
        "\n",
        "##**Ejemplo:**\n",
        "\n",
        "Dados el vector $\\vec{A}= (2,3,1)$  y $\\vec{B}= (3,4,5)$ determina la proyección del vector $\\vec{A}$ sobre $\\vec{B}$ y realiza la grafica de los tres vectores en el mismo espacio."
      ]
    },
    {
      "cell_type": "code",
      "metadata": {
        "colab": {
          "base_uri": "https://localhost:8080/",
          "height": 78
        },
        "id": "jpScllvSNEWU",
        "outputId": "3f7d94be-fc72-4fef-e008-6722b396ca3e"
      },
      "source": [
        "A = Matrix([2,3,1])\n",
        "B = Matrix([3,4,5])\n",
        "\n",
        "proyAB =(A.dot(B)/(B.norm())**2)*B\n",
        "proyAB"
      ],
      "execution_count": 54,
      "outputs": [
        {
          "output_type": "execute_result",
          "data": {
            "text/plain": [
              "Matrix([\n",
              "[69/50],\n",
              "[46/25],\n",
              "[23/10]])"
            ],
            "text/latex": "$\\displaystyle \\left[\\begin{matrix}\\frac{69}{50}\\\\\\frac{46}{25}\\\\\\frac{23}{10}\\end{matrix}\\right]$"
          },
          "metadata": {},
          "execution_count": 54
        }
      ]
    },
    {
      "cell_type": "code",
      "metadata": {
        "colab": {
          "base_uri": "https://localhost:8080/",
          "height": 497
        },
        "id": "FDtP_5lHO5E_",
        "outputId": "3768bee0-3de3-4a65-bba9-1675c409c79d"
      },
      "source": [
        "plotvectors3D(A,B,proyAB)"
      ],
      "execution_count": 55,
      "outputs": [
        {
          "output_type": "display_data",
          "data": {
            "text/html": [
              "<html>\n",
              "<head><meta charset=\"utf-8\" /></head>\n",
              "<body>\n",
              "    <div>            <script src=\"https://cdnjs.cloudflare.com/ajax/libs/mathjax/2.7.5/MathJax.js?config=TeX-AMS-MML_SVG\"></script><script type=\"text/javascript\">if (window.MathJax) {MathJax.Hub.Config({SVG: {font: \"STIX-Web\"}});}</script>                <script type=\"text/javascript\">window.PlotlyConfig = {MathJaxConfig: 'local'};</script>\n",
              "        <script src=\"https://cdn.plot.ly/plotly-2.2.0.min.js\"></script>                <div id=\"7382d690-c187-454b-82cf-e21b672dbacc\" class=\"plotly-graph-div\" style=\"height:480px; width:480px;\"></div>            <script type=\"text/javascript\">                                    window.PLOTLYENV=window.PLOTLYENV || {};                                    if (document.getElementById(\"7382d690-c187-454b-82cf-e21b672dbacc\")) {                    Plotly.newPlot(                        \"7382d690-c187-454b-82cf-e21b672dbacc\",                        [{\"line\":{\"color\":\"rgb(69,66,188)\",\"width\":7},\"marker\":{\"color\":\"rgb(69,66,188)\",\"size\":1},\"name\":\"vector 1\",\"type\":\"scatter3d\",\"x\":[0,2.0],\"y\":[0,3.0],\"z\":[0,1.0]},{\"anchor\":\"cm\",\"colorbar\":{\"thickness\":20,\"ticklen\":4},\"colorscale\":[[0,\"rgb(69,66,188)\"],[1,\"rgb(69,66,188)\"]],\"name\":\"vector 1\",\"showscale\":false,\"sizemode\":\"absolute\",\"sizeref\":0.4,\"type\":\"cone\",\"u\":[2.0],\"v\":[3.0],\"w\":[1.0],\"x\":[2.0],\"y\":[3.0],\"z\":[1.0]},{\"line\":{\"color\":\"rgb(230,93,13)\",\"width\":7},\"marker\":{\"color\":\"rgb(230,93,13)\",\"size\":1},\"name\":\"vector 2\",\"type\":\"scatter3d\",\"x\":[0,3.0],\"y\":[0,4.0],\"z\":[0,5.0]},{\"anchor\":\"cm\",\"colorbar\":{\"thickness\":20,\"ticklen\":4},\"colorscale\":[[0,\"rgb(230,93,13)\"],[1,\"rgb(230,93,13)\"]],\"name\":\"vector 2\",\"showscale\":false,\"sizemode\":\"absolute\",\"sizeref\":0.4,\"type\":\"cone\",\"u\":[3.0],\"v\":[4.0],\"w\":[5.0],\"x\":[3.0],\"y\":[4.0],\"z\":[5.0]},{\"line\":{\"color\":\"rgb(70,145,169)\",\"width\":7},\"marker\":{\"color\":\"rgb(70,145,169)\",\"size\":1},\"name\":\"vector 3\",\"type\":\"scatter3d\",\"x\":[0,1.38],\"y\":[0,1.84],\"z\":[0,2.3]},{\"anchor\":\"cm\",\"colorbar\":{\"thickness\":20,\"ticklen\":4},\"colorscale\":[[0,\"rgb(70,145,169)\"],[1,\"rgb(70,145,169)\"]],\"name\":\"vector 3\",\"showscale\":false,\"sizemode\":\"absolute\",\"sizeref\":0.4,\"type\":\"cone\",\"u\":[1.38],\"v\":[1.84],\"w\":[2.3],\"x\":[1.38],\"y\":[1.84],\"z\":[2.3]},{\"marker\":{\"color\":\"#2a3f5f\",\"size\":5},\"mode\":\"markers\",\"name\":\"origen\",\"showlegend\":true,\"type\":\"scatter3d\",\"x\":[0],\"y\":[0],\"z\":[0]},{\"hoverinfo\":\"skip\",\"line\":{\"color\":\"#2a3f5f\",\"width\":3},\"marker\":{\"color\":\"#2a3f5f\",\"size\":1},\"name\":\"\",\"showlegend\":false,\"type\":\"scatter3d\",\"x\":[-0.4,3.4],\"y\":[0,0],\"z\":[0,0]},{\"anchor\":\"cm\",\"colorbar\":{\"thickness\":20,\"ticklen\":4},\"colorscale\":[[0,\"#2a3f5f\"],[1,\"#2a3f5f\"]],\"hoverinfo\":\"name\",\"name\":\"Eje x-positivo\",\"showscale\":false,\"sizemode\":\"absolute\",\"sizeref\":0.24,\"type\":\"cone\",\"u\":[3.4],\"v\":[0],\"w\":[0],\"x\":[3.4],\"y\":[0],\"z\":[0]},{\"hoverinfo\":\"skip\",\"line\":{\"color\":\"#2a3f5f\",\"width\":3},\"marker\":{\"color\":\"#2a3f5f\",\"size\":1},\"name\":\"\",\"showlegend\":false,\"type\":\"scatter3d\",\"x\":[0,0],\"y\":[-0.4,4.4],\"z\":[0,0]},{\"anchor\":\"cm\",\"colorbar\":{\"thickness\":20,\"ticklen\":4},\"colorscale\":[[0,\"#2a3f5f\"],[1,\"#2a3f5f\"]],\"hoverinfo\":\"name\",\"name\":\"Eje y-positivo \",\"showscale\":false,\"sizemode\":\"absolute\",\"sizeref\":0.24,\"type\":\"cone\",\"u\":[0],\"v\":[4.4],\"w\":[0],\"x\":[0],\"y\":[4.4],\"z\":[0]},{\"hoverinfo\":\"skip\",\"line\":{\"color\":\"#2a3f5f\",\"width\":3},\"marker\":{\"color\":\"#2a3f5f\",\"size\":1},\"name\":\"eje z-positivo\",\"showlegend\":false,\"type\":\"scatter3d\",\"x\":[0,0],\"y\":[0,0],\"z\":[-0.7,5.4]},{\"anchor\":\"cm\",\"colorbar\":{\"thickness\":20,\"ticklen\":4},\"colorscale\":[[0,\"#2a3f5f\"],[1,\"#2a3f5f\"]],\"hoverinfo\":\"name\",\"name\":\"Eje z-positivo\",\"showscale\":false,\"sizemode\":\"absolute\",\"sizeref\":0.24,\"type\":\"cone\",\"u\":[0],\"v\":[0],\"w\":[5.4],\"x\":[0],\"y\":[0],\"z\":[5.4]}],                        {\"height\":480,\"legend\":{\"orientation\":\"h\",\"x\":0.03,\"y\":1.3},\"margin\":{\"b\":0,\"l\":0,\"r\":0,\"t\":0},\"showlegend\":true,\"template\":{\"data\":{\"bar\":[{\"error_x\":{\"color\":\"#2a3f5f\"},\"error_y\":{\"color\":\"#2a3f5f\"},\"marker\":{\"line\":{\"color\":\"#E5ECF6\",\"width\":0.5},\"pattern\":{\"fillmode\":\"overlay\",\"size\":10,\"solidity\":0.2}},\"type\":\"bar\"}],\"barpolar\":[{\"marker\":{\"line\":{\"color\":\"#E5ECF6\",\"width\":0.5},\"pattern\":{\"fillmode\":\"overlay\",\"size\":10,\"solidity\":0.2}},\"type\":\"barpolar\"}],\"carpet\":[{\"aaxis\":{\"endlinecolor\":\"#2a3f5f\",\"gridcolor\":\"white\",\"linecolor\":\"white\",\"minorgridcolor\":\"white\",\"startlinecolor\":\"#2a3f5f\"},\"baxis\":{\"endlinecolor\":\"#2a3f5f\",\"gridcolor\":\"white\",\"linecolor\":\"white\",\"minorgridcolor\":\"white\",\"startlinecolor\":\"#2a3f5f\"},\"type\":\"carpet\"}],\"choropleth\":[{\"colorbar\":{\"outlinewidth\":0,\"ticks\":\"\"},\"type\":\"choropleth\"}],\"contour\":[{\"colorbar\":{\"outlinewidth\":0,\"ticks\":\"\"},\"colorscale\":[[0.0,\"#0d0887\"],[0.1111111111111111,\"#46039f\"],[0.2222222222222222,\"#7201a8\"],[0.3333333333333333,\"#9c179e\"],[0.4444444444444444,\"#bd3786\"],[0.5555555555555556,\"#d8576b\"],[0.6666666666666666,\"#ed7953\"],[0.7777777777777778,\"#fb9f3a\"],[0.8888888888888888,\"#fdca26\"],[1.0,\"#f0f921\"]],\"type\":\"contour\"}],\"contourcarpet\":[{\"colorbar\":{\"outlinewidth\":0,\"ticks\":\"\"},\"type\":\"contourcarpet\"}],\"heatmap\":[{\"colorbar\":{\"outlinewidth\":0,\"ticks\":\"\"},\"colorscale\":[[0.0,\"#0d0887\"],[0.1111111111111111,\"#46039f\"],[0.2222222222222222,\"#7201a8\"],[0.3333333333333333,\"#9c179e\"],[0.4444444444444444,\"#bd3786\"],[0.5555555555555556,\"#d8576b\"],[0.6666666666666666,\"#ed7953\"],[0.7777777777777778,\"#fb9f3a\"],[0.8888888888888888,\"#fdca26\"],[1.0,\"#f0f921\"]],\"type\":\"heatmap\"}],\"heatmapgl\":[{\"colorbar\":{\"outlinewidth\":0,\"ticks\":\"\"},\"colorscale\":[[0.0,\"#0d0887\"],[0.1111111111111111,\"#46039f\"],[0.2222222222222222,\"#7201a8\"],[0.3333333333333333,\"#9c179e\"],[0.4444444444444444,\"#bd3786\"],[0.5555555555555556,\"#d8576b\"],[0.6666666666666666,\"#ed7953\"],[0.7777777777777778,\"#fb9f3a\"],[0.8888888888888888,\"#fdca26\"],[1.0,\"#f0f921\"]],\"type\":\"heatmapgl\"}],\"histogram\":[{\"marker\":{\"pattern\":{\"fillmode\":\"overlay\",\"size\":10,\"solidity\":0.2}},\"type\":\"histogram\"}],\"histogram2d\":[{\"colorbar\":{\"outlinewidth\":0,\"ticks\":\"\"},\"colorscale\":[[0.0,\"#0d0887\"],[0.1111111111111111,\"#46039f\"],[0.2222222222222222,\"#7201a8\"],[0.3333333333333333,\"#9c179e\"],[0.4444444444444444,\"#bd3786\"],[0.5555555555555556,\"#d8576b\"],[0.6666666666666666,\"#ed7953\"],[0.7777777777777778,\"#fb9f3a\"],[0.8888888888888888,\"#fdca26\"],[1.0,\"#f0f921\"]],\"type\":\"histogram2d\"}],\"histogram2dcontour\":[{\"colorbar\":{\"outlinewidth\":0,\"ticks\":\"\"},\"colorscale\":[[0.0,\"#0d0887\"],[0.1111111111111111,\"#46039f\"],[0.2222222222222222,\"#7201a8\"],[0.3333333333333333,\"#9c179e\"],[0.4444444444444444,\"#bd3786\"],[0.5555555555555556,\"#d8576b\"],[0.6666666666666666,\"#ed7953\"],[0.7777777777777778,\"#fb9f3a\"],[0.8888888888888888,\"#fdca26\"],[1.0,\"#f0f921\"]],\"type\":\"histogram2dcontour\"}],\"mesh3d\":[{\"colorbar\":{\"outlinewidth\":0,\"ticks\":\"\"},\"type\":\"mesh3d\"}],\"parcoords\":[{\"line\":{\"colorbar\":{\"outlinewidth\":0,\"ticks\":\"\"}},\"type\":\"parcoords\"}],\"pie\":[{\"automargin\":true,\"type\":\"pie\"}],\"scatter\":[{\"marker\":{\"colorbar\":{\"outlinewidth\":0,\"ticks\":\"\"}},\"type\":\"scatter\"}],\"scatter3d\":[{\"line\":{\"colorbar\":{\"outlinewidth\":0,\"ticks\":\"\"}},\"marker\":{\"colorbar\":{\"outlinewidth\":0,\"ticks\":\"\"}},\"type\":\"scatter3d\"}],\"scattercarpet\":[{\"marker\":{\"colorbar\":{\"outlinewidth\":0,\"ticks\":\"\"}},\"type\":\"scattercarpet\"}],\"scattergeo\":[{\"marker\":{\"colorbar\":{\"outlinewidth\":0,\"ticks\":\"\"}},\"type\":\"scattergeo\"}],\"scattergl\":[{\"marker\":{\"colorbar\":{\"outlinewidth\":0,\"ticks\":\"\"}},\"type\":\"scattergl\"}],\"scattermapbox\":[{\"marker\":{\"colorbar\":{\"outlinewidth\":0,\"ticks\":\"\"}},\"type\":\"scattermapbox\"}],\"scatterpolar\":[{\"marker\":{\"colorbar\":{\"outlinewidth\":0,\"ticks\":\"\"}},\"type\":\"scatterpolar\"}],\"scatterpolargl\":[{\"marker\":{\"colorbar\":{\"outlinewidth\":0,\"ticks\":\"\"}},\"type\":\"scatterpolargl\"}],\"scatterternary\":[{\"marker\":{\"colorbar\":{\"outlinewidth\":0,\"ticks\":\"\"}},\"type\":\"scatterternary\"}],\"surface\":[{\"colorbar\":{\"outlinewidth\":0,\"ticks\":\"\"},\"colorscale\":[[0.0,\"#0d0887\"],[0.1111111111111111,\"#46039f\"],[0.2222222222222222,\"#7201a8\"],[0.3333333333333333,\"#9c179e\"],[0.4444444444444444,\"#bd3786\"],[0.5555555555555556,\"#d8576b\"],[0.6666666666666666,\"#ed7953\"],[0.7777777777777778,\"#fb9f3a\"],[0.8888888888888888,\"#fdca26\"],[1.0,\"#f0f921\"]],\"type\":\"surface\"}],\"table\":[{\"cells\":{\"fill\":{\"color\":\"#EBF0F8\"},\"line\":{\"color\":\"white\"}},\"header\":{\"fill\":{\"color\":\"#C8D4E3\"},\"line\":{\"color\":\"white\"}},\"type\":\"table\"}]},\"layout\":{\"annotationdefaults\":{\"arrowcolor\":\"#2a3f5f\",\"arrowhead\":0,\"arrowwidth\":1},\"autotypenumbers\":\"strict\",\"coloraxis\":{\"colorbar\":{\"outlinewidth\":0,\"ticks\":\"\"}},\"colorscale\":{\"diverging\":[[0,\"#8e0152\"],[0.1,\"#c51b7d\"],[0.2,\"#de77ae\"],[0.3,\"#f1b6da\"],[0.4,\"#fde0ef\"],[0.5,\"#f7f7f7\"],[0.6,\"#e6f5d0\"],[0.7,\"#b8e186\"],[0.8,\"#7fbc41\"],[0.9,\"#4d9221\"],[1,\"#276419\"]],\"sequential\":[[0.0,\"#0d0887\"],[0.1111111111111111,\"#46039f\"],[0.2222222222222222,\"#7201a8\"],[0.3333333333333333,\"#9c179e\"],[0.4444444444444444,\"#bd3786\"],[0.5555555555555556,\"#d8576b\"],[0.6666666666666666,\"#ed7953\"],[0.7777777777777778,\"#fb9f3a\"],[0.8888888888888888,\"#fdca26\"],[1.0,\"#f0f921\"]],\"sequentialminus\":[[0.0,\"#0d0887\"],[0.1111111111111111,\"#46039f\"],[0.2222222222222222,\"#7201a8\"],[0.3333333333333333,\"#9c179e\"],[0.4444444444444444,\"#bd3786\"],[0.5555555555555556,\"#d8576b\"],[0.6666666666666666,\"#ed7953\"],[0.7777777777777778,\"#fb9f3a\"],[0.8888888888888888,\"#fdca26\"],[1.0,\"#f0f921\"]]},\"colorway\":[\"#636efa\",\"#EF553B\",\"#00cc96\",\"#ab63fa\",\"#FFA15A\",\"#19d3f3\",\"#FF6692\",\"#B6E880\",\"#FF97FF\",\"#FECB52\"],\"font\":{\"color\":\"#2a3f5f\"},\"geo\":{\"bgcolor\":\"white\",\"lakecolor\":\"white\",\"landcolor\":\"#E5ECF6\",\"showlakes\":true,\"showland\":true,\"subunitcolor\":\"white\"},\"hoverlabel\":{\"align\":\"left\"},\"hovermode\":\"closest\",\"mapbox\":{\"style\":\"light\"},\"paper_bgcolor\":\"white\",\"plot_bgcolor\":\"#E5ECF6\",\"polar\":{\"angularaxis\":{\"gridcolor\":\"white\",\"linecolor\":\"white\",\"ticks\":\"\"},\"bgcolor\":\"#E5ECF6\",\"radialaxis\":{\"gridcolor\":\"white\",\"linecolor\":\"white\",\"ticks\":\"\"}},\"scene\":{\"xaxis\":{\"backgroundcolor\":\"#E5ECF6\",\"gridcolor\":\"white\",\"gridwidth\":2,\"linecolor\":\"white\",\"showbackground\":true,\"ticks\":\"\",\"zerolinecolor\":\"white\"},\"yaxis\":{\"backgroundcolor\":\"#E5ECF6\",\"gridcolor\":\"white\",\"gridwidth\":2,\"linecolor\":\"white\",\"showbackground\":true,\"ticks\":\"\",\"zerolinecolor\":\"white\"},\"zaxis\":{\"backgroundcolor\":\"#E5ECF6\",\"gridcolor\":\"white\",\"gridwidth\":2,\"linecolor\":\"white\",\"showbackground\":true,\"ticks\":\"\",\"zerolinecolor\":\"white\"}},\"shapedefaults\":{\"line\":{\"color\":\"#2a3f5f\"}},\"ternary\":{\"aaxis\":{\"gridcolor\":\"white\",\"linecolor\":\"white\",\"ticks\":\"\"},\"baxis\":{\"gridcolor\":\"white\",\"linecolor\":\"white\",\"ticks\":\"\"},\"bgcolor\":\"#E5ECF6\",\"caxis\":{\"gridcolor\":\"white\",\"linecolor\":\"white\",\"ticks\":\"\"}},\"title\":{\"x\":0.05},\"xaxis\":{\"automargin\":true,\"gridcolor\":\"white\",\"linecolor\":\"white\",\"ticks\":\"\",\"title\":{\"standoff\":15},\"zerolinecolor\":\"white\",\"zerolinewidth\":2},\"yaxis\":{\"automargin\":true,\"gridcolor\":\"white\",\"linecolor\":\"white\",\"ticks\":\"\",\"title\":{\"standoff\":15},\"zerolinecolor\":\"white\",\"zerolinewidth\":2}}},\"title\":{\"font\":{\"color\":\"rgb(1,21,51)\",\"size\":50}},\"width\":480},                        {\"responsive\": true}                    ).then(function(){\n",
              "                            \n",
              "var gd = document.getElementById('7382d690-c187-454b-82cf-e21b672dbacc');\n",
              "var x = new MutationObserver(function (mutations, observer) {{\n",
              "        var display = window.getComputedStyle(gd).display;\n",
              "        if (!display || display === 'none') {{\n",
              "            console.log([gd, 'removed!']);\n",
              "            Plotly.purge(gd);\n",
              "            observer.disconnect();\n",
              "        }}\n",
              "}});\n",
              "\n",
              "// Listen for the removal of the full notebook cells\n",
              "var notebookContainer = gd.closest('#notebook-container');\n",
              "if (notebookContainer) {{\n",
              "    x.observe(notebookContainer, {childList: true});\n",
              "}}\n",
              "\n",
              "// Listen for the clearing of the current output cell\n",
              "var outputEl = gd.closest('.output');\n",
              "if (outputEl) {{\n",
              "    x.observe(outputEl, {childList: true});\n",
              "}}\n",
              "\n",
              "                        })                };                            </script>        </div>\n",
              "</body>\n",
              "</html>"
            ]
          },
          "metadata": {}
        }
      ]
    },
    {
      "cell_type": "markdown",
      "metadata": {
        "id": "sgEMmnAEjGG9"
      },
      "source": [
        "#**PRODUCTO CRUZ O PRODUCTO VECTORIAL**\n",
        "\n",
        "Sean $\\vec{A},\\vec{B}\\in V_3$ tal que $\\vec{A} = (A_1,A_2,A_3)$ y $\\vec{B} = (B_1,B_2,B_3)$ se define el **producto cruz o producto vectorial** como:\n",
        "\n",
        "<br>\n",
        "\n",
        "$$ \\vec{A}\\times \\vec{B} = \\left|\\begin{array}{ccc}\n",
        "\\hat{i} & \\hat{j}&\\hat{k}\\\\\n",
        "A_1 & A_2 & A_3 \\\\\n",
        "B_1 & B_2 & B_3\n",
        "\\end{array} \\right| = (A_2B_3-A_3B_2)\\hat{i} -  (A_1B_3-A_3B_1)\\hat{j} +(A_1B_2-A_2B_1)\\hat{k}  $$\n",
        "\n",
        "<center><img src=\"https://github.com/josorio398/ALGEBRA-LINEAL-CON-PYTHON/blob/master/im%C3%A1genes%20repositorio/productocruz.PNG?raw=true\"  height=\"250\" /> </center>\n",
        "\n",
        "##**Ejemplo:**\n",
        "\n",
        "Dados el vector $\\vec{A}= (1,2,3)$  y $\\vec{B}= (-5,4,8)$ encuentra el vector $\\vec{A} \\times \\vec{B}$ y verifica este producto graficamente."
      ]
    },
    {
      "cell_type": "code",
      "metadata": {
        "colab": {
          "base_uri": "https://localhost:8080/",
          "height": 78
        },
        "id": "oNa7S3_cjKn8",
        "outputId": "b7144e7e-5b7b-481c-e288-6f154b86e2c2"
      },
      "source": [
        "A = Matrix([1,2,3])\n",
        "B = Matrix([-5,4,8])\n",
        "\n",
        "A.cross(B)\n"
      ],
      "execution_count": 56,
      "outputs": [
        {
          "output_type": "execute_result",
          "data": {
            "text/plain": [
              "Matrix([\n",
              "[  4],\n",
              "[-23],\n",
              "[ 14]])"
            ],
            "text/latex": "$\\displaystyle \\left[\\begin{matrix}4\\\\-23\\\\14\\end{matrix}\\right]$"
          },
          "metadata": {},
          "execution_count": 56
        }
      ]
    },
    {
      "cell_type": "code",
      "metadata": {
        "colab": {
          "base_uri": "https://localhost:8080/",
          "height": 497
        },
        "id": "rmnLe8_KB6-9",
        "outputId": "8c61ff84-b0d1-4e62-fb0a-9a0f6c653831"
      },
      "source": [
        "A = Matrix([1,2,3])\n",
        "B = Matrix([-4,2,1])\n",
        "\n",
        "plotvectors3D(A,B,A.cross(B))"
      ],
      "execution_count": 57,
      "outputs": [
        {
          "output_type": "display_data",
          "data": {
            "text/html": [
              "<html>\n",
              "<head><meta charset=\"utf-8\" /></head>\n",
              "<body>\n",
              "    <div>            <script src=\"https://cdnjs.cloudflare.com/ajax/libs/mathjax/2.7.5/MathJax.js?config=TeX-AMS-MML_SVG\"></script><script type=\"text/javascript\">if (window.MathJax) {MathJax.Hub.Config({SVG: {font: \"STIX-Web\"}});}</script>                <script type=\"text/javascript\">window.PlotlyConfig = {MathJaxConfig: 'local'};</script>\n",
              "        <script src=\"https://cdn.plot.ly/plotly-2.2.0.min.js\"></script>                <div id=\"ac209507-9339-4f25-9634-1000d6cc331a\" class=\"plotly-graph-div\" style=\"height:480px; width:480px;\"></div>            <script type=\"text/javascript\">                                    window.PLOTLYENV=window.PLOTLYENV || {};                                    if (document.getElementById(\"ac209507-9339-4f25-9634-1000d6cc331a\")) {                    Plotly.newPlot(                        \"ac209507-9339-4f25-9634-1000d6cc331a\",                        [{\"line\":{\"color\":\"rgb(31,149,22)\",\"width\":7},\"marker\":{\"color\":\"rgb(31,149,22)\",\"size\":1},\"name\":\"vector 1\",\"type\":\"scatter3d\",\"x\":[0,1.0],\"y\":[0,2.0],\"z\":[0,3.0]},{\"anchor\":\"cm\",\"colorbar\":{\"thickness\":20,\"ticklen\":4},\"colorscale\":[[0,\"rgb(31,149,22)\"],[1,\"rgb(31,149,22)\"]],\"name\":\"vector 1\",\"showscale\":false,\"sizemode\":\"absolute\",\"sizeref\":0.43333333333333335,\"type\":\"cone\",\"u\":[1.0],\"v\":[2.0],\"w\":[3.0],\"x\":[1.0],\"y\":[2.0],\"z\":[3.0]},{\"line\":{\"color\":\"rgb(241,22,101)\",\"width\":7},\"marker\":{\"color\":\"rgb(241,22,101)\",\"size\":1},\"name\":\"vector 2\",\"type\":\"scatter3d\",\"x\":[0,-4.0],\"y\":[0,2.0],\"z\":[0,1.0]},{\"anchor\":\"cm\",\"colorbar\":{\"thickness\":20,\"ticklen\":4},\"colorscale\":[[0,\"rgb(241,22,101)\"],[1,\"rgb(241,22,101)\"]],\"name\":\"vector 2\",\"showscale\":false,\"sizemode\":\"absolute\",\"sizeref\":0.43333333333333335,\"type\":\"cone\",\"u\":[-4.0],\"v\":[2.0],\"w\":[1.0],\"x\":[-4.0],\"y\":[2.0],\"z\":[1.0]},{\"line\":{\"color\":\"rgb(46,194,110)\",\"width\":7},\"marker\":{\"color\":\"rgb(46,194,110)\",\"size\":1},\"name\":\"vector 3\",\"type\":\"scatter3d\",\"x\":[0,-4.0],\"y\":[0,-13.0],\"z\":[0,10.0]},{\"anchor\":\"cm\",\"colorbar\":{\"thickness\":20,\"ticklen\":4},\"colorscale\":[[0,\"rgb(46,194,110)\"],[1,\"rgb(46,194,110)\"]],\"name\":\"vector 3\",\"showscale\":false,\"sizemode\":\"absolute\",\"sizeref\":0.43333333333333335,\"type\":\"cone\",\"u\":[-4.0],\"v\":[-13.0],\"w\":[10.0],\"x\":[-4.0],\"y\":[-13.0],\"z\":[10.0]},{\"marker\":{\"color\":\"#2a3f5f\",\"size\":5},\"mode\":\"markers\",\"name\":\"origen\",\"showlegend\":true,\"type\":\"scatter3d\",\"x\":[0],\"y\":[0],\"z\":[0]},{\"hoverinfo\":\"skip\",\"line\":{\"color\":\"#2a3f5f\",\"width\":3},\"marker\":{\"color\":\"#2a3f5f\",\"size\":1},\"name\":\"\",\"showlegend\":false,\"type\":\"scatter3d\",\"x\":[-4.433333333333334,1.4333333333333333],\"y\":[0,0],\"z\":[0,0]},{\"anchor\":\"cm\",\"colorbar\":{\"thickness\":20,\"ticklen\":4},\"colorscale\":[[0,\"#2a3f5f\"],[1,\"#2a3f5f\"]],\"hoverinfo\":\"name\",\"name\":\"Eje x-positivo\",\"showscale\":false,\"sizemode\":\"absolute\",\"sizeref\":0.26,\"type\":\"cone\",\"u\":[1.4333333333333333],\"v\":[0],\"w\":[0],\"x\":[1.4333333333333333],\"y\":[0],\"z\":[0]},{\"hoverinfo\":\"skip\",\"line\":{\"color\":\"#2a3f5f\",\"width\":3},\"marker\":{\"color\":\"#2a3f5f\",\"size\":1},\"name\":\"\",\"showlegend\":false,\"type\":\"scatter3d\",\"x\":[0,0],\"y\":[-13.433333333333334,2.4333333333333336],\"z\":[0,0]},{\"anchor\":\"cm\",\"colorbar\":{\"thickness\":20,\"ticklen\":4},\"colorscale\":[[0,\"#2a3f5f\"],[1,\"#2a3f5f\"]],\"hoverinfo\":\"name\",\"name\":\"Eje y-positivo \",\"showscale\":false,\"sizemode\":\"absolute\",\"sizeref\":0.26,\"type\":\"cone\",\"u\":[0],\"v\":[2.4333333333333336],\"w\":[0],\"x\":[0],\"y\":[2.4333333333333336],\"z\":[0]},{\"hoverinfo\":\"skip\",\"line\":{\"color\":\"#2a3f5f\",\"width\":3},\"marker\":{\"color\":\"#2a3f5f\",\"size\":1},\"name\":\"eje z-positivo\",\"showlegend\":false,\"type\":\"scatter3d\",\"x\":[0,0],\"y\":[0,0],\"z\":[-0.7333333333333334,10.433333333333334]},{\"anchor\":\"cm\",\"colorbar\":{\"thickness\":20,\"ticklen\":4},\"colorscale\":[[0,\"#2a3f5f\"],[1,\"#2a3f5f\"]],\"hoverinfo\":\"name\",\"name\":\"Eje z-positivo\",\"showscale\":false,\"sizemode\":\"absolute\",\"sizeref\":0.26,\"type\":\"cone\",\"u\":[0],\"v\":[0],\"w\":[10.433333333333334],\"x\":[0],\"y\":[0],\"z\":[10.433333333333334]}],                        {\"height\":480,\"legend\":{\"orientation\":\"h\",\"x\":0.03,\"y\":1.3},\"margin\":{\"b\":0,\"l\":0,\"r\":0,\"t\":0},\"showlegend\":true,\"template\":{\"data\":{\"bar\":[{\"error_x\":{\"color\":\"#2a3f5f\"},\"error_y\":{\"color\":\"#2a3f5f\"},\"marker\":{\"line\":{\"color\":\"#E5ECF6\",\"width\":0.5},\"pattern\":{\"fillmode\":\"overlay\",\"size\":10,\"solidity\":0.2}},\"type\":\"bar\"}],\"barpolar\":[{\"marker\":{\"line\":{\"color\":\"#E5ECF6\",\"width\":0.5},\"pattern\":{\"fillmode\":\"overlay\",\"size\":10,\"solidity\":0.2}},\"type\":\"barpolar\"}],\"carpet\":[{\"aaxis\":{\"endlinecolor\":\"#2a3f5f\",\"gridcolor\":\"white\",\"linecolor\":\"white\",\"minorgridcolor\":\"white\",\"startlinecolor\":\"#2a3f5f\"},\"baxis\":{\"endlinecolor\":\"#2a3f5f\",\"gridcolor\":\"white\",\"linecolor\":\"white\",\"minorgridcolor\":\"white\",\"startlinecolor\":\"#2a3f5f\"},\"type\":\"carpet\"}],\"choropleth\":[{\"colorbar\":{\"outlinewidth\":0,\"ticks\":\"\"},\"type\":\"choropleth\"}],\"contour\":[{\"colorbar\":{\"outlinewidth\":0,\"ticks\":\"\"},\"colorscale\":[[0.0,\"#0d0887\"],[0.1111111111111111,\"#46039f\"],[0.2222222222222222,\"#7201a8\"],[0.3333333333333333,\"#9c179e\"],[0.4444444444444444,\"#bd3786\"],[0.5555555555555556,\"#d8576b\"],[0.6666666666666666,\"#ed7953\"],[0.7777777777777778,\"#fb9f3a\"],[0.8888888888888888,\"#fdca26\"],[1.0,\"#f0f921\"]],\"type\":\"contour\"}],\"contourcarpet\":[{\"colorbar\":{\"outlinewidth\":0,\"ticks\":\"\"},\"type\":\"contourcarpet\"}],\"heatmap\":[{\"colorbar\":{\"outlinewidth\":0,\"ticks\":\"\"},\"colorscale\":[[0.0,\"#0d0887\"],[0.1111111111111111,\"#46039f\"],[0.2222222222222222,\"#7201a8\"],[0.3333333333333333,\"#9c179e\"],[0.4444444444444444,\"#bd3786\"],[0.5555555555555556,\"#d8576b\"],[0.6666666666666666,\"#ed7953\"],[0.7777777777777778,\"#fb9f3a\"],[0.8888888888888888,\"#fdca26\"],[1.0,\"#f0f921\"]],\"type\":\"heatmap\"}],\"heatmapgl\":[{\"colorbar\":{\"outlinewidth\":0,\"ticks\":\"\"},\"colorscale\":[[0.0,\"#0d0887\"],[0.1111111111111111,\"#46039f\"],[0.2222222222222222,\"#7201a8\"],[0.3333333333333333,\"#9c179e\"],[0.4444444444444444,\"#bd3786\"],[0.5555555555555556,\"#d8576b\"],[0.6666666666666666,\"#ed7953\"],[0.7777777777777778,\"#fb9f3a\"],[0.8888888888888888,\"#fdca26\"],[1.0,\"#f0f921\"]],\"type\":\"heatmapgl\"}],\"histogram\":[{\"marker\":{\"pattern\":{\"fillmode\":\"overlay\",\"size\":10,\"solidity\":0.2}},\"type\":\"histogram\"}],\"histogram2d\":[{\"colorbar\":{\"outlinewidth\":0,\"ticks\":\"\"},\"colorscale\":[[0.0,\"#0d0887\"],[0.1111111111111111,\"#46039f\"],[0.2222222222222222,\"#7201a8\"],[0.3333333333333333,\"#9c179e\"],[0.4444444444444444,\"#bd3786\"],[0.5555555555555556,\"#d8576b\"],[0.6666666666666666,\"#ed7953\"],[0.7777777777777778,\"#fb9f3a\"],[0.8888888888888888,\"#fdca26\"],[1.0,\"#f0f921\"]],\"type\":\"histogram2d\"}],\"histogram2dcontour\":[{\"colorbar\":{\"outlinewidth\":0,\"ticks\":\"\"},\"colorscale\":[[0.0,\"#0d0887\"],[0.1111111111111111,\"#46039f\"],[0.2222222222222222,\"#7201a8\"],[0.3333333333333333,\"#9c179e\"],[0.4444444444444444,\"#bd3786\"],[0.5555555555555556,\"#d8576b\"],[0.6666666666666666,\"#ed7953\"],[0.7777777777777778,\"#fb9f3a\"],[0.8888888888888888,\"#fdca26\"],[1.0,\"#f0f921\"]],\"type\":\"histogram2dcontour\"}],\"mesh3d\":[{\"colorbar\":{\"outlinewidth\":0,\"ticks\":\"\"},\"type\":\"mesh3d\"}],\"parcoords\":[{\"line\":{\"colorbar\":{\"outlinewidth\":0,\"ticks\":\"\"}},\"type\":\"parcoords\"}],\"pie\":[{\"automargin\":true,\"type\":\"pie\"}],\"scatter\":[{\"marker\":{\"colorbar\":{\"outlinewidth\":0,\"ticks\":\"\"}},\"type\":\"scatter\"}],\"scatter3d\":[{\"line\":{\"colorbar\":{\"outlinewidth\":0,\"ticks\":\"\"}},\"marker\":{\"colorbar\":{\"outlinewidth\":0,\"ticks\":\"\"}},\"type\":\"scatter3d\"}],\"scattercarpet\":[{\"marker\":{\"colorbar\":{\"outlinewidth\":0,\"ticks\":\"\"}},\"type\":\"scattercarpet\"}],\"scattergeo\":[{\"marker\":{\"colorbar\":{\"outlinewidth\":0,\"ticks\":\"\"}},\"type\":\"scattergeo\"}],\"scattergl\":[{\"marker\":{\"colorbar\":{\"outlinewidth\":0,\"ticks\":\"\"}},\"type\":\"scattergl\"}],\"scattermapbox\":[{\"marker\":{\"colorbar\":{\"outlinewidth\":0,\"ticks\":\"\"}},\"type\":\"scattermapbox\"}],\"scatterpolar\":[{\"marker\":{\"colorbar\":{\"outlinewidth\":0,\"ticks\":\"\"}},\"type\":\"scatterpolar\"}],\"scatterpolargl\":[{\"marker\":{\"colorbar\":{\"outlinewidth\":0,\"ticks\":\"\"}},\"type\":\"scatterpolargl\"}],\"scatterternary\":[{\"marker\":{\"colorbar\":{\"outlinewidth\":0,\"ticks\":\"\"}},\"type\":\"scatterternary\"}],\"surface\":[{\"colorbar\":{\"outlinewidth\":0,\"ticks\":\"\"},\"colorscale\":[[0.0,\"#0d0887\"],[0.1111111111111111,\"#46039f\"],[0.2222222222222222,\"#7201a8\"],[0.3333333333333333,\"#9c179e\"],[0.4444444444444444,\"#bd3786\"],[0.5555555555555556,\"#d8576b\"],[0.6666666666666666,\"#ed7953\"],[0.7777777777777778,\"#fb9f3a\"],[0.8888888888888888,\"#fdca26\"],[1.0,\"#f0f921\"]],\"type\":\"surface\"}],\"table\":[{\"cells\":{\"fill\":{\"color\":\"#EBF0F8\"},\"line\":{\"color\":\"white\"}},\"header\":{\"fill\":{\"color\":\"#C8D4E3\"},\"line\":{\"color\":\"white\"}},\"type\":\"table\"}]},\"layout\":{\"annotationdefaults\":{\"arrowcolor\":\"#2a3f5f\",\"arrowhead\":0,\"arrowwidth\":1},\"autotypenumbers\":\"strict\",\"coloraxis\":{\"colorbar\":{\"outlinewidth\":0,\"ticks\":\"\"}},\"colorscale\":{\"diverging\":[[0,\"#8e0152\"],[0.1,\"#c51b7d\"],[0.2,\"#de77ae\"],[0.3,\"#f1b6da\"],[0.4,\"#fde0ef\"],[0.5,\"#f7f7f7\"],[0.6,\"#e6f5d0\"],[0.7,\"#b8e186\"],[0.8,\"#7fbc41\"],[0.9,\"#4d9221\"],[1,\"#276419\"]],\"sequential\":[[0.0,\"#0d0887\"],[0.1111111111111111,\"#46039f\"],[0.2222222222222222,\"#7201a8\"],[0.3333333333333333,\"#9c179e\"],[0.4444444444444444,\"#bd3786\"],[0.5555555555555556,\"#d8576b\"],[0.6666666666666666,\"#ed7953\"],[0.7777777777777778,\"#fb9f3a\"],[0.8888888888888888,\"#fdca26\"],[1.0,\"#f0f921\"]],\"sequentialminus\":[[0.0,\"#0d0887\"],[0.1111111111111111,\"#46039f\"],[0.2222222222222222,\"#7201a8\"],[0.3333333333333333,\"#9c179e\"],[0.4444444444444444,\"#bd3786\"],[0.5555555555555556,\"#d8576b\"],[0.6666666666666666,\"#ed7953\"],[0.7777777777777778,\"#fb9f3a\"],[0.8888888888888888,\"#fdca26\"],[1.0,\"#f0f921\"]]},\"colorway\":[\"#636efa\",\"#EF553B\",\"#00cc96\",\"#ab63fa\",\"#FFA15A\",\"#19d3f3\",\"#FF6692\",\"#B6E880\",\"#FF97FF\",\"#FECB52\"],\"font\":{\"color\":\"#2a3f5f\"},\"geo\":{\"bgcolor\":\"white\",\"lakecolor\":\"white\",\"landcolor\":\"#E5ECF6\",\"showlakes\":true,\"showland\":true,\"subunitcolor\":\"white\"},\"hoverlabel\":{\"align\":\"left\"},\"hovermode\":\"closest\",\"mapbox\":{\"style\":\"light\"},\"paper_bgcolor\":\"white\",\"plot_bgcolor\":\"#E5ECF6\",\"polar\":{\"angularaxis\":{\"gridcolor\":\"white\",\"linecolor\":\"white\",\"ticks\":\"\"},\"bgcolor\":\"#E5ECF6\",\"radialaxis\":{\"gridcolor\":\"white\",\"linecolor\":\"white\",\"ticks\":\"\"}},\"scene\":{\"xaxis\":{\"backgroundcolor\":\"#E5ECF6\",\"gridcolor\":\"white\",\"gridwidth\":2,\"linecolor\":\"white\",\"showbackground\":true,\"ticks\":\"\",\"zerolinecolor\":\"white\"},\"yaxis\":{\"backgroundcolor\":\"#E5ECF6\",\"gridcolor\":\"white\",\"gridwidth\":2,\"linecolor\":\"white\",\"showbackground\":true,\"ticks\":\"\",\"zerolinecolor\":\"white\"},\"zaxis\":{\"backgroundcolor\":\"#E5ECF6\",\"gridcolor\":\"white\",\"gridwidth\":2,\"linecolor\":\"white\",\"showbackground\":true,\"ticks\":\"\",\"zerolinecolor\":\"white\"}},\"shapedefaults\":{\"line\":{\"color\":\"#2a3f5f\"}},\"ternary\":{\"aaxis\":{\"gridcolor\":\"white\",\"linecolor\":\"white\",\"ticks\":\"\"},\"baxis\":{\"gridcolor\":\"white\",\"linecolor\":\"white\",\"ticks\":\"\"},\"bgcolor\":\"#E5ECF6\",\"caxis\":{\"gridcolor\":\"white\",\"linecolor\":\"white\",\"ticks\":\"\"}},\"title\":{\"x\":0.05},\"xaxis\":{\"automargin\":true,\"gridcolor\":\"white\",\"linecolor\":\"white\",\"ticks\":\"\",\"title\":{\"standoff\":15},\"zerolinecolor\":\"white\",\"zerolinewidth\":2},\"yaxis\":{\"automargin\":true,\"gridcolor\":\"white\",\"linecolor\":\"white\",\"ticks\":\"\",\"title\":{\"standoff\":15},\"zerolinecolor\":\"white\",\"zerolinewidth\":2}}},\"title\":{\"font\":{\"color\":\"rgb(1,21,51)\",\"size\":50}},\"width\":480},                        {\"responsive\": true}                    ).then(function(){\n",
              "                            \n",
              "var gd = document.getElementById('ac209507-9339-4f25-9634-1000d6cc331a');\n",
              "var x = new MutationObserver(function (mutations, observer) {{\n",
              "        var display = window.getComputedStyle(gd).display;\n",
              "        if (!display || display === 'none') {{\n",
              "            console.log([gd, 'removed!']);\n",
              "            Plotly.purge(gd);\n",
              "            observer.disconnect();\n",
              "        }}\n",
              "}});\n",
              "\n",
              "// Listen for the removal of the full notebook cells\n",
              "var notebookContainer = gd.closest('#notebook-container');\n",
              "if (notebookContainer) {{\n",
              "    x.observe(notebookContainer, {childList: true});\n",
              "}}\n",
              "\n",
              "// Listen for the clearing of the current output cell\n",
              "var outputEl = gd.closest('.output');\n",
              "if (outputEl) {{\n",
              "    x.observe(outputEl, {childList: true});\n",
              "}}\n",
              "\n",
              "                        })                };                            </script>        </div>\n",
              "</body>\n",
              "</html>"
            ]
          },
          "metadata": {}
        }
      ]
    },
    {
      "cell_type": "markdown",
      "metadata": {
        "id": "ewWF0H3M_Ug1"
      },
      "source": [
        "#**Propiedades producto vectorial de vectores**\n",
        "\n",
        "Sean los vectores ${\\displaystyle \\vec{A},\\vec{B},\\vec{C}\\in V_3}$ y $k \\in \\mathbb{R}$, se cumplen las siguientes propiedades relacionadas con el producto vectorial:\n",
        "\n",
        "|            PROPIEDAD           |       EXPLICACIÓN                      |\n",
        "|:------------------------------:|:--------------------------------------:|\n",
        "| Propiedad anticonmutativa                   |$$ \\vec{A} \\times \\vec{B} =-( \\vec{B} \\times \\vec{A})$$|\n",
        "| Asociativa                      |      $$k(\\vec{A} \\times \\vec{C}) = (k\\vec{A})\\times \\vec{B} =\\vec{A}\\times(k\\vec{B})$$         | \n",
        "| Producto con el vector nulo  |             $$\\vec{A} \\times \\vec{0}= \\vec{0} \\times \\vec{A}=\\vec{0}$$                           |\n",
        "| Distributiva respecto a la suma de vectores  |     $$\\vec{A} \\times(\\vec{B}+\\vec{C}) = \\vec{A}\\times \\vec{B} +\\vec{A}\\times \\vec{C} $$                                  |\n",
        "| Asociativa producto triple  |     $$\\vec{A} \\cdot (\\vec{B}\\times\\vec{C}) = (\\vec{A}\\times \\vec{B}) \\cdot \\vec{C} $$                                  |\n",
        "\n"
      ]
    },
    {
      "cell_type": "markdown",
      "metadata": {
        "id": "WR4xP_LtU45t"
      },
      "source": [
        "#**APLICACIONES PRODUCTO VECTORIAL**\n",
        "\n",
        "#**Area del paralelogramo**\n",
        "\n",
        "Dados los vectores ${\\displaystyle \\vec{U},\\vec{V}\\in V_3}$ si el ángulo entre ellos es $θ$, la magnitud del producto vectorial entre estos dos vectores la podemos expresar como: \n",
        "\n",
        "$$||\\vec{U}\\times\\vec{V}|| = ||\\vec{U}||  ||\\vec{V}|| \\sin{θ}$$\n",
        "<br>\n",
        "\n",
        "Luego  se puede afirmar desde la representación geométrica que $||\\vec{U}\\times\\vec{V}||$ es el área del paralelogramo determinado por  $\\vec{U}$ y $\\vec{V}$\n",
        "\n",
        "<center><img src=\"https://github.com/josorio398/ALGEBRA-LINEAL-CON-PYTHON/blob/master/im%C3%A1genes%20repositorio/areaparalelogramo.PNG?raw=true\"  height=\"250\" /> </center>\n",
        "\n",
        "##**Ejemplo:**\n",
        "Dados el vector $\\vec{A}= (1,2,3)$  y $\\vec{B}= (4,5,6)$ realiza su gáfica y cálcula el area del paralelogramo determinado por estos dos vectores."
      ]
    },
    {
      "cell_type": "code",
      "metadata": {
        "id": "vF4S-Xk2_730",
        "colab": {
          "base_uri": "https://localhost:8080/",
          "height": 38
        },
        "outputId": "132d642d-8442-41da-99d7-ec3fbdc9e3a4"
      },
      "source": [
        "A = Matrix([1,2,3])\n",
        "B = Matrix([2,-3,4])\n",
        "\n",
        "A.cross(B).norm()"
      ],
      "execution_count": 58,
      "outputs": [
        {
          "output_type": "execute_result",
          "data": {
            "text/plain": [
              "3*sqrt(38)"
            ],
            "text/latex": "$\\displaystyle 3 \\sqrt{38}$"
          },
          "metadata": {},
          "execution_count": 58
        }
      ]
    },
    {
      "cell_type": "code",
      "metadata": {
        "colab": {
          "base_uri": "https://localhost:8080/",
          "height": 497
        },
        "id": "-VR6jznzH_2q",
        "outputId": "13bb3e68-1b3e-4960-894e-d13b2652109a"
      },
      "source": [
        "plotvectors3D(A,B,[(2,-3,4),A],[(1,2,3),B])"
      ],
      "execution_count": null,
      "outputs": [
        {
          "output_type": "display_data",
          "data": {
            "text/html": [
              "<html>\n",
              "<head><meta charset=\"utf-8\" /></head>\n",
              "<body>\n",
              "    <div>            <script src=\"https://cdnjs.cloudflare.com/ajax/libs/mathjax/2.7.5/MathJax.js?config=TeX-AMS-MML_SVG\"></script><script type=\"text/javascript\">if (window.MathJax) {MathJax.Hub.Config({SVG: {font: \"STIX-Web\"}});}</script>                <script type=\"text/javascript\">window.PlotlyConfig = {MathJaxConfig: 'local'};</script>\n",
              "        <script src=\"https://cdn.plot.ly/plotly-2.2.0.min.js\"></script>                <div id=\"1b3e8f32-5d09-4a8b-b8f3-0f0c39e3da71\" class=\"plotly-graph-div\" style=\"height:480px; width:480px;\"></div>            <script type=\"text/javascript\">                                    window.PLOTLYENV=window.PLOTLYENV || {};                                    if (document.getElementById(\"1b3e8f32-5d09-4a8b-b8f3-0f0c39e3da71\")) {                    Plotly.newPlot(                        \"1b3e8f32-5d09-4a8b-b8f3-0f0c39e3da71\",                        [{\"line\":{\"color\":\"rgb(198,213,115)\",\"width\":7},\"marker\":{\"color\":\"rgb(198,213,115)\",\"size\":1},\"name\":\"vector 1\",\"type\":\"scatter3d\",\"x\":[0,1.0],\"y\":[0,2.0],\"z\":[0,3.0]},{\"anchor\":\"cm\",\"colorbar\":{\"thickness\":20,\"ticklen\":4},\"colorscale\":[[0,\"rgb(198,213,115)\"],[1,\"rgb(198,213,115)\"]],\"name\":\"vector 1\",\"showscale\":false,\"sizemode\":\"absolute\",\"sizeref\":0.4,\"type\":\"cone\",\"u\":[1.0],\"v\":[2.0],\"w\":[3.0],\"x\":[1.0],\"y\":[2.0],\"z\":[3.0]},{\"line\":{\"color\":\"rgb(251,200,247)\",\"width\":7},\"marker\":{\"color\":\"rgb(251,200,247)\",\"size\":1},\"name\":\"vector 2\",\"type\":\"scatter3d\",\"x\":[0,2.0],\"y\":[0,-3.0],\"z\":[0,4.0]},{\"anchor\":\"cm\",\"colorbar\":{\"thickness\":20,\"ticklen\":4},\"colorscale\":[[0,\"rgb(251,200,247)\"],[1,\"rgb(251,200,247)\"]],\"name\":\"vector 2\",\"showscale\":false,\"sizemode\":\"absolute\",\"sizeref\":0.4,\"type\":\"cone\",\"u\":[2.0],\"v\":[-3.0],\"w\":[4.0],\"x\":[2.0],\"y\":[-3.0],\"z\":[4.0]},{\"hoverinfo\":\"name+text\",\"hovertext\":\"Tail=(2,-3,4)\\nHead=(3.0,-1.0,7.0)\",\"line\":{\"color\":\"rgb(124,168,146)\",\"width\":7},\"marker\":{\"color\":\"rgb(124,168,146)\",\"size\":1},\"name\":\"vector 3\",\"type\":\"scatter3d\",\"x\":[2,3.0],\"y\":[-3,-1.0],\"z\":[4,7.0]},{\"anchor\":\"cm\",\"colorbar\":{\"thickness\":20,\"ticklen\":4},\"colorscale\":[[0,\"rgb(124,168,146)\"],[1,\"rgb(124,168,146)\"]],\"hoverinfo\":\"skip\",\"name\":\"vector 3\",\"showscale\":false,\"sizemode\":\"absolute\",\"sizeref\":0.4,\"type\":\"cone\",\"u\":[0.5],\"v\":[1.0],\"w\":[1.5],\"x\":[2.937],\"y\":[-1.126],\"z\":[6.811]},{\"hoverinfo\":\"name+text\",\"hovertext\":\"Tail=(1,2,3)\\nHead=(3.0,-1.0,7.0)\",\"line\":{\"color\":\"rgb(215,85,76)\",\"width\":7},\"marker\":{\"color\":\"rgb(215,85,76)\",\"size\":1},\"name\":\"vector 4\",\"type\":\"scatter3d\",\"x\":[1,3.0],\"y\":[2,-1.0],\"z\":[3,7.0]},{\"anchor\":\"cm\",\"colorbar\":{\"thickness\":20,\"ticklen\":4},\"colorscale\":[[0,\"rgb(215,85,76)\"],[1,\"rgb(215,85,76)\"]],\"hoverinfo\":\"skip\",\"name\":\"vector 4\",\"showscale\":false,\"sizemode\":\"absolute\",\"sizeref\":0.4,\"type\":\"cone\",\"u\":[1.0],\"v\":[-1.5],\"w\":[2.0],\"x\":[2.874],\"y\":[-0.8109999999999999],\"z\":[6.748]},{\"marker\":{\"color\":\"#2a3f5f\",\"size\":5},\"mode\":\"markers\",\"name\":\"origen\",\"showlegend\":true,\"type\":\"scatter3d\",\"x\":[0],\"y\":[0],\"z\":[0]},{\"hoverinfo\":\"skip\",\"line\":{\"color\":\"#2a3f5f\",\"width\":3},\"marker\":{\"color\":\"#2a3f5f\",\"size\":1},\"name\":\"\",\"showlegend\":false,\"type\":\"scatter3d\",\"x\":[-0.4,3.4],\"y\":[0,0],\"z\":[0,0]},{\"anchor\":\"cm\",\"colorbar\":{\"thickness\":20,\"ticklen\":4},\"colorscale\":[[0,\"#2a3f5f\"],[1,\"#2a3f5f\"]],\"hoverinfo\":\"name\",\"name\":\"Eje x-positivo\",\"showscale\":false,\"sizemode\":\"absolute\",\"sizeref\":0.24,\"type\":\"cone\",\"u\":[3.4],\"v\":[0],\"w\":[0],\"x\":[3.4],\"y\":[0],\"z\":[0]},{\"hoverinfo\":\"skip\",\"line\":{\"color\":\"#2a3f5f\",\"width\":3},\"marker\":{\"color\":\"#2a3f5f\",\"size\":1},\"name\":\"\",\"showlegend\":false,\"type\":\"scatter3d\",\"x\":[0,0],\"y\":[-3.4,2.4],\"z\":[0,0]},{\"anchor\":\"cm\",\"colorbar\":{\"thickness\":20,\"ticklen\":4},\"colorscale\":[[0,\"#2a3f5f\"],[1,\"#2a3f5f\"]],\"hoverinfo\":\"name\",\"name\":\"Eje y-positivo \",\"showscale\":false,\"sizemode\":\"absolute\",\"sizeref\":0.24,\"type\":\"cone\",\"u\":[0],\"v\":[2.4],\"w\":[0],\"x\":[0],\"y\":[2.4],\"z\":[0]},{\"hoverinfo\":\"skip\",\"line\":{\"color\":\"#2a3f5f\",\"width\":3},\"marker\":{\"color\":\"#2a3f5f\",\"size\":1},\"name\":\"eje z-positivo\",\"showlegend\":false,\"type\":\"scatter3d\",\"x\":[0,0],\"y\":[0,0],\"z\":[-0.7,7.4]},{\"anchor\":\"cm\",\"colorbar\":{\"thickness\":20,\"ticklen\":4},\"colorscale\":[[0,\"#2a3f5f\"],[1,\"#2a3f5f\"]],\"hoverinfo\":\"name\",\"name\":\"Eje z-positivo\",\"showscale\":false,\"sizemode\":\"absolute\",\"sizeref\":0.24,\"type\":\"cone\",\"u\":[0],\"v\":[0],\"w\":[7.4],\"x\":[0],\"y\":[0],\"z\":[7.4]}],                        {\"height\":480,\"legend\":{\"orientation\":\"h\",\"x\":0.03,\"y\":1.3},\"margin\":{\"b\":0,\"l\":0,\"r\":0,\"t\":0},\"showlegend\":true,\"template\":{\"data\":{\"bar\":[{\"error_x\":{\"color\":\"#2a3f5f\"},\"error_y\":{\"color\":\"#2a3f5f\"},\"marker\":{\"line\":{\"color\":\"#E5ECF6\",\"width\":0.5},\"pattern\":{\"fillmode\":\"overlay\",\"size\":10,\"solidity\":0.2}},\"type\":\"bar\"}],\"barpolar\":[{\"marker\":{\"line\":{\"color\":\"#E5ECF6\",\"width\":0.5},\"pattern\":{\"fillmode\":\"overlay\",\"size\":10,\"solidity\":0.2}},\"type\":\"barpolar\"}],\"carpet\":[{\"aaxis\":{\"endlinecolor\":\"#2a3f5f\",\"gridcolor\":\"white\",\"linecolor\":\"white\",\"minorgridcolor\":\"white\",\"startlinecolor\":\"#2a3f5f\"},\"baxis\":{\"endlinecolor\":\"#2a3f5f\",\"gridcolor\":\"white\",\"linecolor\":\"white\",\"minorgridcolor\":\"white\",\"startlinecolor\":\"#2a3f5f\"},\"type\":\"carpet\"}],\"choropleth\":[{\"colorbar\":{\"outlinewidth\":0,\"ticks\":\"\"},\"type\":\"choropleth\"}],\"contour\":[{\"colorbar\":{\"outlinewidth\":0,\"ticks\":\"\"},\"colorscale\":[[0.0,\"#0d0887\"],[0.1111111111111111,\"#46039f\"],[0.2222222222222222,\"#7201a8\"],[0.3333333333333333,\"#9c179e\"],[0.4444444444444444,\"#bd3786\"],[0.5555555555555556,\"#d8576b\"],[0.6666666666666666,\"#ed7953\"],[0.7777777777777778,\"#fb9f3a\"],[0.8888888888888888,\"#fdca26\"],[1.0,\"#f0f921\"]],\"type\":\"contour\"}],\"contourcarpet\":[{\"colorbar\":{\"outlinewidth\":0,\"ticks\":\"\"},\"type\":\"contourcarpet\"}],\"heatmap\":[{\"colorbar\":{\"outlinewidth\":0,\"ticks\":\"\"},\"colorscale\":[[0.0,\"#0d0887\"],[0.1111111111111111,\"#46039f\"],[0.2222222222222222,\"#7201a8\"],[0.3333333333333333,\"#9c179e\"],[0.4444444444444444,\"#bd3786\"],[0.5555555555555556,\"#d8576b\"],[0.6666666666666666,\"#ed7953\"],[0.7777777777777778,\"#fb9f3a\"],[0.8888888888888888,\"#fdca26\"],[1.0,\"#f0f921\"]],\"type\":\"heatmap\"}],\"heatmapgl\":[{\"colorbar\":{\"outlinewidth\":0,\"ticks\":\"\"},\"colorscale\":[[0.0,\"#0d0887\"],[0.1111111111111111,\"#46039f\"],[0.2222222222222222,\"#7201a8\"],[0.3333333333333333,\"#9c179e\"],[0.4444444444444444,\"#bd3786\"],[0.5555555555555556,\"#d8576b\"],[0.6666666666666666,\"#ed7953\"],[0.7777777777777778,\"#fb9f3a\"],[0.8888888888888888,\"#fdca26\"],[1.0,\"#f0f921\"]],\"type\":\"heatmapgl\"}],\"histogram\":[{\"marker\":{\"pattern\":{\"fillmode\":\"overlay\",\"size\":10,\"solidity\":0.2}},\"type\":\"histogram\"}],\"histogram2d\":[{\"colorbar\":{\"outlinewidth\":0,\"ticks\":\"\"},\"colorscale\":[[0.0,\"#0d0887\"],[0.1111111111111111,\"#46039f\"],[0.2222222222222222,\"#7201a8\"],[0.3333333333333333,\"#9c179e\"],[0.4444444444444444,\"#bd3786\"],[0.5555555555555556,\"#d8576b\"],[0.6666666666666666,\"#ed7953\"],[0.7777777777777778,\"#fb9f3a\"],[0.8888888888888888,\"#fdca26\"],[1.0,\"#f0f921\"]],\"type\":\"histogram2d\"}],\"histogram2dcontour\":[{\"colorbar\":{\"outlinewidth\":0,\"ticks\":\"\"},\"colorscale\":[[0.0,\"#0d0887\"],[0.1111111111111111,\"#46039f\"],[0.2222222222222222,\"#7201a8\"],[0.3333333333333333,\"#9c179e\"],[0.4444444444444444,\"#bd3786\"],[0.5555555555555556,\"#d8576b\"],[0.6666666666666666,\"#ed7953\"],[0.7777777777777778,\"#fb9f3a\"],[0.8888888888888888,\"#fdca26\"],[1.0,\"#f0f921\"]],\"type\":\"histogram2dcontour\"}],\"mesh3d\":[{\"colorbar\":{\"outlinewidth\":0,\"ticks\":\"\"},\"type\":\"mesh3d\"}],\"parcoords\":[{\"line\":{\"colorbar\":{\"outlinewidth\":0,\"ticks\":\"\"}},\"type\":\"parcoords\"}],\"pie\":[{\"automargin\":true,\"type\":\"pie\"}],\"scatter\":[{\"marker\":{\"colorbar\":{\"outlinewidth\":0,\"ticks\":\"\"}},\"type\":\"scatter\"}],\"scatter3d\":[{\"line\":{\"colorbar\":{\"outlinewidth\":0,\"ticks\":\"\"}},\"marker\":{\"colorbar\":{\"outlinewidth\":0,\"ticks\":\"\"}},\"type\":\"scatter3d\"}],\"scattercarpet\":[{\"marker\":{\"colorbar\":{\"outlinewidth\":0,\"ticks\":\"\"}},\"type\":\"scattercarpet\"}],\"scattergeo\":[{\"marker\":{\"colorbar\":{\"outlinewidth\":0,\"ticks\":\"\"}},\"type\":\"scattergeo\"}],\"scattergl\":[{\"marker\":{\"colorbar\":{\"outlinewidth\":0,\"ticks\":\"\"}},\"type\":\"scattergl\"}],\"scattermapbox\":[{\"marker\":{\"colorbar\":{\"outlinewidth\":0,\"ticks\":\"\"}},\"type\":\"scattermapbox\"}],\"scatterpolar\":[{\"marker\":{\"colorbar\":{\"outlinewidth\":0,\"ticks\":\"\"}},\"type\":\"scatterpolar\"}],\"scatterpolargl\":[{\"marker\":{\"colorbar\":{\"outlinewidth\":0,\"ticks\":\"\"}},\"type\":\"scatterpolargl\"}],\"scatterternary\":[{\"marker\":{\"colorbar\":{\"outlinewidth\":0,\"ticks\":\"\"}},\"type\":\"scatterternary\"}],\"surface\":[{\"colorbar\":{\"outlinewidth\":0,\"ticks\":\"\"},\"colorscale\":[[0.0,\"#0d0887\"],[0.1111111111111111,\"#46039f\"],[0.2222222222222222,\"#7201a8\"],[0.3333333333333333,\"#9c179e\"],[0.4444444444444444,\"#bd3786\"],[0.5555555555555556,\"#d8576b\"],[0.6666666666666666,\"#ed7953\"],[0.7777777777777778,\"#fb9f3a\"],[0.8888888888888888,\"#fdca26\"],[1.0,\"#f0f921\"]],\"type\":\"surface\"}],\"table\":[{\"cells\":{\"fill\":{\"color\":\"#EBF0F8\"},\"line\":{\"color\":\"white\"}},\"header\":{\"fill\":{\"color\":\"#C8D4E3\"},\"line\":{\"color\":\"white\"}},\"type\":\"table\"}]},\"layout\":{\"annotationdefaults\":{\"arrowcolor\":\"#2a3f5f\",\"arrowhead\":0,\"arrowwidth\":1},\"autotypenumbers\":\"strict\",\"coloraxis\":{\"colorbar\":{\"outlinewidth\":0,\"ticks\":\"\"}},\"colorscale\":{\"diverging\":[[0,\"#8e0152\"],[0.1,\"#c51b7d\"],[0.2,\"#de77ae\"],[0.3,\"#f1b6da\"],[0.4,\"#fde0ef\"],[0.5,\"#f7f7f7\"],[0.6,\"#e6f5d0\"],[0.7,\"#b8e186\"],[0.8,\"#7fbc41\"],[0.9,\"#4d9221\"],[1,\"#276419\"]],\"sequential\":[[0.0,\"#0d0887\"],[0.1111111111111111,\"#46039f\"],[0.2222222222222222,\"#7201a8\"],[0.3333333333333333,\"#9c179e\"],[0.4444444444444444,\"#bd3786\"],[0.5555555555555556,\"#d8576b\"],[0.6666666666666666,\"#ed7953\"],[0.7777777777777778,\"#fb9f3a\"],[0.8888888888888888,\"#fdca26\"],[1.0,\"#f0f921\"]],\"sequentialminus\":[[0.0,\"#0d0887\"],[0.1111111111111111,\"#46039f\"],[0.2222222222222222,\"#7201a8\"],[0.3333333333333333,\"#9c179e\"],[0.4444444444444444,\"#bd3786\"],[0.5555555555555556,\"#d8576b\"],[0.6666666666666666,\"#ed7953\"],[0.7777777777777778,\"#fb9f3a\"],[0.8888888888888888,\"#fdca26\"],[1.0,\"#f0f921\"]]},\"colorway\":[\"#636efa\",\"#EF553B\",\"#00cc96\",\"#ab63fa\",\"#FFA15A\",\"#19d3f3\",\"#FF6692\",\"#B6E880\",\"#FF97FF\",\"#FECB52\"],\"font\":{\"color\":\"#2a3f5f\"},\"geo\":{\"bgcolor\":\"white\",\"lakecolor\":\"white\",\"landcolor\":\"#E5ECF6\",\"showlakes\":true,\"showland\":true,\"subunitcolor\":\"white\"},\"hoverlabel\":{\"align\":\"left\"},\"hovermode\":\"closest\",\"mapbox\":{\"style\":\"light\"},\"paper_bgcolor\":\"white\",\"plot_bgcolor\":\"#E5ECF6\",\"polar\":{\"angularaxis\":{\"gridcolor\":\"white\",\"linecolor\":\"white\",\"ticks\":\"\"},\"bgcolor\":\"#E5ECF6\",\"radialaxis\":{\"gridcolor\":\"white\",\"linecolor\":\"white\",\"ticks\":\"\"}},\"scene\":{\"xaxis\":{\"backgroundcolor\":\"#E5ECF6\",\"gridcolor\":\"white\",\"gridwidth\":2,\"linecolor\":\"white\",\"showbackground\":true,\"ticks\":\"\",\"zerolinecolor\":\"white\"},\"yaxis\":{\"backgroundcolor\":\"#E5ECF6\",\"gridcolor\":\"white\",\"gridwidth\":2,\"linecolor\":\"white\",\"showbackground\":true,\"ticks\":\"\",\"zerolinecolor\":\"white\"},\"zaxis\":{\"backgroundcolor\":\"#E5ECF6\",\"gridcolor\":\"white\",\"gridwidth\":2,\"linecolor\":\"white\",\"showbackground\":true,\"ticks\":\"\",\"zerolinecolor\":\"white\"}},\"shapedefaults\":{\"line\":{\"color\":\"#2a3f5f\"}},\"ternary\":{\"aaxis\":{\"gridcolor\":\"white\",\"linecolor\":\"white\",\"ticks\":\"\"},\"baxis\":{\"gridcolor\":\"white\",\"linecolor\":\"white\",\"ticks\":\"\"},\"bgcolor\":\"#E5ECF6\",\"caxis\":{\"gridcolor\":\"white\",\"linecolor\":\"white\",\"ticks\":\"\"}},\"title\":{\"x\":0.05},\"xaxis\":{\"automargin\":true,\"gridcolor\":\"white\",\"linecolor\":\"white\",\"ticks\":\"\",\"title\":{\"standoff\":15},\"zerolinecolor\":\"white\",\"zerolinewidth\":2},\"yaxis\":{\"automargin\":true,\"gridcolor\":\"white\",\"linecolor\":\"white\",\"ticks\":\"\",\"title\":{\"standoff\":15},\"zerolinecolor\":\"white\",\"zerolinewidth\":2}}},\"title\":{\"font\":{\"color\":\"rgb(1,21,51)\",\"size\":50}},\"width\":480},                        {\"responsive\": true}                    ).then(function(){\n",
              "                            \n",
              "var gd = document.getElementById('1b3e8f32-5d09-4a8b-b8f3-0f0c39e3da71');\n",
              "var x = new MutationObserver(function (mutations, observer) {{\n",
              "        var display = window.getComputedStyle(gd).display;\n",
              "        if (!display || display === 'none') {{\n",
              "            console.log([gd, 'removed!']);\n",
              "            Plotly.purge(gd);\n",
              "            observer.disconnect();\n",
              "        }}\n",
              "}});\n",
              "\n",
              "// Listen for the removal of the full notebook cells\n",
              "var notebookContainer = gd.closest('#notebook-container');\n",
              "if (notebookContainer) {{\n",
              "    x.observe(notebookContainer, {childList: true});\n",
              "}}\n",
              "\n",
              "// Listen for the clearing of the current output cell\n",
              "var outputEl = gd.closest('.output');\n",
              "if (outputEl) {{\n",
              "    x.observe(outputEl, {childList: true});\n",
              "}}\n",
              "\n",
              "                        })                };                            </script>        </div>\n",
              "</body>\n",
              "</html>"
            ]
          },
          "metadata": {}
        }
      ]
    },
    {
      "cell_type": "markdown",
      "metadata": {
        "id": "hivbptgZVYZv"
      },
      "source": [
        "#**Vectores paralelos**\n",
        "\n",
        "Dados los vectores ${\\displaystyle \\vec{U},\\vec{V}\\in V_3}$ diferentes de cero: \n",
        "\n",
        "<center> Si $\\ \\vec{U}\\times\\vec{V}=\\vec{0}$ entonces $\\ \\vec{U}$ y $\\vec{V}$ son paralelos</center>\n",
        "\n",
        "<center><img src=\"https://github.com/josorio398/ALGEBRA-LINEAL-CON-PYTHON/blob/master/im%C3%A1genes%20repositorio/vectorespara.PNG?raw=true\"  height=\"250\"/> </center>\n",
        "\n",
        "##**Ejemplo:**\n",
        "Dados el vector $\\vec{A}= (1,-2,3)$  y $\\vec{B}= (-2,4,-6)$ determina si los vectores son paralelos usando el producto vectorial, realiza la gráfica de los vectores en el mismo espacio."
      ]
    },
    {
      "cell_type": "code",
      "metadata": {
        "colab": {
          "base_uri": "https://localhost:8080/",
          "height": 78
        },
        "id": "nqqtom5uNPzQ",
        "outputId": "6be6116c-688a-4ed4-8605-5e2f8c072b8a"
      },
      "source": [
        "A = Matrix([1,-2,3])\n",
        "B = Matrix([-2,4,-6])\n",
        "\n",
        "A.cross(B)"
      ],
      "execution_count": 59,
      "outputs": [
        {
          "output_type": "execute_result",
          "data": {
            "text/plain": [
              "Matrix([\n",
              "[0],\n",
              "[0],\n",
              "[0]])"
            ],
            "text/latex": "$\\displaystyle \\left[\\begin{matrix}0\\\\0\\\\0\\end{matrix}\\right]$"
          },
          "metadata": {},
          "execution_count": 59
        }
      ]
    },
    {
      "cell_type": "code",
      "metadata": {
        "colab": {
          "base_uri": "https://localhost:8080/",
          "height": 497
        },
        "id": "YKqy_OSJPr8R",
        "outputId": "d1e79bcf-2506-4f81-f35b-c128cb8bff9e"
      },
      "source": [
        "plotvectors3D(A,B)"
      ],
      "execution_count": 60,
      "outputs": [
        {
          "output_type": "display_data",
          "data": {
            "text/html": [
              "<html>\n",
              "<head><meta charset=\"utf-8\" /></head>\n",
              "<body>\n",
              "    <div>            <script src=\"https://cdnjs.cloudflare.com/ajax/libs/mathjax/2.7.5/MathJax.js?config=TeX-AMS-MML_SVG\"></script><script type=\"text/javascript\">if (window.MathJax) {MathJax.Hub.Config({SVG: {font: \"STIX-Web\"}});}</script>                <script type=\"text/javascript\">window.PlotlyConfig = {MathJaxConfig: 'local'};</script>\n",
              "        <script src=\"https://cdn.plot.ly/plotly-2.2.0.min.js\"></script>                <div id=\"327c5dfd-c6d6-4d44-bbbd-8edde4ba722c\" class=\"plotly-graph-div\" style=\"height:480px; width:480px;\"></div>            <script type=\"text/javascript\">                                    window.PLOTLYENV=window.PLOTLYENV || {};                                    if (document.getElementById(\"327c5dfd-c6d6-4d44-bbbd-8edde4ba722c\")) {                    Plotly.newPlot(                        \"327c5dfd-c6d6-4d44-bbbd-8edde4ba722c\",                        [{\"line\":{\"color\":\"rgb(100,146,56)\",\"width\":7},\"marker\":{\"color\":\"rgb(100,146,56)\",\"size\":1},\"name\":\"vector 1\",\"type\":\"scatter3d\",\"x\":[0,1.0],\"y\":[0,-2.0],\"z\":[0,3.0]},{\"anchor\":\"cm\",\"colorbar\":{\"thickness\":20,\"ticklen\":4},\"colorscale\":[[0,\"rgb(100,146,56)\"],[1,\"rgb(100,146,56)\"]],\"name\":\"vector 1\",\"showscale\":false,\"sizemode\":\"absolute\",\"sizeref\":0.26666666666666666,\"type\":\"cone\",\"u\":[1.0],\"v\":[-2.0],\"w\":[3.0],\"x\":[1.0],\"y\":[-2.0],\"z\":[3.0]},{\"line\":{\"color\":\"rgb(145,218,72)\",\"width\":7},\"marker\":{\"color\":\"rgb(145,218,72)\",\"size\":1},\"name\":\"vector 2\",\"type\":\"scatter3d\",\"x\":[0,-2.0],\"y\":[0,4.0],\"z\":[0,-6.0]},{\"anchor\":\"cm\",\"colorbar\":{\"thickness\":20,\"ticklen\":4},\"colorscale\":[[0,\"rgb(145,218,72)\"],[1,\"rgb(145,218,72)\"]],\"name\":\"vector 2\",\"showscale\":false,\"sizemode\":\"absolute\",\"sizeref\":0.26666666666666666,\"type\":\"cone\",\"u\":[-2.0],\"v\":[4.0],\"w\":[-6.0],\"x\":[-2.0],\"y\":[4.0],\"z\":[-6.0]},{\"marker\":{\"color\":\"#2a3f5f\",\"size\":5},\"mode\":\"markers\",\"name\":\"origen\",\"showlegend\":true,\"type\":\"scatter3d\",\"x\":[0],\"y\":[0],\"z\":[0]},{\"hoverinfo\":\"skip\",\"line\":{\"color\":\"#2a3f5f\",\"width\":3},\"marker\":{\"color\":\"#2a3f5f\",\"size\":1},\"name\":\"\",\"showlegend\":false,\"type\":\"scatter3d\",\"x\":[-2.2666666666666666,1.2666666666666666],\"y\":[0,0],\"z\":[0,0]},{\"anchor\":\"cm\",\"colorbar\":{\"thickness\":20,\"ticklen\":4},\"colorscale\":[[0,\"#2a3f5f\"],[1,\"#2a3f5f\"]],\"hoverinfo\":\"name\",\"name\":\"Eje x-positivo\",\"showscale\":false,\"sizemode\":\"absolute\",\"sizeref\":0.16,\"type\":\"cone\",\"u\":[1.2666666666666666],\"v\":[0],\"w\":[0],\"x\":[1.2666666666666666],\"y\":[0],\"z\":[0]},{\"hoverinfo\":\"skip\",\"line\":{\"color\":\"#2a3f5f\",\"width\":3},\"marker\":{\"color\":\"#2a3f5f\",\"size\":1},\"name\":\"\",\"showlegend\":false,\"type\":\"scatter3d\",\"x\":[0,0],\"y\":[-2.2666666666666666,4.266666666666667],\"z\":[0,0]},{\"anchor\":\"cm\",\"colorbar\":{\"thickness\":20,\"ticklen\":4},\"colorscale\":[[0,\"#2a3f5f\"],[1,\"#2a3f5f\"]],\"hoverinfo\":\"name\",\"name\":\"Eje y-positivo \",\"showscale\":false,\"sizemode\":\"absolute\",\"sizeref\":0.16,\"type\":\"cone\",\"u\":[0],\"v\":[4.266666666666667],\"w\":[0],\"x\":[0],\"y\":[4.266666666666667],\"z\":[0]},{\"hoverinfo\":\"skip\",\"line\":{\"color\":\"#2a3f5f\",\"width\":3},\"marker\":{\"color\":\"#2a3f5f\",\"size\":1},\"name\":\"eje z-positivo\",\"showlegend\":false,\"type\":\"scatter3d\",\"x\":[0,0],\"y\":[0,0],\"z\":[-6.266666666666667,3.2666666666666666]},{\"anchor\":\"cm\",\"colorbar\":{\"thickness\":20,\"ticklen\":4},\"colorscale\":[[0,\"#2a3f5f\"],[1,\"#2a3f5f\"]],\"hoverinfo\":\"name\",\"name\":\"Eje z-positivo\",\"showscale\":false,\"sizemode\":\"absolute\",\"sizeref\":0.16,\"type\":\"cone\",\"u\":[0],\"v\":[0],\"w\":[3.2666666666666666],\"x\":[0],\"y\":[0],\"z\":[3.2666666666666666]}],                        {\"height\":480,\"legend\":{\"orientation\":\"h\",\"x\":0.03,\"y\":1.3},\"margin\":{\"b\":0,\"l\":0,\"r\":0,\"t\":0},\"showlegend\":true,\"template\":{\"data\":{\"bar\":[{\"error_x\":{\"color\":\"#2a3f5f\"},\"error_y\":{\"color\":\"#2a3f5f\"},\"marker\":{\"line\":{\"color\":\"#E5ECF6\",\"width\":0.5},\"pattern\":{\"fillmode\":\"overlay\",\"size\":10,\"solidity\":0.2}},\"type\":\"bar\"}],\"barpolar\":[{\"marker\":{\"line\":{\"color\":\"#E5ECF6\",\"width\":0.5},\"pattern\":{\"fillmode\":\"overlay\",\"size\":10,\"solidity\":0.2}},\"type\":\"barpolar\"}],\"carpet\":[{\"aaxis\":{\"endlinecolor\":\"#2a3f5f\",\"gridcolor\":\"white\",\"linecolor\":\"white\",\"minorgridcolor\":\"white\",\"startlinecolor\":\"#2a3f5f\"},\"baxis\":{\"endlinecolor\":\"#2a3f5f\",\"gridcolor\":\"white\",\"linecolor\":\"white\",\"minorgridcolor\":\"white\",\"startlinecolor\":\"#2a3f5f\"},\"type\":\"carpet\"}],\"choropleth\":[{\"colorbar\":{\"outlinewidth\":0,\"ticks\":\"\"},\"type\":\"choropleth\"}],\"contour\":[{\"colorbar\":{\"outlinewidth\":0,\"ticks\":\"\"},\"colorscale\":[[0.0,\"#0d0887\"],[0.1111111111111111,\"#46039f\"],[0.2222222222222222,\"#7201a8\"],[0.3333333333333333,\"#9c179e\"],[0.4444444444444444,\"#bd3786\"],[0.5555555555555556,\"#d8576b\"],[0.6666666666666666,\"#ed7953\"],[0.7777777777777778,\"#fb9f3a\"],[0.8888888888888888,\"#fdca26\"],[1.0,\"#f0f921\"]],\"type\":\"contour\"}],\"contourcarpet\":[{\"colorbar\":{\"outlinewidth\":0,\"ticks\":\"\"},\"type\":\"contourcarpet\"}],\"heatmap\":[{\"colorbar\":{\"outlinewidth\":0,\"ticks\":\"\"},\"colorscale\":[[0.0,\"#0d0887\"],[0.1111111111111111,\"#46039f\"],[0.2222222222222222,\"#7201a8\"],[0.3333333333333333,\"#9c179e\"],[0.4444444444444444,\"#bd3786\"],[0.5555555555555556,\"#d8576b\"],[0.6666666666666666,\"#ed7953\"],[0.7777777777777778,\"#fb9f3a\"],[0.8888888888888888,\"#fdca26\"],[1.0,\"#f0f921\"]],\"type\":\"heatmap\"}],\"heatmapgl\":[{\"colorbar\":{\"outlinewidth\":0,\"ticks\":\"\"},\"colorscale\":[[0.0,\"#0d0887\"],[0.1111111111111111,\"#46039f\"],[0.2222222222222222,\"#7201a8\"],[0.3333333333333333,\"#9c179e\"],[0.4444444444444444,\"#bd3786\"],[0.5555555555555556,\"#d8576b\"],[0.6666666666666666,\"#ed7953\"],[0.7777777777777778,\"#fb9f3a\"],[0.8888888888888888,\"#fdca26\"],[1.0,\"#f0f921\"]],\"type\":\"heatmapgl\"}],\"histogram\":[{\"marker\":{\"pattern\":{\"fillmode\":\"overlay\",\"size\":10,\"solidity\":0.2}},\"type\":\"histogram\"}],\"histogram2d\":[{\"colorbar\":{\"outlinewidth\":0,\"ticks\":\"\"},\"colorscale\":[[0.0,\"#0d0887\"],[0.1111111111111111,\"#46039f\"],[0.2222222222222222,\"#7201a8\"],[0.3333333333333333,\"#9c179e\"],[0.4444444444444444,\"#bd3786\"],[0.5555555555555556,\"#d8576b\"],[0.6666666666666666,\"#ed7953\"],[0.7777777777777778,\"#fb9f3a\"],[0.8888888888888888,\"#fdca26\"],[1.0,\"#f0f921\"]],\"type\":\"histogram2d\"}],\"histogram2dcontour\":[{\"colorbar\":{\"outlinewidth\":0,\"ticks\":\"\"},\"colorscale\":[[0.0,\"#0d0887\"],[0.1111111111111111,\"#46039f\"],[0.2222222222222222,\"#7201a8\"],[0.3333333333333333,\"#9c179e\"],[0.4444444444444444,\"#bd3786\"],[0.5555555555555556,\"#d8576b\"],[0.6666666666666666,\"#ed7953\"],[0.7777777777777778,\"#fb9f3a\"],[0.8888888888888888,\"#fdca26\"],[1.0,\"#f0f921\"]],\"type\":\"histogram2dcontour\"}],\"mesh3d\":[{\"colorbar\":{\"outlinewidth\":0,\"ticks\":\"\"},\"type\":\"mesh3d\"}],\"parcoords\":[{\"line\":{\"colorbar\":{\"outlinewidth\":0,\"ticks\":\"\"}},\"type\":\"parcoords\"}],\"pie\":[{\"automargin\":true,\"type\":\"pie\"}],\"scatter\":[{\"marker\":{\"colorbar\":{\"outlinewidth\":0,\"ticks\":\"\"}},\"type\":\"scatter\"}],\"scatter3d\":[{\"line\":{\"colorbar\":{\"outlinewidth\":0,\"ticks\":\"\"}},\"marker\":{\"colorbar\":{\"outlinewidth\":0,\"ticks\":\"\"}},\"type\":\"scatter3d\"}],\"scattercarpet\":[{\"marker\":{\"colorbar\":{\"outlinewidth\":0,\"ticks\":\"\"}},\"type\":\"scattercarpet\"}],\"scattergeo\":[{\"marker\":{\"colorbar\":{\"outlinewidth\":0,\"ticks\":\"\"}},\"type\":\"scattergeo\"}],\"scattergl\":[{\"marker\":{\"colorbar\":{\"outlinewidth\":0,\"ticks\":\"\"}},\"type\":\"scattergl\"}],\"scattermapbox\":[{\"marker\":{\"colorbar\":{\"outlinewidth\":0,\"ticks\":\"\"}},\"type\":\"scattermapbox\"}],\"scatterpolar\":[{\"marker\":{\"colorbar\":{\"outlinewidth\":0,\"ticks\":\"\"}},\"type\":\"scatterpolar\"}],\"scatterpolargl\":[{\"marker\":{\"colorbar\":{\"outlinewidth\":0,\"ticks\":\"\"}},\"type\":\"scatterpolargl\"}],\"scatterternary\":[{\"marker\":{\"colorbar\":{\"outlinewidth\":0,\"ticks\":\"\"}},\"type\":\"scatterternary\"}],\"surface\":[{\"colorbar\":{\"outlinewidth\":0,\"ticks\":\"\"},\"colorscale\":[[0.0,\"#0d0887\"],[0.1111111111111111,\"#46039f\"],[0.2222222222222222,\"#7201a8\"],[0.3333333333333333,\"#9c179e\"],[0.4444444444444444,\"#bd3786\"],[0.5555555555555556,\"#d8576b\"],[0.6666666666666666,\"#ed7953\"],[0.7777777777777778,\"#fb9f3a\"],[0.8888888888888888,\"#fdca26\"],[1.0,\"#f0f921\"]],\"type\":\"surface\"}],\"table\":[{\"cells\":{\"fill\":{\"color\":\"#EBF0F8\"},\"line\":{\"color\":\"white\"}},\"header\":{\"fill\":{\"color\":\"#C8D4E3\"},\"line\":{\"color\":\"white\"}},\"type\":\"table\"}]},\"layout\":{\"annotationdefaults\":{\"arrowcolor\":\"#2a3f5f\",\"arrowhead\":0,\"arrowwidth\":1},\"autotypenumbers\":\"strict\",\"coloraxis\":{\"colorbar\":{\"outlinewidth\":0,\"ticks\":\"\"}},\"colorscale\":{\"diverging\":[[0,\"#8e0152\"],[0.1,\"#c51b7d\"],[0.2,\"#de77ae\"],[0.3,\"#f1b6da\"],[0.4,\"#fde0ef\"],[0.5,\"#f7f7f7\"],[0.6,\"#e6f5d0\"],[0.7,\"#b8e186\"],[0.8,\"#7fbc41\"],[0.9,\"#4d9221\"],[1,\"#276419\"]],\"sequential\":[[0.0,\"#0d0887\"],[0.1111111111111111,\"#46039f\"],[0.2222222222222222,\"#7201a8\"],[0.3333333333333333,\"#9c179e\"],[0.4444444444444444,\"#bd3786\"],[0.5555555555555556,\"#d8576b\"],[0.6666666666666666,\"#ed7953\"],[0.7777777777777778,\"#fb9f3a\"],[0.8888888888888888,\"#fdca26\"],[1.0,\"#f0f921\"]],\"sequentialminus\":[[0.0,\"#0d0887\"],[0.1111111111111111,\"#46039f\"],[0.2222222222222222,\"#7201a8\"],[0.3333333333333333,\"#9c179e\"],[0.4444444444444444,\"#bd3786\"],[0.5555555555555556,\"#d8576b\"],[0.6666666666666666,\"#ed7953\"],[0.7777777777777778,\"#fb9f3a\"],[0.8888888888888888,\"#fdca26\"],[1.0,\"#f0f921\"]]},\"colorway\":[\"#636efa\",\"#EF553B\",\"#00cc96\",\"#ab63fa\",\"#FFA15A\",\"#19d3f3\",\"#FF6692\",\"#B6E880\",\"#FF97FF\",\"#FECB52\"],\"font\":{\"color\":\"#2a3f5f\"},\"geo\":{\"bgcolor\":\"white\",\"lakecolor\":\"white\",\"landcolor\":\"#E5ECF6\",\"showlakes\":true,\"showland\":true,\"subunitcolor\":\"white\"},\"hoverlabel\":{\"align\":\"left\"},\"hovermode\":\"closest\",\"mapbox\":{\"style\":\"light\"},\"paper_bgcolor\":\"white\",\"plot_bgcolor\":\"#E5ECF6\",\"polar\":{\"angularaxis\":{\"gridcolor\":\"white\",\"linecolor\":\"white\",\"ticks\":\"\"},\"bgcolor\":\"#E5ECF6\",\"radialaxis\":{\"gridcolor\":\"white\",\"linecolor\":\"white\",\"ticks\":\"\"}},\"scene\":{\"xaxis\":{\"backgroundcolor\":\"#E5ECF6\",\"gridcolor\":\"white\",\"gridwidth\":2,\"linecolor\":\"white\",\"showbackground\":true,\"ticks\":\"\",\"zerolinecolor\":\"white\"},\"yaxis\":{\"backgroundcolor\":\"#E5ECF6\",\"gridcolor\":\"white\",\"gridwidth\":2,\"linecolor\":\"white\",\"showbackground\":true,\"ticks\":\"\",\"zerolinecolor\":\"white\"},\"zaxis\":{\"backgroundcolor\":\"#E5ECF6\",\"gridcolor\":\"white\",\"gridwidth\":2,\"linecolor\":\"white\",\"showbackground\":true,\"ticks\":\"\",\"zerolinecolor\":\"white\"}},\"shapedefaults\":{\"line\":{\"color\":\"#2a3f5f\"}},\"ternary\":{\"aaxis\":{\"gridcolor\":\"white\",\"linecolor\":\"white\",\"ticks\":\"\"},\"baxis\":{\"gridcolor\":\"white\",\"linecolor\":\"white\",\"ticks\":\"\"},\"bgcolor\":\"#E5ECF6\",\"caxis\":{\"gridcolor\":\"white\",\"linecolor\":\"white\",\"ticks\":\"\"}},\"title\":{\"x\":0.05},\"xaxis\":{\"automargin\":true,\"gridcolor\":\"white\",\"linecolor\":\"white\",\"ticks\":\"\",\"title\":{\"standoff\":15},\"zerolinecolor\":\"white\",\"zerolinewidth\":2},\"yaxis\":{\"automargin\":true,\"gridcolor\":\"white\",\"linecolor\":\"white\",\"ticks\":\"\",\"title\":{\"standoff\":15},\"zerolinecolor\":\"white\",\"zerolinewidth\":2}}},\"title\":{\"font\":{\"color\":\"rgb(1,21,51)\",\"size\":50}},\"width\":480},                        {\"responsive\": true}                    ).then(function(){\n",
              "                            \n",
              "var gd = document.getElementById('327c5dfd-c6d6-4d44-bbbd-8edde4ba722c');\n",
              "var x = new MutationObserver(function (mutations, observer) {{\n",
              "        var display = window.getComputedStyle(gd).display;\n",
              "        if (!display || display === 'none') {{\n",
              "            console.log([gd, 'removed!']);\n",
              "            Plotly.purge(gd);\n",
              "            observer.disconnect();\n",
              "        }}\n",
              "}});\n",
              "\n",
              "// Listen for the removal of the full notebook cells\n",
              "var notebookContainer = gd.closest('#notebook-container');\n",
              "if (notebookContainer) {{\n",
              "    x.observe(notebookContainer, {childList: true});\n",
              "}}\n",
              "\n",
              "// Listen for the clearing of the current output cell\n",
              "var outputEl = gd.closest('.output');\n",
              "if (outputEl) {{\n",
              "    x.observe(outputEl, {childList: true});\n",
              "}}\n",
              "\n",
              "                        })                };                            </script>        </div>\n",
              "</body>\n",
              "</html>"
            ]
          },
          "metadata": {}
        }
      ]
    },
    {
      "cell_type": "markdown",
      "metadata": {
        "id": "kE43gdRwVEf9"
      },
      "source": [
        "#**Volumen del paralelepipedo**\n",
        "\n",
        "Dados los vectores ${\\displaystyle \\vec{U},\\vec{V},\\vec{W} \\in V_3}$ el **producto triple** estos estos tres vectores corresponde el volumen del paralelepipedo determinado por los tres vectores:\n",
        "\n",
        "$$  Volumen= |\\vec{W} \\cdot (\\vec{U}\\times\\vec{V})| $$\n",
        "<br>\n",
        "\n",
        "<center><img src=\"https://github.com/josorio398/ALGEBRA-LINEAL-CON-PYTHON/blob/master/im%C3%A1genes%20repositorio/paralelepipedo.PNG?raw=true\"  height=\"250\" /> </center>\n",
        "\n",
        "##**Ejemplo:**\n",
        "Dados el vector $\\vec{A}= (1,2,3)$ , $\\vec{B}= (4,5,6)$ y  $\\vec{C}= (3,-1,4)$ realiza su gráfica de los tres vectores en el mismo  espacio y cálcula el volumen del paralelepipedo determinado por estos tres vectores."
      ]
    },
    {
      "cell_type": "code",
      "metadata": {
        "id": "xe3YBJwtVNBs",
        "colab": {
          "base_uri": "https://localhost:8080/",
          "height": 497
        },
        "outputId": "e343adf4-1f30-48d4-bff1-004932ee84e1"
      },
      "source": [
        "A = Matrix([1,2,-4])\n",
        "B = Matrix([2,3,4])\n",
        "C = Matrix([3,-1,4])\n",
        "\n",
        "plotvectors3D(A,B,C,[(3,-1,4),B],[(2,3,4),C],[(5,2,8),A],[(3,-1,4),A],[(2,3,4),A])"
      ],
      "execution_count": 67,
      "outputs": [
        {
          "output_type": "display_data",
          "data": {
            "text/html": [
              "<html>\n",
              "<head><meta charset=\"utf-8\" /></head>\n",
              "<body>\n",
              "    <div>            <script src=\"https://cdnjs.cloudflare.com/ajax/libs/mathjax/2.7.5/MathJax.js?config=TeX-AMS-MML_SVG\"></script><script type=\"text/javascript\">if (window.MathJax) {MathJax.Hub.Config({SVG: {font: \"STIX-Web\"}});}</script>                <script type=\"text/javascript\">window.PlotlyConfig = {MathJaxConfig: 'local'};</script>\n",
              "        <script src=\"https://cdn.plot.ly/plotly-2.2.0.min.js\"></script>                <div id=\"d9e103e8-50d5-4175-aef7-397947e68e11\" class=\"plotly-graph-div\" style=\"height:480px; width:480px;\"></div>            <script type=\"text/javascript\">                                    window.PLOTLYENV=window.PLOTLYENV || {};                                    if (document.getElementById(\"d9e103e8-50d5-4175-aef7-397947e68e11\")) {                    Plotly.newPlot(                        \"d9e103e8-50d5-4175-aef7-397947e68e11\",                        [{\"line\":{\"color\":\"rgb(127,151,13)\",\"width\":7},\"marker\":{\"color\":\"rgb(127,151,13)\",\"size\":1},\"name\":\"vector 1\",\"type\":\"scatter3d\",\"x\":[0,1.0],\"y\":[0,2.0],\"z\":[0,-4.0]},{\"anchor\":\"cm\",\"colorbar\":{\"thickness\":20,\"ticklen\":4},\"colorscale\":[[0,\"rgb(127,151,13)\"],[1,\"rgb(127,151,13)\"]],\"name\":\"vector 1\",\"showscale\":false,\"sizemode\":\"absolute\",\"sizeref\":0.6333333333333333,\"type\":\"cone\",\"u\":[1.0],\"v\":[2.0],\"w\":[-4.0],\"x\":[1.0],\"y\":[2.0],\"z\":[-4.0]},{\"line\":{\"color\":\"rgb(213,61,70)\",\"width\":7},\"marker\":{\"color\":\"rgb(213,61,70)\",\"size\":1},\"name\":\"vector 2\",\"type\":\"scatter3d\",\"x\":[0,2.0],\"y\":[0,3.0],\"z\":[0,4.0]},{\"anchor\":\"cm\",\"colorbar\":{\"thickness\":20,\"ticklen\":4},\"colorscale\":[[0,\"rgb(213,61,70)\"],[1,\"rgb(213,61,70)\"]],\"name\":\"vector 2\",\"showscale\":false,\"sizemode\":\"absolute\",\"sizeref\":0.6333333333333333,\"type\":\"cone\",\"u\":[2.0],\"v\":[3.0],\"w\":[4.0],\"x\":[2.0],\"y\":[3.0],\"z\":[4.0]},{\"line\":{\"color\":\"rgb(252,86,231)\",\"width\":7},\"marker\":{\"color\":\"rgb(252,86,231)\",\"size\":1},\"name\":\"vector 3\",\"type\":\"scatter3d\",\"x\":[0,3.0],\"y\":[0,-1.0],\"z\":[0,4.0]},{\"anchor\":\"cm\",\"colorbar\":{\"thickness\":20,\"ticklen\":4},\"colorscale\":[[0,\"rgb(252,86,231)\"],[1,\"rgb(252,86,231)\"]],\"name\":\"vector 3\",\"showscale\":false,\"sizemode\":\"absolute\",\"sizeref\":0.6333333333333333,\"type\":\"cone\",\"u\":[3.0],\"v\":[-1.0],\"w\":[4.0],\"x\":[3.0],\"y\":[-1.0],\"z\":[4.0]},{\"hoverinfo\":\"name+text\",\"hovertext\":\"Tail=(3,-1,4)\\nHead=(5.0,2.0,8.0)\",\"line\":{\"color\":\"rgb(246,69,50)\",\"width\":7},\"marker\":{\"color\":\"rgb(246,69,50)\",\"size\":1},\"name\":\"vector 4\",\"type\":\"scatter3d\",\"x\":[3,5.0],\"y\":[-1,2.0],\"z\":[4,8.0]},{\"anchor\":\"cm\",\"colorbar\":{\"thickness\":20,\"ticklen\":4},\"colorscale\":[[0,\"rgb(246,69,50)\"],[1,\"rgb(246,69,50)\"]],\"hoverinfo\":\"skip\",\"name\":\"vector 4\",\"showscale\":false,\"sizemode\":\"absolute\",\"sizeref\":0.6333333333333333,\"type\":\"cone\",\"u\":[1.0],\"v\":[1.5],\"w\":[2.0],\"x\":[4.874],\"y\":[1.811],\"z\":[7.748]},{\"hoverinfo\":\"name+text\",\"hovertext\":\"Tail=(2,3,4)\\nHead=(5.0,2.0,8.0)\",\"line\":{\"color\":\"rgb(27,155,0)\",\"width\":7},\"marker\":{\"color\":\"rgb(27,155,0)\",\"size\":1},\"name\":\"vector 5\",\"type\":\"scatter3d\",\"x\":[2,5.0],\"y\":[3,2.0],\"z\":[4,8.0]},{\"anchor\":\"cm\",\"colorbar\":{\"thickness\":20,\"ticklen\":4},\"colorscale\":[[0,\"rgb(27,155,0)\"],[1,\"rgb(27,155,0)\"]],\"hoverinfo\":\"skip\",\"name\":\"vector 5\",\"showscale\":false,\"sizemode\":\"absolute\",\"sizeref\":0.6333333333333333,\"type\":\"cone\",\"u\":[1.5],\"v\":[-0.5],\"w\":[2.0],\"x\":[4.811],\"y\":[2.063],\"z\":[7.748]},{\"hoverinfo\":\"name+text\",\"hovertext\":\"Tail=(5,2,8)\\nHead=(6.0,4.0,4.0)\",\"line\":{\"color\":\"rgb(230,206,73)\",\"width\":7},\"marker\":{\"color\":\"rgb(230,206,73)\",\"size\":1},\"name\":\"vector 6\",\"type\":\"scatter3d\",\"x\":[5,6.0],\"y\":[2,4.0],\"z\":[8,4.0]},{\"anchor\":\"cm\",\"colorbar\":{\"thickness\":20,\"ticklen\":4},\"colorscale\":[[0,\"rgb(230,206,73)\"],[1,\"rgb(230,206,73)\"]],\"hoverinfo\":\"skip\",\"name\":\"vector 6\",\"showscale\":false,\"sizemode\":\"absolute\",\"sizeref\":0.6333333333333333,\"type\":\"cone\",\"u\":[0.5],\"v\":[1.0],\"w\":[-2.0],\"x\":[5.937],\"y\":[3.874],\"z\":[4.252]},{\"hoverinfo\":\"name+text\",\"hovertext\":\"Tail=(3,-1,4)\\nHead=(4.0,1.0,0.0)\",\"line\":{\"color\":\"rgb(63,94,194)\",\"width\":7},\"marker\":{\"color\":\"rgb(63,94,194)\",\"size\":1},\"name\":\"vector 7\",\"type\":\"scatter3d\",\"x\":[3,4.0],\"y\":[-1,1.0],\"z\":[4,0.0]},{\"anchor\":\"cm\",\"colorbar\":{\"thickness\":20,\"ticklen\":4},\"colorscale\":[[0,\"rgb(63,94,194)\"],[1,\"rgb(63,94,194)\"]],\"hoverinfo\":\"skip\",\"name\":\"vector 7\",\"showscale\":false,\"sizemode\":\"absolute\",\"sizeref\":0.6333333333333333,\"type\":\"cone\",\"u\":[0.5],\"v\":[1.0],\"w\":[-2.0],\"x\":[3.937],\"y\":[0.874],\"z\":[0.252]},{\"hoverinfo\":\"name+text\",\"hovertext\":\"Tail=(2,3,4)\\nHead=(3.0,5.0,0.0)\",\"line\":{\"color\":\"rgb(90,28,203)\",\"width\":7},\"marker\":{\"color\":\"rgb(90,28,203)\",\"size\":1},\"name\":\"vector 8\",\"type\":\"scatter3d\",\"x\":[2,3.0],\"y\":[3,5.0],\"z\":[4,0.0]},{\"anchor\":\"cm\",\"colorbar\":{\"thickness\":20,\"ticklen\":4},\"colorscale\":[[0,\"rgb(90,28,203)\"],[1,\"rgb(90,28,203)\"]],\"hoverinfo\":\"skip\",\"name\":\"vector 8\",\"showscale\":false,\"sizemode\":\"absolute\",\"sizeref\":0.6333333333333333,\"type\":\"cone\",\"u\":[0.5],\"v\":[1.0],\"w\":[-2.0],\"x\":[2.937],\"y\":[4.874],\"z\":[0.252]},{\"marker\":{\"color\":\"#2a3f5f\",\"size\":5},\"mode\":\"markers\",\"name\":\"origen\",\"showlegend\":true,\"type\":\"scatter3d\",\"x\":[0],\"y\":[0],\"z\":[0]},{\"hoverinfo\":\"skip\",\"line\":{\"color\":\"#2a3f5f\",\"width\":3},\"marker\":{\"color\":\"#2a3f5f\",\"size\":1},\"name\":\"\",\"showlegend\":false,\"type\":\"scatter3d\",\"x\":[-0.6333333333333333,6.633333333333333],\"y\":[0,0],\"z\":[0,0]},{\"anchor\":\"cm\",\"colorbar\":{\"thickness\":20,\"ticklen\":4},\"colorscale\":[[0,\"#2a3f5f\"],[1,\"#2a3f5f\"]],\"hoverinfo\":\"name\",\"name\":\"Eje x-positivo\",\"showscale\":false,\"sizemode\":\"absolute\",\"sizeref\":0.37999999999999995,\"type\":\"cone\",\"u\":[6.633333333333333],\"v\":[0],\"w\":[0],\"x\":[6.633333333333333],\"y\":[0],\"z\":[0]},{\"hoverinfo\":\"skip\",\"line\":{\"color\":\"#2a3f5f\",\"width\":3},\"marker\":{\"color\":\"#2a3f5f\",\"size\":1},\"name\":\"\",\"showlegend\":false,\"type\":\"scatter3d\",\"x\":[0,0],\"y\":[-1.6333333333333333,5.633333333333333],\"z\":[0,0]},{\"anchor\":\"cm\",\"colorbar\":{\"thickness\":20,\"ticklen\":4},\"colorscale\":[[0,\"#2a3f5f\"],[1,\"#2a3f5f\"]],\"hoverinfo\":\"name\",\"name\":\"Eje y-positivo \",\"showscale\":false,\"sizemode\":\"absolute\",\"sizeref\":0.37999999999999995,\"type\":\"cone\",\"u\":[0],\"v\":[5.633333333333333],\"w\":[0],\"x\":[0],\"y\":[5.633333333333333],\"z\":[0]},{\"hoverinfo\":\"skip\",\"line\":{\"color\":\"#2a3f5f\",\"width\":3},\"marker\":{\"color\":\"#2a3f5f\",\"size\":1},\"name\":\"eje z-positivo\",\"showlegend\":false,\"type\":\"scatter3d\",\"x\":[0,0],\"y\":[0,0],\"z\":[-4.633333333333333,8.633333333333333]},{\"anchor\":\"cm\",\"colorbar\":{\"thickness\":20,\"ticklen\":4},\"colorscale\":[[0,\"#2a3f5f\"],[1,\"#2a3f5f\"]],\"hoverinfo\":\"name\",\"name\":\"Eje z-positivo\",\"showscale\":false,\"sizemode\":\"absolute\",\"sizeref\":0.37999999999999995,\"type\":\"cone\",\"u\":[0],\"v\":[0],\"w\":[8.633333333333333],\"x\":[0],\"y\":[0],\"z\":[8.633333333333333]}],                        {\"height\":480,\"legend\":{\"orientation\":\"h\",\"x\":0.03,\"y\":1.3},\"margin\":{\"b\":0,\"l\":0,\"r\":0,\"t\":0},\"showlegend\":true,\"template\":{\"data\":{\"bar\":[{\"error_x\":{\"color\":\"#2a3f5f\"},\"error_y\":{\"color\":\"#2a3f5f\"},\"marker\":{\"line\":{\"color\":\"#E5ECF6\",\"width\":0.5},\"pattern\":{\"fillmode\":\"overlay\",\"size\":10,\"solidity\":0.2}},\"type\":\"bar\"}],\"barpolar\":[{\"marker\":{\"line\":{\"color\":\"#E5ECF6\",\"width\":0.5},\"pattern\":{\"fillmode\":\"overlay\",\"size\":10,\"solidity\":0.2}},\"type\":\"barpolar\"}],\"carpet\":[{\"aaxis\":{\"endlinecolor\":\"#2a3f5f\",\"gridcolor\":\"white\",\"linecolor\":\"white\",\"minorgridcolor\":\"white\",\"startlinecolor\":\"#2a3f5f\"},\"baxis\":{\"endlinecolor\":\"#2a3f5f\",\"gridcolor\":\"white\",\"linecolor\":\"white\",\"minorgridcolor\":\"white\",\"startlinecolor\":\"#2a3f5f\"},\"type\":\"carpet\"}],\"choropleth\":[{\"colorbar\":{\"outlinewidth\":0,\"ticks\":\"\"},\"type\":\"choropleth\"}],\"contour\":[{\"colorbar\":{\"outlinewidth\":0,\"ticks\":\"\"},\"colorscale\":[[0.0,\"#0d0887\"],[0.1111111111111111,\"#46039f\"],[0.2222222222222222,\"#7201a8\"],[0.3333333333333333,\"#9c179e\"],[0.4444444444444444,\"#bd3786\"],[0.5555555555555556,\"#d8576b\"],[0.6666666666666666,\"#ed7953\"],[0.7777777777777778,\"#fb9f3a\"],[0.8888888888888888,\"#fdca26\"],[1.0,\"#f0f921\"]],\"type\":\"contour\"}],\"contourcarpet\":[{\"colorbar\":{\"outlinewidth\":0,\"ticks\":\"\"},\"type\":\"contourcarpet\"}],\"heatmap\":[{\"colorbar\":{\"outlinewidth\":0,\"ticks\":\"\"},\"colorscale\":[[0.0,\"#0d0887\"],[0.1111111111111111,\"#46039f\"],[0.2222222222222222,\"#7201a8\"],[0.3333333333333333,\"#9c179e\"],[0.4444444444444444,\"#bd3786\"],[0.5555555555555556,\"#d8576b\"],[0.6666666666666666,\"#ed7953\"],[0.7777777777777778,\"#fb9f3a\"],[0.8888888888888888,\"#fdca26\"],[1.0,\"#f0f921\"]],\"type\":\"heatmap\"}],\"heatmapgl\":[{\"colorbar\":{\"outlinewidth\":0,\"ticks\":\"\"},\"colorscale\":[[0.0,\"#0d0887\"],[0.1111111111111111,\"#46039f\"],[0.2222222222222222,\"#7201a8\"],[0.3333333333333333,\"#9c179e\"],[0.4444444444444444,\"#bd3786\"],[0.5555555555555556,\"#d8576b\"],[0.6666666666666666,\"#ed7953\"],[0.7777777777777778,\"#fb9f3a\"],[0.8888888888888888,\"#fdca26\"],[1.0,\"#f0f921\"]],\"type\":\"heatmapgl\"}],\"histogram\":[{\"marker\":{\"pattern\":{\"fillmode\":\"overlay\",\"size\":10,\"solidity\":0.2}},\"type\":\"histogram\"}],\"histogram2d\":[{\"colorbar\":{\"outlinewidth\":0,\"ticks\":\"\"},\"colorscale\":[[0.0,\"#0d0887\"],[0.1111111111111111,\"#46039f\"],[0.2222222222222222,\"#7201a8\"],[0.3333333333333333,\"#9c179e\"],[0.4444444444444444,\"#bd3786\"],[0.5555555555555556,\"#d8576b\"],[0.6666666666666666,\"#ed7953\"],[0.7777777777777778,\"#fb9f3a\"],[0.8888888888888888,\"#fdca26\"],[1.0,\"#f0f921\"]],\"type\":\"histogram2d\"}],\"histogram2dcontour\":[{\"colorbar\":{\"outlinewidth\":0,\"ticks\":\"\"},\"colorscale\":[[0.0,\"#0d0887\"],[0.1111111111111111,\"#46039f\"],[0.2222222222222222,\"#7201a8\"],[0.3333333333333333,\"#9c179e\"],[0.4444444444444444,\"#bd3786\"],[0.5555555555555556,\"#d8576b\"],[0.6666666666666666,\"#ed7953\"],[0.7777777777777778,\"#fb9f3a\"],[0.8888888888888888,\"#fdca26\"],[1.0,\"#f0f921\"]],\"type\":\"histogram2dcontour\"}],\"mesh3d\":[{\"colorbar\":{\"outlinewidth\":0,\"ticks\":\"\"},\"type\":\"mesh3d\"}],\"parcoords\":[{\"line\":{\"colorbar\":{\"outlinewidth\":0,\"ticks\":\"\"}},\"type\":\"parcoords\"}],\"pie\":[{\"automargin\":true,\"type\":\"pie\"}],\"scatter\":[{\"marker\":{\"colorbar\":{\"outlinewidth\":0,\"ticks\":\"\"}},\"type\":\"scatter\"}],\"scatter3d\":[{\"line\":{\"colorbar\":{\"outlinewidth\":0,\"ticks\":\"\"}},\"marker\":{\"colorbar\":{\"outlinewidth\":0,\"ticks\":\"\"}},\"type\":\"scatter3d\"}],\"scattercarpet\":[{\"marker\":{\"colorbar\":{\"outlinewidth\":0,\"ticks\":\"\"}},\"type\":\"scattercarpet\"}],\"scattergeo\":[{\"marker\":{\"colorbar\":{\"outlinewidth\":0,\"ticks\":\"\"}},\"type\":\"scattergeo\"}],\"scattergl\":[{\"marker\":{\"colorbar\":{\"outlinewidth\":0,\"ticks\":\"\"}},\"type\":\"scattergl\"}],\"scattermapbox\":[{\"marker\":{\"colorbar\":{\"outlinewidth\":0,\"ticks\":\"\"}},\"type\":\"scattermapbox\"}],\"scatterpolar\":[{\"marker\":{\"colorbar\":{\"outlinewidth\":0,\"ticks\":\"\"}},\"type\":\"scatterpolar\"}],\"scatterpolargl\":[{\"marker\":{\"colorbar\":{\"outlinewidth\":0,\"ticks\":\"\"}},\"type\":\"scatterpolargl\"}],\"scatterternary\":[{\"marker\":{\"colorbar\":{\"outlinewidth\":0,\"ticks\":\"\"}},\"type\":\"scatterternary\"}],\"surface\":[{\"colorbar\":{\"outlinewidth\":0,\"ticks\":\"\"},\"colorscale\":[[0.0,\"#0d0887\"],[0.1111111111111111,\"#46039f\"],[0.2222222222222222,\"#7201a8\"],[0.3333333333333333,\"#9c179e\"],[0.4444444444444444,\"#bd3786\"],[0.5555555555555556,\"#d8576b\"],[0.6666666666666666,\"#ed7953\"],[0.7777777777777778,\"#fb9f3a\"],[0.8888888888888888,\"#fdca26\"],[1.0,\"#f0f921\"]],\"type\":\"surface\"}],\"table\":[{\"cells\":{\"fill\":{\"color\":\"#EBF0F8\"},\"line\":{\"color\":\"white\"}},\"header\":{\"fill\":{\"color\":\"#C8D4E3\"},\"line\":{\"color\":\"white\"}},\"type\":\"table\"}]},\"layout\":{\"annotationdefaults\":{\"arrowcolor\":\"#2a3f5f\",\"arrowhead\":0,\"arrowwidth\":1},\"autotypenumbers\":\"strict\",\"coloraxis\":{\"colorbar\":{\"outlinewidth\":0,\"ticks\":\"\"}},\"colorscale\":{\"diverging\":[[0,\"#8e0152\"],[0.1,\"#c51b7d\"],[0.2,\"#de77ae\"],[0.3,\"#f1b6da\"],[0.4,\"#fde0ef\"],[0.5,\"#f7f7f7\"],[0.6,\"#e6f5d0\"],[0.7,\"#b8e186\"],[0.8,\"#7fbc41\"],[0.9,\"#4d9221\"],[1,\"#276419\"]],\"sequential\":[[0.0,\"#0d0887\"],[0.1111111111111111,\"#46039f\"],[0.2222222222222222,\"#7201a8\"],[0.3333333333333333,\"#9c179e\"],[0.4444444444444444,\"#bd3786\"],[0.5555555555555556,\"#d8576b\"],[0.6666666666666666,\"#ed7953\"],[0.7777777777777778,\"#fb9f3a\"],[0.8888888888888888,\"#fdca26\"],[1.0,\"#f0f921\"]],\"sequentialminus\":[[0.0,\"#0d0887\"],[0.1111111111111111,\"#46039f\"],[0.2222222222222222,\"#7201a8\"],[0.3333333333333333,\"#9c179e\"],[0.4444444444444444,\"#bd3786\"],[0.5555555555555556,\"#d8576b\"],[0.6666666666666666,\"#ed7953\"],[0.7777777777777778,\"#fb9f3a\"],[0.8888888888888888,\"#fdca26\"],[1.0,\"#f0f921\"]]},\"colorway\":[\"#636efa\",\"#EF553B\",\"#00cc96\",\"#ab63fa\",\"#FFA15A\",\"#19d3f3\",\"#FF6692\",\"#B6E880\",\"#FF97FF\",\"#FECB52\"],\"font\":{\"color\":\"#2a3f5f\"},\"geo\":{\"bgcolor\":\"white\",\"lakecolor\":\"white\",\"landcolor\":\"#E5ECF6\",\"showlakes\":true,\"showland\":true,\"subunitcolor\":\"white\"},\"hoverlabel\":{\"align\":\"left\"},\"hovermode\":\"closest\",\"mapbox\":{\"style\":\"light\"},\"paper_bgcolor\":\"white\",\"plot_bgcolor\":\"#E5ECF6\",\"polar\":{\"angularaxis\":{\"gridcolor\":\"white\",\"linecolor\":\"white\",\"ticks\":\"\"},\"bgcolor\":\"#E5ECF6\",\"radialaxis\":{\"gridcolor\":\"white\",\"linecolor\":\"white\",\"ticks\":\"\"}},\"scene\":{\"xaxis\":{\"backgroundcolor\":\"#E5ECF6\",\"gridcolor\":\"white\",\"gridwidth\":2,\"linecolor\":\"white\",\"showbackground\":true,\"ticks\":\"\",\"zerolinecolor\":\"white\"},\"yaxis\":{\"backgroundcolor\":\"#E5ECF6\",\"gridcolor\":\"white\",\"gridwidth\":2,\"linecolor\":\"white\",\"showbackground\":true,\"ticks\":\"\",\"zerolinecolor\":\"white\"},\"zaxis\":{\"backgroundcolor\":\"#E5ECF6\",\"gridcolor\":\"white\",\"gridwidth\":2,\"linecolor\":\"white\",\"showbackground\":true,\"ticks\":\"\",\"zerolinecolor\":\"white\"}},\"shapedefaults\":{\"line\":{\"color\":\"#2a3f5f\"}},\"ternary\":{\"aaxis\":{\"gridcolor\":\"white\",\"linecolor\":\"white\",\"ticks\":\"\"},\"baxis\":{\"gridcolor\":\"white\",\"linecolor\":\"white\",\"ticks\":\"\"},\"bgcolor\":\"#E5ECF6\",\"caxis\":{\"gridcolor\":\"white\",\"linecolor\":\"white\",\"ticks\":\"\"}},\"title\":{\"x\":0.05},\"xaxis\":{\"automargin\":true,\"gridcolor\":\"white\",\"linecolor\":\"white\",\"ticks\":\"\",\"title\":{\"standoff\":15},\"zerolinecolor\":\"white\",\"zerolinewidth\":2},\"yaxis\":{\"automargin\":true,\"gridcolor\":\"white\",\"linecolor\":\"white\",\"ticks\":\"\",\"title\":{\"standoff\":15},\"zerolinecolor\":\"white\",\"zerolinewidth\":2}}},\"title\":{\"font\":{\"color\":\"rgb(1,21,51)\",\"size\":50}},\"width\":480},                        {\"responsive\": true}                    ).then(function(){\n",
              "                            \n",
              "var gd = document.getElementById('d9e103e8-50d5-4175-aef7-397947e68e11');\n",
              "var x = new MutationObserver(function (mutations, observer) {{\n",
              "        var display = window.getComputedStyle(gd).display;\n",
              "        if (!display || display === 'none') {{\n",
              "            console.log([gd, 'removed!']);\n",
              "            Plotly.purge(gd);\n",
              "            observer.disconnect();\n",
              "        }}\n",
              "}});\n",
              "\n",
              "// Listen for the removal of the full notebook cells\n",
              "var notebookContainer = gd.closest('#notebook-container');\n",
              "if (notebookContainer) {{\n",
              "    x.observe(notebookContainer, {childList: true});\n",
              "}}\n",
              "\n",
              "// Listen for the clearing of the current output cell\n",
              "var outputEl = gd.closest('.output');\n",
              "if (outputEl) {{\n",
              "    x.observe(outputEl, {childList: true});\n",
              "}}\n",
              "\n",
              "                        })                };                            </script>        </div>\n",
              "</body>\n",
              "</html>"
            ]
          },
          "metadata": {}
        }
      ]
    }
  ]
}