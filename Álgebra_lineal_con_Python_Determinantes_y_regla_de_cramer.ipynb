{
  "nbformat": 4,
  "nbformat_minor": 0,
  "metadata": {
    "colab": {
      "name": "Álgebra lineal con Python- Determinantes y regla de cramer.ipynb",
      "provenance": [],
      "collapsed_sections": [],
      "include_colab_link": true
    },
    "kernelspec": {
      "display_name": "Python 3",
      "name": "python3"
    }
  },
  "cells": [
    {
      "cell_type": "markdown",
      "metadata": {
        "id": "view-in-github",
        "colab_type": "text"
      },
      "source": [
        "<a href=\"https://colab.research.google.com/github/josorio398/ALGEBRA-LINEAL-CON-PYTHON/blob/master/%C3%81lgebra_lineal_con_Python_Determinantes_y_regla_de_cramer.ipynb\" target=\"_parent\"><img src=\"https://colab.research.google.com/assets/colab-badge.svg\" alt=\"Open In Colab\"/></a>"
      ]
    },
    {
      "cell_type": "markdown",
      "metadata": {
        "id": "ubV2LDjkPY0n"
      },
      "source": [
        "<p><img alt=\"logo.fua\" height=\"100px\" src=\"https://github.com/josorio398/ALGEBRA-LINEAL-CON-PYTHON/blob/master/im%C3%A1genes%20repositorio/Logo%20UAm%C3%A9rica%20nuevo%202021.ai_page-0005.jpg?raw=true\" align=\"left\" hspace=\"0px\" vspace=\"0px\"></p>\n",
        "\n",
        "<p><img alt=\"logo.fua\" height=\"26px\" src=\"https://mirrors.creativecommons.org/presskit/buttons/88x31/svg/by-nd.svg\" align=\"right\" hspace=\"0px\" vspace=\"11px\"></p>\n",
        "\n",
        "\n",
        "<center> <font size=\"6\"><b>CALCULO INTEGRAL CON PYTHON &nbsp; &nbsp; &nbsp;&nbsp;</b><center><I>Jhonny Osorio Gallego</I> &nbsp; &nbsp;&nbsp; &nbsp;&nbsp;&nbsp;&nbsp; &nbsp; &nbsp;&nbsp; &nbsp;<p></font></center> "
      ]
    },
    {
      "cell_type": "markdown",
      "metadata": {
        "id": "RNGUxLU7PY0t"
      },
      "source": [
        "#**DETERMINANTES Y REGLA DE CRAMER**\n",
        "##  **Importamos librería simbólica SymPy**\n",
        "\n",
        "**SymPy** es una biblioteca de Python para matemáticas simbólicas. Su objetivo es convertirse en un sistema de álgebra computacional (CAS) con todas las funciones, manteniendo el código lo más simple posible para que sea comprensible y fácilmente extensible. SymPy está escrito completamente en Python.[sympy.org](https://www.sympy.org/en/index.html)"
      ]
    },
    {
      "cell_type": "code",
      "metadata": {
        "id": "G9u2KKaoPY0v"
      },
      "source": [
        "from sympy import *\n",
        "init_printing()\n",
        "x,y,z,w = symbols(\"x y z w \")\n",
        "a,b,c,A,B,C = symbols(\"a b c A B C \")"
      ],
      "execution_count": null,
      "outputs": []
    },
    {
      "cell_type": "markdown",
      "metadata": {
        "id": "7W2a1nKcMwME"
      },
      "source": [
        "#**DEFINICIÓN DE UNA MATRIZ EN SYMPY**\n",
        "\n",
        "Define la siguente matriz en el módulo **SymPy**:\n",
        "\n",
        "$$A=\\begin{bmatrix}\n",
        "5 & 4 & 6 & 7 \\\\\n",
        "3 & 5 & 8 & 9 \\\\\n",
        "1 & 5 & 1 & 3 \\\\\n",
        "\\end{bmatrix}$$"
      ]
    },
    {
      "cell_type": "markdown",
      "metadata": {
        "id": "DJ9HtXdzOPAT"
      },
      "source": [
        "### **Forma 1:** "
      ]
    },
    {
      "cell_type": "code",
      "metadata": {
        "colab": {
          "base_uri": "https://localhost:8080/",
          "height": 78
        },
        "id": "FEniaiZiOON8",
        "outputId": "c0d9d288-0835-4343-b3f5-bc7d7c27e74b"
      },
      "source": [
        "A = Matrix([[5,4,6,7],[3,5,8,9],[1,5,1,3]])\n",
        "A"
      ],
      "execution_count": null,
      "outputs": [
        {
          "output_type": "execute_result",
          "data": {
            "text/latex": "$\\displaystyle \\left[\\begin{matrix}5 & 4 & 6 & 7\\\\3 & 5 & 8 & 9\\\\1 & 5 & 1 & 3\\end{matrix}\\right]$",
            "text/plain": [
              "⎡5  4  6  7⎤\n",
              "⎢          ⎥\n",
              "⎢3  5  8  9⎥\n",
              "⎢          ⎥\n",
              "⎣1  5  1  3⎦"
            ]
          },
          "metadata": {},
          "execution_count": 2
        }
      ]
    },
    {
      "cell_type": "markdown",
      "metadata": {
        "id": "HDepGi8sOku4"
      },
      "source": [
        "### **Forma 2:** "
      ]
    },
    {
      "cell_type": "code",
      "metadata": {
        "colab": {
          "base_uri": "https://localhost:8080/",
          "height": 78
        },
        "id": "hDHRrXx1Mvn1",
        "outputId": "a1eb5643-39fa-479b-ab4d-db7d8551421b"
      },
      "source": [
        "A = Matrix(3,4, [5,4,6,7,3,5,8,9,1,5,1,3])\n",
        "A"
      ],
      "execution_count": null,
      "outputs": [
        {
          "output_type": "execute_result",
          "data": {
            "text/latex": "$\\displaystyle \\left[\\begin{matrix}5 & 4 & 6 & 7\\\\3 & 5 & 8 & 9\\\\1 & 5 & 1 & 3\\end{matrix}\\right]$",
            "text/plain": [
              "⎡5  4  6  7⎤\n",
              "⎢          ⎥\n",
              "⎢3  5  8  9⎥\n",
              "⎢          ⎥\n",
              "⎣1  5  1  3⎦"
            ]
          },
          "metadata": {},
          "execution_count": 3
        }
      ]
    },
    {
      "cell_type": "markdown",
      "metadata": {
        "id": "c4eZEIOn96k8"
      },
      "source": [
        "#**DETERMINANTES**\n",
        "\n",
        "Si $A$ es una matriz **cuadrada**, entonces la función determinante asocia a $A$ exactamente un número real llamado determinante de $A$. El determinante de $A$ se nota cómo $det(A)$ o $|A|$, podemos pensar en la función\n",
        "determinante como una correspondencia:\n",
        "\n",
        "\\begin{align}\n",
        "\\text{matriz cuadrada} \\hspace{0.5cm} &\\longrightarrow \\hspace{1cm}\\text{numero real}\\\\\n",
        "A \\hspace{2cm} &\\longrightarrow \\hspace{1cm}  det(A)=|A|\n",
        "\\end{align}"
      ]
    },
    {
      "cell_type": "markdown",
      "metadata": {
        "id": "c9eRCNhzG2oh"
      },
      "source": [
        "#**Determinante de una matriz cuadrada de orden 1**\n",
        "\n",
        "\n",
        "<center><h5> Si  $A =  \\begin{bmatrix}a_{11}\\end{bmatrix}$ es una <strong> matriz cuadrada de orden 1</strong> &nbsp; entonces &nbsp; $det(A) = a_{11} $\n",
        "\n"
      ]
    },
    {
      "cell_type": "markdown",
      "metadata": {
        "id": "PRprXS2Rgffg"
      },
      "source": [
        "\n",
        "### **Ejemplo 1: determinate matriz de orden 1**\n",
        "Cálcula el determinante de $A$ siendo:\n",
        "\n",
        "\n",
        "$$A=\\begin{bmatrix}\n",
        "5 \n",
        "\\end{bmatrix}$$\n",
        "\n",
        "###**Forma 1**"
      ]
    },
    {
      "cell_type": "code",
      "metadata": {
        "colab": {
          "base_uri": "https://localhost:8080/",
          "height": 37
        },
        "id": "FOCtqLMbSshR",
        "outputId": "1c6b2697-3a5b-464d-8f11-e354a4c649fb"
      },
      "source": [
        "A = Matrix([5])\n",
        "det(A)"
      ],
      "execution_count": null,
      "outputs": [
        {
          "output_type": "execute_result",
          "data": {
            "image/png": "[encoded data removed]",
            "text/latex": "$\\displaystyle 5$",
            "text/plain": [
              "5"
            ]
          },
          "metadata": {},
          "execution_count": 6
        }
      ]
    },
    {
      "cell_type": "markdown",
      "metadata": {
        "id": "KUW7dMUxTz0l"
      },
      "source": [
        "###**Forma 2**"
      ]
    },
    {
      "cell_type": "code",
      "metadata": {
        "colab": {
          "base_uri": "https://localhost:8080/",
          "height": 37
        },
        "id": "aLa3SHhYTDp3",
        "outputId": "60fa4bf1-e7ac-4ac8-a713-71131b08c4eb"
      },
      "source": [
        "A = Matrix([5])\n",
        "A.det()"
      ],
      "execution_count": null,
      "outputs": [
        {
          "output_type": "execute_result",
          "data": {
            "image/png": "[encoded data removed]",
            "text/latex": "$\\displaystyle 5$",
            "text/plain": [
              "5"
            ]
          },
          "metadata": {},
          "execution_count": 7
        }
      ]
    },
    {
      "cell_type": "markdown",
      "metadata": {
        "id": "W3wmF4yagzSS"
      },
      "source": [
        "#**Determinante de una matriz cuadrada de orden 2**\n",
        "\n",
        "\n",
        "<center><h5> Si  $A=\\begin{bmatrix}\n",
        "a_{11} & a_{12}  \\\\\n",
        "a_{21} & a_{22} \\\\\n",
        "\\end{bmatrix}$ es una <strong>matriz cuadrada de orden 2</strong> &nbsp; entonces &nbsp; $det(A) = a_{11}a_{22}-a_{12}a_{21} $\n",
        "\n"
      ]
    },
    {
      "cell_type": "markdown",
      "metadata": {
        "id": "lbL6wWKngzST"
      },
      "source": [
        "### **Ejemplo 1: determinate de una  matriz cuadrada de orden 2**\n",
        "cálcula el determinante de $A$ siendo:\n",
        "\n",
        "\n",
        "$$A=\\begin{bmatrix}\n",
        "a & b  \\\\\n",
        "c & d \\\\\n",
        "\\end{bmatrix}$$\n"
      ]
    },
    {
      "cell_type": "code",
      "metadata": {
        "colab": {
          "base_uri": "https://localhost:8080/",
          "height": 38
        },
        "id": "gI4EpekugzSU",
        "outputId": "9bf790c2-601e-4c07-8eb9-62b70ac3e1b1"
      },
      "source": [
        "a,b,c,d = symbols(\"a b c d \")\n",
        "A = Matrix([[a, b], [c,d]])\n",
        "det(A)"
      ],
      "execution_count": null,
      "outputs": [
        {
          "data": {
            "image/png": "[encoded data removed]",
            "text/latex": "$\\displaystyle a d - b c$",
            "text/plain": [
              "a⋅d - b⋅c"
            ]
          },
          "execution_count": 23,
          "metadata": {},
          "output_type": "execute_result"
        }
      ]
    },
    {
      "cell_type": "markdown",
      "metadata": {
        "id": "1UUNiPFVgzSW"
      },
      "source": [
        "### **Ejemplo 2:**\n",
        "Cálcula el determinante de $A$ siendo:\n",
        "$$A=\\begin{bmatrix}\n",
        "-5 & 7  \\\\\n",
        "-2 & 6 \\\\\n",
        "\\end{bmatrix}$$\n"
      ]
    },
    {
      "cell_type": "code",
      "metadata": {
        "colab": {
          "base_uri": "https://localhost:8080/",
          "height": 37
        },
        "id": "roFkQRFogzSW",
        "outputId": "381492bd-c5de-49c7-e821-2e58856d0c6b"
      },
      "source": [
        "A = Matrix([[-5, 7], [-2,6]])\n",
        "A.det()"
      ],
      "execution_count": null,
      "outputs": [
        {
          "output_type": "execute_result",
          "data": {
            "image/png": "[encoded data removed]",
            "text/latex": "$\\displaystyle -16$",
            "text/plain": [
              "-16"
            ]
          },
          "metadata": {},
          "execution_count": 10
        }
      ]
    },
    {
      "cell_type": "markdown",
      "metadata": {
        "id": "aBkilJO8lhxN"
      },
      "source": [
        "#**Determinante de una matriz cuadrada de orden 3**\n",
        "\n",
        "## **Regla de sarrus**\n",
        "La regla de Sarrus es un método mnemotécnico para calcular el determinante de una **matriz cuadrada de orden 3**. Su nombre se debe al matemático francés Pierre Frédéric Sarrus.\n",
        "\n",
        "\n",
        "<center><h5> Si  $A=\\begin{bmatrix}\n",
        "a_{11} & a_{12} & a_{12}  \\\\\n",
        "a_{21} & a_{22} & a_{23} \\\\\n",
        "a_{31} & a_{32} & a_{33}\\\\\n",
        "\\end{bmatrix}$ es una <strong>matriz cuadrada de orden 3</strong> entonces </center>  \n",
        "\n",
        "&nbsp; $$det(A) = (a_{11}a_{22}a_{33}+a_{12}a_{23}a_{31}+a_{13}a_{21}a_{32})- (a_{13}a_{22}a_{31}+a_{11}a_{23}a_{32}+a_{12}a_{21}a_{33}) $$\n",
        "\n",
        "&nbsp;\n",
        "\n",
        "\n",
        "<center><h5><strong>Construcción nemotecnica de la regla de sarrus</strong></center>\n",
        "\n",
        "\n",
        "<center><img src=\"https://github.com/josorio398/ALGEBRA-LINEAL-CON-PYTHON/blob/master/im%C3%A1genes%20repositorio/Sarrus_rule.png?raw=true\"  height=\"200\" />\n",
        "\n",
        "\n"
      ]
    },
    {
      "cell_type": "markdown",
      "metadata": {
        "id": "m2ny_bht7NhX"
      },
      "source": [
        "### **Ejemplo 1: determinate de una matriz cuadrada de orden 3**\n",
        "Cálcula el determinante de $A$ siendo:\n",
        "\n",
        "\n",
        "$$A=\\begin{bmatrix}\n",
        "a_{11} & a_{12} & a_{13}  \\\\\n",
        "a_{21} & a_{22} & a_{23} \\\\\n",
        "a_{31} & a_{32} & a_{33}\\\\\n",
        "\\end{bmatrix}$$\n"
      ]
    },
    {
      "cell_type": "code",
      "metadata": {
        "colab": {
          "base_uri": "https://localhost:8080/",
          "height": 78
        },
        "id": "aLm8ysSP5-xa",
        "outputId": "11e2a1ff-6dad-4b4a-f644-f582d5cb2ccb"
      },
      "source": [
        "a11, a12, a13, a21, a22, a23, a31, a32, a33 = symbols(\"a11 a12 a13 a21 a22 a23 a31 a32 a33\")\n",
        "A = Matrix([[a11, a12, a13], [a21,a22,a23],[a31, a32, a33]])\n",
        "A"
      ],
      "execution_count": null,
      "outputs": [
        {
          "data": {
            "text/latex": "$\\displaystyle \\left[\\begin{matrix}a_{11} & a_{12} & a_{13}\\\\a_{21} & a_{22} & a_{23}\\\\a_{31} & a_{32} & a_{33}\\end{matrix}\\right]$",
            "text/plain": [
              "⎡a₁₁  a₁₂  a₁₃⎤\n",
              "⎢             ⎥\n",
              "⎢a₂₁  a₂₂  a₂₃⎥\n",
              "⎢             ⎥\n",
              "⎣a₃₁  a₃₂  a₃₃⎦"
            ]
          },
          "execution_count": 24,
          "metadata": {},
          "output_type": "execute_result"
        }
      ]
    },
    {
      "cell_type": "code",
      "metadata": {
        "colab": {
          "base_uri": "https://localhost:8080/",
          "height": 38
        },
        "id": "f-2TgHRTsJXr",
        "outputId": "5c0d5b5f-7664-4524-d348-8c00fdf445dd"
      },
      "source": [
        "det(A)"
      ],
      "execution_count": null,
      "outputs": [
        {
          "data": {
            "image/png": "[encoded data removed]",
            "text/latex": "$\\displaystyle a_{11} a_{22} a_{33} - a_{11} a_{23} a_{32} - a_{12} a_{21} a_{33} + a_{12} a_{23} a_{31} + a_{13} a_{21} a_{32} - a_{13} a_{22} a_{31}$",
            "text/plain": [
              "a₁₁⋅a₂₂⋅a₃₃ - a₁₁⋅a₂₃⋅a₃₂ - a₁₂⋅a₂₁⋅a₃₃ + a₁₂⋅a₂₃⋅a₃₁ + a₁₃⋅a₂₁⋅a₃₂ - a₁₃⋅a₂₂⋅\n",
              "a₃₁"
            ]
          },
          "execution_count": 25,
          "metadata": {},
          "output_type": "execute_result"
        }
      ]
    },
    {
      "cell_type": "markdown",
      "metadata": {
        "id": "Nx7S3xuT7r_V"
      },
      "source": [
        "### **Ejemplo 2:**\n",
        "Cálcula el determinante de $A$ siendo:\n",
        "\n",
        "$$A=\\begin{bmatrix}\n",
        "5 & -3 & 6  \\\\\n",
        "5 & 9 & 12 \\\\\n",
        "9 & 3 & 5\\\\\n",
        "\\end{bmatrix}$$\n"
      ]
    },
    {
      "cell_type": "code",
      "metadata": {
        "colab": {
          "base_uri": "https://localhost:8080/",
          "height": 37
        },
        "id": "kZLPSUTs7r_X",
        "outputId": "cad02124-21c0-455d-ebce-1fa834605368"
      },
      "source": [
        "A = Matrix([[5,-3, 6], [5,9,12],[9,3,5]])\n",
        "A.det()"
      ],
      "execution_count": null,
      "outputs": [
        {
          "output_type": "execute_result",
          "data": {
            "image/png": "[encoded data removed]",
            "text/latex": "$\\displaystyle -600$",
            "text/plain": [
              "-600"
            ]
          },
          "metadata": {},
          "execution_count": 11
        }
      ]
    },
    {
      "cell_type": "markdown",
      "metadata": {
        "id": "F7N0Pu3y9GgZ"
      },
      "source": [
        "#**Determinante de una matriz cuadrada de orden $n$**\n",
        "\n",
        "Para encontrar el determinante de cualquier matriz cuadrada $A$ de orden $n$ $(n>2)$, seleccione cualquier renglón (o columna) de A y multiplique cada entrada en el renglón (columna) por su cofactor. La suma de estos productos será el determinante de $A$, llamado determinante de orden $n$.\n",
        "\n",
        "Sea $A$ es una matriz cuadrada de tamaño $n\\times n$\n",
        "\n",
        "si seleccionamos una fila $i$:\n",
        "\n",
        "$$|A|= det(A) = a_{i1}A_{n1}+a_{i2}A_{n2}+ \\cdots+ a_{in}A_{in} = \\displaystyle \\sum_{k=1}^{n}a_{ik}A_{ik} = \\displaystyle \\sum_{k=1}^{n}a_{ik}(-1)^{i+k}M_{ik}  $$\n",
        "\n",
        "si seleccionamos una columna $i$:\n",
        "\n",
        "$$|A|= det(A) = a_{1i}A_{1i}+a_{2i}A_{2i}+ \\cdots+ a_{ni}A_{ni} = \\displaystyle \\sum_{k=1}^{n}a_{ki}A_{ki} = \\displaystyle \\sum_{k=1}^{n}a_{ki}(-1)^{k+i}M_{ki}  $$\n",
        "\n",
        "donde $A_{ki}$ o $A_{ik}$ es el llamado **cofactor** y  $M_{ki}$ o $M_{ik}$ es llamano **menor** de la matriz.\n",
        "\n",
        "\n",
        "El **menor** *$M_{ki}$*  de una matriz $A$ es el determinante de la **submatriz** obtenida al eliminar la fila $k$ y la columna $i$ de la matriz $A$.\n"
      ]
    },
    {
      "cell_type": "markdown",
      "metadata": {
        "id": "jHlX43OhWKoE"
      },
      "source": [
        "## **Cálculo de menores**\n",
        "Cálcula el menor $M_{12}$ de $A$ siendo:\n",
        "\n",
        "$$A=\\begin{bmatrix}\n",
        "5 & -3 & 6  \\\\\n",
        "5 & 9 & 12 \\\\\n",
        "9 & 3 & 5\\\\\n",
        "\\end{bmatrix}$$\n",
        "### **Forma 1:** *usando el método* **minor( )**"
      ]
    },
    {
      "cell_type": "code",
      "metadata": {
        "colab": {
          "base_uri": "https://localhost:8080/",
          "height": 37
        },
        "id": "w-rrh7vMCSA5",
        "outputId": "c5bb0ef2-9dee-42c3-e4dd-0e77fb084759"
      },
      "source": [
        "A = Matrix([[5, -3, 6], [5, 9, 12], [9, 3, 5]])\n",
        "A.minor(0,1)"
      ],
      "execution_count": null,
      "outputs": [
        {
          "output_type": "execute_result",
          "data": {
            "image/png": "[encoded data removed]",
            "text/latex": "$\\displaystyle -83$",
            "text/plain": [
              "-83"
            ]
          },
          "metadata": {},
          "execution_count": 12
        }
      ]
    },
    {
      "cell_type": "markdown",
      "metadata": {
        "id": "FYNYrFiBXhTH"
      },
      "source": [
        "### **Forma 2:** *encontrando el determinate de la submatriz*"
      ]
    },
    {
      "cell_type": "code",
      "metadata": {
        "colab": {
          "base_uri": "https://localhost:8080/",
          "height": 37
        },
        "id": "U4Z7fGJrDH3v",
        "outputId": "09028daa-7a64-4833-af95-96422cbb4ef5"
      },
      "source": [
        "A = Matrix([[5, -3, 6], [5, 9, 12], [9, 3, 5]])\n",
        "A.row_del(0)\n",
        "A.col_del(1)\n",
        "A.det()"
      ],
      "execution_count": null,
      "outputs": [
        {
          "output_type": "execute_result",
          "data": {
            "image/png": "[encoded data removed]",
            "text/latex": "$\\displaystyle -83$",
            "text/plain": [
              "-83"
            ]
          },
          "metadata": {},
          "execution_count": 14
        }
      ]
    },
    {
      "cell_type": "markdown",
      "metadata": {
        "id": "0W5op-VXYnHM"
      },
      "source": [
        "## **Cálculo de cofactores** \n",
        "Cálcula el cofactor $A_{12}$ de $A$ siendo:\n",
        "\n",
        "$$A=\\begin{bmatrix}\n",
        "5 & -3 & 6  \\\\\n",
        "5 & 9 & 12 \\\\\n",
        "9 & 3 & 5\\\\\n",
        "\\end{bmatrix}$$\n",
        "### **Forma 1** *usando el método* **cofactor( )**"
      ]
    },
    {
      "cell_type": "code",
      "metadata": {
        "colab": {
          "base_uri": "https://localhost:8080/",
          "height": 37
        },
        "id": "bTbSuKlSYnHQ",
        "outputId": "93b1fbe2-a374-4ef1-cfd3-62d49d35fdc8"
      },
      "source": [
        "A = Matrix([[5, -3, 6], [5, 9, 12], [9, 3, 5]])\n",
        "A.cofactor(0,1)"
      ],
      "execution_count": null,
      "outputs": [
        {
          "output_type": "execute_result",
          "data": {
            "image/png": "[encoded data removed]",
            "text/latex": "$\\displaystyle 83$",
            "text/plain": [
              "83"
            ]
          },
          "metadata": {},
          "execution_count": 15
        }
      ]
    },
    {
      "cell_type": "markdown",
      "metadata": {
        "id": "L8FStbT7YnHR"
      },
      "source": [
        "### **Forma 2** *usando el método* **minor( )**"
      ]
    },
    {
      "cell_type": "code",
      "metadata": {
        "colab": {
          "base_uri": "https://localhost:8080/",
          "height": 37
        },
        "id": "n6RafJaEYnHS",
        "outputId": "28fb7342-ef30-4a5f-f30f-c53e6cbfde6e"
      },
      "source": [
        "A = Matrix([[5, -3, 6], [5, 9, 12], [9, 3, 5]])\n",
        "(-1)**(1+2)*A.minor(0,1)"
      ],
      "execution_count": null,
      "outputs": [
        {
          "output_type": "execute_result",
          "data": {
            "image/png": "[encoded data removed]",
            "text/latex": "$\\displaystyle 83$",
            "text/plain": [
              "83"
            ]
          },
          "metadata": {},
          "execution_count": 16
        }
      ]
    },
    {
      "cell_type": "markdown",
      "metadata": {
        "id": "aBr7Sc4vhBcF"
      },
      "source": [
        "### **Forma 3:** *encontrando el determinate de la submatriz*"
      ]
    },
    {
      "cell_type": "code",
      "metadata": {
        "colab": {
          "base_uri": "https://localhost:8080/",
          "height": 37
        },
        "id": "Mh9ojk6BhBcU",
        "outputId": "7121e14b-dfd9-499c-d8b3-d46ad991ae70"
      },
      "source": [
        "M = Matrix([[5, -3, 6], [5, 9, 12], [9, 3, 5]])\n",
        "F = 0   # fila\n",
        "C = 1   # columna\n",
        "M.row_del(F)\n",
        "M.col_del(C)\n",
        "(-1)**(F+C)*det(M)"
      ],
      "execution_count": null,
      "outputs": [
        {
          "output_type": "execute_result",
          "data": {
            "image/png": "[encoded data removed]",
            "text/latex": "$\\displaystyle 83$",
            "text/plain": [
              "83"
            ]
          },
          "metadata": {},
          "execution_count": 17
        }
      ]
    },
    {
      "cell_type": "markdown",
      "metadata": {
        "id": "0rvHsukWpneA"
      },
      "source": [
        "# **Cálculo de determinantes paso a paso**\n",
        "cálcula el determinante de $A$ paso a  paso:\n",
        "\n",
        "$$A=\\begin{bmatrix}\n",
        "5 & -3 & 6  \\\\\n",
        "5 & 9 & 12 \\\\\n",
        "9 & 3 & 5\\\\\n",
        "\\end{bmatrix}$$\n",
        "\n",
        "### **Forma 1** *usando la función* **minor( )**"
      ]
    },
    {
      "cell_type": "code",
      "metadata": {
        "colab": {
          "base_uri": "https://localhost:8080/",
          "height": 37
        },
        "id": "gNLN6TEXCWsa",
        "outputId": "ac24e650-2cca-485e-c7aa-95b8ca8922c7"
      },
      "source": [
        "A = Matrix([[5, -3, 6], [5, 9, 12], [9, 3, 5]])\n",
        "\n",
        "(-1)**(0+0)*A[0,0]*A.minor(0, 0)+(-1)**(0+1)*A[0,1]*A.minor(0, 1)+(-1)**(0+2)*A[0,2]*A.minor(0, 2)\n"
      ],
      "execution_count": null,
      "outputs": [
        {
          "output_type": "execute_result",
          "data": {
            "image/png": "[encoded data removed]",
            "text/latex": "$\\displaystyle -600$",
            "text/plain": [
              "-600"
            ]
          },
          "metadata": {},
          "execution_count": 23
        }
      ]
    },
    {
      "cell_type": "markdown",
      "metadata": {
        "id": "j3waxR9Disb4"
      },
      "source": [
        "\n",
        "### **Forma 1** *usando la función* **cofactor( )**"
      ]
    },
    {
      "cell_type": "code",
      "metadata": {
        "colab": {
          "base_uri": "https://localhost:8080/",
          "height": 37
        },
        "id": "VcYkACABiuox",
        "outputId": "d2343608-75eb-4cc8-80e9-44a7dbed2f3f"
      },
      "source": [
        "A = Matrix([[5, -3, 6], [5, 9, 12], [9, 3, 5]])\n",
        "\n",
        "A[0,0]*A.cofactor(0, 0)+A[0,1]*A.cofactor(0, 1)+A[0,2]*A.cofactor(0, 2)"
      ],
      "execution_count": null,
      "outputs": [
        {
          "output_type": "execute_result",
          "data": {
            "image/png": "[encoded data removed]",
            "text/latex": "$\\displaystyle -600$",
            "text/plain": [
              "-600"
            ]
          },
          "metadata": {},
          "execution_count": 24
        }
      ]
    },
    {
      "cell_type": "markdown",
      "metadata": {
        "id": "C2CrjPiTY3_V"
      },
      "source": [
        "<p><height=\"45px\" src=\"<a href=\"https://ibb.co/pZYMC0T\"><img src=\"https://i.ibb.co/ZL1WsdZ/poll.png\" align=\"left\" alt=\"\" width=\"4%\" height=\"5%\"></a><p> <H2><strong>&nbsp;Actividad de práctica:</strong> Completa el código para hallar el determinante de una matriz  aleatoria de orden 5, sin usar la función o método det( ) de SymPy."
      ]
    },
    {
      "cell_type": "code",
      "metadata": {
        "id": "dhozC2VgZUkQ"
      },
      "source": [
        "A = randMatrix(5, min=-5, max=5)\n",
        "\n",
        "\n"
      ],
      "execution_count": null,
      "outputs": []
    },
    {
      "cell_type": "markdown",
      "metadata": {
        "id": "ya5Tl9M-kB9B"
      },
      "source": [
        "#**PROPIEDADES DETERMINANTES**\n",
        "\n",
        "### Sea ${\\displaystyle A,B\\in {\\mathcal {M}}_{n\\times n}(\\mathbb {R} )}$, y $k \\in \\mathbb {R}$, se cumplen las siguientes propiedades del determinante:"
      ]
    },
    {
      "cell_type": "markdown",
      "metadata": {
        "id": "Bgmti9Oxkt9M"
      },
      "source": [
        "###**Propiedad 1:** Si cada una de las entradas de un renglón (o columna) de $A$ es $0$, entonces $|A| = 0$."
      ]
    },
    {
      "cell_type": "code",
      "metadata": {
        "colab": {
          "base_uri": "https://localhost:8080/",
          "height": 78
        },
        "id": "3tNxOkOqkBRA",
        "outputId": "467c0d88-7008-4607-d91b-4c87048a43ab"
      },
      "source": [
        "A = Matrix(3,3,[0,0,0,3,4,5,7,8,9])\n",
        "A"
      ],
      "execution_count": null,
      "outputs": [
        {
          "output_type": "execute_result",
          "data": {
            "text/latex": "$\\displaystyle \\left[\\begin{matrix}0 & 0 & 0\\\\3 & 4 & 5\\\\7 & 8 & 9\\end{matrix}\\right]$",
            "text/plain": [
              "⎡0  0  0⎤\n",
              "⎢       ⎥\n",
              "⎢3  4  5⎥\n",
              "⎢       ⎥\n",
              "⎣7  8  9⎦"
            ]
          },
          "metadata": {},
          "execution_count": 25
        }
      ]
    },
    {
      "cell_type": "code",
      "metadata": {
        "colab": {
          "base_uri": "https://localhost:8080/"
        },
        "id": "5Ju-15N_0zL_",
        "outputId": "36354299-607c-4755-d58f-63a7612c3059"
      },
      "source": [
        "det(A) == 0"
      ],
      "execution_count": null,
      "outputs": [
        {
          "output_type": "execute_result",
          "data": {
            "text/plain": [
              "True"
            ]
          },
          "metadata": {},
          "execution_count": 27
        }
      ]
    },
    {
      "cell_type": "markdown",
      "metadata": {
        "id": "0P_qpCxTlOVp"
      },
      "source": [
        "###**Propiedad 2:** Si dos renglones (o columnas) de $A$ son idénticos, $|A| = 0$."
      ]
    },
    {
      "cell_type": "code",
      "metadata": {
        "id": "I-kmVDXllPRx"
      },
      "source": [
        ""
      ],
      "execution_count": null,
      "outputs": []
    },
    {
      "cell_type": "markdown",
      "metadata": {
        "id": "5QuN3x4LlPy2"
      },
      "source": [
        "###**Propiedad 3:** Si $A$ es triangular superior (o inferior), entonces $|A|$ es igual al producto de las entradas de la diagonal principal."
      ]
    },
    {
      "cell_type": "code",
      "metadata": {
        "colab": {
          "base_uri": "https://localhost:8080/",
          "height": 78
        },
        "id": "7YlEpI2LlQ2C",
        "outputId": "49021949-93db-4f7a-b20e-06aee4c2ab3e"
      },
      "source": [
        "A = Matrix([[a,6,4],[0,b,2],[0,0,c]])\n",
        "A"
      ],
      "execution_count": null,
      "outputs": [
        {
          "output_type": "execute_result",
          "data": {
            "text/latex": "$\\displaystyle \\left[\\begin{matrix}a & 6 & 4\\\\0 & b & 2\\\\0 & 0 & c\\end{matrix}\\right]$",
            "text/plain": [
              "⎡a  6  4⎤\n",
              "⎢       ⎥\n",
              "⎢0  b  2⎥\n",
              "⎢       ⎥\n",
              "⎣0  0  c⎦"
            ]
          },
          "metadata": {},
          "execution_count": 28
        }
      ]
    },
    {
      "cell_type": "code",
      "metadata": {
        "colab": {
          "base_uri": "https://localhost:8080/",
          "height": 38
        },
        "id": "DtjgfO6T2iCu",
        "outputId": "5d620f7c-8786-49f9-e52a-e84ec05758f3"
      },
      "source": [
        "det(A)"
      ],
      "execution_count": null,
      "outputs": [
        {
          "output_type": "execute_result",
          "data": {
            "image/png": "[encoded data removed]",
            "text/latex": "$\\displaystyle a b c$",
            "text/plain": [
              "a⋅b⋅c"
            ]
          },
          "metadata": {},
          "execution_count": 29
        }
      ]
    },
    {
      "cell_type": "markdown",
      "metadata": {
        "id": "9y_FfMoGmHeP"
      },
      "source": [
        "###**Propiedad 4:** Si $B$ es la matriz que se obtiene al intercambiar dos renglones (o columnas) de $A$, entonces $|B|=-|A|$, o en forma equivalente, $|A|=-|B|$.\n",
        "\n",
        "|  Operación elemental        | Código |\n",
        "|:--------------------------------------:|:--------------:|\n",
        "| Interrarcambiar la fila<br> $F_i$ con $F_j$ | **` A.row_swap(i, j)`**   |\n",
        "| Interrarcambiar la columna<br> $C_i$ con $C_j$ | **` A.col_swap(i, j)`**   |"
      ]
    },
    {
      "cell_type": "code",
      "metadata": {
        "colab": {
          "base_uri": "https://localhost:8080/",
          "height": 99
        },
        "id": "DoYF4prHRr7-",
        "outputId": "8e427e15-4acb-4fc4-8f6d-22e57b0db2bc"
      },
      "source": [
        "A = randMatrix(4,min=-5, max=5)\n",
        "A"
      ],
      "execution_count": null,
      "outputs": [
        {
          "data": {
            "text/latex": "$\\displaystyle \\left[\\begin{matrix}2 & -5 & -2 & 2\\\\-1 & 0 & 5 & 1\\\\3 & -3 & -5 & -4\\\\3 & 0 & -1 & 3\\end{matrix}\\right]$",
            "text/plain": [
              "⎡2   -5  -2  2 ⎤\n",
              "⎢              ⎥\n",
              "⎢-1  0   5   1 ⎥\n",
              "⎢              ⎥\n",
              "⎢3   -3  -5  -4⎥\n",
              "⎢              ⎥\n",
              "⎣3   0   -1  3 ⎦"
            ]
          },
          "execution_count": 48,
          "metadata": {
            "tags": []
          },
          "output_type": "execute_result"
        }
      ]
    },
    {
      "cell_type": "code",
      "metadata": {
        "colab": {
          "base_uri": "https://localhost:8080/",
          "height": 36
        },
        "id": "fmZ5TKAG4i50",
        "outputId": "414c2c0f-892a-4c51-efc3-e68bfc9c053b"
      },
      "source": [
        "det_A = det(A)\n",
        "det_A "
      ],
      "execution_count": null,
      "outputs": [
        {
          "data": {
            "image/png": "[encoded data removed]",
            "text/latex": "$\\displaystyle -394$",
            "text/plain": [
              "-394"
            ]
          },
          "execution_count": 49,
          "metadata": {
            "tags": []
          },
          "output_type": "execute_result"
        }
      ]
    },
    {
      "cell_type": "code",
      "metadata": {
        "colab": {
          "base_uri": "https://localhost:8080/",
          "height": 99
        },
        "id": "RBJNhBNS4UDA",
        "outputId": "101a5617-4faf-4fb9-881d-d43de933dfbe"
      },
      "source": [
        "A.row_swap(1, 3)\n",
        "B = A\n",
        "B"
      ],
      "execution_count": null,
      "outputs": [
        {
          "data": {
            "text/latex": "$\\displaystyle \\left[\\begin{matrix}2 & -5 & -2 & 2\\\\3 & 0 & -1 & 3\\\\3 & -3 & -5 & -4\\\\-1 & 0 & 5 & 1\\end{matrix}\\right]$",
            "text/plain": [
              "⎡2   -5  -2  2 ⎤\n",
              "⎢              ⎥\n",
              "⎢3   0   -1  3 ⎥\n",
              "⎢              ⎥\n",
              "⎢3   -3  -5  -4⎥\n",
              "⎢              ⎥\n",
              "⎣-1  0   5   1 ⎦"
            ]
          },
          "execution_count": 50,
          "metadata": {
            "tags": []
          },
          "output_type": "execute_result"
        }
      ]
    },
    {
      "cell_type": "code",
      "metadata": {
        "colab": {
          "base_uri": "https://localhost:8080/",
          "height": 36
        },
        "id": "8mGMQrJm4z91",
        "outputId": "4886d5a3-d70f-4127-8c93-f58d259bd01e"
      },
      "source": [
        "det_B = det(B)\n",
        "det_B "
      ],
      "execution_count": null,
      "outputs": [
        {
          "data": {
            "image/png": "[encoded data removed]",
            "text/latex": "$\\displaystyle 394$",
            "text/plain": [
              "394"
            ]
          },
          "execution_count": 52,
          "metadata": {
            "tags": []
          },
          "output_type": "execute_result"
        }
      ]
    },
    {
      "cell_type": "code",
      "metadata": {
        "colab": {
          "base_uri": "https://localhost:8080/"
        },
        "id": "w-c-iL_-46ev",
        "outputId": "176125e4-6661-48b4-91f5-ea0e1454199e"
      },
      "source": [
        "A = randMatrix(4,min=-5, max=5)\n",
        "det_A = det(A)\n",
        "A.row_swap(1, 3)\n",
        "B = A\n",
        "det_B = det(B)\n",
        "det_B == -1*det_A\n"
      ],
      "execution_count": null,
      "outputs": [
        {
          "data": {
            "text/plain": [
              "True"
            ]
          },
          "execution_count": 53,
          "metadata": {
            "tags": []
          },
          "output_type": "execute_result"
        }
      ]
    },
    {
      "cell_type": "markdown",
      "metadata": {
        "id": "--D64KU0ltBG"
      },
      "source": [
        "###**Propiedad 5:** Si $B$ es la matriz que se obtiene sumando un múltiplo de un renglón (o columna) de $A$ a otro renglón (columna), entonces $det(B)=det(A)$.\n",
        "\n",
        "|  Operación elemental        | Código |\n",
        "|:--------------------------------------:|:--------------:|\n",
        "| Sumar $k$ veces la fila $F_i$ <br> a la fila $F_j$ | **`A[j ,:] = k*A[ i ,:] + A[j ,:]`**  |\n",
        "| Sumar $k$ veces la columna $C_i$ <br> a la columna $C_j$ | **`A[: ,j] = k*A[ : ,i] + A[: ,j]`**   |"
      ]
    },
    {
      "cell_type": "code",
      "metadata": {
        "id": "Co8iFH-FrH2G"
      },
      "source": [
        ""
      ],
      "execution_count": null,
      "outputs": []
    },
    {
      "cell_type": "markdown",
      "metadata": {
        "id": "wCG_G3GtmyCT"
      },
      "source": [
        "###**Propiedad 6 :** Si $B$ es la matriz que se obtiene multiplicando cada entrada de un renglón (o columna) de $A$ por el mismo número $k$, entonces $|B|=k|A|$. \n",
        "\n",
        "|  Operación elemental        | Código |\n",
        "|:--------------------------------------:|:--------------:|\n",
        "| Multiplicar la fila $F_i$ <br> por la constante $k$  | **`A[i ,:] = k*A[ i ,:]`** |\n",
        "| Multiplicar la columna $C_i$ <br> por la constante $k$  | **`A[: ,i] = k*A[ : ,i]`**    |"
      ]
    },
    {
      "cell_type": "code",
      "metadata": {
        "id": "usxnyoiQ9Wnz"
      },
      "source": [
        ""
      ],
      "execution_count": null,
      "outputs": []
    },
    {
      "cell_type": "markdown",
      "metadata": {
        "id": "n005SvejnEDg"
      },
      "source": [
        "###**Propiedad 7 :** \n",
        "###Sea ${\\displaystyle A\\in {\\mathcal {M}}_{n\\times n}(\\mathbb {R} )}$, y $k \\in \\mathbb {R}$ se cumple:\n",
        "\n",
        "###$$|kA|=k^n|A|$$\n",
        "\n",
        "###Esto es una consecuencia de la **propiedad 6**, ya que cada uno de los $n$ renglones de $kA$ tiene un factor común $k$."
      ]
    },
    {
      "cell_type": "code",
      "metadata": {
        "id": "dK_TRRJR9Y9t"
      },
      "source": [
        ""
      ],
      "execution_count": null,
      "outputs": []
    },
    {
      "cell_type": "markdown",
      "metadata": {
        "id": "sHB9IneroY5N"
      },
      "source": [
        "###**Propiedad 8:** \n",
        "###Sea ${\\displaystyle A,B\\in {\\mathcal {M}}_{n\\times n}(\\mathbb {R} )}$ se cumple:\n",
        "\n",
        "###$$|AB|= |A||B|$$."
      ]
    },
    {
      "cell_type": "code",
      "metadata": {
        "id": "NtY1-rerx2x7"
      },
      "source": [
        ""
      ],
      "execution_count": null,
      "outputs": []
    },
    {
      "cell_type": "markdown",
      "metadata": {
        "id": "5LNQjrSzx1UY"
      },
      "source": [
        "###**Propiedad 9:** \n",
        "###Sea ${\\displaystyle A\\in {\\mathcal {M}}_{n\\times n}(\\mathbb {R} )}$ una matriz invertible, se cumple:\n",
        "\n",
        "###$$|A^{-1}|= \\dfrac{1}{|A|}$$."
      ]
    },
    {
      "cell_type": "code",
      "metadata": {
        "id": "r7qCMzmeytW2"
      },
      "source": [
        ""
      ],
      "execution_count": null,
      "outputs": []
    },
    {
      "cell_type": "markdown",
      "metadata": {
        "id": "ibpca46ryqJ1"
      },
      "source": [
        "###**Propiedad 10:** \n",
        "###Sea ${\\displaystyle A\\in {\\mathcal {M}}_{n\\times n}(\\mathbb {R} )}$, se cumple:\n",
        "\n",
        "###$$|A^T|= |A|$$."
      ]
    },
    {
      "cell_type": "code",
      "metadata": {
        "id": "2B0uonmlyqKB"
      },
      "source": [
        ""
      ],
      "execution_count": null,
      "outputs": []
    },
    {
      "cell_type": "markdown",
      "metadata": {
        "id": "88NTknqPTLtq"
      },
      "source": [
        "# **MATRIZ DE COFACTORES**\n",
        "\n",
        "Sea ${\\displaystyle A\\in {\\mathcal {M}}_{n\\times n}(\\mathbb {R} )}$ , existe una matriz llamada ${\\displaystyle cof(A)\\in {\\mathcal {M}}_{n\\times n}(\\mathbb {R} )}$ tal que:\n",
        "\n",
        "<center> <h4> Si &nbsp; &nbsp; $A = \\left[  a_{ij} \\right]_{n \\times n}$  &nbsp; &nbsp; entonces &nbsp; &nbsp;$cof(A) = \\left[  A_{ij}  \\right]_{n \\times n}$ &nbsp; donde &nbsp; $A_{ij}$ es el cofactor de la entrada $a_{ij}$</h4>\n",
        "\n"
      ]
    },
    {
      "cell_type": "markdown",
      "metadata": {
        "id": "8GXIKE7JVcGv"
      },
      "source": [
        "### **Ejemplo: matriz de cofactores**\n",
        "\n",
        "\n",
        "\n",
        "Encuentra la matriz $cof(A)$  de la matriz :\n",
        "\n",
        "$$A=\\begin{bmatrix}\n",
        "5 & -3 & 6  \\\\\n",
        "5 & 9 & 12 \\\\\n",
        "9 & 3 & 5\\\\\n",
        "\\end{bmatrix}$$"
      ]
    },
    {
      "cell_type": "markdown",
      "metadata": {
        "id": "PdbaPlodXLtr"
      },
      "source": [
        "### **Forma 1:** "
      ]
    },
    {
      "cell_type": "code",
      "metadata": {
        "colab": {
          "base_uri": "https://localhost:8080/",
          "height": 78
        },
        "id": "FX-zlny1VcHR",
        "outputId": "40eb4d79-59f6-490a-ac23-b401ea0e5122"
      },
      "source": [
        "A = Matrix([[5, -3, 6], [5, 9, 12], [9, 3, 5]])\n",
        "A.cofactor_matrix()"
      ],
      "execution_count": null,
      "outputs": [
        {
          "data": {
            "text/latex": "$\\displaystyle \\left[\\begin{matrix}9 & 83 & -66\\\\33 & -29 & -42\\\\-90 & -30 & 60\\end{matrix}\\right]$",
            "text/plain": [
              "⎡ 9   83   -66⎤\n",
              "⎢             ⎥\n",
              "⎢33   -29  -42⎥\n",
              "⎢             ⎥\n",
              "⎣-90  -30  60 ⎦"
            ]
          },
          "execution_count": 3,
          "metadata": {
            "tags": []
          },
          "output_type": "execute_result"
        }
      ]
    },
    {
      "cell_type": "markdown",
      "metadata": {
        "id": "VjXLu3kFXPcW"
      },
      "source": [
        "### **Forma 2:** "
      ]
    },
    {
      "cell_type": "code",
      "metadata": {
        "colab": {
          "base_uri": "https://localhost:8080/",
          "height": 78
        },
        "id": "1MFtqKD_TQ-H",
        "outputId": "ad1f804e-6ee9-48cb-8641-f1baa727ee00"
      },
      "source": [
        "A = Matrix([[5, -3, 6], [5, 9, 12], [9, 3, 5]])\n",
        "B = Matrix(3,3, lambda i,j: A.cofactor(i, j))\n",
        "B"
      ],
      "execution_count": null,
      "outputs": [
        {
          "data": {
            "text/latex": "$\\displaystyle \\left[\\begin{matrix}9 & 83 & -66\\\\33 & -29 & -42\\\\-90 & -30 & 60\\end{matrix}\\right]$",
            "text/plain": [
              "⎡ 9   83   -66⎤\n",
              "⎢             ⎥\n",
              "⎢33   -29  -42⎥\n",
              "⎢             ⎥\n",
              "⎣-90  -30  60 ⎦"
            ]
          },
          "execution_count": 4,
          "metadata": {
            "tags": []
          },
          "output_type": "execute_result"
        }
      ]
    },
    {
      "cell_type": "markdown",
      "metadata": {
        "id": "RWz1KUEDzQ5L"
      },
      "source": [
        "# **MATRIZ DE ADJUNTOS O ADJUNTA**\n",
        "\n",
        "Sea ${\\displaystyle A\\in {\\mathcal {M}}_{n\\times n}(\\mathbb {R} )}$ , existe una matriz llamada ${\\displaystyle adj(A)\\in {\\mathcal {M}}_{n\\times n}(\\mathbb {R} )}$ tal que:\n",
        "\n",
        "\n",
        "$$adj(A)= [cof(A)]^T$$\n",
        "\n",
        "\n",
        "\n"
      ]
    },
    {
      "cell_type": "markdown",
      "metadata": {
        "id": "0TG-fsLMzQ5q"
      },
      "source": [
        "### **Ejemplo: matriz de adjuntos**\n",
        "\n",
        "\n",
        "\n",
        "Encuentra la matriz $adj(A)$  de la matriz :\n",
        "\n",
        "$$A=\\begin{bmatrix}\n",
        "5 & -3 & 6  \\\\\n",
        "5 & 9 & 12 \\\\\n",
        "9 & 3 & 5\\\\\n",
        "\\end{bmatrix}$$"
      ]
    },
    {
      "cell_type": "markdown",
      "metadata": {
        "id": "pyxXeWfZzQ5r"
      },
      "source": [
        "### **Forma 1:** *(usando la matriz de cofactores)*"
      ]
    },
    {
      "cell_type": "code",
      "metadata": {
        "colab": {
          "base_uri": "https://localhost:8080/",
          "height": 78
        },
        "id": "mAppZX5SzQ5s",
        "outputId": "06e23eaa-8d8e-4f48-e025-8d2f239c7245"
      },
      "source": [
        "A = Matrix([[5, -3, 6], [5, 9, 12], [9, 3, 5]])\n",
        "A.cofactor_matrix().T"
      ],
      "execution_count": null,
      "outputs": [
        {
          "data": {
            "text/latex": "$\\displaystyle \\left[\\begin{matrix}9 & 33 & -90\\\\83 & -29 & -30\\\\-66 & -42 & 60\\end{matrix}\\right]$",
            "text/plain": [
              "⎡ 9   33   -90⎤\n",
              "⎢             ⎥\n",
              "⎢83   -29  -30⎥\n",
              "⎢             ⎥\n",
              "⎣-66  -42  60 ⎦"
            ]
          },
          "execution_count": 5,
          "metadata": {
            "tags": []
          },
          "output_type": "execute_result"
        }
      ]
    },
    {
      "cell_type": "markdown",
      "metadata": {
        "id": "MobnkzjuzQ5v"
      },
      "source": [
        "### **Forma 2:** *(definiendo una función)*"
      ]
    },
    {
      "cell_type": "code",
      "metadata": {
        "colab": {
          "base_uri": "https://localhost:8080/",
          "height": 78
        },
        "id": "f2C3EVJ7zQ5w",
        "outputId": "fd769706-f77a-4e8e-9168-3c6e38105528"
      },
      "source": [
        "A = Matrix([[5, -3, 6], [5, 9, 12], [9, 3, 5]])\n",
        "cof_A = Matrix(3,3, lambda i,j: A.cofactor(i, j))\n",
        "transpose(cof_A)"
      ],
      "execution_count": null,
      "outputs": [
        {
          "data": {
            "text/latex": "$\\displaystyle \\left[\\begin{matrix}9 & 33 & -90\\\\83 & -29 & -30\\\\-66 & -42 & 60\\end{matrix}\\right]$",
            "text/plain": [
              "⎡ 9   33   -90⎤\n",
              "⎢             ⎥\n",
              "⎢83   -29  -30⎥\n",
              "⎢             ⎥\n",
              "⎣-66  -42  60 ⎦"
            ]
          },
          "execution_count": 6,
          "metadata": {
            "tags": []
          },
          "output_type": "execute_result"
        }
      ]
    },
    {
      "cell_type": "markdown",
      "metadata": {
        "id": "v4gwIkz52ht4"
      },
      "source": [
        "### **Forma 3:** *(usando el método adjugate)* "
      ]
    },
    {
      "cell_type": "code",
      "metadata": {
        "colab": {
          "base_uri": "https://localhost:8080/",
          "height": 78
        },
        "id": "vWT_ox-j2huB",
        "outputId": "fe0eeb72-1508-490b-e528-f74664b83110"
      },
      "source": [
        "A = Matrix([[5, -3, 6], [5, 9, 12], [9, 3, 5]])\n",
        "A.adjugate()"
      ],
      "execution_count": null,
      "outputs": [
        {
          "data": {
            "text/latex": "$\\displaystyle \\left[\\begin{matrix}9 & 33 & -90\\\\83 & -29 & -30\\\\-66 & -42 & 60\\end{matrix}\\right]$",
            "text/plain": [
              "⎡ 9   33   -90⎤\n",
              "⎢             ⎥\n",
              "⎢83   -29  -30⎥\n",
              "⎢             ⎥\n",
              "⎣-66  -42  60 ⎦"
            ]
          },
          "execution_count": 7,
          "metadata": {
            "tags": []
          },
          "output_type": "execute_result"
        }
      ]
    },
    {
      "cell_type": "markdown",
      "metadata": {
        "id": "4w0gLm_jT4Ck"
      },
      "source": [
        "#**Propiedades matriz adjunta**\n",
        "\n",
        "Sean ${\\displaystyle A,B\\in {\\mathcal {M}}_{n\\times n}(\\mathbb {R} )}$  y $k \\in \\mathbb {R}$ , se cumplen las siguientes propiedades:\n",
        "\n",
        "|            PROPIEDAD           |       EXPLICACIÓN                      |\n",
        "|:------------------------------:|:--------------------------------------:|\n",
        "| Adjunta de la matriz nula                 |$$adj(0)=0$$|\n",
        "| Adjunta de la matriz identidad                    |   $$adj(I)=I$$                      |\n",
        "| Adjunta  de $kA$                      |      $$adj(kA) =k^{n-1}adj(A)$$         | \n",
        "| Adjunta de $A^T$  |             $$adj(A^T)=\\left[adj(A)\\right]^T$$                           |\n",
        "| Adjunta de $AB$    |      $$adj(AB)=adj(B) \\ adj(A)$$ |\n",
        " | Adjunta de $A^n$    |     $$adj(A^n)=\\left[adj(A)\\right]^n $$ |\n",
        " | Adjunta de $A^{-1}$    |    $$adj(A^{-1})=\\left[adj(A)\\right]^{-1} $$|                    \n",
        "\n"
      ]
    },
    {
      "cell_type": "markdown",
      "metadata": {
        "id": "uUHfpcB-pQPx"
      },
      "source": [
        "<p><height=\"45px\" src=\"<a href=\"https://ibb.co/pZYMC0T\"><img src=\"https://i.ibb.co/ZL1WsdZ/poll.png\" align=\"left\" alt=\"\" width=\"4%\" height=\"5%\"></a><p> <H1><strong>&nbsp;Verificación de las propiedades de la matriz adjunta</strong>\n",
        "\n",
        "&nbsp;&nbsp;&nbsp;&nbsp;&nbsp;&nbsp;&nbsp;&nbsp;&nbsp;&nbsp;&nbsp;&nbsp;Verifica cada una de las propiedades de la matriz adjunta usando el método adjugate( ) de SymPy."
      ]
    },
    {
      "cell_type": "markdown",
      "metadata": {
        "id": "670jhc_0oJyx"
      },
      "source": [
        "### **Adjunta de la matriz nula** \n",
        "\n",
        "$$adj(0)=0$$\n"
      ]
    },
    {
      "cell_type": "code",
      "metadata": {
        "colab": {
          "base_uri": "https://localhost:8080/",
          "height": 78
        },
        "id": "6CidVeJdoJy-",
        "outputId": "ea447eb5-4cf3-4b08-eb27-b8fd6ddb2b80"
      },
      "source": [
        "A = zeros(3)\n",
        "A"
      ],
      "execution_count": null,
      "outputs": [
        {
          "data": {
            "text/latex": "$\\displaystyle \\left[\\begin{matrix}0 & 0 & 0\\\\0 & 0 & 0\\\\0 & 0 & 0\\end{matrix}\\right]$",
            "text/plain": [
              "⎡0  0  0⎤\n",
              "⎢       ⎥\n",
              "⎢0  0  0⎥\n",
              "⎢       ⎥\n",
              "⎣0  0  0⎦"
            ]
          },
          "execution_count": 9,
          "metadata": {
            "tags": []
          },
          "output_type": "execute_result"
        }
      ]
    },
    {
      "cell_type": "code",
      "metadata": {
        "colab": {
          "base_uri": "https://localhost:8080/",
          "height": 78
        },
        "id": "uM2peTt8ordm",
        "outputId": "a300dbd2-a739-497d-937c-96c1b0f1e1d1"
      },
      "source": [
        "A.adjugate()"
      ],
      "execution_count": null,
      "outputs": [
        {
          "data": {
            "text/latex": "$\\displaystyle \\left[\\begin{matrix}0 & 0 & 0\\\\0 & 0 & 0\\\\0 & 0 & 0\\end{matrix}\\right]$",
            "text/plain": [
              "⎡0  0  0⎤\n",
              "⎢       ⎥\n",
              "⎢0  0  0⎥\n",
              "⎢       ⎥\n",
              "⎣0  0  0⎦"
            ]
          },
          "execution_count": 10,
          "metadata": {
            "tags": []
          },
          "output_type": "execute_result"
        }
      ]
    },
    {
      "cell_type": "code",
      "metadata": {
        "colab": {
          "base_uri": "https://localhost:8080/"
        },
        "id": "_ONemCTFo1O5",
        "outputId": "f60bf448-347f-4d81-d32f-0844af0d84e2"
      },
      "source": [
        "A.adjugate() == zeros(3)"
      ],
      "execution_count": null,
      "outputs": [
        {
          "data": {
            "text/plain": [
              "True"
            ]
          },
          "execution_count": 12,
          "metadata": {
            "tags": []
          },
          "output_type": "execute_result"
        }
      ]
    },
    {
      "cell_type": "markdown",
      "metadata": {
        "id": "Q8uf773M3Cpk"
      },
      "source": [
        "### **Adjunta de la matriz identidad** \n",
        "$$adj(I)=I$$"
      ]
    },
    {
      "cell_type": "code",
      "metadata": {
        "id": "JDLKwws0qeHT"
      },
      "source": [
        ""
      ],
      "execution_count": null,
      "outputs": []
    },
    {
      "cell_type": "markdown",
      "metadata": {
        "id": "6yayI3ghqevY"
      },
      "source": [
        "### **Adjunta  de $kA$** \n",
        "$$adj(kA) =k^{n-1}adj(A)$$"
      ]
    },
    {
      "cell_type": "code",
      "metadata": {
        "id": "UUxRivwVqmq-"
      },
      "source": [
        ""
      ],
      "execution_count": null,
      "outputs": []
    },
    {
      "cell_type": "markdown",
      "metadata": {
        "id": "5Zb929p4qnQH"
      },
      "source": [
        "### **Adjunta de $A^T$** \n",
        "$$adj(A^T)=\\left[adj(A)\\right]^T$$"
      ]
    },
    {
      "cell_type": "code",
      "metadata": {
        "id": "c651G7sVsKjw"
      },
      "source": [
        ""
      ],
      "execution_count": null,
      "outputs": []
    },
    {
      "cell_type": "markdown",
      "metadata": {
        "id": "UsEpn1xtrhHm"
      },
      "source": [
        "### **Adjunta de $AB$** \n",
        "$$adj(AB)=adj(B) \\ adj(A)$$"
      ]
    },
    {
      "cell_type": "code",
      "metadata": {
        "id": "iJ0ST9NCrh9-"
      },
      "source": [
        ""
      ],
      "execution_count": null,
      "outputs": []
    },
    {
      "cell_type": "markdown",
      "metadata": {
        "id": "U66dbWrsriiA"
      },
      "source": [
        "### **Adjunta de $A^n$** \n",
        " $$adj(A^n)=\\left[adj(A)\\right]^n $$"
      ]
    },
    {
      "cell_type": "code",
      "metadata": {
        "id": "fPr1GEfSsIvQ"
      },
      "source": [
        ""
      ],
      "execution_count": null,
      "outputs": []
    },
    {
      "cell_type": "markdown",
      "metadata": {
        "id": "jI7gIl06sNr9"
      },
      "source": [
        "### **Adjunta de $A^{-1}$** \n",
        " $$adj(A^{-1})=\\left[adj(A)\\right]^{-1} $$"
      ]
    },
    {
      "cell_type": "code",
      "metadata": {
        "colab": {
          "base_uri": "https://localhost:8080/",
          "height": 78
        },
        "id": "RPsa4Tl93BgZ",
        "outputId": "04912a67-7561-4304-9881-2c536b30ea86"
      },
      "source": [
        "A = randMatrix(3,min=-5, max=5)\n",
        "A"
      ],
      "execution_count": null,
      "outputs": [
        {
          "data": {
            "text/latex": "$\\displaystyle \\left[\\begin{matrix}2 & 4 & 4\\\\4 & -5 & -5\\\\4 & -2 & 5\\end{matrix}\\right]$",
            "text/plain": [
              "⎡2  4   4 ⎤\n",
              "⎢         ⎥\n",
              "⎢4  -5  -5⎥\n",
              "⎢         ⎥\n",
              "⎣4  -2  5 ⎦"
            ]
          },
          "execution_count": 13,
          "metadata": {
            "tags": []
          },
          "output_type": "execute_result"
        }
      ]
    },
    {
      "cell_type": "code",
      "metadata": {
        "colab": {
          "base_uri": "https://localhost:8080/",
          "height": 78
        },
        "id": "P8Ts3FyI3uPC",
        "outputId": "b0314467-68bb-467e-f47a-b6318b4f3019"
      },
      "source": [
        "(A**(-1)).adjugate()"
      ],
      "execution_count": null,
      "outputs": [
        {
          "data": {
            "text/latex": "$\\displaystyle \\left[\\begin{matrix}- \\frac{1}{91} & - \\frac{2}{91} & - \\frac{2}{91}\\\\- \\frac{2}{91} & \\frac{5}{182} & \\frac{5}{182}\\\\- \\frac{2}{91} & \\frac{1}{91} & - \\frac{5}{182}\\end{matrix}\\right]$",
            "text/plain": [
              "⎡-1/91  -2/91  -2/91 ⎤\n",
              "⎢                    ⎥\n",
              "⎢-2/91  5/182  5/182 ⎥\n",
              "⎢                    ⎥\n",
              "⎣-2/91  1/91   -5/182⎦"
            ]
          },
          "execution_count": 14,
          "metadata": {
            "tags": []
          },
          "output_type": "execute_result"
        }
      ]
    },
    {
      "cell_type": "code",
      "metadata": {
        "colab": {
          "base_uri": "https://localhost:8080/",
          "height": 78
        },
        "id": "SAhdCpC64Cue",
        "outputId": "fa8cc2d0-8754-4b18-c0a9-12af0c7af8ff"
      },
      "source": [
        "(A.adjugate())**(-1)"
      ],
      "execution_count": null,
      "outputs": [
        {
          "data": {
            "text/latex": "$\\displaystyle \\left[\\begin{matrix}- \\frac{1}{91} & - \\frac{2}{91} & - \\frac{2}{91}\\\\- \\frac{2}{91} & \\frac{5}{182} & \\frac{5}{182}\\\\- \\frac{2}{91} & \\frac{1}{91} & - \\frac{5}{182}\\end{matrix}\\right]$",
            "text/plain": [
              "⎡-1/91  -2/91  -2/91 ⎤\n",
              "⎢                    ⎥\n",
              "⎢-2/91  5/182  5/182 ⎥\n",
              "⎢                    ⎥\n",
              "⎣-2/91  1/91   -5/182⎦"
            ]
          },
          "execution_count": 15,
          "metadata": {
            "tags": []
          },
          "output_type": "execute_result"
        }
      ]
    },
    {
      "cell_type": "code",
      "metadata": {
        "colab": {
          "base_uri": "https://localhost:8080/"
        },
        "id": "6jB4Gi8LpO1B",
        "outputId": "3df545fc-16bc-49f3-c9a0-0a343626e1f2"
      },
      "source": [
        "(A**(-1)).adjugate() == (A.adjugate())**(-1)"
      ],
      "execution_count": null,
      "outputs": [
        {
          "data": {
            "text/plain": [
              "True"
            ]
          },
          "execution_count": 16,
          "metadata": {
            "tags": []
          },
          "output_type": "execute_result"
        }
      ]
    },
    {
      "cell_type": "markdown",
      "metadata": {
        "id": "GY1I1Kphsgcf"
      },
      "source": [
        "#**MATRIZ INVERSA USANDO DETERMINANTES**\n",
        "\n",
        "Sea ${\\displaystyle A\\in {\\mathcal {M}}_{n\\times n}(\\mathbb {R} )}$, una matriz invertible, se cumple:\n",
        "\n",
        "$$A^{-1} = \\dfrac{1}{|A|} \\ adj(A)$$"
      ]
    },
    {
      "cell_type": "markdown",
      "metadata": {
        "id": "1W95Jw9id6GY"
      },
      "source": [
        "## **Ejemplo: matriz inversa** --> *usando determinantes*\n",
        "\n",
        "Encuentra la matriz $A^{-1}$ si es posible de la matriz:\n",
        "\n",
        "\n",
        "$$A=\\begin{bmatrix}\n",
        "5 & -3 & 6  \\\\\n",
        "5 & 9 & 12 \\\\\n",
        "9 & 3 & 5\\\\\n",
        "\\end{bmatrix}$$"
      ]
    },
    {
      "cell_type": "code",
      "metadata": {
        "colab": {
          "base_uri": "https://localhost:8080/",
          "height": 78
        },
        "id": "mjxvIK5wsnC8",
        "outputId": "cebb0094-b52e-4f70-af8e-3fa51b4c4542"
      },
      "source": [
        "A = Matrix([[5,-3,6],[5,9,12],[9,3,5]])\n",
        "inv_A = (1/det(A))*A.adjugate()\n",
        "inv_A"
      ],
      "execution_count": null,
      "outputs": [
        {
          "data": {
            "text/latex": "$\\displaystyle \\left[\\begin{matrix}- \\frac{3}{200} & - \\frac{11}{200} & \\frac{3}{20}\\\\- \\frac{83}{600} & \\frac{29}{600} & \\frac{1}{20}\\\\\\frac{11}{100} & \\frac{7}{100} & - \\frac{1}{10}\\end{matrix}\\right]$",
            "text/plain": [
              "⎡        -11         ⎤\n",
              "⎢-3/200  ────   3/20 ⎥\n",
              "⎢        200         ⎥\n",
              "⎢                    ⎥\n",
              "⎢ -83      29        ⎥\n",
              "⎢ ────    ───   1/20 ⎥\n",
              "⎢ 600     600        ⎥\n",
              "⎢                    ⎥\n",
              "⎢  11                ⎥\n",
              "⎢ ───    7/100  -1/10⎥\n",
              "⎣ 100                ⎦"
            ]
          },
          "execution_count": 2,
          "metadata": {
            "tags": []
          },
          "output_type": "execute_result"
        }
      ]
    },
    {
      "cell_type": "markdown",
      "metadata": {
        "id": "Kwz-5QwIsj6F"
      },
      "source": [
        "## **verificación**"
      ]
    },
    {
      "cell_type": "code",
      "metadata": {
        "colab": {
          "base_uri": "https://localhost:8080/",
          "height": 78
        },
        "id": "igimf4U7rXVj",
        "outputId": "2a89616d-150b-4b03-edfa-a12d31b7b67d"
      },
      "source": [
        "A = Matrix([[5,-3,6],[5,9,12],[9,3,5]])\n",
        "A**(-1)"
      ],
      "execution_count": null,
      "outputs": [
        {
          "data": {
            "text/latex": "$\\displaystyle \\left[\\begin{matrix}- \\frac{3}{200} & - \\frac{11}{200} & \\frac{3}{20}\\\\- \\frac{83}{600} & \\frac{29}{600} & \\frac{1}{20}\\\\\\frac{11}{100} & \\frac{7}{100} & - \\frac{1}{10}\\end{matrix}\\right]$",
            "text/plain": [
              "⎡        -11         ⎤\n",
              "⎢-3/200  ────   3/20 ⎥\n",
              "⎢        200         ⎥\n",
              "⎢                    ⎥\n",
              "⎢ -83      29        ⎥\n",
              "⎢ ────    ───   1/20 ⎥\n",
              "⎢ 600     600        ⎥\n",
              "⎢                    ⎥\n",
              "⎢  11                ⎥\n",
              "⎢ ───    7/100  -1/10⎥\n",
              "⎣ 100                ⎦"
            ]
          },
          "execution_count": 3,
          "metadata": {
            "tags": []
          },
          "output_type": "execute_result"
        }
      ]
    },
    {
      "cell_type": "code",
      "metadata": {
        "colab": {
          "base_uri": "https://localhost:8080/"
        },
        "id": "EbQq9ndfukzm",
        "outputId": "3c2ec284-73a3-40fe-d7c7-083eb5fcf2cd"
      },
      "source": [
        "(1/det(A))*A.adjugate() == A**(-1)"
      ],
      "execution_count": null,
      "outputs": [
        {
          "data": {
            "text/plain": [
              "True"
            ]
          },
          "execution_count": 4,
          "metadata": {
            "tags": []
          },
          "output_type": "execute_result"
        }
      ]
    },
    {
      "cell_type": "markdown",
      "metadata": {
        "id": "a80zQv0bWnEE"
      },
      "source": [
        "#**REGLA DE CRAMER PARA RESOLVER SISTEMAS DE ECUACIONES**\n",
        "\n",
        "Sea un sistema de $n$ ecuaciones lineales con $n$ incógnitas dado por:\n",
        "\n",
        "$$\\left\\{\n",
        "\\begin{array}{rcl}\n",
        "     a_{11}x_{1}+a_{12}x_{2}+\\cdots + a_{1n}x_{n} & = & c_{1}\\\\\n",
        "     a_{21}x_{1}+a_{22}x_{2}+\\cdots + a_{2n}x_{n} & = & c_{2}\\\\\n",
        "     \\hspace{0.5cm} \\vdots\\hspace{0.5cm}+\\hspace{0.6cm}\\vdots\\hspace{0.6cm}+ \\hspace{1.5cm}+ \\hspace{0.6cm}\\vdots \\hspace{0.6cm} & = & \\hspace{0.3cm} \\vdots\\\\\n",
        "a_{n1}x_{1}+a_{n2}x_{2}+\\cdots + a_{nn}x_{n} & = & c_{n}\n",
        "\\end{array}\n",
        "\\right.$$\n",
        "\n",
        "\n",
        "\n",
        "El sistema se puede expresar de forma matricial como $AX=B$, donde $A$ es la matriz de coeficientes, $X$ es la matriz de variables y $B$ una matriz columna de constantes.\n",
        "\n",
        "Si el determinante de la matriz de coeficientes $A$, notado como $\\Delta$ es diferente de cero, entonces el sistema tiene una única solución. Esta solución está dada por:\n",
        "\n",
        "$$x_1 = \\dfrac{\\Delta_1}{\\Delta}, x_2 = \\dfrac{\\Delta_2}{\\Delta}, \\cdots, x_{n-1} = \\dfrac{\\Delta_{n-1}}{\\Delta},x_{n} = \\dfrac{\\Delta_{n}}{\\Delta}  $$\n",
        "\n",
        "donde  $\\Delta_{i}$ el numerador de $x_{i}$ , es el determinante de la matriz obtenida al\n",
        "reemplazar la **i-ésima** columna de $A$ por la matriz columna $B$."
      ]
    },
    {
      "cell_type": "markdown",
      "metadata": {
        "id": "3gN7grGSlKOy"
      },
      "source": [
        "## **Ejemplo: resolución de sistemas de ecuaciones usando regla de cramer** \n",
        "\n",
        "Resuelva el  siguiente sistema utilizando la matriz inversa\n",
        "\n",
        "$$\\left\\{\n",
        "\\begin{array}{rcl}\n",
        "     2x+ 4y+6z  & = & 18\n",
        "  \\\\ 4x+ 5y+6z & = & 24\n",
        "  \\\\ 3x+y-2z & = & 4\n",
        "\\end{array}\n",
        "\\right.$$\n",
        "\n",
        "que se puede reescribir  como $AX = B$  donde :\n",
        "\n",
        "$$A=\\begin{bmatrix}\n",
        "2  & 4 & 6\\\\\n",
        "4  & 5 & 6\\\\\n",
        "3  & 1 & -2\\\\\n",
        "\\end{bmatrix}\n",
        "\\hspace{1cm}\n",
        "B=\\begin{bmatrix}\n",
        "18  \\\\\n",
        "24  \\\\\n",
        "4 \\\\\n",
        "\\end{bmatrix}\n",
        "\\hspace{1cm}\n",
        "X=\\begin{bmatrix}\n",
        "x  \\\\\n",
        "y  \\\\\n",
        "z \\\\\n",
        "\\end{bmatrix}$$"
      ]
    },
    {
      "cell_type": "code",
      "metadata": {
        "colab": {
          "base_uri": "https://localhost:8080/",
          "height": 36
        },
        "id": "l7BsMxajWje5",
        "outputId": "4a24a2f8-612d-4d6a-f87c-60fec9d6bdc1"
      },
      "source": [
        "A = Matrix([[2,4,6],[4,5,6],[3,1,-2]])\n",
        "B = Matrix([18,24,4])\n",
        "\n",
        "# construimos una función para sustituir una columna por otra en una matriz \n",
        "\n",
        "def subs_col(M,C,p):\n",
        "    '''Función que remplaza la columna de una matriz (argumento M) por una matriz columna (argumento C)\n",
        "    en una posición (argumento p )'''\n",
        "    mat = M[:,:]\n",
        "    mat.col_del(p)\n",
        "    mat = mat.col_insert(p,C)\n",
        "    return mat\n",
        "\n",
        "delta = det(A)\n",
        "\n",
        "delta_1 = det(subs_col(A,B,0))\n",
        "delta_2 = det(subs_col(A,B,1))\n",
        "delta_3 = det(subs_col(A,B,2))\n",
        "\n",
        "x = delta_1 /delta\n",
        "y = delta_2 /delta\n",
        "z = delta_3 /delta\n",
        "\n",
        "x,y,z"
      ],
      "execution_count": null,
      "outputs": [
        {
          "data": {
            "image/png": "[encoded data removed]",
            "text/latex": "$\\displaystyle \\left( 4, \\  -2, \\  3\\right)$",
            "text/plain": [
              "(4, -2, 3)"
            ]
          },
          "execution_count": 18,
          "metadata": {
            "tags": []
          },
          "output_type": "execute_result"
        }
      ]
    },
    {
      "cell_type": "markdown",
      "metadata": {
        "id": "5wVFPs217CkP"
      },
      "source": [
        "## **verificación** *usando la función solve*"
      ]
    },
    {
      "cell_type": "code",
      "metadata": {
        "colab": {
          "base_uri": "https://localhost:8080/",
          "height": 38
        },
        "id": "QBoDnmmw7Ckc",
        "outputId": "8739af1d-7f84-4a3c-9e53-0735d8330052"
      },
      "source": [
        "x,y,z = symbols(\"x y z\")\n",
        "\n",
        "Eq1 = Eq(2*x + 4*y + 6*z,18)\n",
        "Eq2 = Eq(4*x + 5*y +6*z,24)\n",
        "Eq3 = Eq( 3*x + y - 2*z,4)\n",
        "solve([Eq1,Eq2,Eq3], [x, y, z])"
      ],
      "execution_count": null,
      "outputs": [
        {
          "data": {
            "image/png": "[encoded data removed]",
            "text/latex": "$\\displaystyle \\left\\{ x : 4, \\  y : -2, \\  z : 3\\right\\}$",
            "text/plain": [
              "{x: 4, y: -2, z: 3}"
            ]
          },
          "execution_count": 20,
          "metadata": {
            "tags": []
          },
          "output_type": "execute_result"
        }
      ]
    },
    {
      "cell_type": "markdown",
      "metadata": {
        "id": "HNEN60a49xRn"
      },
      "source": [
        "<p><height=\"45px\" src=\"<a href=\"https://ibb.co/pZYMC0T\"><img src=\"https://i.ibb.co/ZL1WsdZ/poll.png\" align=\"left\" alt=\"\" width=\"4%\" height=\"5%\"></a><p> <H1><strong>&nbsp;Actividad de práctica</strong>\n",
        "\n",
        "Escribe un código para hallar la solución del siguiente sistema de ecuaciones de tamaño 5 x 5, usando la Regla de Cramer, verifica tu resultado usando la función solve( ).\n",
        "\n",
        "$$\\left\\{\n",
        "\\begin{array}{rcccl}\n",
        "2x_1-x_2+4x_3+x_4-x_5  & = & 7\n",
        "\\\\ -x_1+3x_2-2x_3-x_4+2x_5  & = & 1\n",
        "\\\\ 5x_1+x_2+3x_3-4x_4+x_5  & = & 33\n",
        "\\\\ 3x_1-2x_2-2x_3-2x_4+3x_5  & = & 24\n",
        "\\\\ -4x_1-x_2-5x_3+3x_4-4x_5  & = & -49\n",
        "\\end{array}\n",
        "\\right.$$"
      ]
    },
    {
      "cell_type": "code",
      "metadata": {
        "id": "8UxfYPUHSy5a"
      },
      "source": [
        ""
      ],
      "execution_count": null,
      "outputs": []
    },
    {
      "cell_type": "markdown",
      "metadata": {
        "id": "tREdOWROiEUB"
      },
      "source": [
        "#**APLICACIONES DE LOS DETERMINANTES**\n",
        "\n",
        "#**Area del triángulo**\n",
        "\n",
        "El área de un triángulo cuyos vértices en el plano son: $A=(x_1,y_1)$, $B=(x_2,y_2)$ y $C = (x_3,y_3)$ está dada por:</p>.\n",
        "\n",
        "$$\\textrm{Area}=\\pm\\dfrac{1}{2}\\left|\n",
        "         \\begin{array}{ccc}\n",
        "           x_1 & y_1 & 1 \\\\\n",
        "           x_2 & y_2 & 1 \\\\\n",
        "           x_3 & y_3 & 1 \\\\\n",
        "         \\end{array}\n",
        "       \\right|\n",
        "$$\n",
        "\n",
        "</p>.\n",
        "\n",
        "<center><img src=\"https://github.com/josorio398/ALGEBRA-LINEAL-CON-PYTHON/blob/master/im%C3%A1genes%20repositorio/triangulo1.png?raw=true\"  height=\"300\" /> </p>.\n",
        "\n",
        "\n",
        "\n",
        "\n",
        "\n"
      ]
    },
    {
      "cell_type": "markdown",
      "metadata": {
        "id": "4FRCkoHT9Zuw"
      },
      "source": [
        "##**Ejercicio de practica :** \n",
        "Completa el código para calcular el area del triángulo cuyos vértices en el plano son: $A = (3,-1)$, $ B = (1,5)$ y $C = (2,1)$."
      ]
    },
    {
      "cell_type": "code",
      "metadata": {
        "id": "wrBoeXgXnD-y"
      },
      "source": [
        "A = (3,-1)\n",
        "B = (1,5)\n",
        "C = (2,1)\n",
        "\n",
        "M = Matrix([[A[0],A[1],1],[B[0],B[1],1],[C[0],C[1],1]])\n",
        "\n",
        "\n",
        "\n"
      ],
      "execution_count": null,
      "outputs": []
    },
    {
      "cell_type": "markdown",
      "metadata": {
        "id": "Xm8BcFyam685"
      },
      "source": [
        "# **Volumen de un tetraedro**\n",
        "\n",
        "El Volumen de un tetraedro cuyos vértices son $A = (x_1,y_1,z_1)$, $B =(x_2,y_2,z_2)$, $C = (x_3,y_3,z_3)$ y $D =(x_4,y_4,z_4)$ está dado por: </p>.\n",
        "\n",
        "\n",
        "\n",
        "$$\\textrm{Volumen}=\\pm\\dfrac{1}{6}\\left|\n",
        "         \\begin{array}{cccc}\n",
        "           x_1 & y_1 & z_1 & 1\\\\\n",
        "           x_2 & y_2 & z_2 & 1\\\\\n",
        "           x_3 & y_3 & z_3 & 1\\\\\n",
        "           x_4 & y_4 & z_4 & 1\\\\\n",
        "         \\end{array}\n",
        "       \\right|\n",
        "$$\n",
        "\n",
        "</p>.\n",
        "\n",
        "<center><img src=\"https://github.com/josorio398/ALGEBRA-LINEAL-CON-PYTHON/blob/master/im%C3%A1genes%20repositorio/tetraedro.PNG?raw=true\"  height=\"300\" /> </p>.\n",
        "\n",
        "\n",
        "\n",
        "\n"
      ]
    },
    {
      "cell_type": "markdown",
      "metadata": {
        "id": "6OZvK6eU-p_f"
      },
      "source": [
        "##**Ejercicio de practica:**\n",
        "\n",
        "Escribe un código para calcular el volumen de un tetraedro cuyos vértices en el espacio son: $A =(3,-1,2)$, $B = (1,-4,4)$, $C = (2,-1,1)$ y $D =(5,1,-6)$."
      ]
    },
    {
      "cell_type": "code",
      "metadata": {
        "id": "EdjxHha6-o16"
      },
      "source": [
        ""
      ],
      "execution_count": null,
      "outputs": []
    },
    {
      "cell_type": "markdown",
      "metadata": {
        "id": "NbLHs4R3nFCu"
      },
      "source": [
        "#**Ecuación de la recta que pasa por dos puntos**\n",
        "La ecuación de la recta que pasa por los puntos $(x_1,y_1)$ y $(x_2,y_2)$ está dada por: </p>.\n",
        "\n",
        "\n",
        "\n",
        "$$\\left|\n",
        "         \\begin{array}{ccc}\n",
        "           x & y & 1 \\\\\n",
        "           x_1 & y_1 & 1 \\\\\n",
        "           x_2 & y_2 & 1 \\\\\n",
        "         \\end{array}\n",
        "       \\right|=0\n",
        "$$\n",
        "\n",
        "</p>.\n",
        "\n",
        "<center><img src=\"https://github.com/josorio398/ALGEBRA-LINEAL-CON-PYTHON/blob/master/im%C3%A1genes%20repositorio/recta.png?raw=true\"  height=\"300\" /> </p>.\n",
        "\n"
      ]
    },
    {
      "cell_type": "markdown",
      "metadata": {
        "id": "Fal_dKFTEiI5"
      },
      "source": [
        "##**Ejercicio de practica:**\n",
        "\n",
        "Completa el código para  encontrar la ecuación de la recta que pasa por los puntos $A = (3,5)$ y $B = (-2,4)$"
      ]
    },
    {
      "cell_type": "code",
      "metadata": {
        "id": "OdjlFlYEm5s0"
      },
      "source": [
        "x,y = symbols(\"x y\")\n",
        "\n",
        "A =  ( 3, 5)\n",
        "B =  (-2, 4)\n"
      ],
      "execution_count": null,
      "outputs": []
    },
    {
      "cell_type": "markdown",
      "metadata": {
        "id": "EJRXPpIDQVKY"
      },
      "source": [
        "#**Programa para resolver un problema de cadenas de Markov**"
      ]
    },
    {
      "cell_type": "code",
      "metadata": {
        "colab": {
          "base_uri": "https://localhost:8080/",
          "height": 522
        },
        "id": "Aowi6y6h-I-n",
        "outputId": "28a14549-6284-4b05-ce59-32e6f84b827c"
      },
      "source": [
        "from sympy import *\n",
        "\n",
        "m = int(input (\"Ingrese el número de estados de la cadena \"))\n",
        "\n",
        "print(\"\\n\")\n",
        "print(\"Ingrese las entradas de la matriz de probabilidad P \\n\")\n",
        "\n",
        "LM = []\n",
        "for j in range(m):\n",
        "    Fila = []\n",
        "    for i in range(m):\n",
        "        F= float(input(\"Ingrese probabilidad p_\" + str(j+1) + str(i+1) + \" \" ))\n",
        "        Fila.append(F)\n",
        "    LM.append(Fila)\n",
        "\n",
        "P = Matrix(LM)\n",
        "\n",
        "print(\"\\n\")\n",
        "print(\"Ingrese las entradas del vector de distribución inicial \\n\")\n",
        "\n",
        "v_0 =[]\n",
        "for k in range(m):\n",
        "    entrada= float(input(\"Ingrese la entrada v_\" + str(1) + str(k+1) + \" \" ))\n",
        "    v_0.append(entrada)\n",
        "\n",
        "V = Matrix(1,m,v_0)\n",
        "\n",
        "print(\"\\n\")\n",
        "n = int(input (\"Ingrese el número de pasos que desea calcular \"))\n",
        "\n",
        "\n",
        "print(\"\\n\")\n",
        "print(\"El vector de distribución despues de \"+ str(n) + \" pasos es: \\n\")\n",
        "\n",
        "V_f = V * P**n \n",
        "V_f"
      ],
      "execution_count": null,
      "outputs": [
        {
          "name": "stdout",
          "output_type": "stream",
          "text": [
            "Ingrese el número de estados de la cadena 3\n",
            "\n",
            "\n",
            "Ingrese las entradas de la matriz de probabilidad P \n",
            "\n",
            "Ingrese probabilidad p_11 0.85\n",
            "Ingrese probabilidad p_12 0.1\n",
            "Ingrese probabilidad p_13 0.05\n",
            "Ingrese probabilidad p_21 0.2\n",
            "Ingrese probabilidad p_22 0.8\n",
            "Ingrese probabilidad p_23 0.1\n",
            "Ingrese probabilidad p_31 0.3\n",
            "Ingrese probabilidad p_32 0.4\n",
            "Ingrese probabilidad p_33 0.5\n",
            "\n",
            "\n",
            "Ingrese las entradas del vector de distribución inicial \n",
            "\n",
            "Ingrese la entrada v_11 10000\n",
            "Ingrese la entrada v_12 10000\n",
            "Ingrese la entrada v_13 10000\n",
            "\n",
            "\n",
            "Ingrese el número de pasos que desea calcular 2\n",
            "\n",
            "\n",
            "El vector de distribución despues de 2 pasos es: \n",
            "\n"
          ]
        },
        {
          "data": {
            "text/latex": "$\\displaystyle \\left[\\begin{matrix}16025.0 & 14350.0 & 5225.0\\end{matrix}\\right]$",
            "text/plain": [
              "Matrix([[16025.0, 14350.0, 5225.0]])"
            ]
          },
          "execution_count": 1,
          "metadata": {
            "tags": []
          },
          "output_type": "execute_result"
        }
      ]
    }
  ]
}