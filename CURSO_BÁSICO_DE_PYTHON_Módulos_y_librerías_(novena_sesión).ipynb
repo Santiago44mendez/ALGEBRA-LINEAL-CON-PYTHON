{
  "nbformat": 4,
  "nbformat_minor": 0,
  "metadata": {
    "colab": {
      "name": "CURSO BÁSICO DE PYTHON:  Módulos y librerías (novena sesión)",
      "provenance": [],
      "collapsed_sections": [],
      "include_colab_link": true
    },
    "kernelspec": {
      "name": "python3",
      "display_name": "Python 3"
    }
  },
  "cells": [
    {
      "cell_type": "markdown",
      "metadata": {
        "id": "view-in-github",
        "colab_type": "text"
      },
      "source": [
        "<a href=\"https://colab.research.google.com/github/josorio398/ALGEBRA-LINEAL-CON-PYTHON/blob/master/CURSO_B%C3%81SICO_DE_PYTHON_M%C3%B3dulos_y_librer%C3%ADas_(novena_sesi%C3%B3n).ipynb\" target=\"_parent\"><img src=\"https://colab.research.google.com/assets/colab-badge.svg\" alt=\"Open In Colab\"/></a>"
      ]
    },
    {
      "cell_type": "markdown",
      "metadata": {
        "id": "Wu9BDBPMTguh"
      },
      "source": [
        "<p><img alt=\"logo.fua\" height=\"100px\" src=\"https://github.com/josorio398/ALGEBRA-LINEAL-CON-PYTHON/blob/master/im%C3%A1genes%20repositorio/Logo%20UAm%C3%A9rica%20nuevo%202021.ai_page-0001.jpg?raw=true\" align=\"left\" hspace=\"0px\" vspace=\"0px\"></p>\n",
        "\n",
        "<p><img alt=\"logo.fua\" height=\"26px\" src=\"https://mirrors.creativecommons.org/presskit/buttons/88x31/svg/by-nd.svg\" align=\"right\" hspace=\"0px\" vspace=\"11px\"></p>\n",
        "\n",
        "# <center> <font size=\"6\">**CURSO DE INTRODUCCIÓN A PYTHON** <center>*Jhonny Osorio  &nbsp; &nbsp; &nbsp; &nbsp;<p>*</font>"
      ]
    },
    {
      "cell_type": "markdown",
      "metadata": {
        "id": "BdEOVw1emwdC"
      },
      "source": [
        "# **FUNCIONES Y MÓDULOS**\n",
        "\n",
        " **Función**: Es un fragmento de código que realiza una operación significativa se piensa como una unidad completa.\n",
        "\n",
        "**Módulo**: Es un fichero que almacena declaración de variables e implementación de funciones."
      ]
    },
    {
      "cell_type": "markdown",
      "metadata": {
        "id": "sXeJkYgO9hTW"
      },
      "source": [
        "## **DEFINICIÓN DE UNA FUNCIÓN**\n",
        "\n",
        "Además de utilizar funciones predefinidas, puede crear sus propias funciones utilizando la instrucción **def**, La sintaxis para crear una función en python con nombre es la siguiente:\n",
        "<p><strong>&nbsp; &nbsp; &nbsp; &nbsp; &nbsp; &nbsp; &nbsp; &nbsp; &nbsp; &nbsp; &nbsp; &nbsp; &nbsp; &nbsp; &nbsp; &nbsp; &nbsp; &nbsp; &nbsp; &nbsp; &nbsp; &nbsp; &nbsp; &nbsp; &nbsp; &nbsp; &nbsp; &nbsp; &nbsp; &nbsp; &nbsp; def&nbsp; </strong><em>nombre</em> (parámetros):</p>\n",
        "<p>&nbsp; &nbsp; &nbsp; &nbsp; &nbsp; &nbsp; &nbsp; &nbsp; &nbsp; &nbsp; &nbsp; &nbsp; &nbsp; &nbsp; &nbsp; &nbsp; &nbsp; &nbsp; &nbsp; &nbsp; &nbsp; &nbsp; &nbsp; &nbsp; &nbsp; &nbsp; &nbsp; &nbsp; &nbsp; &nbsp; &nbsp; &nbsp; &nbsp; &nbsp;instrucciones</p>\n",
        "\n",
        "Para usar la función definida, se usa la sintaxis:\n",
        "\n",
        "<p><strong>&nbsp; &nbsp;&nbsp; &nbsp; &nbsp; &nbsp; &nbsp; &nbsp; &nbsp; &nbsp; &nbsp; &nbsp; &nbsp; &nbsp; &nbsp; &nbsp; &nbsp; &nbsp; &nbsp; &nbsp; &nbsp; &nbsp; &nbsp; &nbsp; &nbsp; &nbsp; &nbsp; &nbsp; &nbsp; &nbsp; &nbsp; &nbsp;def (</strong>argumentos<strong>)</strong></p>"
      ]
    },
    {
      "cell_type": "markdown",
      "metadata": {
        "id": "LuZ58phitJdU"
      },
      "source": [
        "## **Funciones sin argumentos**"
      ]
    },
    {
      "cell_type": "code",
      "metadata": {
        "id": "I8MShnBetIb8"
      },
      "source": [
        "def  saludo() :\n",
        "   print (\"hola\")\n",
        "   print (\"bienvenido\")\n",
        "   print (\"al curso de python\")"
      ],
      "execution_count": null,
      "outputs": []
    },
    {
      "cell_type": "code",
      "metadata": {
        "id": "qL8NyfbytXN0"
      },
      "source": [
        "saludo()"
      ],
      "execution_count": null,
      "outputs": []
    },
    {
      "cell_type": "markdown",
      "metadata": {
        "id": "Nqs0Pl8xtmlD"
      },
      "source": [
        "Debe definir las funciones antes de que se llamen, de la misma manera que debe asignar variables antes de usarlas."
      ]
    },
    {
      "cell_type": "code",
      "metadata": {
        "id": "j3ZRITbktsYW"
      },
      "source": [
        "hola()\n",
        "\n",
        "def hola(): \n",
        "  print (\"¡Hola mundo!\")"
      ],
      "execution_count": null,
      "outputs": []
    },
    {
      "cell_type": "markdown",
      "metadata": {
        "id": "-8SReKzT_gph"
      },
      "source": [
        "## **Funciones con argumentos**\n",
        "Todas las definiciones de funciones que hemos visto hasta ahora han sido funciones de cero argumentos, que se llaman con **paréntesis vacíos**.\n",
        "Sin embargo, la mayoría de las funciones toman argumentos.\n",
        "El siguiente ejemplo define una función que toma un argumento :"
      ]
    },
    {
      "cell_type": "code",
      "metadata": {
        "id": "Q9jm0ozk_f7Z"
      },
      "source": [
        "def exclamacion(palabra): \n",
        "   print (\"¡\"+ palabra + \"!\") \n",
        "    \n",
        "exclamacion (\"python\")\n",
        "exclamacion (\"hola\")"
      ],
      "execution_count": null,
      "outputs": []
    },
    {
      "cell_type": "markdown",
      "metadata": {
        "id": "y8oiuUCDCj5M"
      },
      "source": [
        "<p><height=\"45px\" src=\"<a href=\"https://ibb.co/pZYMC0T\"><img src=\"https://i.ibb.co/Gkz8gxD/actividad.png\" align=\"left\" alt=\"\" width=\"4%\" height=\"5%\"></a><p>\n",
        "<font size=5><strong>&nbsp;Actividad de practica 1:</strong></font>\n",
        "\n",
        "Escribe un código donde definas una función llamada **\"doble\"** que reciba como argumento un número y lo duplique, puebala con algunos valores como argumentos.\n"
      ]
    },
    {
      "cell_type": "code",
      "metadata": {
        "id": "PxJr70t7Cj5q"
      },
      "source": [
        "def doble(x):\n",
        "  print(2*x)\n",
        "\n",
        "doble (3.5)"
      ],
      "execution_count": null,
      "outputs": []
    },
    {
      "cell_type": "markdown",
      "metadata": {
        "id": "BhrwD2kXA5oT"
      },
      "source": [
        "<p><height=\"45px\" src=\"<a href=\"https://ibb.co/pZYMC0T\"><img src=\"https://i.ibb.co/Gkz8gxD/actividad.png\" align=\"left\" alt=\"\" width=\"4%\" height=\"5%\"></a><p>\n",
        "<font size=5><strong>&nbsp;Actividad de practica 2:</strong></font>\n",
        "\n",
        "Define una función llamada **\"par\"** que imprima \"Sí\", si su parámetro es un número par, y \"No\" en caso contrario."
      ]
    },
    {
      "cell_type": "code",
      "metadata": {
        "id": "JHrVtOaiA5oX"
      },
      "source": [
        "def par(x):\n",
        "  if x % 2 == 0:\n",
        "    print(\"Si\")\n",
        "  else:\n",
        "    print(\"No\")\n",
        "\n",
        "par(2)"
      ],
      "execution_count": null,
      "outputs": []
    },
    {
      "cell_type": "markdown",
      "metadata": {
        "id": "Ru2U9_D9BpXy"
      },
      "source": [
        "## **Funciones con mas de un argumento**\n",
        "También puede definir funciones con más de un argumento ; separarlos con comas."
      ]
    },
    {
      "cell_type": "code",
      "metadata": {
        "id": "f3ULR7CLFAEC"
      },
      "source": [
        "def suma (x, y): \n",
        "  print (x + y) \n",
        "   \n",
        "suma(2,5)"
      ],
      "execution_count": null,
      "outputs": []
    },
    {
      "cell_type": "markdown",
      "metadata": {
        "id": "OIVjSHjOKk8H"
      },
      "source": [
        "Los argumentos de la función se pueden usar como variables dentro de la definición de la función . Sin embargo, no pueden ser referenciados fuera de la definición de la función . Esto también se aplica a otras variables creadas dentro de una función ."
      ]
    },
    {
      "cell_type": "code",
      "metadata": {
        "id": "PPc4e-8aKjz-"
      },
      "source": [
        "def funcion(variable):\n",
        "   variable += 1\n",
        "   print(variable)\n",
        "\n",
        "funcion(7)\n",
        "print(variable)"
      ],
      "execution_count": null,
      "outputs": []
    },
    {
      "cell_type": "markdown",
      "metadata": {
        "id": "9aJ6T4Z-Ek7r"
      },
      "source": [
        "Técnicamente, los **parámetros** son las variables en la definición de una función, y los **argumentos** son los valores puestos en los parámetros cuando se llaman las funciones."
      ]
    },
    {
      "cell_type": "markdown",
      "metadata": {
        "id": "U9r3GrKxDa0e"
      },
      "source": [
        "<p><height=\"45px\" src=\"<a href=\"https://ibb.co/pZYMC0T\"><img src=\"https://i.ibb.co/Gkz8gxD/actividad.png\" align=\"left\" alt=\"\" width=\"4%\" height=\"5%\"></a><p>\n",
        "<font size=5><strong>&nbsp;Actividad de practica 3:</strong></font>\n",
        "\n",
        "Crea un programa donde el usuario ingrese la medida de la base y la altura de un rectangulo y una función llamada **\"area\"**, le calcule el area.\n",
        "\n",
        "$$A = b \\cdot h$$"
      ]
    },
    {
      "cell_type": "code",
      "metadata": {
        "id": "ZYC_Ev7fEqtu"
      },
      "source": [
        ""
      ],
      "execution_count": null,
      "outputs": []
    },
    {
      "cell_type": "markdown",
      "metadata": {
        "id": "lv8wWL-vPtVh"
      },
      "source": [
        "## **Funciones con retorno**\n",
        "\n",
        "Ciertas funciones, como **int()** o **str()**, devuelven un valor que puede ser utilizado más tarde.Para hacerlo para las funciones definidas, se utiliza la declaración de **return**."
      ]
    },
    {
      "cell_type": "code",
      "metadata": {
        "id": "GFQWl5VFPsWZ"
      },
      "source": [
        "def max(x, y):\n",
        "    if x >= y:\n",
        "        return x\n",
        "    else:\n",
        "        return y\n",
        "\n",
        "print(max(4, 5))\n",
        "\n",
        "z = max(8, 5)\n",
        "print(z)"
      ],
      "execution_count": null,
      "outputs": []
    },
    {
      "cell_type": "markdown",
      "metadata": {
        "id": "q1_nG89MJxzO"
      },
      "source": [
        "La declaración de retorno no puede utilizarse fuera de la definición de una función."
      ]
    },
    {
      "cell_type": "markdown",
      "metadata": {
        "id": "Cl9PHHuTKNvx"
      },
      "source": [
        "<p><height=\"45px\" src=\"<a href=\"https://ibb.co/pZYMC0T\"><img src=\"https://i.ibb.co/Gkz8gxD/actividad.png\" align=\"left\" alt=\"\" width=\"4%\" height=\"5%\"></a><p>\n",
        "<font size=5><strong>&nbsp;Actividad de practica 4:</strong></font>\n",
        "\n",
        "Defina una función que compare las longitudes de dos cadenas  y devuelva la más corta\n"
      ]
    },
    {
      "cell_type": "code",
      "metadata": {
        "id": "6XCs6zh7KNvz"
      },
      "source": [
        "a = \"hola\"\n",
        "b = \"mundo\"\n",
        "\n",
        "def cadena_corta(x,y):\n",
        "  if len(x) <= len(y):\n",
        "    return x\n",
        "  else:\n",
        "    return y\n",
        "\n",
        "cadena_corta (a,b)"
      ],
      "execution_count": null,
      "outputs": []
    },
    {
      "cell_type": "markdown",
      "metadata": {
        "id": "6rzG_-PwRJMk"
      },
      "source": [
        "Una vez que devuelve un valor de una función , deja de ejecutarse inmediatamente. Cualquier código después de la declaración de **return** dentro de la función, no se ejecutará."
      ]
    },
    {
      "cell_type": "code",
      "metadata": {
        "id": "GlkbuXrnRhyS"
      },
      "source": [
        "def suma_numeros(x, y):\n",
        "  total = x + y\n",
        "  return total\n",
        "  print(\"Esto nunca se va a imprimir\")\n",
        "\n",
        "print(suma_numeros(4, 5))"
      ],
      "execution_count": null,
      "outputs": []
    },
    {
      "cell_type": "markdown",
      "metadata": {
        "id": "nal9OpX1_UZA"
      },
      "source": [
        "<p><height=\"45px\" src=\"<a href=\"https://ibb.co/pZYMC0T\"><img src=\"https://i.ibb.co/ZL1WsdZ/poll.png\" align=\"left\" alt=\"\" width=\"4%\" height=\"5%\"></a><p> <H3><strong>&nbsp;Ejercicio 1:</strong>¿Cuál es el número más grande que imprime esta función si se llama? "
      ]
    },
    {
      "cell_type": "code",
      "metadata": {
        "id": "QEHPZpmd_UZD"
      },
      "source": [
        "def imprime():\n",
        "  print(1)\n",
        "  print(2)\n",
        "  return\n",
        "  print(4)\n",
        "  print(6)\n",
        "\n",
        "imprime()"
      ],
      "execution_count": null,
      "outputs": []
    },
    {
      "cell_type": "markdown",
      "metadata": {
        "id": "DL1qKaPuUrom"
      },
      "source": [
        "## **Comentarios en las funciones**\n",
        "Los comentarios son anotaciones al código que se utilizan para facilitar su comprensión. No afectan cómo se ejecuta el código. En Python, se crea un comentario insertando un **octothorpe** (también conocido como signo de númeral o símbolo hash: #). Todo el texto que sigue en esa línea se ignora.\n"
      ]
    },
    {
      "cell_type": "markdown",
      "metadata": {
        "id": "g2C09X8UwsHx"
      },
      "source": [
        "### **comentarios con hash**"
      ]
    },
    {
      "cell_type": "code",
      "metadata": {
        "id": "MjJq5ofzVV9S"
      },
      "source": [
        "x = 365 \n",
        "y = 7 \n",
        "# este es un comentario\n",
        "\n",
        "print (x % y) # encuentra el resto \n",
        "# print(x // y) \n",
        "# otro comentario"
      ],
      "execution_count": null,
      "outputs": []
    },
    {
      "cell_type": "markdown",
      "metadata": {
        "id": "OpjaYveLXB8s"
      },
      "source": [
        "### **Docstrings**\n",
        "\n",
        "Las **docstrings** (cadenas de documentación) tienen un propósito similar al de los comentarios, ya que están diseñadas para explicar el código. Sin embargo, son más específicas y tienen una sintaxis diferente. Se crean poniendo una cadena multilínea que contiene una explicación de la función debajo de la primera línea de la función."
      ]
    },
    {
      "cell_type": "code",
      "metadata": {
        "id": "1BjbzkcdXBCp"
      },
      "source": [
        "def gritar(palabra):\n",
        "  \"\"\"\n",
        "  Esta función imprime una palabra\n",
        "  con un signo de admiración al final\n",
        "  \"\"\"\n",
        "  print(palabra + \"!\")\n",
        "    \n",
        "gritar(\"hola\")"
      ],
      "execution_count": null,
      "outputs": []
    },
    {
      "cell_type": "markdown",
      "metadata": {
        "id": "UvW-vUPAabiA"
      },
      "source": [
        "A diferencia de los comentarios convencionales, las cadenas de **docstrings** se mantienen durante todo el tiempo de ejecución del programa. Esto permite al programador inspeccionar estos comentarios en tiempo de ejecución."
      ]
    },
    {
      "cell_type": "markdown",
      "metadata": {
        "id": "mEz_TLHwbb29"
      },
      "source": [
        "## **Funciones como objetos**\n",
        "\n",
        "Aunque se crean de forma diferente a las variables normales, las funciones son como cualquier otro tipo de valor.\n",
        "Pueden ser asignadas y reasignadas a las variables, y más tarde referidas por esos nombres."
      ]
    },
    {
      "cell_type": "code",
      "metadata": {
        "id": "GzHt-Secb6_e"
      },
      "source": [
        "def multiplicar(x, y):\n",
        "   return x * y\n",
        "\n",
        "a = 4\n",
        "b = 7\n",
        "operacion = multiplicar\n",
        "print(operacion(a, b))"
      ],
      "execution_count": null,
      "outputs": []
    },
    {
      "cell_type": "markdown",
      "metadata": {
        "id": "oXbEHPqScQTX"
      },
      "source": [
        "<p><height=\"45px\" src=\"<a href=\"https://ibb.co/pZYMC0T\"><img src=\"https://i.ibb.co/ZL1WsdZ/poll.png\" align=\"left\" alt=\"\" width=\"4%\" height=\"5%\"></a><p> <H3><strong>&nbsp;Ejercicio 2:</strong> ¿Cuál es el resultado del siguiente código? "
      ]
    },
    {
      "cell_type": "code",
      "metadata": {
        "id": "OuY7b1gFcZIn"
      },
      "source": [
        "def gritar(palabra):\n",
        "   return palabra + \"!\"\n",
        "hablar = gritar\n",
        "salida = hablar(\"hola\")\n",
        "print(salida)"
      ],
      "execution_count": null,
      "outputs": []
    },
    {
      "cell_type": "markdown",
      "metadata": {
        "id": "_pF5y1RudUqK"
      },
      "source": [
        "## **Funciones como argumentos de otras funciones**\n",
        "Las funciones también pueden utilizarse como argumentos de otras funciones."
      ]
    },
    {
      "cell_type": "code",
      "metadata": {
        "id": "VnXJ22eNdo_U"
      },
      "source": [
        "def suma(x, y):\n",
        "  return x + y\n",
        "\n",
        "def suma_dos_veces(func, x, y):\n",
        "  return func(func(x, y), func(x, y))\n",
        "\n",
        "a = 5\n",
        "b = 10\n",
        "\n",
        "print(suma_dos_veces(suma, a, b))"
      ],
      "execution_count": null,
      "outputs": []
    },
    {
      "cell_type": "markdown",
      "metadata": {
        "id": "Y0V6MlnOeS06"
      },
      "source": [
        "Como puedes ver, la función **\"suma_dos_veces\"** toma una función como su argumento y la llama en su cuerpo."
      ]
    },
    {
      "cell_type": "markdown",
      "metadata": {
        "id": "dfHXKB34wwL0"
      },
      "source": [
        "<p><height=\"45px\" src=\"<a href=\"https://ibb.co/pZYMC0T\"><img src=\"https://i.ibb.co/Gkz8gxD/actividad.png\" align=\"left\" alt=\"\" width=\"4%\" height=\"5%\"></a><p>\n",
        "<font size=5><strong>&nbsp;Actividad de practica 5:</strong></font>\n",
        "\n",
        "Completa el código para que la función **\"cuadrado\"** se use como argumento de una función llamada **\"prueba\"** y úsala para calcular el cuadrado de 42.\n"
      ]
    },
    {
      "cell_type": "code",
      "metadata": {
        "id": "M3uEbrX2doKF"
      },
      "source": [
        "def cuadrado(x):\n",
        "  return x * x"
      ],
      "execution_count": null,
      "outputs": []
    },
    {
      "cell_type": "markdown",
      "metadata": {
        "id": "lpzyKVAWhumR"
      },
      "source": [
        "<p><height=\"45px\" src=\"<a href=\"https://ibb.co/pZYMC0T\"><img src=\"https://i.ibb.co/Gkz8gxD/actividad.png\" align=\"left\" alt=\"\" width=\"4%\" height=\"5%\"></a><p>\n",
        "<font size=5><strong>&nbsp;Actividad de practica 6:</strong></font>\n",
        "\n",
        "Crea una función llamada **\"suma\"** que al ingresarle una lista de números sume sus elementos."
      ]
    },
    {
      "cell_type": "code",
      "metadata": {
        "id": "dxKPllKHhvMk"
      },
      "source": [
        "def suma(secuencia):\n",
        "    acumulador = 0\n",
        "    for n in secuencia:\n",
        "        acumulador += n\n",
        "    return acumulador"
      ],
      "execution_count": null,
      "outputs": []
    },
    {
      "cell_type": "markdown",
      "metadata": {
        "id": "aY6K0WC-sqC5"
      },
      "source": [
        "# **Funciones lambdas o anónimas**\n",
        "\n",
        "La creación de una función normalmente (usando **def**) la asigna a una variable automáticamente, pero las funciones se pueden crear sobre la marcha, siempre que se creen utilizando la **sintaxis lambda**. Las funciones creadas de esta manera se conocen como **anónimas**.\n"
      ]
    },
    {
      "cell_type": "markdown",
      "metadata": {
        "id": "q1orAnfW2r-2"
      },
      "source": [
        "### **Definición de una función usando \"def\"**\n"
      ]
    },
    {
      "cell_type": "code",
      "metadata": {
        "id": "q6MUkULcwCud"
      },
      "source": [
        "def suma(x,y):\n",
        "  return x+y\n",
        "print(suma(2,3))"
      ],
      "execution_count": null,
      "outputs": []
    },
    {
      "cell_type": "markdown",
      "metadata": {
        "id": "6mq6P1pR21Gb"
      },
      "source": [
        "### **Definición de una función sin indentar el \"return\"**"
      ]
    },
    {
      "cell_type": "code",
      "metadata": {
        "id": "NJOYtTfk1fq-"
      },
      "source": [
        "def suma(x,y):return x+y\n",
        "print(suma(2,3))"
      ],
      "execution_count": null,
      "outputs": []
    },
    {
      "cell_type": "markdown",
      "metadata": {
        "id": "akWLL_Pf2_lL"
      },
      "source": [
        "### **Definición de una funcion usando \"lambda\"**"
      ]
    },
    {
      "cell_type": "code",
      "metadata": {
        "id": "A0Pbz-5mgbcH"
      },
      "source": [
        "print((lambda x,y: x+y)(2,3))"
      ],
      "execution_count": null,
      "outputs": []
    },
    {
      "cell_type": "code",
      "metadata": {
        "id": "iU0JZVLkFtWI"
      },
      "source": [
        "(lambda x: x*2)(30)"
      ],
      "execution_count": null,
      "outputs": []
    },
    {
      "cell_type": "markdown",
      "metadata": {
        "id": "K4wAw9oRFWb7"
      },
      "source": [
        "Las funciones lambda reciben su nombre del cálculo lambda, que es un modelo de cálculo inventado por **Alonzo Church**\n",
        "\n",
        "Las **funciones lambda no son tan poderosas** como las funciones con nombre.\n",
        "Sólo pueden hacer cosas que requieren una sola expresión, normalmente equivalente a una sola línea de código."
      ]
    },
    {
      "cell_type": "code",
      "metadata": {
        "id": "xNf3X_EPFdfu"
      },
      "source": [
        "#función nombrada\n",
        "def polinomio(x):\n",
        "    return x**2 + 5*x + 4\n",
        "print(polinomio(-4))\n",
        "\n",
        "#función anónima\n",
        "print((lambda x: x**2 + 5*x + 4) (-4))"
      ],
      "execution_count": null,
      "outputs": []
    },
    {
      "cell_type": "markdown",
      "metadata": {
        "id": "1NbJbGXHsXi8"
      },
      "source": [
        "<p><height=\"45px\" src=\"<a href=\"https://ibb.co/pZYMC0T\"><img src=\"https://i.ibb.co/ZL1WsdZ/poll.png\" align=\"left\" alt=\"\" width=\"4%\" height=\"5%\"></a><p> <H3><strong>&nbsp;Ejercicio 3:</strong> ¿Cuál es el resultado del siguiente código? "
      ]
    },
    {
      "cell_type": "code",
      "metadata": {
        "id": "kS6TN8FGqv2t"
      },
      "source": [
        "a = (lambda x: x*x)(8)\n",
        "print(a)"
      ],
      "execution_count": null,
      "outputs": []
    },
    {
      "cell_type": "markdown",
      "metadata": {
        "id": "_rphohFEtTat"
      },
      "source": [
        "\n",
        "---\n",
        "Las funciones lambda pueden asignarse a las variables y utilizarse como funciones normales."
      ]
    },
    {
      "cell_type": "code",
      "metadata": {
        "id": "zNLRyaMTtaTo"
      },
      "source": [
        "doble = lambda x: x * 2\n",
        "print(doble(7))"
      ],
      "execution_count": null,
      "outputs": []
    },
    {
      "cell_type": "markdown",
      "metadata": {
        "id": "42UKuW5pt4n6"
      },
      "source": [
        "Sin embargo, rara vez hay una buena razón para hacer esto por lo general es mejor definir una función con def."
      ]
    },
    {
      "cell_type": "markdown",
      "metadata": {
        "id": "YY7upYhxuX54"
      },
      "source": [
        "<p><height=\"45px\" src=\"<a href=\"https://ibb.co/pZYMC0T\"><img src=\"https://i.ibb.co/ZL1WsdZ/poll.png\" align=\"left\" alt=\"\" width=\"4%\" height=\"5%\"></a><p> <H3><strong>&nbsp;Ejercicio 4:</strong> ¿Cuál es el resultado del siguiente código? "
      ]
    },
    {
      "cell_type": "code",
      "metadata": {
        "id": "HvFrVHYbtUi7"
      },
      "source": [
        "triple = lambda x: x * 3\n",
        "suma = lambda x, y: x + y\n",
        "print(suma(triple(3), 4))"
      ],
      "execution_count": null,
      "outputs": []
    },
    {
      "cell_type": "markdown",
      "metadata": {
        "id": "BHa8P5tZrHoR"
      },
      "source": [
        "e# **MÓDULOS**\n",
        "\n",
        "Los **módulos** son piezas de código que otras personas han escrito para realizar tareas comunes, como generar números aleatorios, realizar operaciones matemáticas, etc.\n",
        "\n",
        "La forma básica de usar un módulo es añadir en la parte superior del código:\n",
        "\n",
        "<p><strong>&nbsp; &nbsp; &nbsp; &nbsp; &nbsp; &nbsp; &nbsp; &nbsp; &nbsp; &nbsp; &nbsp; &nbsp; &nbsp; &nbsp; &nbsp; &nbsp; &nbsp; &nbsp; &nbsp; &nbsp; &nbsp; &nbsp; &nbsp; &nbsp; &nbsp; &nbsp; &nbsp; &nbsp; &nbsp; &nbsp; &nbsp;import&nbsp; </strong><em>nombre del m&oacute;dulo</em></p>\n",
        "\n",
        "luego usarlo como :\n",
        "<p><em>&nbsp; &nbsp; &nbsp; &nbsp; &nbsp; &nbsp; &nbsp; &nbsp; &nbsp; &nbsp; &nbsp; &nbsp; &nbsp; &nbsp; &nbsp; &nbsp; &nbsp; &nbsp; &nbsp; &nbsp; &nbsp; &nbsp; &nbsp; &nbsp; &nbsp; &nbsp; &nbsp; &nbsp; &nbsp; &nbsp; nombre del modulo</em><strong>. objeto</strong></p>\n",
        "\n",
        "Donde **objeto** hace referencia a a una **función** o un **valor** en el módulo.\n"
      ]
    },
    {
      "cell_type": "markdown",
      "metadata": {
        "id": "lZETxrvQvEtr"
      },
      "source": [
        "### **Módulo random**"
      ]
    },
    {
      "cell_type": "code",
      "metadata": {
        "id": "lf84fUdGvVts"
      },
      "source": [
        "import random\n",
        "\n",
        "for i in range(5):\n",
        "   value = random.randint(1, 6)\n",
        "   print(value)"
      ],
      "execution_count": null,
      "outputs": []
    },
    {
      "cell_type": "markdown",
      "metadata": {
        "id": "C2WigyeswbhT"
      },
      "source": [
        "### **Módulo math**"
      ]
    },
    {
      "cell_type": "code",
      "metadata": {
        "id": "ICgTDqvxv43F",
        "colab": {
          "base_uri": "https://localhost:8080/",
          "height": 34
        },
        "outputId": "b3d98fe6-7fbb-45c0-a16c-27093f551404"
      },
      "source": [
        "import math\n",
        "num = 10\n",
        "print (math.sqrt(num))"
      ],
      "execution_count": null,
      "outputs": [
        {
          "output_type": "stream",
          "text": [
            "3.1622776601683795\n"
          ],
          "name": "stdout"
        }
      ]
    },
    {
      "cell_type": "code",
      "metadata": {
        "id": "__bt7WsMv91P",
        "colab": {
          "base_uri": "https://localhost:8080/",
          "height": 34
        },
        "outputId": "302f92a3-cf70-48da-d220-b306ce7d43ed"
      },
      "source": [
        "import math\n",
        "math.pi"
      ],
      "execution_count": null,
      "outputs": [
        {
          "output_type": "execute_result",
          "data": {
            "text/plain": [
              "3.141592653589793"
            ]
          },
          "metadata": {
            "tags": []
          },
          "execution_count": 34
        }
      ]
    },
    {
      "cell_type": "markdown",
      "metadata": {
        "id": "diNii7QcxNts"
      },
      "source": [
        "# **Otra forma de importar módulos**\n",
        "\n",
        "Hay otro tipo de importación que puede utilizarse **si sólo se necesitan ciertas funciones de un módulo**, esta tiene la sintaxis:\n",
        "\n",
        "<p><em><b>&nbsp; &nbsp; &nbsp; &nbsp; &nbsp; &nbsp; &nbsp; &nbsp; &nbsp; &nbsp; &nbsp; &nbsp; &nbsp; &nbsp; &nbsp; &nbsp; &nbsp; &nbsp; &nbsp; &nbsp; &nbsp; &nbsp;from </b>nombre del modulo<b> import</b> objeto</em></p>\n",
        "\n",
        "Donde **objeto** hace referencia a a una **función** o un **valor** en el módulo."
      ]
    },
    {
      "cell_type": "code",
      "metadata": {
        "id": "UqnqsAezyQsj",
        "colab": {
          "base_uri": "https://localhost:8080/",
          "height": 34
        },
        "outputId": "03aa1410-2dea-4e11-97ce-fa3b8af360d3"
      },
      "source": [
        "from math import pi\n",
        "print(pi)"
      ],
      "execution_count": null,
      "outputs": [
        {
          "output_type": "stream",
          "text": [
            "3.141592653589793\n"
          ],
          "name": "stdout"
        }
      ]
    },
    {
      "cell_type": "code",
      "metadata": {
        "id": "AJ8BLio_yiXI",
        "colab": {
          "base_uri": "https://localhost:8080/",
          "height": 34
        },
        "outputId": "ae80a912-fd3c-42a5-9599-431390143ddf"
      },
      "source": [
        "from math import sqrt,pi\n",
        "sqrt(pi)"
      ],
      "execution_count": null,
      "outputs": [
        {
          "output_type": "execute_result",
          "data": {
            "text/plain": [
              "1.7724538509055159"
            ]
          },
          "metadata": {
            "tags": []
          },
          "execution_count": 54
        }
      ]
    },
    {
      "cell_type": "markdown",
      "metadata": {
        "id": "NEDGTFrG2HCv"
      },
      "source": [
        "# **Importar todos los objetos del módulos**"
      ]
    },
    {
      "cell_type": "markdown",
      "metadata": {
        "id": "xsboRofu0mKL"
      },
      "source": [
        "Es posible importa todos los objetos de un módulo, con la siguiente sintaxis:\n",
        "\n",
        "<p><em><b>&nbsp; &nbsp; &nbsp; &nbsp; &nbsp; &nbsp; &nbsp; &nbsp; &nbsp; &nbsp; &nbsp; &nbsp; &nbsp; &nbsp; &nbsp; &nbsp; &nbsp; &nbsp; &nbsp; &nbsp; &nbsp; &nbsp;from </b>nombre del modulo<b> import</b> *</em></p>\n",
        "\n",
        "Esto generalmente se desaconseja, ya que confunde las variables de su código con las variables del módulo externo."
      ]
    },
    {
      "cell_type": "code",
      "metadata": {
        "id": "K2VCljQC1UBx",
        "colab": {
          "base_uri": "https://localhost:8080/",
          "height": 34
        },
        "outputId": "2ee5f649-271c-4c17-e2d0-f4648827122f"
      },
      "source": [
        "from math import sin,pi,radians\n",
        "\n",
        "sin(pi/6)\n",
        "sin(radians(30))"
      ],
      "execution_count": null,
      "outputs": [
        {
          "output_type": "execute_result",
          "data": {
            "text/plain": [
              "0.49999999999999994"
            ]
          },
          "metadata": {
            "tags": []
          },
          "execution_count": 1
        }
      ]
    },
    {
      "cell_type": "code",
      "metadata": {
        "id": "MOEa52Q20c8n",
        "colab": {
          "base_uri": "https://localhost:8080/",
          "height": 34
        },
        "outputId": "a2e8c31c-4b1c-441e-c7e0-581dbe41dcff"
      },
      "source": [
        "from math import *\n",
        "sin(radians(30))"
      ],
      "execution_count": null,
      "outputs": [
        {
          "output_type": "execute_result",
          "data": {
            "text/plain": [
              "0.49999999999999994"
            ]
          },
          "metadata": {
            "tags": []
          },
          "execution_count": 2
        }
      ]
    },
    {
      "cell_type": "markdown",
      "metadata": {
        "id": "lHJqmN2c3V0t"
      },
      "source": [
        "#**Importar módulos y objetos con un nombre personalizado**\n",
        "\n",
        "Puede importar un **módulo** u **objeto** con un nombre diferente usando la palabra clave **as**. Esto se utiliza principalmente cuando un módulo u objeto tiene un nombre largo o confuso."
      ]
    },
    {
      "cell_type": "markdown",
      "metadata": {
        "id": "Rn-okmRJ7piC"
      },
      "source": [
        "##**para el módulo**"
      ]
    },
    {
      "cell_type": "code",
      "metadata": {
        "id": "TfZ62Bft7H1U",
        "colab": {
          "base_uri": "https://localhost:8080/",
          "height": 34
        },
        "outputId": "9615cf85-7d4e-40cd-9c1c-c6448fd2b90a"
      },
      "source": [
        "import math as m\n",
        "\n",
        "m.sqrt(100)\n",
        "m.sin(m.radians(30))"
      ],
      "execution_count": null,
      "outputs": [
        {
          "output_type": "execute_result",
          "data": {
            "text/plain": [
              "0.49999999999999994"
            ]
          },
          "metadata": {
            "tags": []
          },
          "execution_count": 3
        }
      ]
    },
    {
      "cell_type": "markdown",
      "metadata": {
        "id": "Dt9cyJfy7w3V"
      },
      "source": [
        "## **Para el objeto función o valor**"
      ]
    },
    {
      "cell_type": "code",
      "metadata": {
        "id": "NS9FG_EN2l-4",
        "colab": {
          "base_uri": "https://localhost:8080/",
          "height": 34
        },
        "outputId": "b9b598d7-3acb-451e-f566-325dc383ca46"
      },
      "source": [
        "from math import sqrt as raiz_cua\n",
        "print(raiz_cua(100))"
      ],
      "execution_count": null,
      "outputs": [
        {
          "output_type": "stream",
          "text": [
            "10.0\n"
          ],
          "name": "stdout"
        }
      ]
    },
    {
      "cell_type": "code",
      "metadata": {
        "id": "xRHEG71J74_F",
        "colab": {
          "base_uri": "https://localhost:8080/",
          "height": 34
        },
        "outputId": "18307834-c5d2-4cc7-8d95-fff33f82d15a"
      },
      "source": [
        "from math import pi as p\n",
        "print(p)"
      ],
      "execution_count": null,
      "outputs": [
        {
          "output_type": "stream",
          "text": [
            "3.141592653589793\n"
          ],
          "name": "stdout"
        }
      ]
    },
    {
      "cell_type": "markdown",
      "metadata": {
        "id": "jYcOvG-d9Ojd"
      },
      "source": [
        "# **Tipos de módulos en python**\n",
        "\n",
        "Hay tres tipos principales de módulos en Python, **los que escribe usted mismo**, los que **instala desde fuentes externas** y los que están **preinstalados con Python**.\n",
        "\n",
        "\n",
        "El último tipo se llama **biblioteca estándar** ([www.python.org.](https://www.python.org/)) y contiene muchos módulos útiles. Algunos de los módulos útiles de la biblioteca estándar incluyen **string** , **re** , **datetime** , **math** , **random** , **os** , **multiprocessing** , **subprocess** , **socket**, **email** , **json** , **doctest** , **unittest** , **pdb**.\n",
        "\n",
        "\n",
        "Las tareas que se pueden realizar la biblioteca estándar incluyen análisis de cadenas , serialización de datos, pruebas, depuración y manipulación de fechas, correos electrónicos, argumentos de línea de comandos y mucho más."
      ]
    },
    {
      "cell_type": "markdown",
      "metadata": {
        "id": "PMmR8XxxBWsC"
      },
      "source": [
        "## **Módulo sympy**\n",
        "SymPy es una biblioteca de Python para matemáticas simbólicas. Su propósito es llegar a ser un sistema de álgebra por computadora (CAS) completo manteniendo el código tan simple como sea posible para poder ser legible y extensible de manera fácil. SymPy está escrito en Python enteramente.\n",
        "[https://www.sympy.org/es/](https://www.sympy.org/es/)\n",
        "\n",
        "\n"
      ]
    },
    {
      "cell_type": "code",
      "metadata": {
        "id": "c-z5jHzv9TeZ",
        "colab": {
          "base_uri": "https://localhost:8080/",
          "height": 44
        },
        "outputId": "8e125ac2-2eb7-4bc5-8c13-019b7d837e79"
      },
      "source": [
        "#init_printing()\n",
        "from sympy import *\n",
        "x, y, z = symbols('x y z')\n",
        "integrate(sqrt(x), x)"
      ],
      "execution_count": null,
      "outputs": [
        {
          "output_type": "execute_result",
          "data": {
            "image/png": "[encoded data removed]",
            "text/latex": "$$\\frac{2 x^{\\frac{3}{2}}}{3}$$",
            "text/plain": [
              "   3/2\n",
              "2⋅x   \n",
              "──────\n",
              "  3   "
            ]
          },
          "metadata": {
            "tags": []
          },
          "execution_count": 3
        }
      ]
    },
    {
      "cell_type": "markdown",
      "metadata": {
        "id": "Nc9tTmdNDphQ"
      },
      "source": [
        "## **Módulo numpy**\n",
        "\n",
        "NumPy es la biblioteca numérica de python, que le agrega mayor soporte para vectores y matrices, es una biblioteca de funciones matemáticas de alto nivel para operar con vectores o matrices. El ancestro de NumPy,  fue creado originalmente por **Jim Hugunin** con algunas contribuciones de otros desarrolladores. [https://numpy.org/](https://numpy.org/)"
      ]
    },
    {
      "cell_type": "code",
      "metadata": {
        "id": "Kw_yXZV7Ds5m"
      },
      "source": [
        "import numpy as np\n",
        "x = np.array([2,3,1,0])\n",
        "y = np.array([2,3,1,0])\n",
        "x+y"
      ],
      "execution_count": null,
      "outputs": []
    },
    {
      "cell_type": "markdown",
      "metadata": {
        "id": "rwOnrNkejI1y"
      },
      "source": [
        "## **Módulo pandas**\n",
        "Pandas es una biblioteca de Python escrita como extensión de **NumPy** para manipulación y análisis de datos.\n",
        "[https://pandas.pydata.org/](https://pandas.pydata.org/)"
      ]
    },
    {
      "cell_type": "code",
      "metadata": {
        "id": "9iBLSwHZjKkz"
      },
      "source": [
        "import pandas as pd \n",
        "df = pd.read_csv(\"/content/titanic.csv\")\n",
        "df"
      ],
      "execution_count": null,
      "outputs": []
    },
    {
      "cell_type": "code",
      "metadata": {
        "id": "6utIsdSzooE3"
      },
      "source": [
        "df.describe()"
      ],
      "execution_count": null,
      "outputs": []
    },
    {
      "cell_type": "markdown",
      "metadata": {
        "id": "Xhk_g_NKr1z1"
      },
      "source": [
        "## **Módulo maplotlib**\n",
        "Es una biblioteca para la generación de gráficos a partir de datos contenidos en listas o arrays.\n",
        "[https://matplotlib.org/](https://matplotlib.org/)"
      ]
    },
    {
      "cell_type": "code",
      "metadata": {
        "id": "ZIXP2-4Ir6jL"
      },
      "source": [
        "import numpy as np\n",
        "import matplotlib.pyplot as plt\n",
        "\n",
        "def h(x): \n",
        "  return np.sin(x)\n",
        "\n",
        "x = np.linspace(0,10,100)\n",
        "y = h(x)\n",
        "\n",
        "plt.plot(x, y)"
      ],
      "execution_count": null,
      "outputs": []
    },
    {
      "cell_type": "code",
      "metadata": {
        "id": "sVASf-Evuqpu"
      },
      "source": [
        "import numpy as np\n",
        "import matplotlib.pyplot as plt\n",
        "\n",
        "x = np.linspace(0,10,100)\n",
        "y = (lambda x:np.sin(x))(x)\n",
        "\n",
        "plt.plot(X, y)"
      ],
      "execution_count": null,
      "outputs": []
    }
  ]
}